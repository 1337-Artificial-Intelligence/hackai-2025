{
 "cells": [
  {
   "cell_type": "markdown",
   "metadata": {
    "id": "V6-xujw2a1cK"
   },
   "source": [
    "# 🏆 VLM: Finetuning\n",
    "[![Open In Colab](https://colab.research.google.com/assets/colab-badge.svg)](https://colab.research.google.com/github/1337-Artificial-Intelligence/hackai-2025/blob/main/notebooks/vlm_finetuning.ipynb)\n",
    "\n",
    "As you learned in the [VLM Usage notebook](https://colab.research.google.com/github/1337-Artificial-Intelligence/hackai-2025/blob/main/notebooks/vlm_usage.ipynb)\n",
    ", Vision-Language Models (VLMs) are type of models that can understand both images and text and perform various tasks, one of which is Visual Question Answering (VQA). However, they may struggle to understand the nuances of the Darija dialect.\n",
    "In this notebook, we will fine-tune a VLM to better understand and respond to questions in Darija."
   ]
  },
  {
   "cell_type": "markdown",
   "metadata": {
    "id": "oaqu7tOyJCUN"
   },
   "source": [
    "## Model Diagram: Trained & Frozen Parts"
   ]
  },
  {
   "cell_type": "markdown",
   "metadata": {
    "id": "lVkAxCNVLQ7F"
   },
   "source": [
    "In this challenge, we're going to fine-tune the [Qwen2-VL-7B-Instruct](https://huggingface.co/Qwen/Qwen2-VL-7B-Instruct) model. This VLM consists of three key components:\n",
    "\n",
    "- Vision Encoder (ViT) – processes images\n",
    "\n",
    "- Language Model (QwenLM) – generates and understands text\n",
    "\n",
    "- Projector (CrossAttn) – connects visual features to the language model\n",
    "\n",
    "The diagram below illustrates the model's development stages.\n",
    "\n",
    "**😅 Don’t Freak Out!**\n",
    "\n",
    "Since the model is already pre-trained, we're not going to do all the stages—just the final one: Supervised Fine-tuning on a specific task and dataset.\n",
    "\n",
    "\n",
    "<p align=\"center\" >\n",
    "  <img src=\"https://images.prismic.io/encord/65e0b83727237c2bb829aa59_image5.png?auto=format,compress\" width=\"650\" title=\"Qwen2 VL Training Stages\"/>\n",
    "</p>\n",
    "\n",
    "🔹 **Stage 1: Pretraining**\n",
    "\n",
    "In this initial phase, only the vision encoder and the projector are trained using image-text pairs with low-resolution images.\n",
    "The goal is to help the model learn basic vision-language alignment, like:\n",
    " “What does this image generally describe in words?”\n",
    "\n",
    "\n",
    "🔸 **Stage 2: Multi-task Pretraining**\n",
    "\n",
    "Now, all three components (ViT, projector, and LLM) are trained on multi-task and interleaved vision-language datasets (VQA, OCR, ..) with high-resolution images. This stage helps the model understand and reason across a wide variety of complex tasks.\n",
    "\n",
    "🔸 **Stage 3: Supervised Fine-tuning (What we’ll Redo!)**\n",
    "\n",
    "In this final stage, the model is tuned for chat-style, task-specific performance. Only the LLM is fine-tuned (the ViT is frozen)\n",
    "\n",
    "Trained on chat-interleaved VL data, such as:\n",
    "\n",
    "🗨️ User: “What is written on this sign?”\n",
    "\n",
    "🗨️ Model: “It says ‘Caution: Wet Floor.’”\n",
    "\n",
    "This stage helps the model become better at giving helpful, natural answers in interactive settings."
   ]
  },
  {
   "cell_type": "markdown",
   "metadata": {
    "id": "D2gUKMd5Jamr"
   },
   "source": [
    "## Finetuning"
   ]
  },
  {
   "cell_type": "markdown",
   "metadata": {
    "id": "muej--lRagz8"
   },
   "source": [
    "### 1. Install Dependencies\n",
    "\n",
    "Let’s start by installing the essential libraries we’ll need for fine-tuning! 🚀\n"
   ]
  },
  {
   "cell_type": "code",
   "execution_count": null,
   "metadata": {
    "id": "nMFKmUECagz8"
   },
   "outputs": [],
   "source": [
    "%%capture\n",
    "import os\n",
    "if \"COLAB_\" not in \"\".join(os.environ.keys()):\n",
    "    !pip install unsloth\n",
    "else:\n",
    "    # Do this only in Colab notebooks! Otherwise use pip install unsloth\n",
    "    !pip install --no-deps bitsandbytes accelerate xformers==0.0.29.post3 peft trl==0.15.2 triton cut_cross_entropy unsloth_zoo\n",
    "    !pip install sentencepiece protobuf \"datasets>=3.4.1\" huggingface_hub hf_transfer\n",
    "    !pip install --no-deps unsloth"
   ]
  },
  {
   "cell_type": "markdown",
   "metadata": {
    "id": "KUJXRo9xbC-R"
   },
   "source": [
    "Authenticate with your Hugging Face account to save and share your model directly from this notebook 🗝️."
   ]
  },
  {
   "cell_type": "code",
   "execution_count": null,
   "metadata": {
    "id": "iDDWlz62a_Ad"
   },
   "outputs": [],
   "source": [
    "from huggingface_hub import notebook_login\n",
    "\n",
    "notebook_login()"
   ]
  },
  {
   "cell_type": "markdown",
   "metadata": {
    "id": "9xLDGk41C7IF"
   },
   "source": [
    "### 2. Load Model\n"
   ]
  },
  {
   "cell_type": "markdown",
   "metadata": {
    "id": "aoOaiVZmbMy6"
   },
   "source": [
    "Next, we’ll load the model and the tokenizer to prepare for finetuning/inference."
   ]
  },
  {
   "cell_type": "code",
   "execution_count": null,
   "metadata": {
    "colab": {
     "base_uri": "https://localhost:8080/"
    },
    "id": "QmUBVEnvCDJv",
    "outputId": "e432d332-1f29-4fa8-8002-daa3ea45da63"
   },
   "outputs": [],
   "source": [
    "from unsloth import FastVisionModel # FastLanguageModel for LLMs\n",
    "import torch\n",
    "\n",
    "model, tokenizer = FastVisionModel.from_pretrained(\n",
    "    \"unsloth/Qwen2.5-VL-7B-Instruct-bnb-4bit\",\n",
    "    load_in_4bit = True, # Use 4bit to reduce memory use. False for 16bit LoRA.\n",
    "    use_gradient_checkpointing = \"unsloth\", # True or \"unsloth\" for long context\n",
    ")"
   ]
  },
  {
   "cell_type": "markdown",
   "metadata": {
    "id": "SXd9bTZd1aaL"
   },
   "source": [
    "We now add LoRA adapters for parameter efficient finetuning - this allows us to only efficiently train 1% of all parameters.\n",
    "\n",
    "We can finetune ONLY the **Vision Encoder** part of the model, or ONLY the **LLM** part. Or you can select both! You can also select to finetune the attention or the MLP layers!"
   ]
  },
  {
   "cell_type": "code",
   "execution_count": null,
   "metadata": {
    "id": "6bZsfBuZDeCL"
   },
   "outputs": [],
   "source": [
    "model = FastVisionModel.get_peft_model(\n",
    "    model,\n",
    "    finetune_vision_layers     = True, # False if not finetuning vision layers\n",
    "    finetune_language_layers   = True, # False if not finetuning language layers\n",
    "    finetune_attention_modules = True, # False if not finetuning attention layers\n",
    "    finetune_mlp_modules       = True, # False if not finetuning MLP layers\n",
    "\n",
    "    r = 16,           # The larger, the higher the accuracy, but might overfit\n",
    "    lora_alpha = 16,  # Recommended alpha == r at least\n",
    "    lora_dropout = 0,\n",
    "    bias = \"none\",\n",
    "    random_state = 3407,\n",
    "    use_rslora = False,\n",
    "    loftq_config = None,\n",
    "    # target_modules = \"all-linear\", # Optional now! Can specify a list if needed\n",
    ")"
   ]
  },
  {
   "cell_type": "markdown",
   "metadata": {
    "id": "vITh0KVJ10qX"
   },
   "source": [
    "### 3. Load Dataset 📁\n",
    "\n",
    "We’ll load the [Darija-VLM-Dataset](https://huggingface.co/datasets/HackAI-2025/Darija-VLM-Dataset) dataset, which provides images along with corresponding questions and answers for fine-tuning visual question-answering models."
   ]
  },
  {
   "cell_type": "code",
   "execution_count": null,
   "metadata": {
    "colab": {
     "base_uri": "https://localhost:8080/",
     "height": 145,
     "referenced_widgets": [
      "292c1dd5250043a6b573eabffd54f671",
      "185c3cfe03504230bbf02831113d7b1d",
      "3f8544e73b1f47b7917f77993306242e",
      "4d8f829e586848ffa1fad3a2a122edc1",
      "6a2bc5c055f9475697ef362a7777375b",
      "dfe5e44de84c4dfe938fe9abffdd2a49",
      "5c143afa0e6b48e98d253518a2064eb7",
      "2b4cc8e9ac8a4f72b69d324cebc4fbfe",
      "68c999c88046404680a47af5b9c59ad3",
      "f02f19f2a9894c67b695bacc6fb60d99",
      "bfcef6a6ece0486a8c106410f49e1c8b",
      "b40e3b33484f40e4afcbcad6df2c89c8",
      "c57bf933f0e644fd8a424ffc9b1a5207",
      "19c29ce711e04ba69769996ede909376",
      "f34cc638c3dc4e658991f0dfb3fc8ee7",
      "62603fbf9c414c6e94a19ff7c14a6102",
      "60207dc73d364b608734f5c3a3b2db90",
      "4db103ff76604484bcaac6a796d34018",
      "ee520fcfc9614bd2b8e61532c40693a4",
      "0b9016e5263b4a9a901909fdf56fbb5c",
      "58b8fe06ce344b12a68e49b7f40fb4e4",
      "0ac54ff2a9d74a02b870a1e37ec4c09a",
      "4d468eb514f544ba8bf4d7050d639d06",
      "cf1d2fee188e4779a0c8806523c03662",
      "99ac67964a8a46d4ba2fad227dc90953",
      "5c98e629ea954ab2ac904c2f088b765a",
      "1bb5a433a0334e2c88ca69e16b259811",
      "c202aa8ba8c2461aa902c16d50b4a2a6",
      "5fb7fce65a7e4b61b3a20a2538ab4ae9",
      "a5b3ecbfeed34ad4abf8484e3effa433",
      "69fefaace5d24cfa8656d709184e7258",
      "9ea855ff97854d289c411f60163b47d1",
      "2a020bdf496547609e0961f389457fa0",
      "8a735cc4f5c04101813e3b44255cc4b6",
      "eb02c70e8bd846139a3fbac1ae775fb5",
      "f6b0776c5652435082731e23db2be527",
      "67ed079e7cb74dbf9fe57e12800fb512",
      "7e8545ee0f3644dd8d82954e7f14f331",
      "644cbf4725e244a3b4e08e1ff8532286",
      "92f5f997e0994f599cab9927d9579808",
      "15b7f7237f1f438dad7e8472c58d68b5",
      "4cdd4ff2babf401a9d9560eb978d47fe",
      "1223643e5de34146bbfac7111d876a6b",
      "a1fb9492e09b4b98a185476ef10894dc"
     ]
    },
    "id": "LjY75GoYUCB8",
    "outputId": "2fec887f-b56f-47ab-f864-f640a2318bdf"
   },
   "outputs": [],
   "source": [
    "from datasets import load_dataset\n",
    "dataset = load_dataset(\"HackAI-2025/darija-vlm-dataset\", split = \"train\")"
   ]
  },
  {
   "cell_type": "markdown",
   "metadata": {
    "id": "W1W2Qhsz6rUT"
   },
   "source": [
    "Let's take an overview look at the dataset. We shall see what the 2nd image is, and what caption it had."
   ]
  },
  {
   "cell_type": "code",
   "execution_count": null,
   "metadata": {
    "colab": {
     "base_uri": "https://localhost:8080/"
    },
    "id": "bfcSGwIb6p_R",
    "outputId": "9100c231-8b55-4a1b-c38c-b92742c8c811"
   },
   "outputs": [],
   "source": [
    "dataset"
   ]
  },
  {
   "cell_type": "code",
   "execution_count": null,
   "metadata": {
    "colab": {
     "base_uri": "https://localhost:8080/",
     "height": 564
    },
    "id": "uOLWY2936t1n",
    "outputId": "907334e9-fa47-4475-eb1a-ed6a25f5ef1e"
   },
   "outputs": [],
   "source": [
    "print(\"Question: \", dataset[2][\"question\"])\n",
    "print(\"Answer: \", dataset[2][\"answer\"])\n",
    "\n",
    "dataset[2][\"image\"]"
   ]
  },
  {
   "cell_type": "markdown",
   "metadata": {
    "id": "VX8oZZVncFjB"
   },
   "source": [
    "We will split the dataset into:\n",
    "- Train : 80% to finetune the model\n",
    "- Validation : 10% to validate the model during the finetuning\n",
    "- Test : 10% to test the model after the finetuning"
   ]
  },
  {
   "cell_type": "code",
   "execution_count": null,
   "metadata": {
    "colab": {
     "base_uri": "https://localhost:8080/"
    },
    "id": "TyCvY8Pgstcx",
    "outputId": "3e43c8b5-8e21-4609-fdda-0b488b73435a"
   },
   "outputs": [],
   "source": [
    "train_valtest = dataset.train_test_split(test_size=0.2, seed=42, shuffle=True)\n",
    "train_ds = train_valtest[\"train\"]\n",
    "valtest_dataset = train_valtest[\"test\"]\n",
    "\n",
    "val_test = valtest_dataset.train_test_split(test_size=0.5, seed=42, shuffle=True)\n",
    "val_ds = val_test[\"train\"]\n",
    "test_ds = val_test[\"test\"]\n",
    "\n",
    "print(f\"Train dataset size: {len(train_ds)}\")\n",
    "print(f\"Validation dataset size: {len(val_ds)}\")\n",
    "print(f\"Test dataset size: {len(test_ds)}\")"
   ]
  },
  {
   "cell_type": "markdown",
   "metadata": {
    "id": "K9CBpiISFa6C"
   },
   "source": [
    "We’ll format the dataset into a chatbot structure, with the system message, image, user query, and answer for each interaction.\n",
    "\n",
    "```python\n",
    "[\n",
    "{\n",
    "\"role\": \"system\",\n",
    "\"content\": [{\"type\": \"text\", \"text\": system_message}]\n",
    "}\n",
    "{ \"role\": \"user\",\n",
    "  \"content\": [{\"type\": \"text\",  \"text\": Q}, {\"type\": \"image\", \"image\": image} ]\n",
    "},\n",
    "{ \"role\": \"assistant\",\n",
    "  \"content\": [{\"type\": \"text\",  \"text\": A} ]\n",
    "},\n",
    "]\n",
    "```"
   ]
  },
  {
   "cell_type": "code",
   "execution_count": null,
   "metadata": {
    "id": "oPXzJZzHEgXe"
   },
   "outputs": [],
   "source": [
    "system_message = \"\"\"You are a Vision Language Model (VLM), designed to understand, describe, and explain everything that appears in images.\n",
    "Your job is to extract meaningful information from what you see, and provide clear and contextually relevant answers, in Moroccan Darija.\"\"\"\n",
    "\n",
    "def convert_to_conversation(sample):\n",
    "    conversation = [\n",
    "        {\n",
    "          \"role\": \"system\",\n",
    "          \"content\": [{\"type\": \"text\", \"text\": system_message}]\n",
    "        },\n",
    "        { \"role\": \"user\",\n",
    "          \"content\" : [\n",
    "            {\"type\" : \"text\",  \"text\"  : sample['question']},\n",
    "            {\"type\" : \"image\", \"image\" : sample[\"image\"]} ]\n",
    "        },\n",
    "        { \"role\" : \"assistant\",\n",
    "          \"content\" : [\n",
    "            {\"type\" : \"text\",  \"text\"  : sample[\"answer\"]} ]\n",
    "        },\n",
    "    ]\n",
    "    return { \"messages\" : conversation }"
   ]
  },
  {
   "cell_type": "markdown",
   "metadata": {
    "id": "FY-9u-OD6_gE"
   },
   "source": [
    "Now, let’s format the data using the chatbot structure. This will set up the interactions for the model."
   ]
  },
  {
   "cell_type": "code",
   "execution_count": null,
   "metadata": {
    "id": "gFW2qXIr7Ezy"
   },
   "outputs": [],
   "source": [
    "train_dataset = [convert_to_conversation(sample) for sample in train_ds]\n",
    "val_dataset = [convert_to_conversation(sample) for sample in val_ds]\n",
    "test_dataset = [convert_to_conversation(sample) for sample in test_ds]"
   ]
  },
  {
   "cell_type": "markdown",
   "metadata": {
    "id": "ndDUB23CGAC5"
   },
   "source": [
    "First, let’s inspect the internal structure of the dataset after formating it to understand how it is organized and visualize some examples of images, questions and their corresponding answers."
   ]
  },
  {
   "cell_type": "code",
   "execution_count": null,
   "metadata": {
    "colab": {
     "base_uri": "https://localhost:8080/"
    },
    "id": "gGFzmplrEy9I",
    "outputId": "91edd722-9ee1-410b-cc88-47e930bc4240"
   },
   "outputs": [],
   "source": [
    "train_dataset[0]"
   ]
  },
  {
   "cell_type": "markdown",
   "metadata": {
    "id": "idAEIeSQ3xdS"
   },
   "source": [
    "<a name=\"Train\"></a>\n",
    "###4. Train the model\n",
    "We will use Supervised Fine-Tuning (SFT) to improve our model's performance on the VQA task. To achieve this, we'll define the training arguments with the [SFTConfig](https://huggingface.co/docs/trl/sft_trainer) class from the [TRL library](https://huggingface.co/docs/trl/index). SFT leverages labeled data to help the model generate more accurate responses, adapting it to the task. This approach enhances the model's ability to understand and respond to visual queries more effectively.\n",
    "\n",
    "We use `UnslothVisionDataCollator` which will help in our vision finetuning setup."
   ]
  },
  {
   "cell_type": "code",
   "execution_count": null,
   "metadata": {
    "colab": {
     "base_uri": "https://localhost:8080/"
    },
    "id": "95_Nn-89DhsL",
    "outputId": "8241d9ce-aefe-4bcd-b1b3-0094527f7ee6"
   },
   "outputs": [],
   "source": [
    "from unsloth import is_bf16_supported\n",
    "from unsloth.trainer import UnslothVisionDataCollator\n",
    "from trl import SFTTrainer, SFTConfig\n",
    "\n",
    "FastVisionModel.for_training(model) # Enable for training!\n",
    "\n",
    "# num_steps = (len(train_dataset) // batch_size) * epochs\n",
    "\n",
    "trainer = SFTTrainer(\n",
    "    model=model,\n",
    "    tokenizer=tokenizer,\n",
    "    data_collator=UnslothVisionDataCollator(model, tokenizer), # Must use!\n",
    "    train_dataset=train_dataset,\n",
    "    eval_dataset=val_dataset,\n",
    "    args = SFTConfig(\n",
    "        output_dir=\"Qwen2-VL-7B-Instruct-Darija-VQA\",\n",
    "        per_device_train_batch_size=4,\n",
    "        gradient_accumulation_steps=4,\n",
    "        warmup_steps=5,\n",
    "        max_steps = 50,\n",
    "        # num_train_epochs=1, # Set this instead of max_steps for full training runs\n",
    "        learning_rate=2e-4,\n",
    "        fp16=not is_bf16_supported(),\n",
    "        bf16=is_bf16_supported(),\n",
    "        logging_steps=10,\n",
    "        eval_steps=100,\n",
    "        eval_strategy=\"steps\",\n",
    "        optim=\"adamw_8bit\",\n",
    "        weight_decay=0.01,\n",
    "        lr_scheduler_type=\"linear\",\n",
    "        seed=3407,\n",
    "        report_to=\"wandb\",     # For Weights and Biases\n",
    "        push_to_hub=True,\n",
    "        hub_model_id=\"username/Qwen2-VL-7B-Instruct-Darija-VQA\",\n",
    "        hub_token=\"\",\n",
    "        hub_strategy=\"all_checkpoints\",\n",
    "\n",
    "        # You MUST put the below items for vision finetuning:\n",
    "        remove_unused_columns=False,\n",
    "        dataset_text_field=\"\",\n",
    "        dataset_kwargs={\"skip_prepare_dataset\": True},\n",
    "        dataset_num_proc=4,\n",
    "        max_seq_length=2048,\n",
    "    ),\n",
    ")"
   ]
  },
  {
   "cell_type": "code",
   "execution_count": null,
   "metadata": {
    "colab": {
     "base_uri": "https://localhost:8080/",
     "height": 686
    },
    "id": "yqxqAZ7KJ4oL",
    "outputId": "9a418a13-2e87-43d4-a161-081cdcfa92b6"
   },
   "outputs": [],
   "source": [
    "trainer_stats = trainer.train()"
   ]
  },
  {
   "cell_type": "markdown",
   "metadata": {
    "id": "uMuVrWbjAzhc"
   },
   "source": [
    "<a name=\"Save\"></a>\n",
    "To save the final model as LoRA adapters, either use Huggingface's `push_to_hub` for an online save or `save_pretrained` for a local save.\n",
    "\n",
    "**[NOTE]** This ONLY saves the LoRA adapters, and not the full model."
   ]
  },
  {
   "cell_type": "code",
   "execution_count": null,
   "metadata": {
    "colab": {
     "base_uri": "https://localhost:8080/",
     "height": 162,
     "referenced_widgets": [
      "447f109a28364b39a1a7d42a2e6d912f",
      "2cc98c5560934bf9a08313dfa6b621fe",
      "2e64a932ac0e49289de91fb4ce3b7671",
      "6f660c30da98428d8932239730ba88ab",
      "d85aa6c9d38647c4809952bd8f771b40",
      "33a217cd6a704a538c5e5c93736836bb",
      "417409bcc58f45fab30f1519f922bc79",
      "ce6f49368e6547d19b72e41e55f20e97",
      "29a0731f0f4140e989dcd6cde438a344",
      "863d264e90de44d0ad6abcfa313d61b9",
      "a5b9af73bb324a62a4117cfdfc8a0a05",
      "94b13d5b0d334971aeccee51e2763819",
      "c4f1f563c5824406a5b8af82bbd12e88",
      "89f2ec9bbb1d4f94815fc2fb97eb2b9f",
      "4149bb13a624473293c064ab47f0b6bd",
      "2eb7787c06334787846c159a3b252dfc",
      "b3b2d21af118452da414ed22acdd7e4d",
      "7a5b84e0dc5f4e968b5cb9e53fa84795",
      "53ada8af56df4cf08c29d106de69a7de",
      "10a42b7f506e4964a0b46a0de8e9aab5",
      "832f7028559947f189b9f2e2386e50d7",
      "227f17a9e0ae4189b3bfd8ac9132362e",
      "9ab1b0123c8e4bdf8925f5d6811c6cb8",
      "3ade115109ea4518b2222b401ff88908",
      "2059ccacb12a423a9590c91d44352382",
      "c437c1c7705944cea93db8dfbc6ea8f7",
      "5ef685782b54405786d58d5cc018f79a",
      "df18c64286b64676a58ca7be97a285a1",
      "aa1871150dde4d4eaacdbb1660df8b3f",
      "bf61e9a289044d9fa25ae080be6fefee",
      "a001a99292b74111a639ecae402da756",
      "ff80b6966ba94cf4b301c4c8f449b5b3",
      "cc35614aa5eb4d43a95d5d0158e6729e",
      "507a03464b7742c1b6c6a7718da69f4a",
      "b9fdbd1d1a3540759a8b6fa08504783b",
      "8d0a749ca9c9428287e189bb114de28b",
      "63f4113bceea478ba1d9217b08f1e91b",
      "3fd35bbce3cc4ed585920bcc4ee6bd19",
      "a8083dbd4b3d4e9fb5791295127756e4",
      "d6e9086093f64dda92d5a3eaaddd0dde",
      "f199af75a2e44eb98c6ad10b854b97b7",
      "ceed49f0abb94ff6aaf1bc178a76f7cd",
      "9e17166ba7594f9680657b29b1265577",
      "1a20a32f916047bd8de4e4ca3d3de80b"
     ]
    },
    "id": "upcOlWe7A1vc",
    "outputId": "2c8d2293-5e63-4eb2-964e-5b7b484f5eac"
   },
   "outputs": [],
   "source": [
    "model.save_pretrained(\"lora_model\")  # Local saving\n",
    "tokenizer.save_pretrained(\"lora_model\")\n",
    "model.push_to_hub(\"username/lora_model\", token = \"\")\n",
    "tokenizer.push_to_hub(\"username/lora_model\", token = \"\")"
   ]
  },
  {
   "cell_type": "markdown",
   "metadata": {
    "id": "De9dMdX8JhZm"
   },
   "source": [
    "## Evaluation"
   ]
  },
  {
   "cell_type": "markdown",
   "metadata": {
    "id": "fFkxuszAZrWD"
   },
   "source": [
    "### Quantitative Evaluation\n",
    "Investigating the model’s **Loss**"
   ]
  },
  {
   "cell_type": "markdown",
   "metadata": {
    "id": "uWUgDJRTari5"
   },
   "source": [
    "![image.png](data:image/png;base64,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)\n",
    "\n",
    "\n",
    "The model loss: The lower it gets, the more correct the model becomes.\n",
    "In the above curve you’re seeing:\n",
    "\n",
    "- The orange line is the training loss : How well the model is doing on the data it’s learning from.\n",
    "\n",
    "- The blue line is the evaluation loss : How well the model performs on unseen data.\n",
    "\n",
    "What does this chart say?\n",
    "- Loss starts high (~7), meaning the model initially struggled with the task.\n",
    "- As training progresses, both training and evaluation loss drop quickly and stabilize around 0.8.\n",
    "\n",
    "- The parallel decline suggests the model isn’t just memorizing, it’s genuinely learning and generalizing."
   ]
  },
  {
   "cell_type": "markdown",
   "metadata": {
    "id": "iA74fkW-Zv9u"
   },
   "source": [
    "### Qualitative Evaluation\n",
    "Testing how the model responds in practice, beyond just the numbers."
   ]
  },
  {
   "cell_type": "markdown",
   "metadata": {
    "id": "AOlTVe0jwBZ0"
   },
   "source": [
    "Now that we’ve given our model a crash course on the task on Darija VQA, it’s time to see if it actually learned something!\n",
    "\n",
    "Let’s test the VLM again and compare its performance before and after fine-tuning.\n",
    "We’ll use a simple inference function to ask it some questions and observe how its answers have improved (hopefully 🤞).\n",
    "\n"
   ]
  },
  {
   "cell_type": "code",
   "execution_count": null,
   "metadata": {
    "id": "CrBkauN6wct5"
   },
   "outputs": [],
   "source": [
    "def inference(model, tokenizer, messages, image):\n",
    "  FastVisionModel.for_inference(model) # Enable for inference!\n",
    "\n",
    "  input_text = tokenizer.apply_chat_template(messages, add_generation_prompt = True)\n",
    "  inputs = tokenizer(\n",
    "      image,\n",
    "      input_text,\n",
    "      add_special_tokens = False,\n",
    "      return_tensors = \"pt\",\n",
    "  ).to(\"cuda\")\n",
    "\n",
    "  from transformers import TextStreamer\n",
    "  text_streamer = TextStreamer(tokenizer, skip_prompt = True)\n",
    "  _ = model.generate(**inputs, streamer = text_streamer, max_new_tokens = 128,\n",
    "                    use_cache = True, temperature = 1.5, min_p = 0.1)"
   ]
  },
  {
   "cell_type": "markdown",
   "metadata": {
    "id": "MMwj0umCWZIr"
   },
   "source": [
    "Before finetuning"
   ]
  },
  {
   "cell_type": "code",
   "execution_count": null,
   "metadata": {
    "colab": {
     "base_uri": "https://localhost:8080/"
    },
    "id": "DyL7PMTCuaAk",
    "outputId": "09854728-c5d0-4acf-9628-f30e3b329ffb"
   },
   "outputs": [],
   "source": [
    "test_index = 34\n",
    "messages = test_dataset[test_index]['messages'][0:2]\n",
    "image = messages[1]['content'][1]['image']\n",
    "\n",
    "question = test_dataset[test_index]['messages'][0:2][1]['content'][0]['text']\n",
    "ground_truth = test_dataset[test_index]['messages'][2]['content'][0]['text']\n",
    "\n",
    "print(\"Question: \", question)\n",
    "print(\"Original Answer: \", ground_truth)\n",
    "print(\"Model Answer: \")\n",
    "\n",
    "inference(model, tokenizer, messages, image)"
   ]
  },
  {
   "cell_type": "code",
   "execution_count": null,
   "metadata": {
    "colab": {
     "base_uri": "https://localhost:8080/",
     "height": 529
    },
    "id": "V7c6L5DE0lzM",
    "outputId": "161a5fa9-e8de-4266-9ed9-d16167d50f44"
   },
   "outputs": [],
   "source": [
    "image"
   ]
  },
  {
   "cell_type": "markdown",
   "metadata": {
    "id": "GyHsbsTNxx7Y"
   },
   "source": [
    "The model mentions general architectural terms like \"بناء\" hinting at some visual cue recognition.\n",
    "\n",
    "❌ Key Issues:\n",
    "- Incoherent: Ends with nonsensical, hallucinated phrases.\n",
    "\n",
    "- Irrelevant: Doesn’t clearly answer if it’s a building.\n",
    "\n",
    "- Poor Darija Fluency: Awkward and unnatural phrasing.\n",
    "\n",
    "- No Ground Truth Match: Misses key details like large building, office/company, and mesh decoration.\n"
   ]
  },
  {
   "cell_type": "markdown",
   "metadata": {
    "id": "0pP4q944WqtT"
   },
   "source": [
    "After finetuning"
   ]
  },
  {
   "cell_type": "code",
   "execution_count": null,
   "metadata": {
    "id": "DEeZDUuIW4TR"
   },
   "outputs": [],
   "source": [
    "# Let's load the finetuned model\n",
    "from unsloth import FastVisionModel\n",
    "    finetuned_model, tokenizer = FastVisionModel.from_pretrained(\n",
    "        model_name = \"lora_model\", # YOUR MODEL YOU USED FOR TRAINING\n",
    "        load_in_4bit = True, # Set to False for 16bit LoRA\n",
    "    )\n",
    "    FastVisionModel.for_inference(model) # Enable for inference!"
   ]
  },
  {
   "cell_type": "code",
   "execution_count": null,
   "metadata": {
    "colab": {
     "base_uri": "https://localhost:8080/"
    },
    "id": "kR3gIAX-SM2q",
    "outputId": "1abf36cd-22ab-467a-e7b7-c001c3c79d36"
   },
   "outputs": [],
   "source": [
    "print(\"Question: \", question)\n",
    "print(\"Original Answer: \", ground_truth)\n",
    "print(\"Model Answer: \")\n",
    "\n",
    "inference(finetuned_model, tokenizer, messages, image)"
   ]
  },
  {
   "cell_type": "code",
   "execution_count": null,
   "metadata": {
    "colab": {
     "base_uri": "https://localhost:8080/",
     "height": 529
    },
    "id": "nlAE9bIp9XvF",
    "outputId": "18d5f646-7217-44a9-e97e-9d9524c6159b"
   },
   "outputs": [],
   "source": [
    "image"
   ]
  },
  {
   "cell_type": "markdown",
   "metadata": {
    "id": "zgYWa4zkza3Y"
   },
   "source": [
    "## Challenge\n",
    "\n",
    "- **How to make training faster?**\n",
    "\n",
    "- **How to further evaluate the model?**\n",
    "\n",
    "- **What other dataset would you pick for finetuning?**\n",
    "\n",
    "**Good luck with the rest of the challenge—and HAVE FUN! 🚀**\n",
    "___"
   ]
  }
 ],
 "metadata": {
  "accelerator": "GPU",
  "colab": {
   "collapsed_sections": [
    "V6-xujw2a1cK",
    "oaqu7tOyJCUN",
    "D2gUKMd5Jamr",
    "muej--lRagz8",
    "9xLDGk41C7IF",
    "vITh0KVJ10qX",
    "idAEIeSQ3xdS",
    "De9dMdX8JhZm",
    "fFkxuszAZrWD",
    "iA74fkW-Zv9u"
   ],
   "gpuType": "T4",
   "provenance": []
  },
  "kernelspec": {
   "display_name": "unsloth_env",
   "language": "python",
   "name": "python3"
  },
  "language_info": {
   "name": "python",
   "version": "3.11.11"
  }
 },
 "nbformat": 4,
 "nbformat_minor": 0
}
