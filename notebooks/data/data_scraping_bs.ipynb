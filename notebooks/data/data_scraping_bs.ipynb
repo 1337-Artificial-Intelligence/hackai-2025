{
  "cells": [
    {
      "cell_type": "markdown",
      "metadata": {
        "id": "WG_SGidACLZ9"
      },
      "source": [
        "# Web Scraping with BeautifulSoup4 🕷️\n",
        "\n",
        "[![Open In Colab](https://colab.research.google.com/assets/colab-badge.svg)](https://colab.research.google.com/github/NouamaneTazi/hackai-challenges/blob/main/new_notebooks/data_scraping_bs4_goudma.ipynb)\n"
      ]
    },
    {
      "cell_type": "markdown",
      "metadata": {
        "id": "_AO2lQ9-m1pS"
      },
      "source": [
        "with Beautiful Soup we can:\n",
        "\n",
        "* Parsing: It takes messy HTML or XML code and transforms it into a structured, easily searchable format.\n",
        "* Navigation: You can easily move through the parsed document, finding specific elements like tags, attributes, and text.\n",
        "* Searching: Beautiful Soup provides tools to find elements based on their tags, attributes, or content.\n",
        "* Extraction: Once you've located the data you want, Beautiful Soup helps you extract it cleanly."
      ]
    },
    {
      "cell_type": "markdown",
      "metadata": {
        "id": "c4ytLvGToTUT"
      },
      "source": [
        "* install beautifulsoup with pip"
      ]
    },
    {
      "cell_type": "code",
      "execution_count": null,
      "metadata": {
        "id": "NwvNYma2mYiK"
      },
      "outputs": [],
      "source": [
        "# install beautiful soup\n",
        "!pip install beautifulsoup4 -q"
      ]
    },
    {
      "cell_type": "markdown",
      "metadata": {
        "id": "vXMg4bcCoajJ"
      },
      "source": [
        "* to scrap any web page we will need also **requests** to send any type of http (get,post,put,delete) request to our target."
      ]
    },
    {
      "cell_type": "code",
      "execution_count": null,
      "metadata": {
        "id": "YUacjMzzn4o6"
      },
      "outputs": [],
      "source": [
        "from bs4 import BeautifulSoup\n",
        "import requests #with requests we can to any http request (get,post,put,delete)"
      ]
    },
    {
      "cell_type": "markdown",
      "metadata": {
        "id": "8-OPugpeqKGK"
      },
      "source": [
        "* in our tutorial we will try to **scrap 6 post news** from https://www.goud.ma, as in the images below ..."
      ]
    },
    {
      "cell_type": "markdown",
      "metadata": {
        "id": "IivkXI3pELpm"
      },
      "source": [
        "<img src=\"https://postimage.me/images/2025/05/21/image64bb8496ae7ee101.png\"/>"
      ]
    },
    {
      "cell_type": "markdown",
      "metadata": {
        "id": "mUSSjdiOvNDj"
      },
      "source": [
        "* Before beginning our scraping first of all we need to analyze the HTML of our targeted website to extract which HTML object we will target.\n",
        "\n",
        "* as in the image below we will target the article object with the `´card´` class, then inside of it we will extract the href link to the content of the article, and we will repeat the same things with other articles."
      ]
    },
    {
      "cell_type": "markdown",
      "source": [
        "<img src=\"https://postimage.me/images/2025/05/21/image33fb9e13a118e192.png\"/>"
      ],
      "metadata": {
        "id": "KBouBG_zElsa"
      }
    },
    {
      "cell_type": "markdown",
      "metadata": {
        "id": "YZxQ3nsZt0h8"
      },
      "source": [
        "* to do what explained above, we need to follow the next steps:\n",
        "1. send a GET request to our target website.\n",
        "2. parse the response with bs4.\n",
        "3. extract the target HTML object we want using its HTML tag (name) in our case `article` and its class `card` or id."
      ]
    },
    {
      "cell_type": "code",
      "execution_count": null,
      "metadata": {
        "colab": {
          "base_uri": "https://localhost:8080/"
        },
        "id": "HoPOQznttz7g",
        "outputId": "e150e03f-5fc2-44bb-f876-1d0b582719fd"
      },
      "outputs": [
        {
          "name": "stdout",
          "output_type": "stream",
          "text": [
            "[INFO] Request is Valide\n"
          ]
        }
      ],
      "source": [
        "# 1.1 send get request\n",
        "target=\"https://www.goud.ma/topics/%d8%a7%d9%84%d8%b1%d8%a6%d9%8a%d8%b3%d9%8a%d8%a9/\"\n",
        "page=requests.get(target,headers={\"User-Agent\": \"XY\"})\n",
        "if page.reason==\"OK\":\n",
        "  print(\"[INFO] Request is Valide\")\n",
        "else:\n",
        "  print(\"[INFO] Request is not Valide\")"
      ]
    },
    {
      "cell_type": "code",
      "execution_count": null,
      "metadata": {
        "colab": {
          "base_uri": "https://localhost:8080/"
        },
        "id": "sj_3967Is0BX",
        "outputId": "294076fe-dffe-49ae-fecd-c5b488f096ed"
      },
      "outputs": [
        {
          "name": "stdout",
          "output_type": "stream",
          "text": [
            "<!doctype html>\n",
            "<html class=\"no-js\" dir=\"rtl\" lang\n"
          ]
        }
      ],
      "source": [
        "# 1.2 extract html from the page\n",
        "page_html=page.text\n",
        "print(page_html[:50])"
      ]
    },
    {
      "cell_type": "code",
      "execution_count": null,
      "metadata": {
        "id": "L3_MQbeqzJPC"
      },
      "outputs": [],
      "source": [
        "# 2. parse html with bs4\n",
        "page_soup=BeautifulSoup(page_html,\"html\")"
      ]
    },
    {
      "cell_type": "code",
      "execution_count": null,
      "metadata": {
        "colab": {
          "base_uri": "https://localhost:8080/"
        },
        "id": "GHP8O2hOzo4F",
        "outputId": "4a430c2b-2861-48e6-b5b3-9015d3f755b6"
      },
      "outputs": [
        {
          "data": {
            "text/plain": [
              "[<article class=\"card\" id=\"post-939051\">\n",
              " <header class=\"card-img-top\">\n",
              " <img alt=\"من بينها بورش ورانج روفر.. الحرس المدني حبط تهريب 10 طوموبيلات مسروقة كانت فطريقها للمغرب\" class=\"gd-img img-fluid wp-post-image\" decoding=\"async\" height=\"400\" loading=\"lazy\" sizes=\"(max-width: 600px) 100vw, 600px\" src=\"https://sf.goud.ma/wp-content/uploads/2025/03/سرقة-سيارات-فارهة-600x400.jpg\" srcset=\"https://sf.goud.ma/wp-content/uploads/2025/03/سرقة-سيارات-فارهة-600x400.jpg 600w, https://sf.goud.ma/wp-content/uploads/2025/03/سرقة-سيارات-فارهة.jpg 750w\" width=\"600\"/> </header>\n",
              " <div class=\"card-body\">\n",
              " <h2 class=\"card-title\"><a class=\"stretched-link\" href=\"https://www.goud.ma/%d9%85%d9%86-%d8%a8%d9%8a%d9%86%d9%87%d8%a7-%d8%a8%d9%88%d8%b1%d8%b4-%d9%88%d8%b1%d8%a7%d9%86%d8%ac-%d8%b1%d9%88%d9%81%d8%b1-%d8%a7%d9%84%d8%ad%d8%b1%d8%b3-%d8%a7%d9%84%d9%85%d8%af%d9%86%d9%8a-939051/\">من بينها بورش ورانج روفر.. الحرس المدني حبط تهريب 10 طوموبيلات مسروقة كانت فطريقها للمغرب</a></h2> <div class=\"card-infos\">\n",
              " <span class=\"card-post-cat text-primary\">\n",
              "         جورنالات بلادي      </span>\n",
              " <span class=\"card-post-date\">منذ 36 دقيقة</span>\n",
              " </div>\n",
              " </div>\n",
              " </article>,\n",
              " <article class=\"card\" id=\"post-939096\">\n",
              " <header class=\"card-img-top\">\n",
              " <img alt=\"رقم قياسي عالمي للدرون لي خداها المغرب من تركيا.. حلقات لأكثر 100 ألف ساعة\" class=\"gd-img img-fluid wp-post-image\" decoding=\"async\" height=\"375\" loading=\"lazy\" sizes=\"(max-width: 600px) 100vw, 600px\" src=\"https://sf.goud.ma/wp-content/uploads/2025/03/درون-600x375.jpg\" srcset=\"https://sf.goud.ma/wp-content/uploads/2025/03/درون-600x375.jpg 600w, https://sf.goud.ma/wp-content/uploads/2025/03/درون-768x480.jpg 768w, https://sf.goud.ma/wp-content/uploads/2025/03/درون.jpg 800w\" width=\"600\"/> </header>\n",
              " <div class=\"card-body\">\n",
              " <h2 class=\"card-title\"><a class=\"stretched-link\" href=\"https://www.goud.ma/%d8%b1%d9%82%d9%85-%d9%82%d9%8a%d8%a7%d8%b3%d9%8a-%d8%b9%d8%a7%d9%84%d9%85%d9%8a-%d9%84%d9%84%d8%af%d8%b1%d9%88%d9%86-%d9%84%d9%8a-%d8%ae%d8%af%d8%a7%d9%87%d8%a7-%d8%a7%d9%84%d9%85%d8%ba%d8%b1%d8%a8-939096/\">رقم قياسي عالمي للدرون لي خداها المغرب من تركيا.. حلقات لأكثر 100 ألف ساعة</a></h2> <div class=\"card-infos\">\n",
              " <span class=\"card-post-cat text-primary\">\n",
              "         آش واقع      </span>\n",
              " <span class=\"card-post-date\">منذ 1 ساعة</span>\n",
              " </div>\n",
              " </div>\n",
              " </article>,\n",
              " <article class=\"card\" id=\"post-939089\">\n",
              " <header class=\"card-img-top\">\n",
              " <img alt=\"فرنسي مطلوب للأنتربول طيحوه بوليس تنغير بمعلومات من الديستي\" class=\"gd-img img-fluid wp-post-image\" decoding=\"async\" height=\"167\" loading=\"lazy\" sizes=\"(max-width: 300px) 100vw, 300px\" src=\"https://sf.goud.ma/wp-content/uploads/2022/11/arrestation-copier-300x167.jpg\" srcset=\"https://sf.goud.ma/wp-content/uploads/2022/11/arrestation-copier-300x167.jpg 300w, https://sf.goud.ma/wp-content/uploads/2022/11/arrestation-copier-768x426.jpg 768w, https://sf.goud.ma/wp-content/uploads/2022/11/arrestation-copier.jpg 800w\" width=\"300\"/> </header>\n",
              " <div class=\"card-body\">\n",
              " <h2 class=\"card-title\"><a class=\"stretched-link\" href=\"https://www.goud.ma/%d9%81%d8%b1%d9%86%d8%b3%d9%8a-%d9%85%d8%b7%d9%84%d9%88%d8%a8-%d9%84%d9%84%d8%a3%d9%86%d8%aa%d8%b1%d8%a8%d9%88%d9%84-%d8%b7%d9%8a%d8%ad%d9%88%d9%87-%d8%a8%d9%88%d9%84%d9%8a%d8%b3-%d8%aa%d9%86%d8%ba-939089/\">فرنسي مطلوب للأنتربول طيحوه بوليس تنغير بمعلومات من الديستي</a></h2> <div class=\"card-infos\">\n",
              " <span class=\"card-post-cat text-primary\">\n",
              "         آش واقع      </span>\n",
              " <span class=\"card-post-date\">منذ 2 ساعتين</span>\n",
              " </div>\n",
              " </div>\n",
              " </article>,\n",
              " <article class=\"card\" id=\"post-939079\">\n",
              " <header class=\"card-img-top\">\n",
              " <img alt=\"جودار طلب من لقجع العفو على المسيرين واللاعبين المعاقبين ورئيس الجامعة شرط عليه تعيين لجنة لهذا الشي\" class=\"gd-img img-fluid wp-post-image\" decoding=\"async\" height=\"400\" loading=\"lazy\" sizes=\"(max-width: 552px) 100vw, 552px\" src=\"https://sf.goud.ma/wp-content/uploads/2025/03/IMG_4622-552x400.jpeg\" srcset=\"https://sf.goud.ma/wp-content/uploads/2025/03/IMG_4622-552x400.jpeg 552w, https://sf.goud.ma/wp-content/uploads/2025/03/IMG_4622-698x506.jpeg 698w, https://sf.goud.ma/wp-content/uploads/2025/03/IMG_4622-768x557.jpeg 768w, https://sf.goud.ma/wp-content/uploads/2025/03/IMG_4622-1536x1113.jpeg 1536w, https://sf.goud.ma/wp-content/uploads/2025/03/IMG_4622-2048x1484.jpeg 2048w\" width=\"552\"/> </header>\n",
              " <div class=\"card-body\">\n",
              " <h2 class=\"card-title\"><a class=\"stretched-link\" href=\"https://www.goud.ma/%d8%ac%d9%88%d8%af%d8%a7%d8%b1-%d8%b7%d9%84%d8%a8-%d9%85%d9%86-%d9%84%d9%82%d8%ac%d8%b9-%d8%a7%d9%84%d8%b9%d9%81%d9%88-%d8%b9%d9%84%d9%89-%d8%a7%d9%84%d9%85%d8%b3%d9%8a%d8%b1%d9%8a%d9%86-%d9%88%d8%a7-939079/\">جودار طلب من لقجع العفو على المسيرين واللاعبين المعاقبين ورئيس الجامعة شرط عليه تعيين لجنة لهذا الشي</a></h2> <div class=\"card-infos\">\n",
              " <span class=\"card-post-cat text-primary\">\n",
              "         كود سبور      </span>\n",
              " <span class=\"card-post-date\">منذ 2 ساعتين</span>\n",
              " </div>\n",
              " </div>\n",
              " </article>,\n",
              " <article class=\"card\" id=\"post-938913\">\n",
              " <header class=\"card-img-top\">\n",
              " <img alt=\"مبيعات الأسلحة الإسبانية للمغرب ف عام 2024 تضاعفات 13 مرة\" class=\"gd-img img-fluid wp-post-image\" decoding=\"async\" height=\"338\" loading=\"lazy\" sizes=\"(max-width: 600px) 100vw, 600px\" src=\"https://sf.goud.ma/wp-content/uploads/2025/03/الملك-وسانشيز-600x338.png\" srcset=\"https://sf.goud.ma/wp-content/uploads/2025/03/الملك-وسانشيز-600x338.png 600w, https://sf.goud.ma/wp-content/uploads/2025/03/الملك-وسانشيز-768x433.png 768w, https://sf.goud.ma/wp-content/uploads/2025/03/الملك-وسانشيز.png 800w\" width=\"600\"/> </header>\n",
              " <div class=\"card-body\">\n",
              " <h2 class=\"card-title\"><a class=\"stretched-link\" href=\"https://www.goud.ma/%d9%85%d8%a8%d9%8a%d8%b9%d8%a7%d8%aa-%d8%a7%d9%84%d8%a3%d8%b3%d9%84%d8%ad%d8%a9-%d8%a7%d9%84%d8%a5%d8%b3%d8%a8%d8%a7%d9%86%d9%8a%d8%a9-%d9%84%d9%84%d9%85%d8%ba%d8%b1%d8%a8-%d9%81-%d8%b9%d8%a7%d9%85-20-938913/\">مبيعات الأسلحة الإسبانية للمغرب ف عام 2024 تضاعفات 13 مرة</a></h2> <div class=\"card-infos\">\n",
              " <span class=\"card-post-cat text-primary\">\n",
              "         جورنالات بلادي      </span>\n",
              " <span class=\"card-post-date\">منذ 3 ساعات</span>\n",
              " </div>\n",
              " </div>\n",
              " </article>,\n",
              " <article class=\"card\" id=\"post-938894\">\n",
              " <header class=\"card-img-top\">\n",
              " <img alt=\"حتى إلى كانت هادي وحدة من أنجح الحكومات في تاريخ المغرب ولكن بسباب التواصل ديالها غادي يتفكروها المغاربة كأسوء حكومة دازت، لأنها لحد الآن ماعارفاش حتى تسوق منجزاتها على وفرتها، بينما عاطية مساحة كبيرة لخصومها يروجوا عليها الإشاعات والهدرة لي كاينة ولي مكايناش\" class=\"gd-img img-fluid wp-post-image\" decoding=\"async\" height=\"400\" loading=\"lazy\" sizes=\"(max-width: 594px) 100vw, 594px\" src=\"https://sf.goud.ma/wp-content/uploads/2025/01/بايتاس-594x400.png\" srcset=\"https://sf.goud.ma/wp-content/uploads/2025/01/بايتاس-594x400.png 594w, https://sf.goud.ma/wp-content/uploads/2025/01/بايتاس-751x506.png 751w, https://sf.goud.ma/wp-content/uploads/2025/01/بايتاس.png 760w\" width=\"594\"/> </header>\n",
              " <div class=\"card-body\">\n",
              " <h2 class=\"card-title\"><a class=\"stretched-link\" href=\"https://www.goud.ma/%d8%ad%d8%aa%d9%89-%d8%a5%d9%84%d9%89-%d9%83%d8%a7%d9%86%d8%aa-%d9%87%d8%a7%d8%af%d9%8a-%d9%88%d8%ad%d8%af%d8%a9-%d9%85%d9%86-%d8%a3%d9%86%d8%ac%d8%ad-%d8%a7%d9%84%d8%ad%d9%83%d9%88%d9%85%d8%a7%d8%aa-938894/\">حتى إلى كانت هادي وحدة من أنجح الحكومات في تاريخ المغرب ولكن بسباب التواصل ديالها غادي يتفكروها المغاربة كأسوء حكومة دازت، لأنها لحد الآن ماعارفاش حتى تسوق منجزاتها على وفرتها، بينما عاطية مساحة كبيرة لخصومها يروجوا عليها الإشاعات والهدرة لي كاينة ولي مكايناش</a></h2> <div class=\"card-infos\">\n",
              " <span class=\"card-post-cat text-primary\">\n",
              "         آراء      </span>\n",
              " <span class=\"card-post-date\">منذ 3 ساعات</span>\n",
              " </div>\n",
              " </div>\n",
              " </article>]"
            ]
          },
          "execution_count": 32,
          "metadata": {},
          "output_type": "execute_result"
        }
      ],
      "source": [
        "# 3. find article html object\n",
        "articles=page_soup.find_all(name=\"article\",class_=\"card\")[:6] # 6 articles\n",
        "articles"
      ]
    },
    {
      "cell_type": "markdown",
      "source": [
        "<img src=\"https://postimage.me/images/2025/05/21/image3d03e7083eac66fd.png\"/>"
      ],
      "metadata": {
        "id": "SQJTRTgKE83Q"
      }
    },
    {
      "cell_type": "markdown",
      "metadata": {
        "id": "AW2xCiaJ1pl7"
      },
      "source": [
        "* after finishing the first step, now we will move to extract the content of each article as in the image below.\n",
        "* to do this we need to extract the html object `a` with class `stretched-link` class from the articles above.\n",
        "* then extract `href` link"
      ]
    },
    {
      "cell_type": "code",
      "execution_count": null,
      "metadata": {
        "colab": {
          "base_uri": "https://localhost:8080/"
        },
        "id": "1rxW-0dHoPZ1",
        "outputId": "631f4205-d08f-4e93-82f0-fce6e57efa9b"
      },
      "outputs": [
        {
          "data": {
            "text/plain": [
              "['https://www.goud.ma/%d9%85%d9%86-%d8%a8%d9%8a%d9%86%d9%87%d8%a7-%d8%a8%d9%88%d8%b1%d8%b4-%d9%88%d8%b1%d8%a7%d9%86%d8%ac-%d8%b1%d9%88%d9%81%d8%b1-%d8%a7%d9%84%d8%ad%d8%b1%d8%b3-%d8%a7%d9%84%d9%85%d8%af%d9%86%d9%8a-939051/',\n",
              " 'https://www.goud.ma/%d8%b1%d9%82%d9%85-%d9%82%d9%8a%d8%a7%d8%b3%d9%8a-%d8%b9%d8%a7%d9%84%d9%85%d9%8a-%d9%84%d9%84%d8%af%d8%b1%d9%88%d9%86-%d9%84%d9%8a-%d8%ae%d8%af%d8%a7%d9%87%d8%a7-%d8%a7%d9%84%d9%85%d8%ba%d8%b1%d8%a8-939096/',\n",
              " 'https://www.goud.ma/%d9%81%d8%b1%d9%86%d8%b3%d9%8a-%d9%85%d8%b7%d9%84%d9%88%d8%a8-%d9%84%d9%84%d8%a3%d9%86%d8%aa%d8%b1%d8%a8%d9%88%d9%84-%d8%b7%d9%8a%d8%ad%d9%88%d9%87-%d8%a8%d9%88%d9%84%d9%8a%d8%b3-%d8%aa%d9%86%d8%ba-939089/',\n",
              " 'https://www.goud.ma/%d8%ac%d9%88%d8%af%d8%a7%d8%b1-%d8%b7%d9%84%d8%a8-%d9%85%d9%86-%d9%84%d9%82%d8%ac%d8%b9-%d8%a7%d9%84%d8%b9%d9%81%d9%88-%d8%b9%d9%84%d9%89-%d8%a7%d9%84%d9%85%d8%b3%d9%8a%d8%b1%d9%8a%d9%86-%d9%88%d8%a7-939079/',\n",
              " 'https://www.goud.ma/%d9%85%d8%a8%d9%8a%d8%b9%d8%a7%d8%aa-%d8%a7%d9%84%d8%a3%d8%b3%d9%84%d8%ad%d8%a9-%d8%a7%d9%84%d8%a5%d8%b3%d8%a8%d8%a7%d9%86%d9%8a%d8%a9-%d9%84%d9%84%d9%85%d8%ba%d8%b1%d8%a8-%d9%81-%d8%b9%d8%a7%d9%85-20-938913/',\n",
              " 'https://www.goud.ma/%d8%ad%d8%aa%d9%89-%d8%a5%d9%84%d9%89-%d9%83%d8%a7%d9%86%d8%aa-%d9%87%d8%a7%d8%af%d9%8a-%d9%88%d8%ad%d8%af%d8%a9-%d9%85%d9%86-%d8%a3%d9%86%d8%ac%d8%ad-%d8%a7%d9%84%d8%ad%d9%83%d9%88%d9%85%d8%a7%d8%aa-938894/']"
            ]
          },
          "execution_count": 33,
          "metadata": {},
          "output_type": "execute_result"
        }
      ],
      "source": [
        "articles_links=[\n",
        "    article.find(\"a\",class_=\"stretched-link\"). # 1\n",
        "    get(\"href\") # 2\n",
        "    for article in articles]\n",
        "articles_links"
      ]
    },
    {
      "cell_type": "markdown",
      "metadata": {
        "id": "QEy6Nhj639yt"
      },
      "source": [
        "* After extracting each article link, now we will try to **extract helpful data from the article**, like `title`, `image`, and `content`.\n",
        "* we will follow the same steps as before.\n",
        "\n",
        "=> let's do it with one article link"
      ]
    },
    {
      "cell_type": "code",
      "execution_count": null,
      "metadata": {
        "id": "YQIRlaVG3Slr"
      },
      "outputs": [],
      "source": [
        "# step 1\n",
        "link=articles_links[0]\n",
        "page0_html=requests.get(link,headers={\"User-Agent\": \"XY\"}).text\n",
        "page0_soup=BeautifulSoup(page0_html,\"html\")"
      ]
    },
    {
      "cell_type": "code",
      "execution_count": null,
      "metadata": {
        "id": "UxcvZtYN6Ywb"
      },
      "outputs": [],
      "source": [
        "# step2\n",
        "page0_img=page0_soup.find(\"img\",class_=\"img-fluid wp-post-image\").get(\"src\")\n",
        "page0_title=page0_soup.find(\"h1\",class_=\"entry-title\").text\n",
        "page0_content=page0_soup.find(\"div\",class_=\"post-content\").text.strip()"
      ]
    },
    {
      "cell_type": "code",
      "execution_count": null,
      "metadata": {
        "colab": {
          "base_uri": "https://localhost:8080/"
        },
        "id": "Dlbg4hf06vju",
        "outputId": "bc6ca5cf-94c0-485f-b57f-f7b8f2afb59f"
      },
      "outputs": [
        {
          "name": "stdout",
          "output_type": "stream",
          "text": [
            "img src:\n",
            "https://sf.goud.ma/wp-content/uploads/2025/03/سرقة-سيارات-فارهة.jpg\n",
            "title:\n",
            "من بينها بورش ورانج روفر.. الحرس المدني حبط تهريب 10 طوموبيلات مسروقة كانت فطريقها للمغرب\n",
            "content:\n",
            "كود – كازا ///\n",
            "قالت وكالة إيفي الإسبانية، إن الحرس المدني وشرطة طريفة المحلية حبطو عملية تهريب كبيرة لـ10 طوموبيلات داللوكس من بينها بورش ورانج روفر، مسروقة من دول أوروبية مختلفة، وذلك قبل تهريبها إلى المغرب.\n",
            "وحسب المصدر ذاته، أسفرت العملية الأمنية عن اعتقال أربعة أشخاص، بالإضافة إلى وضع ستة أفراد قيد التحقيق. وتم تسجيل محاضر بسرقة هاذ الطوموبيلات ف فرنسا وهولندا وبولندا وإيطاليا وإسبانيا.\n",
            "وتم رصدها من طرف الحرس المدني بميناء طريفة، وكشفت التحريات أن عصابات سرقة الطوموبيلات ف أوروبا طورات أساليب عملها باستخدام تقنيات متطورة.\n",
            "وف السيمانة الفايتة، كشفت الشركة الوطنية الإسبانية، عن تفاصيل عملية “بيكين” اللي طيحات مافيا متخصصة ف تهريب الطوموبيلات داللوكس المسروقة بين الخزيرات وطنجة.\n",
            "وسالات هاذ العملية الأمنية باسترجاع 8 ديال الطوموبيلات واعتقال 11 متورط ضمن هاذ الريزو المنظم، اللي بدات التحريات عليه من أبريل 2024.\n"
          ]
        }
      ],
      "source": [
        "print(f\"img src:\\n{page0_img}\")\n",
        "print(f\"title:\\n{page0_title}\")\n",
        "print(f\"content:\\n{page0_content}\")"
      ]
    },
    {
      "cell_type": "code",
      "execution_count": null,
      "metadata": {
        "id": "895z_7DI_ajx"
      },
      "outputs": [],
      "source": [
        "# if you want to save images in your local\n",
        "imgcontent=requests.get(page0_img).content\n",
        "with open(\"image.jpg\",\"wb\") as i:\n",
        "  i.write(imgcontent)"
      ]
    },
    {
      "cell_type": "code",
      "execution_count": null,
      "metadata": {
        "colab": {
          "base_uri": "https://localhost:8080/"
        },
        "id": "pbc44wRe-bB1",
        "outputId": "8c8b9932-a69f-43aa-8549-7f5a565d24ab"
      },
      "outputs": [
        {
          "name": "stderr",
          "output_type": "stream",
          "text": [
            "100%|██████████| 6/6 [00:00<00:00,  6.05it/s]\n"
          ]
        }
      ],
      "source": [
        "# repeat the same with other 6 articles\n",
        "from tqdm import tqdm\n",
        "data={\"titles\":[],\"content\":[],\"images\":[]}\n",
        "for link in tqdm(articles_links):\n",
        "  # step 1\n",
        "  pagei_html=requests.get(link,headers={\"User-Agent\": \"XY\"}).text\n",
        "  pagei_soup=BeautifulSoup(pagei_html,\"html\")\n",
        "  # step2\n",
        "  pagei_img=pagei_soup.find(\"img\",class_=\"img-fluid wp-post-image\").get(\"src\")\n",
        "  pagei_title=pagei_soup.find(\"h1\",class_=\"entry-title\").text\n",
        "  pagei_content=pagei_soup.find(\"div\",class_=\"post-content\").text.strip()\n",
        "  # save\n",
        "  data[\"titles\"].append(pagei_title)\n",
        "  data[\"content\"].append(pagei_content)\n",
        "  data[\"images\"].append(pagei_img)"
      ]
    },
    {
      "cell_type": "code",
      "execution_count": null,
      "metadata": {
        "colab": {
          "base_uri": "https://localhost:8080/",
          "height": 237
        },
        "id": "ragUnpUMCNYl",
        "outputId": "2f63216b-d02c-4a73-ca45-eabcd87cfadf"
      },
      "outputs": [
        {
          "data": {
            "application/vnd.google.colaboratory.intrinsic+json": {
              "summary": "{\n  \"name\": \"df\",\n  \"rows\": 6,\n  \"fields\": [\n    {\n      \"column\": \"titles\",\n      \"properties\": {\n        \"dtype\": \"string\",\n        \"num_unique_values\": 6,\n        \"samples\": [\n          \"\\u0645\\u0646 \\u0628\\u064a\\u0646\\u0647\\u0627 \\u0628\\u0648\\u0631\\u0634 \\u0648\\u0631\\u0627\\u0646\\u062c \\u0631\\u0648\\u0641\\u0631.. \\u0627\\u0644\\u062d\\u0631\\u0633 \\u0627\\u0644\\u0645\\u062f\\u0646\\u064a \\u062d\\u0628\\u0637 \\u062a\\u0647\\u0631\\u064a\\u0628 10 \\u0637\\u0648\\u0645\\u0648\\u0628\\u064a\\u0644\\u0627\\u062a \\u0645\\u0633\\u0631\\u0648\\u0642\\u0629 \\u0643\\u0627\\u0646\\u062a \\u0641\\u0637\\u0631\\u064a\\u0642\\u0647\\u0627 \\u0644\\u0644\\u0645\\u063a\\u0631\\u0628\",\n          \"\\u0631\\u0642\\u0645 \\u0642\\u064a\\u0627\\u0633\\u064a \\u0639\\u0627\\u0644\\u0645\\u064a \\u0644\\u0644\\u062f\\u0631\\u0648\\u0646 \\u0644\\u064a \\u062e\\u062f\\u0627\\u0647\\u0627 \\u0627\\u0644\\u0645\\u063a\\u0631\\u0628 \\u0645\\u0646 \\u062a\\u0631\\u0643\\u064a\\u0627.. \\u062d\\u0644\\u0642\\u0627\\u062a \\u0644\\u0623\\u0643\\u062b\\u0631 100 \\u0623\\u0644\\u0641 \\u0633\\u0627\\u0639\\u0629\",\n          \"\\u062d\\u062a\\u0649 \\u0625\\u0644\\u0649 \\u0643\\u0627\\u0646\\u062a \\u0647\\u0627\\u062f\\u064a \\u0648\\u062d\\u062f\\u0629 \\u0645\\u0646 \\u0623\\u0646\\u062c\\u062d \\u0627\\u0644\\u062d\\u0643\\u0648\\u0645\\u0627\\u062a \\u0641\\u064a \\u062a\\u0627\\u0631\\u064a\\u062e \\u0627\\u0644\\u0645\\u063a\\u0631\\u0628 \\u0648\\u0644\\u0643\\u0646 \\u0628\\u0633\\u0628\\u0627\\u0628 \\u0627\\u0644\\u062a\\u0648\\u0627\\u0635\\u0644 \\u062f\\u064a\\u0627\\u0644\\u0647\\u0627 \\u063a\\u0627\\u062f\\u064a \\u064a\\u062a\\u0641\\u0643\\u0631\\u0648\\u0647\\u0627 \\u0627\\u0644\\u0645\\u063a\\u0627\\u0631\\u0628\\u0629 \\u0643\\u0623\\u0633\\u0648\\u0621 \\u062d\\u0643\\u0648\\u0645\\u0629 \\u062f\\u0627\\u0632\\u062a\\u060c \\u0644\\u0623\\u0646\\u0647\\u0627 \\u0644\\u062d\\u062f \\u0627\\u0644\\u0622\\u0646 \\u0645\\u0627\\u0639\\u0627\\u0631\\u0641\\u0627\\u0634 \\u062d\\u062a\\u0649 \\u062a\\u0633\\u0648\\u0642 \\u0645\\u0646\\u062c\\u0632\\u0627\\u062a\\u0647\\u0627 \\u0639\\u0644\\u0649 \\u0648\\u0641\\u0631\\u062a\\u0647\\u0627\\u060c \\u0628\\u064a\\u0646\\u0645\\u0627 \\u0639\\u0627\\u0637\\u064a\\u0629 \\u0645\\u0633\\u0627\\u062d\\u0629 \\u0643\\u0628\\u064a\\u0631\\u0629 \\u0644\\u062e\\u0635\\u0648\\u0645\\u0647\\u0627 \\u064a\\u0631\\u0648\\u062c\\u0648\\u0627 \\u0639\\u0644\\u064a\\u0647\\u0627 \\u0627\\u0644\\u0625\\u0634\\u0627\\u0639\\u0627\\u062a \\u0648\\u0627\\u0644\\u0647\\u062f\\u0631\\u0629 \\u0644\\u064a \\u0643\\u0627\\u064a\\u0646\\u0629 \\u0648\\u0644\\u064a \\u0645\\u0643\\u0627\\u064a\\u0646\\u0627\\u0634\"\n        ],\n        \"semantic_type\": \"\",\n        \"description\": \"\"\n      }\n    },\n    {\n      \"column\": \"content\",\n      \"properties\": {\n        \"dtype\": \"string\",\n        \"num_unique_values\": 6,\n        \"samples\": [\n          \"\\u0643\\u0648\\u062f \\u2013 \\u0643\\u0627\\u0632\\u0627 ///\\n\\u0642\\u0627\\u0644\\u062a \\u0648\\u0643\\u0627\\u0644\\u0629 \\u0625\\u064a\\u0641\\u064a \\u0627\\u0644\\u0625\\u0633\\u0628\\u0627\\u0646\\u064a\\u0629\\u060c \\u0625\\u0646 \\u0627\\u0644\\u062d\\u0631\\u0633 \\u0627\\u0644\\u0645\\u062f\\u0646\\u064a \\u0648\\u0634\\u0631\\u0637\\u0629 \\u0637\\u0631\\u064a\\u0641\\u0629 \\u0627\\u0644\\u0645\\u062d\\u0644\\u064a\\u0629 \\u062d\\u0628\\u0637\\u0648 \\u0639\\u0645\\u0644\\u064a\\u0629 \\u062a\\u0647\\u0631\\u064a\\u0628 \\u0643\\u0628\\u064a\\u0631\\u0629 \\u0644\\u064010 \\u0637\\u0648\\u0645\\u0648\\u0628\\u064a\\u0644\\u0627\\u062a \\u062f\\u0627\\u0644\\u0644\\u0648\\u0643\\u0633 \\u0645\\u0646 \\u0628\\u064a\\u0646\\u0647\\u0627 \\u0628\\u0648\\u0631\\u0634 \\u0648\\u0631\\u0627\\u0646\\u062c \\u0631\\u0648\\u0641\\u0631\\u060c \\u0645\\u0633\\u0631\\u0648\\u0642\\u0629 \\u0645\\u0646 \\u062f\\u0648\\u0644 \\u0623\\u0648\\u0631\\u0648\\u0628\\u064a\\u0629 \\u0645\\u062e\\u062a\\u0644\\u0641\\u0629\\u060c \\u0648\\u0630\\u0644\\u0643 \\u0642\\u0628\\u0644 \\u062a\\u0647\\u0631\\u064a\\u0628\\u0647\\u0627 \\u0625\\u0644\\u0649 \\u0627\\u0644\\u0645\\u063a\\u0631\\u0628.\\n\\u0648\\u062d\\u0633\\u0628 \\u0627\\u0644\\u0645\\u0635\\u062f\\u0631 \\u0630\\u0627\\u062a\\u0647\\u060c \\u0623\\u0633\\u0641\\u0631\\u062a \\u0627\\u0644\\u0639\\u0645\\u0644\\u064a\\u0629 \\u0627\\u0644\\u0623\\u0645\\u0646\\u064a\\u0629 \\u0639\\u0646 \\u0627\\u0639\\u062a\\u0642\\u0627\\u0644 \\u0623\\u0631\\u0628\\u0639\\u0629 \\u0623\\u0634\\u062e\\u0627\\u0635\\u060c \\u0628\\u0627\\u0644\\u0625\\u0636\\u0627\\u0641\\u0629 \\u0625\\u0644\\u0649 \\u0648\\u0636\\u0639 \\u0633\\u062a\\u0629 \\u0623\\u0641\\u0631\\u0627\\u062f \\u0642\\u064a\\u062f \\u0627\\u0644\\u062a\\u062d\\u0642\\u064a\\u0642. \\u0648\\u062a\\u0645 \\u062a\\u0633\\u062c\\u064a\\u0644 \\u0645\\u062d\\u0627\\u0636\\u0631 \\u0628\\u0633\\u0631\\u0642\\u0629 \\u0647\\u0627\\u0630 \\u0627\\u0644\\u0637\\u0648\\u0645\\u0648\\u0628\\u064a\\u0644\\u0627\\u062a \\u0641 \\u0641\\u0631\\u0646\\u0633\\u0627 \\u0648\\u0647\\u0648\\u0644\\u0646\\u062f\\u0627 \\u0648\\u0628\\u0648\\u0644\\u0646\\u062f\\u0627 \\u0648\\u0625\\u064a\\u0637\\u0627\\u0644\\u064a\\u0627 \\u0648\\u0625\\u0633\\u0628\\u0627\\u0646\\u064a\\u0627.\\n\\u0648\\u062a\\u0645 \\u0631\\u0635\\u062f\\u0647\\u0627 \\u0645\\u0646 \\u0637\\u0631\\u0641 \\u0627\\u0644\\u062d\\u0631\\u0633 \\u0627\\u0644\\u0645\\u062f\\u0646\\u064a \\u0628\\u0645\\u064a\\u0646\\u0627\\u0621 \\u0637\\u0631\\u064a\\u0641\\u0629\\u060c \\u0648\\u0643\\u0634\\u0641\\u062a \\u0627\\u0644\\u062a\\u062d\\u0631\\u064a\\u0627\\u062a \\u0623\\u0646 \\u0639\\u0635\\u0627\\u0628\\u0627\\u062a \\u0633\\u0631\\u0642\\u0629 \\u0627\\u0644\\u0637\\u0648\\u0645\\u0648\\u0628\\u064a\\u0644\\u0627\\u062a \\u0641 \\u0623\\u0648\\u0631\\u0648\\u0628\\u0627 \\u0637\\u0648\\u0631\\u0627\\u062a \\u0623\\u0633\\u0627\\u0644\\u064a\\u0628 \\u0639\\u0645\\u0644\\u0647\\u0627 \\u0628\\u0627\\u0633\\u062a\\u062e\\u062f\\u0627\\u0645 \\u062a\\u0642\\u0646\\u064a\\u0627\\u062a \\u0645\\u062a\\u0637\\u0648\\u0631\\u0629.\\n\\u0648\\u0641 \\u0627\\u0644\\u0633\\u064a\\u0645\\u0627\\u0646\\u0629 \\u0627\\u0644\\u0641\\u0627\\u064a\\u062a\\u0629\\u060c \\u0643\\u0634\\u0641\\u062a \\u0627\\u0644\\u0634\\u0631\\u0643\\u0629 \\u0627\\u0644\\u0648\\u0637\\u0646\\u064a\\u0629 \\u0627\\u0644\\u0625\\u0633\\u0628\\u0627\\u0646\\u064a\\u0629\\u060c \\u0639\\u0646 \\u062a\\u0641\\u0627\\u0635\\u064a\\u0644 \\u0639\\u0645\\u0644\\u064a\\u0629 \\u201c\\u0628\\u064a\\u0643\\u064a\\u0646\\u201d \\u0627\\u0644\\u0644\\u064a \\u0637\\u064a\\u062d\\u0627\\u062a \\u0645\\u0627\\u0641\\u064a\\u0627 \\u0645\\u062a\\u062e\\u0635\\u0635\\u0629 \\u0641 \\u062a\\u0647\\u0631\\u064a\\u0628 \\u0627\\u0644\\u0637\\u0648\\u0645\\u0648\\u0628\\u064a\\u0644\\u0627\\u062a \\u062f\\u0627\\u0644\\u0644\\u0648\\u0643\\u0633 \\u0627\\u0644\\u0645\\u0633\\u0631\\u0648\\u0642\\u0629 \\u0628\\u064a\\u0646 \\u0627\\u0644\\u062e\\u0632\\u064a\\u0631\\u0627\\u062a \\u0648\\u0637\\u0646\\u062c\\u0629.\\n\\u0648\\u0633\\u0627\\u0644\\u0627\\u062a \\u0647\\u0627\\u0630 \\u0627\\u0644\\u0639\\u0645\\u0644\\u064a\\u0629 \\u0627\\u0644\\u0623\\u0645\\u0646\\u064a\\u0629 \\u0628\\u0627\\u0633\\u062a\\u0631\\u062c\\u0627\\u0639 8 \\u062f\\u064a\\u0627\\u0644 \\u0627\\u0644\\u0637\\u0648\\u0645\\u0648\\u0628\\u064a\\u0644\\u0627\\u062a \\u0648\\u0627\\u0639\\u062a\\u0642\\u0627\\u0644 11 \\u0645\\u062a\\u0648\\u0631\\u0637 \\u0636\\u0645\\u0646 \\u0647\\u0627\\u0630 \\u0627\\u0644\\u0631\\u064a\\u0632\\u0648 \\u0627\\u0644\\u0645\\u0646\\u0638\\u0645\\u060c \\u0627\\u0644\\u0644\\u064a \\u0628\\u062f\\u0627\\u062a \\u0627\\u0644\\u062a\\u062d\\u0631\\u064a\\u0627\\u062a \\u0639\\u0644\\u064a\\u0647 \\u0645\\u0646 \\u0623\\u0628\\u0631\\u064a\\u0644 2024.\",\n          \"\\u0623\\u0646\\u0633 \\u0627\\u0644\\u0639\\u0645\\u0631\\u064a \\u2013 \\u0643\\u0648\\u062f///\\n\\u0637\\u0627\\u0626\\u0631\\u0629 (Ak\\u0131nc\\u0131) \\u0628\\u062f\\u0648\\u0646 \\u0637\\u064a\\u0627\\u0631\\u060c \\u0644\\u064a \\u062d\\u0635\\u0644 \\u0639\\u0644\\u064a\\u0647\\u0627 \\u0627\\u0644\\u0645\\u063a\\u0631\\u0628 \\u0645\\u0624\\u062e\\u0631\\u0627\\u060c \\u062f\\u0627\\u064a\\u0631\\u0629 \\u0623\\u062f\\u0627\\u0621 \\u0627\\u0633\\u062a\\u0646\\u062b\\u0627\\u0626\\u064a. \\u0647\\u0627\\u062f \\u0627\\u0644\\u0637\\u0627\\u0626\\u0631\\u0629\\u060c \\u0644\\u064a \\u062a\\u0646\\u062a\\u062c\\u0647\\u0627 \\u0634\\u0631\\u0643\\u0629 \\u201c\\u0628\\u0627\\u064a\\u0643\\u0627\\u0631\\u201d \\u0627\\u0644\\u062a\\u0631\\u0643\\u064a\\u0629\\u060c \\u062d\\u0642\\u0642\\u0627\\u062a \\u0625\\u0646\\u062c\\u0627\\u0632 \\u0628\\u062a\\u062c\\u0627\\u0648\\u0632\\u0647\\u0627 100 \\u0623\\u0644\\u0641 \\u0633\\u0627\\u0639\\u0629 \\u0637\\u064a\\u0631\\u0627\\u0646.\\n\\u0648\\u0623\\u0643\\u062f\\u0627\\u062a \\u0634\\u0631\\u0643\\u0629 \\u201c\\u0628\\u0627\\u064a\\u0643\\u0627\\u0631\\u201d \\u0641\\u064a \\u0628\\u064a\\u0627\\u0646 \\u0646\\u0634\\u0631\\u062a\\u0647 \\u0623\\u0648\\u0644 \\u0623\\u0645\\u0633 \\u0627\\u0644\\u062b\\u0644\\u0627\\u062b\\u0627\\u0621\\u060c \\u0648\\u0646\\u0642\\u0644\\u062a\\u0647 \\u0648\\u0643\\u0627\\u0644\\u0629 \\u0627\\u0644\\u0623\\u0646\\u0627\\u0636\\u0648\\u0644\\u060c \\u0623\\u0646 \\u201c\\u0623\\u0643\\u064a\\u0646\\u062c\\u064a\\u201d \\u062d\\u0644\\u0642\\u062a \\u0644\\u0623\\u0643\\u062b\\u0631 \\u0645\\u0646 100 \\u0623\\u0644\\u0641 \\u0633\\u0627\\u0639\\u0629 \\u0641\\u064a \\u0627\\u0644\\u0645\\u062c\\u0627\\u0644 \\u0627\\u0644\\u062c\\u0648\\u064a \\u0627\\u0644\\u062a\\u0631\\u0643\\u064a\\u060c \\u0645\\u0628\\u0631\\u0632\\u0629 \\u0623\\u0646 \\u0645\\u0627 \\u062d\\u0642\\u0642\\u062a\\u0647 \\u201c\\u0631\\u0642\\u0645 \\u0642\\u064a\\u0627\\u0633\\u064a \\u0639\\u0627\\u0644\\u0645\\u064a\\u201d.\\n\\u0648\\u0630\\u0643\\u0631\\u062a \\u0627\\u0644\\u0634\\u0631\\u0643\\u0629 \\u0623\\u0646 \\u0647\\u0627\\u062f \\u0627\\u0644\\u0637\\u0627\\u0626\\u0631\\u0629 \\u0628\\u062f\\u0648\\u0646 \\u0637\\u064a\\u0627\\u0631 \\u0648\\u0635\\u0644\\u062a \\u0628\\u0627\\u0644\\u0641\\u0639\\u0644 \\u0625\\u0644\\u0649 \\u0627\\u0631\\u062a\\u0641\\u0627\\u0639 \\u0642\\u064a\\u0627\\u0633\\u064a \\u0628\\u0644\\u063a 45118 \\u0642\\u062f\\u0645\\u0627\\u060c \\u0645\\u0639\\u0644\\u0646\\u0629 \\u0623\\u0646\\u0647\\u0627 \\u201c\\u0648\\u0642\\u0639\\u062a \\u0639\\u0642\\u0648\\u062f \\u0634\\u0631\\u0627\\u0621 \\u0645\\u0639 11 \\u062f\\u0648\\u0644\\u0629\\u201d.\",\n          \"\\u0645\\u062d\\u0645\\u062f \\u0633\\u0642\\u0631\\u0627\\u0637-\\u0643\\u0648\\u062f///\\n\\u062d\\u062a\\u0649 \\u0625\\u0644\\u0649 \\u0643\\u0627\\u0646\\u062a \\u0647\\u0627\\u062f\\u064a \\u0648\\u062d\\u062f\\u0629 \\u0645\\u0646 \\u0623\\u0646\\u062c\\u062d \\u0627\\u0644\\u062d\\u0643\\u0648\\u0645\\u0627\\u062a \\u0641\\u064a \\u062a\\u0627\\u0631\\u064a\\u062e \\u0627\\u0644\\u0645\\u063a\\u0631\\u0628 \\u0648\\u0644\\u0643\\u0646 \\u0628\\u0633\\u0628\\u0627\\u0628 \\u0627\\u0644\\u062a\\u0648\\u0627\\u0635\\u0644 \\u062f\\u064a\\u0627\\u0644\\u0647\\u0627 \\u063a\\u0627\\u062f\\u064a \\u064a\\u062a\\u0641\\u0643\\u0631\\u0648\\u0647\\u0627 \\u0627\\u0644\\u0645\\u063a\\u0627\\u0631\\u0628\\u0629 \\u0643\\u0623\\u0633\\u0648\\u0621 \\u062d\\u0643\\u0648\\u0645\\u0629 \\u062f\\u0627\\u0632\\u062a\\u060c \\u0644\\u0623\\u0646\\u0647\\u0627 \\u0644\\u062d\\u062f \\u0627\\u0644\\u0622\\u0646 \\u0645\\u0627\\u0639\\u0627\\u0631\\u0641\\u0627\\u0634 \\u062d\\u062a\\u0649 \\u062a\\u0633\\u0648\\u0642 \\u0645\\u0646\\u062c\\u0632\\u0627\\u062a\\u0647\\u0627 \\u0639\\u0644\\u0649 \\u0648\\u0641\\u0631\\u062a\\u0647\\u0627\\u060c \\u0628\\u064a\\u0646\\u0645\\u0627 \\u0639\\u0627\\u0637\\u064a\\u0629 \\u0645\\u0633\\u0627\\u062d\\u0629 \\u0643\\u0628\\u064a\\u0631\\u0629 \\u0644\\u062e\\u0635\\u0648\\u0645\\u0647\\u0627 \\u064a\\u0631\\u0648\\u062c\\u0648\\u0627 \\u0639\\u0644\\u064a\\u0647\\u0627 \\u0627\\u0644\\u0625\\u0634\\u0627\\u0639\\u0627\\u062a \\u0648\\u0627\\u0644\\u0647\\u062f\\u0631\\u0629 \\u0644\\u064a \\u0643\\u0627\\u064a\\u0646\\u0629 \\u0648\\u0644\\u064a \\u0645\\u0643\\u0627\\u064a\\u0646\\u0627\\u0634\\u060c \\u0643\\u064a\\u0643\\u0648\\u0646\\u0648\\u0627 \\u0645\\u0648\\u0627\\u0636\\u064a\\u0639 \\u0634\\u0627\\u063a\\u0644\\u0629 \\u0627\\u0644\\u0631\\u0623\\u064a \\u0627\\u0644\\u0639\\u0627\\u0645\\u060c \\u0623\\u0648 \\u0643\\u062a\\u062f\\u064a\\u0631 \\u0627\\u0644\\u062d\\u0643\\u0648\\u0645\\u0629 \\u0634\\u064a \\u0645\\u0634\\u0631\\u0648\\u0639 \\u0645\\u0647\\u0645 \\u063a\\u0627\\u062f\\u064a \\u064a\\u0641\\u064a\\u062f \\u0627\\u0644\\u0645\\u063a\\u0627\\u0631\\u0628\\u0629\\u060c \\u0648\\u0645\\u0639 \\u0630\\u0644\\u0643 \\u0643\\u062a\\u0644\\u0642\\u0649 \\u0645\\u0646\\u0647\\u0645 \\u063a\\u064a\\u0631 \\u0627\\u0644\\u0635\\u0645\\u062a \\u0648\\u0627\\u0644\\u062a\\u062c\\u0627\\u0647\\u0644\\u060c \\u0628\\u0644\\u0627 \\u0645\\u0646\\u0647\\u062f\\u0631\\u0648 \\u0639\\u0644\\u0649 \\u0628\\u0627\\u064a\\u062a\\u0627\\u0633 \\u0644\\u064a \\u0645\\u0643\\u062a\\u0634\\u062f \\u0645\\u0646\\u0648 \\u0644\\u0627 \\u062d\\u0642 \\u0644\\u0627 \\u0628\\u0627\\u0637\\u0644\\u060c \\u0648\\u062d\\u0648\\u0644 \\u0627\\u0644\\u0644\\u0642\\u0627\\u0626\\u0627\\u062a \\u0627\\u0644\\u0635\\u062d\\u0641\\u064a\\u0629 \\u0644\\u0623\\u0643\\u062b\\u0631 \\u0646\\u0634\\u0627\\u0637 \\u0645\\u0645\\u0644 \\u0641\\u064a \\u0627\\u0644\\u0645\\u063a\\u0631\\u0628 \\u0645\\u0646 \\u0628\\u0639\\u062f \\u0639\\u0634\\u064a\\u0629 \\u0627\\u0644\\u0639\\u064a\\u062f\\u060c \\u0645\\u0643\\u062a\\u0633\\u0645\\u0639 \\u0648\\u0627\\u0644\\u0648 \\u0645\\u0643\\u062a\\u0641\\u0647\\u0645 \\u0648\\u0627\\u0644\\u0648\\u060c \\u0648\\u0627\\u0644\\u0645\\u0648\\u0627\\u0637\\u0646\\u064a\\u0646 \\u0643\\u064a\\u0628\\u0642\\u0627\\u0648 \\u0639\\u0631\\u0636\\u0629 \\u0644\\u0644\\u0625\\u0634\\u0627\\u0639\\u0627\\u062a \\u0644\\u064a \\u0643\\u062a\\u063a\\u062f\\u064a \\u0627\\u0644\\u0634\\u0639\\u0648\\u0631 \\u0628\\u0627\\u0644\\u0633\\u062e\\u0637 \\u0639\\u0644\\u0649 \\u0647\\u0627\\u062f \\u0627\\u0644\\u062d\\u0643\\u0648\\u0645\\u0629\\u060c \\u0644\\u064a \\u0645\\u0646 \\u0627\\u0644\\u0645\\u0641\\u0631\\u0648\\u0636 \\u062a\\u0643\\u0648\\u0646 \\u0645\\u0633\\u0624\\u0648\\u0644\\u0629 \\u0639\\u0644\\u0649 \\u0637\\u0645\\u0623\\u0646\\u0629 \\u0627\\u0644\\u0634\\u0639\\u0628 \\u0627\\u0644\\u0645\\u063a\\u0631\\u0628\\u064a \\u0648\\u062a\\u0639\\u0637\\u064a\\u0647 \\u0641\\u0643\\u0631\\u0629 \\u0639\\u0644\\u0649 \\u0627\\u0644\\u0645\\u0633\\u062a\\u0642\\u0628\\u0644 \\u0627\\u0644\\u0645\\u0634\\u0631\\u0642 \\u0644\\u064a \\u0643\\u064a\\u062a\\u0633\\u0646\\u0627\\u0647.\\n\\u0641\\u064a\\u062f\\u064a\\u0648\\u0627\\u062a \\u062f\\u064a\\u0627\\u0644 \\u0627\\u0644\\u0645\\u062a\\u0636\\u0631\\u0631\\u064a\\u0646 \\u0645\\u0646 \\u0632\\u0644\\u0632\\u0627\\u0644 \\u0627\\u0644\\u062d\\u0648\\u0632 \\u0645\\u0646 \\u0628\\u0639\\u062f \\u0639\\u0627\\u0645 \\u0648\\u0646\\u0635 \\u0628\\u0627\\u0642\\u064a\\u0646 \\u0641\\u064a \\u0627\\u0644\\u062e\\u064a\\u0645 \\u0641\\u064a \\u0647\\u0627\\u062f \\u0627\\u0644\\u0628\\u0631\\u062f \\u0648\\u0627\\u0644\\u062b\\u0644\\u062c\\u060c \\u0627\\u0644\\u0641\\u064a\\u062f\\u064a\\u0648\\u0627\\u062a \\u0634\\u0627\\u0641\\u0647\\u0645 \\u0627\\u0644\\u0639\\u0627\\u0644\\u0645 \\u0648\\u0643\\u0648\\u0644\\u0634\\u064a \\u0643\\u064a\\u0647\\u062f\\u0631 \\u0639\\u0644\\u064a\\u0647\\u0645 \\u0648\\u062a\\u0646\\u0627\\u0642\\u0634\\u0648\\u0627 \\u0641\\u064a \\u0627\\u0644\\u0642\\u0646\\u0648\\u0627\\u062a \\u0627\\u0644\\u0639\\u0627\\u0644\\u0645\\u064a\\u0629\\u060c \\u0648\\u0627\\u0634 \\u062e\\u0631\\u062c \\u0634\\u064a \\u062d\\u062f \\u0645\\u0646 \\u0627\\u0644\\u062d\\u0643\\u0648\\u0645\\u0629 \\u064a\\u0642\\u0648\\u0644\\u064a\\u0646\\u0627 \\u0628\\u0627\\u0644\\u062f\\u0627\\u0631\\u062c\\u0629 \\u0637\\u0628\\u0639\\u0627 \\u0648\\u0645\\u0627\\u0634\\u064a \\u0628\\u0644\\u063a\\u0629 \\u0627\\u0644\\u062e\\u0634\\u0628\\u060c \\u0647\\u0627 \\u0627\\u0644\\u0645\\u0648\\u0634\\u0643\\u064a\\u0644 \\u0644\\u064a \\u0648\\u0642\\u0639 \\u0641\\u064a \\u0642\\u0636\\u064a\\u0629 \\u062f\\u0648\\u0643 \\u0627\\u0644\\u0646\\u0627\\u0633 \\u0648\\u0647\\u0627\\u0639\\u0644\\u0627\\u0634 \\u0628\\u0627\\u0642\\u064a\\u0646 \\u062a\\u0645\\u060c \\u0648\\u0627 \\u0648\\u0627\\u0644\\u0648 \\u0645\\u0643\\u0627\\u064a\\u0646 \\u063a\\u064a\\u0631 \\u0627\\u0644\\u0646\\u062e\\u0627\\u0644 \\u0648\\u0627\\u0644\\u062a\\u062c\\u0627\\u0647\\u0644 \\u0648\\u0627\\u0644\\u0635\\u0645\\u062a \\u0627\\u0644\\u0645\\u0637\\u0628\\u0642\\u060c \\u0639\\u0628\\u062f\\u064a\\u0644\\u0627\\u0647 \\u0645\\u0648\\u0644 \\u0627\\u0644\\u0633\\u0631\\u062f\\u064a\\u0646 \\u062f\\u0627\\u064a\\u0631 \\u062e\\u0628\\u0644\\u0629 \\u0641\\u064a \\u0627\\u0644\\u0628\\u0644\\u0627\\u062f \\u0637\\u0627\\u0644\\u0642 \\u0625\\u0634\\u0627\\u0639\\u0629 \\u062f\\u064a\\u0627\\u0644 \\u0627\\u0644\\u0633\\u0631\\u062f\\u064a\\u0646 \\u062e\\u0627\\u0635 \\u064a\\u062a\\u0628\\u0627\\u0639 \\u0628\\u062e\\u0645\\u0633\\u0629 \\u062f\\u0631\\u0627\\u0647\\u0645 \\u060c \\u062d\\u062a\\u0649 \\u062a\\u0637\\u0648\\u0631\\u0627\\u062a \\u0627\\u0644\\u0625\\u0634\\u0627\\u0639\\u0629 \\u0644\\u0623\\u062d\\u062f\\u0627\\u062b \\u062f\\u064a\\u0627\\u0644 \\u0625\\u0639\\u062a\\u062f\\u0627\\u0626\\u0627\\u062a \\u0648\\u0637\\u0631\\u062f \\u0644\\u0644\\u0628\\u064a\\u0627\\u0639\\u0629 \\u0648\\u0627\\u0644\\u0634\\u0631\\u0627\\u064a\\u0629 \\u0645\\u0646 \\u0627\\u0644\\u0633\\u0648\\u0642\\u060c \\u0648\\u0647\\u0627 \\u0643\\u062b\\u0631 \\u0645\\u0646 \\u0639\\u0634\\u0631\\u0629 \\u062f\\u0627\\u0644\\u0646\\u0627\\u0633 \\u0645\\u062a\\u0627\\u0628\\u0639\\u0627\\u0647\\u0645 \\u0627\\u0644\\u0646\\u064a\\u0627\\u0628\\u0629 \\u0627\\u0644\\u0639\\u0627\\u0645\\u0629\\u060c \\u0648\\u0628\\u064a\\u0627\\u0639\\u0629 \\u0648\\u0627\\u0644\\u0634\\u0631\\u0627\\u064a\\u0629 \\u062a\\u0643\\u0631\\u0641\\u0635\\u0627\\u062a \\u0644\\u064a\\u0647\\u0645 \\u0633\\u0644\\u0639\\u062a\\u0647\\u0645 \\u0647\\u0627\\u062f\\u0634\\u064a \\u0641\\u064a \\u0647\\u0631\\u0645\\u0648\\u0645\\u0648\\u060c \\u0648\\u0623\\u062d\\u062f\\u0627\\u062b \\u0637\\u0631\\u062f \\u0628\\u064a\\u0627\\u0639\\u0629 \\u0648\\u0642\\u0639\\u0627\\u062a \\u0641\\u064a \\u0623\\u0633\\u0648\\u0627\\u0642 \\u0623\\u062e\\u0631\\u0649\\u060c \\u0648\\u0644\\u062d\\u062f \\u0627\\u0644\\u0622\\u0646 \\u0643\\u0623\\u0646 \\u0627\\u0644\\u062d\\u0643\\u0648\\u0645\\u0629 \\u063a\\u064a\\u0631 \\u0645\\u0639\\u0646\\u064a\\u0629 \\u0628\\u0627\\u0644\\u0623\\u0645\\u0631\\u060c \\u0648\\u063a\\u064a\\u0631 \\u0628\\u0627\\u0644\\u0645\\u0646\\u0637\\u0642 \\u0631\\u0627\\u0647 \\u062e\\u0627\\u0635 \\u064a\\u0643\\u0648\\u0646 \\u062a\\u0648\\u0627\\u0635\\u0644 \\u062d\\u0642\\u064a\\u0642\\u064a \\u0648\\u0644\\u0642\\u0627\\u0626\\u0627\\u062a \\u0635\\u062d\\u0641\\u064a\\u0629 \\u0648\\u062e\\u0631\\u062c\\u0627\\u062a \\u0625\\u0639\\u0644\\u0627\\u0645\\u064a\\u0629\\u060c \\u0641\\u064a \\u0632\\u0645\\u0646 \\u0625\\u0643\\u0633 \\u0648\\u062a\\u064a\\u0643 \\u062a\\u0648\\u0643 \\u0648\\u0627\\u0644\\u064a\\u0648\\u062a\\u0648\\u0628\\u060c \\u0631\\u0627\\u0647 \\u062a\\u0631\\u0627\\u0645\\u0628 \\u062d\\u0627\\u0643\\u0645 \\u0627\\u0644\\u0639\\u0627\\u0644\\u0645 \\u063a\\u064a\\u0631 \\u0628\\u0627\\u0644\\u0633\\u0648\\u0634\\u0644 \\u0645\\u064a\\u062f\\u064a\\u0627.\\n\\u062d\\u062a\\u0649 \\u0627\\u0644\\u0635\\u062d\\u0627\\u0641\\u0629 \\u0641\\u0627\\u0634 \\u0643\\u064a\\u0645\\u0634\\u064a\\u0648 \\u064a\\u063a\\u0637\\u064a \\u0648\\u0634\\u064a \\u0646\\u0634\\u0627\\u0637 \\u0648\\u0643\\u064a\\u0643\\u0648\\u0646 \\u0628\\u064a\\u0646\\u0627\\u062a\\u0647\\u0645 \\u0634\\u064a \\u0635\\u062d\\u0641\\u064a \\u0634\\u062c\\u0627\\u0639 \\u0628\\u062d\\u0627\\u0644 \\u0635\\u062d\\u0641\\u064a \\u0645\\u0648\\u0642\\u0639 \\u0643\\u0648\\u062f \\u0644\\u064a \\u0633\\u0648\\u0644 \\u0627\\u0644\\u0641\\u062a\\u064a\\u062a\\u060c \\u0641\\u0627\\u0634 \\u0643\\u064a\\u0628\\u063a\\u064a\\u0648 \\u064a\\u0627\\u062e\\u062f\\u0648 \\u0634\\u064a \\u062a\\u0635\\u0631\\u064a\\u062d \\u0645\\u0646 \\u0634\\u064a \\u0648\\u0632\\u064a\\u0631 \\u0623\\u0648 \\u0648\\u0632\\u064a\\u0631\\u0629 \\u0643\\u064a\\u0628\\u0642\\u0627\\u0648 \\u063a\\u064a\\u0631 \\u064a\\u062a\\u0633\\u0644\\u062a\\u0648\\u0627 \\u0628\\u062d\\u0627\\u0644 \\u0627\\u0644\\u0649 \\u063a\\u0627\\u062f\\u064a \\u064a\\u0633\\u0648\\u0644\\u0648\\u0647\\u0645 \\u0639\\u0644\\u0649 \\u0627\\u0644\\u0645\\u062d\\u0631\\u0642\\u0629\\u060c \\u0628\\u064a\\u0646\\u0645\\u0627 \\u0628\\u0627\\u0642\\u064a \\u0627\\u0644\\u0639\\u0627\\u0644\\u0645 \\u0641\\u064a\\u0647 \\u0648\\u0632\\u0631\\u0627\\u0621 \\u0643\\u064a\\u062f\\u064a\\u0631\\u0648 \\u0641\\u064a\\u062f\\u064a\\u0648\\u0627\\u062a \\u0641\\u064a \\u062a\\u064a\\u0643 \\u062a\\u0648\\u0643 \\u0648\\u0643\\u064a\\u062a\\u0648\\u0627\\u0635\\u0644\\u0648\\u0627 \\u0645\\u0628\\u0627\\u0634\\u0631\\u0629 \\u0645\\u0639 \\u0627\\u0644\\u0645\\u0648\\u0627\\u0637\\u0646\\u064a\\u0646\\u060c \\u062d\\u0646\\u0627 \\u0648\\u0632\\u0627\\u0631\\u0626\\u0646\\u0627 \\u0643\\u064a\\u062e\\u0644\\u064a\\u0648\\u0643 \\u062a\\u062d\\u0633 \\u0628\\u062d\\u0627\\u0644 \\u0627\\u0644\\u0649 \\u0647\\u0648\\u0645\\u0627 \\u0645\\u0648\\u0638\\u0641\\u064a\\u0646 \\u0641\\u0634\\u064a \\u0625\\u062f\\u0627\\u0631\\u0629 \\u0633\\u0631\\u064a\\u0629\\u060c \\u0648\\u0623\\u0646 \\u0623\\u064a \\u0643\\u0644\\u0645\\u0629 \\u0643\\u062a\\u062e\\u0631\\u062c \\u0645\\u0646 \\u0641\\u0645\\u0647\\u0645 \\u0631\\u0627\\u0647 \\u062a\\u0639\\u062a\\u0628\\u0631 \\u0645\\u0646 \\u0623\\u0633\\u0631\\u0627\\u0631 \\u0627\\u0644\\u062f\\u0648\\u0644\\u0629\\u060c \\u0627\\u0644\\u062a\\u0645\\u0627\\u0646\\u064a\\u0646\\u0627\\u062a \\u0648\\u0645\\u0643\\u0627\\u0646\\u0634 \\u0641\\u064a\\u0647\\u0627 \\u0647\\u0627\\u062f\\u0634\\u064a\\u060c \\u064a\\u062f\\u062e\\u0644 \\u0623\\u064a \\u0648\\u0627\\u062d\\u062f \\u0644\\u064a\\u0648\\u062a\\u0648\\u0628 \\u0648\\u063a\\u0627\\u062f\\u064a \\u064a\\u0644\\u0642\\u0649 \\u0627\\u0644\\u0628\\u0635\\u0631\\u064a \\u0643\\u064a\\u0646\\u0627\\u0642\\u0634 \\u0641\\u064a \\u0627\\u0644\\u0628\\u0631\\u0644\\u0645\\u0627\\u0646 \\u0645\\u0639 \\u0627\\u0644\\u0628\\u0631\\u0644\\u0645\\u0627\\u0646\\u064a\\u064a\\u0646 \\u0628\\u0627\\u0644\\u0645\\u063a\\u0631\\u0628\\u064a\\u0629 \\u0648\\u0643\\u064a\\u0634\\u0631\\u062d \\u0648\\u064a\\u0641\\u0633\\u0631\\u060c \\u062f\\u0627\\u0628\\u0627 \\u0645\\u0646 \\u0628\\u0639\\u062f \\u0623\\u0643\\u062b\\u0631 \\u0645\\u0646 \\u0631\\u0628\\u0639 \\u0642\\u0631\\u0646 \\u062a\\u0648\\u0644\\u064a \\u0639\\u0646\\u062f\\u0646\\u0627 \\u062d\\u0643\\u0648\\u0645\\u0629 \\u0635\\u0627\\u0645\\u062a\\u0629 \\u0628\\u062d\\u0627\\u0644 \\u0634\\u064a \\u062d\\u0643\\u0648\\u0645\\u0629 \\u062f\\u064a\\u0627\\u0644 \\u0627\\u0644\\u0625\\u062a\\u062d\\u0627\\u062f \\u0627\\u0644\\u0633\\u0648\\u0641\\u064a\\u0627\\u062a\\u064a\\u060c \\u0627\\u0644\\u0649 \\u0628\\u0642\\u0627\\u0648 \\u0633\\u0627\\u0643\\u062a\\u064a\\u0646 \\u0631\\u0627\\u0647 \\u063a\\u0627\\u062f\\u064a \\u064a\\u0648\\u0644\\u064a\\u0648 \\u064a\\u0646\\u0627\\u0641\\u0633\\u0648\\u0647\\u0645 \\u0627\\u0644\\u064a\\u0648\\u062a\\u0648\\u0628\\u0648\\u0631\\u0627\\u062a \\u0648\\u062a\\u064a\\u0643\\u062a\\u064a\\u0643\\u0648\\u0631\\u0627\\u062a \\u0648\\u0627\\u0644\\u0645\\u0624\\u062b\\u0631\\u064a\\u0646 \\u064a\\u0648\\u0644\\u064a\\u0648 \\u0647\\u0648\\u0645\\u0627 \\u0645\\u0635\\u062f\\u0631 \\u0627\\u0644\\u0645\\u0639\\u0644\\u0648\\u0645\\u0629 \\u062d\\u0648\\u0644 \\u062d\\u0627\\u0644\\u0629 \\u0627\\u0644\\u0628\\u0644\\u0627\\u062f.\"\n        ],\n        \"semantic_type\": \"\",\n        \"description\": \"\"\n      }\n    },\n    {\n      \"column\": \"images\",\n      \"properties\": {\n        \"dtype\": \"string\",\n        \"num_unique_values\": 6,\n        \"samples\": [\n          \"https://sf.goud.ma/wp-content/uploads/2025/03/\\u0633\\u0631\\u0642\\u0629-\\u0633\\u064a\\u0627\\u0631\\u0627\\u062a-\\u0641\\u0627\\u0631\\u0647\\u0629.jpg\",\n          \"https://sf.goud.ma/wp-content/uploads/2025/03/\\u062f\\u0631\\u0648\\u0646.jpg\",\n          \"https://sf.goud.ma/wp-content/uploads/2025/01/\\u0628\\u0627\\u064a\\u062a\\u0627\\u0633-751x506.png\"\n        ],\n        \"semantic_type\": \"\",\n        \"description\": \"\"\n      }\n    }\n  ]\n}",
              "type": "dataframe",
              "variable_name": "df"
            },
            "text/html": [
              "\n",
              "  <div id=\"df-d98b6812-2933-4091-95d9-5eec94103c89\" class=\"colab-df-container\">\n",
              "    <div>\n",
              "<style scoped>\n",
              "    .dataframe tbody tr th:only-of-type {\n",
              "        vertical-align: middle;\n",
              "    }\n",
              "\n",
              "    .dataframe tbody tr th {\n",
              "        vertical-align: top;\n",
              "    }\n",
              "\n",
              "    .dataframe thead th {\n",
              "        text-align: right;\n",
              "    }\n",
              "</style>\n",
              "<table border=\"1\" class=\"dataframe\">\n",
              "  <thead>\n",
              "    <tr style=\"text-align: right;\">\n",
              "      <th></th>\n",
              "      <th>titles</th>\n",
              "      <th>content</th>\n",
              "      <th>images</th>\n",
              "    </tr>\n",
              "  </thead>\n",
              "  <tbody>\n",
              "    <tr>\n",
              "      <th>0</th>\n",
              "      <td>من بينها بورش ورانج روفر.. الحرس المدني حبط ته...</td>\n",
              "      <td>كود – كازا ///\\nقالت وكالة إيفي الإسبانية، إن ...</td>\n",
              "      <td>https://sf.goud.ma/wp-content/uploads/2025/03/...</td>\n",
              "    </tr>\n",
              "    <tr>\n",
              "      <th>1</th>\n",
              "      <td>رقم قياسي عالمي للدرون لي خداها المغرب من تركي...</td>\n",
              "      <td>أنس العمري – كود///\\nطائرة (Akıncı) بدون طيار،...</td>\n",
              "      <td>https://sf.goud.ma/wp-content/uploads/2025/03/...</td>\n",
              "    </tr>\n",
              "    <tr>\n",
              "      <th>2</th>\n",
              "      <td>فرنسي مطلوب للأنتربول طيحوه بوليس تنغير بمعلوم...</td>\n",
              "      <td>أنس العمري-كود///\\nأوقفت مصالح الشرطة القضائية...</td>\n",
              "      <td>https://sf.goud.ma/wp-content/uploads/2022/11/...</td>\n",
              "    </tr>\n",
              "    <tr>\n",
              "      <th>3</th>\n",
              "      <td>جودار طلب من لقجع العفو على المسيرين واللاعبين...</td>\n",
              "      <td>كود سبور//\\nطلب محمد جودار نائب رئيس الجامعة ا...</td>\n",
              "      <td>https://sf.goud.ma/wp-content/uploads/2025/03/...</td>\n",
              "    </tr>\n",
              "    <tr>\n",
              "      <th>4</th>\n",
              "      <td>مبيعات الأسلحة الإسبانية للمغرب ف عام 2024 تضا...</td>\n",
              "      <td>كود – كازا ///\\nقالت جريدة أوكدياريو الإسبانية...</td>\n",
              "      <td>https://sf.goud.ma/wp-content/uploads/2025/03/...</td>\n",
              "    </tr>\n",
              "    <tr>\n",
              "      <th>5</th>\n",
              "      <td>حتى إلى كانت هادي وحدة من أنجح الحكومات في تار...</td>\n",
              "      <td>محمد سقراط-كود///\\nحتى إلى كانت هادي وحدة من أ...</td>\n",
              "      <td>https://sf.goud.ma/wp-content/uploads/2025/01/...</td>\n",
              "    </tr>\n",
              "  </tbody>\n",
              "</table>\n",
              "</div>\n",
              "    <div class=\"colab-df-buttons\">\n",
              "\n",
              "  <div class=\"colab-df-container\">\n",
              "    <button class=\"colab-df-convert\" onclick=\"convertToInteractive('df-d98b6812-2933-4091-95d9-5eec94103c89')\"\n",
              "            title=\"Convert this dataframe to an interactive table.\"\n",
              "            style=\"display:none;\">\n",
              "\n",
              "  <svg xmlns=\"http://www.w3.org/2000/svg\" height=\"24px\" viewBox=\"0 -960 960 960\">\n",
              "    <path d=\"M120-120v-720h720v720H120Zm60-500h600v-160H180v160Zm220 220h160v-160H400v160Zm0 220h160v-160H400v160ZM180-400h160v-160H180v160Zm440 0h160v-160H620v160ZM180-180h160v-160H180v160Zm440 0h160v-160H620v160Z\"/>\n",
              "  </svg>\n",
              "    </button>\n",
              "\n",
              "  <style>\n",
              "    .colab-df-container {\n",
              "      display:flex;\n",
              "      gap: 12px;\n",
              "    }\n",
              "\n",
              "    .colab-df-convert {\n",
              "      background-color: #E8F0FE;\n",
              "      border: none;\n",
              "      border-radius: 50%;\n",
              "      cursor: pointer;\n",
              "      display: none;\n",
              "      fill: #1967D2;\n",
              "      height: 32px;\n",
              "      padding: 0 0 0 0;\n",
              "      width: 32px;\n",
              "    }\n",
              "\n",
              "    .colab-df-convert:hover {\n",
              "      background-color: #E2EBFA;\n",
              "      box-shadow: 0px 1px 2px rgba(60, 64, 67, 0.3), 0px 1px 3px 1px rgba(60, 64, 67, 0.15);\n",
              "      fill: #174EA6;\n",
              "    }\n",
              "\n",
              "    .colab-df-buttons div {\n",
              "      margin-bottom: 4px;\n",
              "    }\n",
              "\n",
              "    [theme=dark] .colab-df-convert {\n",
              "      background-color: #3B4455;\n",
              "      fill: #D2E3FC;\n",
              "    }\n",
              "\n",
              "    [theme=dark] .colab-df-convert:hover {\n",
              "      background-color: #434B5C;\n",
              "      box-shadow: 0px 1px 3px 1px rgba(0, 0, 0, 0.15);\n",
              "      filter: drop-shadow(0px 1px 2px rgba(0, 0, 0, 0.3));\n",
              "      fill: #FFFFFF;\n",
              "    }\n",
              "  </style>\n",
              "\n",
              "    <script>\n",
              "      const buttonEl =\n",
              "        document.querySelector('#df-d98b6812-2933-4091-95d9-5eec94103c89 button.colab-df-convert');\n",
              "      buttonEl.style.display =\n",
              "        google.colab.kernel.accessAllowed ? 'block' : 'none';\n",
              "\n",
              "      async function convertToInteractive(key) {\n",
              "        const element = document.querySelector('#df-d98b6812-2933-4091-95d9-5eec94103c89');\n",
              "        const dataTable =\n",
              "          await google.colab.kernel.invokeFunction('convertToInteractive',\n",
              "                                                    [key], {});\n",
              "        if (!dataTable) return;\n",
              "\n",
              "        const docLinkHtml = 'Like what you see? Visit the ' +\n",
              "          '<a target=\"_blank\" href=https://colab.research.google.com/notebooks/data_table.ipynb>data table notebook</a>'\n",
              "          + ' to learn more about interactive tables.';\n",
              "        element.innerHTML = '';\n",
              "        dataTable['output_type'] = 'display_data';\n",
              "        await google.colab.output.renderOutput(dataTable, element);\n",
              "        const docLink = document.createElement('div');\n",
              "        docLink.innerHTML = docLinkHtml;\n",
              "        element.appendChild(docLink);\n",
              "      }\n",
              "    </script>\n",
              "  </div>\n",
              "\n",
              "\n",
              "<div id=\"df-417065ed-b75b-41bf-b0b5-b77aa5380785\">\n",
              "  <button class=\"colab-df-quickchart\" onclick=\"quickchart('df-417065ed-b75b-41bf-b0b5-b77aa5380785')\"\n",
              "            title=\"Suggest charts\"\n",
              "            style=\"display:none;\">\n",
              "\n",
              "<svg xmlns=\"http://www.w3.org/2000/svg\" height=\"24px\"viewBox=\"0 0 24 24\"\n",
              "     width=\"24px\">\n",
              "    <g>\n",
              "        <path d=\"M19 3H5c-1.1 0-2 .9-2 2v14c0 1.1.9 2 2 2h14c1.1 0 2-.9 2-2V5c0-1.1-.9-2-2-2zM9 17H7v-7h2v7zm4 0h-2V7h2v10zm4 0h-2v-4h2v4z\"/>\n",
              "    </g>\n",
              "</svg>\n",
              "  </button>\n",
              "\n",
              "<style>\n",
              "  .colab-df-quickchart {\n",
              "      --bg-color: #E8F0FE;\n",
              "      --fill-color: #1967D2;\n",
              "      --hover-bg-color: #E2EBFA;\n",
              "      --hover-fill-color: #174EA6;\n",
              "      --disabled-fill-color: #AAA;\n",
              "      --disabled-bg-color: #DDD;\n",
              "  }\n",
              "\n",
              "  [theme=dark] .colab-df-quickchart {\n",
              "      --bg-color: #3B4455;\n",
              "      --fill-color: #D2E3FC;\n",
              "      --hover-bg-color: #434B5C;\n",
              "      --hover-fill-color: #FFFFFF;\n",
              "      --disabled-bg-color: #3B4455;\n",
              "      --disabled-fill-color: #666;\n",
              "  }\n",
              "\n",
              "  .colab-df-quickchart {\n",
              "    background-color: var(--bg-color);\n",
              "    border: none;\n",
              "    border-radius: 50%;\n",
              "    cursor: pointer;\n",
              "    display: none;\n",
              "    fill: var(--fill-color);\n",
              "    height: 32px;\n",
              "    padding: 0;\n",
              "    width: 32px;\n",
              "  }\n",
              "\n",
              "  .colab-df-quickchart:hover {\n",
              "    background-color: var(--hover-bg-color);\n",
              "    box-shadow: 0 1px 2px rgba(60, 64, 67, 0.3), 0 1px 3px 1px rgba(60, 64, 67, 0.15);\n",
              "    fill: var(--button-hover-fill-color);\n",
              "  }\n",
              "\n",
              "  .colab-df-quickchart-complete:disabled,\n",
              "  .colab-df-quickchart-complete:disabled:hover {\n",
              "    background-color: var(--disabled-bg-color);\n",
              "    fill: var(--disabled-fill-color);\n",
              "    box-shadow: none;\n",
              "  }\n",
              "\n",
              "  .colab-df-spinner {\n",
              "    border: 2px solid var(--fill-color);\n",
              "    border-color: transparent;\n",
              "    border-bottom-color: var(--fill-color);\n",
              "    animation:\n",
              "      spin 1s steps(1) infinite;\n",
              "  }\n",
              "\n",
              "  @keyframes spin {\n",
              "    0% {\n",
              "      border-color: transparent;\n",
              "      border-bottom-color: var(--fill-color);\n",
              "      border-left-color: var(--fill-color);\n",
              "    }\n",
              "    20% {\n",
              "      border-color: transparent;\n",
              "      border-left-color: var(--fill-color);\n",
              "      border-top-color: var(--fill-color);\n",
              "    }\n",
              "    30% {\n",
              "      border-color: transparent;\n",
              "      border-left-color: var(--fill-color);\n",
              "      border-top-color: var(--fill-color);\n",
              "      border-right-color: var(--fill-color);\n",
              "    }\n",
              "    40% {\n",
              "      border-color: transparent;\n",
              "      border-right-color: var(--fill-color);\n",
              "      border-top-color: var(--fill-color);\n",
              "    }\n",
              "    60% {\n",
              "      border-color: transparent;\n",
              "      border-right-color: var(--fill-color);\n",
              "    }\n",
              "    80% {\n",
              "      border-color: transparent;\n",
              "      border-right-color: var(--fill-color);\n",
              "      border-bottom-color: var(--fill-color);\n",
              "    }\n",
              "    90% {\n",
              "      border-color: transparent;\n",
              "      border-bottom-color: var(--fill-color);\n",
              "    }\n",
              "  }\n",
              "</style>\n",
              "\n",
              "  <script>\n",
              "    async function quickchart(key) {\n",
              "      const quickchartButtonEl =\n",
              "        document.querySelector('#' + key + ' button');\n",
              "      quickchartButtonEl.disabled = true;  // To prevent multiple clicks.\n",
              "      quickchartButtonEl.classList.add('colab-df-spinner');\n",
              "      try {\n",
              "        const charts = await google.colab.kernel.invokeFunction(\n",
              "            'suggestCharts', [key], {});\n",
              "      } catch (error) {\n",
              "        console.error('Error during call to suggestCharts:', error);\n",
              "      }\n",
              "      quickchartButtonEl.classList.remove('colab-df-spinner');\n",
              "      quickchartButtonEl.classList.add('colab-df-quickchart-complete');\n",
              "    }\n",
              "    (() => {\n",
              "      let quickchartButtonEl =\n",
              "        document.querySelector('#df-417065ed-b75b-41bf-b0b5-b77aa5380785 button');\n",
              "      quickchartButtonEl.style.display =\n",
              "        google.colab.kernel.accessAllowed ? 'block' : 'none';\n",
              "    })();\n",
              "  </script>\n",
              "</div>\n",
              "\n",
              "  <div id=\"id_a091ef4f-0d89-47ce-8c7f-a195cbc69446\">\n",
              "    <style>\n",
              "      .colab-df-generate {\n",
              "        background-color: #E8F0FE;\n",
              "        border: none;\n",
              "        border-radius: 50%;\n",
              "        cursor: pointer;\n",
              "        display: none;\n",
              "        fill: #1967D2;\n",
              "        height: 32px;\n",
              "        padding: 0 0 0 0;\n",
              "        width: 32px;\n",
              "      }\n",
              "\n",
              "      .colab-df-generate:hover {\n",
              "        background-color: #E2EBFA;\n",
              "        box-shadow: 0px 1px 2px rgba(60, 64, 67, 0.3), 0px 1px 3px 1px rgba(60, 64, 67, 0.15);\n",
              "        fill: #174EA6;\n",
              "      }\n",
              "\n",
              "      [theme=dark] .colab-df-generate {\n",
              "        background-color: #3B4455;\n",
              "        fill: #D2E3FC;\n",
              "      }\n",
              "\n",
              "      [theme=dark] .colab-df-generate:hover {\n",
              "        background-color: #434B5C;\n",
              "        box-shadow: 0px 1px 3px 1px rgba(0, 0, 0, 0.15);\n",
              "        filter: drop-shadow(0px 1px 2px rgba(0, 0, 0, 0.3));\n",
              "        fill: #FFFFFF;\n",
              "      }\n",
              "    </style>\n",
              "    <button class=\"colab-df-generate\" onclick=\"generateWithVariable('df')\"\n",
              "            title=\"Generate code using this dataframe.\"\n",
              "            style=\"display:none;\">\n",
              "\n",
              "  <svg xmlns=\"http://www.w3.org/2000/svg\" height=\"24px\"viewBox=\"0 0 24 24\"\n",
              "       width=\"24px\">\n",
              "    <path d=\"M7,19H8.4L18.45,9,17,7.55,7,17.6ZM5,21V16.75L18.45,3.32a2,2,0,0,1,2.83,0l1.4,1.43a1.91,1.91,0,0,1,.58,1.4,1.91,1.91,0,0,1-.58,1.4L9.25,21ZM18.45,9,17,7.55Zm-12,3A5.31,5.31,0,0,0,4.9,8.1,5.31,5.31,0,0,0,1,6.5,5.31,5.31,0,0,0,4.9,4.9,5.31,5.31,0,0,0,6.5,1,5.31,5.31,0,0,0,8.1,4.9,5.31,5.31,0,0,0,12,6.5,5.46,5.46,0,0,0,6.5,12Z\"/>\n",
              "  </svg>\n",
              "    </button>\n",
              "    <script>\n",
              "      (() => {\n",
              "      const buttonEl =\n",
              "        document.querySelector('#id_a091ef4f-0d89-47ce-8c7f-a195cbc69446 button.colab-df-generate');\n",
              "      buttonEl.style.display =\n",
              "        google.colab.kernel.accessAllowed ? 'block' : 'none';\n",
              "\n",
              "      buttonEl.onclick = () => {\n",
              "        google.colab.notebook.generateWithVariable('df');\n",
              "      }\n",
              "      })();\n",
              "    </script>\n",
              "  </div>\n",
              "\n",
              "    </div>\n",
              "  </div>\n"
            ],
            "text/plain": [
              "                                              titles  \\\n",
              "0  من بينها بورش ورانج روفر.. الحرس المدني حبط ته...   \n",
              "1  رقم قياسي عالمي للدرون لي خداها المغرب من تركي...   \n",
              "2  فرنسي مطلوب للأنتربول طيحوه بوليس تنغير بمعلوم...   \n",
              "3  جودار طلب من لقجع العفو على المسيرين واللاعبين...   \n",
              "4  مبيعات الأسلحة الإسبانية للمغرب ف عام 2024 تضا...   \n",
              "5  حتى إلى كانت هادي وحدة من أنجح الحكومات في تار...   \n",
              "\n",
              "                                             content  \\\n",
              "0  كود – كازا ///\\nقالت وكالة إيفي الإسبانية، إن ...   \n",
              "1  أنس العمري – كود///\\nطائرة (Akıncı) بدون طيار،...   \n",
              "2  أنس العمري-كود///\\nأوقفت مصالح الشرطة القضائية...   \n",
              "3  كود سبور//\\nطلب محمد جودار نائب رئيس الجامعة ا...   \n",
              "4  كود – كازا ///\\nقالت جريدة أوكدياريو الإسبانية...   \n",
              "5  محمد سقراط-كود///\\nحتى إلى كانت هادي وحدة من أ...   \n",
              "\n",
              "                                              images  \n",
              "0  https://sf.goud.ma/wp-content/uploads/2025/03/...  \n",
              "1  https://sf.goud.ma/wp-content/uploads/2025/03/...  \n",
              "2  https://sf.goud.ma/wp-content/uploads/2022/11/...  \n",
              "3  https://sf.goud.ma/wp-content/uploads/2025/03/...  \n",
              "4  https://sf.goud.ma/wp-content/uploads/2025/03/...  \n",
              "5  https://sf.goud.ma/wp-content/uploads/2025/01/...  "
            ]
          },
          "execution_count": 73,
          "metadata": {},
          "output_type": "execute_result"
        }
      ],
      "source": [
        "import pandas as pd\n",
        "df=pd.DataFrame(data)\n",
        "df"
      ]
    },
    {
      "cell_type": "markdown",
      "metadata": {
        "id": "KseCZTjBBrqM"
      },
      "source": [
        "* The step of scraping is finished ... ✅\n",
        "\n",
        "## Push scraped dataset to HuggingFace\n",
        "* Now we will push our scrapped dataset to huggingface 🤗 as the last step"
      ]
    },
    {
      "cell_type": "code",
      "execution_count": null,
      "metadata": {
        "colab": {
          "base_uri": "https://localhost:8080/"
        },
        "id": "IEfW3it9BdzA",
        "outputId": "abdb93ac-6a9b-46e8-8e64-f63aaaf99925"
      },
      "outputs": [
        {
          "name": "stdout",
          "output_type": "stream",
          "text": [
            "\u001b[?25l   \u001b[90m━━━━━━━━━━━━━━━━━━━━━━━━━━━━━━━━━━━━━━━━\u001b[0m \u001b[32m0.0/485.4 kB\u001b[0m \u001b[31m?\u001b[0m eta \u001b[36m-:--:--\u001b[0m\r\n",
            "\u001b[2K   \u001b[91m━━━━━━━━━━━━━━━━━━━━━━━━━━━━━━━━━━━━━━━\u001b[0m\u001b[91m╸\u001b[0m \u001b[32m481.3/485.4 kB\u001b[0m \u001b[31m26.5 MB/s\u001b[0m eta \u001b[36m0:00:01\u001b[0m\r\n",
            "\u001b[2K   \u001b[90m━━━━━━━━━━━━━━━━━━━━━━━━━━━━━━━━━━━━━━━━\u001b[0m \u001b[32m485.4/485.4 kB\u001b[0m \u001b[31m13.0 MB/s\u001b[0m eta \u001b[36m0:00:00\u001b[0m\n",
            "\u001b[?25h\u001b[?25l   \u001b[90m━━━━━━━━━━━━━━━━━━━━━━━━━━━━━━━━━━━━━━━━\u001b[0m \u001b[32m0.0/116.3 kB\u001b[0m \u001b[31m?\u001b[0m eta \u001b[36m-:--:--\u001b[0m\r\n",
            "\u001b[2K   \u001b[90m━━━━━━━━━━━━━━━━━━━━━━━━━━━━━━━━━━━━━━━━\u001b[0m \u001b[32m116.3/116.3 kB\u001b[0m \u001b[31m7.1 MB/s\u001b[0m eta \u001b[36m0:00:00\u001b[0m\n",
            "\u001b[2K   \u001b[90m━━━━━━━━━━━━━━━━━━━━━━━━━━━━━━━━━━━━━━━━\u001b[0m \u001b[32m143.5/143.5 kB\u001b[0m \u001b[31m10.3 MB/s\u001b[0m eta \u001b[36m0:00:00\u001b[0m\n",
            "\u001b[2K   \u001b[90m━━━━━━━━━━━━━━━━━━━━━━━━━━━━━━━━━━━━━━━━\u001b[0m \u001b[32m194.8/194.8 kB\u001b[0m \u001b[31m12.4 MB/s\u001b[0m eta \u001b[36m0:00:00\u001b[0m\n",
            "\u001b[?25h"
          ]
        }
      ],
      "source": [
        "! pip install datasets -q # install datasets by hf"
      ]
    },
    {
      "cell_type": "code",
      "execution_count": null,
      "metadata": {
        "colab": {
          "base_uri": "https://localhost:8080/",
          "height": 133,
          "referenced_widgets": [
            "a51a7a1f8f124c67831bac917aa9f521",
            "bd8aa96e01934d8baef8a468995f065b",
            "53bda4c7de514fdaafb41b9375ea784d",
            "d7ae3bdfa3d54ea3befee67774f49e41",
            "2172e01bc5a744bfa395c0675ec4ee20",
            "76a0d523ec5e4678bc8b5722434145d3",
            "1b248e1599074b05ab16ba7c579f3008",
            "866080c1452849ff9d249d3301a362c5",
            "e6700f60a3fc45a7836cef27030ec294",
            "6b7d8089bda64f57b9d63d77ed7e1838",
            "9b81d21461d54381aa58c604bc7690a4",
            "e39a9053406f4cd391787b480a7a1e53",
            "49e146d67f8c4592a8e9307224ca31b6",
            "6b430a7ff3f2416b821a2a2f131ec4a0",
            "6112c86863004b13ad37e0fd8e683ae8",
            "fcc0f933ce3343a3ac7f19416163891e",
            "f8a63efd99174cc994a9db8dc636b78c",
            "834795d74baf427d90956e9540bcc46c",
            "c92b80cfe31d464186cf75d7219a7382",
            "622bf4ed92b249bbb4dc244cba13aedd",
            "6801191e611f4d9586dc0c6511639b6f",
            "bb30d1c3c1b74f95b98672151d74fdf0"
          ]
        },
        "id": "aAKgtv2LCf-j",
        "outputId": "052e45af-ac48-439d-960f-9bbcedd6ba20"
      },
      "outputs": [
        {
          "data": {
            "application/vnd.jupyter.widget-view+json": {
              "model_id": "a51a7a1f8f124c67831bac917aa9f521",
              "version_major": 2,
              "version_minor": 0
            },
            "text/plain": [
              "Uploading the dataset shards:   0%|          | 0/1 [00:00<?, ?it/s]"
            ]
          },
          "metadata": {},
          "output_type": "display_data"
        },
        {
          "data": {
            "application/vnd.jupyter.widget-view+json": {
              "model_id": "e39a9053406f4cd391787b480a7a1e53",
              "version_major": 2,
              "version_minor": 0
            },
            "text/plain": [
              "Creating parquet from Arrow format:   0%|          | 0/1 [00:00<?, ?ba/s]"
            ]
          },
          "metadata": {},
          "output_type": "display_data"
        },
        {
          "data": {
            "application/vnd.google.colaboratory.intrinsic+json": {
              "type": "string"
            },
            "text/plain": [
              "CommitInfo(commit_url='https://huggingface.co/datasets/atlasia/good25/commit/da0a53ed9c88914840c164c82abe67ffca415ba5', commit_message='Upload dataset', commit_description='', oid='da0a53ed9c88914840c164c82abe67ffca415ba5', pr_url=None, repo_url=RepoUrl('https://huggingface.co/datasets/atlasia/good25', endpoint='https://huggingface.co', repo_type='dataset', repo_id='atlasia/good25'), pr_revision=None, pr_num=None)"
            ]
          },
          "execution_count": 76,
          "metadata": {},
          "output_type": "execute_result"
        }
      ],
      "source": [
        "from datasets import Dataset\n",
        "HF_WRITE_TOKEN=\"\" # your hf write token\n",
        "HF_DATASET_REPO=\"atlasia/good25\" # username/datasetname\n",
        "ds=Dataset.from_pandas(df)\n",
        "ds.push_to_hub(HF_DATASET_REPO,token=HF_WRITE_TOKEN)"
      ]
    },
    {
      "cell_type": "code",
      "execution_count": null,
      "metadata": {
        "id": "jIRm__kiBncH"
      },
      "outputs": [],
      "source": []
    }
  ],
  "metadata": {
    "colab": {
      "provenance": []
    },
    "kernelspec": {
      "display_name": "Python 3 (ipykernel)",
      "language": "python",
      "name": "python3"
    },
    "language_info": {
      "codemirror_mode": {
        "name": "ipython",
        "version": 3
      },
      "file_extension": ".py",
      "mimetype": "text/x-python",
      "name": "python",
      "nbconvert_exporter": "python",
      "pygments_lexer": "ipython3",
      "version": "3.10.13"
    },
    "widgets": {
      "application/vnd.jupyter.widget-state+json": {
        "1b248e1599074b05ab16ba7c579f3008": {
          "model_module": "@jupyter-widgets/controls",
          "model_module_version": "1.5.0",
          "model_name": "DescriptionStyleModel",
          "state": {
            "_model_module": "@jupyter-widgets/controls",
            "_model_module_version": "1.5.0",
            "_model_name": "DescriptionStyleModel",
            "_view_count": null,
            "_view_module": "@jupyter-widgets/base",
            "_view_module_version": "1.2.0",
            "_view_name": "StyleView",
            "description_width": ""
          }
        },
        "2172e01bc5a744bfa395c0675ec4ee20": {
          "model_module": "@jupyter-widgets/base",
          "model_module_version": "1.2.0",
          "model_name": "LayoutModel",
          "state": {
            "_model_module": "@jupyter-widgets/base",
            "_model_module_version": "1.2.0",
            "_model_name": "LayoutModel",
            "_view_count": null,
            "_view_module": "@jupyter-widgets/base",
            "_view_module_version": "1.2.0",
            "_view_name": "LayoutView",
            "align_content": null,
            "align_items": null,
            "align_self": null,
            "border": null,
            "bottom": null,
            "display": null,
            "flex": null,
            "flex_flow": null,
            "grid_area": null,
            "grid_auto_columns": null,
            "grid_auto_flow": null,
            "grid_auto_rows": null,
            "grid_column": null,
            "grid_gap": null,
            "grid_row": null,
            "grid_template_areas": null,
            "grid_template_columns": null,
            "grid_template_rows": null,
            "height": null,
            "justify_content": null,
            "justify_items": null,
            "left": null,
            "margin": null,
            "max_height": null,
            "max_width": null,
            "min_height": null,
            "min_width": null,
            "object_fit": null,
            "object_position": null,
            "order": null,
            "overflow": null,
            "overflow_x": null,
            "overflow_y": null,
            "padding": null,
            "right": null,
            "top": null,
            "visibility": null,
            "width": null
          }
        },
        "49e146d67f8c4592a8e9307224ca31b6": {
          "model_module": "@jupyter-widgets/controls",
          "model_module_version": "1.5.0",
          "model_name": "HTMLModel",
          "state": {
            "_dom_classes": [],
            "_model_module": "@jupyter-widgets/controls",
            "_model_module_version": "1.5.0",
            "_model_name": "HTMLModel",
            "_view_count": null,
            "_view_module": "@jupyter-widgets/controls",
            "_view_module_version": "1.5.0",
            "_view_name": "HTMLView",
            "description": "",
            "description_tooltip": null,
            "layout": "IPY_MODEL_f8a63efd99174cc994a9db8dc636b78c",
            "placeholder": "​",
            "style": "IPY_MODEL_834795d74baf427d90956e9540bcc46c",
            "value": "Creating parquet from Arrow format: 100%"
          }
        },
        "53bda4c7de514fdaafb41b9375ea784d": {
          "model_module": "@jupyter-widgets/controls",
          "model_module_version": "1.5.0",
          "model_name": "FloatProgressModel",
          "state": {
            "_dom_classes": [],
            "_model_module": "@jupyter-widgets/controls",
            "_model_module_version": "1.5.0",
            "_model_name": "FloatProgressModel",
            "_view_count": null,
            "_view_module": "@jupyter-widgets/controls",
            "_view_module_version": "1.5.0",
            "_view_name": "ProgressView",
            "bar_style": "success",
            "description": "",
            "description_tooltip": null,
            "layout": "IPY_MODEL_866080c1452849ff9d249d3301a362c5",
            "max": 1,
            "min": 0,
            "orientation": "horizontal",
            "style": "IPY_MODEL_e6700f60a3fc45a7836cef27030ec294",
            "value": 1
          }
        },
        "6112c86863004b13ad37e0fd8e683ae8": {
          "model_module": "@jupyter-widgets/controls",
          "model_module_version": "1.5.0",
          "model_name": "HTMLModel",
          "state": {
            "_dom_classes": [],
            "_model_module": "@jupyter-widgets/controls",
            "_model_module_version": "1.5.0",
            "_model_name": "HTMLModel",
            "_view_count": null,
            "_view_module": "@jupyter-widgets/controls",
            "_view_module_version": "1.5.0",
            "_view_name": "HTMLView",
            "description": "",
            "description_tooltip": null,
            "layout": "IPY_MODEL_6801191e611f4d9586dc0c6511639b6f",
            "placeholder": "​",
            "style": "IPY_MODEL_bb30d1c3c1b74f95b98672151d74fdf0",
            "value": " 1/1 [00:00&lt;00:00, 37.77ba/s]"
          }
        },
        "622bf4ed92b249bbb4dc244cba13aedd": {
          "model_module": "@jupyter-widgets/controls",
          "model_module_version": "1.5.0",
          "model_name": "ProgressStyleModel",
          "state": {
            "_model_module": "@jupyter-widgets/controls",
            "_model_module_version": "1.5.0",
            "_model_name": "ProgressStyleModel",
            "_view_count": null,
            "_view_module": "@jupyter-widgets/base",
            "_view_module_version": "1.2.0",
            "_view_name": "StyleView",
            "bar_color": null,
            "description_width": ""
          }
        },
        "6801191e611f4d9586dc0c6511639b6f": {
          "model_module": "@jupyter-widgets/base",
          "model_module_version": "1.2.0",
          "model_name": "LayoutModel",
          "state": {
            "_model_module": "@jupyter-widgets/base",
            "_model_module_version": "1.2.0",
            "_model_name": "LayoutModel",
            "_view_count": null,
            "_view_module": "@jupyter-widgets/base",
            "_view_module_version": "1.2.0",
            "_view_name": "LayoutView",
            "align_content": null,
            "align_items": null,
            "align_self": null,
            "border": null,
            "bottom": null,
            "display": null,
            "flex": null,
            "flex_flow": null,
            "grid_area": null,
            "grid_auto_columns": null,
            "grid_auto_flow": null,
            "grid_auto_rows": null,
            "grid_column": null,
            "grid_gap": null,
            "grid_row": null,
            "grid_template_areas": null,
            "grid_template_columns": null,
            "grid_template_rows": null,
            "height": null,
            "justify_content": null,
            "justify_items": null,
            "left": null,
            "margin": null,
            "max_height": null,
            "max_width": null,
            "min_height": null,
            "min_width": null,
            "object_fit": null,
            "object_position": null,
            "order": null,
            "overflow": null,
            "overflow_x": null,
            "overflow_y": null,
            "padding": null,
            "right": null,
            "top": null,
            "visibility": null,
            "width": null
          }
        },
        "6b430a7ff3f2416b821a2a2f131ec4a0": {
          "model_module": "@jupyter-widgets/controls",
          "model_module_version": "1.5.0",
          "model_name": "FloatProgressModel",
          "state": {
            "_dom_classes": [],
            "_model_module": "@jupyter-widgets/controls",
            "_model_module_version": "1.5.0",
            "_model_name": "FloatProgressModel",
            "_view_count": null,
            "_view_module": "@jupyter-widgets/controls",
            "_view_module_version": "1.5.0",
            "_view_name": "ProgressView",
            "bar_style": "success",
            "description": "",
            "description_tooltip": null,
            "layout": "IPY_MODEL_c92b80cfe31d464186cf75d7219a7382",
            "max": 1,
            "min": 0,
            "orientation": "horizontal",
            "style": "IPY_MODEL_622bf4ed92b249bbb4dc244cba13aedd",
            "value": 1
          }
        },
        "6b7d8089bda64f57b9d63d77ed7e1838": {
          "model_module": "@jupyter-widgets/base",
          "model_module_version": "1.2.0",
          "model_name": "LayoutModel",
          "state": {
            "_model_module": "@jupyter-widgets/base",
            "_model_module_version": "1.2.0",
            "_model_name": "LayoutModel",
            "_view_count": null,
            "_view_module": "@jupyter-widgets/base",
            "_view_module_version": "1.2.0",
            "_view_name": "LayoutView",
            "align_content": null,
            "align_items": null,
            "align_self": null,
            "border": null,
            "bottom": null,
            "display": null,
            "flex": null,
            "flex_flow": null,
            "grid_area": null,
            "grid_auto_columns": null,
            "grid_auto_flow": null,
            "grid_auto_rows": null,
            "grid_column": null,
            "grid_gap": null,
            "grid_row": null,
            "grid_template_areas": null,
            "grid_template_columns": null,
            "grid_template_rows": null,
            "height": null,
            "justify_content": null,
            "justify_items": null,
            "left": null,
            "margin": null,
            "max_height": null,
            "max_width": null,
            "min_height": null,
            "min_width": null,
            "object_fit": null,
            "object_position": null,
            "order": null,
            "overflow": null,
            "overflow_x": null,
            "overflow_y": null,
            "padding": null,
            "right": null,
            "top": null,
            "visibility": null,
            "width": null
          }
        },
        "76a0d523ec5e4678bc8b5722434145d3": {
          "model_module": "@jupyter-widgets/base",
          "model_module_version": "1.2.0",
          "model_name": "LayoutModel",
          "state": {
            "_model_module": "@jupyter-widgets/base",
            "_model_module_version": "1.2.0",
            "_model_name": "LayoutModel",
            "_view_count": null,
            "_view_module": "@jupyter-widgets/base",
            "_view_module_version": "1.2.0",
            "_view_name": "LayoutView",
            "align_content": null,
            "align_items": null,
            "align_self": null,
            "border": null,
            "bottom": null,
            "display": null,
            "flex": null,
            "flex_flow": null,
            "grid_area": null,
            "grid_auto_columns": null,
            "grid_auto_flow": null,
            "grid_auto_rows": null,
            "grid_column": null,
            "grid_gap": null,
            "grid_row": null,
            "grid_template_areas": null,
            "grid_template_columns": null,
            "grid_template_rows": null,
            "height": null,
            "justify_content": null,
            "justify_items": null,
            "left": null,
            "margin": null,
            "max_height": null,
            "max_width": null,
            "min_height": null,
            "min_width": null,
            "object_fit": null,
            "object_position": null,
            "order": null,
            "overflow": null,
            "overflow_x": null,
            "overflow_y": null,
            "padding": null,
            "right": null,
            "top": null,
            "visibility": null,
            "width": null
          }
        },
        "834795d74baf427d90956e9540bcc46c": {
          "model_module": "@jupyter-widgets/controls",
          "model_module_version": "1.5.0",
          "model_name": "DescriptionStyleModel",
          "state": {
            "_model_module": "@jupyter-widgets/controls",
            "_model_module_version": "1.5.0",
            "_model_name": "DescriptionStyleModel",
            "_view_count": null,
            "_view_module": "@jupyter-widgets/base",
            "_view_module_version": "1.2.0",
            "_view_name": "StyleView",
            "description_width": ""
          }
        },
        "866080c1452849ff9d249d3301a362c5": {
          "model_module": "@jupyter-widgets/base",
          "model_module_version": "1.2.0",
          "model_name": "LayoutModel",
          "state": {
            "_model_module": "@jupyter-widgets/base",
            "_model_module_version": "1.2.0",
            "_model_name": "LayoutModel",
            "_view_count": null,
            "_view_module": "@jupyter-widgets/base",
            "_view_module_version": "1.2.0",
            "_view_name": "LayoutView",
            "align_content": null,
            "align_items": null,
            "align_self": null,
            "border": null,
            "bottom": null,
            "display": null,
            "flex": null,
            "flex_flow": null,
            "grid_area": null,
            "grid_auto_columns": null,
            "grid_auto_flow": null,
            "grid_auto_rows": null,
            "grid_column": null,
            "grid_gap": null,
            "grid_row": null,
            "grid_template_areas": null,
            "grid_template_columns": null,
            "grid_template_rows": null,
            "height": null,
            "justify_content": null,
            "justify_items": null,
            "left": null,
            "margin": null,
            "max_height": null,
            "max_width": null,
            "min_height": null,
            "min_width": null,
            "object_fit": null,
            "object_position": null,
            "order": null,
            "overflow": null,
            "overflow_x": null,
            "overflow_y": null,
            "padding": null,
            "right": null,
            "top": null,
            "visibility": null,
            "width": null
          }
        },
        "9b81d21461d54381aa58c604bc7690a4": {
          "model_module": "@jupyter-widgets/controls",
          "model_module_version": "1.5.0",
          "model_name": "DescriptionStyleModel",
          "state": {
            "_model_module": "@jupyter-widgets/controls",
            "_model_module_version": "1.5.0",
            "_model_name": "DescriptionStyleModel",
            "_view_count": null,
            "_view_module": "@jupyter-widgets/base",
            "_view_module_version": "1.2.0",
            "_view_name": "StyleView",
            "description_width": ""
          }
        },
        "a51a7a1f8f124c67831bac917aa9f521": {
          "model_module": "@jupyter-widgets/controls",
          "model_module_version": "1.5.0",
          "model_name": "HBoxModel",
          "state": {
            "_dom_classes": [],
            "_model_module": "@jupyter-widgets/controls",
            "_model_module_version": "1.5.0",
            "_model_name": "HBoxModel",
            "_view_count": null,
            "_view_module": "@jupyter-widgets/controls",
            "_view_module_version": "1.5.0",
            "_view_name": "HBoxView",
            "box_style": "",
            "children": [
              "IPY_MODEL_bd8aa96e01934d8baef8a468995f065b",
              "IPY_MODEL_53bda4c7de514fdaafb41b9375ea784d",
              "IPY_MODEL_d7ae3bdfa3d54ea3befee67774f49e41"
            ],
            "layout": "IPY_MODEL_2172e01bc5a744bfa395c0675ec4ee20"
          }
        },
        "bb30d1c3c1b74f95b98672151d74fdf0": {
          "model_module": "@jupyter-widgets/controls",
          "model_module_version": "1.5.0",
          "model_name": "DescriptionStyleModel",
          "state": {
            "_model_module": "@jupyter-widgets/controls",
            "_model_module_version": "1.5.0",
            "_model_name": "DescriptionStyleModel",
            "_view_count": null,
            "_view_module": "@jupyter-widgets/base",
            "_view_module_version": "1.2.0",
            "_view_name": "StyleView",
            "description_width": ""
          }
        },
        "bd8aa96e01934d8baef8a468995f065b": {
          "model_module": "@jupyter-widgets/controls",
          "model_module_version": "1.5.0",
          "model_name": "HTMLModel",
          "state": {
            "_dom_classes": [],
            "_model_module": "@jupyter-widgets/controls",
            "_model_module_version": "1.5.0",
            "_model_name": "HTMLModel",
            "_view_count": null,
            "_view_module": "@jupyter-widgets/controls",
            "_view_module_version": "1.5.0",
            "_view_name": "HTMLView",
            "description": "",
            "description_tooltip": null,
            "layout": "IPY_MODEL_76a0d523ec5e4678bc8b5722434145d3",
            "placeholder": "​",
            "style": "IPY_MODEL_1b248e1599074b05ab16ba7c579f3008",
            "value": "Uploading the dataset shards: 100%"
          }
        },
        "c92b80cfe31d464186cf75d7219a7382": {
          "model_module": "@jupyter-widgets/base",
          "model_module_version": "1.2.0",
          "model_name": "LayoutModel",
          "state": {
            "_model_module": "@jupyter-widgets/base",
            "_model_module_version": "1.2.0",
            "_model_name": "LayoutModel",
            "_view_count": null,
            "_view_module": "@jupyter-widgets/base",
            "_view_module_version": "1.2.0",
            "_view_name": "LayoutView",
            "align_content": null,
            "align_items": null,
            "align_self": null,
            "border": null,
            "bottom": null,
            "display": null,
            "flex": null,
            "flex_flow": null,
            "grid_area": null,
            "grid_auto_columns": null,
            "grid_auto_flow": null,
            "grid_auto_rows": null,
            "grid_column": null,
            "grid_gap": null,
            "grid_row": null,
            "grid_template_areas": null,
            "grid_template_columns": null,
            "grid_template_rows": null,
            "height": null,
            "justify_content": null,
            "justify_items": null,
            "left": null,
            "margin": null,
            "max_height": null,
            "max_width": null,
            "min_height": null,
            "min_width": null,
            "object_fit": null,
            "object_position": null,
            "order": null,
            "overflow": null,
            "overflow_x": null,
            "overflow_y": null,
            "padding": null,
            "right": null,
            "top": null,
            "visibility": null,
            "width": null
          }
        },
        "d7ae3bdfa3d54ea3befee67774f49e41": {
          "model_module": "@jupyter-widgets/controls",
          "model_module_version": "1.5.0",
          "model_name": "HTMLModel",
          "state": {
            "_dom_classes": [],
            "_model_module": "@jupyter-widgets/controls",
            "_model_module_version": "1.5.0",
            "_model_name": "HTMLModel",
            "_view_count": null,
            "_view_module": "@jupyter-widgets/controls",
            "_view_module_version": "1.5.0",
            "_view_name": "HTMLView",
            "description": "",
            "description_tooltip": null,
            "layout": "IPY_MODEL_6b7d8089bda64f57b9d63d77ed7e1838",
            "placeholder": "​",
            "style": "IPY_MODEL_9b81d21461d54381aa58c604bc7690a4",
            "value": " 1/1 [00:00&lt;00:00,  1.52it/s]"
          }
        },
        "e39a9053406f4cd391787b480a7a1e53": {
          "model_module": "@jupyter-widgets/controls",
          "model_module_version": "1.5.0",
          "model_name": "HBoxModel",
          "state": {
            "_dom_classes": [],
            "_model_module": "@jupyter-widgets/controls",
            "_model_module_version": "1.5.0",
            "_model_name": "HBoxModel",
            "_view_count": null,
            "_view_module": "@jupyter-widgets/controls",
            "_view_module_version": "1.5.0",
            "_view_name": "HBoxView",
            "box_style": "",
            "children": [
              "IPY_MODEL_49e146d67f8c4592a8e9307224ca31b6",
              "IPY_MODEL_6b430a7ff3f2416b821a2a2f131ec4a0",
              "IPY_MODEL_6112c86863004b13ad37e0fd8e683ae8"
            ],
            "layout": "IPY_MODEL_fcc0f933ce3343a3ac7f19416163891e"
          }
        },
        "e6700f60a3fc45a7836cef27030ec294": {
          "model_module": "@jupyter-widgets/controls",
          "model_module_version": "1.5.0",
          "model_name": "ProgressStyleModel",
          "state": {
            "_model_module": "@jupyter-widgets/controls",
            "_model_module_version": "1.5.0",
            "_model_name": "ProgressStyleModel",
            "_view_count": null,
            "_view_module": "@jupyter-widgets/base",
            "_view_module_version": "1.2.0",
            "_view_name": "StyleView",
            "bar_color": null,
            "description_width": ""
          }
        },
        "f8a63efd99174cc994a9db8dc636b78c": {
          "model_module": "@jupyter-widgets/base",
          "model_module_version": "1.2.0",
          "model_name": "LayoutModel",
          "state": {
            "_model_module": "@jupyter-widgets/base",
            "_model_module_version": "1.2.0",
            "_model_name": "LayoutModel",
            "_view_count": null,
            "_view_module": "@jupyter-widgets/base",
            "_view_module_version": "1.2.0",
            "_view_name": "LayoutView",
            "align_content": null,
            "align_items": null,
            "align_self": null,
            "border": null,
            "bottom": null,
            "display": null,
            "flex": null,
            "flex_flow": null,
            "grid_area": null,
            "grid_auto_columns": null,
            "grid_auto_flow": null,
            "grid_auto_rows": null,
            "grid_column": null,
            "grid_gap": null,
            "grid_row": null,
            "grid_template_areas": null,
            "grid_template_columns": null,
            "grid_template_rows": null,
            "height": null,
            "justify_content": null,
            "justify_items": null,
            "left": null,
            "margin": null,
            "max_height": null,
            "max_width": null,
            "min_height": null,
            "min_width": null,
            "object_fit": null,
            "object_position": null,
            "order": null,
            "overflow": null,
            "overflow_x": null,
            "overflow_y": null,
            "padding": null,
            "right": null,
            "top": null,
            "visibility": null,
            "width": null
          }
        },
        "fcc0f933ce3343a3ac7f19416163891e": {
          "model_module": "@jupyter-widgets/base",
          "model_module_version": "1.2.0",
          "model_name": "LayoutModel",
          "state": {
            "_model_module": "@jupyter-widgets/base",
            "_model_module_version": "1.2.0",
            "_model_name": "LayoutModel",
            "_view_count": null,
            "_view_module": "@jupyter-widgets/base",
            "_view_module_version": "1.2.0",
            "_view_name": "LayoutView",
            "align_content": null,
            "align_items": null,
            "align_self": null,
            "border": null,
            "bottom": null,
            "display": null,
            "flex": null,
            "flex_flow": null,
            "grid_area": null,
            "grid_auto_columns": null,
            "grid_auto_flow": null,
            "grid_auto_rows": null,
            "grid_column": null,
            "grid_gap": null,
            "grid_row": null,
            "grid_template_areas": null,
            "grid_template_columns": null,
            "grid_template_rows": null,
            "height": null,
            "justify_content": null,
            "justify_items": null,
            "left": null,
            "margin": null,
            "max_height": null,
            "max_width": null,
            "min_height": null,
            "min_width": null,
            "object_fit": null,
            "object_position": null,
            "order": null,
            "overflow": null,
            "overflow_x": null,
            "overflow_y": null,
            "padding": null,
            "right": null,
            "top": null,
            "visibility": null,
            "width": null
          }
        }
      }
    }
  },
  "nbformat": 4,
  "nbformat_minor": 0
}