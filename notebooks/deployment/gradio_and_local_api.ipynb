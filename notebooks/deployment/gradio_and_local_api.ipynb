{
  "cells": [
    {
      "cell_type": "markdown",
      "metadata": {
        "id": "_15uhOvvzB0S"
      },
      "source": [
        "<h1>Deploy Gradio Apps to Hugging Face Spaces</h1>\n",
        "\n",
        "This notebook will teach you how to create and deploy Gradio applications to Hugging Face Spaces in simple steps.\n",
        "\n",
        "## What you'll learn:\n",
        "- Create a simple Gradio app\n",
        "- Test it locally\n",
        "- Deploy to Hugging Face Spaces\n",
        "- Best practices and tips"
      ]
    },
    {
      "cell_type": "markdown",
      "metadata": {
        "id": "pVBM8eWBzB0S"
      },
      "source": [
        "## 📦 Step 1: Install Required Libraries\n",
        "\n",
        "First, let's install Gradio and other necessary packages."
      ]
    },
    {
      "cell_type": "code",
      "execution_count": null,
      "metadata": {
        "colab": {
          "base_uri": "https://localhost:8080/"
        },
        "id": "hx4fw0mHzB0S",
        "outputId": "ff2d0380-d264-446f-acba-1fe8635b449a"
      },
      "outputs": [],
      "source": [
        "# Install required packages\n",
        "!pip install gradio\n",
        "!pip install huggingface_hub"
      ]
    },
    {
      "cell_type": "markdown",
      "metadata": {
        "id": "hc38wW0PzB0T"
      },
      "source": [
        "## 🎯 Step 2: Create Your First Gradio App\n",
        "\n",
        "Let's start with a simple text processing app that converts text to uppercase and counts words."
      ]
    },
    {
      "cell_type": "code",
      "execution_count": null,
      "metadata": {
        "colab": {
          "base_uri": "https://localhost:8080/"
        },
        "id": "T5UZZ28MzB0T",
        "outputId": "fb5ade08-427c-4bb7-e756-5b7c86557867"
      },
      "outputs": [
        {
          "name": "stdout",
          "output_type": "stream",
          "text": [
            "Uppercase: HELLO WORLD! THIS IS A TEST.\n",
            "Word count: 6\n"
          ]
        }
      ],
      "source": [
        "import gradio as gr\n",
        "\n",
        "def process_text(text):\n",
        "    \"\"\"\n",
        "    Simple function that processes text:\n",
        "    - Converts to uppercase\n",
        "    - Counts words\n",
        "    - Returns both results\n",
        "    \"\"\"\n",
        "    if not text:\n",
        "        return \"Please enter some text!\", 0\n",
        "\n",
        "    uppercase_text = text.upper()\n",
        "    word_count = len(text.split())\n",
        "\n",
        "    return uppercase_text, word_count\n",
        "\n",
        "# Test the function\n",
        "test_result = process_text(\"Hello world! This is a test.\")\n",
        "print(f\"Uppercase: {test_result[0]}\")\n",
        "print(f\"Word count: {test_result[1]}\")"
      ]
    },
    {
      "cell_type": "markdown",
      "metadata": {
        "id": "HX2-C_L_zB0T"
      },
      "source": [
        "## 🎨 Step 3: Create the Gradio Interface\n",
        "\n",
        "Now let's create a beautiful Gradio interface for our function."
      ]
    },
    {
      "cell_type": "code",
      "execution_count": null,
      "metadata": {
        "colab": {
          "base_uri": "https://localhost:8080/",
          "height": 648
        },
        "id": "zYBqoW2PzB0T",
        "outputId": "ffbfc3cb-cba4-4efd-cf0c-d37c927b1c69"
      },
      "outputs": [
        {
          "name": "stdout",
          "output_type": "stream",
          "text": [
            "Colab notebook detected. This cell will run indefinitely so that you can see errors and logs. To turn off, set debug=False in launch().\n",
            "* Running on public URL: https://a3712d5e96c3bf6e1b.gradio.live\n",
            "\n",
            "This share link expires in 1 week. For free permanent hosting and GPU upgrades, run `gradio deploy` from the terminal in the working directory to deploy to Hugging Face Spaces (https://huggingface.co/spaces)\n"
          ]
        },
        {
          "data": {
            "text/html": [
              "<div><iframe src=\"https://a3712d5e96c3bf6e1b.gradio.live\" width=\"100%\" height=\"500\" allow=\"autoplay; camera; microphone; clipboard-read; clipboard-write;\" frameborder=\"0\" allowfullscreen></iframe></div>"
            ],
            "text/plain": [
              "<IPython.core.display.HTML object>"
            ]
          },
          "metadata": {},
          "output_type": "display_data"
        },
        {
          "name": "stdout",
          "output_type": "stream",
          "text": [
            "Keyboard interruption in main thread... closing server.\n",
            "Killing tunnel 127.0.0.1:7860 <> https://a3712d5e96c3bf6e1b.gradio.live\n"
          ]
        }
      ],
      "source": [
        "# Create the Gradio interface\n",
        "demo = gr.Interface(\n",
        "    fn=process_text,\n",
        "    inputs=[\n",
        "        gr.Textbox(\n",
        "            label=\"Enter your text\",\n",
        "            placeholder=\"Type something here...\",\n",
        "            lines=3\n",
        "        )\n",
        "    ],\n",
        "    outputs=[\n",
        "        gr.Textbox(label=\"Uppercase Text\", lines=3),\n",
        "        gr.Number(label=\"Word Count\")\n",
        "    ],\n",
        "    title=\"📝 Text Processor\",\n",
        "    description=\"Enter some text and I'll convert it to uppercase and count the words!\",\n",
        "    examples=[\n",
        "        [\"Hello world!\"],\n",
        "        [\"Gradio makes machine learning demos easy!\"],\n",
        "        [\"This is a sample text with multiple words to demonstrate the word counting feature.\"]\n",
        "    ],\n",
        "    theme=gr.themes.Soft()\n",
        ")\n",
        "\n",
        "# Launch the app locally\n",
        "if __name__ == \"__main__\":\n",
        "    demo.launch(debug=True, share=True)"
      ]
    },
    {
      "cell_type": "markdown",
      "metadata": {
        "id": "ZIGgVj1ozB0T"
      },
      "source": [
        "## 📁 Step 4: Prepare Files for Deployment\n",
        "\n",
        "To deploy to Hugging Face Spaces, we need to create specific files. Let's create them:"
      ]
    },
    {
      "cell_type": "code",
      "execution_count": null,
      "metadata": {
        "colab": {
          "base_uri": "https://localhost:8080/"
        },
        "id": "OgQHmaCEzB0T",
        "outputId": "86ec0330-eeeb-45dc-b2e0-22755400b315"
      },
      "outputs": [
        {
          "name": "stdout",
          "output_type": "stream",
          "text": [
            "✅ app.py created successfully!\n"
          ]
        }
      ],
      "source": [
        "import os\n",
        "\n",
        "# Create the main app file\n",
        "app_code = '''import gradio as gr\n",
        "\n",
        "def process_text(text):\n",
        "    \"\"\"\n",
        "    Simple function that processes text:\n",
        "    - Converts to uppercase\n",
        "    - Counts words\n",
        "    - Returns both results\n",
        "    \"\"\"\n",
        "    if not text:\n",
        "        return \"Please enter some text!\", 0\n",
        "\n",
        "    uppercase_text = text.upper()\n",
        "    word_count = len(text.split())\n",
        "\n",
        "    return uppercase_text, word_count\n",
        "\n",
        "# Create the Gradio interface\n",
        "demo = gr.Interface(\n",
        "    fn=process_text,\n",
        "    inputs=[\n",
        "        gr.Textbox(\n",
        "            label=\"Enter your text\",\n",
        "            placeholder=\"Type something here...\",\n",
        "            lines=3\n",
        "        )\n",
        "    ],\n",
        "    outputs=[\n",
        "        gr.Textbox(label=\"Uppercase Text\", lines=3),\n",
        "        gr.Number(label=\"Word Count\")\n",
        "    ],\n",
        "    title=\"📝 Text Processor\",\n",
        "    description=\"Enter some text and I'll convert it to uppercase and count the words!\",\n",
        "    examples=[\n",
        "        [\"Hello world!\"],\n",
        "        [\"Gradio makes machine learning demos easy!\"],\n",
        "        [\"This is a sample text with multiple words to demonstrate the word counting feature.\"]\n",
        "    ],\n",
        "    theme=gr.themes.Soft()\n",
        ")\n",
        "\n",
        "if __name__ == \"__main__\":\n",
        "    demo.launch()\n",
        "'''\n",
        "\n",
        "# Save the app file\n",
        "with open('app.py', 'w') as f:\n",
        "    f.write(app_code)\n",
        "\n",
        "print(\"✅ app.py created successfully!\")"
      ]
    },
    {
      "cell_type": "code",
      "execution_count": null,
      "metadata": {
        "colab": {
          "base_uri": "https://localhost:8080/"
        },
        "id": "tv66Fg8yzB0T",
        "outputId": "1b7c23f8-0396-4422-dcd1-936cd00f354e"
      },
      "outputs": [
        {
          "name": "stdout",
          "output_type": "stream",
          "text": [
            "✅ requirements.txt created successfully!\n"
          ]
        }
      ],
      "source": [
        "# Create requirements.txt file\n",
        "requirements = '''gradio>=4.0.0\n",
        "'''\n",
        "\n",
        "with open('requirements.txt', 'w') as f:\n",
        "    f.write(requirements)\n",
        "\n",
        "print(\"✅ requirements.txt created successfully!\")"
      ]
    },
    {
      "cell_type": "code",
      "execution_count": null,
      "metadata": {
        "colab": {
          "base_uri": "https://localhost:8080/"
        },
        "id": "xm56YyE9zB0T",
        "outputId": "ebf15b98-fae8-4a41-8aef-0b7beee2026c"
      },
      "outputs": [
        {
          "name": "stdout",
          "output_type": "stream",
          "text": [
            "✅ README.md created successfully!\n"
          ]
        }
      ],
      "source": [
        "# Create README.md file\n",
        "readme_content = '''---\n",
        "title: Text Processor\n",
        "emoji: 📝\n",
        "colorFrom: blue\n",
        "colorTo: purple\n",
        "sdk: gradio\n",
        "sdk_version: 4.44.0\n",
        "app_file: app.py\n",
        "pinned: false\n",
        "license: mit\n",
        "---\n",
        "\n",
        "# Text Processor\n",
        "\n",
        "A simple Gradio app that:\n",
        "- Converts text to uppercase\n",
        "- Counts the number of words\n",
        "\n",
        "Built with ❤️ using Gradio!\n",
        "'''\n",
        "\n",
        "with open('README.md', 'w') as f:\n",
        "    f.write(readme_content)\n",
        "\n",
        "print(\"✅ README.md created successfully!\")"
      ]
    },
    {
      "cell_type": "markdown",
      "metadata": {
        "id": "MzIfQM0hzB0U"
      },
      "source": [
        "## 🔐 Step 5: Set Up Hugging Face Authentication\n",
        "\n",
        "You'll need a Hugging Face account and token to deploy. Here's how to set it up:"
      ]
    },
    {
      "cell_type": "code",
      "execution_count": null,
      "metadata": {
        "colab": {
          "base_uri": "https://localhost:8080/"
        },
        "id": "N8W4W0c8zB0U",
        "outputId": "f830f2a2-7aca-4179-ca5e-7d03b03ac9e6"
      },
      "outputs": [
        {
          "name": "stdout",
          "output_type": "stream",
          "text": [
            "🔑 Please enter your Hugging Face token:\n",
            "Get it from: https://huggingface.co/settings/tokens\n",
            "Enter your HF token: ··········\n"
          ]
        }
      ],
      "source": [
        "from huggingface_hub import HfApi, login\n",
        "import getpass\n",
        "\n",
        "# Login to Hugging Face\n",
        "# You can get your token from: https://huggingface.co/settings/tokens\n",
        "print(\"🔑 Please enter your Hugging Face token:\")\n",
        "print(\"Get it from: https://huggingface.co/settings/tokens\")\n",
        "\n",
        "token = getpass.getpass(\"Enter your HF token: \")\n",
        "login(token=token)"
      ]
    },
    {
      "cell_type": "markdown",
      "metadata": {
        "id": "diEaB8kjzB0U"
      },
      "source": [
        "## 🚀 Step 6: Deploy to Hugging Face Spaces\n",
        "\n",
        "Now let's deploy our app to Hugging Face Spaces!"
      ]
    },
    {
      "cell_type": "code",
      "execution_count": null,
      "metadata": {
        "colab": {
          "base_uri": "https://localhost:8080/"
        },
        "id": "IOQEuooSzB0U",
        "outputId": "a6a4bcba-9cc4-4c27-bcb1-dc19a328cd08"
      },
      "outputs": [
        {
          "name": "stdout",
          "output_type": "stream",
          "text": [
            "✅ Space 'medmekk/my-text-processor-demo' created successfully!\n",
            "🎉 App deployed successfully!\n",
            "🌐 Visit your app at: https://huggingface.co/spaces/medmekk/my-text-processor-demo\n"
          ]
        }
      ],
      "source": [
        "from huggingface_hub import HfApi\n",
        "\n",
        "def deploy_to_spaces(space_name, username):\n",
        "    \"\"\"\n",
        "    Deploy the current directory to Hugging Face Spaces\n",
        "\n",
        "    Args:\n",
        "        space_name: Name for your space (e.g., 'my-text-processor')\n",
        "        username: Your Hugging Face username\n",
        "    \"\"\"\n",
        "    api = HfApi()\n",
        "\n",
        "    repo_id = f\"{username}/{space_name}\"\n",
        "\n",
        "    try:\n",
        "        # Create the space\n",
        "        api.create_repo(\n",
        "            repo_id=repo_id,\n",
        "            repo_type=\"space\",\n",
        "            space_sdk=\"gradio\",\n",
        "            private=False\n",
        "        )\n",
        "        print(f\"✅ Space '{repo_id}' created successfully!\")\n",
        "\n",
        "        # Upload files\n",
        "        api.upload_file(\n",
        "            path_or_fileobj=\"app.py\",\n",
        "            path_in_repo=\"app.py\",\n",
        "            repo_id=repo_id,\n",
        "            repo_type=\"space\"\n",
        "        )\n",
        "\n",
        "        api.upload_file(\n",
        "            path_or_fileobj=\"requirements.txt\",\n",
        "            path_in_repo=\"requirements.txt\",\n",
        "            repo_id=repo_id,\n",
        "            repo_type=\"space\"\n",
        "        )\n",
        "\n",
        "        api.upload_file(\n",
        "            path_or_fileobj=\"README.md\",\n",
        "            path_in_repo=\"README.md\",\n",
        "            repo_id=repo_id,\n",
        "            repo_type=\"space\"\n",
        "        )\n",
        "\n",
        "        print(f\"🎉 App deployed successfully!\")\n",
        "        print(f\"🌐 Visit your app at: https://huggingface.co/spaces/{repo_id}\")\n",
        "\n",
        "    except Exception as e:\n",
        "        print(f\"❌ Error: {e}\")\n",
        "        print(\"Make sure you're logged in and the space name doesn't already exist.\")\n",
        "\n",
        "# Example usage (uncomment and modify with your details):\n",
        "deploy_to_spaces(\"my-text-processor-demo\", \"medmekk\")"
      ]
    },
    {
      "cell_type": "markdown",
      "metadata": {
        "id": "KFJEzsx1zB0U"
      },
      "source": [
        "## 📋 Step 7: Alternative Deployment Methods\n",
        "\n",
        "If you prefer, you can also deploy manually through the Hugging Face website:"
      ]
    },
    {
      "cell_type": "markdown",
      "metadata": {
        "id": "uysYsD9ZzB0U"
      },
      "source": [
        "### Method 1: Web Interface\n",
        "1. Go to [huggingface.co/new-space](https://huggingface.co/new-space)\n",
        "2. Choose \"Gradio\" as the SDK\n",
        "3. Upload your files (`app.py`, `requirements.txt`, `README.md`)\n",
        "4. Your app will build and deploy automatically!\n",
        "\n",
        "### Method 2: Git Clone Method\n",
        "```bash\n",
        "# Create the repo and clone it to work locally (best option)\n",
        "git clone https://huggingface.co/spaces/your-username/your-space-name\n",
        "cd your-space-name\n",
        "\n",
        "# Copy your files\n",
        "cp app.py requirements.txt README.md ./\n",
        "\n",
        "# Commit and push\n",
        "git add .\n",
        "git commit -m \"Add Gradio app\"\n",
        "git push\n",
        "```"
      ]
    },
    {
      "cell_type": "markdown",
      "metadata": {
        "id": "vq10hbYfzB0U"
      },
      "source": [
        "## 💡 Best Practices & Tips\n",
        "\n",
        "### 1. File Structure\n",
        "Your Hugging Face Space should have:\n",
        "```\n",
        "your-space/\n",
        "├── app.py          # Main application file\n",
        "├── requirements.txt # Python dependencies\n",
        "└── README.md       # Space configuration and description\n",
        "```\n",
        "\n",
        "### 2. README.md Configuration\n",
        "The header in README.md is crucial:\n",
        "- `sdk: gradio` tells HF to use Gradio\n",
        "- `app_file: app.py` specifies the main file\n",
        "- `sdk_version` should match your Gradio version\n",
        "\n",
        "### 3. Requirements.txt Tips\n",
        "- Pin versions for stability: `gradio==4.44.0`\n",
        "- Include all dependencies your app needs\n",
        "- Keep it minimal to reduce build time\n",
        "\n",
        "### 4. App.py Best Practices\n",
        "- Always include error handling\n",
        "- Use descriptive labels and placeholders\n",
        "- Add examples to showcase functionality\n",
        "- Test locally before deploying"
      ]
    },
    {
      "cell_type": "markdown",
      "metadata": {
        "id": "rAJmDNdbzB0U"
      },
      "source": [
        "## 🔧 Troubleshooting Common Issues\n",
        "\n",
        "### Build Failures\n",
        "- Check your `requirements.txt` for typos\n",
        "- Ensure all imports in `app.py` are available\n",
        "- Check the build logs in your Space's \"Logs\" tab\n",
        "\n",
        "### App Not Loading\n",
        "- Make sure `app.py` has `if __name__ == \"__main__\": demo.launch()`\n",
        "- Check that your main interface is named `demo`\n",
        "- Verify the `app_file` in README.md matches your filename\n",
        "\n",
        "### Performance Issues\n",
        "- Optimize your functions for speed\n",
        "- Consider using Gradio's built-in caching\n",
        "- For heavy models, consider using GPU spaces"
      ]
    },
    {
      "cell_type": "markdown",
      "metadata": {
        "id": "0ilVTspm_-E3"
      },
      "source": [
        "# Local API\n",
        "\n"
      ]
    },
    {
      "cell_type": "markdown",
      "metadata": {
        "id": "SgUToJGEJfVX"
      },
      "source": [
        "You can deploy your model on custom resources such as Google Colab, making it accessible via a public API. This is especially useful when you want to demonstrate your model's capabilities.\n",
        "\n",
        "Here is an example of how to deploy a text translation model (FLAN-T5) using FastAPI and Ngrok.\n",
        "\n",
        "You can deploy any other model in the same way."
      ]
    },
    {
      "cell_type": "code",
      "execution_count": null,
      "metadata": {
        "colab": {
          "base_uri": "https://localhost:8080/"
        },
        "id": "HkqDZ_98IlJE",
        "outputId": "8b8ea550-63fa-4d40-f3ab-6d58d7cc1728"
      },
      "outputs": [],
      "source": [
        "!pip install fastapi uvicorn transformers accelerate pyngrok nest-asyncio -qq"
      ]
    },
    {
      "cell_type": "markdown",
      "metadata": {
        "id": "NyIF-lcBLGVE"
      },
      "source": [
        "This sets up the translation API and loads the pretrained **flan-t5-base** model."
      ]
    },
    {
      "cell_type": "code",
      "execution_count": null,
      "metadata": {
        "colab": {
          "base_uri": "https://localhost:8080/"
        },
        "id": "fR9Da1YLI2Oj",
        "outputId": "77c7e476-e1ae-4707-e5de-8f44e4229d3d"
      },
      "outputs": [
        {
          "name": "stderr",
          "output_type": "stream",
          "text": [
            "/usr/local/lib/python3.11/dist-packages/huggingface_hub/utils/_auth.py:94: UserWarning: \n",
            "The secret `HF_TOKEN` does not exist in your Colab secrets.\n",
            "To authenticate with the Hugging Face Hub, create a token in your settings tab (https://huggingface.co/settings/tokens), set it as secret in your Google Colab and restart your session.\n",
            "You will be able to reuse this secret in all of your notebooks.\n",
            "Please note that authentication is recommended but still optional to access public models or datasets.\n",
            "  warnings.warn(\n",
            "You are using the default legacy behaviour of the <class 'transformers.models.t5.tokenization_t5.T5Tokenizer'>. This is expected, and simply means that the `legacy` (previous) behavior will be used so nothing changes for you. If you want to use the new behaviour, set `legacy=False`. This should only be set if you understand what it means, and thoroughly read the reason why this was added as explained in https://github.com/huggingface/transformers/pull/24565\n"
          ]
        }
      ],
      "source": [
        "from fastapi import FastAPI\n",
        "from pydantic import BaseModel\n",
        "from transformers import T5Tokenizer, T5ForConditionalGeneration\n",
        "import torch\n",
        "\n",
        "# Initialize app\n",
        "app = FastAPI(title=\"T5 Translation API\", description=\"Translate English to other languages using FLAN-T5\")\n",
        "\n",
        "# Load model and tokenizer\n",
        "tokenizer = T5Tokenizer.from_pretrained(\"google/flan-t5-base\")\n",
        "model = T5ForConditionalGeneration.from_pretrained(\"google/flan-t5-base\")\n",
        "device = torch.device(\"cuda\" if torch.cuda.is_available() else \"cpu\")\n",
        "model.to(device)\n",
        "\n",
        "# Define request schema\n",
        "class InputText(BaseModel):\n",
        "    text: str\n",
        "\n",
        "# Endpoint for text translation\n",
        "@app.post(\"/translate\")\n",
        "def generate_text(data: InputText):\n",
        "    input_ids = tokenizer(data.text, return_tensors=\"pt\").input_ids.to(device)\n",
        "    output_ids = model.generate(input_ids)\n",
        "    output_text = tokenizer.decode(output_ids[0], skip_special_tokens=True)\n",
        "    return {\"output\": output_text}\n"
      ]
    },
    {
      "cell_type": "markdown",
      "metadata": {
        "id": "jx4EhbSKLCOc"
      },
      "source": [
        "Create an Ngrok Account :\n",
        "- Sign up (or log in) to Ngrok:\n",
        "👉 https://dashboard.ngrok.com/signup\n",
        "\n",
        "- Once logged in, go to:\n",
        "👉 https://dashboard.ngrok.com/get-started/your-authtoken\n",
        "\n",
        "- Copy your authtoken (it looks like 1pJsd0X....)\n",
        "\n",
        "- Run this in your Colab notebook (replace <YOUR_AUTHTOKEN>):\n",
        "```!ngrok config add-authtoken <YOUR_AUTHTOKEN>```\n"
      ]
    },
    {
      "cell_type": "code",
      "execution_count": null,
      "metadata": {
        "colab": {
          "base_uri": "https://localhost:8080/"
        },
        "id": "g2LHSlyBMI9g",
        "outputId": "b695c865-271f-49be-e90b-b5332a6ee2ae"
      },
      "outputs": [
        {
          "name": "stdout",
          "output_type": "stream",
          "text": [
            "Authtoken saved to configuration file: /root/.config/ngrok/ngrok.yml\n"
          ]
        }
      ],
      "source": [
        "!ngrok config add-authtoken <YOUR_AUTHTOKEN>"
      ]
    },
    {
      "cell_type": "code",
      "execution_count": null,
      "metadata": {
        "colab": {
          "background_save": true,
          "base_uri": "https://localhost:8080/"
        },
        "id": "ShUhiDFOKF-J",
        "outputId": "989e2376-f00e-4d7e-87d8-1d48175a8aae"
      },
      "outputs": [
        {
          "name": "stdout",
          "output_type": "stream",
          "text": [
            "🌐 Public URL: NgrokTunnel: \"https://ba76-34-150-220-201.ngrok-free.app\" -> \"http://localhost:8000\"/docs\n"
          ]
        },
        {
          "name": "stderr",
          "output_type": "stream",
          "text": [
            "INFO:     Started server process [8522]\n",
            "INFO:     Waiting for application startup.\n",
            "INFO:     Application startup complete.\n",
            "INFO:     Uvicorn running on http://0.0.0.0:8000 (Press CTRL+C to quit)\n"
          ]
        },
        {
          "name": "stdout",
          "output_type": "stream",
          "text": [
            "INFO:     197.230.240.146:0 - \"POST /translate HTTP/1.1\" 200 OK\n"
          ]
        }
      ],
      "source": [
        "import nest_asyncio\n",
        "from pyngrok import ngrok\n",
        "import uvicorn\n",
        "\n",
        "# Enable nested event loops for Colab\n",
        "nest_asyncio.apply()\n",
        "\n",
        "# Create a public URL\n",
        "public_url = ngrok.connect(8000)\n",
        "print(f\"🌐 Public URL: {public_url}/docs\")\n",
        "\n",
        "# Run the server\n",
        "uvicorn.run(app, host=\"0.0.0.0\", port=8000)"
      ]
    },
    {
      "cell_type": "markdown",
      "metadata": {
        "id": "4lfvFJKSM9ed"
      },
      "source": [
        "In another file in your local computer or another colab notebook, execute the code below to get a response from your endpoint."
      ]
    },
    {
      "cell_type": "code",
      "execution_count": null,
      "metadata": {
        "id": "mzTspJwXM8fN"
      },
      "outputs": [],
      "source": [
        "import requests\n",
        "\n",
        "# Replace this with your actual public ngrok URL\n",
        "url = \"https://ba76-34-150-220-201.ngrok-free.app/translate\"\n",
        "\n",
        "# Input text for the translation model\n",
        "payload = {\n",
        "    \"text\": \"translate English to French: What time is the meeting?\"\n",
        "}\n",
        "\n",
        "# Make the POST request\n",
        "response = requests.post(url, json=payload)\n",
        "\n",
        "print(\"Model Output:\", response.json())"
      ]
    },
    {
      "cell_type": "markdown",
      "metadata": {
        "id": "aFmNMVziyHVz"
      },
      "source": [
        "\n",
        "# HF inference API"
      ]
    },
    {
      "cell_type": "code",
      "execution_count": null,
      "metadata": {
        "id": "FnWDLcC4PIjW"
      },
      "outputs": [],
      "source": [
        "from huggingface_hub import HfApi\n",
        "\n",
        "api = HfApi()\n",
        "\n",
        "# Upload entire folder\n",
        "api.upload_folder(\n",
        "    folder_path=\"path/to/your/local/model\",\n",
        "    repo_id=\"your-username/your-model-name\",\n",
        "    repo_type=\"model\"\n",
        ")_pretrained(\"path/to/your/local/model\")\n",
        "tokenizer = AutoTokenizer.from_pretrained(\"path/to/your/local/model\")\n",
        "\n",
        "# Push to Hub\n",
        "model.push_to_hub(\"your-username/your-model-name\")\n",
        "tokenizer.push_to_hub(\"your-username/your-model-name\")"
      ]
    },
    {
      "cell_type": "markdown",
      "metadata": {
        "id": "v7RJiZrC0_RE"
      },
      "source": [
        "# Challenge"
      ]
    },
    {
      "cell_type": "markdown",
      "metadata": {
        "id": "K8mDKEZm1I8K"
      },
      "source": [
        "Deploy a simple LLM inference gradio demo"
      ]
    }
  ],
  "metadata": {
    "accelerator": "GPU",
    "colab": {
      "gpuType": "T4",
      "provenance": []
    },
    "kernelspec": {
      "display_name": "Python 3",
      "name": "python3"
    },
    "language_info": {
      "codemirror_mode": {
        "name": "ipython",
        "version": 3
      },
      "file_extension": ".py",
      "mimetype": "text/x-python",
      "name": "python",
      "nbconvert_exporter": "python",
      "pygments_lexer": "ipython3",
      "version": "3.8.0"
    }
  },
  "nbformat": 4,
  "nbformat_minor": 0
}
