{
  "cells": [
    {
      "cell_type": "markdown",
      "id": "7218fc5c",
      "metadata": {
        "id": "7218fc5c"
      },
      "source": [
        "# Building Your First AI Agent 🤖\n",
        "\n",
        "[![Open In Colab](https://colab.research.google.com/assets/colab-badge.svg)](https://colab.research.google.com/github/1337-Artificial-Intelligence/hackai-2025/blob/main/new_notebooks/agents_smolagents_toolcalling.ipynb)\n",
        "\n",
        "In this notebook, you'll learn how to create an AI agent that can:\n",
        "- Search the internet\n",
        "- Do math calculations\n",
        "- Check weather\n",
        "- Get information about research papers\n",
        "\n",
        "Time to complete: ~45 minutes"
      ]
    },
    {
      "cell_type": "markdown",
      "id": "bc160034",
      "metadata": {
        "id": "bc160034"
      },
      "source": [
        "## What is an LLM Agent?"
      ]
    },
    {
      "cell_type": "markdown",
      "source": [
        "> ### **Common LLM Limitations:**\n",
        "1. **Hallucination**\n",
        "   - LLMs can generate incorrect information with high confidence\n",
        "<img src=\"https://postimage.me/images/2025/05/21/image053efba357c12ca0.png\" width=600/>\n",
        "\n",
        ">2. **Knowledge Cutoff**\n",
        "   - LLMs are limited to information from their training data\n",
        "   - They cannot access or learn from information after their training period\n",
        "<img src=\"https://postimage.me/images/2025/05/21/imageddfa1a7dc129c5f7.png\" width=600/>\n",
        "\n",
        ">3. **Data Privacy**\n",
        "   - LLMs can only access public training data\n",
        "   - They cannot access proprietary or private information\n",
        "<img src=\"https://postimage.me/images/2025/05/21/imagee55206d53db62592.png\" width=600/>\n",
        "\n",
        "> ### **The Solution: LLM Agents**\n",
        "An LLM Agent enhances a basic LLM by combining three key components:\n",
        "- **LLM**: The core language model\n",
        "- **Tools**: External capabilities and functions\n",
        "- **Memory**: Ability to store and recall information\n",
        "\n",
        "<img src=\"https://postimage.me/images/2025/05/21/image94e8ac07ffa04191.png\" width=600/>\n",
        "\n",
        "> This combination helps overcome the limitations by:\n",
        "- Using tools to verify information and access external data\n",
        "- Maintaining memory of past interactions and information\n",
        "- Enabling access to current data through external tools"
      ],
      "metadata": {
        "id": "6lA_6HGwNiAj"
      },
      "id": "6lA_6HGwNiAj"
    },
    {
      "cell_type": "markdown",
      "id": "d997216a",
      "metadata": {
        "id": "d997216a"
      },
      "source": [
        "## How Does it Work?"
      ]
    },
    {
      "cell_type": "markdown",
      "id": "eda80d73",
      "metadata": {
        "id": "eda80d73"
      },
      "source": [
        "> The LLM agent follows a structured decision-making process when responding to instructions. This process consists of three main steps that repeat until the task is complete:\n",
        ">1. **Think/Planning:** The agent analyzes the user's request and formulates a step-by-step plan to accomplish the task.\n",
        ">2. **Action:** The agent executes specific actions by calling appropriate tools with the necessary parameters.\n",
        ">3. **Observation:** The agent evaluates the results of its actions and determines the next steps based on the outcomes.\n",
        "\n",
        "<img src=\"https://postimage.me/images/2025/05/21/image2d6a0fed071fa281.png\" width=600/>\n",
        "\n",
        ">This cycle continues until the agent successfully completes the requested task or determines it cannot proceed further."
      ]
    },
    {
      "cell_type": "markdown",
      "id": "61ed39ac",
      "metadata": {
        "id": "61ed39ac"
      },
      "source": [
        "# Build Your First Agent Using Smolagent 🤗"
      ]
    },
    {
      "cell_type": "markdown",
      "id": "c9f7f67c",
      "metadata": {
        "id": "c9f7f67c"
      },
      "source": [
        "Read more about smolagent:\n",
        "* [**smolagents github**](https://github.com/huggingface/smolagents)\n",
        "* [**smolagen course**](https://huggingface.co/learn/agents-course/en/unit2/smolagents/introduction)"
      ]
    },
    {
      "cell_type": "markdown",
      "id": "972996c4",
      "metadata": {
        "id": "972996c4"
      },
      "source": [
        "> Let's build a sample agent that can:\n",
        "* **Search the internet for information**\n",
        "* **Do math calculations (+,-,*,/)**\n",
        "* **Check the weather of a city**\n",
        "* **arxiv paper info**\n",
        "\n",
        "<img src=\"https://postimage.me/images/2025/05/21/imaged3e2447c5da0c4bb.png\" width=600/>"
      ]
    },
    {
      "cell_type": "markdown",
      "id": "d43b0ff7",
      "metadata": {
        "id": "d43b0ff7"
      },
      "source": [
        "#### 1. install smolagent library"
      ]
    },
    {
      "cell_type": "code",
      "execution_count": null,
      "id": "f3163bb9",
      "metadata": {
        "id": "f3163bb9"
      },
      "outputs": [],
      "source": [
        "! uv pip install -U smolagents"
      ]
    },
    {
      "cell_type": "markdown",
      "id": "7083e573",
      "metadata": {
        "id": "7083e573"
      },
      "source": [
        "#### 2. Select Your LLM Model\n",
        "\n",
        "<img src=\"https://postimage.me/images/2025/05/21/imagecc657ebaccc20d06.png\" width=600/>\n",
        "\n",
        "\n",
        ">`smolagent` supports multiple LLM providers including OpenAI, Google, and HuggingFace. For this tutorial, we'll use Google's Gemini `gemini-2.0-flash` model through their free API.\n",
        "\n",
        ">To get started:\n",
        "1. Visit [Google AI Studio](https://aistudio.google.com/apikey)\n",
        "2. Create an account if you don't have one\n",
        "3. Generate an API key\n",
        "4. Keep your API key secure - we'll use it in the next step.\n",
        "\n",
        ">You can check **other providers** [here](https://github.com/huggingface/smolagents)."
      ]
    },
    {
      "cell_type": "code",
      "execution_count": null,
      "id": "bcb0f147",
      "metadata": {
        "id": "bcb0f147"
      },
      "outputs": [],
      "source": [
        "from smolagents import OpenAIServerModel\n",
        "\n",
        "# Load the model\n",
        "model = OpenAIServerModel(\n",
        "    model_id=\"gemini-2.0-flash\",\n",
        "    api_base=\"https://generativelanguage.googleapis.com/v1beta\",\n",
        "    api_key=\"\",\n",
        ")"
      ]
    },
    {
      "cell_type": "code",
      "execution_count": null,
      "id": "51aeac64",
      "metadata": {
        "id": "51aeac64",
        "outputId": "f5ae3ae2-f68a-4f01-8652-f166a4fd1154"
      },
      "outputs": [
        {
          "name": "stdout",
          "output_type": "stream",
          "text": [
            "The capital of Morocco is **Rabat**.\n",
            "\n"
          ]
        }
      ],
      "source": [
        "# test the model\n",
        "response=model.client.chat.completions.create(\n",
        "    model=model.model_id,\n",
        "    messages=[\n",
        "        {\n",
        "            \"role\": \"user\",\n",
        "            \"content\": \"What is the capital of Morocco?\",\n",
        "        }\n",
        "    ]\n",
        ").choices[0].message.content\n",
        "print(response)"
      ]
    },
    {
      "cell_type": "markdown",
      "id": "65f18307",
      "metadata": {
        "id": "65f18307"
      },
      "source": [
        "#### 3. Define Tools\n",
        "\n",
        ">smolagents supports multiple tool types:\n",
        "- LangChain tools\n",
        "- MCP (Model Control Protocol) tools\n",
        "- HuggingFace Space as tool\n",
        "\n",
        ">In this example, we'll demonstrate how to:\n",
        "1. Create custom tools (using `@tool` or inherit from `Tool`)\n",
        "2. Use predefined tools from `smolagents` and `langchain`\n",
        "\n",
        ">**Find out more langchain** [tools](https://python.langchain.com/docs/integrations/tools/).\n",
        "\n",
        "<img src=\"https://postimage.me/images/2025/05/21/image367e87ae89c501d4.png\" width=600/>\n"
      ]
    },
    {
      "cell_type": "code",
      "execution_count": null,
      "id": "1ad63a14",
      "metadata": {
        "id": "1ad63a14",
        "outputId": "5da64b47-7fa9-4461-d8e6-841aff19ee67"
      },
      "outputs": [
        {
          "name": "stdout",
          "output_type": "stream",
          "text": [
            "8\n"
          ]
        }
      ],
      "source": [
        "from smolagents import Tool\n",
        "\n",
        "class CalculatorTool(Tool):\n",
        "    # the name of the tool should be clear.\n",
        "    name=\"calculator\"\n",
        "    # the tool should have a description clearly stating what it does.\n",
        "    description=\"A calculator that can perform basic arithmetic operations.\"\n",
        "    # the tool should have a list of inputs and their types.\n",
        "    inputs={\n",
        "        \"expression\": {\n",
        "            \"type\": \"string\",\n",
        "            \"description\": \"The arithmetic expression to calculate.\",\n",
        "        }\n",
        "    }\n",
        "    # the tool should have a of outputs and their types.\n",
        "    output_type=\"string\"\n",
        "    # the tool should have forward method consisting of the logic of the tool.\n",
        "    def forward(self, expression: str) -> str:\n",
        "        try:\n",
        "            result = eval(expression)\n",
        "            return str(result)\n",
        "        except Exception as e:\n",
        "            return f\"Error: {str(e)}\"\n",
        "\n",
        "# test CalculatorTool\n",
        "calculator_tool = CalculatorTool()\n",
        "response = calculator_tool(\"2 + 2 * 3\")\n",
        "print(response)"
      ]
    },
    {
      "cell_type": "code",
      "execution_count": null,
      "id": "3a2f2138",
      "metadata": {
        "id": "3a2f2138",
        "outputId": "b6c3f394-fccf-44ed-c3a1-68e5be17d26b"
      },
      "outputs": [
        {
          "name": "stdout",
          "output_type": "stream",
          "text": [
            "The weather in Benguerir is sunny with a high of 25°C.\n"
          ]
        }
      ],
      "source": [
        "from smolagents import tool\n",
        "\n",
        "@tool\n",
        "def city_weather(city: str) -> str:\n",
        "    # the tool should have a clear name. and a string documnetation.\n",
        "    # string documentation has description of the tool and its inputs.\n",
        "    \"\"\"\n",
        "    Get the weather for a given city.\n",
        "    Args:\n",
        "        city: The name of the city.\n",
        "    \"\"\"\n",
        "    # In a real-world scenario, this function would call a weather API.\n",
        "    # For this example, we'll just return a dummy response.\n",
        "    return f\"The weather in {city} is sunny with a high of 25°C.\"\n",
        "\n",
        "# test city_weather\n",
        "response = city_weather(\"Benguerir\")\n",
        "print(response)"
      ]
    },
    {
      "cell_type": "code",
      "execution_count": null,
      "id": "32901ae7",
      "metadata": {
        "id": "32901ae7",
        "outputId": "90608023-4761-4e5d-afc4-756927800f2c"
      },
      "outputs": [
        {
          "name": "stdout",
          "output_type": "stream",
          "text": [
            "## Search Results\n",
            "\n",
            "[Morocco | History, Map, Flag, Capital, People, & Facts | Britannica](https://www.britannica.com/place/Morocco)\n",
            "Morocco is a mountainous country in western North Africa with a long history and diverse culture. Its capital is Rabat, located on the Atlantic coast, and its largest city is Casablanca.\n",
            "\n",
            "[What Is The Capital Of Morocco? - WorldAtlas](https://www.worldatlas.com/articles/what-is-the-capital-of-morocco.html)\n",
            "Learn about the history, location, and role of Rabat as the political and cultural center of Morocco. Find out how Rabat became a capital city, what government it has, and what attractions it offers.\n",
            "\n",
            "[Rabat - Wikipedia](https://en.wikipedia.org/wiki/Rabat)\n",
            "Rabat is the capital city of Morocco and the country's seventh-largest city with an urban population of approximately 580,000. It was founded in the 12th century by the Almohads and has a rich history and cultural heritage.\n",
            "\n",
            "[Morocco's Capital City, Map, & Historic Attractions - Britannica](https://www.britannica.com/place/Rabat)\n",
            "Rabat is the capital of Morocco and one of its four imperial cities. It was founded in the 12th century by the Almohad ruler ʿAbd al-Muʾmin and has a rich cultural and historical heritage.\n",
            "\n",
            "[What is the Capital of Morocco? - Mappr](https://www.mappr.co/capital-cities/morocco/)\n",
            "Rabat is the capital of Morocco, located on the Atlantic coast and the Bou Regreg River. Learn about its history, geography, economy, and attractions, from the Kasbah of the Udayas to the Hassan Tower.\n",
            "\n",
            "[Where is Morocco Located in the World? Where is Morocco? Map](https://www.morocco-guide.com/information/where-is-morocco/)\n",
            "Morocco is a North African country with a Mediterranean and Atlantic coastline. Its capital is Rabat and its largest city is Casablanca. Learn more about its geography, history, politics, languages and economy.\n",
            "\n",
            "[What is the Capital of Morocco? - GeeksforGeeks](https://www.geeksforgeeks.org/what-is-the-capital-of-morocco/)\n",
            "Learn about the history, culture, and attractions of Rabat, the political and administrative center of Morocco. Find out how Rabat replaced Fez as the capital in 1912 and became a UNESCO World Heritage Site.\n",
            "\n",
            "[What is the Capital of Morocco? Rabat - Countryaah.com](https://www.countryaah.com/morocco-faqs/)\n",
            "Rabat is the political and administrative center of Morocco since the 17th century. It is a UNESCO World Heritage Site with ancient monuments, cultural traditions, and modern infrastructure.\n",
            "\n",
            "[Rabat the capital of Morocco - In Morocco Blog](https://inmoroccoblog.com/rabat-the-capital-of-morocco/)\n",
            "Rabat, the capital city of Morocco, stands as a vibrant amalgamation of history, demography, culture, lifestyle, and economy. Situated along the shores of the Atlantic Ocean at the mouth of the Bou Regreg River, Rabat boasts a rich historical tapestry dating back centuries since its one of the 4 imperial cities of Morocco, while also embodying ...\n",
            "\n",
            "[Rabat - Simple English Wikipedia, the free encyclopedia](https://simple.wikipedia.org/wiki/Rabat)\n",
            "Rabat (Arabic: الرباط, transliterated ar-Rabāṭ or ar-Ribāṭ, literally \"Fortified Place\"), population 577,827 hab. (2014 estimate), is the capital of the Kingdom of Morocco.It is also the capital of the Rabat-Salé-Kénitra region. The city is on the Atlantic Ocean at the mouth of the river Bou Regreg.On the other side of the river is Rabat's bedroom community.\n"
          ]
        }
      ],
      "source": [
        "from smolagents import DuckDuckGoSearchTool\n",
        "\n",
        "# Create a DuckDuckGo search tool\n",
        "search_tool = DuckDuckGoSearchTool()\n",
        "# Test Tool\n",
        "response = search_tool(\"What is the capital of Morocco?\")\n",
        "print(response)"
      ]
    },
    {
      "cell_type": "code",
      "execution_count": null,
      "id": "bc0a6772",
      "metadata": {
        "id": "bc0a6772"
      },
      "outputs": [],
      "source": [
        "from langchain.agents import load_tools\n",
        "from smolagents import Tool\n",
        "\n",
        "arxiv_tool=Tool.from_langchain(load_tools(\n",
        "    [\"arxiv\"]\n",
        ")[0])"
      ]
    },
    {
      "cell_type": "code",
      "execution_count": null,
      "id": "4c16e3c7",
      "metadata": {
        "id": "4c16e3c7",
        "outputId": "8b4fa62d-e357-4ab6-93c0-e785b24e2810"
      },
      "outputs": [
        {
          "name": "stdout",
          "output_type": "stream",
          "text": [
            "Published: 2023-08-02\n",
            "Title: Attention Is All You Need\n",
            "Authors: Ashish Vaswani, Noam Shazeer, Niki Parmar, Jakob Uszkoreit, Llion Jones, Aidan N. Gomez, Lukasz Kaiser, Illia Polosukhin\n",
            "Summary: The dominant sequence transduction models are based on complex recurrent or\n",
            "convolutional neural networks in an encoder-decoder configuration. The best\n",
            "performing models also connect the encoder and decoder through an attention\n",
            "mechanism. We propose a new simple network architecture, the Transformer, based\n",
            "solely on attention mechanisms, dispensing with recurrence and convolutions\n",
            "entirely. Experiments on two machine translation tasks show these models to be\n",
            "superior in quality while being more parallelizable and requiring significantly\n",
            "less time to train. Our model achieves 28.4 BLEU on the WMT 2014\n",
            "English-to-German translation task, improving over the existing best results,\n",
            "including ensembles by over 2 BLEU. On the WMT 2014 English-to-French\n",
            "translation task, our model establishes a new single-model state-of-the-art\n",
            "BLEU score of 41.8 after training for 3.5 days on eight GPUs, a small fraction\n",
            "of the training costs of the best models from the literature. We show that the\n",
            "Transformer generalizes well to other tasks by applying it successfully to\n",
            "English constituency parsing both with large and limited training data.\n"
          ]
        }
      ],
      "source": [
        "result=arxiv_tool(\"1706.03762\")\n",
        "print(result)"
      ]
    },
    {
      "cell_type": "markdown",
      "id": "35d8c677",
      "metadata": {
        "id": "35d8c677"
      },
      "source": [
        "#### 4. Integrate Tools: Create Your Agent"
      ]
    },
    {
      "cell_type": "code",
      "execution_count": null,
      "id": "b31453bd",
      "metadata": {
        "id": "b31453bd"
      },
      "outputs": [],
      "source": [
        "from smolagents import CodeAgent\n",
        "\n",
        "tools=[city_weather,search_tool,calculator_tool,arxiv_tool]\n",
        "agent=CodeAgent(\n",
        "    model=model,\n",
        "    tools=tools\n",
        ")"
      ]
    },
    {
      "cell_type": "markdown",
      "id": "18f1b225",
      "metadata": {
        "id": "18f1b225"
      },
      "source": [
        "#### 5. Run Your Agent"
      ]
    },
    {
      "cell_type": "markdown",
      "id": "b82388cc",
      "metadata": {
        "id": "b82388cc"
      },
      "source": [
        "- If you want your agent to use memory you should to add `reset=False` when you run it.\n",
        "\n",
        "<img src=\"https://postimage.me/images/2025/05/21/image97d3064f2d088e88.png\" width=600/>"
      ]
    },
    {
      "cell_type": "code",
      "execution_count": null,
      "id": "f4886079",
      "metadata": {
        "id": "f4886079",
        "outputId": "aa0dd618-76e2-4684-992f-667f216f0129"
      },
      "outputs": [
        {
          "data": {
            "text/html": [
              "<pre style=\"white-space:pre;overflow-x:auto;line-height:normal;font-family:Menlo,'DejaVu Sans Mono',consolas,'Courier New',monospace\"><span style=\"color: #d4b702; text-decoration-color: #d4b702\">╭──────────────────────────────────────────────────── </span><span style=\"color: #d4b702; text-decoration-color: #d4b702; font-weight: bold\">New run</span><span style=\"color: #d4b702; text-decoration-color: #d4b702\"> ────────────────────────────────────────────────────╮</span>\n",
              "<span style=\"color: #d4b702; text-decoration-color: #d4b702\">│</span>                                                                                                                 <span style=\"color: #d4b702; text-decoration-color: #d4b702\">│</span>\n",
              "<span style=\"color: #d4b702; text-decoration-color: #d4b702\">│</span> <span style=\"font-weight: bold\">What's the paper 1706.03762 about,</span>                                                                              <span style=\"color: #d4b702; text-decoration-color: #d4b702\">│</span>\n",
              "<span style=\"color: #d4b702; text-decoration-color: #d4b702\">│</span> <span style=\"font-weight: bold\">and who is Noam Shazeer?</span>                                                                                        <span style=\"color: #d4b702; text-decoration-color: #d4b702\">│</span>\n",
              "<span style=\"color: #d4b702; text-decoration-color: #d4b702\">│</span> <span style=\"font-weight: bold\">Also, what is the weather in Benguerir?</span>                                                                         <span style=\"color: #d4b702; text-decoration-color: #d4b702\">│</span>\n",
              "<span style=\"color: #d4b702; text-decoration-color: #d4b702\">│</span> <span style=\"font-weight: bold\">And what is 2 + 2 * 3?</span>                                                                                          <span style=\"color: #d4b702; text-decoration-color: #d4b702\">│</span>\n",
              "<span style=\"color: #d4b702; text-decoration-color: #d4b702\">│</span>                                                                                                                 <span style=\"color: #d4b702; text-decoration-color: #d4b702\">│</span>\n",
              "<span style=\"color: #d4b702; text-decoration-color: #d4b702\">╰─ OpenAIServerModel - gemini-2.0-flash ──────────────────────────────────────────────────────────────────────────╯</span>\n",
              "</pre>\n"
            ],
            "text/plain": [
              "\u001b[38;2;212;183;2m╭─\u001b[0m\u001b[38;2;212;183;2m───────────────────────────────────────────────────\u001b[0m\u001b[38;2;212;183;2m \u001b[0m\u001b[1;38;2;212;183;2mNew run\u001b[0m\u001b[38;2;212;183;2m \u001b[0m\u001b[38;2;212;183;2m───────────────────────────────────────────────────\u001b[0m\u001b[38;2;212;183;2m─╮\u001b[0m\n",
              "\u001b[38;2;212;183;2m│\u001b[0m                                                                                                                 \u001b[38;2;212;183;2m│\u001b[0m\n",
              "\u001b[38;2;212;183;2m│\u001b[0m \u001b[1mWhat's the paper 1706.03762 about,\u001b[0m                                                                              \u001b[38;2;212;183;2m│\u001b[0m\n",
              "\u001b[38;2;212;183;2m│\u001b[0m \u001b[1mand who is Noam Shazeer?\u001b[0m                                                                                        \u001b[38;2;212;183;2m│\u001b[0m\n",
              "\u001b[38;2;212;183;2m│\u001b[0m \u001b[1mAlso, what is the weather in Benguerir?\u001b[0m                                                                         \u001b[38;2;212;183;2m│\u001b[0m\n",
              "\u001b[38;2;212;183;2m│\u001b[0m \u001b[1mAnd what is 2 + 2 * 3?\u001b[0m                                                                                          \u001b[38;2;212;183;2m│\u001b[0m\n",
              "\u001b[38;2;212;183;2m│\u001b[0m                                                                                                                 \u001b[38;2;212;183;2m│\u001b[0m\n",
              "\u001b[38;2;212;183;2m╰─\u001b[0m\u001b[38;2;212;183;2m OpenAIServerModel - gemini-2.0-flash \u001b[0m\u001b[38;2;212;183;2m─────────────────────────────────────────────────────────────────────────\u001b[0m\u001b[38;2;212;183;2m─╯\u001b[0m\n"
            ]
          },
          "metadata": {},
          "output_type": "display_data"
        },
        {
          "data": {
            "text/html": [
              "<pre style=\"white-space:pre;overflow-x:auto;line-height:normal;font-family:Menlo,'DejaVu Sans Mono',consolas,'Courier New',monospace\"><span style=\"color: #d4b702; text-decoration-color: #d4b702\">━━━━━━━━━━━━━━━━━━━━━━━━━━━━━━━━━━━━━━━━━━━━━━━━━━━━━ </span><span style=\"font-weight: bold\">Step </span><span style=\"color: #008080; text-decoration-color: #008080; font-weight: bold\">1</span><span style=\"color: #d4b702; text-decoration-color: #d4b702\"> ━━━━━━━━━━━━━━━━━━━━━━━━━━━━━━━━━━━━━━━━━━━━━━━━━━━━━━</span>\n",
              "</pre>\n"
            ],
            "text/plain": [
              "\u001b[38;2;212;183;2m━━━━━━━━━━━━━━━━━━━━━━━━━━━━━━━━━━━━━━━━━━━━━━━━━━━━━ \u001b[0m\u001b[1mStep \u001b[0m\u001b[1;36m1\u001b[0m\u001b[38;2;212;183;2m ━━━━━━━━━━━━━━━━━━━━━━━━━━━━━━━━━━━━━━━━━━━━━━━━━━━━━━\u001b[0m\n"
            ]
          },
          "metadata": {},
          "output_type": "display_data"
        },
        {
          "data": {
            "text/html": [
              "<pre style=\"white-space:pre;overflow-x:auto;line-height:normal;font-family:Menlo,'DejaVu Sans Mono',consolas,'Courier New',monospace\"> ─ <span style=\"font-weight: bold\">Executing parsed code:</span> ──────────────────────────────────────────────────────────────────────────────────────── \n",
              "  <span style=\"color: #f8f8f2; text-decoration-color: #f8f8f2; background-color: #272822\">paper_info </span><span style=\"color: #ff4689; text-decoration-color: #ff4689; background-color: #272822\">=</span><span style=\"color: #f8f8f2; text-decoration-color: #f8f8f2; background-color: #272822\"> arxiv(query</span><span style=\"color: #ff4689; text-decoration-color: #ff4689; background-color: #272822\">=</span><span style=\"color: #e6db74; text-decoration-color: #e6db74; background-color: #272822\">\"1706.03762\"</span><span style=\"color: #f8f8f2; text-decoration-color: #f8f8f2; background-color: #272822\">)</span><span style=\"background-color: #272822\">                                                                         </span>  \n",
              "  <span style=\"color: #f8f8f2; text-decoration-color: #f8f8f2; background-color: #272822\">print(</span><span style=\"color: #e6db74; text-decoration-color: #e6db74; background-color: #272822\">f\"Paper information: {</span><span style=\"color: #f8f8f2; text-decoration-color: #f8f8f2; background-color: #272822\">paper_info</span><span style=\"color: #e6db74; text-decoration-color: #e6db74; background-color: #272822\">}\"</span><span style=\"color: #f8f8f2; text-decoration-color: #f8f8f2; background-color: #272822\">)</span><span style=\"background-color: #272822\">                                                                      </span>  \n",
              "  <span style=\"color: #f8f8f2; text-decoration-color: #f8f8f2; background-color: #272822\">noam_shazeer_info </span><span style=\"color: #ff4689; text-decoration-color: #ff4689; background-color: #272822\">=</span><span style=\"color: #f8f8f2; text-decoration-color: #f8f8f2; background-color: #272822\"> web_search(query</span><span style=\"color: #ff4689; text-decoration-color: #ff4689; background-color: #272822\">=</span><span style=\"color: #e6db74; text-decoration-color: #e6db74; background-color: #272822\">\"Noam Shazeer\"</span><span style=\"color: #f8f8f2; text-decoration-color: #f8f8f2; background-color: #272822\">)</span><span style=\"background-color: #272822\">                                                           </span>  \n",
              "  <span style=\"color: #f8f8f2; text-decoration-color: #f8f8f2; background-color: #272822\">print(</span><span style=\"color: #e6db74; text-decoration-color: #e6db74; background-color: #272822\">f\"Noam Shazeer information: {</span><span style=\"color: #f8f8f2; text-decoration-color: #f8f8f2; background-color: #272822\">noam_shazeer_info</span><span style=\"color: #e6db74; text-decoration-color: #e6db74; background-color: #272822\">}\"</span><span style=\"color: #f8f8f2; text-decoration-color: #f8f8f2; background-color: #272822\">)</span><span style=\"background-color: #272822\">                                                        </span>  \n",
              "  <span style=\"color: #f8f8f2; text-decoration-color: #f8f8f2; background-color: #272822\">benguerir_weather </span><span style=\"color: #ff4689; text-decoration-color: #ff4689; background-color: #272822\">=</span><span style=\"color: #f8f8f2; text-decoration-color: #f8f8f2; background-color: #272822\"> city_weather(city</span><span style=\"color: #ff4689; text-decoration-color: #ff4689; background-color: #272822\">=</span><span style=\"color: #e6db74; text-decoration-color: #e6db74; background-color: #272822\">\"Benguerir\"</span><span style=\"color: #f8f8f2; text-decoration-color: #f8f8f2; background-color: #272822\">)</span><span style=\"background-color: #272822\">                                                             </span>  \n",
              "  <span style=\"color: #f8f8f2; text-decoration-color: #f8f8f2; background-color: #272822\">print(</span><span style=\"color: #e6db74; text-decoration-color: #e6db74; background-color: #272822\">f\"Weather in Benguerir: {</span><span style=\"color: #f8f8f2; text-decoration-color: #f8f8f2; background-color: #272822\">benguerir_weather</span><span style=\"color: #e6db74; text-decoration-color: #e6db74; background-color: #272822\">}\"</span><span style=\"color: #f8f8f2; text-decoration-color: #f8f8f2; background-color: #272822\">)</span><span style=\"background-color: #272822\">                                                            </span>  \n",
              "  <span style=\"color: #f8f8f2; text-decoration-color: #f8f8f2; background-color: #272822\">calculation_result </span><span style=\"color: #ff4689; text-decoration-color: #ff4689; background-color: #272822\">=</span><span style=\"color: #f8f8f2; text-decoration-color: #f8f8f2; background-color: #272822\"> calculator(expression</span><span style=\"color: #ff4689; text-decoration-color: #ff4689; background-color: #272822\">=</span><span style=\"color: #e6db74; text-decoration-color: #e6db74; background-color: #272822\">\"2 + 2 * 3\"</span><span style=\"color: #f8f8f2; text-decoration-color: #f8f8f2; background-color: #272822\">)</span><span style=\"background-color: #272822\">                                                        </span>  \n",
              "  <span style=\"color: #f8f8f2; text-decoration-color: #f8f8f2; background-color: #272822\">print(</span><span style=\"color: #e6db74; text-decoration-color: #e6db74; background-color: #272822\">f\"Calculation result: {</span><span style=\"color: #f8f8f2; text-decoration-color: #f8f8f2; background-color: #272822\">calculation_result</span><span style=\"color: #e6db74; text-decoration-color: #e6db74; background-color: #272822\">}\"</span><span style=\"color: #f8f8f2; text-decoration-color: #f8f8f2; background-color: #272822\">)</span><span style=\"background-color: #272822\">                                                             </span>  \n",
              " ───────────────────────────────────────────────────────────────────────────────────────────────────────────────── \n",
              "</pre>\n"
            ],
            "text/plain": [
              " ─ \u001b[1mExecuting parsed code:\u001b[0m ──────────────────────────────────────────────────────────────────────────────────────── \n",
              "  \u001b[38;2;248;248;242;48;2;39;40;34mpaper_info\u001b[0m\u001b[38;2;248;248;242;48;2;39;40;34m \u001b[0m\u001b[38;2;255;70;137;48;2;39;40;34m=\u001b[0m\u001b[38;2;248;248;242;48;2;39;40;34m \u001b[0m\u001b[38;2;248;248;242;48;2;39;40;34marxiv\u001b[0m\u001b[38;2;248;248;242;48;2;39;40;34m(\u001b[0m\u001b[38;2;248;248;242;48;2;39;40;34mquery\u001b[0m\u001b[38;2;255;70;137;48;2;39;40;34m=\u001b[0m\u001b[38;2;230;219;116;48;2;39;40;34m\"\u001b[0m\u001b[38;2;230;219;116;48;2;39;40;34m1706.03762\u001b[0m\u001b[38;2;230;219;116;48;2;39;40;34m\"\u001b[0m\u001b[38;2;248;248;242;48;2;39;40;34m)\u001b[0m\u001b[48;2;39;40;34m                                                                         \u001b[0m  \n",
              "  \u001b[38;2;248;248;242;48;2;39;40;34mprint\u001b[0m\u001b[38;2;248;248;242;48;2;39;40;34m(\u001b[0m\u001b[38;2;230;219;116;48;2;39;40;34mf\u001b[0m\u001b[38;2;230;219;116;48;2;39;40;34m\"\u001b[0m\u001b[38;2;230;219;116;48;2;39;40;34mPaper information: \u001b[0m\u001b[38;2;230;219;116;48;2;39;40;34m{\u001b[0m\u001b[38;2;248;248;242;48;2;39;40;34mpaper_info\u001b[0m\u001b[38;2;230;219;116;48;2;39;40;34m}\u001b[0m\u001b[38;2;230;219;116;48;2;39;40;34m\"\u001b[0m\u001b[38;2;248;248;242;48;2;39;40;34m)\u001b[0m\u001b[48;2;39;40;34m                                                                      \u001b[0m  \n",
              "  \u001b[38;2;248;248;242;48;2;39;40;34mnoam_shazeer_info\u001b[0m\u001b[38;2;248;248;242;48;2;39;40;34m \u001b[0m\u001b[38;2;255;70;137;48;2;39;40;34m=\u001b[0m\u001b[38;2;248;248;242;48;2;39;40;34m \u001b[0m\u001b[38;2;248;248;242;48;2;39;40;34mweb_search\u001b[0m\u001b[38;2;248;248;242;48;2;39;40;34m(\u001b[0m\u001b[38;2;248;248;242;48;2;39;40;34mquery\u001b[0m\u001b[38;2;255;70;137;48;2;39;40;34m=\u001b[0m\u001b[38;2;230;219;116;48;2;39;40;34m\"\u001b[0m\u001b[38;2;230;219;116;48;2;39;40;34mNoam Shazeer\u001b[0m\u001b[38;2;230;219;116;48;2;39;40;34m\"\u001b[0m\u001b[38;2;248;248;242;48;2;39;40;34m)\u001b[0m\u001b[48;2;39;40;34m                                                           \u001b[0m  \n",
              "  \u001b[38;2;248;248;242;48;2;39;40;34mprint\u001b[0m\u001b[38;2;248;248;242;48;2;39;40;34m(\u001b[0m\u001b[38;2;230;219;116;48;2;39;40;34mf\u001b[0m\u001b[38;2;230;219;116;48;2;39;40;34m\"\u001b[0m\u001b[38;2;230;219;116;48;2;39;40;34mNoam Shazeer information: \u001b[0m\u001b[38;2;230;219;116;48;2;39;40;34m{\u001b[0m\u001b[38;2;248;248;242;48;2;39;40;34mnoam_shazeer_info\u001b[0m\u001b[38;2;230;219;116;48;2;39;40;34m}\u001b[0m\u001b[38;2;230;219;116;48;2;39;40;34m\"\u001b[0m\u001b[38;2;248;248;242;48;2;39;40;34m)\u001b[0m\u001b[48;2;39;40;34m                                                        \u001b[0m  \n",
              "  \u001b[38;2;248;248;242;48;2;39;40;34mbenguerir_weather\u001b[0m\u001b[38;2;248;248;242;48;2;39;40;34m \u001b[0m\u001b[38;2;255;70;137;48;2;39;40;34m=\u001b[0m\u001b[38;2;248;248;242;48;2;39;40;34m \u001b[0m\u001b[38;2;248;248;242;48;2;39;40;34mcity_weather\u001b[0m\u001b[38;2;248;248;242;48;2;39;40;34m(\u001b[0m\u001b[38;2;248;248;242;48;2;39;40;34mcity\u001b[0m\u001b[38;2;255;70;137;48;2;39;40;34m=\u001b[0m\u001b[38;2;230;219;116;48;2;39;40;34m\"\u001b[0m\u001b[38;2;230;219;116;48;2;39;40;34mBenguerir\u001b[0m\u001b[38;2;230;219;116;48;2;39;40;34m\"\u001b[0m\u001b[38;2;248;248;242;48;2;39;40;34m)\u001b[0m\u001b[48;2;39;40;34m                                                             \u001b[0m  \n",
              "  \u001b[38;2;248;248;242;48;2;39;40;34mprint\u001b[0m\u001b[38;2;248;248;242;48;2;39;40;34m(\u001b[0m\u001b[38;2;230;219;116;48;2;39;40;34mf\u001b[0m\u001b[38;2;230;219;116;48;2;39;40;34m\"\u001b[0m\u001b[38;2;230;219;116;48;2;39;40;34mWeather in Benguerir: \u001b[0m\u001b[38;2;230;219;116;48;2;39;40;34m{\u001b[0m\u001b[38;2;248;248;242;48;2;39;40;34mbenguerir_weather\u001b[0m\u001b[38;2;230;219;116;48;2;39;40;34m}\u001b[0m\u001b[38;2;230;219;116;48;2;39;40;34m\"\u001b[0m\u001b[38;2;248;248;242;48;2;39;40;34m)\u001b[0m\u001b[48;2;39;40;34m                                                            \u001b[0m  \n",
              "  \u001b[38;2;248;248;242;48;2;39;40;34mcalculation_result\u001b[0m\u001b[38;2;248;248;242;48;2;39;40;34m \u001b[0m\u001b[38;2;255;70;137;48;2;39;40;34m=\u001b[0m\u001b[38;2;248;248;242;48;2;39;40;34m \u001b[0m\u001b[38;2;248;248;242;48;2;39;40;34mcalculator\u001b[0m\u001b[38;2;248;248;242;48;2;39;40;34m(\u001b[0m\u001b[38;2;248;248;242;48;2;39;40;34mexpression\u001b[0m\u001b[38;2;255;70;137;48;2;39;40;34m=\u001b[0m\u001b[38;2;230;219;116;48;2;39;40;34m\"\u001b[0m\u001b[38;2;230;219;116;48;2;39;40;34m2 + 2 * 3\u001b[0m\u001b[38;2;230;219;116;48;2;39;40;34m\"\u001b[0m\u001b[38;2;248;248;242;48;2;39;40;34m)\u001b[0m\u001b[48;2;39;40;34m                                                        \u001b[0m  \n",
              "  \u001b[38;2;248;248;242;48;2;39;40;34mprint\u001b[0m\u001b[38;2;248;248;242;48;2;39;40;34m(\u001b[0m\u001b[38;2;230;219;116;48;2;39;40;34mf\u001b[0m\u001b[38;2;230;219;116;48;2;39;40;34m\"\u001b[0m\u001b[38;2;230;219;116;48;2;39;40;34mCalculation result: \u001b[0m\u001b[38;2;230;219;116;48;2;39;40;34m{\u001b[0m\u001b[38;2;248;248;242;48;2;39;40;34mcalculation_result\u001b[0m\u001b[38;2;230;219;116;48;2;39;40;34m}\u001b[0m\u001b[38;2;230;219;116;48;2;39;40;34m\"\u001b[0m\u001b[38;2;248;248;242;48;2;39;40;34m)\u001b[0m\u001b[48;2;39;40;34m                                                             \u001b[0m  \n",
              " ───────────────────────────────────────────────────────────────────────────────────────────────────────────────── \n"
            ]
          },
          "metadata": {},
          "output_type": "display_data"
        },
        {
          "data": {
            "text/html": [
              "<pre style=\"white-space:pre;overflow-x:auto;line-height:normal;font-family:Menlo,'DejaVu Sans Mono',consolas,'Courier New',monospace\"><span style=\"font-weight: bold\">Execution logs:</span>\n",
              "Paper information: Published: 2023-08-02\n",
              "Title: Attention Is All You Need\n",
              "Authors: Ashish Vaswani, Noam Shazeer, Niki Parmar, Jakob Uszkoreit, Llion Jones, Aidan N. Gomez, Lukasz Kaiser, \n",
              "Illia Polosukhin\n",
              "Summary: The dominant sequence transduction models are based on complex recurrent or\n",
              "convolutional neural networks in an encoder-decoder configuration. The best\n",
              "performing models also connect the encoder and decoder through an attention\n",
              "mechanism. We propose a new simple network architecture, the Transformer, based\n",
              "solely on attention mechanisms, dispensing with recurrence and convolutions\n",
              "entirely. Experiments on two machine translation tasks show these models to be\n",
              "superior in quality while being more parallelizable and requiring significantly\n",
              "less time to train. Our model achieves 28.4 BLEU on the WMT 2014\n",
              "English-to-German translation task, improving over the existing best results,\n",
              "including ensembles by over 2 BLEU. On the WMT 2014 English-to-French\n",
              "translation task, our model establishes a new single-model state-of-the-art\n",
              "BLEU score of 41.8 after training for 3.5 days on eight GPUs, a small fraction\n",
              "of the training costs of the best models from the literature. We show that the\n",
              "Transformer generalizes well to other tasks by applying it successfully to\n",
              "English constituency parsing both with large and limited training data.\n",
              "Noam Shazeer information: ## Search Results\n",
              "\n",
              "[Noam Shazeer - Wikipedia](https://en.wikipedia.org/wiki/Noam_Shazeer)\n",
              "Noam Shazeer is an American computer scientist and entrepreneur who developed transformer models and natural \n",
              "language processing. He co-founded Character.AI, which was acquired by Google in 2024, and co-leads the Gemini AI \n",
              "project.\n",
              "\n",
              "[Noam Shazeer - Google | LinkedIn](https://www.linkedin.com/in/noam-shazeer-3b27288)\n",
              "Noam Shazeer is a researcher and inventor of large language models at Google. He is also the co-founder of \n",
              "Character.ai, a company that builds personalized AI systems for human well-being.\n",
              "\n",
              "[Noam Shazeer: The 100 Most Influential People in AI 2023 - \n",
              "TIME](https://time.com/collection/time100-ai/6310599/noam-shazeer/)\n",
              "Before I interviewed Noam Shazeer, I interviewed his AI. Shazeer is the co-founder and CEO of Character.AI, a \n",
              "website that allows you to talk to AI versions of famous people, real and fictional ...\n",
              "\n",
              "[‪Noam Shazeer‬ - ‪Google Scholar‬](https://scholar.google.com/citations?user=wsGvgA8AAAAJ&amp;hl=en)\n",
              "Noam Shazeer. Google. Verified email at google.com. Deep Learning. Articles Cited by Public access. Title. Sort. \n",
              "Sort by citations Sort by year Sort by title. Cited by. Cited by. ... N Shazeer, Y Cheng, N Parmar, D Tran, A \n",
              "Vaswani, P Koanantakool, ... Advances in neural information processing systems 31, 2018. 458:\n",
              "\n",
              "[Noam Shazeer: After 20 years at Google, he walked away, then came back \n",
              "...](https://gulfnews.com/special-reports/noam-shazeer-after-20-years-at-google-he-walked-away-then-came-back-for-2\n",
              "7-billion-1.1734670875849)\n",
              "Learn about Noam Shazeer's journey from Google to Character.ai, a platform for conversational AI with customised \n",
              "personas. Discover his inventions, achievements, and challenges in the field of artificial intelligence.\n",
              "\n",
              "[Google Rehires AI Pioneer Noam Shazeer in $2.7 Billion Deal - \n",
              "Entrepreneur](https://www.entrepreneur.com/business-news/google-rehires-ai-pioneer-noam-shazeer-in-27-billion-deal/\n",
              "480378)\n",
              "Noam Shazeer, who invented much of the current revolution in large language models, quit Google in 2021 after \n",
              "creating an AI chatbot the company refused to take public. He returned to Google as part of the DeepMind research \n",
              "team through a deal with Character.AI, a startup he founded.\n",
              "\n",
              "[Noam Noam Shazeer Explains How He Co-Created the AI \n",
              "Transformer](https://www.deeplearning.ai/the-batch/ai-transformed/)\n",
              "Noam Shazeer is a co-inventor of the transformer network, a breakthrough architecture for natural language \n",
              "processing. In this interview, he discusses his journey, his insights and his vision for the future of AI.\n",
              "\n",
              "[Google hires Character.AI CEO Noam Shazeer and his AI researchers | The \n",
              "...](https://www.theverge.com/2024/8/2/24212348/google-hires-character-ai-noam-shazeer)\n",
              "Noam Shazeer, a leading AI researcher and co-founder of Character.AI, returns to Google DeepMind with his team of \n",
              "30 people. Character.AI, a chatbot platform with millions of users, is left with a non-exclusive license to its \n",
              "models and a new CEO.\n",
              "\n",
              "[Who is Noam Shazeer? Why Did Google Spend a Whopping $2.7 Billion to \n",
              "...](https://www.ibtimes.sg/who-noam-shazeer-why-did-google-spend-astonishing-2-7-billion-rehire-this-ai-genius-762\n",
              "51)\n",
              "Noam Shazeer is a former Google employee who co-developed the transformer model and co-founded Character.ai. Google\n",
              "rehired him in 2024 through a reverse acqui-hire, sparking debate on AI competition and dominance.\n",
              "\n",
              "[Noam Shazeer is back at Google, and this time he's aiming for \n",
              "AGI](https://www.fastcompany.com/91233846/noam-shazeer-back-at-google-agi)\n",
              "Noam Shazeer, one of the inventors of the transformer models, is back at Google after leaving to start his own \n",
              "chatbot company. He aims to make Google the leader in artificial general intelligence, using its Gemini models and \n",
              "its search expertise.\n",
              "Weather in Benguerir: The weather in Benguerir is sunny with a high of 25°C.\n",
              "Calculation result: 8\n",
              "\n",
              "Out: None\n",
              "</pre>\n"
            ],
            "text/plain": [
              "\u001b[1mExecution logs:\u001b[0m\n",
              "Paper information: Published: 2023-08-02\n",
              "Title: Attention Is All You Need\n",
              "Authors: Ashish Vaswani, Noam Shazeer, Niki Parmar, Jakob Uszkoreit, Llion Jones, Aidan N. Gomez, Lukasz Kaiser, \n",
              "Illia Polosukhin\n",
              "Summary: The dominant sequence transduction models are based on complex recurrent or\n",
              "convolutional neural networks in an encoder-decoder configuration. The best\n",
              "performing models also connect the encoder and decoder through an attention\n",
              "mechanism. We propose a new simple network architecture, the Transformer, based\n",
              "solely on attention mechanisms, dispensing with recurrence and convolutions\n",
              "entirely. Experiments on two machine translation tasks show these models to be\n",
              "superior in quality while being more parallelizable and requiring significantly\n",
              "less time to train. Our model achieves 28.4 BLEU on the WMT 2014\n",
              "English-to-German translation task, improving over the existing best results,\n",
              "including ensembles by over 2 BLEU. On the WMT 2014 English-to-French\n",
              "translation task, our model establishes a new single-model state-of-the-art\n",
              "BLEU score of 41.8 after training for 3.5 days on eight GPUs, a small fraction\n",
              "of the training costs of the best models from the literature. We show that the\n",
              "Transformer generalizes well to other tasks by applying it successfully to\n",
              "English constituency parsing both with large and limited training data.\n",
              "Noam Shazeer information: ## Search Results\n",
              "\n",
              "[Noam Shazeer - Wikipedia](https://en.wikipedia.org/wiki/Noam_Shazeer)\n",
              "Noam Shazeer is an American computer scientist and entrepreneur who developed transformer models and natural \n",
              "language processing. He co-founded Character.AI, which was acquired by Google in 2024, and co-leads the Gemini AI \n",
              "project.\n",
              "\n",
              "[Noam Shazeer - Google | LinkedIn](https://www.linkedin.com/in/noam-shazeer-3b27288)\n",
              "Noam Shazeer is a researcher and inventor of large language models at Google. He is also the co-founder of \n",
              "Character.ai, a company that builds personalized AI systems for human well-being.\n",
              "\n",
              "[Noam Shazeer: The 100 Most Influential People in AI 2023 - \n",
              "TIME](https://time.com/collection/time100-ai/6310599/noam-shazeer/)\n",
              "Before I interviewed Noam Shazeer, I interviewed his AI. Shazeer is the co-founder and CEO of Character.AI, a \n",
              "website that allows you to talk to AI versions of famous people, real and fictional ...\n",
              "\n",
              "[‪Noam Shazeer‬ - ‪Google Scholar‬](https://scholar.google.com/citations?user=wsGvgA8AAAAJ&hl=en)\n",
              "Noam Shazeer. Google. Verified email at google.com. Deep Learning. Articles Cited by Public access. Title. Sort. \n",
              "Sort by citations Sort by year Sort by title. Cited by. Cited by. ... N Shazeer, Y Cheng, N Parmar, D Tran, A \n",
              "Vaswani, P Koanantakool, ... Advances in neural information processing systems 31, 2018. 458:\n",
              "\n",
              "[Noam Shazeer: After 20 years at Google, he walked away, then came back \n",
              "...](https://gulfnews.com/special-reports/noam-shazeer-after-20-years-at-google-he-walked-away-then-came-back-for-2\n",
              "7-billion-1.1734670875849)\n",
              "Learn about Noam Shazeer's journey from Google to Character.ai, a platform for conversational AI with customised \n",
              "personas. Discover his inventions, achievements, and challenges in the field of artificial intelligence.\n",
              "\n",
              "[Google Rehires AI Pioneer Noam Shazeer in $2.7 Billion Deal - \n",
              "Entrepreneur](https://www.entrepreneur.com/business-news/google-rehires-ai-pioneer-noam-shazeer-in-27-billion-deal/\n",
              "480378)\n",
              "Noam Shazeer, who invented much of the current revolution in large language models, quit Google in 2021 after \n",
              "creating an AI chatbot the company refused to take public. He returned to Google as part of the DeepMind research \n",
              "team through a deal with Character.AI, a startup he founded.\n",
              "\n",
              "[Noam Noam Shazeer Explains How He Co-Created the AI \n",
              "Transformer](https://www.deeplearning.ai/the-batch/ai-transformed/)\n",
              "Noam Shazeer is a co-inventor of the transformer network, a breakthrough architecture for natural language \n",
              "processing. In this interview, he discusses his journey, his insights and his vision for the future of AI.\n",
              "\n",
              "[Google hires Character.AI CEO Noam Shazeer and his AI researchers | The \n",
              "...](https://www.theverge.com/2024/8/2/24212348/google-hires-character-ai-noam-shazeer)\n",
              "Noam Shazeer, a leading AI researcher and co-founder of Character.AI, returns to Google DeepMind with his team of \n",
              "30 people. Character.AI, a chatbot platform with millions of users, is left with a non-exclusive license to its \n",
              "models and a new CEO.\n",
              "\n",
              "[Who is Noam Shazeer? Why Did Google Spend a Whopping $2.7 Billion to \n",
              "...](https://www.ibtimes.sg/who-noam-shazeer-why-did-google-spend-astonishing-2-7-billion-rehire-this-ai-genius-762\n",
              "51)\n",
              "Noam Shazeer is a former Google employee who co-developed the transformer model and co-founded Character.ai. Google\n",
              "rehired him in 2024 through a reverse acqui-hire, sparking debate on AI competition and dominance.\n",
              "\n",
              "[Noam Shazeer is back at Google, and this time he's aiming for \n",
              "AGI](https://www.fastcompany.com/91233846/noam-shazeer-back-at-google-agi)\n",
              "Noam Shazeer, one of the inventors of the transformer models, is back at Google after leaving to start his own \n",
              "chatbot company. He aims to make Google the leader in artificial general intelligence, using its Gemini models and \n",
              "its search expertise.\n",
              "Weather in Benguerir: The weather in Benguerir is sunny with a high of 25°C.\n",
              "Calculation result: 8\n",
              "\n",
              "Out: None\n"
            ]
          },
          "metadata": {},
          "output_type": "display_data"
        },
        {
          "data": {
            "text/html": [
              "<pre style=\"white-space:pre;overflow-x:auto;line-height:normal;font-family:Menlo,'DejaVu Sans Mono',consolas,'Courier New',monospace\"><span style=\"color: #7f7f7f; text-decoration-color: #7f7f7f\">[Step 1: Duration 6.15 seconds| Input tokens: 2,417 | Output tokens: 228]</span>\n",
              "</pre>\n"
            ],
            "text/plain": [
              "\u001b[2m[Step 1: Duration 6.15 seconds| Input tokens: 2,417 | Output tokens: 228]\u001b[0m\n"
            ]
          },
          "metadata": {},
          "output_type": "display_data"
        },
        {
          "data": {
            "text/html": [
              "<pre style=\"white-space:pre;overflow-x:auto;line-height:normal;font-family:Menlo,'DejaVu Sans Mono',consolas,'Courier New',monospace\"><span style=\"color: #d4b702; text-decoration-color: #d4b702\">━━━━━━━━━━━━━━━━━━━━━━━━━━━━━━━━━━━━━━━━━━━━━━━━━━━━━ </span><span style=\"font-weight: bold\">Step </span><span style=\"color: #008080; text-decoration-color: #008080; font-weight: bold\">2</span><span style=\"color: #d4b702; text-decoration-color: #d4b702\"> ━━━━━━━━━━━━━━━━━━━━━━━━━━━━━━━━━━━━━━━━━━━━━━━━━━━━━━</span>\n",
              "</pre>\n"
            ],
            "text/plain": [
              "\u001b[38;2;212;183;2m━━━━━━━━━━━━━━━━━━━━━━━━━━━━━━━━━━━━━━━━━━━━━━━━━━━━━ \u001b[0m\u001b[1mStep \u001b[0m\u001b[1;36m2\u001b[0m\u001b[38;2;212;183;2m ━━━━━━━━━━━━━━━━━━━━━━━━━━━━━━━━━━━━━━━━━━━━━━━━━━━━━━\u001b[0m\n"
            ]
          },
          "metadata": {},
          "output_type": "display_data"
        },
        {
          "data": {
            "text/html": [
              "<pre style=\"white-space:pre;overflow-x:auto;line-height:normal;font-family:Menlo,'DejaVu Sans Mono',consolas,'Courier New',monospace\"> ─ <span style=\"font-weight: bold\">Executing parsed code:</span> ──────────────────────────────────────────────────────────────────────────────────────── \n",
              "  <span style=\"color: #f8f8f2; text-decoration-color: #f8f8f2; background-color: #272822\">final_answer(</span><span style=\"color: #e6db74; text-decoration-color: #e6db74; background-color: #272822\">\"Paper 1706.03762 is titled 'Attention Is All You Need' and is about the Transformer architecture </span>  \n",
              "  <span style=\"color: #e6db74; text-decoration-color: #e6db74; background-color: #272822\">for sequence transduction. Noam Shazeer is an American computer scientist and entrepreneur who co-developed </span><span style=\"background-color: #272822\">   </span>  \n",
              "  <span style=\"color: #e6db74; text-decoration-color: #e6db74; background-color: #272822\">transformer models and natural language processing, co-founded Character.AI, and co-leads the Gemini AI </span><span style=\"background-color: #272822\">       </span>  \n",
              "  <span style=\"color: #e6db74; text-decoration-color: #e6db74; background-color: #272822\">project. The weather in Benguerir is sunny with a high of 25°C. 2 + 2 * 3 = 8.\"</span><span style=\"color: #f8f8f2; text-decoration-color: #f8f8f2; background-color: #272822\">)</span><span style=\"background-color: #272822\">                               </span>  \n",
              " ───────────────────────────────────────────────────────────────────────────────────────────────────────────────── \n",
              "</pre>\n"
            ],
            "text/plain": [
              " ─ \u001b[1mExecuting parsed code:\u001b[0m ──────────────────────────────────────────────────────────────────────────────────────── \n",
              "  \u001b[38;2;248;248;242;48;2;39;40;34mfinal_answer\u001b[0m\u001b[38;2;248;248;242;48;2;39;40;34m(\u001b[0m\u001b[38;2;230;219;116;48;2;39;40;34m\"\u001b[0m\u001b[38;2;230;219;116;48;2;39;40;34mPaper 1706.03762 is titled \u001b[0m\u001b[38;2;230;219;116;48;2;39;40;34m'\u001b[0m\u001b[38;2;230;219;116;48;2;39;40;34mAttention Is All You Need\u001b[0m\u001b[38;2;230;219;116;48;2;39;40;34m'\u001b[0m\u001b[38;2;230;219;116;48;2;39;40;34m and is about the Transformer architecture \u001b[0m  \n",
              "  \u001b[38;2;230;219;116;48;2;39;40;34mfor sequence transduction. Noam Shazeer is an American computer scientist and entrepreneur who co-developed \u001b[0m\u001b[48;2;39;40;34m   \u001b[0m  \n",
              "  \u001b[38;2;230;219;116;48;2;39;40;34mtransformer models and natural language processing, co-founded Character.AI, and co-leads the Gemini AI \u001b[0m\u001b[48;2;39;40;34m       \u001b[0m  \n",
              "  \u001b[38;2;230;219;116;48;2;39;40;34mproject. The weather in Benguerir is sunny with a high of 25°C. 2 + 2 * 3 = 8.\u001b[0m\u001b[38;2;230;219;116;48;2;39;40;34m\"\u001b[0m\u001b[38;2;248;248;242;48;2;39;40;34m)\u001b[0m\u001b[48;2;39;40;34m                               \u001b[0m  \n",
              " ───────────────────────────────────────────────────────────────────────────────────────────────────────────────── \n"
            ]
          },
          "metadata": {},
          "output_type": "display_data"
        },
        {
          "data": {
            "text/html": [
              "<pre style=\"white-space:pre;overflow-x:auto;line-height:normal;font-family:Menlo,'DejaVu Sans Mono',consolas,'Courier New',monospace\"><span style=\"color: #d4b702; text-decoration-color: #d4b702; font-weight: bold\">Out - Final answer: Paper 1706.03762 is titled 'Attention Is All You Need' and is about the Transformer </span>\n",
              "<span style=\"color: #d4b702; text-decoration-color: #d4b702; font-weight: bold\">architecture for sequence transduction. Noam Shazeer is an American computer scientist and entrepreneur who </span>\n",
              "<span style=\"color: #d4b702; text-decoration-color: #d4b702; font-weight: bold\">co-developed transformer models and natural language processing, co-founded Character.AI, and co-leads the Gemini </span>\n",
              "<span style=\"color: #d4b702; text-decoration-color: #d4b702; font-weight: bold\">AI project. The weather in Benguerir is sunny with a high of 25°C. 2 + 2 * 3 = 8.</span>\n",
              "</pre>\n"
            ],
            "text/plain": [
              "\u001b[1;38;2;212;183;2mOut - Final answer: Paper 1706.03762 is titled 'Attention Is All You Need' and is about the Transformer \u001b[0m\n",
              "\u001b[1;38;2;212;183;2marchitecture for sequence transduction. Noam Shazeer is an American computer scientist and entrepreneur who \u001b[0m\n",
              "\u001b[1;38;2;212;183;2mco-developed transformer models and natural language processing, co-founded Character.AI, and co-leads the Gemini \u001b[0m\n",
              "\u001b[1;38;2;212;183;2mAI project. The weather in Benguerir is sunny with a high of 25°C. 2 + 2 * 3 = 8.\u001b[0m\n"
            ]
          },
          "metadata": {},
          "output_type": "display_data"
        },
        {
          "data": {
            "text/html": [
              "<pre style=\"white-space:pre;overflow-x:auto;line-height:normal;font-family:Menlo,'DejaVu Sans Mono',consolas,'Courier New',monospace\"><span style=\"color: #7f7f7f; text-decoration-color: #7f7f7f\">[Step 2: Duration 1.53 seconds| Input tokens: 6,721 | Output tokens: 358]</span>\n",
              "</pre>\n"
            ],
            "text/plain": [
              "\u001b[2m[Step 2: Duration 1.53 seconds| Input tokens: 6,721 | Output tokens: 358]\u001b[0m\n"
            ]
          },
          "metadata": {},
          "output_type": "display_data"
        }
      ],
      "source": [
        "query=\"\"\"What's the paper 1706.03762 about,\n",
        "and who is Noam Shazeer?\n",
        "Also, what is the weather in Benguerir?\n",
        "And what is 2 + 2 * 3?\"\"\"\n",
        "response=agent.run(query)"
      ]
    },
    {
      "cell_type": "code",
      "execution_count": null,
      "id": "0fc3b8e9",
      "metadata": {
        "id": "0fc3b8e9",
        "outputId": "d26232df-c670-45d2-aa41-5c0b00c8b237"
      },
      "outputs": [
        {
          "name": "stdout",
          "output_type": "stream",
          "text": [
            "(\"Paper 1706.03762 is titled 'Attention Is All You Need' and is about the \"\n",
            " 'Transformer architecture for sequence transduction. Noam Shazeer is an '\n",
            " 'American computer scientist and entrepreneur who co-developed transformer '\n",
            " 'models and natural language processing, co-founded Character.AI, and '\n",
            " 'co-leads the Gemini AI project. The weather in Benguerir is sunny with a '\n",
            " 'high of 25°C. 2 + 2 * 3 = 8.')\n"
          ]
        }
      ],
      "source": [
        "from pprint import pprint\n",
        "pprint(response)"
      ]
    },
    {
      "cell_type": "markdown",
      "id": "5365d112",
      "metadata": {
        "id": "5365d112"
      },
      "source": [
        "# Exercice"
      ]
    },
    {
      "cell_type": "markdown",
      "id": "d8c4dac4",
      "metadata": {
        "id": "d8c4dac4"
      },
      "source": [
        "## Your Turn! 🎯\n",
        "\n",
        "Try these challenges:\n",
        "1. Ask the agent about a different research paper\n",
        "2. Get the weather for another city\n",
        "3. Try a more complex math problem\n",
        "4. Ask it to search for something interesting\n",
        "\n",
        "Remember: The more specific your questions, the better the answers!"
      ]
    },
    {
      "cell_type": "markdown",
      "id": "e4f9e93e",
      "metadata": {
        "id": "e4f9e93e"
      },
      "source": [
        "## What's Next? 🚀\n",
        "\n",
        "You've built your first AI agent! Here's what you can explore next:\n",
        "- Add more tools to your agent\n",
        "- Try different AI models\n",
        "- Build agents for specific tasks\n",
        "- Learn about prompt engineering\n",
        "\n",
        "Keep experimenting and have fun! 🎉"
      ]
    }
  ],
  "metadata": {
    "kernelspec": {
      "display_name": ".env",
      "language": "python",
      "name": "python3"
    },
    "colab": {
      "provenance": [],
      "toc_visible": true
    }
  },
  "nbformat": 4,
  "nbformat_minor": 5
}