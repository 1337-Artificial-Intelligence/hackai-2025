{
  "nbformat": 4,
  "nbformat_minor": 0,
  "metadata": {
    "colab": {
      "provenance": []
    },
    "kernelspec": {
      "name": "python3",
      "display_name": "Python 3"
    },
    "language_info": {
      "name": "python"
    }
  },
  "cells": [
    {
      "cell_type": "markdown",
      "source": [
        "# Generate synthetic data"
      ],
      "metadata": {
        "id": "rhHh_prfl3cG"
      }
    },
    {
      "cell_type": "markdown",
      "source": [
        "## Why do we need synthetic data?\n",
        "1. Data Scarcity:\n",
        "   - Limited availability of Darija (Moroccan Arabic) text data\n",
        "   - Most available data is from social media or YouTube comments, which are:\n",
        "     * Short in length\n",
        "     * Often contain informal language\n",
        "     * May include spelling errors and non-standard writing\n",
        "\n",
        "2. Quality Control:\n",
        "   - Synthetic data allows us to:\n",
        "     * Generate longer, more structured text\n",
        "     * Control the language style and formality\n",
        "     * Ensure grammatical correctness\n",
        "     * Create diverse topics and contexts\n",
        "\n",
        "3. Training Benefits:\n",
        "   - Larger training dataset\n",
        "   - Better coverage of language patterns\n",
        "   - More consistent quality\n",
        "   - Ability to generate specific types of content\n",
        "\n",
        "4. Cost Efficiency:\n",
        "   - Using GCP credits for inference\n",
        "   - More cost-effective than manual data collection\n",
        "   - Scalable solution for generating large datasets\n"
      ],
      "metadata": {
        "id": "F1oIvesKl7yH"
      }
    },
    {
      "cell_type": "markdown",
      "source": [
        "## Prompts best practices\n",
        "\n",
        "Check examples here https://cloud.google.com/discover/what-is-prompt-engineering#use-cases-and-examples-of-prompt-engineering\n",
        "\n",
        "Example Prompt Structure:"
      ],
      "metadata": {
        "id": "UNV9MvfZmCKA"
      }
    },
    {
      "cell_type": "code",
      "source": [
        "\"\"\"\n",
        "Context: [Domain/Topic]\n",
        "Audience: [Target readers]\n",
        "Style: [Formal/Informal]\n",
        "Length: [Word count]\n",
        "Language: Darija (Moroccan Arabic)\n",
        "Format: [Structure requirements]\n",
        "\n",
        "Examples:\n",
        "[2-3 example inputs and outputs]\n",
        "\n",
        "Constraints:\n",
        "- Avoid [specific issues]\n",
        "- Include [required elements]\n",
        "- Maintain [style guidelines]\n",
        "\"\"\""
      ],
      "metadata": {
        "colab": {
          "base_uri": "https://localhost:8080/",
          "height": 107
        },
        "id": "QPIjdCKsmI8J",
        "outputId": "51fbc5e1-3fcb-43e6-c9b0-62f55c89c4ba"
      },
      "execution_count": null,
      "outputs": [
        {
          "output_type": "execute_result",
          "data": {
            "text/plain": [
              "'\\nContext: [Domain/Topic]\\nAudience: [Target readers]\\nStyle: [Formal/Informal]\\nLength: [Word count]\\nLanguage: Darija (Moroccan Arabic)\\nFormat: [Structure requirements]\\n\\nExamples:\\n[2-3 example inputs and outputs]\\n\\nConstraints:\\n- Avoid [specific issues]\\n- Include [required elements]\\n- Maintain [style guidelines]\\n'"
            ],
            "application/vnd.google.colaboratory.intrinsic+json": {
              "type": "string"
            }
          },
          "metadata": {},
          "execution_count": 5
        }
      ]
    },
    {
      "cell_type": "markdown",
      "source": [
        "## Generate data Using Google Gemini Model"
      ],
      "metadata": {
        "id": "i_4HkdApmLrz"
      }
    },
    {
      "cell_type": "markdown",
      "source": [
        "➪➪➪ **in this section we will use gemini model free tier from [aistudio](https://aistudio.google.com/), also you can use models from your GCP credits.**"
      ],
      "metadata": {
        "id": "cBGevqkWmR1s"
      }
    },
    {
      "cell_type": "code",
      "source": [
        "from google.colab import userdata\n",
        "import base64\n",
        "import os\n",
        "from google import genai\n",
        "from google.genai import types\n",
        "import json # Import the json library\n",
        "\n",
        "token=userdata.get('GEMINI_API_KEY')"
      ],
      "metadata": {
        "id": "P9x7CN2GAnCK"
      },
      "execution_count": null,
      "outputs": []
    },
    {
      "cell_type": "code",
      "source": [
        "# generate function to get answers from google ai models\n",
        "def generate(messages):\n",
        "    client = genai.Client(\n",
        "        api_key=token,\n",
        "    )\n",
        "\n",
        "    model = \"gemini-2.0-flash\"\n",
        "    contents = [\n",
        "              types.Content(\n",
        "                  role=message[\"role\"],\n",
        "                  parts=[\n",
        "                      types.Part(text=message[\"content\"]),\n",
        "                  ]\n",
        "              )  for message in messages\n",
        "        ]\n",
        "    # Change response_mime_type to application/json\n",
        "    # you can play with parameters\n",
        "    generate_content_config = types.GenerateContentConfig(\n",
        "        response_mime_type=\"application/json\",\n",
        "        temperature= 0.7,\n",
        "        max_output_tokens= 1024,\n",
        "        top_p= 0.8,\n",
        "        top_k= 40\n",
        "    )\n",
        "    output=client.models.generate_content(\n",
        "        model=model,\n",
        "        contents=contents,\n",
        "        config=generate_content_config,\n",
        "    ).candidates[0].content.parts[0].text\n",
        "    # Optional: Parse the JSON output to a Python dictionary\n",
        "    try:\n",
        "        output_json = json.loads(output)\n",
        "        return output_json\n",
        "    except json.JSONDecodeError:\n",
        "        print(\"Warning: Model did not return valid JSON.\")\n",
        "        return output # Return raw text if JSON parsing fails"
      ],
      "metadata": {
        "id": "zEOsC39h3zil"
      },
      "execution_count": null,
      "outputs": []
    },
    {
      "cell_type": "code",
      "source": [
        "# Example prompt template modified to request JSON output\n",
        "prompt_template = \"\"\"\n",
        "Generate a paragraph in Moroccan Arabic Darija (arabic letters) about daily life.\n",
        "Style: Informal\n",
        "Length: 100-150 words\n",
        "Topic: Random daily activities\n",
        "\n",
        "Format: JSON with a single key \"paragraph\" containing the generated text.\n",
        "\n",
        "Example:\n",
        "Input: Write about going to the market\n",
        "Output:\n",
        "{\n",
        "  \"paragraph\": \"[Example in Darija]\"\n",
        "}\n",
        "\n",
        "\n",
        "Constraints:\n",
        "- Use natural, conversational Darija\n",
        "- Include common expressions\n",
        "- Avoid formal Arabic\n",
        "\"\"\"\n",
        "\n",
        "messages=[\n",
        "  {\n",
        "      \"role\": \"user\",\n",
        "      \"content\": prompt_template\n",
        "  }\n",
        "]"
      ],
      "metadata": {
        "id": "fSPhWW3s9u9-"
      },
      "execution_count": null,
      "outputs": []
    },
    {
      "cell_type": "code",
      "source": [
        "from pprint import pprint #for beautiful print\n",
        "# Call generate and print the output (which will be a dictionary if JSON is parsed)\n",
        "json_output = generate(messages)\n",
        "pprint(json_output)"
      ],
      "metadata": {
        "colab": {
          "base_uri": "https://localhost:8080/"
        },
        "id": "dhdheYwACCSm",
        "outputId": "9bc3e5c9-b6bd-48f3-f1ff-346361fa81bd"
      },
      "execution_count": null,
      "outputs": [
        {
          "output_type": "stream",
          "name": "stdout",
          "text": [
            "{'paragraph': 'اليوم فقت معطل شوية، شي تسعود هكاك. دغيا دغيا غسلت وجهي و شربت '\n",
            "              'قهوة كحلة باش نصحصح. من بعد مشيت للسوق باش نتقدى الخضرة و '\n",
            "              'الفاكية، ضروري خاصني شي طويجين ديال الخضرة للعشا. تلاقيت مع '\n",
            "              'واحد صاحبي تما، بقينا كنهضرو شوية على الماتش ديال البارح. ملي '\n",
            "              'رجعت للدار، بديت كنوجد الغدا، درت غير شي حاجة خفيفة. مع العشية '\n",
            "              'عيطت على ماما، سولتها على ختي، توحشتها بزاف. بالليل تفرجت فشي '\n",
            "              'فيلم مع خوتي و نعسنا. ياك ما طولت عليكم؟ ههه.'}\n"
          ]
        }
      ]
    },
    {
      "cell_type": "markdown",
      "source": [
        "## Generate data many samples"
      ],
      "metadata": {
        "id": "UVulfXlPppin"
      }
    },
    {
      "cell_type": "code",
      "source": [
        "from datetime import datetime\n",
        "from tqdm import tqdm\n",
        "from time import sleep\n",
        "\n",
        "generated_data = []\n",
        "num_samples = 10\n",
        "SLEEP_TIME = 60\n",
        "SLEEP_NUM_SAMPLES = 10\n",
        "\n",
        "for i in tqdm(range(0, num_samples)):\n",
        "  if (i+1) % SLEEP_NUM_SAMPLES == 0 and i > 0:\n",
        "    print(f\"Sleeping for {SLEEP_TIME} seconds...\")\n",
        "    sleep(SLEEP_TIME)\n",
        "  else:\n",
        "    messages=[\n",
        "      {\n",
        "          \"role\": \"user\",\n",
        "          \"content\": prompt_template\n",
        "      }\n",
        "    ]\n",
        "    try:\n",
        "        # Generate batch of samples\n",
        "        response = generate(messages)\n",
        "\n",
        "        # Process and validate responses\n",
        "        generated_data.append({\n",
        "              \"text\": response[\"paragraph\"],\n",
        "               \"metadata\": {\n",
        "                        \"generated_at\": datetime.now().isoformat(),\n",
        "                        \"sample_id\": i+1\n",
        "                    }\n",
        "                })\n",
        "\n",
        "    except Exception as e:\n",
        "        print(f\"Error in sample {i+1}: {e}\")\n",
        "        continue"
      ],
      "metadata": {
        "colab": {
          "base_uri": "https://localhost:8080/"
        },
        "id": "RjxvppxpCJe9",
        "outputId": "e3b35357-7505-4b67-bc63-8a4122d12d22"
      },
      "execution_count": null,
      "outputs": [
        {
          "output_type": "stream",
          "name": "stderr",
          "text": [
            " 90%|█████████ | 9/10 [00:22<00:02,  2.49s/it]"
          ]
        },
        {
          "output_type": "stream",
          "name": "stdout",
          "text": [
            "Sleeping for 60 seconds...\n"
          ]
        },
        {
          "output_type": "stream",
          "name": "stderr",
          "text": [
            "100%|██████████| 10/10 [01:22<00:00,  8.22s/it]\n"
          ]
        }
      ]
    },
    {
      "cell_type": "code",
      "source": [
        "#from generated dataset to pandas\n",
        "import pandas as pd\n",
        "df = pd.DataFrame(generated_data)\n",
        "df.head()"
      ],
      "metadata": {
        "colab": {
          "base_uri": "https://localhost:8080/",
          "height": 206
        },
        "id": "dFIx2gbEFM04",
        "outputId": "d2d44666-8a61-42f1-9477-5a13eff9429b"
      },
      "execution_count": null,
      "outputs": [
        {
          "output_type": "execute_result",
          "data": {
            "text/plain": [
              "                                                text  \\\n",
              "0  اليوما فقت معطل، شي عادة عندي. دغيا غسلت وجهي ...   \n",
              "1  فالصباح، كانفيق معطل شوية، شي مرة مع تسعود شي ...   \n",
              "2  فالصباح، كانفيق معطل شوية، شي مرة مع 10 شي مرة...   \n",
              "3  اليوم فقت معطل شوية، شي تسعود هكاك. دغيا دغيا ...   \n",
              "4  اليوما فقت معطل شوية، شي تسعود هكاك. دغيا غسلت...   \n",
              "\n",
              "                                            metadata  \n",
              "0  {'generated_at': '2025-05-23T14:53:38.656600',...  \n",
              "1  {'generated_at': '2025-05-23T14:53:41.050817',...  \n",
              "2  {'generated_at': '2025-05-23T14:53:43.190018',...  \n",
              "3  {'generated_at': '2025-05-23T14:53:45.815748',...  \n",
              "4  {'generated_at': '2025-05-23T14:53:48.353040',...  "
            ],
            "text/html": [
              "\n",
              "  <div id=\"df-4a4491dd-cc84-4639-b0cf-fcae275f8903\" class=\"colab-df-container\">\n",
              "    <div>\n",
              "<style scoped>\n",
              "    .dataframe tbody tr th:only-of-type {\n",
              "        vertical-align: middle;\n",
              "    }\n",
              "\n",
              "    .dataframe tbody tr th {\n",
              "        vertical-align: top;\n",
              "    }\n",
              "\n",
              "    .dataframe thead th {\n",
              "        text-align: right;\n",
              "    }\n",
              "</style>\n",
              "<table border=\"1\" class=\"dataframe\">\n",
              "  <thead>\n",
              "    <tr style=\"text-align: right;\">\n",
              "      <th></th>\n",
              "      <th>text</th>\n",
              "      <th>metadata</th>\n",
              "    </tr>\n",
              "  </thead>\n",
              "  <tbody>\n",
              "    <tr>\n",
              "      <th>0</th>\n",
              "      <td>اليوما فقت معطل، شي عادة عندي. دغيا غسلت وجهي ...</td>\n",
              "      <td>{'generated_at': '2025-05-23T14:53:38.656600',...</td>\n",
              "    </tr>\n",
              "    <tr>\n",
              "      <th>1</th>\n",
              "      <td>فالصباح، كانفيق معطل شوية، شي مرة مع تسعود شي ...</td>\n",
              "      <td>{'generated_at': '2025-05-23T14:53:41.050817',...</td>\n",
              "    </tr>\n",
              "    <tr>\n",
              "      <th>2</th>\n",
              "      <td>فالصباح، كانفيق معطل شوية، شي مرة مع 10 شي مرة...</td>\n",
              "      <td>{'generated_at': '2025-05-23T14:53:43.190018',...</td>\n",
              "    </tr>\n",
              "    <tr>\n",
              "      <th>3</th>\n",
              "      <td>اليوم فقت معطل شوية، شي تسعود هكاك. دغيا دغيا ...</td>\n",
              "      <td>{'generated_at': '2025-05-23T14:53:45.815748',...</td>\n",
              "    </tr>\n",
              "    <tr>\n",
              "      <th>4</th>\n",
              "      <td>اليوما فقت معطل شوية، شي تسعود هكاك. دغيا غسلت...</td>\n",
              "      <td>{'generated_at': '2025-05-23T14:53:48.353040',...</td>\n",
              "    </tr>\n",
              "  </tbody>\n",
              "</table>\n",
              "</div>\n",
              "    <div class=\"colab-df-buttons\">\n",
              "\n",
              "  <div class=\"colab-df-container\">\n",
              "    <button class=\"colab-df-convert\" onclick=\"convertToInteractive('df-4a4491dd-cc84-4639-b0cf-fcae275f8903')\"\n",
              "            title=\"Convert this dataframe to an interactive table.\"\n",
              "            style=\"display:none;\">\n",
              "\n",
              "  <svg xmlns=\"http://www.w3.org/2000/svg\" height=\"24px\" viewBox=\"0 -960 960 960\">\n",
              "    <path d=\"M120-120v-720h720v720H120Zm60-500h600v-160H180v160Zm220 220h160v-160H400v160Zm0 220h160v-160H400v160ZM180-400h160v-160H180v160Zm440 0h160v-160H620v160ZM180-180h160v-160H180v160Zm440 0h160v-160H620v160Z\"/>\n",
              "  </svg>\n",
              "    </button>\n",
              "\n",
              "  <style>\n",
              "    .colab-df-container {\n",
              "      display:flex;\n",
              "      gap: 12px;\n",
              "    }\n",
              "\n",
              "    .colab-df-convert {\n",
              "      background-color: #E8F0FE;\n",
              "      border: none;\n",
              "      border-radius: 50%;\n",
              "      cursor: pointer;\n",
              "      display: none;\n",
              "      fill: #1967D2;\n",
              "      height: 32px;\n",
              "      padding: 0 0 0 0;\n",
              "      width: 32px;\n",
              "    }\n",
              "\n",
              "    .colab-df-convert:hover {\n",
              "      background-color: #E2EBFA;\n",
              "      box-shadow: 0px 1px 2px rgba(60, 64, 67, 0.3), 0px 1px 3px 1px rgba(60, 64, 67, 0.15);\n",
              "      fill: #174EA6;\n",
              "    }\n",
              "\n",
              "    .colab-df-buttons div {\n",
              "      margin-bottom: 4px;\n",
              "    }\n",
              "\n",
              "    [theme=dark] .colab-df-convert {\n",
              "      background-color: #3B4455;\n",
              "      fill: #D2E3FC;\n",
              "    }\n",
              "\n",
              "    [theme=dark] .colab-df-convert:hover {\n",
              "      background-color: #434B5C;\n",
              "      box-shadow: 0px 1px 3px 1px rgba(0, 0, 0, 0.15);\n",
              "      filter: drop-shadow(0px 1px 2px rgba(0, 0, 0, 0.3));\n",
              "      fill: #FFFFFF;\n",
              "    }\n",
              "  </style>\n",
              "\n",
              "    <script>\n",
              "      const buttonEl =\n",
              "        document.querySelector('#df-4a4491dd-cc84-4639-b0cf-fcae275f8903 button.colab-df-convert');\n",
              "      buttonEl.style.display =\n",
              "        google.colab.kernel.accessAllowed ? 'block' : 'none';\n",
              "\n",
              "      async function convertToInteractive(key) {\n",
              "        const element = document.querySelector('#df-4a4491dd-cc84-4639-b0cf-fcae275f8903');\n",
              "        const dataTable =\n",
              "          await google.colab.kernel.invokeFunction('convertToInteractive',\n",
              "                                                    [key], {});\n",
              "        if (!dataTable) return;\n",
              "\n",
              "        const docLinkHtml = 'Like what you see? Visit the ' +\n",
              "          '<a target=\"_blank\" href=https://colab.research.google.com/notebooks/data_table.ipynb>data table notebook</a>'\n",
              "          + ' to learn more about interactive tables.';\n",
              "        element.innerHTML = '';\n",
              "        dataTable['output_type'] = 'display_data';\n",
              "        await google.colab.output.renderOutput(dataTable, element);\n",
              "        const docLink = document.createElement('div');\n",
              "        docLink.innerHTML = docLinkHtml;\n",
              "        element.appendChild(docLink);\n",
              "      }\n",
              "    </script>\n",
              "  </div>\n",
              "\n",
              "\n",
              "    <div id=\"df-84d0e556-ef5b-4b4b-92b9-b801f87466f4\">\n",
              "      <button class=\"colab-df-quickchart\" onclick=\"quickchart('df-84d0e556-ef5b-4b4b-92b9-b801f87466f4')\"\n",
              "                title=\"Suggest charts\"\n",
              "                style=\"display:none;\">\n",
              "\n",
              "<svg xmlns=\"http://www.w3.org/2000/svg\" height=\"24px\"viewBox=\"0 0 24 24\"\n",
              "     width=\"24px\">\n",
              "    <g>\n",
              "        <path d=\"M19 3H5c-1.1 0-2 .9-2 2v14c0 1.1.9 2 2 2h14c1.1 0 2-.9 2-2V5c0-1.1-.9-2-2-2zM9 17H7v-7h2v7zm4 0h-2V7h2v10zm4 0h-2v-4h2v4z\"/>\n",
              "    </g>\n",
              "</svg>\n",
              "      </button>\n",
              "\n",
              "<style>\n",
              "  .colab-df-quickchart {\n",
              "      --bg-color: #E8F0FE;\n",
              "      --fill-color: #1967D2;\n",
              "      --hover-bg-color: #E2EBFA;\n",
              "      --hover-fill-color: #174EA6;\n",
              "      --disabled-fill-color: #AAA;\n",
              "      --disabled-bg-color: #DDD;\n",
              "  }\n",
              "\n",
              "  [theme=dark] .colab-df-quickchart {\n",
              "      --bg-color: #3B4455;\n",
              "      --fill-color: #D2E3FC;\n",
              "      --hover-bg-color: #434B5C;\n",
              "      --hover-fill-color: #FFFFFF;\n",
              "      --disabled-bg-color: #3B4455;\n",
              "      --disabled-fill-color: #666;\n",
              "  }\n",
              "\n",
              "  .colab-df-quickchart {\n",
              "    background-color: var(--bg-color);\n",
              "    border: none;\n",
              "    border-radius: 50%;\n",
              "    cursor: pointer;\n",
              "    display: none;\n",
              "    fill: var(--fill-color);\n",
              "    height: 32px;\n",
              "    padding: 0;\n",
              "    width: 32px;\n",
              "  }\n",
              "\n",
              "  .colab-df-quickchart:hover {\n",
              "    background-color: var(--hover-bg-color);\n",
              "    box-shadow: 0 1px 2px rgba(60, 64, 67, 0.3), 0 1px 3px 1px rgba(60, 64, 67, 0.15);\n",
              "    fill: var(--button-hover-fill-color);\n",
              "  }\n",
              "\n",
              "  .colab-df-quickchart-complete:disabled,\n",
              "  .colab-df-quickchart-complete:disabled:hover {\n",
              "    background-color: var(--disabled-bg-color);\n",
              "    fill: var(--disabled-fill-color);\n",
              "    box-shadow: none;\n",
              "  }\n",
              "\n",
              "  .colab-df-spinner {\n",
              "    border: 2px solid var(--fill-color);\n",
              "    border-color: transparent;\n",
              "    border-bottom-color: var(--fill-color);\n",
              "    animation:\n",
              "      spin 1s steps(1) infinite;\n",
              "  }\n",
              "\n",
              "  @keyframes spin {\n",
              "    0% {\n",
              "      border-color: transparent;\n",
              "      border-bottom-color: var(--fill-color);\n",
              "      border-left-color: var(--fill-color);\n",
              "    }\n",
              "    20% {\n",
              "      border-color: transparent;\n",
              "      border-left-color: var(--fill-color);\n",
              "      border-top-color: var(--fill-color);\n",
              "    }\n",
              "    30% {\n",
              "      border-color: transparent;\n",
              "      border-left-color: var(--fill-color);\n",
              "      border-top-color: var(--fill-color);\n",
              "      border-right-color: var(--fill-color);\n",
              "    }\n",
              "    40% {\n",
              "      border-color: transparent;\n",
              "      border-right-color: var(--fill-color);\n",
              "      border-top-color: var(--fill-color);\n",
              "    }\n",
              "    60% {\n",
              "      border-color: transparent;\n",
              "      border-right-color: var(--fill-color);\n",
              "    }\n",
              "    80% {\n",
              "      border-color: transparent;\n",
              "      border-right-color: var(--fill-color);\n",
              "      border-bottom-color: var(--fill-color);\n",
              "    }\n",
              "    90% {\n",
              "      border-color: transparent;\n",
              "      border-bottom-color: var(--fill-color);\n",
              "    }\n",
              "  }\n",
              "</style>\n",
              "\n",
              "      <script>\n",
              "        async function quickchart(key) {\n",
              "          const quickchartButtonEl =\n",
              "            document.querySelector('#' + key + ' button');\n",
              "          quickchartButtonEl.disabled = true;  // To prevent multiple clicks.\n",
              "          quickchartButtonEl.classList.add('colab-df-spinner');\n",
              "          try {\n",
              "            const charts = await google.colab.kernel.invokeFunction(\n",
              "                'suggestCharts', [key], {});\n",
              "          } catch (error) {\n",
              "            console.error('Error during call to suggestCharts:', error);\n",
              "          }\n",
              "          quickchartButtonEl.classList.remove('colab-df-spinner');\n",
              "          quickchartButtonEl.classList.add('colab-df-quickchart-complete');\n",
              "        }\n",
              "        (() => {\n",
              "          let quickchartButtonEl =\n",
              "            document.querySelector('#df-84d0e556-ef5b-4b4b-92b9-b801f87466f4 button');\n",
              "          quickchartButtonEl.style.display =\n",
              "            google.colab.kernel.accessAllowed ? 'block' : 'none';\n",
              "        })();\n",
              "      </script>\n",
              "    </div>\n",
              "\n",
              "    </div>\n",
              "  </div>\n"
            ],
            "application/vnd.google.colaboratory.intrinsic+json": {
              "type": "dataframe",
              "variable_name": "df",
              "summary": "{\n  \"name\": \"df\",\n  \"rows\": 9,\n  \"fields\": [\n    {\n      \"column\": \"text\",\n      \"properties\": {\n        \"dtype\": \"string\",\n        \"num_unique_values\": 9,\n        \"samples\": [\n          \"\\u0627\\u0644\\u064a\\u0648\\u0645\\u0627 \\u0641\\u0642\\u062a \\u0645\\u0639\\u0637\\u0644\\u060c \\u0634\\u064a 11 \\u062f\\u064a\\u0627\\u0644 \\u0627\\u0644\\u0635\\u0628\\u0627\\u062d. \\u0645\\u0627\\u0641\\u064a\\u0627 \\u0644\\u064a \\u064a\\u0646\\u0648\\u0636 \\u0643\\u0627\\u0639. \\u0645\\u0634\\u064a\\u062a \\u0646\\u064a\\u0634\\u0627\\u0646 \\u0644\\u0644\\u0643\\u0648\\u0632\\u064a\\u0646\\u0629 \\u062f\\u0631\\u062a \\u0642\\u0647\\u0648\\u0629 \\u0643\\u062d\\u0644\\u0629 \\u0628\\u0627\\u0634 \\u0646\\u0635\\u062d\\u0635\\u062d \\u0634\\u0648\\u064a\\u0629. \\u0645\\u0646 \\u0628\\u0639\\u062f \\u0641\\u0643\\u0631\\u062a \\u0634\\u0646\\u0648 \\u063a\\u0627\\u0646\\u062f\\u064a\\u0631 \\u0644\\u0644\\u063a\\u062f\\u0627. \\u0642\\u0644\\u062a \\u0645\\u0627\\u0644\\u0647\\u0627 \\u0645\\u0627\\u0643\\u0644\\u0629 \\u062e\\u0641\\u064a\\u0641\\u0629 \\u0638\\u0631\\u064a\\u0641\\u0629\\u060c \\u0634\\u064a \\u0633\\u0627\\u0646\\u062f\\u0648\\u064a\\u062a\\u0634 \\u0648\\u0644\\u0627 \\u0634\\u0644\\u0627\\u0636\\u0629. \\u0639\\u064a\\u0637\\u062a \\u0639\\u0644\\u0649 \\u0635\\u0627\\u062d\\u0628\\u062a\\u064a \\u0641\\u0627\\u0637\\u0645\\u0629\\u060c \\u0633\\u0648\\u0644\\u062a\\u0647\\u0627 \\u0648\\u0627\\u0634 \\u0645\\u0633\\u0627\\u0644\\u064a\\u0629\\u060c \\u0642\\u0627\\u0644\\u062a \\u0644\\u064a \\u0627\\u0647. \\u0642\\u0644\\u062a \\u0644\\u064a\\u0647\\u0627 \\u0646\\u062a\\u0644\\u0627\\u0642\\u0627\\u0648 \\u0641\\u0634\\u064a \\u0642\\u0647\\u0648\\u0629 \\u062d\\u062f\\u0627 \\u0627\\u0644\\u0628\\u062d\\u0631. \\u062f\\u0648\\u0632\\u0646\\u0627 \\u0634\\u064a \\u0633\\u0627\\u0639\\u0629 \\u062a\\u0645\\u0627\\u060c \\u0647\\u0636\\u0631\\u0646\\u0627 \\u0648 \\u0636\\u062d\\u0643\\u0646\\u0627 \\u0634\\u0648\\u064a\\u0629. \\u0645\\u0648\\u0631\\u0627\\u0647\\u0627 \\u0631\\u062c\\u0639\\u062a \\u0644\\u0644\\u062f\\u0627\\u0631\\u060c \\u062a\\u0641\\u0631\\u062c\\u062a \\u0641\\u0634\\u064a \\u0641\\u064a\\u0644\\u0645\\u060c \\u0648 \\u062f\\u0627\\u0628\\u0627 \\u062c\\u0627\\u0644\\u0633 \\u0643\\u0646\\u0643\\u062a\\u0628 \\u0647\\u0627\\u062f\\u0634\\u064a. \\u0627\\u0644\\u0631\\u0648\\u062a\\u064a\\u0646 \\u062f\\u064a\\u0627\\u0644 \\u0643\\u0644 \\u0646\\u0647\\u0627\\u0631\\u060c \\u0648\\u0635\\u0627\\u0641\\u064a.\",\n          \"\\u0641\\u0627\\u0644\\u0635\\u0628\\u0627\\u062d\\u060c \\u0643\\u0627\\u0646\\u0641\\u064a\\u0642 \\u0645\\u0639\\u0637\\u0644 \\u0634\\u0648\\u064a\\u0629\\u060c \\u0634\\u064a \\u0645\\u0631\\u0629 \\u0645\\u0639 \\u062a\\u0633\\u0639\\u0648\\u062f \\u0634\\u064a \\u0645\\u0631\\u0629 \\u0645\\u0639 \\u0639\\u0634\\u0631\\u0629\\u060c \\u0639\\u0644\\u0649 \\u062d\\u0633\\u0627\\u0628. \\u0643\\u0627\\u0646\\u0645\\u0634\\u064a \\u0646\\u064a\\u0634\\u0627\\u0646 \\u0644\\u0644\\u0643\\u0648\\u0632\\u064a\\u0646\\u0629 \\u0646\\u062f\\u064a\\u0631 \\u0642\\u0647\\u0648\\u0629 \\u0643\\u062d\\u0644\\u0629 \\u0628\\u0627\\u0634 \\u0646\\u0635\\u062d\\u0635\\u062d. \\u0645\\u0646 \\u0628\\u0639\\u062f \\u0643\\u0627\\u0646\\u0634\\u0648\\u0641 \\u0634\\u0646\\u0648 \\u0643\\u0627\\u064a\\u0646 \\u0641\\u0627\\u0644\\u062b\\u0644\\u0627\\u062c\\u0629\\u060c \\u0648\\u0627\\u0634 \\u062e\\u0627\\u0635\\u0646\\u064a \\u0646\\u0645\\u0634\\u064a \\u0646\\u062a\\u0642\\u062f\\u0649 \\u0648\\u0644\\u0627 \\u0644\\u0627. \\u064a\\u0644\\u0627 \\u0643\\u0627\\u0646 \\u062e\\u0627\\u0635\\u0646\\u064a\\u060c \\u0643\\u0627\\u0646\\u0644\\u0628\\u0633 \\u062f\\u063a\\u064a\\u0627 \\u0648 \\u0646\\u062e\\u0631\\u062c \\u0644\\u0644\\u0633\\u0648\\u0642. \\u0627\\u0644\\u0635\\u0631\\u0627\\u062d\\u0629 \\u0643\\u0627\\u0646\\u0643\\u0631\\u0647 \\u0627\\u0644\\u0632\\u062d\\u0627\\u0645 \\u062f\\u064a\\u0627\\u0644 \\u0627\\u0644\\u0633\\u0648\\u0642\\u060c \\u0648\\u0644\\u0643\\u0646 \\u0636\\u0631\\u0648\\u0631\\u064a \\u062e\\u0627\\u0635\\u0646\\u064a \\u0646\\u062c\\u064a\\u0628 \\u0627\\u0644\\u062e\\u0636\\u0631\\u0629 \\u0648 \\u0627\\u0644\\u0641\\u0648\\u0627\\u0643\\u0647. \\u0645\\u0646 \\u0628\\u0639\\u062f \\u0627\\u0644\\u063a\\u062f\\u0627\\u060c \\u0643\\u0627\\u0646\\u0631\\u062a\\u0627\\u062d \\u0634\\u0648\\u064a\\u0629 \\u0648 \\u0646\\u0634\\u0648\\u0641 \\u0634\\u064a \\u0641\\u064a\\u0644\\u0645 \\u0648\\u0644\\u0627 \\u0645\\u0633\\u0644\\u0633\\u0644 \\u0641\\u0627\\u0644\\u062a\\u0644\\u0641\\u0627\\u0632\\u0629. \\u0641\\u0627\\u0644\\u0639\\u0634\\u064a\\u0629 \\u0643\\u0627\\u0646\\u062e\\u0631\\u062c \\u0646\\u062a\\u0645\\u0634\\u0649 \\u0634\\u0648\\u064a\\u0629 \\u0645\\u0639 \\u0635\\u062d\\u0627\\u0628\\u064a \\u0641\\u0627\\u0644\\u0632\\u0646\\u0642\\u0629\\u060c \\u0648 \\u0634\\u064a \\u0645\\u0631\\u0629 \\u0643\\u0627\\u0646\\u0645\\u0634\\u064a\\u0648 \\u0646\\u0627\\u0643\\u0644\\u0648 \\u0634\\u064a \\u062d\\u0627\\u062c\\u0629 \\u062e\\u0641\\u064a\\u0641\\u0629 \\u0641\\u0634\\u064a \\u0642\\u0647\\u0648\\u0629. \\u0648 \\u0628\\u0627\\u0644\\u0644\\u064a\\u0644 \\u0643\\u0627\\u0646\\u0631\\u062c\\u0639 \\u0644\\u0644\\u062f\\u0627\\u0631\\u060c \\u0646\\u062a\\u0639\\u0634\\u0649 \\u0648 \\u0646\\u0639\\u0633 \\u0628\\u0627\\u0634 \\u0646\\u0641\\u064a\\u0642 \\u0628\\u0643\\u0631\\u064a \\u063a\\u062f\\u0627 \\u0627\\u0646 \\u0634\\u0627\\u0621 \\u0627\\u0644\\u0644\\u0647.\",\n          \"\\u0627\\u0644\\u064a\\u0648\\u0645\\u0627 \\u0641\\u0642\\u062a \\u0645\\u0639\\u0637\\u0644 \\u0634\\u0648\\u064a\\u0629\\u060c \\u0634\\u064a \\u062a\\u0633\\u0639\\u0648\\u062f \\u0647\\u0643\\u0627\\u0643. \\u062f\\u063a\\u064a\\u0627 \\u063a\\u0633\\u0644\\u062a \\u0648\\u062c\\u0647\\u064a \\u0648 \\u0646\\u0632\\u0644\\u062a \\u0646\\u064a\\u0634\\u0627\\u0646 \\u0644\\u0644\\u0643\\u0648\\u0632\\u064a\\u0646\\u0629 \\u0628\\u0627\\u0634 \\u0646\\u0648\\u062c\\u062f \\u0642\\u0647\\u0648\\u0629. \\u0634\\u0631\\u0628\\u062a \\u0642\\u0647\\u0648\\u062a\\u064a \\u0648 \\u062e\\u0631\\u062c\\u062a \\u0628\\u0627\\u0634 \\u0646\\u0642\\u0636\\u064a \\u0634\\u064a \\u0634\\u063a\\u0644. \\u062f\\u0632\\u062a \\u0639\\u0644\\u0649 \\u0645\\u0648\\u0644 \\u0627\\u0644\\u062d\\u0627\\u0646\\u0648\\u062a \\u0634\\u0631\\u064a\\u062a \\u0627\\u0644\\u062e\\u0628\\u0632 \\u0648 \\u0634\\u064a \\u062d\\u0627\\u062c\\u0629 \\u0644\\u0644\\u0641\\u0637\\u0648\\u0631. \\u0645\\u0646 \\u0628\\u0639\\u062f \\u0645\\u0634\\u064a\\u062a \\u0644\\u0644\\u0633\\u0648\\u0642 \\u0628\\u0627\\u0634 \\u0646\\u0627\\u062e\\u062f \\u0627\\u0644\\u062e\\u0636\\u0631\\u0629 \\u0648 \\u0627\\u0644\\u0641\\u0648\\u0627\\u0643\\u0647. \\u062a\\u0645\\u0627 \\u0644\\u0642\\u064a\\u062a \\u0627\\u0644\\u0632\\u062d\\u0627\\u0645 \\u0628\\u0632\\u0627\\u0641\\u060c \\u0648 \\u0639\\u064a\\u064a\\u062a \\u0648 \\u0623\\u0646\\u0627 \\u0643\\u0646\\u062a\\u0633\\u0646\\u0649. \\u0645\\u0644\\u0644\\u064a \\u0631\\u062c\\u0639\\u062a \\u0644\\u0644\\u062f\\u0627\\u0631\\u060c \\u062a\\u063a\\u062f\\u064a\\u062a \\u0648 \\u0627\\u0631\\u062a\\u0627\\u062d\\u064a\\u062a \\u0634\\u0648\\u064a\\u0629. \\u0641\\u0627\\u0644\\u0639\\u0634\\u064a\\u0629 \\u0639\\u064a\\u0637 \\u0644\\u064a\\u0627 \\u0635\\u0627\\u062d\\u0628\\u064a \\u0628\\u0627\\u0634 \\u0646\\u062e\\u0631\\u062c\\u0648\\u0627 \\u0646\\u062f\\u0648\\u0631\\u0648\\u0627 \\u0634\\u064a \\u062f\\u0648\\u0631\\u0629. \\u0642\\u0644\\u0646\\u0627 \\u0639\\u0644\\u0627\\u0634 \\u0644\\u0627\\u060c \\u0628\\u062f\\u0644\\u0646\\u0627 \\u0627\\u0644\\u062c\\u0648 \\u0634\\u0648\\u064a\\u0629 \\u0648 \\u0636\\u062d\\u0643\\u0646\\u0627 \\u0634\\u0648\\u064a\\u0629. \\u062f\\u0627\\u0628\\u0627 \\u0631\\u0627\\u0646\\u064a \\u062c\\u0627\\u0644\\u0633 \\u0643\\u0646\\u062a\\u0641\\u0631\\u062c \\u0641\\u0627\\u0644\\u062a\\u0644\\u0641\\u0627\\u0632\\u0629 \\u0648 \\u0634\\u0648\\u064a\\u0629 \\u063a\\u0627\\u062f\\u064a \\u0646\\u0639\\u0633. \\u0648\\u0635\\u0627\\u0641\\u064a \\u0647\\u0627\\u062f\\u0634\\u064a \\u0627\\u0644\\u0644\\u064a \\u0643\\u0627\\u064a\\u0646 \\u0641\\u0646\\u0647\\u0627\\u0631\\u064a.\"\n        ],\n        \"semantic_type\": \"\",\n        \"description\": \"\"\n      }\n    },\n    {\n      \"column\": \"metadata\",\n      \"properties\": {\n        \"dtype\": \"object\",\n        \"semantic_type\": \"\",\n        \"description\": \"\"\n      }\n    }\n  ]\n}"
            }
          },
          "metadata": {},
          "execution_count": 17
        }
      ]
    },
    {
      "cell_type": "markdown",
      "source": [
        "## Push data to Hugging Face Hub"
      ],
      "metadata": {
        "id": "bacdESAVp12w"
      }
    },
    {
      "cell_type": "code",
      "source": [
        "# Install required packages\n",
        "!uv pip install datasets huggingface_hub -q"
      ],
      "metadata": {
        "id": "P8blvDyWFltY"
      },
      "execution_count": null,
      "outputs": []
    },
    {
      "cell_type": "code",
      "source": [
        "from huggingface_hub import login\n",
        "login(token=\"\") # your token"
      ],
      "metadata": {
        "id": "JQilpra7q_n1"
      },
      "execution_count": null,
      "outputs": []
    },
    {
      "cell_type": "code",
      "source": [
        "from datasets import Dataset"
      ],
      "metadata": {
        "id": "ZT1jwjp_qEEY"
      },
      "execution_count": null,
      "outputs": []
    },
    {
      "cell_type": "code",
      "source": [
        "dataset=Dataset.from_list(generated_data)\n",
        "dataset"
      ],
      "metadata": {
        "colab": {
          "base_uri": "https://localhost:8080/"
        },
        "id": "DRQz46ShqOFv",
        "outputId": "1899ea65-add8-45de-c811-bacd9a494b58"
      },
      "execution_count": null,
      "outputs": [
        {
          "output_type": "execute_result",
          "data": {
            "text/plain": [
              "Dataset({\n",
              "    features: ['text', 'metadata'],\n",
              "    num_rows: 9\n",
              "})"
            ]
          },
          "metadata": {},
          "execution_count": 22
        }
      ]
    },
    {
      "cell_type": "code",
      "source": [
        "dataset.push_to_hub(\"username/dataset_title\")"
      ],
      "metadata": {
        "id": "p9fRRW-zqV4-"
      },
      "execution_count": null,
      "outputs": []
    },
    {
      "cell_type": "markdown",
      "source": [
        "## Challenge\n",
        "\n",
        "Try to translate 1000 **random** samples (not 1000 first ones) from [`roneneldan/TinyStories`](https://huggingface.co/datasets/roneneldan/TinyStories) to Moroccan Arabic, make sure the quality is good before translating everything and pushing it to hub"
      ],
      "metadata": {
        "id": "RRfD6Oo2rTFZ"
      }
    }
  ]
}