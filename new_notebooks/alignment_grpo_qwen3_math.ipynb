{
 "cells": [
  {
   "cell_type": "markdown",
   "id": "829c4e21",
   "metadata": {},
   "source": [
    "# 🧠 Post-Training an LLM for Reasoning with GRPO in TRL\n",
    "\n",
    "[![Open In Colab](https://colab.research.google.com/assets/colab-badge.svg)](https://colab.research.google.com/github/your-repo/hackai-challenges/blob/main/py/alignment_grpo_qwen3_math.py)\n",
    "\n",
    "Estimated time needed: **90** minutes on a free T4 (Google Colab)\n",
    "\n",
    "In this notebook, we guide you through the process of **post-training a Large Language Model (LLM)** using **Group Relative Policy Optimization (GRPO)**, a method introduced in the [DeepSeekMath paper](https://arxiv.org/abs/2402.03300).\n",
    "\n",
    "GRPO is particularly effective for **scaling test-time compute for extended reasoning**, making it an ideal approach for tackling complex tasks such as mathematical problem-solving.\n",
    "\n",
    "---\n",
    "\n",
    "#### 🧐 What is GRPO?\n",
    "\n",
    "**Group Relative Policy Optimization (GRPO)** is a reinforcement learning (RL) post-training technique developed and used in the training of [DeepSeek-R1](https://github.com/deepseek-ai/DeepSeek-R1). It builds on concepts from PPO and DPO, but introduces a **group-wise reward normalization**, enabling better reasoning and more stable learning.\n",
    "\n",
    "Unlike earlier techniques that relied heavily on search heuristics, GRPO **relies exclusively on RL** to fine-tune the LLM post-SFT (Supervised Fine-Tuning), enhancing its capacity to solve nuanced, multi-step tasks.\n",
    "\n",
    "> 🔎 **Note**: Unlike DPO, GRPO does **not** use pairwise preference data. Instead, it relies on a **grouping of prompts by category or difficulty**, and optimizes based on **reward normalization within those groups**.\n",
    "\n",
    "The GRPO method is available in the [TRL library](https://huggingface.co/docs/trl/main/en/grpo_trainer#quick-start), and the Hugging Face Science team is actively working to reproduce the full DeepSeek-R1 training process via the [Open-R1 project](https://github.com/huggingface/open-r1).\n",
    "\n",
    "---\n",
    "\n",
    "#### 🔄 Comparing GRPO, DPO, and PPO\n",
    "\n",
    "| Aspect                     | PPO (Proximal Policy Optimization)        | DPO (Direct Preference Optimization)         | GRPO (Group Relative Policy Optimization)           |\n",
    "|---------------------------|-------------------------------------------|----------------------------------------------|------------------------------------------------------|\n",
    "| **Type**                  | RL algorithm                              | Supervised objective (no reward model)       | RL-based with group-wise normalization               |\n",
    "| **Training Signal**       | Uses a learned reward model               | Uses pairwise preference labels              | Uses task-specific rewards, normalized across groups |\n",
    "| **Stability**             | Prone to instability in large-scale LLMs  | More stable due to no sampling/rollouts      | More stable than PPO via group normalization         |\n",
    "| **Compute Requirements**  | High (sampling, rollout + reward model)   | Low (no sampling or reward model inference)  | Medium-High (RL training, no reward model)           |\n",
    "| **Alignment Type**        | Reward-based RL                           | Implicit via preference-based supervision    | Reward-based RL on grouped task data                 |\n",
    "| **Strengths**             | Proven RL method, widely used             | Simplicity, fast training, stability         | Better reasoning ability, handles outliers           |\n",
    "| **Weaknesses**            | Reward model is hard to train well        | Might underperform in reasoning-heavy tasks  | Needs clear grouping logic and high-quality tasks    |\n",
    "\n",
    "---\n",
    "\n",
    "#### 💡 Why GRPO?\n",
    "\n",
    "GRPO was specifically designed to **enhance reasoning ability** by promoting group-aware learning. It:\n",
    "\n",
    "- Encourages **relative improvement within groups of samples** (e.g., math questions of similar difficulty)\n",
    "- Promotes generalization across problem types\n",
    "- Improves robustness to reward outliers by normalizing over similar examples\n",
    "\n",
    "These advantages make GRPO especially promising for tasks that require **multi-step reasoning and consistency**, such as math, code generation, or logic-based problem-solving.\n",
    "\n",
    "---\n",
    "\n",
    "#### 📘 About This Notebook\n",
    "\n",
    "We focus specifically on **post-training with GRPO** using Hugging Face's TRL library. This notebook provides:\n",
    "\n",
    "- A hands-on demonstration of using `GRPOTrainer`\n",
    "- An overview of how group-based preferences are formatted\n",
    "- A look at how this training compares to other RLHF techniques\n",
    "\n",
    "> For a deeper dive into the full DeepSeek-R1 training procedure, check out the [Open-R1 repository](https://github.com/huggingface/open-r1) (**HINT** you might need to check this afterwards for the exercise)\n",
    "\n",
    "---\n",
    "\n",
    "#### 🧩 GRPO Training Pipeline (Illustrated)\n",
    "\n",
    "The diagram below highlights the main differences between **PPO** (Proximal Policy Optimization) and **GRPO** (Group Relative Policy Optimization), specifically the removal of the value model in GRPO. For more detailed information on the key differences, you can refer to the [full explanation here](https://www.philschmid.de/deepseek-r1).\n",
    "\n",
    "![image](https://miro.medium.com/v2/resize:fit:1400/1*84PSf3d1-OGN10y_2H-XdQ.png)"
   ]
  },
  {
   "cell_type": "markdown",
   "id": "41abb0df",
   "metadata": {},
   "source": [
    "#### 1. Install Dependencies\n",
    "\n",
    "Let’s start by installing the essential libraries we’ll need for fine-tuning! 🚀\n"
   ]
  },
  {
   "cell_type": "code",
   "execution_count": null,
   "id": "c8b771b3",
   "metadata": {},
   "outputs": [
    {
     "name": "stdout",
     "output_type": "stream",
     "text": [
      "\u001b[2K     \u001b[90m━━━━━━━━━━━━━━━━━━━━━━━━━━━━━━━━━━━━━━━━\u001b[0m \u001b[32m46.8/46.8 kB\u001b[0m \u001b[31m2.3 MB/s\u001b[0m eta \u001b[36m0:00:00\u001b[0m\n",
      "\u001b[2K   \u001b[90m━━━━━━━━━━━━━━━━━━━━━━━━━━━━━━━━━━━━━━━━\u001b[0m \u001b[32m218.5/218.5 kB\u001b[0m \u001b[31m14.5 MB/s\u001b[0m eta \u001b[36m0:00:00\u001b[0m\n",
      "\u001b[2K   \u001b[90m━━━━━━━━━━━━━━━━━━━━━━━━━━━━━━━━━━━━━━━━\u001b[0m \u001b[32m326.4/326.4 MB\u001b[0m \u001b[31m4.8 MB/s\u001b[0m eta \u001b[36m0:00:00\u001b[0m\n",
      "\u001b[2K   \u001b[90m━━━━━━━━━━━━━━━━━━━━━━━━━━━━━━━━━━━━━━━━\u001b[0m \u001b[32m98.4/98.4 kB\u001b[0m \u001b[31m7.8 MB/s\u001b[0m eta \u001b[36m0:00:00\u001b[0m\n",
      "\u001b[2K   \u001b[90m━━━━━━━━━━━━━━━━━━━━━━━━━━━━━━━━━━━━━━━━\u001b[0m \u001b[32m111.0/111.0 kB\u001b[0m \u001b[31m10.5 MB/s\u001b[0m eta \u001b[36m0:00:00\u001b[0m\n",
      "\u001b[2K   \u001b[90m━━━━━━━━━━━━━━━━━━━━━━━━━━━━━━━━━━━━━━━━\u001b[0m \u001b[32m3.8/3.8 MB\u001b[0m \u001b[31m99.9 MB/s\u001b[0m eta \u001b[36m0:00:00\u001b[0m\n",
      "\u001b[2K   \u001b[90m━━━━━━━━━━━━━━━━━━━━━━━━━━━━━━━━━━━━━━━━\u001b[0m \u001b[32m87.6/87.6 kB\u001b[0m \u001b[31m6.2 MB/s\u001b[0m eta \u001b[36m0:00:00\u001b[0m\n",
      "\u001b[2K   \u001b[90m━━━━━━━━━━━━━━━━━━━━━━━━━━━━━━━━━━━━━━━━\u001b[0m \u001b[32m44.3/44.3 MB\u001b[0m \u001b[31m23.0 MB/s\u001b[0m eta \u001b[36m0:00:00\u001b[0m\n",
      "\u001b[2K   \u001b[90m━━━━━━━━━━━━━━━━━━━━━━━━━━━━━━━━━━━━━━━━\u001b[0m \u001b[32m4.8/4.8 MB\u001b[0m \u001b[31m99.2 MB/s\u001b[0m eta \u001b[36m0:00:00\u001b[0m\n",
      "\u001b[2K   \u001b[90m━━━━━━━━━━━━━━━━━━━━━━━━━━━━━━━━━━━━━━━━\u001b[0m \u001b[32m363.4/363.4 MB\u001b[0m \u001b[31m5.1 MB/s\u001b[0m eta \u001b[36m0:00:00\u001b[0m\n",
      "\u001b[2K   \u001b[90m━━━━━━━━━━━━━━━━━━━━━━━━━━━━━━━━━━━━━━━━\u001b[0m \u001b[32m13.8/13.8 MB\u001b[0m \u001b[31m108.9 MB/s\u001b[0m eta \u001b[36m0:00:00\u001b[0m\n",
      "\u001b[2K   \u001b[90m━━━━━━━━━━━━━━━━━━━━━━━━━━━━━━━━━━━━━━━━\u001b[0m \u001b[32m24.6/24.6 MB\u001b[0m \u001b[31m89.0 MB/s\u001b[0m eta \u001b[36m0:00:00\u001b[0m\n",
      "\u001b[2K   \u001b[90m━━━━━━━━━━━━━━━━━━━━━━━━━━━━━━━━━━━━━━━━\u001b[0m \u001b[32m883.7/883.7 kB\u001b[0m \u001b[31m52.4 MB/s\u001b[0m eta \u001b[36m0:00:00\u001b[0m\n",
      "\u001b[2K   \u001b[90m━━━━━━━━━━━━━━━━━━━━━━━━━━━━━━━━━━━━━━━━\u001b[0m \u001b[32m664.8/664.8 MB\u001b[0m \u001b[31m2.7 MB/s\u001b[0m eta \u001b[36m0:00:00\u001b[0m\n",
      "\u001b[2K   \u001b[90m━━━━━━━━━━━━━━━━━━━━━━━━━━━━━━━━━━━━━━━━\u001b[0m \u001b[32m211.5/211.5 MB\u001b[0m \u001b[31m6.5 MB/s\u001b[0m eta \u001b[36m0:00:00\u001b[0m\n",
      "\u001b[2K   \u001b[90m━━━━━━━━━━━━━━━━━━━━━━━━━━━━━━━━━━━━━━━━\u001b[0m \u001b[32m56.3/56.3 MB\u001b[0m \u001b[31m13.4 MB/s\u001b[0m eta \u001b[36m0:00:00\u001b[0m\n",
      "\u001b[2K   \u001b[90m━━━━━━━━━━━━━━━━━━━━━━━━━━━━━━━━━━━━━━━━\u001b[0m \u001b[32m127.9/127.9 MB\u001b[0m \u001b[31m7.6 MB/s\u001b[0m eta \u001b[36m0:00:00\u001b[0m\n",
      "\u001b[2K   \u001b[90m━━━━━━━━━━━━━━━━━━━━━━━━━━━━━━━━━━━━━━━━\u001b[0m \u001b[32m207.5/207.5 MB\u001b[0m \u001b[31m5.7 MB/s\u001b[0m eta \u001b[36m0:00:00\u001b[0m\n",
      "\u001b[2K   \u001b[90m━━━━━━━━━━━━━━━━━━━━━━━━━━━━━━━━━━━━━━━━\u001b[0m \u001b[32m21.1/21.1 MB\u001b[0m \u001b[31m104.3 MB/s\u001b[0m eta \u001b[36m0:00:00\u001b[0m\n",
      "\u001b[2K   \u001b[90m━━━━━━━━━━━━━━━━━━━━━━━━━━━━━━━━━━━━━━━━\u001b[0m \u001b[32m343.3/343.3 kB\u001b[0m \u001b[31m26.5 MB/s\u001b[0m eta \u001b[36m0:00:00\u001b[0m\n",
      "\u001b[2K   \u001b[90m━━━━━━━━━━━━━━━━━━━━━━━━━━━━━━━━━━━━━━━━\u001b[0m \u001b[32m207.5/207.5 kB\u001b[0m \u001b[31m19.3 MB/s\u001b[0m eta \u001b[36m0:00:00\u001b[0m\n",
      "\u001b[2K   \u001b[90m━━━━━━━━━━━━━━━━━━━━━━━━━━━━━━━━━━━━━━━━\u001b[0m \u001b[32m302.3/302.3 kB\u001b[0m \u001b[31m24.9 MB/s\u001b[0m eta \u001b[36m0:00:00\u001b[0m\n",
      "\u001b[2K   \u001b[90m━━━━━━━━━━━━━━━━━━━━━━━━━━━━━━━━━━━━━━━━\u001b[0m \u001b[32m491.4/491.4 kB\u001b[0m \u001b[31m35.5 MB/s\u001b[0m eta \u001b[36m0:00:00\u001b[0m\n",
      "\u001b[2K   \u001b[90m━━━━━━━━━━━━━━━━━━━━━━━━━━━━━━━━━━━━━━━━\u001b[0m \u001b[32m95.2/95.2 kB\u001b[0m \u001b[31m8.2 MB/s\u001b[0m eta \u001b[36m0:00:00\u001b[0m\n",
      "\u001b[2K   \u001b[90m━━━━━━━━━━━━━━━━━━━━━━━━━━━━━━━━━━━━━━━━\u001b[0m \u001b[32m94.4/94.4 kB\u001b[0m \u001b[31m8.5 MB/s\u001b[0m eta \u001b[36m0:00:00\u001b[0m\n",
      "\u001b[2K   \u001b[90m━━━━━━━━━━━━━━━━━━━━━━━━━━━━━━━━━━━━━━━━\u001b[0m \u001b[32m14.0/14.0 MB\u001b[0m \u001b[31m114.5 MB/s\u001b[0m eta \u001b[36m0:00:00\u001b[0m\n",
      "\u001b[2K   \u001b[90m━━━━━━━━━━━━━━━━━━━━━━━━━━━━━━━━━━━━━━━━\u001b[0m \u001b[32m44.2/44.2 kB\u001b[0m \u001b[31m3.9 MB/s\u001b[0m eta \u001b[36m0:00:00\u001b[0m\n",
      "\u001b[2K   \u001b[90m━━━━━━━━━━━━━━━━━━━━━━━━━━━━━━━━━━━━━━━━\u001b[0m \u001b[32m6.5/6.5 MB\u001b[0m \u001b[31m122.2 MB/s\u001b[0m eta \u001b[36m0:00:00\u001b[0m\n",
      "\u001b[2K   \u001b[90m━━━━━━━━━━━━━━━━━━━━━━━━━━━━━━━━━━━━━━━━\u001b[0m \u001b[32m61.5/61.5 kB\u001b[0m \u001b[31m5.1 MB/s\u001b[0m eta \u001b[36m0:00:00\u001b[0m\n",
      "\u001b[2K   \u001b[90m━━━━━━━━━━━━━━━━━━━━━━━━━━━━━━━━━━━━━━━━\u001b[0m \u001b[32m52.5/52.5 kB\u001b[0m \u001b[31m4.2 MB/s\u001b[0m eta \u001b[36m0:00:00\u001b[0m\n",
      "\u001b[2K   \u001b[90m━━━━━━━━━━━━━━━━━━━━━━━━━━━━━━━━━━━━━━━━\u001b[0m \u001b[32m109.5/109.5 kB\u001b[0m \u001b[31m9.4 MB/s\u001b[0m eta \u001b[36m0:00:00\u001b[0m\n",
      "\u001b[2K   \u001b[90m━━━━━━━━━━━━━━━━━━━━━━━━━━━━━━━━━━━━━━━━\u001b[0m \u001b[32m138.0/138.0 kB\u001b[0m \u001b[31m10.6 MB/s\u001b[0m eta \u001b[36m0:00:00\u001b[0m\n",
      "\u001b[2K   \u001b[90m━━━━━━━━━━━━━━━━━━━━━━━━━━━━━━━━━━━━━━━━\u001b[0m \u001b[32m162.1/162.1 kB\u001b[0m \u001b[31m12.1 MB/s\u001b[0m eta \u001b[36m0:00:00\u001b[0m\n",
      "\u001b[2K   \u001b[90m━━━━━━━━━━━━━━━━━━━━━━━━━━━━━━━━━━━━━━━━\u001b[0m \u001b[32m862.4/862.4 kB\u001b[0m \u001b[31m51.0 MB/s\u001b[0m eta \u001b[36m0:00:00\u001b[0m\n",
      "\u001b[2K   \u001b[90m━━━━━━━━━━━━━━━━━━━━━━━━━━━━━━━━━━━━━━━━\u001b[0m \u001b[32m68.4/68.4 MB\u001b[0m \u001b[31m10.3 MB/s\u001b[0m eta \u001b[36m0:00:00\u001b[0m\n",
      "\u001b[2K   \u001b[90m━━━━━━━━━━━━━━━━━━━━━━━━━━━━━━━━━━━━━━━━\u001b[0m \u001b[32m1.2/1.2 MB\u001b[0m \u001b[31m50.7 MB/s\u001b[0m eta \u001b[36m0:00:00\u001b[0m\n",
      "\u001b[2K   \u001b[90m━━━━━━━━━━━━━━━━━━━━━━━━━━━━━━━━━━━━━━━━\u001b[0m \u001b[32m318.9/318.9 kB\u001b[0m \u001b[31m20.7 MB/s\u001b[0m eta \u001b[36m0:00:00\u001b[0m\n",
      "\u001b[2K   \u001b[90m━━━━━━━━━━━━━━━━━━━━━━━━━━━━━━━━━━━━━━━━\u001b[0m \u001b[32m129.0/129.0 kB\u001b[0m \u001b[31m10.7 MB/s\u001b[0m eta \u001b[36m0:00:00\u001b[0m\n",
      "\u001b[2K   \u001b[90m━━━━━━━━━━━━━━━━━━━━━━━━━━━━━━━━━━━━━━━━\u001b[0m \u001b[32m76.1/76.1 MB\u001b[0m \u001b[31m10.1 MB/s\u001b[0m eta \u001b[36m0:00:00\u001b[0m\n",
      "\u001b[2K   \u001b[90m━━━━━━━━━━━━━━━━━━━━━━━━━━━━━━━━━━━━━━━━\u001b[0m \u001b[32m376.2/376.2 kB\u001b[0m \u001b[31m25.6 MB/s\u001b[0m eta \u001b[36m0:00:00\u001b[0m\n",
      "\u001b[2K   \u001b[90m━━━━━━━━━━━━━━━━━━━━━━━━━━━━━━━━━━━━━━━━\u001b[0m \u001b[32m3.6/3.6 MB\u001b[0m \u001b[31m90.1 MB/s\u001b[0m eta \u001b[36m0:00:00\u001b[0m\n",
      "\u001b[2K   \u001b[90m━━━━━━━━━━━━━━━━━━━━━━━━━━━━━━━━━━━━━━━━\u001b[0m \u001b[32m210.7/210.7 kB\u001b[0m \u001b[31m15.9 MB/s\u001b[0m eta \u001b[36m0:00:00\u001b[0m\n",
      "\u001b[2K   \u001b[90m━━━━━━━━━━━━━━━━━━━━━━━━━━━━━━━━━━━━━━━━\u001b[0m \u001b[32m422.8/422.8 kB\u001b[0m \u001b[31m26.0 MB/s\u001b[0m eta \u001b[36m0:00:00\u001b[0m\n",
      "\u001b[2K   \u001b[90m━━━━━━━━━━━━━━━━━━━━━━━━━━━━━━━━━━━━━━━━\u001b[0m \u001b[32m124.3/124.3 kB\u001b[0m \u001b[31m9.7 MB/s\u001b[0m eta \u001b[36m0:00:00\u001b[0m\n",
      "\u001b[2K   \u001b[90m━━━━━━━━━━━━━━━━━━━━━━━━━━━━━━━━━━━━━━━━\u001b[0m \u001b[32m454.8/454.8 kB\u001b[0m \u001b[31m25.7 MB/s\u001b[0m eta \u001b[36m0:00:00\u001b[0m\n",
      "\u001b[2K   \u001b[90m━━━━━━━━━━━━━━━━━━━━━━━━━━━━━━━━━━━━━━━━\u001b[0m \u001b[32m144.5/144.5 kB\u001b[0m \u001b[31m11.7 MB/s\u001b[0m eta \u001b[36m0:00:00\u001b[0m\n",
      "\u001b[2K   \u001b[90m━━━━━━━━━━━━━━━━━━━━━━━━━━━━━━━━━━━━━━━━\u001b[0m \u001b[32m116.3/116.3 kB\u001b[0m \u001b[31m8.1 MB/s\u001b[0m eta \u001b[36m0:00:00\u001b[0m\n",
      "\u001b[2K   \u001b[90m━━━━━━━━━━━━━━━━━━━━━━━━━━━━━━━━━━━━━━━━\u001b[0m \u001b[32m193.6/193.6 kB\u001b[0m \u001b[31m14.8 MB/s\u001b[0m eta \u001b[36m0:00:00\u001b[0m\n",
      "\u001b[2K   \u001b[90m━━━━━━━━━━━━━━━━━━━━━━━━━━━━━━━━━━━━━━━━\u001b[0m \u001b[32m53.6/53.6 MB\u001b[0m \u001b[31m14.4 MB/s\u001b[0m eta \u001b[36m0:00:00\u001b[0m\n",
      "\u001b[2K   \u001b[90m━━━━━━━━━━━━━━━━━━━━━━━━━━━━━━━━━━━━━━━━\u001b[0m \u001b[32m42.4/42.4 MB\u001b[0m \u001b[31m17.1 MB/s\u001b[0m eta \u001b[36m0:00:00\u001b[0m\n",
      "\u001b[2K   \u001b[90m━━━━━━━━━━━━━━━━━━━━━━━━━━━━━━━━━━━━━━━━\u001b[0m \u001b[32m143.5/143.5 kB\u001b[0m \u001b[31m11.1 MB/s\u001b[0m eta \u001b[36m0:00:00\u001b[0m\n",
      "\u001b[2K   \u001b[90m━━━━━━━━━━━━━━━━━━━━━━━━━━━━━━━━━━━━━━━━\u001b[0m \u001b[32m72.0/72.0 kB\u001b[0m \u001b[31m5.7 MB/s\u001b[0m eta \u001b[36m0:00:00\u001b[0m\n",
      "\u001b[2K   \u001b[90m━━━━━━━━━━━━━━━━━━━━━━━━━━━━━━━━━━━━━━━━\u001b[0m \u001b[32m62.5/62.5 kB\u001b[0m \u001b[31m4.9 MB/s\u001b[0m eta \u001b[36m0:00:00\u001b[0m\n",
      "\u001b[2K   \u001b[90m━━━━━━━━━━━━━━━━━━━━━━━━━━━━━━━━━━━━━━━━\u001b[0m \u001b[32m913.7/913.7 kB\u001b[0m \u001b[31m55.6 MB/s\u001b[0m eta \u001b[36m0:00:00\u001b[0m\n",
      "\u001b[2K   \u001b[90m━━━━━━━━━━━━━━━━━━━━━━━━━━━━━━━━━━━━━━━━\u001b[0m \u001b[32m45.5/45.5 kB\u001b[0m \u001b[31m3.5 MB/s\u001b[0m eta \u001b[36m0:00:00\u001b[0m\n",
      "\u001b[2K   \u001b[90m━━━━━━━━━━━━━━━━━━━━━━━━━━━━━━━━━━━━━━━━\u001b[0m \u001b[32m6.3/6.3 MB\u001b[0m \u001b[31m105.0 MB/s\u001b[0m eta \u001b[36m0:00:00\u001b[0m\n",
      "\u001b[2K   \u001b[90m━━━━━━━━━━━━━━━━━━━━━━━━━━━━━━━━━━━━━━━━\u001b[0m \u001b[32m194.8/194.8 kB\u001b[0m \u001b[31m16.9 MB/s\u001b[0m eta \u001b[36m0:00:00\u001b[0m\n",
      "\u001b[2K   \u001b[90m━━━━━━━━━━━━━━━━━━━━━━━━━━━━━━━━━━━━━━━━\u001b[0m \u001b[32m313.6/313.6 kB\u001b[0m \u001b[31m24.3 MB/s\u001b[0m eta \u001b[36m0:00:00\u001b[0m\n",
      "\u001b[2K   \u001b[90m━━━━━━━━━━━━━━━━━━━━━━━━━━━━━━━━━━━━━━━━\u001b[0m \u001b[32m459.8/459.8 kB\u001b[0m \u001b[31m33.0 MB/s\u001b[0m eta \u001b[36m0:00:00\u001b[0m\n",
      "\u001b[2K   \u001b[90m━━━━━━━━━━━━━━━━━━━━━━━━━━━━━━━━━━━━━━━━\u001b[0m \u001b[32m4.0/4.0 MB\u001b[0m \u001b[31m102.0 MB/s\u001b[0m eta \u001b[36m0:00:00\u001b[0m\n",
      "\u001b[?25h\u001b[31mERROR: pip's dependency resolver does not currently take into account all the packages that are installed. This behaviour is the source of the following dependency conflicts.\n",
      "distributed-ucxx-cu12 0.42.0 requires numba<0.61.0a0,>=0.59.1, but you have numba 0.61.2 which is incompatible.\n",
      "ydf 0.11.0 requires protobuf<6.0.0,>=5.29.1, but you have protobuf 3.20.3 which is incompatible.\n",
      "dask-cuda 25.2.0 requires numba<0.61.0a0,>=0.59.1, but you have numba 0.61.2 which is incompatible.\n",
      "cuml-cu12 25.2.1 requires numba<0.61.0a0,>=0.59.1, but you have numba 0.61.2 which is incompatible.\n",
      "grpcio-status 1.71.0 requires protobuf<6.0dev,>=5.26.1, but you have protobuf 3.20.3 which is incompatible.\n",
      "cudf-cu12 25.2.1 requires numba<0.61.0a0,>=0.59.1, but you have numba 0.61.2 which is incompatible.\n",
      "tensorflow-metadata 1.17.1 requires protobuf<6.0.0,>=4.25.2; python_version >= \"3.11\", but you have protobuf 3.20.3 which is incompatible.\n",
      "gcsfs 2025.3.2 requires fsspec==2025.3.2, but you have fsspec 2025.3.0 which is incompatible.\u001b[0m\u001b[31m\n",
      "\u001b[0m"
     ]
    }
   ],
   "source": [
    "!pip install --q unsloth vllm math_verify pypdf wandb"
   ]
  },
  {
   "cell_type": "markdown",
   "id": "ddc5ee55",
   "metadata": {},
   "source": [
    "Import needed packages"
   ]
  },
  {
   "cell_type": "code",
   "execution_count": null,
   "id": "30ffa42c",
   "metadata": {},
   "outputs": [],
   "source": [
    "# Python standard library\n",
    "import os\n",
    "import re\n",
    "from typing import List\n",
    "\n",
    "# Third-party libraries\n",
    "import torch\n",
    "import warnings\n",
    "from datasets import load_dataset, Dataset\n",
    "from pypdf import PdfReader\n",
    "from sentence_transformers import CrossEncoder\n",
    "from transformers import AutoModelForCausalLM, AutoTokenizer, TextStreamer\n",
    "from trl import GRPOConfig, GRPOTrainer\n",
    "\n",
    "# Custom/project-specific libraries\n",
    "from math_verify import LatexExtractionConfig, parse, verify\n",
    "from unsloth import FastLanguageModel, is_bfloat16_supported"
   ]
  },
  {
   "cell_type": "markdown",
   "id": "442140ff",
   "metadata": {},
   "source": [
    "Authenticate with your Hugging Face account to save and share your model directly from this notebook 🗝️."
   ]
  },
  {
   "cell_type": "code",
   "execution_count": null,
   "id": "9a04b74c",
   "metadata": {},
   "outputs": [],
   "source": [
    "# set device\n",
    "device = \"cuda\" if torch.cuda.is_available() else \"cpu\" # set device to cuda if available\n",
    "\n",
    "# Set the huggingface token (get your token from https://huggingface.co/settings/tokens)\n",
    "os.environ[\"HF_TOKEN\"] = \"YOU API TOKEN\"\n",
    "\n",
    "# Set the wandb token (get your token from https://wandb.ai/authorize)\n",
    "os.environ[\"WANDB_API_KEY\"] = \"YOU API TOKEN\"\n",
    "\n",
    "# Ignore warnings\n",
    "warnings.filterwarnings(\"ignore\")"
   ]
  },
  {
   "cell_type": "markdown",
   "id": "cefefc52",
   "metadata": {},
   "source": [
    "General Config"
   ]
  },
  {
   "cell_type": "code",
   "execution_count": null,
   "id": "2a6cc86b",
   "metadata": {},
   "outputs": [],
   "source": [
    "# ----------------------------------------\n",
    "# ✅ Candidate 4-bit Models (memory-efficient, quantized)\n",
    "# ----------------------------------------\n",
    "# Note: These models are optimized with Unsloth's 4-bit quantization,\n",
    "# providing faster inference and lower memory usage on limited hardware.\n",
    "fourbit_models = [\n",
    "    # Qwen series (good performance, various sizes)\n",
    "    \"unsloth/Qwen3-1.7B-unsloth-bnb-4bit\",     # ✅ Smallest Qwen model, fast & memory-efficient\n",
    "    \"unsloth/Qwen3-4B-unsloth-bnb-4bit\",       # ⚖️ Middle ground\n",
    "    \"unsloth/Qwen3-8B-unsloth-bnb-4bit\",       # 💪 Better reasoning, more memory needed\n",
    "    \"unsloth/Qwen3-14B-unsloth-bnb-4bit\",      # 🚀 High performance, needs more compute\n",
    "    \"unsloth/Qwen3-32B-unsloth-bnb-4bit\",      # 🧠 Best accuracy but resource-intensive\n",
    "]\n",
    "# 🔗 More models: https://huggingface.co/unsloth\n",
    "\n",
    "# ----------------------------------------\n",
    "# ✅ Model Configuration\n",
    "# ----------------------------------------\n",
    "MODEL = \"unsloth/Qwen3-1.7B\"  # Default model for training/inference (change as needed)\n",
    "max_seq_length = 2048         # Allows longer reasoning chains (e.g., for math or code tasks)\n",
    "lora_rank = 32                # LoRA rank: higher values = better adaptation, more VRAM usage\n",
    "NEW_MODEL = \"Qwen3_1.7B-GRPO-math-reasoning\"\n",
    "\n",
    "# ----------------------------------------\n",
    "# ✅ Prompting Strategy\n",
    "# ----------------------------------------\n",
    "SYSTEM_PROMPT = \"\"\"\n",
    "Respond in the following format:\n",
    "/nothink\n",
    "<reasoning>\n",
    "Briefly explain your reasoning. Be concise and avoid unnecessary detail.\n",
    "</reasoning>\n",
    "<answer>\n",
    "answer here\n",
    "</answer>\n",
    "\"\"\"\n",
    "# ----------------------------------------\n",
    "# ✅ Dataset\n",
    "# ----------------------------------------\n",
    "DATASET = \"lighteval/MATH-Hard\"  # Benchmark dataset for evaluating math reasoning difficulty"
   ]
  },
  {
   "cell_type": "markdown",
   "id": "3d8cac89",
   "metadata": {},
   "source": [
    "#### 2. Load Dataset 📁\n",
    "\n",
    "These models excel at tasks that require **complex reasoning**. A prime example is **mathematical problem-solving**, which often demands multi-step reasoning to arrive at a correct solution.\n",
    "\n",
    "For this project, we'll use the **lighteval/MATH-Hard** dataset on Hugging Face is a curated benchmark designed to evaluate large language models (LLMs) on challenging high school-level mathematics problems. It focuses exclusively on Level 5 questions from the original MATH dataset, which are the most difficult problems sourced from competitions like AMC 10/12 and AIME. These problems require multi-step reasoning and often involve algebra, geometry, number theory, and combinatorics."
   ]
  },
  {
   "cell_type": "code",
   "execution_count": null,
   "id": "9e1e2e7d",
   "metadata": {},
   "outputs": [
    {
     "data": {
      "application/vnd.jupyter.widget-view+json": {
       "model_id": "1f0762b1933e476cbacc760646176f3b",
       "version_major": 2,
       "version_minor": 0
      },
      "text/plain": [
       "README.md:   0%|          | 0.00/4.27k [00:00<?, ?B/s]"
      ]
     },
     "metadata": {},
     "output_type": "display_data"
    },
    {
     "data": {
      "application/vnd.jupyter.widget-view+json": {
       "model_id": "fde05f6ee07b4ef7b6d9cb1bb6f5082b",
       "version_major": 2,
       "version_minor": 0
      },
      "text/plain": [
       "algebra.jsonl:   0%|          | 0.00/412k [00:00<?, ?B/s]"
      ]
     },
     "metadata": {},
     "output_type": "display_data"
    },
    {
     "data": {
      "application/vnd.jupyter.widget-view+json": {
       "model_id": "69226a342a36414eb5a724bea1e783b6",
       "version_major": 2,
       "version_minor": 0
      },
      "text/plain": [
       "counting_and_probability.jsonl:   0%|          | 0.00/373k [00:00<?, ?B/s]"
      ]
     },
     "metadata": {},
     "output_type": "display_data"
    },
    {
     "data": {
      "application/vnd.jupyter.widget-view+json": {
       "model_id": "2c4519ee96f74a43b92f4f6dba9e55a4",
       "version_major": 2,
       "version_minor": 0
      },
      "text/plain": [
       "geometry.jsonl:   0%|          | 0.00/726k [00:00<?, ?B/s]"
      ]
     },
     "metadata": {},
     "output_type": "display_data"
    },
    {
     "data": {
      "application/vnd.jupyter.widget-view+json": {
       "model_id": "9b3f04e6878a4bb080c9f9d70edcc10c",
       "version_major": 2,
       "version_minor": 0
      },
      "text/plain": [
       "intermediate_algebra.jsonl:   0%|          | 0.00/568k [00:00<?, ?B/s]"
      ]
     },
     "metadata": {},
     "output_type": "display_data"
    },
    {
     "data": {
      "application/vnd.jupyter.widget-view+json": {
       "model_id": "1c274d26f00f4ecda0caf49cda7c2818",
       "version_major": 2,
       "version_minor": 0
      },
      "text/plain": [
       "number_theory.jsonl:   0%|          | 0.00/333k [00:00<?, ?B/s]"
      ]
     },
     "metadata": {},
     "output_type": "display_data"
    },
    {
     "data": {
      "application/vnd.jupyter.widget-view+json": {
       "model_id": "927edc5b3ae047a7865b3b3e1a931d82",
       "version_major": 2,
       "version_minor": 0
      },
      "text/plain": [
       "prealgebra.jsonl:   0%|          | 0.00/240k [00:00<?, ?B/s]"
      ]
     },
     "metadata": {},
     "output_type": "display_data"
    },
    {
     "data": {
      "application/vnd.jupyter.widget-view+json": {
       "model_id": "0edc7b5fc3f94536a7f68eca28b5d5ee",
       "version_major": 2,
       "version_minor": 0
      },
      "text/plain": [
       "precalculus.jsonl:   0%|          | 0.00/329k [00:00<?, ?B/s]"
      ]
     },
     "metadata": {},
     "output_type": "display_data"
    },
    {
     "data": {
      "application/vnd.jupyter.widget-view+json": {
       "model_id": "c1220708e0ce4235ad2a52de71b7d81b",
       "version_major": 2,
       "version_minor": 0
      },
      "text/plain": [
       "algebra.jsonl:   0%|          | 0.00/284k [00:00<?, ?B/s]"
      ]
     },
     "metadata": {},
     "output_type": "display_data"
    },
    {
     "data": {
      "application/vnd.jupyter.widget-view+json": {
       "model_id": "23eacbf19c4b4bdaa101215ec033cf64",
       "version_major": 2,
       "version_minor": 0
      },
      "text/plain": [
       "counting_and_probability.jsonl:   0%|          | 0.00/135k [00:00<?, ?B/s]"
      ]
     },
     "metadata": {},
     "output_type": "display_data"
    },
    {
     "data": {
      "application/vnd.jupyter.widget-view+json": {
       "model_id": "b4e3d5d2ecd14e878453215bf70f4d68",
       "version_major": 2,
       "version_minor": 0
      },
      "text/plain": [
       "geometry.jsonl:   0%|          | 0.00/227k [00:00<?, ?B/s]"
      ]
     },
     "metadata": {},
     "output_type": "display_data"
    },
    {
     "data": {
      "application/vnd.jupyter.widget-view+json": {
       "model_id": "114aa446b71144cf983ede0d588ceb2d",
       "version_major": 2,
       "version_minor": 0
      },
      "text/plain": [
       "intermediate_algebra.jsonl:   0%|          | 0.00/391k [00:00<?, ?B/s]"
      ]
     },
     "metadata": {},
     "output_type": "display_data"
    },
    {
     "data": {
      "application/vnd.jupyter.widget-view+json": {
       "model_id": "8f5c4707aaf548ff87bd69f9d04ed5dc",
       "version_major": 2,
       "version_minor": 0
      },
      "text/plain": [
       "number_theory.jsonl:   0%|          | 0.00/152k [00:00<?, ?B/s]"
      ]
     },
     "metadata": {},
     "output_type": "display_data"
    },
    {
     "data": {
      "application/vnd.jupyter.widget-view+json": {
       "model_id": "4ff55f29efdf4abd92bdb4e6e9549200",
       "version_major": 2,
       "version_minor": 0
      },
      "text/plain": [
       "prealgebra.jsonl:   0%|          | 0.00/179k [00:00<?, ?B/s]"
      ]
     },
     "metadata": {},
     "output_type": "display_data"
    },
    {
     "data": {
      "application/vnd.jupyter.widget-view+json": {
       "model_id": "d76367f3cc8141508e9261829ec47b59",
       "version_major": 2,
       "version_minor": 0
      },
      "text/plain": [
       "precalculus.jsonl:   0%|          | 0.00/242k [00:00<?, ?B/s]"
      ]
     },
     "metadata": {},
     "output_type": "display_data"
    },
    {
     "data": {
      "application/vnd.jupyter.widget-view+json": {
       "model_id": "b011faa8df7a4d96a126817730b58b94",
       "version_major": 2,
       "version_minor": 0
      },
      "text/plain": [
       "Generating train split: 0 examples [00:00, ? examples/s]"
      ]
     },
     "metadata": {},
     "output_type": "display_data"
    },
    {
     "data": {
      "application/vnd.jupyter.widget-view+json": {
       "model_id": "398c29ffaa4a460fb79f46fd9f1cdf7d",
       "version_major": 2,
       "version_minor": 0
      },
      "text/plain": [
       "Generating test split: 0 examples [00:00, ? examples/s]"
      ]
     },
     "metadata": {},
     "output_type": "display_data"
    },
    {
     "data": {
      "application/vnd.jupyter.widget-view+json": {
       "model_id": "0c5a988d2a5947c4b07d4c1947d9d791",
       "version_major": 2,
       "version_minor": 0
      },
      "text/plain": [
       "Map:   0%|          | 0/2304 [00:00<?, ? examples/s]"
      ]
     },
     "metadata": {},
     "output_type": "display_data"
    },
    {
     "data": {
      "application/vnd.jupyter.widget-view+json": {
       "model_id": "68edb3b0c7db473f906f66c212968d1d",
       "version_major": 2,
       "version_minor": 0
      },
      "text/plain": [
       "Map:   0%|          | 0/1324 [00:00<?, ? examples/s]"
      ]
     },
     "metadata": {},
     "output_type": "display_data"
    }
   ],
   "source": [
    "def get_math_questions(split=\"train\") -> Dataset:\n",
    "    # Load the raw dataset from the hub\n",
    "    data = load_dataset(DATASET, 'default')[split]\n",
    "    data = data.map(lambda x: {\n",
    "            'prompt': [\n",
    "                {'role': 'system', 'content': SYSTEM_PROMPT},\n",
    "                {'role': 'user', 'content': x['problem']}\n",
    "            ],\n",
    "            'answer': x['solution'],\n",
    "            'question': x['problem']\n",
    "        }).remove_columns(['problem', 'solution','level','type'])\n",
    "    return data\n",
    "\n",
    "# To get the three splits, call:\n",
    "train_dataset=  get_math_questions(split=\"train\")\n",
    "test_dataset =  get_math_questions(split=\"test\")\n"
   ]
  },
  {
   "cell_type": "code",
   "execution_count": null,
   "id": "7c6c56e1",
   "metadata": {},
   "outputs": [
    {
     "name": "stdout",
     "output_type": "stream",
     "text": [
      "train dataset Dataset({\n",
      "    features: ['prompt', 'answer', 'question'],\n",
      "    num_rows: 2304\n",
      "})\n",
      "test dataset Dataset({\n",
      "    features: ['prompt', 'answer', 'question'],\n",
      "    num_rows: 1324\n",
      "})\n",
      "train sample {'prompt': [{'content': '\\nRespond in the following format:\\n/nothink \\n<reasoning>\\nBriefly explain your reasoning. Be concise and avoid unnecessary detail.\\n</reasoning>\\n<answer>\\nanswer here\\n</answer>\\n', 'role': 'system'}, {'content': 'What is the range of the function $y = \\\\frac{x^2 + 3x + 2}{x+1}$?  (Express your answer using interval notation.)', 'role': 'user'}], 'answer': 'We can factor the numerator to get $y = \\\\frac{(x+1)(x+2)}{x+1}$. If we exclude the case where $x = -1$, the function is equivalent to $y = x+2$. However, because $x$ cannot equal $-1$, $y$ cannot equal 1. Therefore, the range is all real numbers except for 1, which we may write as $y \\\\in \\\\boxed{(-\\\\infty, 1)\\\\cup(1, \\\\infty)}.$', 'question': 'What is the range of the function $y = \\\\frac{x^2 + 3x + 2}{x+1}$?  (Express your answer using interval notation.)'}\n"
     ]
    }
   ],
   "source": [
    "print(\"train dataset\",train_dataset)\n",
    "print(\"test dataset\",test_dataset)\n",
    "print(\"train sample\",train_dataset[0])"
   ]
  },
  {
   "cell_type": "markdown",
   "id": "a10f43a7",
   "metadata": {},
   "source": [
    "## 3. Post-Training the Base Model Using GRPO\n",
    "\n"
   ]
  },
  {
   "cell_type": "markdown",
   "id": "eea0ba60",
   "metadata": {},
   "source": [
    "### 3.1 Loading the Baseline Model\n",
    "\n",
    "To begin, we'll load [Qwen/Qwen3-1.7B](https://huggingface.co/Qwen/Qwen3-1.7B). With only 1.7 billion parameters, it is lightweight and fits within the available resources. However, for better results, a larger [alternative](https://qwenlm.github.io/blog/qwen3/) should be considered.\n",
    "\n",
    "[Benchmark](https://dev.to/best_codes/qwen-3-benchmarks-comparisons-model-specifications-and-more-4hoa)\n",
    "\n"
   ]
  },
  {
   "cell_type": "code",
   "execution_count": null,
   "id": "f110097e",
   "metadata": {},
   "outputs": [
    {
     "name": "stdout",
     "output_type": "stream",
     "text": [
      "==((====))==  Unsloth 2025.4.7: Fast Qwen3 patching. Transformers: 4.51.3. vLLM: 0.8.5.post1.\n",
      "   \\\\   /|    Tesla T4. Num GPUs = 1. Max memory: 14.741 GB. Platform: Linux.\n",
      "O^O/ \\_/ \\    Torch: 2.6.0+cu124. CUDA: 7.5. CUDA Toolkit: 12.4. Triton: 3.2.0\n",
      "\\        /    Bfloat16 = FALSE. FA [Xformers = 0.0.29.post2. FA2 = False]\n",
      " \"-____-\"     Free license: http://github.com/unslothai/unsloth\n",
      "Unsloth: Fast downloading is enabled - ignore downloading bars which are red colored!\n"
     ]
    },
    {
     "data": {
      "application/vnd.jupyter.widget-view+json": {
       "model_id": "56b3bda4c8094dce9977b877b62d501f",
       "version_major": 2,
       "version_minor": 0
      },
      "text/plain": [
       "model.safetensors:   0%|          | 0.00/1.41G [00:00<?, ?B/s]"
      ]
     },
     "metadata": {},
     "output_type": "display_data"
    },
    {
     "data": {
      "application/vnd.jupyter.widget-view+json": {
       "model_id": "60073a70fb454cf8bcacdfc4a4970b57",
       "version_major": 2,
       "version_minor": 0
      },
      "text/plain": [
       "generation_config.json:   0%|          | 0.00/242 [00:00<?, ?B/s]"
      ]
     },
     "metadata": {},
     "output_type": "display_data"
    },
    {
     "data": {
      "application/vnd.jupyter.widget-view+json": {
       "model_id": "c129355d67324ee8a755146e14a5a81a",
       "version_major": 2,
       "version_minor": 0
      },
      "text/plain": [
       "tokenizer_config.json:   0%|          | 0.00/10.3k [00:00<?, ?B/s]"
      ]
     },
     "metadata": {},
     "output_type": "display_data"
    },
    {
     "data": {
      "application/vnd.jupyter.widget-view+json": {
       "model_id": "9404d01d7b8a482c977a86a9db1ab902",
       "version_major": 2,
       "version_minor": 0
      },
      "text/plain": [
       "vocab.json:   0%|          | 0.00/2.78M [00:00<?, ?B/s]"
      ]
     },
     "metadata": {},
     "output_type": "display_data"
    },
    {
     "data": {
      "application/vnd.jupyter.widget-view+json": {
       "model_id": "17bbe07d35e24142921584a731df0242",
       "version_major": 2,
       "version_minor": 0
      },
      "text/plain": [
       "merges.txt:   0%|          | 0.00/1.67M [00:00<?, ?B/s]"
      ]
     },
     "metadata": {},
     "output_type": "display_data"
    },
    {
     "data": {
      "application/vnd.jupyter.widget-view+json": {
       "model_id": "b60fa5b70fa04d418d08dba51c97d0b5",
       "version_major": 2,
       "version_minor": 0
      },
      "text/plain": [
       "added_tokens.json:   0%|          | 0.00/707 [00:00<?, ?B/s]"
      ]
     },
     "metadata": {},
     "output_type": "display_data"
    },
    {
     "data": {
      "application/vnd.jupyter.widget-view+json": {
       "model_id": "c02d38ee8a5a473fa57c55aac3015dc5",
       "version_major": 2,
       "version_minor": 0
      },
      "text/plain": [
       "special_tokens_map.json:   0%|          | 0.00/614 [00:00<?, ?B/s]"
      ]
     },
     "metadata": {},
     "output_type": "display_data"
    },
    {
     "data": {
      "application/vnd.jupyter.widget-view+json": {
       "model_id": "463e73ad15e94581a2b6897297822ab2",
       "version_major": 2,
       "version_minor": 0
      },
      "text/plain": [
       "tokenizer.json:   0%|          | 0.00/11.4M [00:00<?, ?B/s]"
      ]
     },
     "metadata": {},
     "output_type": "display_data"
    },
    {
     "data": {
      "application/vnd.jupyter.widget-view+json": {
       "model_id": "9aad7e2f7cd24bae9183c40d0973636e",
       "version_major": 2,
       "version_minor": 0
      },
      "text/plain": [
       "chat_template.jinja:   0%|          | 0.00/4.67k [00:00<?, ?B/s]"
      ]
     },
     "metadata": {},
     "output_type": "display_data"
    }
   ],
   "source": [
    "# Load the language model with optional 4-bit quantization and LoRA\n",
    "model, tokenizer = FastLanguageModel.from_pretrained(\n",
    "    model_name=MODEL,              # Name or path of the pretrained model\n",
    "    max_seq_length=max_seq_length,  # Sets maximum input size handled by the model\n",
    "    load_in_4bit=True,              # Use 4-bit quantization to save GPU memory and speed up inference\n",
    "    max_lora_rank=lora_rank,        # Sets the rank for the LoRA adaptation\n",
    "    full_finetuning=False,          # If True, fine-tunes all weights; if False, only fine-tunes LoRA layers\n",
    "    # fast_inference=True           # Optional: Enable vLLM-style fast inference (commented out here)\n",
    ")\n"
   ]
  },
  {
   "cell_type": "markdown",
   "id": "6387bb1b",
   "metadata": {},
   "source": [
    "This model would normally require ~6.8 GB of memory (assuming 32-bit floating point: 1.7B × 4 bytes), However since we decided to apply Quantization(load_in_4bit=True)\n",
    "This reduces memory footprint by 8× compared to 32-bit:\n",
    "From 4 bytes per parameter → 0.5 bytes per parameter\n",
    "1.7B parameters × 0.5 bytes = ~0.85 GB"
   ]
  },
  {
   "cell_type": "code",
   "execution_count": null,
   "id": "e1340af4",
   "metadata": {},
   "outputs": [
    {
     "name": "stdout",
     "output_type": "stream",
     "text": [
      "trainable params: 37,872,640 || 1,720,574,976 || trainable%: 0.02\n"
     ]
    }
   ],
   "source": [
    "trainable_params = 0\n",
    "all_param = 0\n",
    "for _, param in model.named_parameters():\n",
    "    num_params = param.numel()\n",
    "    # if using DS Zero 3 and the weights are initialized empty\n",
    "    if num_params == 0 and hasattr(param, \"ds_numel\"):\n",
    "        num_params = param.ds_numel\n",
    "\n",
    "    # Due to the design of 4bit linear layers from bitsandbytes\n",
    "    # one needs to multiply the number of parameters by 2 to get\n",
    "    # the correct number of parameters\n",
    "    if param.__class__.__name__ == \"Params4bit\":\n",
    "        if hasattr(param, \"element_size\"):\n",
    "            num_bytes = param.element_size()\n",
    "        elif not hasattr(param, \"quant_storage\"):\n",
    "            num_bytes = 1\n",
    "        else:\n",
    "            num_bytes = param.quant_storage.itemsize\n",
    "        num_params = num_params * 2 * num_bytes\n",
    "\n",
    "    all_param += num_params\n",
    "    if param.requires_grad:\n",
    "        trainable_params += num_params\n",
    "\n",
    "print(f\"trainable params: {trainable_params:,} || {all_param:,} || trainable%: {trainable_params/all_param:.2f}\")\n"
   ]
  },
  {
   "cell_type": "markdown",
   "id": "c8916bbc",
   "metadata": {},
   "source": [
    "### 3.2 Configuring LoRA\n",
    "\n",
    "Next, we will configure LoRA for model training. This technique will allow us to efficiently fine-tune the model with a reduced number of parameters, enabling faster and more resource-efficient training."
   ]
  },
  {
   "cell_type": "code",
   "execution_count": null,
   "id": "ddead0c7",
   "metadata": {},
   "outputs": [
    {
     "name": "stderr",
     "output_type": "stream",
     "text": [
      "Unsloth 2025.4.7 patched 28 layers with 28 QKV layers, 28 O layers and 28 MLP layers.\n"
     ]
    }
   ],
   "source": [
    "# Apply LoRA (Low-Rank Adaptation) using PEFT to the base model\n",
    "model = FastLanguageModel.get_peft_model(\n",
    "    model,\n",
    "\n",
    "    r=lora_rank,  # LoRA rank: Controls number of trainable parameters. Common values are 8, 16, 32, 64.\n",
    "                  # Higher rank → more capacity to adapt → better accuracy but slower and more memory usage.\n",
    "\n",
    "    target_modules=[\n",
    "        \"q_proj\", \"k_proj\", \"v_proj\", \"o_proj\",        # Attention projections\n",
    "        \"gate_proj\", \"up_proj\", \"down_proj\"           # Feed-forward projections\n",
    "    ],\n",
    "    # These modules are typically the most sensitive and impactful in transformer adaptation.\n",
    "\n",
    "    lora_alpha=lora_rank,  # Scaling factor for LoRA updates. Alpha = rank or 2×rank is a common rule of thumb.\n",
    "\n",
    "    lora_dropout=0,        # Dropout applied to LoRA layers.\n",
    "                           # 0 is best for most tasks and is optimized in frameworks like Unsloth.\n",
    "\n",
    "    bias=\"none\",           # Bias configuration: \"none\", \"all\", or \"lora_only\".\n",
    "                           # \"none\" is memory-efficient and recommended when biases don’t significantly affect results.\n",
    "\n",
    "    use_gradient_checkpointing=\"unsloth\",  # Use gradient checkpointing to save memory during backpropagation.\n",
    "                                           # \"unsloth\" mode is optimized for long-context tasks (e.g., long reasoning chains).\n",
    "\n",
    "    random_state=3407,     # Ensures reproducibility of LoRA weight initialization.\n",
    "\n",
    "    use_rslora=False,      # If True, enables Rank-Stabilized LoRA (adds rank flexibility).\n",
    "                           # Off here to keep configuration standard and stable.\n",
    "\n",
    "    loftq_config=None      # Optional: If using LoftQ quantization-aware LoRA training.\n",
    "                           # Not used here — defaulting to standard LoRA without LoftQ.\n",
    ")\n"
   ]
  },
  {
   "cell_type": "code",
   "execution_count": null,
   "id": "777cd1dd",
   "metadata": {},
   "outputs": [
    {
     "name": "stdout",
     "output_type": "stream",
     "text": [
      "trainable params: 34,865,152 || all params: 1,755,440,128 || trainable%: 1.9861\n"
     ]
    }
   ],
   "source": [
    "model.print_trainable_parameters()\n"
   ]
  },
  {
   "cell_type": "markdown",
   "id": "3d907f16",
   "metadata": {},
   "source": [
    "There was a significant reduction in traing size from  37,872,640 to  34,865,152, due to LORA (Low-Rank Adaptation), it is a parameter-efficient fine-tuning method that dramatically reduces the number of trainable parameters while maintaining performance. Here's how to understand and calculate its parameter efficiency.\n",
    "\n",
    "How LoRA Works\n",
    "\n",
    "Instead of updating the entire weight matrix during fine-tuning, LoRA approximates weight updates using low-rank decomposition:\n",
    "W' = W + ΔW = W + BA\n",
    "Where:\n",
    "\n",
    "- W is the original weight matrix (dimensions m×n)\n",
    "- B is a matrix of dimension m×r\n",
    "- A is a matrix of dimension r×n\n",
    "- r is the rank (much smaller than m and n) (32 in this case)\n",
    "\n",
    "Calculating Parameter Reduction\n",
    "\n",
    "For each weight matrix W with dimensions m×n:\n",
    "\n",
    "Full fine-tuning parameters: m×n\n",
    "LoRA parameters: r(m+n) = (m×r) + (r×n)\n",
    "\n",
    "For example, if you have a weight matrix of size 4096×4096 and r=16:\n",
    "\n",
    "Full parameters: 4096×4096 = 16,777,216\n",
    "LoRA parameters: 16×(4096+4096) = 131,072\n",
    "Reduction: ~99.2%\n",
    "![image](https://substackcdn.com/image/fetch/w_1456,c_limit,f_webp,q_auto:good,fl_progressive:steep/https%3A%2F%2Fsubstack-post-media.s3.amazonaws.com%2Fpublic%2Fimages%2F5dfbd169-eb7e-41e1-a050-556ccd6fb679_1600x672.png)"
   ]
  },
  {
   "cell_type": "markdown",
   "id": "beb509ac",
   "metadata": {},
   "source": [
    "### 3.3 Loading Reward Functions\n",
    "In Group Relative Policy Optimization (GRPO), reward functions are essential because they guide the preference-based optimization of the policy by comparing the quality of generated outputs within a group. Unlike standard Reinforcement Learning (RL), where absolute rewards are assigned to single actions or trajectories, GRPO relies on relative comparisons—often derived from human preferences or heuristics—to update the policy.\n",
    "In this case, we will utilize these reward functions:\n",
    "\n",
    "1. **Format Enforcement:** Ensures that the generation follows a specific format using `<think> </think> <answer> </answer>` tags for reasoning.  "
   ]
  },
  {
   "cell_type": "code",
   "execution_count": null,
   "id": "6e21df5e",
   "metadata": {},
   "outputs": [],
   "source": [
    "def tag_presence_reward(completions: List[dict], **kwargs) -> List[float]:\n",
    "    \"\"\"Reward for presence of <reasoning> and <answer> tags\"\"\"\n",
    "\n",
    "    print(completions[0])\n",
    "    rewards = []\n",
    "    for completion in completions:\n",
    "        content = completion[0]['content']\n",
    "        has_reasoning = bool(re.search(r'<reasoning>.*?</reasoning>', content, re.DOTALL))\n",
    "        has_answer = bool(re.search(r'<answer>.*?</answer>', content, re.DOTALL))\n",
    "        reward = 0.5 * has_reasoning + 0.5 * has_answer\n",
    "        rewards.append(reward)\n",
    "    return rewards"
   ]
  },
  {
   "cell_type": "markdown",
   "id": "d4322cbc",
   "metadata": {},
   "source": [
    "2. **Solution Accuracy:** Verifies that checks whether each generated model completion matches the expected ground truth solution. If the model's output matches the gold solution (e.g., mathematical expression), it rewards the completion; otherwise, it assigns a penalty (0.0 or near 0). This helps reinforce accurate model behavior in tasks where precision is crucial, such as solving math problems or parsing structured data.correct."
   ]
  },
  {
   "cell_type": "code",
   "execution_count": null,
   "id": "88d3ea76",
   "metadata": {},
   "outputs": [],
   "source": [
    "def accuracy_reward(completions:List[dict], **kwargs)-> List[float]:\n",
    "    \"\"\"Reward function that checks if the completion is the same as the ground truth.\"\"\"\n",
    "    solutions = kwargs['answer']\n",
    "    completion_contents = [completion[0][\"content\"] for completion in completions]\n",
    "    rewards = []\n",
    "    for content, solution in zip(completion_contents, solutions):\n",
    "        gold_parsed = parse(solution, extraction_mode=\"first_match\", extraction_config=[LatexExtractionConfig()])\n",
    "        answer_parsed = parse(content, extraction_mode=\"first_match\", extraction_config=[LatexExtractionConfig()])\n",
    "        if len(gold_parsed) != 0:\n",
    "            try:\n",
    "                rewards.append(float(verify(answer_parsed, gold_parsed)))\n",
    "            except Exception:\n",
    "                rewards.append(0.0)\n",
    "        else:\n",
    "            rewards.append(1.0)\n",
    "    return rewards"
   ]
  },
  {
   "cell_type": "markdown",
   "id": "81757e26",
   "metadata": {},
   "source": [
    "3. **Semantic correctness:** reward uses a cross-encoder model (cross-encoder/stsb-roberta-base) to evaluate the similarity between generated responses and reference answers. When no valid answer is extracted (i.e., an empty response), the function assigns a reward of -1.0 to indicate failure in producing an answer."
   ]
  },
  {
   "cell_type": "code",
   "execution_count": null,
   "id": "48f79f39",
   "metadata": {},
   "outputs": [],
   "source": [
    "def semantic_correctness(completions: List[str], **kwargs) -> List[float]:\n",
    "    \"\"\"answers semantic similarity using cross-encoder\"\"\"\n",
    "    answers = kwargs['answer']\n",
    "    model_ss = CrossEncoder('cross-encoder/stsb-roberta-base', device=device)\n",
    "    responses = [completion[0][\"content\"] for completion in completions]\n",
    "    inputs = list(zip(responses, answers))\n",
    "    with torch.no_grad():\n",
    "        similarities = model_ss.predict(inputs, show_progress_bar=False)\n",
    "        similarities = torch.tensor(similarities).clone().tolist()\n",
    "        # Set similarity to -1 if the response is an empty string\n",
    "        similarities = [-1.0 if response == \"\" else similarity for response, similarity in zip(responses, similarities)]\n",
    "        return similarities"
   ]
  },
  {
   "cell_type": "markdown",
   "id": "82f3fde6",
   "metadata": {},
   "source": [
    "==> Infer the original model on a a given question (to test the generation config)"
   ]
  },
  {
   "cell_type": "code",
   "execution_count": null,
   "id": "473163e3",
   "metadata": {},
   "outputs": [
    {
     "name": "stdout",
     "output_type": "stream",
     "text": [
      "<reasoning>\n",
      "To find the $y$-coordinate of the point on the $y$-axis equidistant from points $A(-2, 0)$ and $B(-1, 4)$, we set up the equation of equidistance. Let the point be $(0, y)$. The distance from $(0, y)$ to $A(-2, 0)$ is $\\sqrt{(-2 - 0)^2 + (0 - y)^2} = \\sqrt{4 + y^2}$. The distance from $(0, y)$ to $B(-1, 4)$ is $\\sqrt{(-1 - 0)^2 + (4 - y)^2} = \\sqrt{1 + (4 - y)^2}$. Setting these equal: $\\sqrt{4 + y^2} = \\sqrt{1 + (4 - y)^2}$. Squaring both sides: $4 + y^2 = 1 + (4 - y)^2$. Simplifying: $4 + y^2 = 1 + 16 - 8y + y^2$. Cancel $y^2$ and simplify: $4 = 17 - 8y$. Solving: $8y = 13$, so $y = \\frac{13}{8}$. The answer is $\\frac{13}{8}$.\n",
      "</reasoning>\n",
      "<answer>\n",
      "$\\frac{13}{8}$\n",
      "</answer><|im_end|>\n"
     ]
    }
   ],
   "source": [
    "# text = \"Find all values of $x$ that satisfy the equation $|x-3|=2x+4$. Express your answers in simplest fractional form.\"\n",
    "messages = [\n",
    "            {'role': 'system', 'content': SYSTEM_PROMPT},\n",
    "            {'role': 'user', 'content': train_dataset[5]['question']}\n",
    "        ]\n",
    "text = tokenizer.apply_chat_template(\n",
    "    messages,\n",
    "    tokenize = False,\n",
    "    add_generation_prompt = True, # Must add for generation\n",
    "    enable_thinking = False, # Disable thinking\n",
    ")\n",
    "\n",
    "_ = model.generate(\n",
    "    **tokenizer(text, return_tensors = \"pt\").to(\"cuda\"),\n",
    "    max_new_tokens = 2048, # Increase for longer outputs!\n",
    "    temperature = 0.7, top_p = 0.8, top_k = 20, # For non thinking\n",
    "    streamer = TextStreamer(tokenizer, skip_prompt = True),\n",
    ")"
   ]
  },
  {
   "cell_type": "markdown",
   "id": "3448bdaa",
   "metadata": {},
   "source": [
    "### 3.4 Configuring GRPO Training Parameters\n",
    "\n",
    "To keep things simple, we’ll start by training for just one epoch and reducing the `max_completion_length`, `num_generations`, and `max_prompt_length` from their default values."
   ]
  },
  {
   "cell_type": "code",
   "execution_count": null,
   "id": "dfc3efc6",
   "metadata": {},
   "outputs": [
    {
     "name": "stdout",
     "output_type": "stream",
     "text": [
      "Unsloth: We now expect `per_device_train_batch_size` to be a multiple of `num_generations`.\n",
      "We will change the batch size of 1 to the `num_generations` of 8\n"
     ]
    }
   ],
   "source": [
    "\n",
    "# Configuration for the GRPO training setup\n",
    "training_args = GRPOConfig(\n",
    "    # use_vllm=True,  # Optional: Use vLLM for fast inference, but not compatible with Qwen 3 models (commented out)\n",
    "\n",
    "    lr_scheduler_type=\"cosine\",  # Cosine learning rate scheduler for smooth and natural decaying\n",
    "                                # Good for tasks where we want gradual adjustments of the learning rate.\n",
    "\n",
    "    per_device_train_batch_size=1,  # Batch size per GPU; 1 for memory efficiency on small GPUs like T4\n",
    "                                    # Larger batch size will use more memory but may speed up training.\n",
    "\n",
    "    gradient_accumulation_steps=1,  # Number of steps to accumulate gradients before performing an update.\n",
    "                                    # Increase this if you want larger effective batch sizes without running out of memory.\n",
    "\n",
    "    warmup_steps=5,  # Number of steps to warm-up the learning rate. A small value for a quick adjustment.\n",
    "                    # You may want to adjust this if the model's training is unstable at the start.\n",
    "\n",
    "    max_steps=50,  # Number of training steps. Typically set based on your available compute and the model’s convergence speed.\n",
    "                   # For long training runs, this may need to be adjusted for fine-grained control.\n",
    "\n",
    "    learning_rate=2e-4,  # Base learning rate. A moderate value to start with; can be reduced (e.g., to 2e-5) for longer runs.\n",
    "                         # Lower values tend to work better for large models or fine-tuning tasks.\n",
    "\n",
    "    optim=\"adamw_8bit\",  # Use 8-bit AdamW optimizer to save memory and speed up training.\n",
    "                         # Good choice for larger models where memory and speed are concerns.\n",
    "\n",
    "    max_grad_norm=0.1,  # Gradient clipping to prevent exploding gradients; 0.1 is a standard value.\n",
    "                       # You can adjust if training becomes unstable or to improve convergence.\n",
    "\n",
    "    max_prompt_length=500,  # Maximum input length (tokens) for the model’s prompt.\n",
    "                           # Useful to control memory usage and ensure you don’t exceed model’s input limit.\n",
    "\n",
    "    max_completion_length=1024,  # Maximum output length (tokens) for generated completions.\n",
    "                               # Adjust according to the expected complexity or verbosity of the model’s response.\n",
    "\n",
    "    seed=3407,  # Random seed for reproducibility of experiments.\n",
    "\n",
    "    report_to=\"wandb\",  # Reporting to Weights & Biases\n",
    "\n",
    "    output_dir=\"qwen3_1_7B_grpo_math\",  # Directory where model checkpoints and logs are saved.\n",
    "                             # You can adjust this to store results in a more appropriate location.\n",
    ")"
   ]
  },
  {
   "cell_type": "markdown",
   "id": "97affc85",
   "metadata": {},
   "source": [
    " Another interesting parameter is reward_weights in order to Weights for each reward function. Must match the number of reward functions. If `None`, all \"\n",
    "            \"rewards are weighted equally with weight `1.0`.\"\n",
    "    "
   ]
  },
  {
   "cell_type": "markdown",
   "id": "b9cd1ec7",
   "metadata": {},
   "source": [
    "### 3.5 Training the Model 🏃\n",
    "\n",
    "Now, let's configure the trainer and start training the model!\n"
   ]
  },
  {
   "cell_type": "code",
   "execution_count": null,
   "id": "8a561cd6",
   "metadata": {},
   "outputs": [],
   "source": [
    "# Initialize the GRPOTrainer with the necessary configurations\n",
    "trainer = GRPOTrainer(\n",
    "    model=model,  # Pretrained language model that will be fine-tuned during training.\n",
    "\n",
    "    processing_class=tokenizer,  # Tokenizer used to process input text for the model.\n",
    "                                 # Ensures proper encoding and decoding of text into model-friendly formats.\n",
    "\n",
    "    reward_funcs=[               # List of reward functions to evaluate and optimize the model’s outputs.\n",
    "        tag_presence_reward,     # Reward function focusing on the presence of specific tags or keywords.\n",
    "        semantic_correctness,    # Reward function evaluating how semantically accurate the model’s response is.\n",
    "        accuracy_reward          # Reward function for the accuracy of model predictions, based on ground truth.\n",
    "    ],\n",
    "\n",
    "    args=training_args,          # Training configurations such as batch size, learning rate, etc. (from previous GRPOConfig).\n",
    "\n",
    "    train_dataset=train_dataset, # Training dataset used to fine-tune the model.\n",
    "                                # Should contain relevant examples for the task the model is being adapted for.\n",
    ")"
   ]
  },
  {
   "cell_type": "markdown",
   "id": "0c04b3fb",
   "metadata": {},
   "source": [
    "These settings are tuned to reduce hallucinations while preserving fluency and diversity, which is critical for math-heavy or logic-intensive datasets like lighteval/MATH-Hard.\n"
   ]
  },
  {
   "cell_type": "code",
   "execution_count": null,
   "id": "8a63f233",
   "metadata": {},
   "outputs": [],
   "source": [
    "# Modify the generation config\n",
    "trainer.generation_config.temperature = 0.7\n",
    "trainer.generation_config.top_p = 0.8\n",
    "trainer.generation_config.top_k = 20"
   ]
  },
  {
   "cell_type": "code",
   "execution_count": null,
   "id": "0b3e311a",
   "metadata": {},
   "outputs": [
    {
     "name": "stderr",
     "output_type": "stream",
     "text": [
      "==((====))==  Unsloth - 2x faster free finetuning | Num GPUs used = 1\n",
      "   \\\\   /|    Num examples = 2,304 | Num Epochs = 1 | Total steps = 50\n",
      "O^O/ \\_/ \\    Batch size per device = 8 | Gradient accumulation steps = 1\n",
      "\\        /    Data Parallel GPUs = 1 | Total batch size (8 x 1 x 1) = 8\n",
      " \"-____-\"     Trainable parameters = 34,865,152/7,000,000,000 (0.50% trained)\n",
      "\u001b[34m\u001b[1mwandb\u001b[0m: \u001b[33mWARNING\u001b[0m The `run_name` is currently set to the same value as `TrainingArguments.output_dir`. If this was not intended, please specify a different run name by setting the `TrainingArguments.run_name` parameter.\n",
      "\u001b[34m\u001b[1mwandb\u001b[0m: Currently logged in as: \u001b[33mafaf\u001b[0m to \u001b[32mhttps://api.wandb.ai\u001b[0m. Use \u001b[1m`wandb login --relogin`\u001b[0m to force relogin\n"
     ]
    },
    {
     "data": {
      "text/html": [
       "Tracking run with wandb version 0.19.10"
      ],
      "text/plain": [
       "<IPython.core.display.HTML object>"
      ]
     },
     "metadata": {},
     "output_type": "display_data"
    },
    {
     "data": {
      "text/html": [
       "Run data is saved locally in <code>/content/wandb/run-20250506_120458-tm7v4c7b</code>"
      ],
      "text/plain": [
       "<IPython.core.display.HTML object>"
      ]
     },
     "metadata": {},
     "output_type": "display_data"
    },
    {
     "data": {
      "text/html": [
       "Syncing run <strong><a href='https://wandb.ai/afaf/huggingface/runs/tm7v4c7b' target=\"_blank\">qwen3_1_7B_grpo_math</a></strong> to <a href='https://wandb.ai/afaf/huggingface' target=\"_blank\">Weights & Biases</a> (<a href='https://wandb.me/developer-guide' target=\"_blank\">docs</a>)<br>"
      ],
      "text/plain": [
       "<IPython.core.display.HTML object>"
      ]
     },
     "metadata": {},
     "output_type": "display_data"
    },
    {
     "data": {
      "text/html": [
       " View project at <a href='https://wandb.ai/afaf/huggingface' target=\"_blank\">https://wandb.ai/afaf/huggingface</a>"
      ],
      "text/plain": [
       "<IPython.core.display.HTML object>"
      ]
     },
     "metadata": {},
     "output_type": "display_data"
    },
    {
     "data": {
      "text/html": [
       " View run at <a href='https://wandb.ai/afaf/huggingface/runs/tm7v4c7b' target=\"_blank\">https://wandb.ai/afaf/huggingface/runs/tm7v4c7b</a>"
      ],
      "text/plain": [
       "<IPython.core.display.HTML object>"
      ]
     },
     "metadata": {},
     "output_type": "display_data"
    },
    {
     "name": "stderr",
     "output_type": "stream",
     "text": [
      "`generation_config` default values have been modified to match model-specific defaults: {'max_length': 40960, 'bos_token_id': 151643, 'eos_token_id': [151645, 151643]}. If this is not desired, please set these values explicitly.\n"
     ]
    },
    {
     "name": "stdout",
     "output_type": "stream",
     "text": [
      "[{'role': 'assistant', 'content': '<think>\\n\\n</think>\\n\\nWe are given the equation:\\n\\n$$\\n\\\\frac{x}{y} + \\\\frac{y}{x} = 6\\n$$\\n\\nLet’s rewrite this as:\\n\\n$$\\n\\\\frac{x^2 + y^2}{xy} = 6\\n$$\\n\\nMultiply both sides by $xy$:\\n\\n$$\\nx^2 + y^2 = 6xy\\n$$\\n\\nRearranging:\\n\\n$$\\nx^2 - 6xy + y^2 = 0\\n$$\\n\\nThis is a quadratic in $x$:\\n\\n$$\\nx^2 - 6y x + y^2 = 0\\n$$\\n\\nUse the quadratic formula:\\n\\n$$\\nx = \\\\frac{6y \\\\pm \\\\sqrt{(6y)^2 - 4(1)(y^2)}}{2}\\n= \\\\frac{6y \\\\pm \\\\sqrt{36y^2 - 4y^2}}{2}\\n= \\\\frac{6y \\\\pm \\\\sqrt{32y^2}}{2}\\n= \\\\frac{6y \\\\pm 4y\\\\sqrt{2}}{2}\\n= 3y \\\\pm 2y\\\\sqrt{2}\\n$$\\n\\nSo the two solutions are:\\n\\n$$\\nx = y(3 + 2\\\\sqrt{2}) \\\\quad \\\\text{and} \\\\quad x = y(3 - 2\\\\sqrt{2})\\n$$\\n\\nSince $y > x > 0$, we take the smaller value of $x$:\\n\\n$$\\nx = y(3 - 2\\\\sqrt{2})\\n$$\\n\\nNow compute $\\\\frac{x + y}{x - y}$:\\n\\n$$\\n\\\\frac{x + y}{x - y} = \\\\frac{y(3 - 2\\\\sqrt{2}) + y}{y(3 - 2\\\\sqrt{2}) - y}\\n= \\\\frac{y(3 - 2\\\\sqrt{2} + 1)}{y(3 - 2\\\\sqrt{2} - 1)}\\n= \\\\frac{4 - 2\\\\sqrt{2}}{2 - 2\\\\sqrt{2}}\\n$$\\n\\nFactor numerator and denominator:\\n\\n$$\\n= \\\\frac{2(2 - \\\\sqrt{2})}{2(1 - \\\\sqrt{2})}\\n= \\\\frac{2 - \\\\sqrt{2}}{1 - \\\\sqrt{2}}\\n$$\\n\\nMultiply numerator and denominator by $1 + \\\\sqrt{2}$:\\n\\n$$\\n= \\\\frac{(2 - \\\\sqrt{2})(1 + \\\\sqrt{2})}{(1 - \\\\sqrt{2})(1 + \\\\sqrt{2})}\\n= \\\\frac{2(1) + 2\\\\sqrt{2} - \\\\sqrt{2} - (\\\\sqrt{2})^2}{1 - 2}\\n= \\\\frac{2 + \\\\sqrt{2} - 2}{-1}\\n= \\\\frac{\\\\sqrt{2}}{-1}\\n= -\\\\sqrt{2}\\n$$\\n\\n### Final Answer:\\n$$\\n\\\\boxed{-\\\\sqrt{2}}\\n$$'}]\n"
     ]
    },
    {
     "data": {
      "application/vnd.jupyter.widget-view+json": {
       "model_id": "6e728fa7f0304fe793f1bf3c44c28a21",
       "version_major": 2,
       "version_minor": 0
      },
      "text/plain": [
       "config.json:   0%|          | 0.00/608 [00:00<?, ?B/s]"
      ]
     },
     "metadata": {},
     "output_type": "display_data"
    },
    {
     "data": {
      "application/vnd.jupyter.widget-view+json": {
       "model_id": "cdfd3f79c18b4f8587b636919e5c1653",
       "version_major": 2,
       "version_minor": 0
      },
      "text/plain": [
       "model.safetensors:   0%|          | 0.00/499M [00:00<?, ?B/s]"
      ]
     },
     "metadata": {},
     "output_type": "display_data"
    },
    {
     "data": {
      "application/vnd.jupyter.widget-view+json": {
       "model_id": "00ee37e9597048ceb277b411ce119e4c",
       "version_major": 2,
       "version_minor": 0
      },
      "text/plain": [
       "tokenizer_config.json:   0%|          | 0.00/1.33k [00:00<?, ?B/s]"
      ]
     },
     "metadata": {},
     "output_type": "display_data"
    },
    {
     "data": {
      "application/vnd.jupyter.widget-view+json": {
       "model_id": "a548e304620646258d3fb0a30d155c7c",
       "version_major": 2,
       "version_minor": 0
      },
      "text/plain": [
       "vocab.json:   0%|          | 0.00/798k [00:00<?, ?B/s]"
      ]
     },
     "metadata": {},
     "output_type": "display_data"
    },
    {
     "data": {
      "application/vnd.jupyter.widget-view+json": {
       "model_id": "3289c3a068bf4903965c495163279a0f",
       "version_major": 2,
       "version_minor": 0
      },
      "text/plain": [
       "merges.txt:   0%|          | 0.00/456k [00:00<?, ?B/s]"
      ]
     },
     "metadata": {},
     "output_type": "display_data"
    },
    {
     "data": {
      "application/vnd.jupyter.widget-view+json": {
       "model_id": "275ceed926d84faf9a6efd8b13bbbb68",
       "version_major": 2,
       "version_minor": 0
      },
      "text/plain": [
       "tokenizer.json:   0%|          | 0.00/3.56M [00:00<?, ?B/s]"
      ]
     },
     "metadata": {},
     "output_type": "display_data"
    },
    {
     "data": {
      "application/vnd.jupyter.widget-view+json": {
       "model_id": "52277f6ff7024022b4bc7402d3843992",
       "version_major": 2,
       "version_minor": 0
      },
      "text/plain": [
       "special_tokens_map.json:   0%|          | 0.00/1.01k [00:00<?, ?B/s]"
      ]
     },
     "metadata": {},
     "output_type": "display_data"
    },
    {
     "data": {
      "text/html": [
       "\n",
       "    <div>\n",
       "      \n",
       "      <progress value='50' max='50' style='width:300px; height:20px; vertical-align: middle;'></progress>\n",
       "      [50/50 1:07:21, Epoch 0/1]\n",
       "    </div>\n",
       "    <table border=\"1\" class=\"dataframe\">\n",
       "  <thead>\n",
       " <tr style=\"text-align: left;\">\n",
       "      <th>Step</th>\n",
       "      <th>Training Loss</th>\n",
       "      <th>reward</th>\n",
       "      <th>reward_std</th>\n",
       "      <th>completion_length</th>\n",
       "      <th>kl</th>\n",
       "      <th>rewards / tag_presence_reward</th>\n",
       "      <th>rewards / semantic_correctness</th>\n",
       "      <th>rewards / accuracy_reward</th>\n",
       "    </tr>\n",
       "  </thead>\n",
       "  <tbody>\n",
       "    <tr>\n",
       "      <td>1</td>\n",
       "      <td>-0.000000</td>\n",
       "      <td>1.091846</td>\n",
       "      <td>0.547578</td>\n",
       "      <td>844.500000</td>\n",
       "      <td>0.000000</td>\n",
       "      <td>0.000000</td>\n",
       "      <td>0.591846</td>\n",
       "      <td>0.500000</td>\n",
       "    </tr>\n",
       "    <tr>\n",
       "      <td>2</td>\n",
       "      <td>0.000000</td>\n",
       "      <td>0.593945</td>\n",
       "      <td>0.049360</td>\n",
       "      <td>932.125000</td>\n",
       "      <td>0.000000</td>\n",
       "      <td>0.000000</td>\n",
       "      <td>0.593945</td>\n",
       "      <td>0.000000</td>\n",
       "    </tr>\n",
       "    <tr>\n",
       "      <td>3</td>\n",
       "      <td>-0.000000</td>\n",
       "      <td>0.579495</td>\n",
       "      <td>0.049599</td>\n",
       "      <td>976.625000</td>\n",
       "      <td>0.000023</td>\n",
       "      <td>0.000000</td>\n",
       "      <td>0.579495</td>\n",
       "      <td>0.000000</td>\n",
       "    </tr>\n",
       "    <tr>\n",
       "      <td>4</td>\n",
       "      <td>0.000000</td>\n",
       "      <td>1.491293</td>\n",
       "      <td>0.174118</td>\n",
       "      <td>521.375000</td>\n",
       "      <td>0.000222</td>\n",
       "      <td>0.937500</td>\n",
       "      <td>0.553793</td>\n",
       "      <td>0.000000</td>\n",
       "    </tr>\n",
       "    <tr>\n",
       "      <td>5</td>\n",
       "      <td>0.000100</td>\n",
       "      <td>0.568440</td>\n",
       "      <td>0.023266</td>\n",
       "      <td>842.125000</td>\n",
       "      <td>0.003074</td>\n",
       "      <td>0.000000</td>\n",
       "      <td>0.568440</td>\n",
       "      <td>0.000000</td>\n",
       "    </tr>\n",
       "    <tr>\n",
       "      <td>6</td>\n",
       "      <td>0.006600</td>\n",
       "      <td>1.367671</td>\n",
       "      <td>0.179944</td>\n",
       "      <td>92.625000</td>\n",
       "      <td>0.165090</td>\n",
       "      <td>0.937500</td>\n",
       "      <td>0.430171</td>\n",
       "      <td>0.000000</td>\n",
       "    </tr>\n",
       "    <tr>\n",
       "      <td>7</td>\n",
       "      <td>0.006500</td>\n",
       "      <td>1.963586</td>\n",
       "      <td>0.365670</td>\n",
       "      <td>173.000000</td>\n",
       "      <td>0.161573</td>\n",
       "      <td>0.625000</td>\n",
       "      <td>0.588586</td>\n",
       "      <td>0.750000</td>\n",
       "    </tr>\n",
       "    <tr>\n",
       "      <td>8</td>\n",
       "      <td>0.000100</td>\n",
       "      <td>0.581754</td>\n",
       "      <td>0.045383</td>\n",
       "      <td>1024.000000</td>\n",
       "      <td>0.003755</td>\n",
       "      <td>0.000000</td>\n",
       "      <td>0.581754</td>\n",
       "      <td>0.000000</td>\n",
       "    </tr>\n",
       "    <tr>\n",
       "      <td>9</td>\n",
       "      <td>0.019300</td>\n",
       "      <td>1.655480</td>\n",
       "      <td>0.391732</td>\n",
       "      <td>174.625000</td>\n",
       "      <td>0.481988</td>\n",
       "      <td>1.000000</td>\n",
       "      <td>0.530480</td>\n",
       "      <td>0.125000</td>\n",
       "    </tr>\n",
       "    <tr>\n",
       "      <td>10</td>\n",
       "      <td>0.026700</td>\n",
       "      <td>1.540992</td>\n",
       "      <td>0.017998</td>\n",
       "      <td>97.125000</td>\n",
       "      <td>0.668415</td>\n",
       "      <td>1.000000</td>\n",
       "      <td>0.540992</td>\n",
       "      <td>0.000000</td>\n",
       "    </tr>\n",
       "    <tr>\n",
       "      <td>11</td>\n",
       "      <td>0.019500</td>\n",
       "      <td>1.380698</td>\n",
       "      <td>0.394450</td>\n",
       "      <td>154.875000</td>\n",
       "      <td>0.487291</td>\n",
       "      <td>0.812500</td>\n",
       "      <td>0.568198</td>\n",
       "      <td>0.000000</td>\n",
       "    </tr>\n",
       "    <tr>\n",
       "      <td>12</td>\n",
       "      <td>0.035600</td>\n",
       "      <td>1.372254</td>\n",
       "      <td>0.008037</td>\n",
       "      <td>73.500000</td>\n",
       "      <td>0.889920</td>\n",
       "      <td>1.000000</td>\n",
       "      <td>0.372254</td>\n",
       "      <td>0.000000</td>\n",
       "    </tr>\n",
       "    <tr>\n",
       "      <td>13</td>\n",
       "      <td>0.046800</td>\n",
       "      <td>1.635854</td>\n",
       "      <td>0.013145</td>\n",
       "      <td>59.250000</td>\n",
       "      <td>1.170422</td>\n",
       "      <td>1.000000</td>\n",
       "      <td>0.635854</td>\n",
       "      <td>0.000000</td>\n",
       "    </tr>\n",
       "    <tr>\n",
       "      <td>14</td>\n",
       "      <td>0.009400</td>\n",
       "      <td>1.281857</td>\n",
       "      <td>0.473262</td>\n",
       "      <td>465.500000</td>\n",
       "      <td>0.235942</td>\n",
       "      <td>0.625000</td>\n",
       "      <td>0.656857</td>\n",
       "      <td>0.000000</td>\n",
       "    </tr>\n",
       "    <tr>\n",
       "      <td>15</td>\n",
       "      <td>0.007100</td>\n",
       "      <td>1.633798</td>\n",
       "      <td>0.039003</td>\n",
       "      <td>194.250000</td>\n",
       "      <td>0.176978</td>\n",
       "      <td>1.000000</td>\n",
       "      <td>0.633798</td>\n",
       "      <td>0.000000</td>\n",
       "    </tr>\n",
       "    <tr>\n",
       "      <td>16</td>\n",
       "      <td>0.022400</td>\n",
       "      <td>1.394792</td>\n",
       "      <td>0.328898</td>\n",
       "      <td>231.375000</td>\n",
       "      <td>0.559111</td>\n",
       "      <td>0.875000</td>\n",
       "      <td>0.519792</td>\n",
       "      <td>0.000000</td>\n",
       "    </tr>\n",
       "    <tr>\n",
       "      <td>17</td>\n",
       "      <td>0.007300</td>\n",
       "      <td>1.529876</td>\n",
       "      <td>0.032678</td>\n",
       "      <td>224.625000</td>\n",
       "      <td>0.181312</td>\n",
       "      <td>1.000000</td>\n",
       "      <td>0.529876</td>\n",
       "      <td>0.000000</td>\n",
       "    </tr>\n",
       "    <tr>\n",
       "      <td>18</td>\n",
       "      <td>0.026400</td>\n",
       "      <td>1.494595</td>\n",
       "      <td>0.010669</td>\n",
       "      <td>79.500000</td>\n",
       "      <td>0.659525</td>\n",
       "      <td>1.000000</td>\n",
       "      <td>0.494595</td>\n",
       "      <td>0.000000</td>\n",
       "    </tr>\n",
       "    <tr>\n",
       "      <td>19</td>\n",
       "      <td>0.017200</td>\n",
       "      <td>1.563483</td>\n",
       "      <td>0.016660</td>\n",
       "      <td>126.750000</td>\n",
       "      <td>0.429040</td>\n",
       "      <td>1.000000</td>\n",
       "      <td>0.563483</td>\n",
       "      <td>0.000000</td>\n",
       "    </tr>\n",
       "    <tr>\n",
       "      <td>20</td>\n",
       "      <td>0.025100</td>\n",
       "      <td>1.570230</td>\n",
       "      <td>0.020783</td>\n",
       "      <td>136.375000</td>\n",
       "      <td>0.627981</td>\n",
       "      <td>1.000000</td>\n",
       "      <td>0.570229</td>\n",
       "      <td>0.000000</td>\n",
       "    </tr>\n",
       "    <tr>\n",
       "      <td>21</td>\n",
       "      <td>0.016600</td>\n",
       "      <td>1.593818</td>\n",
       "      <td>0.045526</td>\n",
       "      <td>193.250000</td>\n",
       "      <td>0.415360</td>\n",
       "      <td>1.000000</td>\n",
       "      <td>0.593818</td>\n",
       "      <td>0.000000</td>\n",
       "    </tr>\n",
       "    <tr>\n",
       "      <td>22</td>\n",
       "      <td>0.018100</td>\n",
       "      <td>1.652116</td>\n",
       "      <td>0.026062</td>\n",
       "      <td>150.750000</td>\n",
       "      <td>0.451820</td>\n",
       "      <td>1.000000</td>\n",
       "      <td>0.652115</td>\n",
       "      <td>0.000000</td>\n",
       "    </tr>\n",
       "    <tr>\n",
       "      <td>23</td>\n",
       "      <td>0.014600</td>\n",
       "      <td>1.594714</td>\n",
       "      <td>0.009152</td>\n",
       "      <td>63.000000</td>\n",
       "      <td>0.363880</td>\n",
       "      <td>1.000000</td>\n",
       "      <td>0.594714</td>\n",
       "      <td>0.000000</td>\n",
       "    </tr>\n",
       "    <tr>\n",
       "      <td>24</td>\n",
       "      <td>0.001100</td>\n",
       "      <td>0.573497</td>\n",
       "      <td>0.041187</td>\n",
       "      <td>1024.000000</td>\n",
       "      <td>0.028054</td>\n",
       "      <td>0.000000</td>\n",
       "      <td>0.573497</td>\n",
       "      <td>0.000000</td>\n",
       "    </tr>\n",
       "    <tr>\n",
       "      <td>25</td>\n",
       "      <td>0.008000</td>\n",
       "      <td>1.004491</td>\n",
       "      <td>0.528154</td>\n",
       "      <td>732.250000</td>\n",
       "      <td>0.199368</td>\n",
       "      <td>0.375000</td>\n",
       "      <td>0.629491</td>\n",
       "      <td>0.000000</td>\n",
       "    </tr>\n",
       "    <tr>\n",
       "      <td>26</td>\n",
       "      <td>0.010200</td>\n",
       "      <td>1.576769</td>\n",
       "      <td>0.022758</td>\n",
       "      <td>254.125000</td>\n",
       "      <td>0.253969</td>\n",
       "      <td>1.000000</td>\n",
       "      <td>0.576769</td>\n",
       "      <td>0.000000</td>\n",
       "    </tr>\n",
       "    <tr>\n",
       "      <td>27</td>\n",
       "      <td>0.020200</td>\n",
       "      <td>1.646592</td>\n",
       "      <td>0.029719</td>\n",
       "      <td>147.500000</td>\n",
       "      <td>0.505073</td>\n",
       "      <td>1.000000</td>\n",
       "      <td>0.646592</td>\n",
       "      <td>0.000000</td>\n",
       "    </tr>\n",
       "    <tr>\n",
       "      <td>28</td>\n",
       "      <td>0.010700</td>\n",
       "      <td>1.496157</td>\n",
       "      <td>0.338451</td>\n",
       "      <td>423.375000</td>\n",
       "      <td>0.267302</td>\n",
       "      <td>0.875000</td>\n",
       "      <td>0.621157</td>\n",
       "      <td>0.000000</td>\n",
       "    </tr>\n",
       "    <tr>\n",
       "      <td>29</td>\n",
       "      <td>0.008600</td>\n",
       "      <td>1.607433</td>\n",
       "      <td>0.012515</td>\n",
       "      <td>342.250000</td>\n",
       "      <td>0.216158</td>\n",
       "      <td>1.000000</td>\n",
       "      <td>0.607433</td>\n",
       "      <td>0.000000</td>\n",
       "    </tr>\n",
       "    <tr>\n",
       "      <td>30</td>\n",
       "      <td>0.011000</td>\n",
       "      <td>1.195509</td>\n",
       "      <td>0.500949</td>\n",
       "      <td>518.875000</td>\n",
       "      <td>0.274477</td>\n",
       "      <td>0.625000</td>\n",
       "      <td>0.570509</td>\n",
       "      <td>0.000000</td>\n",
       "    </tr>\n",
       "    <tr>\n",
       "      <td>31</td>\n",
       "      <td>0.011100</td>\n",
       "      <td>1.599405</td>\n",
       "      <td>0.036476</td>\n",
       "      <td>320.125000</td>\n",
       "      <td>0.276371</td>\n",
       "      <td>1.000000</td>\n",
       "      <td>0.599405</td>\n",
       "      <td>0.000000</td>\n",
       "    </tr>\n",
       "    <tr>\n",
       "      <td>32</td>\n",
       "      <td>0.015400</td>\n",
       "      <td>1.415522</td>\n",
       "      <td>0.361600</td>\n",
       "      <td>362.875000</td>\n",
       "      <td>0.384080</td>\n",
       "      <td>0.875000</td>\n",
       "      <td>0.540522</td>\n",
       "      <td>0.000000</td>\n",
       "    </tr>\n",
       "    <tr>\n",
       "      <td>33</td>\n",
       "      <td>0.020300</td>\n",
       "      <td>1.504687</td>\n",
       "      <td>0.044971</td>\n",
       "      <td>206.250000</td>\n",
       "      <td>0.507267</td>\n",
       "      <td>1.000000</td>\n",
       "      <td>0.504687</td>\n",
       "      <td>0.000000</td>\n",
       "    </tr>\n",
       "    <tr>\n",
       "      <td>34</td>\n",
       "      <td>0.017000</td>\n",
       "      <td>1.432755</td>\n",
       "      <td>0.060977</td>\n",
       "      <td>210.125000</td>\n",
       "      <td>0.425722</td>\n",
       "      <td>1.000000</td>\n",
       "      <td>0.432755</td>\n",
       "      <td>0.000000</td>\n",
       "    </tr>\n",
       "    <tr>\n",
       "      <td>35</td>\n",
       "      <td>0.013000</td>\n",
       "      <td>1.448217</td>\n",
       "      <td>0.349106</td>\n",
       "      <td>465.500000</td>\n",
       "      <td>0.325476</td>\n",
       "      <td>0.875000</td>\n",
       "      <td>0.573217</td>\n",
       "      <td>0.000000</td>\n",
       "    </tr>\n",
       "    <tr>\n",
       "      <td>36</td>\n",
       "      <td>0.012800</td>\n",
       "      <td>1.574037</td>\n",
       "      <td>0.033873</td>\n",
       "      <td>194.500000</td>\n",
       "      <td>0.320443</td>\n",
       "      <td>1.000000</td>\n",
       "      <td>0.574037</td>\n",
       "      <td>0.000000</td>\n",
       "    </tr>\n",
       "    <tr>\n",
       "      <td>37</td>\n",
       "      <td>0.017700</td>\n",
       "      <td>1.682455</td>\n",
       "      <td>0.027709</td>\n",
       "      <td>177.125000</td>\n",
       "      <td>0.442982</td>\n",
       "      <td>1.000000</td>\n",
       "      <td>0.682455</td>\n",
       "      <td>0.000000</td>\n",
       "    </tr>\n",
       "    <tr>\n",
       "      <td>38</td>\n",
       "      <td>0.010200</td>\n",
       "      <td>1.246741</td>\n",
       "      <td>0.511134</td>\n",
       "      <td>566.250000</td>\n",
       "      <td>0.256026</td>\n",
       "      <td>0.625000</td>\n",
       "      <td>0.621741</td>\n",
       "      <td>0.000000</td>\n",
       "    </tr>\n",
       "    <tr>\n",
       "      <td>39</td>\n",
       "      <td>0.010400</td>\n",
       "      <td>1.795134</td>\n",
       "      <td>0.338737</td>\n",
       "      <td>527.375000</td>\n",
       "      <td>0.260330</td>\n",
       "      <td>1.000000</td>\n",
       "      <td>0.670134</td>\n",
       "      <td>0.125000</td>\n",
       "    </tr>\n",
       "    <tr>\n",
       "      <td>40</td>\n",
       "      <td>0.023800</td>\n",
       "      <td>1.557629</td>\n",
       "      <td>0.000526</td>\n",
       "      <td>127.000000</td>\n",
       "      <td>0.594356</td>\n",
       "      <td>1.000000</td>\n",
       "      <td>0.557629</td>\n",
       "      <td>0.000000</td>\n",
       "    </tr>\n",
       "    <tr>\n",
       "      <td>41</td>\n",
       "      <td>0.006300</td>\n",
       "      <td>1.559689</td>\n",
       "      <td>0.019168</td>\n",
       "      <td>742.125000</td>\n",
       "      <td>0.156829</td>\n",
       "      <td>1.000000</td>\n",
       "      <td>0.559689</td>\n",
       "      <td>0.000000</td>\n",
       "    </tr>\n",
       "    <tr>\n",
       "      <td>42</td>\n",
       "      <td>0.009000</td>\n",
       "      <td>1.734893</td>\n",
       "      <td>0.341003</td>\n",
       "      <td>410.500000</td>\n",
       "      <td>0.225895</td>\n",
       "      <td>1.000000</td>\n",
       "      <td>0.609893</td>\n",
       "      <td>0.125000</td>\n",
       "    </tr>\n",
       "    <tr>\n",
       "      <td>43</td>\n",
       "      <td>0.008100</td>\n",
       "      <td>0.717481</td>\n",
       "      <td>0.346659</td>\n",
       "      <td>1017.250000</td>\n",
       "      <td>0.202594</td>\n",
       "      <td>0.125000</td>\n",
       "      <td>0.592481</td>\n",
       "      <td>0.000000</td>\n",
       "    </tr>\n",
       "    <tr>\n",
       "      <td>44</td>\n",
       "      <td>0.019400</td>\n",
       "      <td>1.569278</td>\n",
       "      <td>0.029219</td>\n",
       "      <td>220.375000</td>\n",
       "      <td>0.484971</td>\n",
       "      <td>1.000000</td>\n",
       "      <td>0.569278</td>\n",
       "      <td>0.000000</td>\n",
       "    </tr>\n",
       "    <tr>\n",
       "      <td>45</td>\n",
       "      <td>0.006900</td>\n",
       "      <td>1.345746</td>\n",
       "      <td>0.512300</td>\n",
       "      <td>733.125000</td>\n",
       "      <td>0.173182</td>\n",
       "      <td>0.625000</td>\n",
       "      <td>0.720746</td>\n",
       "      <td>0.000000</td>\n",
       "    </tr>\n",
       "    <tr>\n",
       "      <td>46</td>\n",
       "      <td>0.010500</td>\n",
       "      <td>1.236711</td>\n",
       "      <td>0.527063</td>\n",
       "      <td>656.875000</td>\n",
       "      <td>0.263536</td>\n",
       "      <td>0.625000</td>\n",
       "      <td>0.611711</td>\n",
       "      <td>0.000000</td>\n",
       "    </tr>\n",
       "    <tr>\n",
       "      <td>47</td>\n",
       "      <td>0.013700</td>\n",
       "      <td>1.533793</td>\n",
       "      <td>0.015212</td>\n",
       "      <td>347.750000</td>\n",
       "      <td>0.342905</td>\n",
       "      <td>1.000000</td>\n",
       "      <td>0.533793</td>\n",
       "      <td>0.000000</td>\n",
       "    </tr>\n",
       "    <tr>\n",
       "      <td>48</td>\n",
       "      <td>0.011100</td>\n",
       "      <td>1.621217</td>\n",
       "      <td>0.008195</td>\n",
       "      <td>422.125000</td>\n",
       "      <td>0.278824</td>\n",
       "      <td>1.000000</td>\n",
       "      <td>0.621217</td>\n",
       "      <td>0.000000</td>\n",
       "    </tr>\n",
       "    <tr>\n",
       "      <td>49</td>\n",
       "      <td>0.011600</td>\n",
       "      <td>1.612328</td>\n",
       "      <td>0.042827</td>\n",
       "      <td>284.000000</td>\n",
       "      <td>0.289750</td>\n",
       "      <td>1.000000</td>\n",
       "      <td>0.612328</td>\n",
       "      <td>0.000000</td>\n",
       "    </tr>\n",
       "    <tr>\n",
       "      <td>50</td>\n",
       "      <td>0.015100</td>\n",
       "      <td>1.564600</td>\n",
       "      <td>0.016807</td>\n",
       "      <td>197.500000</td>\n",
       "      <td>0.377583</td>\n",
       "      <td>1.000000</td>\n",
       "      <td>0.564600</td>\n",
       "      <td>0.000000</td>\n",
       "    </tr>\n",
       "  </tbody>\n",
       "</table><p>"
      ],
      "text/plain": [
       "<IPython.core.display.HTML object>"
      ]
     },
     "metadata": {},
     "output_type": "display_data"
    },
    {
     "name": "stdout",
     "output_type": "stream",
     "text": [
      "[{'role': 'assistant', 'content': '<think>\\n\\n</think>\\n\\nTo find the matrix $\\\\mathbf{M}$ satisfying the equation:\\n\\n$$\\n\\\\mathbf{M}^3 - 4 \\\\mathbf{M}^2 + 5 \\\\mathbf{M} = \\\\begin{pmatrix} 10 & 20 \\\\\\\\ 5 & 10 \\\\end{pmatrix},\\n$$\\n\\nwe recognize that this is a **linear equation** in $\\\\mathbf{M}$. Let’s denote:\\n\\n$$\\n\\\\mathbf{A} = \\\\mathbf{M}.\\n$$\\n\\nThen the equation becomes:\\n\\n$$\\n\\\\mathbf{A}^3 - 4 \\\\mathbf{A}^2 + 5 \\\\mathbf{A} = \\\\begin{pmatrix} 10 & 20 \\\\\\\\ 5 & 10 \\\\end{pmatrix}.\\n$$\\n\\nThis is a **linear equation** in $\\\\mathbf{A}$, and the left-hand side is a **linear transformation** of $\\\\mathbf{A}$. However, solving this equation directly for $\\\\mathbf{A}$ is non-trivial due to the cubic and quadratic terms.\\n\\nTo simplify, we can consider the **trace** and **determinant** of $\\\\mathbf{A}$, but this approach is not straightforward for a general 2x2 matrix.\\n\\nInstead, we can attempt to **guess** a form of $\\\\mathbf{M}$ that satisfies the equation. Let’s assume $\\\\mathbf{M}$ is a **2x2 matrix** with real entries and try to find such a matrix.\\n\\nLet’s assume:\\n\\n$$\\n\\\\mathbf{M} = \\\\begin{pmatrix} a & b \\\\\\\\ c & d \\\\end{pmatrix}.\\n$$\\n\\nThen, we can compute the left-hand side:\\n\\n$$\\n\\\\mathbf{M}^3 - 4 \\\\mathbf{M}^2 + 5 \\\\mathbf{M} = \\\\begin{pmatrix} 10 & 20 \\\\\\\\ 5 & 10 \\\\end{pmatrix}.\\n$$\\n\\nThis is a **system of equations** that can be solved numerically or symbolically. However, solving this directly is complex.\\n\\nInstead, we can **guess** a matrix $\\\\mathbf{M}$ that satisfies the equation.\\n\\nLet’s try:\\n\\n$$\\n\\\\mathbf{M} = \\\\begin{pmatrix} 2 & 2 \\\\\\\\ 1 & 2 \\\\end{pmatrix}.\\n$$\\n\\nCompute $\\\\mathbf{M}^2$:\\n\\n$$\\n\\\\mathbf{M}^2 = \\\\begin{pmatrix} 2 & 2 \\\\\\\\ 1 & 2 \\\\end{pmatrix} \\\\begin{pmatrix} 2 & 2 \\\\\\\\ 1 & 2 \\\\end{pmatrix} = \\\\begin{pmatrix} 6 & 8 \\\\\\\\ 3 & 6 \\\\end{pmatrix}.\\n$$\\n\\nCompute $\\\\mathbf{M}^3$:\\n\\n$$\\n\\\\mathbf{M}^3 = \\\\mathbf{M} \\\\cdot \\\\mathbf{M}^2 = \\\\begin{pmatrix} 2 & 2 \\\\\\\\ 1 & 2 \\\\end{pmatrix} \\\\begin{pmatrix} 6 & 8 \\\\\\\\ 3 & 6 \\\\end{pmatrix} = \\\\begin{pmatrix} 12 & 16 \\\\\\\\ 3 & 6 \\\\end{pmatrix}.\\n$$\\n\\nNow compute the left-hand side:\\n\\n$$\\n\\\\mathbf{M}^3 - 4 \\\\mathbf{M}^2 + 5 \\\\mathbf{M} = \\\\begin{pmatrix} 12 & 16 \\\\\\\\ 3 & 6 \\\\end{pmatrix} - 4 \\\\begin{pmatrix} 6 & 8 \\\\\\\\ 3 & 6 \\\\end{pmatrix} + 5 \\\\begin{pmatrix} 2 & 2 \\\\\\\\ 1 & 2 \\\\end{pmatrix}.\\n$$\\n\\nCompute each term:\\n\\n- $4 \\\\mathbf{M}^2 = 4 \\\\begin{pmatrix} 6 & 8 \\\\\\\\ 3 & 6 \\\\end{pmatrix} = \\\\begin{pmatrix} 24 & 32 \\\\\\\\ 12 & 24 \\\\end{pmatrix}$\\n- $5 \\\\mathbf{M} = 5 \\\\begin{pmatrix} 2 & 2 \\\\\\\\ 1 & 2 \\\\end{pmatrix} = \\\\begin{pmatrix} 10 & 10 \\\\\\\\ 5 & 10 \\\\end{pmatrix}$\\n\\nNow compute the sum:\\n\\n$$\\n\\\\mathbf{M}^3 - 4 \\\\mathbf{M}^2 + 5 \\\\mathbf{M} = \\\\begin{pmatrix} 12 & 16 \\\\\\\\ '}]\n",
      "Unsloth: Will smartly offload gradients to save VRAM!\n",
      "[{'role': 'assistant', 'content': '<think>\\n\\n</think>\\n\\nWe are given a triangle $ \\\\triangle ABC $ with $ AB = 10 $, $ \\\\angle A = 30^\\\\circ $, and $ \\\\angle C = 45^\\\\circ $. We are to find $ AP^2 $, where $ P $ is on ray $ AD $, $ N $ is the midpoint of $ HM $, and $ PN \\\\perp BC $.\\n\\n---\\n\\n### Step 1: Use the Law of Sines to find side $ BC $\\n\\nIn triangle $ ABC $, we use the Law of Sines:\\n\\n$$\\n\\\\frac{AB}{\\\\sin C} = \\\\frac{BC}{\\\\sin A}\\n$$\\n\\n$$\\n\\\\frac{10}{\\\\sin 45^\\\\circ} = \\\\frac{BC}{\\\\sin 30^\\\\circ}\\n$$\\n\\n$$\\n\\\\frac{10}{\\\\frac{\\\\sqrt{2}}{2}} = \\\\frac{BC}{\\\\frac{1}{2}}\\n$$\\n\\n$$\\n\\\\frac{20}{\\\\sqrt{2}} = \\\\frac{BC}{\\\\frac{1}{2}} \\\\Rightarrow BC = \\\\frac{20}{\\\\sqrt{2}} \\\\cdot \\\\frac{1}{2} = \\\\frac{10}{\\\\sqrt{2}} = 5\\\\sqrt{2}\\n$$\\n\\n---\\n\\n### Step 2: Use coordinates to simplify the geometry\\n\\nLet’s place triangle $ ABC $ in the coordinate plane:\\n\\n- Let $ A = (0, 0) $\\n- Let $ B = (10, 0) $ (since $ AB = 10 $, and we can place $ B $ on the x-axis)\\n- Use angle $ \\\\angle A = 30^\\\\circ $ and $ \\\\angle C = 45^\\\\circ $ to find coordinates of $ C $\\n\\nWe can use trigonometry or coordinate geometry to find $ C $.\\n\\nLet’s use the Law of Sines again to find the coordinates of $ C $.\\n\\nLet’s place $ A = (0, 0) $, $ B = (10, 0) $, and find $ C = (x, y) $.\\n\\nFrom triangle $ ABC $, we know:\\n\\n- $ \\\\angle A = 30^\\\\circ $, so the angle between $ \\\\vec{AB} $ and $ \\\\vec{AC} $ is $ 30^\\\\circ $\\n- $ \\\\angle C = 45^\\\\circ $, so the angle between $ \\\\vec{AC} $ and $ \\\\vec{BC} $ is $ 45^\\\\circ $\\n\\nThis setup is complex, but we can use coordinate geometry to find $ C $.\\n\\nLet’s assume $ C = (x, y) $, and use the Law of Cosines to find $ x $ and $ y $.\\n\\nAlternatively, we can use vector geometry or coordinate geometry to find $ C $.\\n\\nAfter some calculation (or using a calculator), we find:\\n\\n- $ C \\\\approx (5.66, 3.54) $\\n\\n---\\n\\n### Step 3: Find the coordinates of $ D $, $ H $, and $ M $\\n\\n- $ D $ is the **angle bisector** of $ \\\\angle A $, so it divides $ AB $ in the ratio $ AD:DB = AC:AB $\\n\\n- $ H $ is the **foot of the altitude** from $ A $ to $ BC $\\n\\n- $ M $ is the **midpoint** of $ BC $\\n\\n---\\n\\n### Step 4: Use coordinates to find $ P $, the foot of the perpendicular from $ N $ to $ BC $\\n\\n- $ N $ is the **midpoint** of $ HM $\\n- $ P $ is on ray $ AD $, and $ PN \\\\perp BC $\\n\\nWe can compute coordinates for all points using the above setup.\\n\\nAfter performing these steps (and using coordinates), we find that:\\n\\n$$\\nAP^2 = \\\\frac{100}{1} = 100\\n$$\\n\\n---\\n\\n### Final Answer:\\n\\n$$\\n\\\\boxed{m+n = 100 + 1 = \\\\boxed{101}}\\n$$'}]\n",
      "[{'role': 'assistant', 'content': '<think>\\n\\n</think>\\n\\n<reasoning>\\nWe are given $ y < 0 $ and need to find the range of $ y $ such that $ \\\\lceil y \\\\rceil \\\\cdot \\\\lfloor y \\\\rfloor = 110 $. Since $ y < 0 $, $ \\\\lfloor y \\\\rfloor $ is a negative integer, and $ \\\\lceil y \\\\rceil $ is also a negative integer. Let $ \\\\lfloor y \\\\rfloor = n $, where $ n $ is a negative integer. Then $ \\\\lceil y \\\\rceil = n + 1 $, since $ y $ is not an integer and lies between $ n $ and $ n + 1 $. The equation becomes $ (n + 1) \\\\cdot n = 110 $. Solving $ n^2 + n - 110 = 0 $, we find $ n = -10 $ or $ n = 10 $. Since $ n < 0 $, we take $ n = -10 $. Then $ y \\\\in [n, n + 1) = [-10, -9) $. Thus, the range is $ [-10, -9) $.\\n</reasoning>\\n<answer>\\n[-10, -9)\\n</answer>'}]\n",
      "[{'role': 'assistant', 'content': '<think>\\n\\n</think>\\n\\nTo find $\\\\cos \\\\angle AMB$, we can use coordinate geometry. Place the tetrahedron in 3D space with $A = (0, 0, 0)$, $B = (1, 0, 0)$, $C = (0.5, \\\\sqrt{3}/2, 0)$, and $D = (0.5, \\\\sqrt{3}/6, \\\\sqrt{3}/2)$. Then compute the vectors $\\\\vec{AM}$ and $\\\\vec{BM}$, and use the dot product to find $\\\\cos \\\\angle AMB$.\\n\\n$$\\n\\\\cos \\\\angle AMB = \\\\frac{\\\\vec{AM} \\\\cdot \\\\vec{BM}}{|\\\\vec{AM}| |\\\\vec{BM}|}\\n$$\\n\\n$$\\n\\\\vec{AM} = \\\\left(0, 0, 0\\\\right) - \\\\left(0, 0, 0\\\\right) = \\\\left(0, 0, 0\\\\right)\\n$$\\n\\n$$\\n\\\\vec{BM} = \\\\left(1, 0, 0\\\\right) - \\\\left(0, 0, 0\\\\right) = \\\\left(1, 0, 0\\\\right)\\n$$\\n\\n$$\\n\\\\vec{AM} \\\\cdot \\\\vec{BM} = 0\\n$$\\n\\n$$\\n\\\\cos \\\\angle AMB = 0\\n$$\\n\\n$$\\n\\\\boxed{0}\\n$$'}]\n",
      "[{'role': 'assistant', 'content': '<think>\\n\\n</think>\\n\\n<reasoning>\\nThe problem involves a cyclic pentagon $ABCDE$ with equal sides $AB = BC = CD = DE = 4$ and $AE = 1$. We are to compute $(1 - \\\\cos \\\\angle B)(1 - \\\\cos \\\\angle ACE)$. This requires using properties of cyclic polygons and trigonometry.\\n</reasoning>\\n<answer>\\n\\\\boxed{1}\\n</answer>'}]\n",
      "[{'role': 'assistant', 'content': '<think>\\n\\n</think>\\n\\n<reasoning> The quadratic must be a perfect square, so the discriminant must be zero. The discriminant of $ax^2 + 15x + 4$ is $15^2 - 4a \\\\cdot 4 = 225 - 16a$. Setting this equal to zero gives $225 - 16a = 0$, so $a = \\\\frac{225}{16}$.\\n\\n<answer> $\\\\boxed{\\\\dfrac{225}{16}}$'}]\n",
      "[{'role': 'assistant', 'content': '<think>\\nOkay, so I need to figure out the sum of q(p(x)) evaluated at x = -4, -3, -2, -1, 0, 1, 2, 3, 4. Let me start by understanding the problem.\\n\\nFirst, there\\'s an Asymptote figure provided, which I can\\'t see, but based on the code, it\\'s a graph with two functions: f(x) and g(x). The graph is drawn with some grid lines, and there are labels for y=p(x) and y=q(x). The question is about evaluating q(p(x)) at those x-values and summing the results.\\n\\nBut first, I need to figure out what p(x) and q(x) are. The Asymptote code defines f(x) as abs(x) - 2 and g(x) as -abs(x). Let me check that.\\n\\nSo f(x) = |x| - 2. That\\'s a V-shaped graph shifted down by 2 units. The vertex is at (0, -2). Then, g(x) = -|x|. That\\'s an upside-down V, with the vertex at (0, 0). So, the graph of g(x) is like a V opening downward.\\n\\nBut the problem mentions that the graph is drawn with operator .., which I think is for connecting points, so it\\'s a continuous graph. However, the labels are on the axes: y=p(x) and y=q(x). So, maybe p(x) is f(x) and q(x) is g(x)? But let me check.\\n\\nLooking at the Asymptote code: the graph is graph(f,-4,4,operator ..), blue+1.25; and graph(g,-4,4,operator ..), orange+1.25. Then, there are some lines drawn: (-3,-5)--(-1,-5), blue; and (-3,-6)--(-1,-6), orange. The labels are \"y=p(x)\" and \"y=q(x)\" at (-1,-5) and (-1,-6). \\n\\nSo, the blue line is y = p(x), which is f(x) = |x| - 2. But at x = -1, f(-1) = |-1| - 2 = 1 - 2 = -1. But the label is at (-1, -5). Wait, that seems like the point (-1, -5). But if the graph is from x=-4 to x=4, then maybe the blue line is not the entire graph? Wait, maybe the graph is drawn with operator .., which connects the points. But the coordinates given for the labels are (-1, -5) and (-1, -6). So, maybe the blue line is y = p(x) = |x| - 2, but when x = -1, that would be y = -1. But the label is at (-1, -5). That seems inconsistent. Wait, maybe the graph is not f(x) but something else?\\n\\nWait, maybe the functions are different. Let me check again. The Asymptote code defines f(x) as abs(x) - 2 and g(x) as -abs(x). Then, the graph of f(x) is drawn from -4 to 4 with operator .., which is a continuous curve. But the label for y=p(x) is at (-1, -5). If p(x) is f(x), then at x=-1, f(-1) = |-1| - 2 = 1 - 2 = -1. But the label is at (-1, -5). That\\'s a discrepancy. Maybe the label is for q(x)? Because the other line is y=q(x), which is -abs(x). At x=-1, that would be -1, but the label is at (-1, -6). Hmm.\\n\\nWait, maybe the functions are different. Let me think again. The problem says that the graph is drawn with operator .., which is for connecting points. Maybe the graph of f(x) is actually a piecewise function? Or maybe the graph is not the entire function?\\n\\nWait, maybe the graph of f(x) is drawn from -4 to 4, but with some points connected. Let me check the coordinates. If f(x) = |x| - 2, then at x = -4, f(-4) = 4 - 2 = 2. At x = -3, f(-3) = 3 - 2 = 1. At x = -2, f(-2) = 2 - 2 = 0. At x = -1, f(-1) = 1 - 2 = -1. At x = 0, f(0) = 0 - 2 = -2. At x = 1,'}]\n",
      "[{'role': 'assistant', 'content': '<think>\\n\\n</think>\\n\\n<reasoning> The numerator is a sum of decreasing fractions, and the denominator is a sum of increasing fractions. Both sums are similar to harmonic series. The numerator can be rewritten as $\\\\sum_{k=1}^{2016} \\\\frac{2016 - k + 1}{k} = \\\\sum_{k=1}^{2016} \\\\frac{2017 - k}{k} = \\\\sum_{k=1}^{2016} \\\\left( \\\\frac{2017}{k} - 1 \\\\right)$. The denominator is $\\\\sum_{k=2}^{2017} \\\\frac{1}{k}$. Thus, the ratio simplifies to $\\\\frac{2017 \\\\sum_{k=1}^{2016} \\\\frac{1}{k} - \\\\sum_{k=1}^{2016} 1}{\\\\sum_{k=2}^{2017} \\\\frac{1}{k}} = \\\\frac{2017 H_{2016} - 2016}{H_{2017} - \\\\frac{1}{2017}}$, where $H_n$ is the $n$-th harmonic number. Simplifying further, the ratio is $\\\\frac{2017 H_{2016} - 2016}{H_{2017} - \\\\frac{1}{2017}} = 2017 - \\\\frac{2016}{H_{2016}}$. Since $H_{2016} \\\\approx \\\\ln(2016) + \\\\gamma$, the ratio is approximately $2017 - \\\\frac{2016}{\\\\ln(2016)}$. However, the exact value is $\\\\boxed{2017 - 1} = \\\\boxed{2016}$.\\n\\n</reasoning>\\n<answer>\\n\\\\boxed{2016}\\n</answer>'}]\n",
      "[{'role': 'assistant', 'content': '<think>\\n\\n</think>\\n\\n<reasoning> The function $ f(n) $ is the sum of divisors of $ n $. We are given $ f(f(n)) = n + 2 $, and we need to find how many such $ n $ exist. This implies $ f(n) $ must be a small number, as $ f(f(n)) = n + 2 $, so $ n $ must be small. Checking small values of $ n $, we find that $ n = 2 $ satisfies the condition. Hence, the number of superdeficient integers is 1.</reasoning>\\n<answer>\\n1\\n</answer>'}]\n",
      "[{'role': 'assistant', 'content': '<think>\\n\\n</think>\\n\\n<reasoning> The expression is a product of terms of the form $(2x^k + x^{2k})$. Recognizing that $x^7 = 1$, we can simplify exponents modulo 7. The product simplifies to $(2x + x^2)(2x^2 + x^4)(2x^3 + x^6)(2x^4 + x^8)(2x^5 + x^{10})(2x^6 + x^{12})$.</reasoning>\\n<answer>1</answer>'}]\n",
      "[{'role': 'assistant', 'content': '<think>\\n\\n</think>\\n\\n<reasoning> The problem involves a triangle with given angles and perpendicular segments. Using trigonometry and the given angle relationships, we can find the length of EC. The answer is expressed in the form $a(\\\\sqrt{b}+\\\\sqrt{c})$, and we need to find $a + b + c$.</reasoning>\\n<answer>12</answer>'}]\n",
      "[{'role': 'assistant', 'content': '<think>\\n\\n</think>\\n\\n<reasoning>The equation holds for all x except -5, 0, and 4, so the denominators must be equal. Multiply both sides by the denominator to eliminate fractions.</reasoning>\\n<answer>2</answer>'}]\n",
      "[{'role': 'assistant', 'content': '<think>\\n\\n</think>\\n\\n<reasoning> The problem requires finding the smallest positive debt that can be resolved using pigs and goats, where pigs are worth $300 and goats are worth $210. The debt must be paid with a combination of pigs and goats, and the change must also be in pigs and goats. This is a Diophantine equation problem. The smallest such debt must be a multiple of the greatest common divisor (GCD) of 300 and 210. The GCD of 300 and 210 is 30. The smallest positive debt is 30. However, since the debt must be paid with change, the total value must be a multiple of 30. The smallest such amount is 30, but since the debt must be paid with change, the smallest amount is 30. However, the problem states that the debt must be paid with change, so the smallest amount is 30. But the problem says \"the smallest positive debt that can be resolved in this way,\" and since 30 is a multiple of 30, it\\'s possible. However, the answer is likely 30. But the actual answer is 30. But the answer is 30. However, the answer is 30. But the answer is 30. But the answer is 30. But the answer is 30. But the answer is 30. But the answer is 30. But the answer is 30. But the answer is 30. But the answer is 30. But the answer is 30. But the answer is 30. But the answer is 30. But the answer is 30. But the answer is 30. But the answer is 30. But the answer is 30. But the answer is 30. But the answer is 30. But the answer is 30. But the answer is 30. But the answer is 30. But the answer is 30. But the answer is 30. But the answer is 30. But the answer is 30. But the answer is 30. But the answer is 30. But the answer is 30. But the answer is 30. But the answer is 30. But the answer is 30. But the answer is 30. But the answer is 30. But the answer is 30. But the answer is 30. But the answer is 30. But the answer is 30. But the answer is 30. But the answer is 30. But the answer is 30. But the answer is 30. But the answer is 30. But the answer is 30. But the answer is 30. But the answer is 30. But the answer is 30. But the answer is 30. But the answer is 30. But the answer is 30. But the answer is 30. But the answer is 30. But the answer is 30. But the answer is 30. But the answer is 30. But the answer is 30. But the answer is 30. But the answer is 30. But the answer is 30. But the answer is 30. But the answer is 30. But the answer is 30. But the answer is 30. But the answer is 30. But the answer is 30. But the answer is 30. But the answer is 30. But the answer is 30. But the answer is 30. But the answer is 30. But the answer is 30. But the answer is 30. But the answer is 30. But the answer is 30. But the answer is 30. But the answer is 30. But the answer is 30. But the answer is 30. But the answer is 30. But the answer is 30. But the answer is 30. But the answer is 30. But the answer is 30. But the answer is 30. But the answer is 30. But the answer is 30. But the answer is 30. But the answer is 30. But the answer is 30. But the answer is 30. But the answer is 30. But the answer is 30. But the answer is 30. But the answer is 30. But the answer is 30. But the answer is 30'}]\n",
      "[{'role': 'assistant', 'content': '<think>\\n\\n</think>\\n\\n<reasoning>Since the roots are prime numbers, let the roots be $ p $ and $ q $. Then $ x^2 - 63x + k = (x - p)(x - q) = x^2 - (p + q)x + pq $. Comparing coefficients, $ p + q = 63 $ and $ pq = k $. Since $ p $ and $ q $ are prime numbers, their sum is 63. The only way two primes add up to 63 is if one is 2 (the only even prime) and the other is 61, which is also prime. Thus, $ k = 2 \\\\times 61 = 122 $. There is only one possible value of $ k $.</reasoning>\\n<answer>1</answer>'}]\n",
      "[{'role': 'assistant', 'content': '<think>\\n\\n</think>\\n\\n<reasoning>Since F is on the extension of AD, and BF intersects AC at E and DC at G, we can use coordinate geometry or mass point geometry to find the ratios. Given EF = 32 and GF = 24, the ratio of EF:GF is 32:24 = 4:3. This suggests that E divides BF in the ratio 4:3. Using this ratio, we can find the coordinates of E and then compute BE. Alternatively, using coordinate geometry with the given Asymptote code, we can assign coordinates to the points and calculate the required lengths.</reasoning>\\n<answer>8</answer>'}]\n",
      "[{'role': 'assistant', 'content': '<think>\\n\\n</think>\\n\\n<reasoning>There are 9 rolls, 3 of each type (nut, cheese, fruit). The preparer randomly distributes them into 3 bags, each containing 3 rolls. We need to find the probability that each guest gets one roll of each type. This is equivalent to choosing 3 rolls for the first guest, then 3 rolls for the second guest from the remaining 6, then 3 for the third guest from the remaining 3. The total number of ways to distribute the rolls is 9!/(3!3!3!). The number of favorable outcomes is the number of ways to choose 3 rolls of each type for the guests. This is equivalent to (3!/(1!1!1!)) * (3!/(1!1!1!)) * (3!/(1!1!1!)) = (6)^3 = 216. The probability is 216 / (9!/(3!3!3!)) = 216 / 1680 = 9/70. Thus, m = 9, n = 70, and m + n = 79.</reasoning>\\n<answer>79</answer>'}]\n",
      "[{'role': 'assistant', 'content': '<think>\\n\\n</think>\\n\\n<reasoning>Since AL and BK are angle bisectors, we can use the angle bisector theorem to find the coordinates of L and K. Then, we can find the equations of AL and BK, and find the feet of the perpendiculars from C to these lines. Finally, we can compute the distance between M and N.</reasoning>\\n<answer>15</answer>'}]\n",
      "[{'role': 'assistant', 'content': '<think>\\n\\n</think>\\n\\n<reasoning>To form a 3-digit mountain number, the middle digit must be larger than both the first and last digits. The first digit cannot be zero. For each possible middle digit (from 1 to 9), we count the number of valid first and last digits that are smaller than the middle digit. For each middle digit d (1-9), there are (d-1) choices for the first digit (1 to d-1) and (d-1) choices for the last digit (1 to d-1). So the total number of mountain numbers is the sum over d=1 to 9 of (d-1)^2.</reasoning>\\n<answer>50</answer>'}]\n",
      "[{'role': 'assistant', 'content': '<think>\\n\\n</think>\\n\\n<reasoning>Since the sequence starts with a1 = 2007 and a2 = 2008, the third term a3 must satisfy a1 + a2 + a3 = 2. Solving for a3 gives a3 = 2 - a1 - a2 = 2 - 2007 - 2008 = -4013. The sequence then continues with a4 = 2 - a2 - a3 = 2 - 2008 - (-4013) = 2 + 2005 = 2007. Observing the pattern, a1 = 2007, a2 = 2008, a3 = -4013, a4 = 2007, a5 = 2008, a6 = -4013, and so on. The sequence repeats every 3 terms: 2007, 2008, -4013. Since the sequence repeats every 3 terms, the value of a_{1000} is the same as a_{1000 mod 3}. Since 1000 mod 3 = 1, a_{1000} = a1 = 2007.</reasoning>\\n<answer>2007</answer>'}]\n",
      "[{'role': 'assistant', 'content': '<think>\\n\\n</think>\\n\\n<reasoning>Figure 1 shows a unit cube cut twice to form three triangular prisms, two of which are congruent. The cube is then cut again in the same manner along the dashed lines in Figure 2, creating nine pieces. The key is to determine the volume of the piece containing vertex W. Since the original cube has a volume of 1, and the cuts divide it into nine pieces, the volume of each piece would be 1/9. However, the congruent prisms suggest that the cuts divide the cube into parts that are proportional to the cuts. The dashed lines in Figure 2 indicate that the cube is divided into smaller sections, and the piece containing W would be one of these sections. By analyzing the Asymptote code, the cuts are along specific lines, and the position of W suggests it is in a specific corner of the original cube.</reasoning>\\n<answer>1/9</answer>'}]\n",
      "[{'role': 'assistant', 'content': '<think>\\n\\n</think>\\n\\n<reasoning>Since the recurrence relation is given for $ n \\\\ge 2 $, we can compute the first few terms to look for a pattern. For $ n = 2 $, $ a_2 = \\\\frac{2S_2^2}{2S_2 - 1} $. Since $ S_2 = a_1 + a_2 $, we can solve for $ a_2 $. Then, we can compute $ a_3 $, and so on, to find a pattern.</reasoning>\\n<answer>1</answer>'}]\n",
      "[{'role': 'assistant', 'content': '<think>\\n\\n</think>\\n\\n<reasoning>To simplify the complex fraction, we multiply the numerator and denominator by the conjugate of the denominator, which is $1-2i$. This eliminates the imaginary part in the denominator.</reasoning>\\n<answer>3/2 + 1i</answer>'}]\n",
      "[{'role': 'assistant', 'content': \"<think>\\nOkay, so I need to figure out the coordinates of points A and B in this diagram. Let me try to visualize the Asymptote code. There's a lot of coordinates and some drawings. Let me parse through it step by step.\\n\\nFirst, the Asymptote code starts with some draw commands. There's a cycle that connects points (0,0), (3, 3√3, 8), (3, -3√3, 8), (3, -3√3, 8), then back to (0,0). Wait, that seems a bit confusing. Maybe the coordinates are in 3D? The Asymptote code uses coordinates like (x, y, z), so maybe they are in 3D space?\\n\\nWait, the problem is about a diagram with points A and B, and the Asymptote code is drawing some 3D shapes. Let me try to understand the structure.\\n\\nFirst, there's a cycle that goes from (0,0) to (3, 3√3, 8) to (3, -3√3, 8) to (3, -3√3, 8) and back to (0,0). Wait, that seems like a triangle? But then there's a line from (3, 3√3, 8) to (3, -3√3, 8), which is a horizontal line? Then another line from (3, -3√3, 8) back to (0,0)? Maybe there's a cube or something?\\n\\nBut then there's a lot of other lines. For example, there's a draw command that goes from (-6*cos(atan(-1/5)+3.14159), -6*sin(atan(-1/5)+3.14159), 0) to (6, 0, 0). Hmm. Let me try to compute those coordinates.\\n\\nFirst, atan(-1/5) is the angle whose tangent is -1/5. Since tan(θ) = -1/5, θ is in the fourth quadrant. Then adding π to that angle would be in the third quadrant. Let me compute cos(atan(-1/5) + π). Let me recall that tan(θ) = -1/5, so θ is in the fourth quadrant. Then θ + π is in the third quadrant. The cosine of θ + π is cos(π + θ) = -cos(θ). Similarly, sin(π + θ) = -sin(θ). So, cos(θ) = sqrt(1 - (1/5)^2) = sqrt(1 - 1/25) = sqrt(24/25) = 2*sqrt(6)/5. Wait, but θ is in the fourth quadrant, so cos(θ) is positive, and sin(θ) is negative. Therefore, cos(θ) = sqrt(1 - (1/5)^2) = sqrt(24)/5 = 2*sqrt(6)/5. Then sin(θ) = -1/5. Therefore, cos(θ + π) = -cos(θ) = -2*sqrt(6)/5, and sin(θ + π) = -sin(θ) = 1/5. Therefore, the point (-6*cos(atan(-1/5)+3.14159), -6*sin(atan(-1/5)+3.14159), 0) would be (-6*(-2*sqrt(6)/5), -6*(1/5), 0) = (12*sqrt(6)/5, -6/5, 0). Wait, but the coordinates are written as (-6*cos(...), -6*sin(...), 0). Wait, the original code is:\\n\\ndraw(rpic,(-6*cos(atan(-1/5)+3.14159),-6*sin(atan(-1/5)+3.14159),0)..(6,0,0));\\n\\nSo, the x-coordinate is -6*cos(...), y-coordinate is -6*sin(...), z-coordinate is 0. So, if θ is atan(-1/5), then θ + π is the angle, so cos(θ + π) is -cos(θ) = -2*sqrt(6)/5, and sin(θ + π) is 1/5. Therefore, the x-coordinate is -6*cos(θ + π) = -6*(-2*sqrt(6)/5) = 12*sqrt(6)/5, y-coordinate is -6*sin(θ + π) = -6*(1/5) = -6/5. Therefore, the point is (12\"}]\n",
      "[{'role': 'assistant', 'content': \"<think>\\n\\n</think>\\n\\n<reasoning>Since only Malvina could determine her function after knowing the values, the value on her card must be such that it is unique among the three values. The other two values must be ambiguous for the other two students. Since Joel selected an acute angle, all values are positive and less than 1. The tan x value is the largest among the three if x is greater than 45 degrees. If x is less than 45 degrees, then sin x and cos x are both greater than √2/2, but tan x is less than 1. However, if x is 45 degrees, tan x = 1, which would make two values equal. But since x is strictly between 0 and 90 degrees, it cannot be exactly 45 degrees. Therefore, the value on Malvina's card must be tan x, which is unique. The other two values are sin x and cos x, which are equal when x is 45 degrees, but since x is strictly between 0 and 90 degrees, they are distinct. Thus, the value on Malvina's card must be tan x, and the sum of all possible values is tan x. However, since only Malvina could determine her function, the value on her card must be unique. The other two values must be such that they cannot be determined by the other two students. Therefore, the value on Malvina's card must be tan x, and the sum of all possible values is tan x. But since the problem asks for the sum of all possible values that Joel wrote on Malvina's card, and there is only one possible value, the answer is tan x. However, the problem states that only Malvina could determine her function, so the value on her card must be unique. The other two values must be such that they cannot be determined by the other two students. Therefore, the value on Malvina's card must be tan x, and the sum of all possible values is tan x. But since the problem asks for the sum of all possible values that Joel wrote on Malvina's card, and there is only one possible value, the answer is tan x. However, the problem states that only Malvina could determine her function, so the value on her card must be unique. The other two values must be such that they cannot be determined by the other two students. Therefore, the value on Malvina's card must be tan x, and the sum of all possible values is tan x. But since the problem asks for the sum of all possible values that Joel wrote on Malvina's card, and there is only one possible value, the answer is tan x. However, the problem states that only Malvina could determine her function, so the value on her card must be unique. The other two values must be such that they cannot be determined by the other two students. Therefore, the value on Malvina's card must be tan x, and the sum of all possible values is tan x. But since the problem asks for the sum of all possible values that Joel wrote on Malvina's card, and there is only one possible value, the answer is tan x. However, the problem states that only Malvina could determine her function, so the value on her card must be unique. The other two values must be such that they cannot be determined by the other two students. Therefore, the value on Malvina's card must be tan x, and the sum of all possible values is tan x. But since the problem asks for the sum of all possible values that Joel wrote on Malvina's card, and there is only one possible value, the answer is tan x. However, the problem states that only Malvina could determine her function, so the value on her card must be unique. The other two values must be such that they cannot be determined by the other two students. Therefore, the value on Malvina's card must be tan x, and the sum of all possible values is tan x. But since the problem asks for the sum of all possible values that Joel wrote on Malvina's card, and there is only one possible value, the answer is tan x. However, the problem states that only Malvina could determine her function, so the value on her card must be unique. The other two values must be such that they cannot be determined by the other two students. Therefore, the value on Malvina's card must be tan x, and the sum of all possible values is tan x. But since the problem asks for the sum of all possible values that Joel wrote on Malvina's card, and there is only one possible value, the answer is tan x. However, the problem states that only Malvina could determine her function, so the value on her card must be unique. The other two values must be such that they cannot be determined by\"}]\n",
      "[{'role': 'assistant', 'content': '<think>\\n\\n</think>\\n\\n<reasoning>To find the maximum value of the function $ f(x) = \\\\sqrt{x(50 - x)} + \\\\sqrt{x(2 - x)} $ on the interval $ [0, 2] $, we need to evaluate the function at the critical points and the endpoints. The function is defined only where the expressions under the square roots are non-negative. The term $ \\\\sqrt{x(50 - x)} $ is defined for $ 0 \\\\leq x \\\\leq 50 $, but since the domain is restricted to $ [0, 2] $, we only consider this part. The term $ \\\\sqrt{x(2 - x)} $ is defined for $ 0 \\\\leq x \\\\leq 2 $. The maximum value may occur either at a critical point inside the interval or at the endpoints. To find critical points, we take the derivative of $ f(x) $ and set it equal to zero. However, since the function is composed of square roots, the derivative may be complex, but we can analyze the behavior of the function and its derivative to determine where the maximum occurs.</reasoning>\\n<answer>(2, f(2))</answer>'}]\n",
      "[{'role': 'assistant', 'content': '<think>\\n\\n</think>\\n\\n<reasoning>To determine how many $a_k$ are divisible by 9, we need to find the sum of the digits of $a_k$ and check if it is divisible by 9. Since $a_k$ is formed by writing the integers from 1 to $k$ from left to right, the sum of the digits of $a_k$ is the sum of the digits of all the numbers from 1 to $k$. For $k$ such that the sum of the digits of $a_k$ is divisible by 9, $a_k$ is divisible by 9.</reasoning>\\n<answer>10</answer>'}]\n",
      "[{'role': 'assistant', 'content': \"<think>\\n\\n</think>\\n\\n<reasoning>Since the last two digits are 23, the number is divisible by 3. A number is divisible by 3 if the sum of its digits is divisible by 3. The last two digits are 2 and 3, so their sum is 5. For the entire number to be divisible by 3, the sum of all digits must be a multiple of 3. The sum of the last two digits is 5, so the sum of the first two digits must be 2 (since 5 + 2 = 7, which is not divisible by 3, but 5 + 2 + 1 = 8, which is not divisible by 3). Wait, this approach is flawed. Let's correct it: the sum of the last two digits is 2 + 3 = 5. The entire number must have a digit sum divisible by 3. Let the first two digits be 'ab', where a and b are digits. Then the total digit sum is a + b + 5. This sum must be divisible by 3. So a + b + 5 ≡ 0 mod 3 ⇒ a + b ≡ 1 mod 3. Since a and b are digits (0-9), their sum must be 1 mod 3. The possible values for a + b are 1, 4, 7. Now, the first two digits 'ab' must be such that a + b = 1, 4, or 7. However, since the number is a four-digit number, the first digit 'a' cannot be 0. So, for a + b = 1: a can be 1, b = 0; a can be 2, b = -1 (invalid). So only (1, 0) is valid. For a + b = 4: a can be 1, b = 3; a can be 2, b = 2; a can be 3, b = 1; a can be 4, b = 0. For a + b = 7: a can be 1, b = 6; a can be 2, b = 5; a can be 3, b = 4; a can be 4, b = 3; a can be 5, b = 2; a can be 6, b = 1; a can be 7, b = 0. So total possibilities: 1 (for a + b = 1) + 3 (for a + b = 4) + 6 (for a + b = 7) = 10. But wait, the first digit a cannot be 0, so for a + b = 1: a=1, b=0 is valid. For a + b = 4: a=1, b=3; a=2, b=2; a=3, b=1; a=4, b=0. All valid. For a + b = 7: a=1, b=6; a=2, b=5; a=3, b=4; a=4, b=3; a=5, b=2; a=6, b=1; a=7, b=0. All valid. So total of 1 + 3 + 6 = 10 possibilities. But the answer is 10. Wait, but the original reasoning was flawed. Let me recount. The correct count is 10. But the answer might be 10. However, the correct answer is 10. But the original answer was 10. So the answer is 10.</reasoning>\\n<answer>10</answer>\"}]\n",
      "[{'role': 'assistant', 'content': '<think>\\n\\n</think>\\n\\n<reasoning>If 9n-2 and 7n+3 share a common factor greater than 1, then that factor must divide their difference. The difference between 9n-2 and 7n+3 is 2n - 5. Let d be the common factor. Then d divides 2n - 5 and d divides 9n - 2. Since d divides 2n - 5, it must also divide any integer combination of 2n - 5 and 9n - 2. Specifically, d divides 9(2n - 5) - (2n - 5) = 17n - 25. Similarly, d divides 2(2n - 5) - (9n - 2) = 4n - 10 - 9n + 2 = -5n - 8. Continuing this process, we can find that d must divide 5n + 8 and 2n - 5. The greatest common divisor of 2n - 5 and 5n + 8 must be 1 or greater. If d > 1, then it must divide their difference, which is 3n + 3. Thus, d divides 3n + 3 and 2n - 5. This implies d divides their difference, which is n + 3. So, d divides n + 3. Therefore, n + 3 must be a multiple of some prime number greater than 1. To find the smallest n, we test small values of n until we find one where n + 3 is a multiple of a prime number greater than 1. For n = 2, n + 3 = 5, which is prime. So, d = 5 is a common factor. Hence, n = 2 is the smallest such integer.</reasoning>\\n<answer>2</answer>'}]\n",
      "[{'role': 'assistant', 'content': '<think>\\n\\n</think>\\n\\n<reasoning>The equation given is the sum of two square roots, each representing the distance from a point (x,y) to two fixed points. The first term is the distance from (x,y) to (3, -4), and the second term is the distance from (x,y) to (-5, 8). The equation is of the form √((x-3)^2 + (y+4)^2) + √((x+5)^2 + (y-8)^2) = 20, which is the definition of an ellipse with foci at (3, -4) and (-5, 8). The distance between the foci is the distance between these two points.</reasoning>\\n<answer>10</answer>'}]\n",
      "[{'role': 'assistant', 'content': \"<think>\\n\\n</think>\\n\\n<reasoning>Since the sector is 300 degrees, which is 5/6 of a full circle, the radius of the original circle is 18. The circumference of the original circle is π*18, and the sector's arc length is (300/360)*π*18 = 15π. When the sector is formed into a cone, the arc length becomes the circumference of the base of the cone. Let the radius of the base of the cone be r. Then 2πr = 15π ⇒ r = 7.5. The height of the cone can be found using the Pythagorean theorem: h = √(18² - 7.5²) = √(324 - 56.25) = √267.5. The volume of the cone is (1/3)πr²h = (1/3)π(56.25)(√267.5). Dividing this by π gives (1/3)(56.25)(√267.5) ≈ 18.75√267.5. However, the problem asks for the result when the volume of the cone is divided by π, so the answer is (1/3)(56.25)(√267.5). But since the problem is likely expecting a simpler answer, perhaps there's a mistake in the reasoning.</reasoning>\\n<answer>18.75</answer>\"}]\n",
      "[{'role': 'assistant', 'content': \"<think>\\n\\n</think>\\n\\n<reasoning>Let's denote the angles A and B. We are given two equations: 3 sin A + 4 cos B = 6 and 4 sin B + 3 cos A = 1. Since sine and cosine functions have a maximum value of 1, the maximum value of 3 sin A is 3 and the maximum value of 4 cos B is 4. However, the sum 3 sin A + 4 cos B = 6 implies that both terms must be at their maximum values. This would require sin A = 1 and cos B = 1, but this would make angle A = 90° and angle B = 0°, which is impossible in a triangle. Therefore, the equations cannot be satisfied with both terms reaching their maximum. Let's consider the possibility that one of the terms is greater than 1 and the other is less. However, the sum of 3 sin A + 4 cos B = 6 suggests that 3 sin A must be very large, implying sin A is close to 1, and 4 cos B must be close to 6, implying cos B is close to 1.5, which is impossible. Thus, there is a contradiction. However, if we consider the possibility that one of the equations is not both terms reaching their maximum, we can try solving the equations numerically.</reasoning>\\n<answer>150</answer>\"}]\n",
      "[{'role': 'assistant', 'content': \"<think>\\n\\n</think>\\n\\n<reasoning>Since the hexagon is inscribed in a circle, all its vertices lie on the circle. The hexagon has three consecutive sides of length 3 and three consecutive sides of length 5. Let's consider the hexagon as consisting of two sets of three consecutive sides: one set of sides of length 3 and another set of sides of length 5. The chord that divides the hexagon into two trapezoids must be a chord that connects the endpoints of one of the sides of length 3 to the endpoints of one of the sides of length 5. This chord would form a trapezoid with three sides of length 3 and three sides of length 5. The length of this chord can be found using the properties of the circle and the chord lengths.</reasoning>\\n<answer>2</answer>\"}]\n",
      "[{'role': 'assistant', 'content': \"<think>\\n\\n</think>\\n\\n<reasoning>Since BC is parallel to AD, trapezoid ABCD is defined with BC = 1000 and AD = 2008. The angles at A and D are 37° and 53°, respectively. The midpoints M and N of BC and AD, respectively, lie halfway along their respective sides. To find MN, we can consider the coordinates of M and N. Let's place the trapezoid in the coordinate plane with AD along the x-axis. Let A be at (0, 0). Since angle A is 37°, the side AB makes an angle of 37° with AD. The length of AB can be found using trigonometry. Similarly, the length of DC can be found using the angle at D. Then, the coordinates of B and D can be determined. The coordinates of M and N can be found by averaging the coordinates of B and C, and A and D, respectively. The distance between M and N can then be calculated using the distance formula.</reasoning>\\n<answer>2004</answer>\"}]\n",
      "[{'role': 'assistant', 'content': \"<think>\\n\\n</think>\\n\\n<reasoning>Since a and b are integers with a > b, the denominator a - b must be a positive integer. Let's let a - b = 1, which gives the smallest possible value for the denominator. Then a = b + 1. Substituting into the expression, we get (b + 1 + b)/(1) + (1)/(b + 1 - b) = (2b + 1) + 1/(1) = 2b + 1 + 1 = 2b + 2. To minimize the value of the expression, we need to minimize b. The smallest integer b can be is 0, which gives a = 1. Substituting back, the expression becomes (1 + 0)/(1 - 0) + (1 - 0)/(1 + 0) = 1 + 1 = 2. However, if b = 0, then a = 1, and the denominator a - b = 1, which is allowed. But wait, the problem states a > b, which is true here (1 > 0). However, if b = 0, then the second term is (a - b)/(a + b) = 1/1 = 1, and the first term is (a + b)/(a - b) = 1/1 = 1, so the total is 1 + 1 = 2. But let's check if there's a smaller value. If b = -1, then a = 0, but a must be greater than b, which is -1, so a = 0 is allowed. Then the denominator a - b = 0 - (-1) = 1, and the numerator a + b = 0 + (-1) = -1. So the first term is -1/1 = -1, and the second term is 1/1 = 1, so the total is -1 + 1 = 0. But this gives a smaller value than 2. However, the problem states that a and b are integers with a > b. If a = 0 and b = -1, then a > b is true. So this is a valid case. The value is 0, which is smaller than 2. So the smallest possible positive value is 0. But wait, the question asks for the smallest possible positive value. So 0 is not positive. The next possible value is 1. Let's check if there's a case where the expression equals 1. If the expression equals 1, then (a + b)/(a - b) + (a - b)/(a + b) = 1. Let's try a = 2, b = 1. Then the first term is 3/1 = 3, the second term is 1/3, total is 3 + 1/3 = 3.333... Not 1. If a = 1, b = 0, then the first term is 1/1 = 1, the second term is 1/1 = 1, total is 2. If a = 2, b = 1, as before, total is 3 + 1/3. If a = 3, b = 1, then the first term is 4/2 = 2, the second term is 2/4 = 0.5, total is 2.5. If a = 2, b = 1, total is 3 + 1/3. If a = 3, b = 2, then the first term is 5/1 = 5, the second term is 1/5, total is 5.2. If a = 2, b = 0, then the first term is 2/2 = 1, the second term is 2/2 = 1, total is 2. If a = 3, b = 1, total is 2.5. If a = 4, b = 1, first term is 5/3 ≈ 1.666, second term is 3/5 = 0.6, total ≈ 2.266. If a = 3, b = 2, total is 5/1 = 5 and 1/5 = 0.2, total 5.2. If a = 4, b = 1, total is 5/3 + 3/5 = 25/15 + 9/15 = 34/15 ≈ 2.266. If a = 5, b = 2, first term is 7/3 ≈ 2.333, second\"}]\n",
      "[{'role': 'assistant', 'content': '<think>\\n\\n</think>\\n\\n<reasoning>The equation given is $x = 2y^2 - 3y + 7$. For a parabola in the form $x = ay^2 + by + c$, the graph opens to the right if $a > 0$ and to the left if $a < 0$. The number of $y$-intercepts is determined by the number of real solutions to the equation $y = 0$. However, the question asks about $y$-intercepts, which are points where the graph intersects the $y$-axis. The $y$-intercept occurs when $x = 0$, so we need to find the values of $y$ that satisfy $0 = 2y^2 - 3y + 7$. This is a quadratic equation, but since the discriminant ($b^2 - 4ac$) is $9 - 28 = -19 < 0$, there are no real solutions. Therefore, the graph does not intersect the $y$-axis, and there are no $y$-intercepts.</reasoning>\\n<answer>0</answer>'}]\n",
      "[{'role': 'assistant', 'content': '<think>\\n\\n</think>\\n\\n<reasoning>Since exactly one of the chosen marbles must be red, green, or blue, we need to choose 1 marble from the three colors (red, green, blue) and then choose 3 marbles from the remaining 11 marbles. However, we must ensure that only one of the chosen marbles is from the color group (red, green, blue). So, we first choose 1 marble from the red, green, or blue marbles, and then choose 3 marbles from the remaining 11 marbles, making sure that none of those 3 marbles are of the same color as the chosen one. But since the problem states that exactly one of the chosen marbles is red, green, or blue, it implies that only one of the four marbles chosen is from the color group, and the other three are from the remaining colors. However, the problem is ambiguous about whether the other three marbles must be of different colors or just other colors. Assuming that the other three marbles must be of different colors, we need to consider the possible choices. But the problem states \"exactly one of the chosen marbles is red, green, or blue,\" which means only one of the four marbles is from the color group, and the other three are not. So, we choose 1 marble from the red, green, or blue marbles, and then choose 3 marbles from the remaining 11, which are not of the same color as the chosen one. However, this interpretation is unclear. The problem is ambiguous, but the most straightforward interpretation is that exactly one of the four marbles is from the color group (red, green, blue), and the other three are not. So, we choose 1 marble from the three colors (red, green, blue), and then choose 3 marbles from the remaining 11 marbles, which are not of the same color as the chosen one. But since the problem doesn\\'t specify that the other three marbles must be of different colors, just that they are not red, green, or blue, the answer is simply C(3,1) * C(11,3).</reasoning>\\n<answer>3*110</answer>'}]\n",
      "[{'role': 'assistant', 'content': \"<think>\\n\\n</think>\\n\\n<reasoning>The given sum is $\\\\sum_{n=1}^{\\\\infty}\\\\frac{n}{n^4+4}$. We can factor the denominator as $n^4 + 4 = (n^2)^2 + 2^2$, which suggests using the sum of squares identity. However, it's more effective to factor the denominator as $n^4 + 4 = (n^2 + 2)^2 - (2n)^2 = (n^2 + 2 - 2n)(n^2 + 2 + 2n)$. This factorization allows us to rewrite the denominator as $(n - 1)^2(n + 1)^2 + 2^2$? Wait, let me correct that. The correct factorization is $n^4 + 4 = (n^2 + 2n + 2)(n^2 - 2n + 2)$. This is because $(n^2 + 2n + 2)(n^2 - 2n + 2) = n^4 - 2n^3 + 2n^2 + 2n^3 - 4n^2 + 4n + 2n^2 - 4n + 4 = n^4 + 0n^3 + 0n^2 + 0n + 4 = n^4 + 4$. So the denominator factors as $(n^2 + 2n + 2)(n^2 - 2n + 2)$. Then, the sum becomes $\\\\sum_{n=1}^{\\\\infty}\\\\frac{n}{(n^2 + 2n + 2)(n^2 - 2n + 2)}$. We can use partial fractions. Let's set $\\\\frac{n}{(n^2 + 2n + 2)(n^2 - 2n + 2)} = \\\\frac{A}{n - 1} + \\\\frac{B}{n + 1} + \\\\frac{C}{n^2 + 2n + 2} + \\\\frac{D}{n^2 - 2n + 2}$. Solving for A, B, C, D would be tedious, but perhaps we can find a telescoping series. Alternatively, notice that the denominator can be written as $(n^2 + 2n + 2)(n^2 - 2n + 2) = (n^2 + 2n + 2)(n^2 - 2n + 2)$. Let's consider the difference between terms. Let $a_n = \\\\frac{1}{n^2 + 2n + 2}$ and $b_n = \\\\frac{1}{n^2 - 2n + 2}$. Then, the sum becomes $\\\\sum_{n=1}^{\\\\infty} \\\\frac{n}{(n^2 + 2n + 2)(n^2 - 2n + 2)} = \\\\sum_{n=1}^{\\\\infty} \\\\frac{n}{(n^2 + 2n + 2)(n^2 - 2n + 2)}$. Let's write the denominator as $(n^2 + 2n + 2)(n^2 - 2n + 2) = (n^2 + 2n + 2)(n^2 - 2n + 2)$. Let's consider the difference between $\\\\frac{1}{n - 1}$ and $\\\\frac{1}{n + 1}$, but I need to think differently. Alternatively, since the denominator factors as $(n^2 + 2n + 2)(n^2 - 2n + 2)$, we can write the term as $\\\\frac{n}{(n^2 + 2n + 2)(n^2 - 2n + 2)} = \\\\frac{n}{(n^2 + 2n + 2)(n^2 - 2n + 2)}$. Let's consider the partial fractions. Let me try to find constants A and B such that $\\\\frac{n}{(n^2 + 2n + 2)(n^2 - 2n + 2)} = \\\\frac{A}{n - 1} + \\\\frac{B}{n + 1} + \\\\frac{C}{n^2 + 2n + 2} + \\\\frac{D}{n^2 - 2n + 2}$. Solving this would be complex, but perhaps we can use the fact that the sum telescopes. Alternatively, since the denominator is a product of quadratics, we can write the term as a difference of fractions. However, this might not be straightforward. Let\"}]\n",
      "[{'role': 'assistant', 'content': \"<think>\\n\\n</think>\\n\\n<reasoning>The sum S can be viewed as the sum of binomial coefficients with even indices multiplied by (-1)^k, where k ranges from 0 to 49. This is equivalent to summing the binomial coefficients of the form $\\\\binom{99}{2k}$ with alternating signs. Notice that the binomial theorem can be used here. If we consider the expansion of $(1 - 1)^{99}$, it equals $\\\\sum_{k=0}^{99} \\\\binom{99}{k} (-1)^k = 0$. However, this sum includes all the binomial coefficients with even and odd indices. To isolate the even-indexed terms, we can use the fact that $\\\\sum_{k=0}^{n} \\\\binom{n}{2k} (-1)^k = \\\\frac{1}{2} \\\\left( \\\\sum_{k=0}^{n} \\\\binom{n}{k} (-1)^k + \\\\sum_{k=0}^{n} \\\\binom{n}{k} (-1)^k \\\\right)$. But this approach is not straightforward. Instead, consider the sum $S$ as the sum of $\\\\binom{99}{2k} (-1)^k$ for $k = 0$ to $49$. This is equivalent to evaluating the sum of $\\\\binom{99}{2k} (-1)^k$ which can be found by considering the expansion of $(1 + 1)^{99}$ and $(1 - 1)^{99}$. The difference between these two expansions gives the sum of the binomial coefficients with odd indices. However, the sum $S$ is the sum of the even-indexed terms with alternating signs. By using the fact that $\\\\sum_{k=0}^{n} \\\\binom{n}{2k} (-1)^k = \\\\frac{1}{2} \\\\left( \\\\sum_{k=0}^{n} \\\\binom{n}{k} (-1)^k + \\\\sum_{k=0}^{n} \\\\binom{n}{k} (-1)^k \\\\right)$, we can find the value of $S$. However, this reasoning is complex and may not be necessary. A simpler approach is to recognize that the sum $S$ is the same as the sum of $\\\\binom{99}{2k} (-1)^k$ for $k = 0$ to $49$, which is equivalent to $\\\\sum_{k=0}^{49} \\\\binom{99}{2k} (-1)^k$. This can be evaluated by considering the binomial expansion of $(1 + 1)^{99}$ and $(1 - 1)^{99}$, but it's more straightforward to use the fact that the sum of the even-indexed binomial coefficients with alternating signs is $2^{98}$. However, this is not directly applicable. Given the complexity, the answer is likely $-2^{49}$.</reasoning>\\n<answer>B</answer>\"}]\n"
     ]
    },
    {
     "name": "stderr",
     "output_type": "stream",
     "text": [
      "ERROR:math_verify.grader:Timeout during comparison\n"
     ]
    },
    {
     "name": "stdout",
     "output_type": "stream",
     "text": [
      "[{'role': 'assistant', 'content': '<think>\\n\\n</think>\\n\\n<reasoning>Since 3^2 = 9, 3^{2n} is congruent to 0 modulo 9. Therefore, 3^{2n} + 4 is congruent to 4 modulo 9. The inverse of 4 modulo 9 is a number x such that 4x ≡ 1 mod 9. Testing x=7: 4*7=28≡1 mod 9. So the inverse is 7. Thus, a ≡ 7 mod 9.</reasoning>\\n<answer>7</answer>'}]\n",
      "[{'role': 'assistant', 'content': \"<think>\\n\\n</think>\\n\\n<reasoning>Since the equation involves $(2+i)$ raised to various powers, we can factor out $(2+i)^2$ from the terms involving $(2+i)^4$ and $(2+i)^3$. Let's rewrite the equation as $a(2+i)^4 + b(2+i)^3 + c(2+i)^2 + b(2+i) + a = 0$. Factoring out $(2+i)^2$, we get $(2+i)^2 [a(2+i)^2 + b(2+i) + c + \\\\frac{b}{(2+i)} + \\\\frac{a}{(2+i)}] = 0$. However, this approach may not be straightforward. Instead, let's substitute $x = 2 + i$ and rewrite the equation as $a x^4 + b x^3 + c x^2 + b x + a = 0$. Since $x = 2 + i$, we can compute $x^2 = (2 + i)^2 = 4 + 4i + i^2 = 3 + 4i$, $x^3 = x^2 \\\\cdot x = (3 + 4i)(2 + i) = 6 + 3i + 4i + 4i^2 = 6 + 7i - 4 = 2 + 7i$, and $x^4 = x^3 \\\\cdot x = (2 + 7i)(2 + i) = 4 + 2i + 7i + 7i^2 = 4 + 9i - 7 = -3 + 9i$. Substituting these into the equation gives $a(-3 + 9i) + b(2 + 7i) + c(3 + 4i) + b(2 + 7i) + a = 0$. Combining like terms, we get $[a + a] + [b + b] + [c(3 + 4i) + 7i(2 + b)] = 0$. This simplifies to $2a + 2b + c(3 + 4i) + 7i(2 + b) = 0$. Equating the real and imaginary parts, we get $2a + 2b + 3c = 0$ and $7b + 2c = 0$. Solving these equations, we find $7b + 2c = 0 \\\\implies c = -\\\\frac{7}{2}b$. Substituting into the first equation: $2a + 2b + 3(-\\\\frac{7}{2}b) = 0 \\\\implies 2a + 2b - \\\\frac{21}{2}b = 0 \\\\implies 2a - \\\\frac{19}{2}b = 0 \\\\implies a = \\\\frac{19}{4}b$. Since $a$ and $b$ are integers, $b$ must be a multiple of 4. Let $b = 4k$, then $c = -\\\\frac{7}{2}(4k) = -14k$ and $a = \\\\frac{19}{4}(4k) = 19k$. The integers $a, b, c$ are $19k, 4k, -14k$. The greatest common divisor of $19k, 4k, -14k$ is $k$ (since 19, 4, and 14 are coprime). For the GCD to be 1, $k = 1$. Thus, $a = 19$, $b = 4$, $c = -14$. Therefore, $|c| = 14$.</reasoning>\\n<answer>14</answer>\"}]\n",
      "[{'role': 'assistant', 'content': '<think>\\n\\n</think>\\n\\n<reasoning>The given expression is the product of two series. The first series is $1 + \\\\frac{1}{2} + \\\\frac{1}{4} + \\\\frac{1}{8} + \\\\cdots$, which is a geometric series with first term 1 and common ratio $\\\\frac{1}{2}$. The second series is $1 - \\\\frac{1}{2} + \\\\frac{1}{4} - \\\\frac{1}{8} + \\\\cdots$, which is also a geometric series with first term 1 and common ratio $-\\\\frac{1}{2}$. The product of these two series can be found by multiplying their terms. The third series is $1 + \\\\frac{1}{x} + \\\\frac{1}{x^2} + \\\\frac{1}{x^3} + \\\\cdots$, which is a geometric series with first term 1 and common ratio $\\\\frac{1}{x}$. Since the product of the two original series is equal to this third series, we can equate the common ratios and solve for $x$.</reasoning>\\n<answer>2</answer>'}]\n",
      "[{'role': 'assistant', 'content': \"<think>\\n\\n</think>\\n\\n<reasoning>Consider a cube with faces labeled with integers $a, b, c, d, e, f$. The cube has 8 vertices, each labeled with the product of three adjacent face numbers. Each vertex is adjacent to three faces, so the product at each vertex is the product of three of the face numbers. Let's denote the faces as follows: let the faces be labeled such that the front face is $a$, the back face is $b$, the left face is $c$, the right face is $d$, the top face is $e$, and the bottom face is $f$. \\n\\nThe vertices are:\\n- Front-top-left: $a \\\\cdot e \\\\cdot c$\\n- Front-top-right: $a \\\\cdot e \\\\cdot d$\\n- Front-bottom-left: $a \\\\cdot f \\\\cdot c$\\n- Front-bottom-right: $a \\\\cdot f \\\\cdot d$\\n- Back-top-left: $b \\\\cdot e \\\\cdot c$\\n- Back-top-right: $b \\\\cdot e \\\\cdot d$\\n- Back-bottom-left: $b \\\\cdot f \\\\cdot c$\\n- Back-bottom-right: $b \\\\cdot f \\\\cdot d$\\n\\nThe sum of the vertex values is $1001$, so:\\n$$\\n(a \\\\cdot e \\\\cdot c) + (a \\\\cdot e \\\\cdot d) + (a \\\\cdot f \\\\cdot c) + (a \\\\cdot f \\\\cdot d) + (b \\\\cdot e \\\\cdot c) + (b \\\\cdot e \\\\cdot d) + (b \\\\cdot f \\\\cdot c) + (b \\\\cdot f \\\\cdot d) = 1001\\n$$\\n\\nFactor out common terms:\\n$$\\na \\\\cdot e \\\\cdot c + a \\\\cdot e \\\\cdot d + a \\\\cdot f \\\\cdot c + a \\\\cdot f \\\\cdot d + b \\\\cdot e \\\\cdot c + b \\\\cdot e \\\\cdot d + b \\\\cdot f \\\\cdot c + b \\\\cdot f \\\\cdot d\\n$$\\n\\nGroup terms:\\n$$\\na \\\\cdot e \\\\cdot (c + d) + a \\\\cdot f \\\\cdot (c + d) + b \\\\cdot e \\\\cdot (c + d) + b \\\\cdot f \\\\cdot (c + d)\\n$$\\n\\nFactor out $ (c + d) $:\\n$$\\n(c + d)(a \\\\cdot e + a \\\\cdot f + b \\\\cdot e + b \\\\cdot f)\\n$$\\n\\nFactor further:\\n$$\\n(c + d)(a(e + f) + b(e + f)) = (c + d)(e + f)(a + b)\\n$$\\n\\nSo the sum of the vertex values is $ (c + d)(e + f)(a + b) = 1001 $.\\n\\nNow, since $1001 = 7 \\\\times 11 \\\\times 13$, the possible factorizations of 1001 into three integers are $1 \\\\times 1 \\\\times 1001$, $1 \\\\times 7 \\\\times 143$, $1 \\\\times 11 \\\\times 91$, $1 \\\\times 77 \\\\times 13$, $7 \\\\times 11 \\\\times 13$, and others. Since $a, b, c, d, e, f$ are positive integers, $c + d$ and $e + f$ must be positive integers greater than or equal to 1. Also, $a + b$ must be a positive integer.\\n\\nLet’s consider the factorization $7 \\\\times 11 \\\\times 13$. Then $ (c + d)(e + f)(a + b) = 1001 $, so $ (c + d)(e + f) = 7 \\\\times 11 \\\\times 13 $ divided by $a + b$. Let’s try $a + b = 7$, then $ (c + d)(e + f) = 11 \\\\times 13 = 143 $. Then $c + d$ and $e + f$ are positive integers such that their product is 143. Possible pairs are (1, 143), (11, 13), (7, 20.428...), but since $c$ and $d$ are positive integers, $c + d$ must be an integer. So possible pairs are (1, 143), (11, 13). Let's try $c + d = 11$ and $e + f = 13$. Then $a + b = 7$. Let’s assign values such that $a + b = 7$. Let’s say $a = 1$, $b = 6$. Then $c + d = 11$ and $e +\"}]\n",
      "[{'role': 'assistant', 'content': '<think>\\n\\n</think>\\n\\n<reasoning>To solve the problem, we first need to convert the binary numbers to decimal, perform the multiplication and division in decimal, and then convert the result back to binary. Converting each binary number to decimal: $10110_2$ is $18_{10}$, $10100_2$ is $20_{10}$, and $10_2$ is $2_{10}$. Then, we perform the operations: $18 \\\\times 20 = 360$ and $360 \\\\div 2 = 180$. Finally, converting 180 to binary: $180_{10}$ is $10110100_2$.</reasoning>\\n<answer>10110100</answer>'}]\n",
      "[{'role': 'assistant', 'content': \"<think>\\n\\n</think>\\n\\n<reasoning>Since the large equilateral triangle is constructed from four smaller equilateral triangles, each of the same color, and there are six colors available, we need to count the number of distinct large triangles that can be formed by arranging four small triangles of the same color. However, the problem states that two large triangles are distinguishable if they cannot be transformed into each other via translations, rotations, and reflections. Since the large triangle is made by placing four small triangles, the key is to determine how many distinct colorings of the small triangles result in distinct large triangles under the given symmetry operations. However, the Asymptote code draws a large triangle made of four small triangles, but the exact configuration is not clear. Given the problem's complexity and the need for a concise answer, the most straightforward approach is to consider that each small triangle can be colored in 6 ways, but since the large triangle is constructed from four small ones, and the problem states that the large triangle is distinguishable based on colorings, the answer is 6. However, considering the possible symmetries and the need for distinct large triangles, the answer might be 6. But given the problem's complexity and the need for a concise answer, the answer is 6.</reasoning>\\n<answer>6</answer>\"}]\n",
      "[{'role': 'assistant', 'content': '<think>\\n\\n</think>\\n\\n<reasoning>Since a_0 = 1/2, then a_1 = 1 + (a_0 - 1)^2 = 1 + (1/2 - 1)^2 = 1 + (1/2)^2 = 1 + 1/4 = 5/4. Then a_2 = 1 + (a_1 - 1)^2 = 1 + (5/4 - 1)^2 = 1 + (1/4)^2 = 1 + 1/16 = 17/16. Continuing this pattern, each subsequent term is 1 plus the square of the previous term minus 1. This results in a sequence where each term is slightly larger than 1, and the difference between consecutive terms becomes smaller. However, since the sequence is defined recursively and each term is greater than 1, the product a_0 a_1 a_2 ... will approach a finite limit. But since the terms are all greater than 1 and the sequence is increasing, the product may not converge to a finite value. However, the problem asks to compute the product up to the infinite sequence, which suggests that the product might converge to a specific value. But given the recursive definition, the terms are increasing and approaching 1 from above, so the product might converge to a finite value. However, the exact value requires more precise analysis.</reasoning>\\n<answer>1</answer>'}]\n",
      "[{'role': 'assistant', 'content': \"<think>\\n\\n</think>\\n\\n<reasoning>Since X and Y are midpoints of BC and DA respectively, we can use coordinate geometry to find their coordinates and then compute the distance between them. Let's place the quadrilateral in the coordinate plane. Let D be at the origin (0, 0). Since angle D is 60 degrees and DA = 24, point A can be at (24, 0). Then, since angle D is 60 degrees, point C can be found by rotating point A around D by 60 degrees. The coordinates of C are (24*cos(60°), 24*sin(60°)) = (12, 12√3). Now, since BC = 13 and AB = 13, we can find the coordinates of B. Let's denote B as (x, y). The distance from B to C is 13, so (x - 12)^2 + (y - 12√3)^2 = 13^2 = 169. The distance from B to A is 13, so (x - 24)^2 + y^2 = 169. Solving these equations will give the coordinates of B. Once we have B, we can find the coordinates of X and Y, then compute the distance between them.</reasoning>\\n<answer>13</answer>\"}]\n",
      "[{'role': 'assistant', 'content': '<think>\\n\\n</think>\\n\\n<reasoning>Points that are 5 units from the line y=13 must lie on the horizontal lines y=12 and y=14. The points 5 units away from the line y=13 are (x, 12) and (x, 14) for any x. Now, we need to find the points that are 13 units away from the point (7,13). These points lie on the circle with center (7,13) and radius 13. The circle intersects the horizontal lines y=12 and y=14 at two points each. For y=12, the points are (x, 12) where (x-7)^2 + (12-13)^2 = 13^2 → (x-7)^2 + 1 = 169 → (x-7)^2 = 168 → x = 7 ± 2√42. Similarly, for y=14, the points are (x, 14) where (x-7)^2 + (14-13)^2 = 13^2 → (x-7)^2 + 1 = 169 → (x-7)^2 = 168 → x = 7 ± 2√42. Thus, the four points are (7 + 2√42, 12), (7 - 2√42, 12), (7 + 2√42, 14), and (7 - 2√42, 14). The sum of the x-coordinates is 2*(7 + 2√42) + 2*(7 - 2√42) = 2*7 + 2*7 = 14. The sum of the y-coordinates is 12 + 14 = 26. Total sum is 14 + 26 = 40.</reasoning>\\n<answer>40</answer>'}]\n",
      "[{'role': 'assistant', 'content': '<think>\\n\\n</think>\\n\\n<reasoning>To find $\\\\sin \\\\angle HAC$, we need to determine the angle between vectors $\\\\vec{HA}$ and $\\\\vec{AC}$, and then use the cross product to find the sine of that angle. First, we identify the coordinates of the points. Point A is at (0,0,0), point H is at (0,1,1), and point C is at (1,1,0). The vector $\\\\vec{HA}$ is from H to A, which is $\\\\vec{HA} = A - H = (0,0,0) - (0,1,1) = (0, -1, -1)$. The vector $\\\\vec{AC}$ is from A to C, which is $\\\\vec{AC} = C - A = (1,1,0) - (0,0,0) = (1,1,0)$. The sine of the angle between two vectors can be found using the cross product: $\\\\sin \\\\theta = \\\\frac{|\\\\vec{HA} \\\\times \\\\vec{AC}|}{|\\\\vec{HA}| |\\\\vec{AC}|}$.</reasoning>\\n<answer>$$\\\\frac{\\\\sqrt{2}}{2}$$</answer>'}]\n",
      "[{'role': 'assistant', 'content': '<think>\\n\\n</think>\\n\\n<reasoning>To solve for $ z $, we can rearrange the equation to group the terms involving $ z $ on one side. Starting with $ 2 - iz = -1 + 3iz $, we add $ iz $ to both sides to get $ 2 = -1 + 4iz $. Then, we add 1 to both sides to get $ 3 = 4iz $. Finally, we divide both sides by 4 to solve for $ z $: $ z = \\\\frac{3}{4i} $. To express this in standard form $ a + bi $, we multiply the numerator and denominator by $ i $ to get $ \\\\frac{3i}{4i^2} $. Since $ i^2 = -1 $, this becomes $ \\\\frac{3i}{-4} = -\\\\frac{3}{4}i $.</reasoning>\\n<answer>-3/4i</answer>'}]\n"
     ]
    },
    {
     "data": {
      "text/plain": [
       "TrainOutput(global_step=50, training_loss=0.013173042598996858, metrics={'train_runtime': 4226.4256, 'train_samples_per_second': 0.095, 'train_steps_per_second': 0.012, 'total_flos': 0.0, 'train_loss': 0.013173042598996858})"
      ]
     },
     "metadata": {},
     "output_type": "display_data"
    }
   ],
   "source": [
    "# Start the training process\n",
    "trainer.train()"
   ]
  },
  {
   "cell_type": "markdown",
   "id": "45373389",
   "metadata": {},
   "source": [
    "!!!!!!**Normal GRPO Training Behavior: Loss Starting at Zero Then Increasing**!!!!!\n",
    "This is completely normal. Initially, your model policy (πθ) equals your reference policy (πref), so their KL divergence is zero, meaning your loss starts at zero.\n",
    "During training, as πθ optimizes toward higher rewards, it naturally diverges from πref, causing the KL penalty term (βDKL[πθ∥πref]) to increase - which increases your loss.\n",
    "The simplified math shows this clearly:\n",
    "\n",
    "When πθold = πθ (single exploration step)\n",
    "After simplification and considering normalized advantages (∑A^i = 0)\n",
    "The loss becomes: JGRPO(θ) = -β·DKL[πθ∥πref]\n",
    "\n",
    "Your increasing loss actually indicates successful training - your policy is moving away from the reference to maximize rewards, constrained by the KL penalty."
   ]
  },
  {
   "cell_type": "markdown",
   "id": "974df0f1",
   "metadata": {},
   "source": [
    "### 3.6 Saving the Model to float16 for VLLM\n",
    "We can save the model to float16 directly. Select merged_16bit for float16 or merged_4bit for int4. We also allow lora adapters as a fallback. Use push_to_hub_merged to upload to your Hugging Face account!"
   ]
  },
  {
   "cell_type": "code",
   "execution_count": null,
   "id": "c8549b85",
   "metadata": {},
   "outputs": [
    {
     "name": "stderr",
     "output_type": "stream",
     "text": [
      "Unsloth: You have 1 CPUs. Using `safe_serialization` is 10x slower.\n",
      "We shall switch to Pytorch saving, which might take 3 minutes and not 30 minutes.\n",
      "To force `safe_serialization`, set it to `None` instead.\n",
      "Unsloth: Kaggle/Colab has limited disk space. We need to delete the downloaded\n",
      "model which will save 4-16GB of disk space, allowing you to save on Kaggle/Colab.\n",
      "Unsloth: Will remove a cached repo with size 1.4G\n"
     ]
    },
    {
     "name": "stdout",
     "output_type": "stream",
     "text": [
      "Unsloth: Merging 4bit and LoRA weights to 16bit...\n",
      "Unsloth: Will use up to 2.01 out of 12.67 RAM for saving.\n",
      "Unsloth: Saving model... This might take 5 minutes ...\n"
     ]
    },
    {
     "name": "stderr",
     "output_type": "stream",
     "text": [
      "100%|██████████| 28/28 [00:02<00:00, 13.07it/s]\n"
     ]
    },
    {
     "name": "stdout",
     "output_type": "stream",
     "text": [
      "Unsloth: Saving tokenizer... Done.\n",
      "Unsloth: Saving Qwen3_1.7B-GRPO-math-reasoning/pytorch_model.bin...\n",
      "Done.\n"
     ]
    },
    {
     "name": "stderr",
     "output_type": "stream",
     "text": [
      "Unsloth: You are pushing to hub, but you passed your HF username = Afaf.\n",
      "We shall truncate Afaf/Qwen3_1.7B-GRPO-math-reasoning to Qwen3_1.7B-GRPO-math-reasoning\n"
     ]
    },
    {
     "name": "stdout",
     "output_type": "stream",
     "text": [
      "Unsloth: Merging 4bit and LoRA weights to 16bit...\n",
      "Unsloth: Will use up to 1.53 out of 12.67 RAM for saving.\n",
      "Unsloth: Saving model... This might take 5 minutes ...\n"
     ]
    },
    {
     "name": "stderr",
     "output_type": "stream",
     "text": [
      "100%|██████████| 28/28 [00:00<00:00, 52.74it/s]\n"
     ]
    },
    {
     "name": "stdout",
     "output_type": "stream",
     "text": [
      "Unsloth: Saving tokenizer..."
     ]
    },
    {
     "data": {
      "application/vnd.jupyter.widget-view+json": {
       "model_id": "ba04f32697af490a8f7b80684942549a",
       "version_major": 2,
       "version_minor": 0
      },
      "text/plain": [
       "  0%|          | 0/1 [00:00<?, ?it/s]"
      ]
     },
     "metadata": {},
     "output_type": "display_data"
    },
    {
     "data": {
      "application/vnd.jupyter.widget-view+json": {
       "model_id": "15f94ba92e5a48929fe466661f36debe",
       "version_major": 2,
       "version_minor": 0
      },
      "text/plain": [
       "tokenizer.json:   0%|          | 0.00/11.4M [00:00<?, ?B/s]"
      ]
     },
     "metadata": {},
     "output_type": "display_data"
    },
    {
     "name": "stdout",
     "output_type": "stream",
     "text": [
      " Done.\n",
      "Unsloth: Saving Qwen3_1.7B-GRPO-math-reasoning/pytorch_model.bin...\n"
     ]
    },
    {
     "data": {
      "application/vnd.jupyter.widget-view+json": {
       "model_id": "6a16b6fdcdfb47ea87aba16b4a7c3774",
       "version_major": 2,
       "version_minor": 0
      },
      "text/plain": [
       "README.md:   0%|          | 0.00/587 [00:00<?, ?B/s]"
      ]
     },
     "metadata": {},
     "output_type": "display_data"
    },
    {
     "data": {
      "application/vnd.jupyter.widget-view+json": {
       "model_id": "0286e625752e44d8ab69cad15aff0235",
       "version_major": 2,
       "version_minor": 0
      },
      "text/plain": [
       "  0%|          | 0/1 [00:00<?, ?it/s]"
      ]
     },
     "metadata": {},
     "output_type": "display_data"
    },
    {
     "data": {
      "application/vnd.jupyter.widget-view+json": {
       "model_id": "46c51b33de314db083cdc5c1de0ac8f9",
       "version_major": 2,
       "version_minor": 0
      },
      "text/plain": [
       "pytorch_model.bin:   0%|          | 0.00/3.44G [00:00<?, ?B/s]"
      ]
     },
     "metadata": {},
     "output_type": "display_data"
    },
    {
     "name": "stdout",
     "output_type": "stream",
     "text": [
      "Done.\n",
      "Saved merged model to https://huggingface.co/Afaf/Qwen3_1.7B-GRPO-math-reasoning\n"
     ]
    }
   ],
   "source": [
    "user_name = \"YOUR_USEER_NAME\"\n",
    "model.save_pretrained_merged(NEW_MODEL, tokenizer, save_method = \"merged_16bit\",)\n",
    "model.push_to_hub_merged(f\"{user_name}/{NEW_MODEL}\", tokenizer, save_method=\"merged_16bit\")\n",
    "\n",
    "NEW_MODEL"
   ]
  },
  {
   "cell_type": "markdown",
   "id": "10b18705",
   "metadata": {},
   "source": [
    "We observe that the model demonstrates some reasoning capabilities, although these are limited. This can be attributed to several factors: the use of a small model, a limited subset of the dataset, and a short training duration to keep the process simple and practical for a notebook environment.\n",
    "\n",
    "Despite these constraints, this technique shows great promise. The release of DeepSeek-R1 and the adoption of this training approach could lead to significant breakthroughs in the coming months!"
   ]
  },
  {
   "cell_type": "markdown",
   "id": "e048f14d",
   "metadata": {},
   "source": [
    "## 4. Test the model\n",
    "\n",
    "In case you didn't manage to finish the training, feel free to call and load the model from the hub running it on test dataset\n",
    "\n"
   ]
  },
  {
   "cell_type": "code",
   "execution_count": null,
   "id": "56121d34",
   "metadata": {},
   "outputs": [],
   "source": [
    "# Load the language model with optional 4-bit quantization and LoRA\n",
    "model_inf, tokenizer_inf = FastLanguageModel.from_pretrained(\n",
    "    model_name=f\"HackAI-2025/{NEW_MODEL}\",              # Name or path of the pretrained model\n",
    "    max_seq_length=max_seq_length,  # Sets maximum input size handled by the model\n",
    "    max_lora_rank=lora_rank,        # Sets the rank for the LoRA adaptation\n",
    "    full_finetuning=False,          # If True, fine-tunes all weights; if False, only fine-tunes LoRA layers\n",
    "    fast_inference=True)"
   ]
  },
  {
   "cell_type": "markdown",
   "id": "b8c240f3",
   "metadata": {},
   "source": [
    "Let us test it on Math&Maroc competition exercise:"
   ]
  },
  {
   "cell_type": "code",
   "execution_count": null,
   "id": "11b98498",
   "metadata": {},
   "outputs": [],
   "source": [
    "# Extract text\n",
    "reader = PdfReader(\"Assets/MMC_2024_day1.pdf\")\n",
    "all_text = '\\n'.join([page.extract_text() for page in reader.pages[:1]]) # only eng page\n",
    "\n",
    "# Find all problems (Problem 1:, Problem 2:, etc.)\n",
    "pattern = r\"Problem\\s*(\\d+)\\s*:(.*?)(?=Problem\\s*\\d+:|$)\"\n",
    "\n",
    "problems = re.findall(pattern, all_text, re.DOTALL)\n",
    "\n",
    "# problems is a list of tuples: (problem_number, problem_text)\n",
    "for num, statement in problems:\n",
    "    print(f\"Problem {num}:\\n{statement.strip()}\\n\")"
   ]
  },
  {
   "cell_type": "code",
   "execution_count": null,
   "id": "91ba2cfd",
   "metadata": {},
   "outputs": [
    {
     "name": "stdout",
     "output_type": "stream",
     "text": [
      "To show that the function $ f: \\mathbb{R} \\to \\mathbb{R} $, which is differentiable and satisfies $ f(x)^2 + (f'(x))^2 \\neq 0 $ for all $ x \\in \\mathbb{R} $, has at most a finite number of zeros in any bounded subset $ E \\subseteq \\mathbb{R} $, we proceed as follows:\n",
      "\n",
      "---\n",
      "\n",
      "### Step 1: Consider the function $ g(x) = f(x)^2 + (f'(x))^2 $\n",
      "\n",
      "We are given that $ g(x) \\neq 0 $ for all $ x \\in \\mathbb{R} $. Since $ g(x) $ is continuous (as $ f $ is differentiable), and it is never zero, it must be strictly positive or strictly negative everywhere. However, the problem states that $ g(x) \\neq 0 $, so it is not zero at any point.\n",
      "\n",
      "---\n",
      "\n",
      "### Step 2: Consider the derivative of $ g(x) $\n",
      "\n",
      "Compute the derivative of $ g(x) $:\n",
      "\n",
      "$$\n",
      "g'(x) = 2f(x)f'(x) + 2f'(x) \\cdot f''(x) = 2f'(x)(f(x) + f''(x))\n",
      "$$\n",
      "\n",
      "But this is not directly useful. Instead, consider the following:\n",
      "\n",
      "---\n",
      "\n",
      "### Step 3: Use the Mean Value Theorem\n",
      "\n",
      "Let’s suppose $ f(x) = 0 $ at some point $ x_0 \\in E $. Then $ f'(x_0) \\neq 0 $, since $ f(x)^2 + (f'(x))^2 \\neq 0 $.\n",
      "\n",
      "Now, consider the function $ f(x) $ on the interval $ [x_0, x_0 + \\delta] $, for some small $ \\delta > 0 $. Since $ f(x_0) = 0 $, and $ f(x) $ is differentiable, we can use the Mean Value Theorem to show that $ f(x) $ can't change sign in a neighborhood of $ x_0 $, because $ f'(x_0) \\neq 0 $ and the function is differentiable.\n",
      "\n",
      "---\n",
      "\n",
      "### Step 4: Use the Mean Value Theorem to show that $ f(x) $ can't change sign\n",
      "\n",
      "Suppose $ f(x) = 0 $ at $ x_0 $. Then, by the Mean Value Theorem, for any $ x \\ne x_0 $, there exists a point $ c \\in (x_0, x) $ such that $ f'(c) \\neq 0 $. But this doesn't necessarily lead to a contradiction.\n",
      "\n",
      "Instead, consider the derivative $ f'(x) $. If $ f(x) = 0 $, then $ f'(x) \\neq 0 $, and the function $ f(x) $ is not zero at any other point in the neighborhood of $ x_0 $, because the derivative is non-zero and the function is differentiable.\n",
      "\n",
      "---\n",
      "\n",
      "### Step 5: Use the fact that $ f(x)^2 + (f'(x))^2 \\neq 0 $ to show that $ f(x) $ can't be zero more than once\n",
      "\n",
      "Suppose $ f(x) = 0 $ at two points $ x_1 $ and $ x_2 $ in $ E $. Then $ f'(x_1) \\neq 0 $, and $ f'(x_2) \\neq 0 $. But this doesn't necessarily contradict the condition.\n",
      "\n",
      "However, if $ f(x) $ is zero at two points, then $ f(x) $ must be zero at those points, and the derivative at those points is non-zero. But this doesn't necessarily lead to a contradiction.\n",
      "\n",
      "---\n",
      "\n",
      "### Step 6: Use the fact that $ f(x)^2 + (f'(x))^2 \\neq 0 $ to show that $ f(x) $ can't be zero more than once\n",
      "\n",
      "If $ f(x) = 0 $ at two points $ x_1 $ and $ x_2 $, then $ f'(x_1) \\neq 0 $, and $ f'(x_2) \\neq 0 $. But this is not a contradiction. However, the derivative at those points is non-zero, and the function is differentiable.\n",
      "\n",
      "But the key is that if $ f(x) = 0 $ at two points, then $ f(x) $ is zero at those points, and the derivative at those points is non-zero. But the derivative is non-zero, and the function is differentiable, so the function can't be zero at more than one point.\n",
      "\n",
      "---\n",
      "\n",
      "### Step 7: Conclusion\n",
      "\n",
      "Since $ f(x)^2 + (f'(x))^2 \\neq 0 $ for all $ x \\in \\mathbb{R} $, the function $ f(x) $ cannot be zero at more than one point in any bounded subset $ E \\subseteq \\mathbb{R} $. Therefore, $ f $ has at most a finite number of zeros in any bounded subset $ E \\subseteq \\mathbb{R} $.\n",
      "\n",
      "---\n",
      "\n",
      "### Final Answer:\n",
      "\n",
      "$$\n",
      "\\boxed{\\text{At most a finite number of zeros in any bounded subset of } \\mathbb{R}}\n",
      "$$<|im_end|>\n"
     ]
    }
   ],
   "source": [
    "messages = [\n",
    "            {'role': 'user', 'content': problems[0]}\n",
    "        ]\n",
    "text = tokenizer.apply_chat_template(\n",
    "    messages,\n",
    "    tokenize = False,\n",
    "    add_generation_prompt = True, # Must add for generation\n",
    "    enable_thinking = False, # Disable thinking\n",
    ")\n",
    "\n",
    "_ = model.generate(\n",
    "    **tokenizer(text, return_tensors = \"pt\").to(\"cuda\"),\n",
    "    max_new_tokens = 2048, # Increase for longer outputs!\n",
    "    temperature = 0.7, top_p = 0.8, top_k = 20, # For non thinking\n",
    "    streamer = TextStreamer(tokenizer, skip_prompt = True),\n",
    ")"
   ]
  },
  {
   "cell_type": "markdown",
   "id": "6fee1e4d",
   "metadata": {},
   "source": [
    "## 🏁 5.Team Exercise: GRPO Understanding Challenge\n",
    "\n",
    "### Overview\n",
    "This exercise tests your understanding of Group Relative Policy Optimization (GRPO) without requiring additional model training. Your team's performance will be evaluated on a leaderboard to determine the best understanding of the concepts.\n",
    "\n",
    "### 🧩 Exercise: Designing a GRPO-Based Fine-Tuning Strategy\n",
    "\n",
    "#### Task Description\n",
    "Your team must design an improved GRPO fine-tuning strategy for a math reasoning model by making strategic decisions about various components of the pipeline.\n",
    "\n",
    "#### Requirements\n",
    "\n",
    "1. **Reward Function Design (35 points)**\n",
    "   - Design a comprehensive set of reward functions for math reasoning\n",
    "   - Explain how each reward function addresses a specific aspect of high-quality math solutions\n",
    "   - Justify the relative weighting of different reward components\n",
    "\n",
    "2. **Training Configuration Optimization (35 points)**\n",
    "   - Recommend specific adjustments to the training hyperparameters\n",
    "   - Justify each adjustment with clear reasoning\n",
    "   - Provide a complete `GRPOConfig` code snippet with your optimized values\n",
    "\n",
    "3. **Evaluation Methodology (30 points)**\n",
    "   - Design a robust evaluation protocol for your GRPO-trained model\n",
    "   - Specify metrics to track during and after training\n",
    "   - Describe how you would determine if the GRPO approach is working better than simpler alternatives\n",
    "\n",
    "### 📊 Evaluation Criteria\n",
    "\n",
    "Your submission will be evaluated on:\n",
    "\n",
    "1. **Technical Correctness:** Proper understanding of GRPO concepts\n",
    "2. **Innovation:** Novel but practical ideas for improving the training process\n",
    "3. **Implementation Feasibility:** How feasible your approach is to implement\n",
    "4. **Justification Quality:** The depth and clarity of your reasoning\n",
    "\n",
    "### 📝 Submission Format\n",
    "\n",
    "Submit a Markdown or Python file containing:\n",
    "\n",
    "```python\n",
    "# Team Name: [Your Team Name]\n",
    "# Team Members: [List of team members]\n",
    "\n",
    "\"\"\"\n",
    "REWARD FUNCTION DESIGN\n",
    "---------------------\n",
    "[Your detailed response here]\n",
    "\"\"\"\n",
    "\n",
    "\"\"\"\n",
    "TRAINING CONFIGURATION OPTIMIZATION\n",
    "---------------------------------\n",
    "[Your detailed response here]\n",
    "\"\"\"\n",
    "\n",
    "\"\"\"\n",
    "EVALUATION METHODOLOGY\n",
    "--------------------\n",
    "[Your detailed response here]\n",
    "\"\"\"\n",
    "\n",
    "# Bonus: Sample code snippet for any one component of your solution\n",
    "```\n",
    "\n",
    "### 🏆 Leaderboard Assessment\n",
    "\n",
    "Your team's submission will be evaluated using a scoring system that assigns points based on:\n",
    "\n",
    "1. **Correctness Score (50%):** Assessment of technical accuracy and proper GRPO understanding\n",
    "2. **Innovation Score (30%):** Originality and effectiveness of your proposed strategies\n",
    "3. **Clarity Score (20%):** Clear articulation and organization of ideas\n",
    "\n",
    "The total score (100 points maximum) will determine your team's position on the leaderboard.\n",
    "\n",
    "### 📋 Hints for Success\n",
    "\n",
    "- Focus on the unique aspects of GRPO compared to other methods like PPO and DPO\n",
    "- Consider the specific challenges of math reasoning when designing rewards\n",
    "- Think about scalability and computational efficiency\n",
    "- Review the implementation details from the notebook carefully\n",
    "\n",
    "\n",
    "## ⚠️ Important Disclaimer\n",
    "\n",
    "**This notebook demonstrates a simplified implementation of GRPO fine-tuning.** For production-level applications, this approach should be significantly expanded and refined. Specifically:\n",
    "\n",
    "1. The training duration (50 steps) is far too short for meaningful learning\n",
    "2. The reward functions are basic implementations that would benefit from more sophisticated alternatives\n",
    "3. Proper group construction requires careful analysis of your specific dataset\n",
    "4. Larger models (7B+ parameters) typically yield better reasoning capabilities\n",
    "5. More extensive evaluation on diverse test sets is essential for real-world deployment\n",
    "\n",
    "For research or production applications, we recommend:\n",
    "- Increasing training steps by at least 100x\n",
    "- Using more sophisticated reward modeling techniques\n",
    "- Implementing proper group balancing and sampling strategies\n",
    "- Considering multi-stage training approaches (SFT → GRPO)\n",
    "- Developing robust evaluation suites for mathematical reasoning\n",
    "\n",
    "The simplicity of this notebook is designed for educational purposes and to fit within Colab's resource constraints."
   ]
  },
  {
   "cell_type": "code",
   "execution_count": null,
   "id": "4f3d19c4",
   "metadata": {},
   "outputs": [
    {
     "name": "stdout",
     "output_type": "stream",
     "text": [
      "\u001b[2K     \u001b[90m━━━━━━━━━━━━━━━━━━━━━━━━━━━━━━━━━━━━━━━━\u001b[0m \u001b[32m46.8/46.8 kB\u001b[0m \u001b[31m2.3 MB/s\u001b[0m eta \u001b[36m0:00:00\u001b[0m\n",
      "\u001b[2K   \u001b[90m━━━━━━━━━━━━━━━━━━━━━━━━━━━━━━━━━━━━━━━━\u001b[0m \u001b[32m218.5/218.5 kB\u001b[0m \u001b[31m14.5 MB/s\u001b[0m eta \u001b[36m0:00:00\u001b[0m\n",
      "\u001b[2K   \u001b[90m━━━━━━━━━━━━━━━━━━━━━━━━━━━━━━━━━━━━━━━━\u001b[0m \u001b[32m326.4/326.4 MB\u001b[0m \u001b[31m4.8 MB/s\u001b[0m eta \u001b[36m0:00:00\u001b[0m\n",
      "\u001b[2K   \u001b[90m━━━━━━━━━━━━━━━━━━━━━━━━━━━━━━━━━━━━━━━━\u001b[0m \u001b[32m98.4/98.4 kB\u001b[0m \u001b[31m7.8 MB/s\u001b[0m eta \u001b[36m0:00:00\u001b[0m\n",
      "\u001b[2K   \u001b[90m━━━━━━━━━━━━━━━━━━━━━━━━━━━━━━━━━━━━━━━━\u001b[0m \u001b[32m111.0/111.0 kB\u001b[0m \u001b[31m10.5 MB/s\u001b[0m eta \u001b[36m0:00:00\u001b[0m\n",
      "\u001b[2K   \u001b[90m━━━━━━━━━━━━━━━━━━━━━━━━━━━━━━━━━━━━━━━━\u001b[0m \u001b[32m3.8/3.8 MB\u001b[0m \u001b[31m99.9 MB/s\u001b[0m eta \u001b[36m0:00:00\u001b[0m\n",
      "\u001b[2K   \u001b[90m━━━━━━━━━━━━━━━━━━━━━━━━━━━━━━━━━━━━━━━━\u001b[0m \u001b[32m87.6/87.6 kB\u001b[0m \u001b[31m6.2 MB/s\u001b[0m eta \u001b[36m0:00:00\u001b[0m\n",
      "\u001b[2K   \u001b[90m━━━━━━━━━━━━━━━━━━━━━━━━━━━━━━━━━━━━━━━━\u001b[0m \u001b[32m44.3/44.3 MB\u001b[0m \u001b[31m23.0 MB/s\u001b[0m eta \u001b[36m0:00:00\u001b[0m\n",
      "\u001b[2K   \u001b[90m━━━━━━━━━━━━━━━━━━━━━━━━━━━━━━━━━━━━━━━━\u001b[0m \u001b[32m4.8/4.8 MB\u001b[0m \u001b[31m99.2 MB/s\u001b[0m eta \u001b[36m0:00:00\u001b[0m\n",
      "\u001b[2K   \u001b[90m━━━━━━━━━━━━━━━━━━━━━━━━━━━━━━━━━━━━━━━━\u001b[0m \u001b[32m363.4/363.4 MB\u001b[0m \u001b[31m5.1 MB/s\u001b[0m eta \u001b[36m0:00:00\u001b[0m\n",
      "\u001b[2K   \u001b[90m━━━━━━━━━━━━━━━━━━━━━━━━━━━━━━━━━━━━━━━━\u001b[0m \u001b[32m13.8/13.8 MB\u001b[0m \u001b[31m108.9 MB/s\u001b[0m eta \u001b[36m0:00:00\u001b[0m\n",
      "\u001b[2K   \u001b[90m━━━━━━━━━━━━━━━━━━━━━━━━━━━━━━━━━━━━━━━━\u001b[0m \u001b[32m24.6/24.6 MB\u001b[0m \u001b[31m89.0 MB/s\u001b[0m eta \u001b[36m0:00:00\u001b[0m\n",
      "\u001b[2K   \u001b[90m━━━━━━━━━━━━━━━━━━━━━━━━━━━━━━━━━━━━━━━━\u001b[0m \u001b[32m883.7/883.7 kB\u001b[0m \u001b[31m52.4 MB/s\u001b[0m eta \u001b[36m0:00:00\u001b[0m\n",
      "\u001b[2K   \u001b[90m━━━━━━━━━━━━━━━━━━━━━━━━━━━━━━━━━━━━━━━━\u001b[0m \u001b[32m664.8/664.8 MB\u001b[0m \u001b[31m2.7 MB/s\u001b[0m eta \u001b[36m0:00:00\u001b[0m\n",
      "\u001b[2K   \u001b[90m━━━━━━━━━━━━━━━━━━━━━━━━━━━━━━━━━━━━━━━━\u001b[0m \u001b[32m211.5/211.5 MB\u001b[0m \u001b[31m6.5 MB/s\u001b[0m eta \u001b[36m0:00:00\u001b[0m\n",
      "\u001b[2K   \u001b[90m━━━━━━━━━━━━━━━━━━━━━━━━━━━━━━━━━━━━━━━━\u001b[0m \u001b[32m56.3/56.3 MB\u001b[0m \u001b[31m13.4 MB/s\u001b[0m eta \u001b[36m0:00:00\u001b[0m\n",
      "\u001b[2K   \u001b[90m━━━━━━━━━━━━━━━━━━━━━━━━━━━━━━━━━━━━━━━━\u001b[0m \u001b[32m127.9/127.9 MB\u001b[0m \u001b[31m7.6 MB/s\u001b[0m eta \u001b[36m0:00:00\u001b[0m\n",
      "\u001b[2K   \u001b[90m━━━━━━━━━━━━━━━━━━━━━━━━━━━━━━━━━━━━━━━━\u001b[0m \u001b[32m207.5/207.5 MB\u001b[0m \u001b[31m5.7 MB/s\u001b[0m eta \u001b[36m0:00:00\u001b[0m\n",
      "\u001b[2K   \u001b[90m━━━━━━━━━━━━━━━━━━━━━━━━━━━━━━━━━━━━━━━━\u001b[0m \u001b[32m21.1/21.1 MB\u001b[0m \u001b[31m104.3 MB/s\u001b[0m eta \u001b[36m0:00:00\u001b[0m\n",
      "\u001b[2K   \u001b[90m━━━━━━━━━━━━━━━━━━━━━━━━━━━━━━━━━━━━━━━━\u001b[0m \u001b[32m343.3/343.3 kB\u001b[0m \u001b[31m26.5 MB/s\u001b[0m eta \u001b[36m0:00:00\u001b[0m\n",
      "\u001b[2K   \u001b[90m━━━━━━━━━━━━━━━━━━━━━━━━━━━━━━━━━━━━━━━━\u001b[0m \u001b[32m207.5/207.5 kB\u001b[0m \u001b[31m19.3 MB/s\u001b[0m eta \u001b[36m0:00:00\u001b[0m\n",
      "\u001b[2K   \u001b[90m━━━━━━━━━━━━━━━━━━━━━━━━━━━━━━━━━━━━━━━━\u001b[0m \u001b[32m302.3/302.3 kB\u001b[0m \u001b[31m24.9 MB/s\u001b[0m eta \u001b[36m0:00:00\u001b[0m\n",
      "\u001b[2K   \u001b[90m━━━━━━━━━━━━━━━━━━━━━━━━━━━━━━━━━━━━━━━━\u001b[0m \u001b[32m491.4/491.4 kB\u001b[0m \u001b[31m35.5 MB/s\u001b[0m eta \u001b[36m0:00:00\u001b[0m\n",
      "\u001b[2K   \u001b[90m━━━━━━━━━━━━━━━━━━━━━━━━━━━━━━━━━━━━━━━━\u001b[0m \u001b[32m95.2/95.2 kB\u001b[0m \u001b[31m8.2 MB/s\u001b[0m eta \u001b[36m0:00:00\u001b[0m\n",
      "\u001b[2K   \u001b[90m━━━━━━━━━━━━━━━━━━━━━━━━━━━━━━━━━━━━━━━━\u001b[0m \u001b[32m94.4/94.4 kB\u001b[0m \u001b[31m8.5 MB/s\u001b[0m eta \u001b[36m0:00:00\u001b[0m\n",
      "\u001b[2K   \u001b[90m━━━━━━━━━━━━━━━━━━━━━━━━━━━━━━━━━━━━━━━━\u001b[0m \u001b[32m14.0/14.0 MB\u001b[0m \u001b[31m114.5 MB/s\u001b[0m eta \u001b[36m0:00:00\u001b[0m\n",
      "\u001b[2K   \u001b[90m━━━━━━━━━━━━━━━━━━━━━━━━━━━━━━━━━━━━━━━━\u001b[0m \u001b[32m44.2/44.2 kB\u001b[0m \u001b[31m3.9 MB/s\u001b[0m eta \u001b[36m0:00:00\u001b[0m\n",
      "\u001b[2K   \u001b[90m━━━━━━━━━━━━━━━━━━━━━━━━━━━━━━━━━━━━━━━━\u001b[0m \u001b[32m6.5/6.5 MB\u001b[0m \u001b[31m122.2 MB/s\u001b[0m eta \u001b[36m0:00:00\u001b[0m\n",
      "\u001b[2K   \u001b[90m━━━━━━━━━━━━━━━━━━━━━━━━━━━━━━━━━━━━━━━━\u001b[0m \u001b[32m61.5/61.5 kB\u001b[0m \u001b[31m5.1 MB/s\u001b[0m eta \u001b[36m0:00:00\u001b[0m\n",
      "\u001b[2K   \u001b[90m━━━━━━━━━━━━━━━━━━━━━━━━━━━━━━━━━━━━━━━━\u001b[0m \u001b[32m52.5/52.5 kB\u001b[0m \u001b[31m4.2 MB/s\u001b[0m eta \u001b[36m0:00:00\u001b[0m\n",
      "\u001b[2K   \u001b[90m━━━━━━━━━━━━━━━━━━━━━━━━━━━━━━━━━━━━━━━━\u001b[0m \u001b[32m109.5/109.5 kB\u001b[0m \u001b[31m9.4 MB/s\u001b[0m eta \u001b[36m0:00:00\u001b[0m\n",
      "\u001b[2K   \u001b[90m━━━━━━━━━━━━━━━━━━━━━━━━━━━━━━━━━━━━━━━━\u001b[0m \u001b[32m138.0/138.0 kB\u001b[0m \u001b[31m10.6 MB/s\u001b[0m eta \u001b[36m0:00:00\u001b[0m\n",
      "\u001b[2K   \u001b[90m━━━━━━━━━━━━━━━━━━━━━━━━━━━━━━━━━━━━━━━━\u001b[0m \u001b[32m162.1/162.1 kB\u001b[0m \u001b[31m12.1 MB/s\u001b[0m eta \u001b[36m0:00:00\u001b[0m\n",
      "\u001b[2K   \u001b[90m━━━━━━━━━━━━━━━━━━━━━━━━━━━━━━━━━━━━━━━━\u001b[0m \u001b[32m862.4/862.4 kB\u001b[0m \u001b[31m51.0 MB/s\u001b[0m eta \u001b[36m0:00:00\u001b[0m\n",
      "\u001b[2K   \u001b[90m━━━━━━━━━━━━━━━━━━━━━━━━━━━━━━━━━━━━━━━━\u001b[0m \u001b[32m68.4/68.4 MB\u001b[0m \u001b[31m10.3 MB/s\u001b[0m eta \u001b[36m0:00:00\u001b[0m\n",
      "\u001b[2K   \u001b[90m━━━━━━━━━━━━━━━━━━━━━━━━━━━━━━━━━━━━━━━━\u001b[0m \u001b[32m1.2/1.2 MB\u001b[0m \u001b[31m50.7 MB/s\u001b[0m eta \u001b[36m0:00:00\u001b[0m\n",
      "\u001b[2K   \u001b[90m━━━━━━━━━━━━━━━━━━━━━━━━━━━━━━━━━━━━━━━━\u001b[0m \u001b[32m318.9/318.9 kB\u001b[0m \u001b[31m20.7 MB/s\u001b[0m eta \u001b[36m0:00:00\u001b[0m\n",
      "\u001b[2K   \u001b[90m━━━━━━━━━━━━━━━━━━━━━━━━━━━━━━━━━━━━━━━━\u001b[0m \u001b[32m129.0/129.0 kB\u001b[0m \u001b[31m10.7 MB/s\u001b[0m eta \u001b[36m0:00:00\u001b[0m\n",
      "\u001b[2K   \u001b[90m━━━━━━━━━━━━━━━━━━━━━━━━━━━━━━━━━━━━━━━━\u001b[0m \u001b[32m76.1/76.1 MB\u001b[0m \u001b[31m10.1 MB/s\u001b[0m eta \u001b[36m0:00:00\u001b[0m\n",
      "\u001b[2K   \u001b[90m━━━━━━━━━━━━━━━━━━━━━━━━━━━━━━━━━━━━━━━━\u001b[0m \u001b[32m376.2/376.2 kB\u001b[0m \u001b[31m25.6 MB/s\u001b[0m eta \u001b[36m0:00:00\u001b[0m\n",
      "\u001b[2K   \u001b[90m━━━━━━━━━━━━━━━━━━━━━━━━━━━━━━━━━━━━━━━━\u001b[0m \u001b[32m3.6/3.6 MB\u001b[0m \u001b[31m90.1 MB/s\u001b[0m eta \u001b[36m0:00:00\u001b[0m\n",
      "\u001b[2K   \u001b[90m━━━━━━━━━━━━━━━━━━━━━━━━━━━━━━━━━━━━━━━━\u001b[0m \u001b[32m210.7/210.7 kB\u001b[0m \u001b[31m15.9 MB/s\u001b[0m eta \u001b[36m0:00:00\u001b[0m\n",
      "\u001b[2K   \u001b[90m━━━━━━━━━━━━━━━━━━━━━━━━━━━━━━━━━━━━━━━━\u001b[0m \u001b[32m422.8/422.8 kB\u001b[0m \u001b[31m26.0 MB/s\u001b[0m eta \u001b[36m0:00:00\u001b[0m\n",
      "\u001b[2K   \u001b[90m━━━━━━━━━━━━━━━━━━━━━━━━━━━━━━━━━━━━━━━━\u001b[0m \u001b[32m124.3/124.3 kB\u001b[0m \u001b[31m9.7 MB/s\u001b[0m eta \u001b[36m0:00:00\u001b[0m\n",
      "\u001b[2K   \u001b[90m━━━━━━━━━━━━━━━━━━━━━━━━━━━━━━━━━━━━━━━━\u001b[0m \u001b[32m454.8/454.8 kB\u001b[0m \u001b[31m25.7 MB/s\u001b[0m eta \u001b[36m0:00:00\u001b[0m\n",
      "\u001b[2K   \u001b[90m━━━━━━━━━━━━━━━━━━━━━━━━━━━━━━━━━━━━━━━━\u001b[0m \u001b[32m144.5/144.5 kB\u001b[0m \u001b[31m11.7 MB/s\u001b[0m eta \u001b[36m0:00:00\u001b[0m\n",
      "\u001b[2K   \u001b[90m━━━━━━━━━━━━━━━━━━━━━━━━━━━━━━━━━━━━━━━━\u001b[0m \u001b[32m116.3/116.3 kB\u001b[0m \u001b[31m8.1 MB/s\u001b[0m eta \u001b[36m0:00:00\u001b[0m\n",
      "\u001b[2K   \u001b[90m━━━━━━━━━━━━━━━━━━━━━━━━━━━━━━━━━━━━━━━━\u001b[0m \u001b[32m193.6/193.6 kB\u001b[0m \u001b[31m14.8 MB/s\u001b[0m eta \u001b[36m0:00:00\u001b[0m\n",
      "\u001b[2K   \u001b[90m━━━━━━━━━━━━━━━━━━━━━━━━━━━━━━━━━━━━━━━━\u001b[0m \u001b[32m53.6/53.6 MB\u001b[0m \u001b[31m14.4 MB/s\u001b[0m eta \u001b[36m0:00:00\u001b[0m\n",
      "\u001b[2K   \u001b[90m━━━━━━━━━━━━━━━━━━━━━━━━━━━━━━━━━━━━━━━━\u001b[0m \u001b[32m42.4/42.4 MB\u001b[0m \u001b[31m17.1 MB/s\u001b[0m eta \u001b[36m0:00:00\u001b[0m\n",
      "\u001b[2K   \u001b[90m━━━━━━━━━━━━━━━━━━━━━━━━━━━━━━━━━━━━━━━━\u001b[0m \u001b[32m143.5/143.5 kB\u001b[0m \u001b[31m11.1 MB/s\u001b[0m eta \u001b[36m0:00:00\u001b[0m\n",
      "\u001b[2K   \u001b[90m━━━━━━━━━━━━━━━━━━━━━━━━━━━━━━━━━━━━━━━━\u001b[0m \u001b[32m72.0/72.0 kB\u001b[0m \u001b[31m5.7 MB/s\u001b[0m eta \u001b[36m0:00:00\u001b[0m\n",
      "\u001b[2K   \u001b[90m━━━━━━━━━━━━━━━━━━━━━━━━━━━━━━━━━━━━━━━━\u001b[0m \u001b[32m62.5/62.5 kB\u001b[0m \u001b[31m4.9 MB/s\u001b[0m eta \u001b[36m0:00:00\u001b[0m\n",
      "\u001b[2K   \u001b[90m━━━━━━━━━━━━━━━━━━━━━━━━━━━━━━━━━━━━━━━━\u001b[0m \u001b[32m913.7/913.7 kB\u001b[0m \u001b[31m55.6 MB/s\u001b[0m eta \u001b[36m0:00:00\u001b[0m\n",
      "\u001b[2K   \u001b[90m━━━━━━━━━━━━━━━━━━━━━━━━━━━━━━━━━━━━━━━━\u001b[0m \u001b[32m45.5/45.5 kB\u001b[0m \u001b[31m3.5 MB/s\u001b[0m eta \u001b[36m0:00:00\u001b[0m\n",
      "\u001b[2K   \u001b[90m━━━━━━━━━━━━━━━━━━━━━━━━━━━━━━━━━━━━━━━━\u001b[0m \u001b[32m6.3/6.3 MB\u001b[0m \u001b[31m105.0 MB/s\u001b[0m eta \u001b[36m0:00:00\u001b[0m\n",
      "\u001b[2K   \u001b[90m━━━━━━━━━━━━━━━━━━━━━━━━━━━━━━━━━━━━━━━━\u001b[0m \u001b[32m194.8/194.8 kB\u001b[0m \u001b[31m16.9 MB/s\u001b[0m eta \u001b[36m0:00:00\u001b[0m\n",
      "\u001b[2K   \u001b[90m━━━━━━━━━━━━━━━━━━━━━━━━━━━━━━━━━━━━━━━━\u001b[0m \u001b[32m313.6/313.6 kB\u001b[0m \u001b[31m24.3 MB/s\u001b[0m eta \u001b[36m0:00:00\u001b[0m\n",
      "\u001b[2K   \u001b[90m━━━━━━━━━━━━━━━━━━━━━━━━━━━━━━━━━━━━━━━━\u001b[0m \u001b[32m459.8/459.8 kB\u001b[0m \u001b[31m33.0 MB/s\u001b[0m eta \u001b[36m0:00:00\u001b[0m\n",
      "\u001b[2K   \u001b[90m━━━━━━━━━━━━━━━━━━━━━━━━━━━━━━━━━━━━━━━━\u001b[0m \u001b[32m4.0/4.0 MB\u001b[0m \u001b[31m102.0 MB/s\u001b[0m eta \u001b[36m0:00:00\u001b[0m\n",
      "\u001b[?25h\u001b[31mERROR: pip's dependency resolver does not currently take into account all the packages that are installed. This behaviour is the source of the following dependency conflicts.\n",
      "distributed-ucxx-cu12 0.42.0 requires numba<0.61.0a0,>=0.59.1, but you have numba 0.61.2 which is incompatible.\n",
      "ydf 0.11.0 requires protobuf<6.0.0,>=5.29.1, but you have protobuf 3.20.3 which is incompatible.\n",
      "dask-cuda 25.2.0 requires numba<0.61.0a0,>=0.59.1, but you have numba 0.61.2 which is incompatible.\n",
      "cuml-cu12 25.2.1 requires numba<0.61.0a0,>=0.59.1, but you have numba 0.61.2 which is incompatible.\n",
      "grpcio-status 1.71.0 requires protobuf<6.0dev,>=5.26.1, but you have protobuf 3.20.3 which is incompatible.\n",
      "cudf-cu12 25.2.1 requires numba<0.61.0a0,>=0.59.1, but you have numba 0.61.2 which is incompatible.\n",
      "tensorflow-metadata 1.17.1 requires protobuf<6.0.0,>=4.25.2; python_version >= \"3.11\", but you have protobuf 3.20.3 which is incompatible.\n",
      "gcsfs 2025.3.2 requires fsspec==2025.3.2, but you have fsspec 2025.3.0 which is incompatible.\u001b[0m\u001b[31m\n",
      "\u001b[0m"
     ]
    }
   ],
   "source": [
    "!pip install --q unsloth vllm math_verify pypdf wandb"
   ]
  },
  {
   "cell_type": "markdown",
   "id": "32c7d259",
   "metadata": {},
   "source": [
    "Import needed packages"
   ]
  },
  {
   "cell_type": "code",
   "execution_count": null,
   "id": "3353d24d",
   "metadata": {},
   "outputs": [],
   "source": [
    "# Python standard library\n",
    "import os\n",
    "import re\n",
    "from typing import List\n",
    "\n",
    "# Third-party libraries\n",
    "import torch\n",
    "import warnings\n",
    "from datasets import load_dataset, Dataset\n",
    "from pypdf import PdfReader\n",
    "from sentence_transformers import CrossEncoder\n",
    "from transformers import AutoModelForCausalLM, AutoTokenizer, TextStreamer\n",
    "from trl import GRPOConfig, GRPOTrainer\n",
    "\n",
    "# Custom/project-specific libraries\n",
    "from math_verify import LatexExtractionConfig, parse, verify\n",
    "from unsloth import FastLanguageModel, is_bfloat16_supported"
   ]
  },
  {
   "cell_type": "markdown",
   "id": "908df310",
   "metadata": {},
   "source": [
    "Authenticate with your Hugging Face account to save and share your model directly from this notebook 🗝️."
   ]
  },
  {
   "cell_type": "code",
   "execution_count": null,
   "id": "2008ff99",
   "metadata": {},
   "outputs": [],
   "source": [
    "# set device\n",
    "device = \"cuda\" if torch.cuda.is_available() else \"cpu\" # set device to cuda if available\n",
    "\n",
    "# Set the huggingface token (get your token from https://huggingface.co/settings/tokens)\n",
    "os.environ[\"HF_TOKEN\"] = \"YOU API TOKEN\"\n",
    "\n",
    "# Set the wandb token (get your token from https://wandb.ai/authorize)\n",
    "os.environ[\"WANDB_API_KEY\"] = \"YOU API TOKEN\"\n",
    "\n",
    "# Ignore warnings\n",
    "warnings.filterwarnings(\"ignore\")"
   ]
  },
  {
   "cell_type": "markdown",
   "id": "f076e267",
   "metadata": {},
   "source": [
    "General Config"
   ]
  },
  {
   "cell_type": "code",
   "execution_count": null,
   "id": "3bbdba46",
   "metadata": {},
   "outputs": [],
   "source": [
    "# ----------------------------------------\n",
    "# ✅ Candidate 4-bit Models (memory-efficient, quantized)\n",
    "# ----------------------------------------\n",
    "# Note: These models are optimized with Unsloth's 4-bit quantization,\n",
    "# providing faster inference and lower memory usage on limited hardware.\n",
    "fourbit_models = [\n",
    "    # Qwen series (good performance, various sizes)\n",
    "    \"unsloth/Qwen3-1.7B-unsloth-bnb-4bit\",     # ✅ Smallest Qwen model, fast & memory-efficient\n",
    "    \"unsloth/Qwen3-4B-unsloth-bnb-4bit\",       # ⚖️ Middle ground\n",
    "    \"unsloth/Qwen3-8B-unsloth-bnb-4bit\",       # 💪 Better reasoning, more memory needed\n",
    "    \"unsloth/Qwen3-14B-unsloth-bnb-4bit\",      # 🚀 High performance, needs more compute\n",
    "    \"unsloth/Qwen3-32B-unsloth-bnb-4bit\",      # 🧠 Best accuracy but resource-intensive\n",
    "]\n",
    "# 🔗 More models: https://huggingface.co/unsloth\n",
    "\n",
    "# ----------------------------------------\n",
    "# ✅ Model Configuration\n",
    "# ----------------------------------------\n",
    "MODEL = \"unsloth/Qwen3-1.7B\"  # Default model for training/inference (change as needed)\n",
    "max_seq_length = 2048         # Allows longer reasoning chains (e.g., for math or code tasks)\n",
    "lora_rank = 32                # LoRA rank: higher values = better adaptation, more VRAM usage\n",
    "NEW_MODEL = \"Qwen3_1.7B-GRPO-math-reasoning\"\n",
    "\n",
    "# ----------------------------------------\n",
    "# ✅ Prompting Strategy\n",
    "# ----------------------------------------\n",
    "SYSTEM_PROMPT = \"\"\"\n",
    "Respond in the following format:\n",
    "/nothink\n",
    "<reasoning>\n",
    "Briefly explain your reasoning. Be concise and avoid unnecessary detail.\n",
    "</reasoning>\n",
    "<answer>\n",
    "answer here\n",
    "</answer>\n",
    "\"\"\"\n",
    "# ----------------------------------------\n",
    "# ✅ Dataset\n",
    "# ----------------------------------------\n",
    "DATASET = \"lighteval/MATH-Hard\"  # Benchmark dataset for evaluating math reasoning difficulty"
   ]
  },
  {
   "cell_type": "markdown",
   "id": "d8dbc91f",
   "metadata": {},
   "source": [
    "#### 2. Load Dataset 📁\n",
    "\n",
    "These models excel at tasks that require **complex reasoning**. A prime example is **mathematical problem-solving**, which often demands multi-step reasoning to arrive at a correct solution.\n",
    "\n",
    "For this project, we'll use the **lighteval/MATH-Hard** dataset on Hugging Face is a curated benchmark designed to evaluate large language models (LLMs) on challenging high school-level mathematics problems. It focuses exclusively on Level 5 questions from the original MATH dataset, which are the most difficult problems sourced from competitions like AMC 10/12 and AIME. These problems require multi-step reasoning and often involve algebra, geometry, number theory, and combinatorics."
   ]
  },
  {
   "cell_type": "code",
   "execution_count": null,
   "id": "2388303e",
   "metadata": {},
   "outputs": [
    {
     "data": {
      "application/vnd.jupyter.widget-view+json": {
       "model_id": "1f0762b1933e476cbacc760646176f3b",
       "version_major": 2,
       "version_minor": 0
      },
      "text/plain": [
       "README.md:   0%|          | 0.00/4.27k [00:00<?, ?B/s]"
      ]
     },
     "metadata": {},
     "output_type": "display_data"
    },
    {
     "data": {
      "application/vnd.jupyter.widget-view+json": {
       "model_id": "fde05f6ee07b4ef7b6d9cb1bb6f5082b",
       "version_major": 2,
       "version_minor": 0
      },
      "text/plain": [
       "algebra.jsonl:   0%|          | 0.00/412k [00:00<?, ?B/s]"
      ]
     },
     "metadata": {},
     "output_type": "display_data"
    },
    {
     "data": {
      "application/vnd.jupyter.widget-view+json": {
       "model_id": "69226a342a36414eb5a724bea1e783b6",
       "version_major": 2,
       "version_minor": 0
      },
      "text/plain": [
       "counting_and_probability.jsonl:   0%|          | 0.00/373k [00:00<?, ?B/s]"
      ]
     },
     "metadata": {},
     "output_type": "display_data"
    },
    {
     "data": {
      "application/vnd.jupyter.widget-view+json": {
       "model_id": "2c4519ee96f74a43b92f4f6dba9e55a4",
       "version_major": 2,
       "version_minor": 0
      },
      "text/plain": [
       "geometry.jsonl:   0%|          | 0.00/726k [00:00<?, ?B/s]"
      ]
     },
     "metadata": {},
     "output_type": "display_data"
    },
    {
     "data": {
      "application/vnd.jupyter.widget-view+json": {
       "model_id": "9b3f04e6878a4bb080c9f9d70edcc10c",
       "version_major": 2,
       "version_minor": 0
      },
      "text/plain": [
       "intermediate_algebra.jsonl:   0%|          | 0.00/568k [00:00<?, ?B/s]"
      ]
     },
     "metadata": {},
     "output_type": "display_data"
    },
    {
     "data": {
      "application/vnd.jupyter.widget-view+json": {
       "model_id": "1c274d26f00f4ecda0caf49cda7c2818",
       "version_major": 2,
       "version_minor": 0
      },
      "text/plain": [
       "number_theory.jsonl:   0%|          | 0.00/333k [00:00<?, ?B/s]"
      ]
     },
     "metadata": {},
     "output_type": "display_data"
    },
    {
     "data": {
      "application/vnd.jupyter.widget-view+json": {
       "model_id": "927edc5b3ae047a7865b3b3e1a931d82",
       "version_major": 2,
       "version_minor": 0
      },
      "text/plain": [
       "prealgebra.jsonl:   0%|          | 0.00/240k [00:00<?, ?B/s]"
      ]
     },
     "metadata": {},
     "output_type": "display_data"
    },
    {
     "data": {
      "application/vnd.jupyter.widget-view+json": {
       "model_id": "0edc7b5fc3f94536a7f68eca28b5d5ee",
       "version_major": 2,
       "version_minor": 0
      },
      "text/plain": [
       "precalculus.jsonl:   0%|          | 0.00/329k [00:00<?, ?B/s]"
      ]
     },
     "metadata": {},
     "output_type": "display_data"
    },
    {
     "data": {
      "application/vnd.jupyter.widget-view+json": {
       "model_id": "c1220708e0ce4235ad2a52de71b7d81b",
       "version_major": 2,
       "version_minor": 0
      },
      "text/plain": [
       "algebra.jsonl:   0%|          | 0.00/284k [00:00<?, ?B/s]"
      ]
     },
     "metadata": {},
     "output_type": "display_data"
    },
    {
     "data": {
      "application/vnd.jupyter.widget-view+json": {
       "model_id": "23eacbf19c4b4bdaa101215ec033cf64",
       "version_major": 2,
       "version_minor": 0
      },
      "text/plain": [
       "counting_and_probability.jsonl:   0%|          | 0.00/135k [00:00<?, ?B/s]"
      ]
     },
     "metadata": {},
     "output_type": "display_data"
    },
    {
     "data": {
      "application/vnd.jupyter.widget-view+json": {
       "model_id": "b4e3d5d2ecd14e878453215bf70f4d68",
       "version_major": 2,
       "version_minor": 0
      },
      "text/plain": [
       "geometry.jsonl:   0%|          | 0.00/227k [00:00<?, ?B/s]"
      ]
     },
     "metadata": {},
     "output_type": "display_data"
    },
    {
     "data": {
      "application/vnd.jupyter.widget-view+json": {
       "model_id": "114aa446b71144cf983ede0d588ceb2d",
       "version_major": 2,
       "version_minor": 0
      },
      "text/plain": [
       "intermediate_algebra.jsonl:   0%|          | 0.00/391k [00:00<?, ?B/s]"
      ]
     },
     "metadata": {},
     "output_type": "display_data"
    },
    {
     "data": {
      "application/vnd.jupyter.widget-view+json": {
       "model_id": "8f5c4707aaf548ff87bd69f9d04ed5dc",
       "version_major": 2,
       "version_minor": 0
      },
      "text/plain": [
       "number_theory.jsonl:   0%|          | 0.00/152k [00:00<?, ?B/s]"
      ]
     },
     "metadata": {},
     "output_type": "display_data"
    },
    {
     "data": {
      "application/vnd.jupyter.widget-view+json": {
       "model_id": "4ff55f29efdf4abd92bdb4e6e9549200",
       "version_major": 2,
       "version_minor": 0
      },
      "text/plain": [
       "prealgebra.jsonl:   0%|          | 0.00/179k [00:00<?, ?B/s]"
      ]
     },
     "metadata": {},
     "output_type": "display_data"
    },
    {
     "data": {
      "application/vnd.jupyter.widget-view+json": {
       "model_id": "d76367f3cc8141508e9261829ec47b59",
       "version_major": 2,
       "version_minor": 0
      },
      "text/plain": [
       "precalculus.jsonl:   0%|          | 0.00/242k [00:00<?, ?B/s]"
      ]
     },
     "metadata": {},
     "output_type": "display_data"
    },
    {
     "data": {
      "application/vnd.jupyter.widget-view+json": {
       "model_id": "b011faa8df7a4d96a126817730b58b94",
       "version_major": 2,
       "version_minor": 0
      },
      "text/plain": [
       "Generating train split: 0 examples [00:00, ? examples/s]"
      ]
     },
     "metadata": {},
     "output_type": "display_data"
    },
    {
     "data": {
      "application/vnd.jupyter.widget-view+json": {
       "model_id": "398c29ffaa4a460fb79f46fd9f1cdf7d",
       "version_major": 2,
       "version_minor": 0
      },
      "text/plain": [
       "Generating test split: 0 examples [00:00, ? examples/s]"
      ]
     },
     "metadata": {},
     "output_type": "display_data"
    },
    {
     "data": {
      "application/vnd.jupyter.widget-view+json": {
       "model_id": "0c5a988d2a5947c4b07d4c1947d9d791",
       "version_major": 2,
       "version_minor": 0
      },
      "text/plain": [
       "Map:   0%|          | 0/2304 [00:00<?, ? examples/s]"
      ]
     },
     "metadata": {},
     "output_type": "display_data"
    },
    {
     "data": {
      "application/vnd.jupyter.widget-view+json": {
       "model_id": "68edb3b0c7db473f906f66c212968d1d",
       "version_major": 2,
       "version_minor": 0
      },
      "text/plain": [
       "Map:   0%|          | 0/1324 [00:00<?, ? examples/s]"
      ]
     },
     "metadata": {},
     "output_type": "display_data"
    }
   ],
   "source": [
    "def get_math_questions(split=\"train\") -> Dataset:\n",
    "    # Load the raw dataset from the hub\n",
    "    data = load_dataset(DATASET, 'default')[split]\n",
    "    data = data.map(lambda x: {\n",
    "            'prompt': [\n",
    "                {'role': 'system', 'content': SYSTEM_PROMPT},\n",
    "                {'role': 'user', 'content': x['problem']}\n",
    "            ],\n",
    "            'answer': x['solution'],\n",
    "            'question': x['problem']\n",
    "        }).remove_columns(['problem', 'solution','level','type'])\n",
    "    return data\n",
    "\n",
    "# To get the three splits, call:\n",
    "train_dataset=  get_math_questions(split=\"train\")\n",
    "test_dataset =  get_math_questions(split=\"test\")\n"
   ]
  },
  {
   "cell_type": "code",
   "execution_count": null,
   "id": "03adcde4",
   "metadata": {},
   "outputs": [
    {
     "name": "stdout",
     "output_type": "stream",
     "text": [
      "train dataset Dataset({\n",
      "    features: ['prompt', 'answer', 'question'],\n",
      "    num_rows: 2304\n",
      "})\n",
      "test dataset Dataset({\n",
      "    features: ['prompt', 'answer', 'question'],\n",
      "    num_rows: 1324\n",
      "})\n",
      "train sample {'prompt': [{'content': '\\nRespond in the following format:\\n/nothink \\n<reasoning>\\nBriefly explain your reasoning. Be concise and avoid unnecessary detail.\\n</reasoning>\\n<answer>\\nanswer here\\n</answer>\\n', 'role': 'system'}, {'content': 'What is the range of the function $y = \\\\frac{x^2 + 3x + 2}{x+1}$?  (Express your answer using interval notation.)', 'role': 'user'}], 'answer': 'We can factor the numerator to get $y = \\\\frac{(x+1)(x+2)}{x+1}$. If we exclude the case where $x = -1$, the function is equivalent to $y = x+2$. However, because $x$ cannot equal $-1$, $y$ cannot equal 1. Therefore, the range is all real numbers except for 1, which we may write as $y \\\\in \\\\boxed{(-\\\\infty, 1)\\\\cup(1, \\\\infty)}.$', 'question': 'What is the range of the function $y = \\\\frac{x^2 + 3x + 2}{x+1}$?  (Express your answer using interval notation.)'}\n"
     ]
    }
   ],
   "source": [
    "print(\"train dataset\",train_dataset)\n",
    "print(\"test dataset\",test_dataset)\n",
    "print(\"train sample\",train_dataset[0])"
   ]
  },
  {
   "cell_type": "markdown",
   "id": "c267d62d",
   "metadata": {},
   "source": [
    "## 3. Post-Training the Base Model Using GRPO\n",
    "\n"
   ]
  },
  {
   "cell_type": "markdown",
   "id": "ee038e39",
   "metadata": {},
   "source": [
    "### 3.1 Loading the Baseline Model\n",
    "\n",
    "To begin, we'll load [Qwen/Qwen3-1.7B](https://huggingface.co/Qwen/Qwen3-1.7B). With only 1.7 billion parameters, it is lightweight and fits within the available resources. However, for better results, a larger [alternative](https://qwenlm.github.io/blog/qwen3/) should be considered.\n",
    "\n",
    "[Benchmark](https://dev.to/best_codes/qwen-3-benchmarks-comparisons-model-specifications-and-more-4hoa)\n",
    "\n"
   ]
  },
  {
   "cell_type": "code",
   "execution_count": null,
   "id": "7308ecf9",
   "metadata": {},
   "outputs": [
    {
     "name": "stdout",
     "output_type": "stream",
     "text": [
      "==((====))==  Unsloth 2025.4.7: Fast Qwen3 patching. Transformers: 4.51.3. vLLM: 0.8.5.post1.\n",
      "   \\\\   /|    Tesla T4. Num GPUs = 1. Max memory: 14.741 GB. Platform: Linux.\n",
      "O^O/ \\_/ \\    Torch: 2.6.0+cu124. CUDA: 7.5. CUDA Toolkit: 12.4. Triton: 3.2.0\n",
      "\\        /    Bfloat16 = FALSE. FA [Xformers = 0.0.29.post2. FA2 = False]\n",
      " \"-____-\"     Free license: http://github.com/unslothai/unsloth\n",
      "Unsloth: Fast downloading is enabled - ignore downloading bars which are red colored!\n"
     ]
    },
    {
     "data": {
      "application/vnd.jupyter.widget-view+json": {
       "model_id": "56b3bda4c8094dce9977b877b62d501f",
       "version_major": 2,
       "version_minor": 0
      },
      "text/plain": [
       "model.safetensors:   0%|          | 0.00/1.41G [00:00<?, ?B/s]"
      ]
     },
     "metadata": {},
     "output_type": "display_data"
    },
    {
     "data": {
      "application/vnd.jupyter.widget-view+json": {
       "model_id": "60073a70fb454cf8bcacdfc4a4970b57",
       "version_major": 2,
       "version_minor": 0
      },
      "text/plain": [
       "generation_config.json:   0%|          | 0.00/242 [00:00<?, ?B/s]"
      ]
     },
     "metadata": {},
     "output_type": "display_data"
    },
    {
     "data": {
      "application/vnd.jupyter.widget-view+json": {
       "model_id": "c129355d67324ee8a755146e14a5a81a",
       "version_major": 2,
       "version_minor": 0
      },
      "text/plain": [
       "tokenizer_config.json:   0%|          | 0.00/10.3k [00:00<?, ?B/s]"
      ]
     },
     "metadata": {},
     "output_type": "display_data"
    },
    {
     "data": {
      "application/vnd.jupyter.widget-view+json": {
       "model_id": "9404d01d7b8a482c977a86a9db1ab902",
       "version_major": 2,
       "version_minor": 0
      },
      "text/plain": [
       "vocab.json:   0%|          | 0.00/2.78M [00:00<?, ?B/s]"
      ]
     },
     "metadata": {},
     "output_type": "display_data"
    },
    {
     "data": {
      "application/vnd.jupyter.widget-view+json": {
       "model_id": "17bbe07d35e24142921584a731df0242",
       "version_major": 2,
       "version_minor": 0
      },
      "text/plain": [
       "merges.txt:   0%|          | 0.00/1.67M [00:00<?, ?B/s]"
      ]
     },
     "metadata": {},
     "output_type": "display_data"
    },
    {
     "data": {
      "application/vnd.jupyter.widget-view+json": {
       "model_id": "b60fa5b70fa04d418d08dba51c97d0b5",
       "version_major": 2,
       "version_minor": 0
      },
      "text/plain": [
       "added_tokens.json:   0%|          | 0.00/707 [00:00<?, ?B/s]"
      ]
     },
     "metadata": {},
     "output_type": "display_data"
    },
    {
     "data": {
      "application/vnd.jupyter.widget-view+json": {
       "model_id": "c02d38ee8a5a473fa57c55aac3015dc5",
       "version_major": 2,
       "version_minor": 0
      },
      "text/plain": [
       "special_tokens_map.json:   0%|          | 0.00/614 [00:00<?, ?B/s]"
      ]
     },
     "metadata": {},
     "output_type": "display_data"
    },
    {
     "data": {
      "application/vnd.jupyter.widget-view+json": {
       "model_id": "463e73ad15e94581a2b6897297822ab2",
       "version_major": 2,
       "version_minor": 0
      },
      "text/plain": [
       "tokenizer.json:   0%|          | 0.00/11.4M [00:00<?, ?B/s]"
      ]
     },
     "metadata": {},
     "output_type": "display_data"
    },
    {
     "data": {
      "application/vnd.jupyter.widget-view+json": {
       "model_id": "9aad7e2f7cd24bae9183c40d0973636e",
       "version_major": 2,
       "version_minor": 0
      },
      "text/plain": [
       "chat_template.jinja:   0%|          | 0.00/4.67k [00:00<?, ?B/s]"
      ]
     },
     "metadata": {},
     "output_type": "display_data"
    }
   ],
   "source": [
    "# Load the language model with optional 4-bit quantization and LoRA\n",
    "model, tokenizer = FastLanguageModel.from_pretrained(\n",
    "    model_name=MODEL,              # Name or path of the pretrained model\n",
    "    max_seq_length=max_seq_length,  # Sets maximum input size handled by the model\n",
    "    load_in_4bit=True,              # Use 4-bit quantization to save GPU memory and speed up inference\n",
    "    max_lora_rank=lora_rank,        # Sets the rank for the LoRA adaptation\n",
    "    full_finetuning=False,          # If True, fine-tunes all weights; if False, only fine-tunes LoRA layers\n",
    "    # fast_inference=True           # Optional: Enable vLLM-style fast inference (commented out here)\n",
    ")\n"
   ]
  },
  {
   "cell_type": "markdown",
   "id": "6bf0adb1",
   "metadata": {},
   "source": [
    "This model would normally require ~6.8 GB of memory (assuming 32-bit floating point: 1.7B × 4 bytes), However since we decided to apply Quantization(load_in_4bit=True)\n",
    "This reduces memory footprint by 8× compared to 32-bit:\n",
    "From 4 bytes per parameter → 0.5 bytes per parameter\n",
    "1.7B parameters × 0.5 bytes = ~0.85 GB"
   ]
  },
  {
   "cell_type": "code",
   "execution_count": null,
   "id": "b3827edf",
   "metadata": {},
   "outputs": [
    {
     "name": "stdout",
     "output_type": "stream",
     "text": [
      "trainable params: 37,872,640 || 1,720,574,976 || trainable%: 0.02\n"
     ]
    }
   ],
   "source": [
    "trainable_params = 0\n",
    "all_param = 0\n",
    "for _, param in model.named_parameters():\n",
    "    num_params = param.numel()\n",
    "    # if using DS Zero 3 and the weights are initialized empty\n",
    "    if num_params == 0 and hasattr(param, \"ds_numel\"):\n",
    "        num_params = param.ds_numel\n",
    "\n",
    "    # Due to the design of 4bit linear layers from bitsandbytes\n",
    "    # one needs to multiply the number of parameters by 2 to get\n",
    "    # the correct number of parameters\n",
    "    if param.__class__.__name__ == \"Params4bit\":\n",
    "        if hasattr(param, \"element_size\"):\n",
    "            num_bytes = param.element_size()\n",
    "        elif not hasattr(param, \"quant_storage\"):\n",
    "            num_bytes = 1\n",
    "        else:\n",
    "            num_bytes = param.quant_storage.itemsize\n",
    "        num_params = num_params * 2 * num_bytes\n",
    "\n",
    "    all_param += num_params\n",
    "    if param.requires_grad:\n",
    "        trainable_params += num_params\n",
    "\n",
    "print(f\"trainable params: {trainable_params:,} || {all_param:,} || trainable%: {trainable_params/all_param:.2f}\")\n"
   ]
  },
  {
   "cell_type": "markdown",
   "id": "e64482c3",
   "metadata": {},
   "source": [
    "### 3.2 Configuring LoRA\n",
    "\n",
    "Next, we will configure LoRA for model training. This technique will allow us to efficiently fine-tune the model with a reduced number of parameters, enabling faster and more resource-efficient training."
   ]
  },
  {
   "cell_type": "code",
   "execution_count": null,
   "id": "72f3df1c",
   "metadata": {},
   "outputs": [
    {
     "name": "stderr",
     "output_type": "stream",
     "text": [
      "Unsloth 2025.4.7 patched 28 layers with 28 QKV layers, 28 O layers and 28 MLP layers.\n"
     ]
    }
   ],
   "source": [
    "# Apply LoRA (Low-Rank Adaptation) using PEFT to the base model\n",
    "model = FastLanguageModel.get_peft_model(\n",
    "    model,\n",
    "\n",
    "    r=lora_rank,  # LoRA rank: Controls number of trainable parameters. Common values are 8, 16, 32, 64.\n",
    "                  # Higher rank → more capacity to adapt → better accuracy but slower and more memory usage.\n",
    "\n",
    "    target_modules=[\n",
    "        \"q_proj\", \"k_proj\", \"v_proj\", \"o_proj\",        # Attention projections\n",
    "        \"gate_proj\", \"up_proj\", \"down_proj\"           # Feed-forward projections\n",
    "    ],\n",
    "    # These modules are typically the most sensitive and impactful in transformer adaptation.\n",
    "\n",
    "    lora_alpha=lora_rank,  # Scaling factor for LoRA updates. Alpha = rank or 2×rank is a common rule of thumb.\n",
    "\n",
    "    lora_dropout=0,        # Dropout applied to LoRA layers.\n",
    "                           # 0 is best for most tasks and is optimized in frameworks like Unsloth.\n",
    "\n",
    "    bias=\"none\",           # Bias configuration: \"none\", \"all\", or \"lora_only\".\n",
    "                           # \"none\" is memory-efficient and recommended when biases don’t significantly affect results.\n",
    "\n",
    "    use_gradient_checkpointing=\"unsloth\",  # Use gradient checkpointing to save memory during backpropagation.\n",
    "                                           # \"unsloth\" mode is optimized for long-context tasks (e.g., long reasoning chains).\n",
    "\n",
    "    random_state=3407,     # Ensures reproducibility of LoRA weight initialization.\n",
    "\n",
    "    use_rslora=False,      # If True, enables Rank-Stabilized LoRA (adds rank flexibility).\n",
    "                           # Off here to keep configuration standard and stable.\n",
    "\n",
    "    loftq_config=None      # Optional: If using LoftQ quantization-aware LoRA training.\n",
    "                           # Not used here — defaulting to standard LoRA without LoftQ.\n",
    ")\n"
   ]
  },
  {
   "cell_type": "code",
   "execution_count": null,
   "id": "186e01b2",
   "metadata": {},
   "outputs": [
    {
     "name": "stdout",
     "output_type": "stream",
     "text": [
      "trainable params: 34,865,152 || all params: 1,755,440,128 || trainable%: 1.9861\n"
     ]
    }
   ],
   "source": [
    "model.print_trainable_parameters()\n"
   ]
  },
  {
   "cell_type": "markdown",
   "id": "a9a08359",
   "metadata": {},
   "source": [
    "There was a significant reduction in traing size from  37,872,640 to  34,865,152, due to LORA (Low-Rank Adaptation), it is a parameter-efficient fine-tuning method that dramatically reduces the number of trainable parameters while maintaining performance. Here's how to understand and calculate its parameter efficiency.\n",
    "\n",
    "How LoRA Works\n",
    "\n",
    "Instead of updating the entire weight matrix during fine-tuning, LoRA approximates weight updates using low-rank decomposition:\n",
    "W' = W + ΔW = W + BA\n",
    "Where:\n",
    "\n",
    "- W is the original weight matrix (dimensions m×n)\n",
    "- B is a matrix of dimension m×r\n",
    "- A is a matrix of dimension r×n\n",
    "- r is the rank (much smaller than m and n) (32 in this case)\n",
    "\n",
    "Calculating Parameter Reduction\n",
    "\n",
    "For each weight matrix W with dimensions m×n:\n",
    "\n",
    "Full fine-tuning parameters: m×n\n",
    "LoRA parameters: r(m+n) = (m×r) + (r×n)\n",
    "\n",
    "For example, if you have a weight matrix of size 4096×4096 and r=16:\n",
    "\n",
    "Full parameters: 4096×4096 = 16,777,216\n",
    "LoRA parameters: 16×(4096+4096) = 131,072\n",
    "Reduction: ~99.2%\n",
    "![image](https://substackcdn.com/image/fetch/w_1456,c_limit,f_webp,q_auto:good,fl_progressive:steep/https%3A%2F%2Fsubstack-post-media.s3.amazonaws.com%2Fpublic%2Fimages%2F5dfbd169-eb7e-41e1-a050-556ccd6fb679_1600x672.png)"
   ]
  },
  {
   "cell_type": "markdown",
   "id": "7ed390e9",
   "metadata": {},
   "source": [
    "### 3.3 Loading Reward Functions\n",
    "In Group Relative Policy Optimization (GRPO), reward functions are essential because they guide the preference-based optimization of the policy by comparing the quality of generated outputs within a group. Unlike standard Reinforcement Learning (RL), where absolute rewards are assigned to single actions or trajectories, GRPO relies on relative comparisons—often derived from human preferences or heuristics—to update the policy.\n",
    "In this case, we will utilize these reward functions:\n",
    "\n",
    "1. **Format Enforcement:** Ensures that the generation follows a specific format using `<think> </think> <answer> </answer>` tags for reasoning.  "
   ]
  },
  {
   "cell_type": "code",
   "execution_count": null,
   "id": "51a975ee",
   "metadata": {},
   "outputs": [],
   "source": [
    "def tag_presence_reward(completions: List[dict], **kwargs) -> List[float]:\n",
    "    \"\"\"Reward for presence of <reasoning> and <answer> tags\"\"\"\n",
    "\n",
    "    print(completions[0])\n",
    "    rewards = []\n",
    "    for completion in completions:\n",
    "        content = completion[0]['content']\n",
    "        has_reasoning = bool(re.search(r'<reasoning>.*?</reasoning>', content, re.DOTALL))\n",
    "        has_answer = bool(re.search(r'<answer>.*?</answer>', content, re.DOTALL))\n",
    "        reward = 0.5 * has_reasoning + 0.5 * has_answer\n",
    "        rewards.append(reward)\n",
    "    return rewards"
   ]
  },
  {
   "cell_type": "markdown",
   "id": "c83b0968",
   "metadata": {},
   "source": [
    "2. **Solution Accuracy:** Verifies that checks whether each generated model completion matches the expected ground truth solution. If the model's output matches the gold solution (e.g., mathematical expression), it rewards the completion; otherwise, it assigns a penalty (0.0 or near 0). This helps reinforce accurate model behavior in tasks where precision is crucial, such as solving math problems or parsing structured data.correct."
   ]
  },
  {
   "cell_type": "code",
   "execution_count": null,
   "id": "95ce7ab5",
   "metadata": {},
   "outputs": [],
   "source": [
    "def accuracy_reward(completions:List[dict], **kwargs)-> List[float]:\n",
    "    \"\"\"Reward function that checks if the completion is the same as the ground truth.\"\"\"\n",
    "    solutions = kwargs['answer']\n",
    "    completion_contents = [completion[0][\"content\"] for completion in completions]\n",
    "    rewards = []\n",
    "    for content, solution in zip(completion_contents, solutions):\n",
    "        gold_parsed = parse(solution, extraction_mode=\"first_match\", extraction_config=[LatexExtractionConfig()])\n",
    "        answer_parsed = parse(content, extraction_mode=\"first_match\", extraction_config=[LatexExtractionConfig()])\n",
    "        if len(gold_parsed) != 0:\n",
    "            try:\n",
    "                rewards.append(float(verify(answer_parsed, gold_parsed)))\n",
    "            except Exception:\n",
    "                rewards.append(0.0)\n",
    "        else:\n",
    "            rewards.append(1.0)\n",
    "    return rewards"
   ]
  },
  {
   "cell_type": "markdown",
   "id": "a57b8bfe",
   "metadata": {},
   "source": [
    "3. **Semantic correctness:** reward uses a cross-encoder model (cross-encoder/stsb-roberta-base) to evaluate the similarity between generated responses and reference answers. When no valid answer is extracted (i.e., an empty response), the function assigns a reward of -1.0 to indicate failure in producing an answer."
   ]
  },
  {
   "cell_type": "code",
   "execution_count": null,
   "id": "ba7b553e",
   "metadata": {},
   "outputs": [],
   "source": [
    "def semantic_correctness(completions: List[str], **kwargs) -> List[float]:\n",
    "    \"\"\"answers semantic similarity using cross-encoder\"\"\"\n",
    "    answers = kwargs['answer']\n",
    "    model_ss = CrossEncoder('cross-encoder/stsb-roberta-base', device=device)\n",
    "    responses = [completion[0][\"content\"] for completion in completions]\n",
    "    inputs = list(zip(responses, answers))\n",
    "    with torch.no_grad():\n",
    "        similarities = model_ss.predict(inputs, show_progress_bar=False)\n",
    "        similarities = torch.tensor(similarities).clone().tolist()\n",
    "        # Set similarity to -1 if the response is an empty string\n",
    "        similarities = [-1.0 if response == \"\" else similarity for response, similarity in zip(responses, similarities)]\n",
    "        return similarities"
   ]
  },
  {
   "cell_type": "markdown",
   "id": "9a137356",
   "metadata": {},
   "source": [
    "==> Infer the original model on a a given question (to test the generation config)"
   ]
  },
  {
   "cell_type": "code",
   "execution_count": null,
   "id": "9ddca4fb",
   "metadata": {},
   "outputs": [
    {
     "name": "stdout",
     "output_type": "stream",
     "text": [
      "<reasoning>\n",
      "To find the $y$-coordinate of the point on the $y$-axis equidistant from points $A(-2, 0)$ and $B(-1, 4)$, we set up the equation of equidistance. Let the point be $(0, y)$. The distance from $(0, y)$ to $A(-2, 0)$ is $\\sqrt{(-2 - 0)^2 + (0 - y)^2} = \\sqrt{4 + y^2}$. The distance from $(0, y)$ to $B(-1, 4)$ is $\\sqrt{(-1 - 0)^2 + (4 - y)^2} = \\sqrt{1 + (4 - y)^2}$. Setting these equal: $\\sqrt{4 + y^2} = \\sqrt{1 + (4 - y)^2}$. Squaring both sides: $4 + y^2 = 1 + (4 - y)^2$. Simplifying: $4 + y^2 = 1 + 16 - 8y + y^2$. Cancel $y^2$ and simplify: $4 = 17 - 8y$. Solving: $8y = 13$, so $y = \\frac{13}{8}$. The answer is $\\frac{13}{8}$.\n",
      "</reasoning>\n",
      "<answer>\n",
      "$\\frac{13}{8}$\n",
      "</answer><|im_end|>\n"
     ]
    }
   ],
   "source": [
    "# text = \"Find all values of $x$ that satisfy the equation $|x-3|=2x+4$. Express your answers in simplest fractional form.\"\n",
    "messages = [\n",
    "            {'role': 'system', 'content': SYSTEM_PROMPT},\n",
    "            {'role': 'user', 'content': train_dataset[5]['question']}\n",
    "        ]\n",
    "text = tokenizer.apply_chat_template(\n",
    "    messages,\n",
    "    tokenize = False,\n",
    "    add_generation_prompt = True, # Must add for generation\n",
    "    enable_thinking = False, # Disable thinking\n",
    ")\n",
    "\n",
    "_ = model.generate(\n",
    "    **tokenizer(text, return_tensors = \"pt\").to(\"cuda\"),\n",
    "    max_new_tokens = 2048, # Increase for longer outputs!\n",
    "    temperature = 0.7, top_p = 0.8, top_k = 20, # For non thinking\n",
    "    streamer = TextStreamer(tokenizer, skip_prompt = True),\n",
    ")"
   ]
  },
  {
   "cell_type": "markdown",
   "id": "655fc4e4",
   "metadata": {},
   "source": [
    "### 3.4 Configuring GRPO Training Parameters\n",
    "\n",
    "To keep things simple, we’ll start by training for just one epoch and reducing the `max_completion_length`, `num_generations`, and `max_prompt_length` from their default values."
   ]
  },
  {
   "cell_type": "code",
   "execution_count": null,
   "id": "92e6b51b",
   "metadata": {},
   "outputs": [
    {
     "name": "stdout",
     "output_type": "stream",
     "text": [
      "Unsloth: We now expect `per_device_train_batch_size` to be a multiple of `num_generations`.\n",
      "We will change the batch size of 1 to the `num_generations` of 8\n"
     ]
    }
   ],
   "source": [
    "\n",
    "# Configuration for the GRPO training setup\n",
    "training_args = GRPOConfig(\n",
    "    # use_vllm=True,  # Optional: Use vLLM for fast inference, but not compatible with Qwen 3 models (commented out)\n",
    "\n",
    "    lr_scheduler_type=\"cosine\",  # Cosine learning rate scheduler for smooth and natural decaying\n",
    "                                # Good for tasks where we want gradual adjustments of the learning rate.\n",
    "\n",
    "    per_device_train_batch_size=1,  # Batch size per GPU; 1 for memory efficiency on small GPUs like T4\n",
    "                                    # Larger batch size will use more memory but may speed up training.\n",
    "\n",
    "    gradient_accumulation_steps=1,  # Number of steps to accumulate gradients before performing an update.\n",
    "                                    # Increase this if you want larger effective batch sizes without running out of memory.\n",
    "\n",
    "    warmup_steps=5,  # Number of steps to warm-up the learning rate. A small value for a quick adjustment.\n",
    "                    # You may want to adjust this if the model's training is unstable at the start.\n",
    "\n",
    "    max_steps=50,  # Number of training steps. Typically set based on your available compute and the model’s convergence speed.\n",
    "                   # For long training runs, this may need to be adjusted for fine-grained control.\n",
    "\n",
    "    learning_rate=2e-4,  # Base learning rate. A moderate value to start with; can be reduced (e.g., to 2e-5) for longer runs.\n",
    "                         # Lower values tend to work better for large models or fine-tuning tasks.\n",
    "\n",
    "    optim=\"adamw_8bit\",  # Use 8-bit AdamW optimizer to save memory and speed up training.\n",
    "                         # Good choice for larger models where memory and speed are concerns.\n",
    "\n",
    "    max_grad_norm=0.1,  # Gradient clipping to prevent exploding gradients; 0.1 is a standard value.\n",
    "                       # You can adjust if training becomes unstable or to improve convergence.\n",
    "\n",
    "    max_prompt_length=500,  # Maximum input length (tokens) for the model’s prompt.\n",
    "                           # Useful to control memory usage and ensure you don’t exceed model’s input limit.\n",
    "\n",
    "    max_completion_length=1024,  # Maximum output length (tokens) for generated completions.\n",
    "                               # Adjust according to the expected complexity or verbosity of the model’s response.\n",
    "\n",
    "    seed=3407,  # Random seed for reproducibility of experiments.\n",
    "\n",
    "    report_to=\"wandb\",  # Reporting to Weights & Biases\n",
    "\n",
    "    output_dir=\"qwen3_1_7B_grpo_math\",  # Directory where model checkpoints and logs are saved.\n",
    "                             # You can adjust this to store results in a more appropriate location.\n",
    ")"
   ]
  },
  {
   "cell_type": "markdown",
   "id": "14041845",
   "metadata": {},
   "source": [
    " Another interesting parameter is reward_weights in order to Weights for each reward function. Must match the number of reward functions. If `None`, all \"\n",
    "            \"rewards are weighted equally with weight `1.0`.\"\n",
    "    "
   ]
  },
  {
   "cell_type": "markdown",
   "id": "7f2c1db5",
   "metadata": {},
   "source": [
    "### 3.5 Training the Model 🏃\n",
    "\n",
    "Now, let's configure the trainer and start training the model!\n"
   ]
  },
  {
   "cell_type": "code",
   "execution_count": null,
   "id": "6768699a",
   "metadata": {},
   "outputs": [],
   "source": [
    "# Initialize the GRPOTrainer with the necessary configurations\n",
    "trainer = GRPOTrainer(\n",
    "    model=model,  # Pretrained language model that will be fine-tuned during training.\n",
    "\n",
    "    processing_class=tokenizer,  # Tokenizer used to process input text for the model.\n",
    "                                 # Ensures proper encoding and decoding of text into model-friendly formats.\n",
    "\n",
    "    reward_funcs=[               # List of reward functions to evaluate and optimize the model’s outputs.\n",
    "        tag_presence_reward,     # Reward function focusing on the presence of specific tags or keywords.\n",
    "        semantic_correctness,    # Reward function evaluating how semantically accurate the model’s response is.\n",
    "        accuracy_reward          # Reward function for the accuracy of model predictions, based on ground truth.\n",
    "    ],\n",
    "\n",
    "    args=training_args,          # Training configurations such as batch size, learning rate, etc. (from previous GRPOConfig).\n",
    "\n",
    "    train_dataset=train_dataset, # Training dataset used to fine-tune the model.\n",
    "                                # Should contain relevant examples for the task the model is being adapted for.\n",
    ")"
   ]
  },
  {
   "cell_type": "markdown",
   "id": "66195230",
   "metadata": {},
   "source": [
    "These settings are tuned to reduce hallucinations while preserving fluency and diversity, which is critical for math-heavy or logic-intensive datasets like lighteval/MATH-Hard.\n"
   ]
  },
  {
   "cell_type": "code",
   "execution_count": null,
   "id": "c6eb34a2",
   "metadata": {},
   "outputs": [],
   "source": [
    "# Modify the generation config\n",
    "trainer.generation_config.temperature = 0.7\n",
    "trainer.generation_config.top_p = 0.8\n",
    "trainer.generation_config.top_k = 20"
   ]
  },
  {
   "cell_type": "code",
   "execution_count": null,
   "id": "93226492",
   "metadata": {},
   "outputs": [
    {
     "name": "stderr",
     "output_type": "stream",
     "text": [
      "==((====))==  Unsloth - 2x faster free finetuning | Num GPUs used = 1\n",
      "   \\\\   /|    Num examples = 2,304 | Num Epochs = 1 | Total steps = 50\n",
      "O^O/ \\_/ \\    Batch size per device = 8 | Gradient accumulation steps = 1\n",
      "\\        /    Data Parallel GPUs = 1 | Total batch size (8 x 1 x 1) = 8\n",
      " \"-____-\"     Trainable parameters = 34,865,152/7,000,000,000 (0.50% trained)\n",
      "\u001b[34m\u001b[1mwandb\u001b[0m: \u001b[33mWARNING\u001b[0m The `run_name` is currently set to the same value as `TrainingArguments.output_dir`. If this was not intended, please specify a different run name by setting the `TrainingArguments.run_name` parameter.\n",
      "\u001b[34m\u001b[1mwandb\u001b[0m: Currently logged in as: \u001b[33mafaf\u001b[0m to \u001b[32mhttps://api.wandb.ai\u001b[0m. Use \u001b[1m`wandb login --relogin`\u001b[0m to force relogin\n"
     ]
    },
    {
     "data": {
      "text/html": [
       "Tracking run with wandb version 0.19.10"
      ],
      "text/plain": [
       "<IPython.core.display.HTML object>"
      ]
     },
     "metadata": {},
     "output_type": "display_data"
    },
    {
     "data": {
      "text/html": [
       "Run data is saved locally in <code>/content/wandb/run-20250506_120458-tm7v4c7b</code>"
      ],
      "text/plain": [
       "<IPython.core.display.HTML object>"
      ]
     },
     "metadata": {},
     "output_type": "display_data"
    },
    {
     "data": {
      "text/html": [
       "Syncing run <strong><a href='https://wandb.ai/afaf/huggingface/runs/tm7v4c7b' target=\"_blank\">qwen3_1_7B_grpo_math</a></strong> to <a href='https://wandb.ai/afaf/huggingface' target=\"_blank\">Weights & Biases</a> (<a href='https://wandb.me/developer-guide' target=\"_blank\">docs</a>)<br>"
      ],
      "text/plain": [
       "<IPython.core.display.HTML object>"
      ]
     },
     "metadata": {},
     "output_type": "display_data"
    },
    {
     "data": {
      "text/html": [
       " View project at <a href='https://wandb.ai/afaf/huggingface' target=\"_blank\">https://wandb.ai/afaf/huggingface</a>"
      ],
      "text/plain": [
       "<IPython.core.display.HTML object>"
      ]
     },
     "metadata": {},
     "output_type": "display_data"
    },
    {
     "data": {
      "text/html": [
       " View run at <a href='https://wandb.ai/afaf/huggingface/runs/tm7v4c7b' target=\"_blank\">https://wandb.ai/afaf/huggingface/runs/tm7v4c7b</a>"
      ],
      "text/plain": [
       "<IPython.core.display.HTML object>"
      ]
     },
     "metadata": {},
     "output_type": "display_data"
    },
    {
     "name": "stderr",
     "output_type": "stream",
     "text": [
      "`generation_config` default values have been modified to match model-specific defaults: {'max_length': 40960, 'bos_token_id': 151643, 'eos_token_id': [151645, 151643]}. If this is not desired, please set these values explicitly.\n"
     ]
    },
    {
     "name": "stdout",
     "output_type": "stream",
     "text": [
      "[{'role': 'assistant', 'content': '<think>\\n\\n</think>\\n\\nWe are given the equation:\\n\\n$$\\n\\\\frac{x}{y} + \\\\frac{y}{x} = 6\\n$$\\n\\nLet’s rewrite this as:\\n\\n$$\\n\\\\frac{x^2 + y^2}{xy} = 6\\n$$\\n\\nMultiply both sides by $xy$:\\n\\n$$\\nx^2 + y^2 = 6xy\\n$$\\n\\nRearranging:\\n\\n$$\\nx^2 - 6xy + y^2 = 0\\n$$\\n\\nThis is a quadratic in $x$:\\n\\n$$\\nx^2 - 6y x + y^2 = 0\\n$$\\n\\nUse the quadratic formula:\\n\\n$$\\nx = \\\\frac{6y \\\\pm \\\\sqrt{(6y)^2 - 4(1)(y^2)}}{2}\\n= \\\\frac{6y \\\\pm \\\\sqrt{36y^2 - 4y^2}}{2}\\n= \\\\frac{6y \\\\pm \\\\sqrt{32y^2}}{2}\\n= \\\\frac{6y \\\\pm 4y\\\\sqrt{2}}{2}\\n= 3y \\\\pm 2y\\\\sqrt{2}\\n$$\\n\\nSo the two solutions are:\\n\\n$$\\nx = y(3 + 2\\\\sqrt{2}) \\\\quad \\\\text{and} \\\\quad x = y(3 - 2\\\\sqrt{2})\\n$$\\n\\nSince $y > x > 0$, we take the smaller value of $x$:\\n\\n$$\\nx = y(3 - 2\\\\sqrt{2})\\n$$\\n\\nNow compute $\\\\frac{x + y}{x - y}$:\\n\\n$$\\n\\\\frac{x + y}{x - y} = \\\\frac{y(3 - 2\\\\sqrt{2}) + y}{y(3 - 2\\\\sqrt{2}) - y}\\n= \\\\frac{y(3 - 2\\\\sqrt{2} + 1)}{y(3 - 2\\\\sqrt{2} - 1)}\\n= \\\\frac{4 - 2\\\\sqrt{2}}{2 - 2\\\\sqrt{2}}\\n$$\\n\\nFactor numerator and denominator:\\n\\n$$\\n= \\\\frac{2(2 - \\\\sqrt{2})}{2(1 - \\\\sqrt{2})}\\n= \\\\frac{2 - \\\\sqrt{2}}{1 - \\\\sqrt{2}}\\n$$\\n\\nMultiply numerator and denominator by $1 + \\\\sqrt{2}$:\\n\\n$$\\n= \\\\frac{(2 - \\\\sqrt{2})(1 + \\\\sqrt{2})}{(1 - \\\\sqrt{2})(1 + \\\\sqrt{2})}\\n= \\\\frac{2(1) + 2\\\\sqrt{2} - \\\\sqrt{2} - (\\\\sqrt{2})^2}{1 - 2}\\n= \\\\frac{2 + \\\\sqrt{2} - 2}{-1}\\n= \\\\frac{\\\\sqrt{2}}{-1}\\n= -\\\\sqrt{2}\\n$$\\n\\n### Final Answer:\\n$$\\n\\\\boxed{-\\\\sqrt{2}}\\n$$'}]\n"
     ]
    },
    {
     "data": {
      "application/vnd.jupyter.widget-view+json": {
       "model_id": "6e728fa7f0304fe793f1bf3c44c28a21",
       "version_major": 2,
       "version_minor": 0
      },
      "text/plain": [
       "config.json:   0%|          | 0.00/608 [00:00<?, ?B/s]"
      ]
     },
     "metadata": {},
     "output_type": "display_data"
    },
    {
     "data": {
      "application/vnd.jupyter.widget-view+json": {
       "model_id": "cdfd3f79c18b4f8587b636919e5c1653",
       "version_major": 2,
       "version_minor": 0
      },
      "text/plain": [
       "model.safetensors:   0%|          | 0.00/499M [00:00<?, ?B/s]"
      ]
     },
     "metadata": {},
     "output_type": "display_data"
    },
    {
     "data": {
      "application/vnd.jupyter.widget-view+json": {
       "model_id": "00ee37e9597048ceb277b411ce119e4c",
       "version_major": 2,
       "version_minor": 0
      },
      "text/plain": [
       "tokenizer_config.json:   0%|          | 0.00/1.33k [00:00<?, ?B/s]"
      ]
     },
     "metadata": {},
     "output_type": "display_data"
    },
    {
     "data": {
      "application/vnd.jupyter.widget-view+json": {
       "model_id": "a548e304620646258d3fb0a30d155c7c",
       "version_major": 2,
       "version_minor": 0
      },
      "text/plain": [
       "vocab.json:   0%|          | 0.00/798k [00:00<?, ?B/s]"
      ]
     },
     "metadata": {},
     "output_type": "display_data"
    },
    {
     "data": {
      "application/vnd.jupyter.widget-view+json": {
       "model_id": "3289c3a068bf4903965c495163279a0f",
       "version_major": 2,
       "version_minor": 0
      },
      "text/plain": [
       "merges.txt:   0%|          | 0.00/456k [00:00<?, ?B/s]"
      ]
     },
     "metadata": {},
     "output_type": "display_data"
    },
    {
     "data": {
      "application/vnd.jupyter.widget-view+json": {
       "model_id": "275ceed926d84faf9a6efd8b13bbbb68",
       "version_major": 2,
       "version_minor": 0
      },
      "text/plain": [
       "tokenizer.json:   0%|          | 0.00/3.56M [00:00<?, ?B/s]"
      ]
     },
     "metadata": {},
     "output_type": "display_data"
    },
    {
     "data": {
      "application/vnd.jupyter.widget-view+json": {
       "model_id": "52277f6ff7024022b4bc7402d3843992",
       "version_major": 2,
       "version_minor": 0
      },
      "text/plain": [
       "special_tokens_map.json:   0%|          | 0.00/1.01k [00:00<?, ?B/s]"
      ]
     },
     "metadata": {},
     "output_type": "display_data"
    },
    {
     "data": {
      "text/html": [
       "\n",
       "    <div>\n",
       "      \n",
       "      <progress value='50' max='50' style='width:300px; height:20px; vertical-align: middle;'></progress>\n",
       "      [50/50 1:07:21, Epoch 0/1]\n",
       "    </div>\n",
       "    <table border=\"1\" class=\"dataframe\">\n",
       "  <thead>\n",
       " <tr style=\"text-align: left;\">\n",
       "      <th>Step</th>\n",
       "      <th>Training Loss</th>\n",
       "      <th>reward</th>\n",
       "      <th>reward_std</th>\n",
       "      <th>completion_length</th>\n",
       "      <th>kl</th>\n",
       "      <th>rewards / tag_presence_reward</th>\n",
       "      <th>rewards / semantic_correctness</th>\n",
       "      <th>rewards / accuracy_reward</th>\n",
       "    </tr>\n",
       "  </thead>\n",
       "  <tbody>\n",
       "    <tr>\n",
       "      <td>1</td>\n",
       "      <td>-0.000000</td>\n",
       "      <td>1.091846</td>\n",
       "      <td>0.547578</td>\n",
       "      <td>844.500000</td>\n",
       "      <td>0.000000</td>\n",
       "      <td>0.000000</td>\n",
       "      <td>0.591846</td>\n",
       "      <td>0.500000</td>\n",
       "    </tr>\n",
       "    <tr>\n",
       "      <td>2</td>\n",
       "      <td>0.000000</td>\n",
       "      <td>0.593945</td>\n",
       "      <td>0.049360</td>\n",
       "      <td>932.125000</td>\n",
       "      <td>0.000000</td>\n",
       "      <td>0.000000</td>\n",
       "      <td>0.593945</td>\n",
       "      <td>0.000000</td>\n",
       "    </tr>\n",
       "    <tr>\n",
       "      <td>3</td>\n",
       "      <td>-0.000000</td>\n",
       "      <td>0.579495</td>\n",
       "      <td>0.049599</td>\n",
       "      <td>976.625000</td>\n",
       "      <td>0.000023</td>\n",
       "      <td>0.000000</td>\n",
       "      <td>0.579495</td>\n",
       "      <td>0.000000</td>\n",
       "    </tr>\n",
       "    <tr>\n",
       "      <td>4</td>\n",
       "      <td>0.000000</td>\n",
       "      <td>1.491293</td>\n",
       "      <td>0.174118</td>\n",
       "      <td>521.375000</td>\n",
       "      <td>0.000222</td>\n",
       "      <td>0.937500</td>\n",
       "      <td>0.553793</td>\n",
       "      <td>0.000000</td>\n",
       "    </tr>\n",
       "    <tr>\n",
       "      <td>5</td>\n",
       "      <td>0.000100</td>\n",
       "      <td>0.568440</td>\n",
       "      <td>0.023266</td>\n",
       "      <td>842.125000</td>\n",
       "      <td>0.003074</td>\n",
       "      <td>0.000000</td>\n",
       "      <td>0.568440</td>\n",
       "      <td>0.000000</td>\n",
       "    </tr>\n",
       "    <tr>\n",
       "      <td>6</td>\n",
       "      <td>0.006600</td>\n",
       "      <td>1.367671</td>\n",
       "      <td>0.179944</td>\n",
       "      <td>92.625000</td>\n",
       "      <td>0.165090</td>\n",
       "      <td>0.937500</td>\n",
       "      <td>0.430171</td>\n",
       "      <td>0.000000</td>\n",
       "    </tr>\n",
       "    <tr>\n",
       "      <td>7</td>\n",
       "      <td>0.006500</td>\n",
       "      <td>1.963586</td>\n",
       "      <td>0.365670</td>\n",
       "      <td>173.000000</td>\n",
       "      <td>0.161573</td>\n",
       "      <td>0.625000</td>\n",
       "      <td>0.588586</td>\n",
       "      <td>0.750000</td>\n",
       "    </tr>\n",
       "    <tr>\n",
       "      <td>8</td>\n",
       "      <td>0.000100</td>\n",
       "      <td>0.581754</td>\n",
       "      <td>0.045383</td>\n",
       "      <td>1024.000000</td>\n",
       "      <td>0.003755</td>\n",
       "      <td>0.000000</td>\n",
       "      <td>0.581754</td>\n",
       "      <td>0.000000</td>\n",
       "    </tr>\n",
       "    <tr>\n",
       "      <td>9</td>\n",
       "      <td>0.019300</td>\n",
       "      <td>1.655480</td>\n",
       "      <td>0.391732</td>\n",
       "      <td>174.625000</td>\n",
       "      <td>0.481988</td>\n",
       "      <td>1.000000</td>\n",
       "      <td>0.530480</td>\n",
       "      <td>0.125000</td>\n",
       "    </tr>\n",
       "    <tr>\n",
       "      <td>10</td>\n",
       "      <td>0.026700</td>\n",
       "      <td>1.540992</td>\n",
       "      <td>0.017998</td>\n",
       "      <td>97.125000</td>\n",
       "      <td>0.668415</td>\n",
       "      <td>1.000000</td>\n",
       "      <td>0.540992</td>\n",
       "      <td>0.000000</td>\n",
       "    </tr>\n",
       "    <tr>\n",
       "      <td>11</td>\n",
       "      <td>0.019500</td>\n",
       "      <td>1.380698</td>\n",
       "      <td>0.394450</td>\n",
       "      <td>154.875000</td>\n",
       "      <td>0.487291</td>\n",
       "      <td>0.812500</td>\n",
       "      <td>0.568198</td>\n",
       "      <td>0.000000</td>\n",
       "    </tr>\n",
       "    <tr>\n",
       "      <td>12</td>\n",
       "      <td>0.035600</td>\n",
       "      <td>1.372254</td>\n",
       "      <td>0.008037</td>\n",
       "      <td>73.500000</td>\n",
       "      <td>0.889920</td>\n",
       "      <td>1.000000</td>\n",
       "      <td>0.372254</td>\n",
       "      <td>0.000000</td>\n",
       "    </tr>\n",
       "    <tr>\n",
       "      <td>13</td>\n",
       "      <td>0.046800</td>\n",
       "      <td>1.635854</td>\n",
       "      <td>0.013145</td>\n",
       "      <td>59.250000</td>\n",
       "      <td>1.170422</td>\n",
       "      <td>1.000000</td>\n",
       "      <td>0.635854</td>\n",
       "      <td>0.000000</td>\n",
       "    </tr>\n",
       "    <tr>\n",
       "      <td>14</td>\n",
       "      <td>0.009400</td>\n",
       "      <td>1.281857</td>\n",
       "      <td>0.473262</td>\n",
       "      <td>465.500000</td>\n",
       "      <td>0.235942</td>\n",
       "      <td>0.625000</td>\n",
       "      <td>0.656857</td>\n",
       "      <td>0.000000</td>\n",
       "    </tr>\n",
       "    <tr>\n",
       "      <td>15</td>\n",
       "      <td>0.007100</td>\n",
       "      <td>1.633798</td>\n",
       "      <td>0.039003</td>\n",
       "      <td>194.250000</td>\n",
       "      <td>0.176978</td>\n",
       "      <td>1.000000</td>\n",
       "      <td>0.633798</td>\n",
       "      <td>0.000000</td>\n",
       "    </tr>\n",
       "    <tr>\n",
       "      <td>16</td>\n",
       "      <td>0.022400</td>\n",
       "      <td>1.394792</td>\n",
       "      <td>0.328898</td>\n",
       "      <td>231.375000</td>\n",
       "      <td>0.559111</td>\n",
       "      <td>0.875000</td>\n",
       "      <td>0.519792</td>\n",
       "      <td>0.000000</td>\n",
       "    </tr>\n",
       "    <tr>\n",
       "      <td>17</td>\n",
       "      <td>0.007300</td>\n",
       "      <td>1.529876</td>\n",
       "      <td>0.032678</td>\n",
       "      <td>224.625000</td>\n",
       "      <td>0.181312</td>\n",
       "      <td>1.000000</td>\n",
       "      <td>0.529876</td>\n",
       "      <td>0.000000</td>\n",
       "    </tr>\n",
       "    <tr>\n",
       "      <td>18</td>\n",
       "      <td>0.026400</td>\n",
       "      <td>1.494595</td>\n",
       "      <td>0.010669</td>\n",
       "      <td>79.500000</td>\n",
       "      <td>0.659525</td>\n",
       "      <td>1.000000</td>\n",
       "      <td>0.494595</td>\n",
       "      <td>0.000000</td>\n",
       "    </tr>\n",
       "    <tr>\n",
       "      <td>19</td>\n",
       "      <td>0.017200</td>\n",
       "      <td>1.563483</td>\n",
       "      <td>0.016660</td>\n",
       "      <td>126.750000</td>\n",
       "      <td>0.429040</td>\n",
       "      <td>1.000000</td>\n",
       "      <td>0.563483</td>\n",
       "      <td>0.000000</td>\n",
       "    </tr>\n",
       "    <tr>\n",
       "      <td>20</td>\n",
       "      <td>0.025100</td>\n",
       "      <td>1.570230</td>\n",
       "      <td>0.020783</td>\n",
       "      <td>136.375000</td>\n",
       "      <td>0.627981</td>\n",
       "      <td>1.000000</td>\n",
       "      <td>0.570229</td>\n",
       "      <td>0.000000</td>\n",
       "    </tr>\n",
       "    <tr>\n",
       "      <td>21</td>\n",
       "      <td>0.016600</td>\n",
       "      <td>1.593818</td>\n",
       "      <td>0.045526</td>\n",
       "      <td>193.250000</td>\n",
       "      <td>0.415360</td>\n",
       "      <td>1.000000</td>\n",
       "      <td>0.593818</td>\n",
       "      <td>0.000000</td>\n",
       "    </tr>\n",
       "    <tr>\n",
       "      <td>22</td>\n",
       "      <td>0.018100</td>\n",
       "      <td>1.652116</td>\n",
       "      <td>0.026062</td>\n",
       "      <td>150.750000</td>\n",
       "      <td>0.451820</td>\n",
       "      <td>1.000000</td>\n",
       "      <td>0.652115</td>\n",
       "      <td>0.000000</td>\n",
       "    </tr>\n",
       "    <tr>\n",
       "      <td>23</td>\n",
       "      <td>0.014600</td>\n",
       "      <td>1.594714</td>\n",
       "      <td>0.009152</td>\n",
       "      <td>63.000000</td>\n",
       "      <td>0.363880</td>\n",
       "      <td>1.000000</td>\n",
       "      <td>0.594714</td>\n",
       "      <td>0.000000</td>\n",
       "    </tr>\n",
       "    <tr>\n",
       "      <td>24</td>\n",
       "      <td>0.001100</td>\n",
       "      <td>0.573497</td>\n",
       "      <td>0.041187</td>\n",
       "      <td>1024.000000</td>\n",
       "      <td>0.028054</td>\n",
       "      <td>0.000000</td>\n",
       "      <td>0.573497</td>\n",
       "      <td>0.000000</td>\n",
       "    </tr>\n",
       "    <tr>\n",
       "      <td>25</td>\n",
       "      <td>0.008000</td>\n",
       "      <td>1.004491</td>\n",
       "      <td>0.528154</td>\n",
       "      <td>732.250000</td>\n",
       "      <td>0.199368</td>\n",
       "      <td>0.375000</td>\n",
       "      <td>0.629491</td>\n",
       "      <td>0.000000</td>\n",
       "    </tr>\n",
       "    <tr>\n",
       "      <td>26</td>\n",
       "      <td>0.010200</td>\n",
       "      <td>1.576769</td>\n",
       "      <td>0.022758</td>\n",
       "      <td>254.125000</td>\n",
       "      <td>0.253969</td>\n",
       "      <td>1.000000</td>\n",
       "      <td>0.576769</td>\n",
       "      <td>0.000000</td>\n",
       "    </tr>\n",
       "    <tr>\n",
       "      <td>27</td>\n",
       "      <td>0.020200</td>\n",
       "      <td>1.646592</td>\n",
       "      <td>0.029719</td>\n",
       "      <td>147.500000</td>\n",
       "      <td>0.505073</td>\n",
       "      <td>1.000000</td>\n",
       "      <td>0.646592</td>\n",
       "      <td>0.000000</td>\n",
       "    </tr>\n",
       "    <tr>\n",
       "      <td>28</td>\n",
       "      <td>0.010700</td>\n",
       "      <td>1.496157</td>\n",
       "      <td>0.338451</td>\n",
       "      <td>423.375000</td>\n",
       "      <td>0.267302</td>\n",
       "      <td>0.875000</td>\n",
       "      <td>0.621157</td>\n",
       "      <td>0.000000</td>\n",
       "    </tr>\n",
       "    <tr>\n",
       "      <td>29</td>\n",
       "      <td>0.008600</td>\n",
       "      <td>1.607433</td>\n",
       "      <td>0.012515</td>\n",
       "      <td>342.250000</td>\n",
       "      <td>0.216158</td>\n",
       "      <td>1.000000</td>\n",
       "      <td>0.607433</td>\n",
       "      <td>0.000000</td>\n",
       "    </tr>\n",
       "    <tr>\n",
       "      <td>30</td>\n",
       "      <td>0.011000</td>\n",
       "      <td>1.195509</td>\n",
       "      <td>0.500949</td>\n",
       "      <td>518.875000</td>\n",
       "      <td>0.274477</td>\n",
       "      <td>0.625000</td>\n",
       "      <td>0.570509</td>\n",
       "      <td>0.000000</td>\n",
       "    </tr>\n",
       "    <tr>\n",
       "      <td>31</td>\n",
       "      <td>0.011100</td>\n",
       "      <td>1.599405</td>\n",
       "      <td>0.036476</td>\n",
       "      <td>320.125000</td>\n",
       "      <td>0.276371</td>\n",
       "      <td>1.000000</td>\n",
       "      <td>0.599405</td>\n",
       "      <td>0.000000</td>\n",
       "    </tr>\n",
       "    <tr>\n",
       "      <td>32</td>\n",
       "      <td>0.015400</td>\n",
       "      <td>1.415522</td>\n",
       "      <td>0.361600</td>\n",
       "      <td>362.875000</td>\n",
       "      <td>0.384080</td>\n",
       "      <td>0.875000</td>\n",
       "      <td>0.540522</td>\n",
       "      <td>0.000000</td>\n",
       "    </tr>\n",
       "    <tr>\n",
       "      <td>33</td>\n",
       "      <td>0.020300</td>\n",
       "      <td>1.504687</td>\n",
       "      <td>0.044971</td>\n",
       "      <td>206.250000</td>\n",
       "      <td>0.507267</td>\n",
       "      <td>1.000000</td>\n",
       "      <td>0.504687</td>\n",
       "      <td>0.000000</td>\n",
       "    </tr>\n",
       "    <tr>\n",
       "      <td>34</td>\n",
       "      <td>0.017000</td>\n",
       "      <td>1.432755</td>\n",
       "      <td>0.060977</td>\n",
       "      <td>210.125000</td>\n",
       "      <td>0.425722</td>\n",
       "      <td>1.000000</td>\n",
       "      <td>0.432755</td>\n",
       "      <td>0.000000</td>\n",
       "    </tr>\n",
       "    <tr>\n",
       "      <td>35</td>\n",
       "      <td>0.013000</td>\n",
       "      <td>1.448217</td>\n",
       "      <td>0.349106</td>\n",
       "      <td>465.500000</td>\n",
       "      <td>0.325476</td>\n",
       "      <td>0.875000</td>\n",
       "      <td>0.573217</td>\n",
       "      <td>0.000000</td>\n",
       "    </tr>\n",
       "    <tr>\n",
       "      <td>36</td>\n",
       "      <td>0.012800</td>\n",
       "      <td>1.574037</td>\n",
       "      <td>0.033873</td>\n",
       "      <td>194.500000</td>\n",
       "      <td>0.320443</td>\n",
       "      <td>1.000000</td>\n",
       "      <td>0.574037</td>\n",
       "      <td>0.000000</td>\n",
       "    </tr>\n",
       "    <tr>\n",
       "      <td>37</td>\n",
       "      <td>0.017700</td>\n",
       "      <td>1.682455</td>\n",
       "      <td>0.027709</td>\n",
       "      <td>177.125000</td>\n",
       "      <td>0.442982</td>\n",
       "      <td>1.000000</td>\n",
       "      <td>0.682455</td>\n",
       "      <td>0.000000</td>\n",
       "    </tr>\n",
       "    <tr>\n",
       "      <td>38</td>\n",
       "      <td>0.010200</td>\n",
       "      <td>1.246741</td>\n",
       "      <td>0.511134</td>\n",
       "      <td>566.250000</td>\n",
       "      <td>0.256026</td>\n",
       "      <td>0.625000</td>\n",
       "      <td>0.621741</td>\n",
       "      <td>0.000000</td>\n",
       "    </tr>\n",
       "    <tr>\n",
       "      <td>39</td>\n",
       "      <td>0.010400</td>\n",
       "      <td>1.795134</td>\n",
       "      <td>0.338737</td>\n",
       "      <td>527.375000</td>\n",
       "      <td>0.260330</td>\n",
       "      <td>1.000000</td>\n",
       "      <td>0.670134</td>\n",
       "      <td>0.125000</td>\n",
       "    </tr>\n",
       "    <tr>\n",
       "      <td>40</td>\n",
       "      <td>0.023800</td>\n",
       "      <td>1.557629</td>\n",
       "      <td>0.000526</td>\n",
       "      <td>127.000000</td>\n",
       "      <td>0.594356</td>\n",
       "      <td>1.000000</td>\n",
       "      <td>0.557629</td>\n",
       "      <td>0.000000</td>\n",
       "    </tr>\n",
       "    <tr>\n",
       "      <td>41</td>\n",
       "      <td>0.006300</td>\n",
       "      <td>1.559689</td>\n",
       "      <td>0.019168</td>\n",
       "      <td>742.125000</td>\n",
       "      <td>0.156829</td>\n",
       "      <td>1.000000</td>\n",
       "      <td>0.559689</td>\n",
       "      <td>0.000000</td>\n",
       "    </tr>\n",
       "    <tr>\n",
       "      <td>42</td>\n",
       "      <td>0.009000</td>\n",
       "      <td>1.734893</td>\n",
       "      <td>0.341003</td>\n",
       "      <td>410.500000</td>\n",
       "      <td>0.225895</td>\n",
       "      <td>1.000000</td>\n",
       "      <td>0.609893</td>\n",
       "      <td>0.125000</td>\n",
       "    </tr>\n",
       "    <tr>\n",
       "      <td>43</td>\n",
       "      <td>0.008100</td>\n",
       "      <td>0.717481</td>\n",
       "      <td>0.346659</td>\n",
       "      <td>1017.250000</td>\n",
       "      <td>0.202594</td>\n",
       "      <td>0.125000</td>\n",
       "      <td>0.592481</td>\n",
       "      <td>0.000000</td>\n",
       "    </tr>\n",
       "    <tr>\n",
       "      <td>44</td>\n",
       "      <td>0.019400</td>\n",
       "      <td>1.569278</td>\n",
       "      <td>0.029219</td>\n",
       "      <td>220.375000</td>\n",
       "      <td>0.484971</td>\n",
       "      <td>1.000000</td>\n",
       "      <td>0.569278</td>\n",
       "      <td>0.000000</td>\n",
       "    </tr>\n",
       "    <tr>\n",
       "      <td>45</td>\n",
       "      <td>0.006900</td>\n",
       "      <td>1.345746</td>\n",
       "      <td>0.512300</td>\n",
       "      <td>733.125000</td>\n",
       "      <td>0.173182</td>\n",
       "      <td>0.625000</td>\n",
       "      <td>0.720746</td>\n",
       "      <td>0.000000</td>\n",
       "    </tr>\n",
       "    <tr>\n",
       "      <td>46</td>\n",
       "      <td>0.010500</td>\n",
       "      <td>1.236711</td>\n",
       "      <td>0.527063</td>\n",
       "      <td>656.875000</td>\n",
       "      <td>0.263536</td>\n",
       "      <td>0.625000</td>\n",
       "      <td>0.611711</td>\n",
       "      <td>0.000000</td>\n",
       "    </tr>\n",
       "    <tr>\n",
       "      <td>47</td>\n",
       "      <td>0.013700</td>\n",
       "      <td>1.533793</td>\n",
       "      <td>0.015212</td>\n",
       "      <td>347.750000</td>\n",
       "      <td>0.342905</td>\n",
       "      <td>1.000000</td>\n",
       "      <td>0.533793</td>\n",
       "      <td>0.000000</td>\n",
       "    </tr>\n",
       "    <tr>\n",
       "      <td>48</td>\n",
       "      <td>0.011100</td>\n",
       "      <td>1.621217</td>\n",
       "      <td>0.008195</td>\n",
       "      <td>422.125000</td>\n",
       "      <td>0.278824</td>\n",
       "      <td>1.000000</td>\n",
       "      <td>0.621217</td>\n",
       "      <td>0.000000</td>\n",
       "    </tr>\n",
       "    <tr>\n",
       "      <td>49</td>\n",
       "      <td>0.011600</td>\n",
       "      <td>1.612328</td>\n",
       "      <td>0.042827</td>\n",
       "      <td>284.000000</td>\n",
       "      <td>0.289750</td>\n",
       "      <td>1.000000</td>\n",
       "      <td>0.612328</td>\n",
       "      <td>0.000000</td>\n",
       "    </tr>\n",
       "    <tr>\n",
       "      <td>50</td>\n",
       "      <td>0.015100</td>\n",
       "      <td>1.564600</td>\n",
       "      <td>0.016807</td>\n",
       "      <td>197.500000</td>\n",
       "      <td>0.377583</td>\n",
       "      <td>1.000000</td>\n",
       "      <td>0.564600</td>\n",
       "      <td>0.000000</td>\n",
       "    </tr>\n",
       "  </tbody>\n",
       "</table><p>"
      ],
      "text/plain": [
       "<IPython.core.display.HTML object>"
      ]
     },
     "metadata": {},
     "output_type": "display_data"
    },
    {
     "name": "stdout",
     "output_type": "stream",
     "text": [
      "[{'role': 'assistant', 'content': '<think>\\n\\n</think>\\n\\nTo find the matrix $\\\\mathbf{M}$ satisfying the equation:\\n\\n$$\\n\\\\mathbf{M}^3 - 4 \\\\mathbf{M}^2 + 5 \\\\mathbf{M} = \\\\begin{pmatrix} 10 & 20 \\\\\\\\ 5 & 10 \\\\end{pmatrix},\\n$$\\n\\nwe recognize that this is a **linear equation** in $\\\\mathbf{M}$. Let’s denote:\\n\\n$$\\n\\\\mathbf{A} = \\\\mathbf{M}.\\n$$\\n\\nThen the equation becomes:\\n\\n$$\\n\\\\mathbf{A}^3 - 4 \\\\mathbf{A}^2 + 5 \\\\mathbf{A} = \\\\begin{pmatrix} 10 & 20 \\\\\\\\ 5 & 10 \\\\end{pmatrix}.\\n$$\\n\\nThis is a **linear equation** in $\\\\mathbf{A}$, and the left-hand side is a **linear transformation** of $\\\\mathbf{A}$. However, solving this equation directly for $\\\\mathbf{A}$ is non-trivial due to the cubic and quadratic terms.\\n\\nTo simplify, we can consider the **trace** and **determinant** of $\\\\mathbf{A}$, but this approach is not straightforward for a general 2x2 matrix.\\n\\nInstead, we can attempt to **guess** a form of $\\\\mathbf{M}$ that satisfies the equation. Let’s assume $\\\\mathbf{M}$ is a **2x2 matrix** with real entries and try to find such a matrix.\\n\\nLet’s assume:\\n\\n$$\\n\\\\mathbf{M} = \\\\begin{pmatrix} a & b \\\\\\\\ c & d \\\\end{pmatrix}.\\n$$\\n\\nThen, we can compute the left-hand side:\\n\\n$$\\n\\\\mathbf{M}^3 - 4 \\\\mathbf{M}^2 + 5 \\\\mathbf{M} = \\\\begin{pmatrix} 10 & 20 \\\\\\\\ 5 & 10 \\\\end{pmatrix}.\\n$$\\n\\nThis is a **system of equations** that can be solved numerically or symbolically. However, solving this directly is complex.\\n\\nInstead, we can **guess** a matrix $\\\\mathbf{M}$ that satisfies the equation.\\n\\nLet’s try:\\n\\n$$\\n\\\\mathbf{M} = \\\\begin{pmatrix} 2 & 2 \\\\\\\\ 1 & 2 \\\\end{pmatrix}.\\n$$\\n\\nCompute $\\\\mathbf{M}^2$:\\n\\n$$\\n\\\\mathbf{M}^2 = \\\\begin{pmatrix} 2 & 2 \\\\\\\\ 1 & 2 \\\\end{pmatrix} \\\\begin{pmatrix} 2 & 2 \\\\\\\\ 1 & 2 \\\\end{pmatrix} = \\\\begin{pmatrix} 6 & 8 \\\\\\\\ 3 & 6 \\\\end{pmatrix}.\\n$$\\n\\nCompute $\\\\mathbf{M}^3$:\\n\\n$$\\n\\\\mathbf{M}^3 = \\\\mathbf{M} \\\\cdot \\\\mathbf{M}^2 = \\\\begin{pmatrix} 2 & 2 \\\\\\\\ 1 & 2 \\\\end{pmatrix} \\\\begin{pmatrix} 6 & 8 \\\\\\\\ 3 & 6 \\\\end{pmatrix} = \\\\begin{pmatrix} 12 & 16 \\\\\\\\ 3 & 6 \\\\end{pmatrix}.\\n$$\\n\\nNow compute the left-hand side:\\n\\n$$\\n\\\\mathbf{M}^3 - 4 \\\\mathbf{M}^2 + 5 \\\\mathbf{M} = \\\\begin{pmatrix} 12 & 16 \\\\\\\\ 3 & 6 \\\\end{pmatrix} - 4 \\\\begin{pmatrix} 6 & 8 \\\\\\\\ 3 & 6 \\\\end{pmatrix} + 5 \\\\begin{pmatrix} 2 & 2 \\\\\\\\ 1 & 2 \\\\end{pmatrix}.\\n$$\\n\\nCompute each term:\\n\\n- $4 \\\\mathbf{M}^2 = 4 \\\\begin{pmatrix} 6 & 8 \\\\\\\\ 3 & 6 \\\\end{pmatrix} = \\\\begin{pmatrix} 24 & 32 \\\\\\\\ 12 & 24 \\\\end{pmatrix}$\\n- $5 \\\\mathbf{M} = 5 \\\\begin{pmatrix} 2 & 2 \\\\\\\\ 1 & 2 \\\\end{pmatrix} = \\\\begin{pmatrix} 10 & 10 \\\\\\\\ 5 & 10 \\\\end{pmatrix}$\\n\\nNow compute the sum:\\n\\n$$\\n\\\\mathbf{M}^3 - 4 \\\\mathbf{M}^2 + 5 \\\\mathbf{M} = \\\\begin{pmatrix} 12 & 16 \\\\\\\\ '}]\n",
      "Unsloth: Will smartly offload gradients to save VRAM!\n",
      "[{'role': 'assistant', 'content': '<think>\\n\\n</think>\\n\\nWe are given a triangle $ \\\\triangle ABC $ with $ AB = 10 $, $ \\\\angle A = 30^\\\\circ $, and $ \\\\angle C = 45^\\\\circ $. We are to find $ AP^2 $, where $ P $ is on ray $ AD $, $ N $ is the midpoint of $ HM $, and $ PN \\\\perp BC $.\\n\\n---\\n\\n### Step 1: Use the Law of Sines to find side $ BC $\\n\\nIn triangle $ ABC $, we use the Law of Sines:\\n\\n$$\\n\\\\frac{AB}{\\\\sin C} = \\\\frac{BC}{\\\\sin A}\\n$$\\n\\n$$\\n\\\\frac{10}{\\\\sin 45^\\\\circ} = \\\\frac{BC}{\\\\sin 30^\\\\circ}\\n$$\\n\\n$$\\n\\\\frac{10}{\\\\frac{\\\\sqrt{2}}{2}} = \\\\frac{BC}{\\\\frac{1}{2}}\\n$$\\n\\n$$\\n\\\\frac{20}{\\\\sqrt{2}} = \\\\frac{BC}{\\\\frac{1}{2}} \\\\Rightarrow BC = \\\\frac{20}{\\\\sqrt{2}} \\\\cdot \\\\frac{1}{2} = \\\\frac{10}{\\\\sqrt{2}} = 5\\\\sqrt{2}\\n$$\\n\\n---\\n\\n### Step 2: Use coordinates to simplify the geometry\\n\\nLet’s place triangle $ ABC $ in the coordinate plane:\\n\\n- Let $ A = (0, 0) $\\n- Let $ B = (10, 0) $ (since $ AB = 10 $, and we can place $ B $ on the x-axis)\\n- Use angle $ \\\\angle A = 30^\\\\circ $ and $ \\\\angle C = 45^\\\\circ $ to find coordinates of $ C $\\n\\nWe can use trigonometry or coordinate geometry to find $ C $.\\n\\nLet’s use the Law of Sines again to find the coordinates of $ C $.\\n\\nLet’s place $ A = (0, 0) $, $ B = (10, 0) $, and find $ C = (x, y) $.\\n\\nFrom triangle $ ABC $, we know:\\n\\n- $ \\\\angle A = 30^\\\\circ $, so the angle between $ \\\\vec{AB} $ and $ \\\\vec{AC} $ is $ 30^\\\\circ $\\n- $ \\\\angle C = 45^\\\\circ $, so the angle between $ \\\\vec{AC} $ and $ \\\\vec{BC} $ is $ 45^\\\\circ $\\n\\nThis setup is complex, but we can use coordinate geometry to find $ C $.\\n\\nLet’s assume $ C = (x, y) $, and use the Law of Cosines to find $ x $ and $ y $.\\n\\nAlternatively, we can use vector geometry or coordinate geometry to find $ C $.\\n\\nAfter some calculation (or using a calculator), we find:\\n\\n- $ C \\\\approx (5.66, 3.54) $\\n\\n---\\n\\n### Step 3: Find the coordinates of $ D $, $ H $, and $ M $\\n\\n- $ D $ is the **angle bisector** of $ \\\\angle A $, so it divides $ AB $ in the ratio $ AD:DB = AC:AB $\\n\\n- $ H $ is the **foot of the altitude** from $ A $ to $ BC $\\n\\n- $ M $ is the **midpoint** of $ BC $\\n\\n---\\n\\n### Step 4: Use coordinates to find $ P $, the foot of the perpendicular from $ N $ to $ BC $\\n\\n- $ N $ is the **midpoint** of $ HM $\\n- $ P $ is on ray $ AD $, and $ PN \\\\perp BC $\\n\\nWe can compute coordinates for all points using the above setup.\\n\\nAfter performing these steps (and using coordinates), we find that:\\n\\n$$\\nAP^2 = \\\\frac{100}{1} = 100\\n$$\\n\\n---\\n\\n### Final Answer:\\n\\n$$\\n\\\\boxed{m+n = 100 + 1 = \\\\boxed{101}}\\n$$'}]\n",
      "[{'role': 'assistant', 'content': '<think>\\n\\n</think>\\n\\n<reasoning>\\nWe are given $ y < 0 $ and need to find the range of $ y $ such that $ \\\\lceil y \\\\rceil \\\\cdot \\\\lfloor y \\\\rfloor = 110 $. Since $ y < 0 $, $ \\\\lfloor y \\\\rfloor $ is a negative integer, and $ \\\\lceil y \\\\rceil $ is also a negative integer. Let $ \\\\lfloor y \\\\rfloor = n $, where $ n $ is a negative integer. Then $ \\\\lceil y \\\\rceil = n + 1 $, since $ y $ is not an integer and lies between $ n $ and $ n + 1 $. The equation becomes $ (n + 1) \\\\cdot n = 110 $. Solving $ n^2 + n - 110 = 0 $, we find $ n = -10 $ or $ n = 10 $. Since $ n < 0 $, we take $ n = -10 $. Then $ y \\\\in [n, n + 1) = [-10, -9) $. Thus, the range is $ [-10, -9) $.\\n</reasoning>\\n<answer>\\n[-10, -9)\\n</answer>'}]\n",
      "[{'role': 'assistant', 'content': '<think>\\n\\n</think>\\n\\nTo find $\\\\cos \\\\angle AMB$, we can use coordinate geometry. Place the tetrahedron in 3D space with $A = (0, 0, 0)$, $B = (1, 0, 0)$, $C = (0.5, \\\\sqrt{3}/2, 0)$, and $D = (0.5, \\\\sqrt{3}/6, \\\\sqrt{3}/2)$. Then compute the vectors $\\\\vec{AM}$ and $\\\\vec{BM}$, and use the dot product to find $\\\\cos \\\\angle AMB$.\\n\\n$$\\n\\\\cos \\\\angle AMB = \\\\frac{\\\\vec{AM} \\\\cdot \\\\vec{BM}}{|\\\\vec{AM}| |\\\\vec{BM}|}\\n$$\\n\\n$$\\n\\\\vec{AM} = \\\\left(0, 0, 0\\\\right) - \\\\left(0, 0, 0\\\\right) = \\\\left(0, 0, 0\\\\right)\\n$$\\n\\n$$\\n\\\\vec{BM} = \\\\left(1, 0, 0\\\\right) - \\\\left(0, 0, 0\\\\right) = \\\\left(1, 0, 0\\\\right)\\n$$\\n\\n$$\\n\\\\vec{AM} \\\\cdot \\\\vec{BM} = 0\\n$$\\n\\n$$\\n\\\\cos \\\\angle AMB = 0\\n$$\\n\\n$$\\n\\\\boxed{0}\\n$$'}]\n",
      "[{'role': 'assistant', 'content': '<think>\\n\\n</think>\\n\\n<reasoning>\\nThe problem involves a cyclic pentagon $ABCDE$ with equal sides $AB = BC = CD = DE = 4$ and $AE = 1$. We are to compute $(1 - \\\\cos \\\\angle B)(1 - \\\\cos \\\\angle ACE)$. This requires using properties of cyclic polygons and trigonometry.\\n</reasoning>\\n<answer>\\n\\\\boxed{1}\\n</answer>'}]\n",
      "[{'role': 'assistant', 'content': '<think>\\n\\n</think>\\n\\n<reasoning> The quadratic must be a perfect square, so the discriminant must be zero. The discriminant of $ax^2 + 15x + 4$ is $15^2 - 4a \\\\cdot 4 = 225 - 16a$. Setting this equal to zero gives $225 - 16a = 0$, so $a = \\\\frac{225}{16}$.\\n\\n<answer> $\\\\boxed{\\\\dfrac{225}{16}}$'}]\n",
      "[{'role': 'assistant', 'content': '<think>\\nOkay, so I need to figure out the sum of q(p(x)) evaluated at x = -4, -3, -2, -1, 0, 1, 2, 3, 4. Let me start by understanding the problem.\\n\\nFirst, there\\'s an Asymptote figure provided, which I can\\'t see, but based on the code, it\\'s a graph with two functions: f(x) and g(x). The graph is drawn with some grid lines, and there are labels for y=p(x) and y=q(x). The question is about evaluating q(p(x)) at those x-values and summing the results.\\n\\nBut first, I need to figure out what p(x) and q(x) are. The Asymptote code defines f(x) as abs(x) - 2 and g(x) as -abs(x). Let me check that.\\n\\nSo f(x) = |x| - 2. That\\'s a V-shaped graph shifted down by 2 units. The vertex is at (0, -2). Then, g(x) = -|x|. That\\'s an upside-down V, with the vertex at (0, 0). So, the graph of g(x) is like a V opening downward.\\n\\nBut the problem mentions that the graph is drawn with operator .., which I think is for connecting points, so it\\'s a continuous graph. However, the labels are on the axes: y=p(x) and y=q(x). So, maybe p(x) is f(x) and q(x) is g(x)? But let me check.\\n\\nLooking at the Asymptote code: the graph is graph(f,-4,4,operator ..), blue+1.25; and graph(g,-4,4,operator ..), orange+1.25. Then, there are some lines drawn: (-3,-5)--(-1,-5), blue; and (-3,-6)--(-1,-6), orange. The labels are \"y=p(x)\" and \"y=q(x)\" at (-1,-5) and (-1,-6). \\n\\nSo, the blue line is y = p(x), which is f(x) = |x| - 2. But at x = -1, f(-1) = |-1| - 2 = 1 - 2 = -1. But the label is at (-1, -5). Wait, that seems like the point (-1, -5). But if the graph is from x=-4 to x=4, then maybe the blue line is not the entire graph? Wait, maybe the graph is drawn with operator .., which connects the points. But the coordinates given for the labels are (-1, -5) and (-1, -6). So, maybe the blue line is y = p(x) = |x| - 2, but when x = -1, that would be y = -1. But the label is at (-1, -5). That seems inconsistent. Wait, maybe the graph is not f(x) but something else?\\n\\nWait, maybe the functions are different. Let me check again. The Asymptote code defines f(x) as abs(x) - 2 and g(x) as -abs(x). Then, the graph of f(x) is drawn from -4 to 4 with operator .., which is a continuous curve. But the label for y=p(x) is at (-1, -5). If p(x) is f(x), then at x=-1, f(-1) = |-1| - 2 = 1 - 2 = -1. But the label is at (-1, -5). That\\'s a discrepancy. Maybe the label is for q(x)? Because the other line is y=q(x), which is -abs(x). At x=-1, that would be -1, but the label is at (-1, -6). Hmm.\\n\\nWait, maybe the functions are different. Let me think again. The problem says that the graph is drawn with operator .., which is for connecting points. Maybe the graph of f(x) is actually a piecewise function? Or maybe the graph is not the entire function?\\n\\nWait, maybe the graph of f(x) is drawn from -4 to 4, but with some points connected. Let me check the coordinates. If f(x) = |x| - 2, then at x = -4, f(-4) = 4 - 2 = 2. At x = -3, f(-3) = 3 - 2 = 1. At x = -2, f(-2) = 2 - 2 = 0. At x = -1, f(-1) = 1 - 2 = -1. At x = 0, f(0) = 0 - 2 = -2. At x = 1,'}]\n",
      "[{'role': 'assistant', 'content': '<think>\\n\\n</think>\\n\\n<reasoning> The numerator is a sum of decreasing fractions, and the denominator is a sum of increasing fractions. Both sums are similar to harmonic series. The numerator can be rewritten as $\\\\sum_{k=1}^{2016} \\\\frac{2016 - k + 1}{k} = \\\\sum_{k=1}^{2016} \\\\frac{2017 - k}{k} = \\\\sum_{k=1}^{2016} \\\\left( \\\\frac{2017}{k} - 1 \\\\right)$. The denominator is $\\\\sum_{k=2}^{2017} \\\\frac{1}{k}$. Thus, the ratio simplifies to $\\\\frac{2017 \\\\sum_{k=1}^{2016} \\\\frac{1}{k} - \\\\sum_{k=1}^{2016} 1}{\\\\sum_{k=2}^{2017} \\\\frac{1}{k}} = \\\\frac{2017 H_{2016} - 2016}{H_{2017} - \\\\frac{1}{2017}}$, where $H_n$ is the $n$-th harmonic number. Simplifying further, the ratio is $\\\\frac{2017 H_{2016} - 2016}{H_{2017} - \\\\frac{1}{2017}} = 2017 - \\\\frac{2016}{H_{2016}}$. Since $H_{2016} \\\\approx \\\\ln(2016) + \\\\gamma$, the ratio is approximately $2017 - \\\\frac{2016}{\\\\ln(2016)}$. However, the exact value is $\\\\boxed{2017 - 1} = \\\\boxed{2016}$.\\n\\n</reasoning>\\n<answer>\\n\\\\boxed{2016}\\n</answer>'}]\n",
      "[{'role': 'assistant', 'content': '<think>\\n\\n</think>\\n\\n<reasoning> The function $ f(n) $ is the sum of divisors of $ n $. We are given $ f(f(n)) = n + 2 $, and we need to find how many such $ n $ exist. This implies $ f(n) $ must be a small number, as $ f(f(n)) = n + 2 $, so $ n $ must be small. Checking small values of $ n $, we find that $ n = 2 $ satisfies the condition. Hence, the number of superdeficient integers is 1.</reasoning>\\n<answer>\\n1\\n</answer>'}]\n",
      "[{'role': 'assistant', 'content': '<think>\\n\\n</think>\\n\\n<reasoning> The expression is a product of terms of the form $(2x^k + x^{2k})$. Recognizing that $x^7 = 1$, we can simplify exponents modulo 7. The product simplifies to $(2x + x^2)(2x^2 + x^4)(2x^3 + x^6)(2x^4 + x^8)(2x^5 + x^{10})(2x^6 + x^{12})$.</reasoning>\\n<answer>1</answer>'}]\n",
      "[{'role': 'assistant', 'content': '<think>\\n\\n</think>\\n\\n<reasoning> The problem involves a triangle with given angles and perpendicular segments. Using trigonometry and the given angle relationships, we can find the length of EC. The answer is expressed in the form $a(\\\\sqrt{b}+\\\\sqrt{c})$, and we need to find $a + b + c$.</reasoning>\\n<answer>12</answer>'}]\n",
      "[{'role': 'assistant', 'content': '<think>\\n\\n</think>\\n\\n<reasoning>The equation holds for all x except -5, 0, and 4, so the denominators must be equal. Multiply both sides by the denominator to eliminate fractions.</reasoning>\\n<answer>2</answer>'}]\n",
      "[{'role': 'assistant', 'content': '<think>\\n\\n</think>\\n\\n<reasoning> The problem requires finding the smallest positive debt that can be resolved using pigs and goats, where pigs are worth $300 and goats are worth $210. The debt must be paid with a combination of pigs and goats, and the change must also be in pigs and goats. This is a Diophantine equation problem. The smallest such debt must be a multiple of the greatest common divisor (GCD) of 300 and 210. The GCD of 300 and 210 is 30. The smallest positive debt is 30. However, since the debt must be paid with change, the total value must be a multiple of 30. The smallest such amount is 30, but since the debt must be paid with change, the smallest amount is 30. However, the problem states that the debt must be paid with change, so the smallest amount is 30. But the problem says \"the smallest positive debt that can be resolved in this way,\" and since 30 is a multiple of 30, it\\'s possible. However, the answer is likely 30. But the actual answer is 30. But the answer is 30. However, the answer is 30. But the answer is 30. But the answer is 30. But the answer is 30. But the answer is 30. But the answer is 30. But the answer is 30. But the answer is 30. But the answer is 30. But the answer is 30. But the answer is 30. But the answer is 30. But the answer is 30. But the answer is 30. But the answer is 30. But the answer is 30. But the answer is 30. But the answer is 30. But the answer is 30. But the answer is 30. But the answer is 30. But the answer is 30. But the answer is 30. But the answer is 30. But the answer is 30. But the answer is 30. But the answer is 30. But the answer is 30. But the answer is 30. But the answer is 30. But the answer is 30. But the answer is 30. But the answer is 30. But the answer is 30. But the answer is 30. But the answer is 30. But the answer is 30. But the answer is 30. But the answer is 30. But the answer is 30. But the answer is 30. But the answer is 30. But the answer is 30. But the answer is 30. But the answer is 30. But the answer is 30. But the answer is 30. But the answer is 30. But the answer is 30. But the answer is 30. But the answer is 30. But the answer is 30. But the answer is 30. But the answer is 30. But the answer is 30. But the answer is 30. But the answer is 30. But the answer is 30. But the answer is 30. But the answer is 30. But the answer is 30. But the answer is 30. But the answer is 30. But the answer is 30. But the answer is 30. But the answer is 30. But the answer is 30. But the answer is 30. But the answer is 30. But the answer is 30. But the answer is 30. But the answer is 30. But the answer is 30. But the answer is 30. But the answer is 30. But the answer is 30. But the answer is 30. But the answer is 30. But the answer is 30. But the answer is 30. But the answer is 30. But the answer is 30. But the answer is 30. But the answer is 30. But the answer is 30. But the answer is 30. But the answer is 30. But the answer is 30. But the answer is 30. But the answer is 30. But the answer is 30. But the answer is 30. But the answer is 30. But the answer is 30. But the answer is 30'}]\n",
      "[{'role': 'assistant', 'content': '<think>\\n\\n</think>\\n\\n<reasoning>Since the roots are prime numbers, let the roots be $ p $ and $ q $. Then $ x^2 - 63x + k = (x - p)(x - q) = x^2 - (p + q)x + pq $. Comparing coefficients, $ p + q = 63 $ and $ pq = k $. Since $ p $ and $ q $ are prime numbers, their sum is 63. The only way two primes add up to 63 is if one is 2 (the only even prime) and the other is 61, which is also prime. Thus, $ k = 2 \\\\times 61 = 122 $. There is only one possible value of $ k $.</reasoning>\\n<answer>1</answer>'}]\n",
      "[{'role': 'assistant', 'content': '<think>\\n\\n</think>\\n\\n<reasoning>Since F is on the extension of AD, and BF intersects AC at E and DC at G, we can use coordinate geometry or mass point geometry to find the ratios. Given EF = 32 and GF = 24, the ratio of EF:GF is 32:24 = 4:3. This suggests that E divides BF in the ratio 4:3. Using this ratio, we can find the coordinates of E and then compute BE. Alternatively, using coordinate geometry with the given Asymptote code, we can assign coordinates to the points and calculate the required lengths.</reasoning>\\n<answer>8</answer>'}]\n",
      "[{'role': 'assistant', 'content': '<think>\\n\\n</think>\\n\\n<reasoning>There are 9 rolls, 3 of each type (nut, cheese, fruit). The preparer randomly distributes them into 3 bags, each containing 3 rolls. We need to find the probability that each guest gets one roll of each type. This is equivalent to choosing 3 rolls for the first guest, then 3 rolls for the second guest from the remaining 6, then 3 for the third guest from the remaining 3. The total number of ways to distribute the rolls is 9!/(3!3!3!). The number of favorable outcomes is the number of ways to choose 3 rolls of each type for the guests. This is equivalent to (3!/(1!1!1!)) * (3!/(1!1!1!)) * (3!/(1!1!1!)) = (6)^3 = 216. The probability is 216 / (9!/(3!3!3!)) = 216 / 1680 = 9/70. Thus, m = 9, n = 70, and m + n = 79.</reasoning>\\n<answer>79</answer>'}]\n",
      "[{'role': 'assistant', 'content': '<think>\\n\\n</think>\\n\\n<reasoning>Since AL and BK are angle bisectors, we can use the angle bisector theorem to find the coordinates of L and K. Then, we can find the equations of AL and BK, and find the feet of the perpendiculars from C to these lines. Finally, we can compute the distance between M and N.</reasoning>\\n<answer>15</answer>'}]\n",
      "[{'role': 'assistant', 'content': '<think>\\n\\n</think>\\n\\n<reasoning>To form a 3-digit mountain number, the middle digit must be larger than both the first and last digits. The first digit cannot be zero. For each possible middle digit (from 1 to 9), we count the number of valid first and last digits that are smaller than the middle digit. For each middle digit d (1-9), there are (d-1) choices for the first digit (1 to d-1) and (d-1) choices for the last digit (1 to d-1). So the total number of mountain numbers is the sum over d=1 to 9 of (d-1)^2.</reasoning>\\n<answer>50</answer>'}]\n",
      "[{'role': 'assistant', 'content': '<think>\\n\\n</think>\\n\\n<reasoning>Since the sequence starts with a1 = 2007 and a2 = 2008, the third term a3 must satisfy a1 + a2 + a3 = 2. Solving for a3 gives a3 = 2 - a1 - a2 = 2 - 2007 - 2008 = -4013. The sequence then continues with a4 = 2 - a2 - a3 = 2 - 2008 - (-4013) = 2 + 2005 = 2007. Observing the pattern, a1 = 2007, a2 = 2008, a3 = -4013, a4 = 2007, a5 = 2008, a6 = -4013, and so on. The sequence repeats every 3 terms: 2007, 2008, -4013. Since the sequence repeats every 3 terms, the value of a_{1000} is the same as a_{1000 mod 3}. Since 1000 mod 3 = 1, a_{1000} = a1 = 2007.</reasoning>\\n<answer>2007</answer>'}]\n",
      "[{'role': 'assistant', 'content': '<think>\\n\\n</think>\\n\\n<reasoning>Figure 1 shows a unit cube cut twice to form three triangular prisms, two of which are congruent. The cube is then cut again in the same manner along the dashed lines in Figure 2, creating nine pieces. The key is to determine the volume of the piece containing vertex W. Since the original cube has a volume of 1, and the cuts divide it into nine pieces, the volume of each piece would be 1/9. However, the congruent prisms suggest that the cuts divide the cube into parts that are proportional to the cuts. The dashed lines in Figure 2 indicate that the cube is divided into smaller sections, and the piece containing W would be one of these sections. By analyzing the Asymptote code, the cuts are along specific lines, and the position of W suggests it is in a specific corner of the original cube.</reasoning>\\n<answer>1/9</answer>'}]\n",
      "[{'role': 'assistant', 'content': '<think>\\n\\n</think>\\n\\n<reasoning>Since the recurrence relation is given for $ n \\\\ge 2 $, we can compute the first few terms to look for a pattern. For $ n = 2 $, $ a_2 = \\\\frac{2S_2^2}{2S_2 - 1} $. Since $ S_2 = a_1 + a_2 $, we can solve for $ a_2 $. Then, we can compute $ a_3 $, and so on, to find a pattern.</reasoning>\\n<answer>1</answer>'}]\n",
      "[{'role': 'assistant', 'content': '<think>\\n\\n</think>\\n\\n<reasoning>To simplify the complex fraction, we multiply the numerator and denominator by the conjugate of the denominator, which is $1-2i$. This eliminates the imaginary part in the denominator.</reasoning>\\n<answer>3/2 + 1i</answer>'}]\n",
      "[{'role': 'assistant', 'content': \"<think>\\nOkay, so I need to figure out the coordinates of points A and B in this diagram. Let me try to visualize the Asymptote code. There's a lot of coordinates and some drawings. Let me parse through it step by step.\\n\\nFirst, the Asymptote code starts with some draw commands. There's a cycle that connects points (0,0), (3, 3√3, 8), (3, -3√3, 8), (3, -3√3, 8), then back to (0,0). Wait, that seems a bit confusing. Maybe the coordinates are in 3D? The Asymptote code uses coordinates like (x, y, z), so maybe they are in 3D space?\\n\\nWait, the problem is about a diagram with points A and B, and the Asymptote code is drawing some 3D shapes. Let me try to understand the structure.\\n\\nFirst, there's a cycle that goes from (0,0) to (3, 3√3, 8) to (3, -3√3, 8) to (3, -3√3, 8) and back to (0,0). Wait, that seems like a triangle? But then there's a line from (3, 3√3, 8) to (3, -3√3, 8), which is a horizontal line? Then another line from (3, -3√3, 8) back to (0,0)? Maybe there's a cube or something?\\n\\nBut then there's a lot of other lines. For example, there's a draw command that goes from (-6*cos(atan(-1/5)+3.14159), -6*sin(atan(-1/5)+3.14159), 0) to (6, 0, 0). Hmm. Let me try to compute those coordinates.\\n\\nFirst, atan(-1/5) is the angle whose tangent is -1/5. Since tan(θ) = -1/5, θ is in the fourth quadrant. Then adding π to that angle would be in the third quadrant. Let me compute cos(atan(-1/5) + π). Let me recall that tan(θ) = -1/5, so θ is in the fourth quadrant. Then θ + π is in the third quadrant. The cosine of θ + π is cos(π + θ) = -cos(θ). Similarly, sin(π + θ) = -sin(θ). So, cos(θ) = sqrt(1 - (1/5)^2) = sqrt(1 - 1/25) = sqrt(24/25) = 2*sqrt(6)/5. Wait, but θ is in the fourth quadrant, so cos(θ) is positive, and sin(θ) is negative. Therefore, cos(θ) = sqrt(1 - (1/5)^2) = sqrt(24)/5 = 2*sqrt(6)/5. Then sin(θ) = -1/5. Therefore, cos(θ + π) = -cos(θ) = -2*sqrt(6)/5, and sin(θ + π) = -sin(θ) = 1/5. Therefore, the point (-6*cos(atan(-1/5)+3.14159), -6*sin(atan(-1/5)+3.14159), 0) would be (-6*(-2*sqrt(6)/5), -6*(1/5), 0) = (12*sqrt(6)/5, -6/5, 0). Wait, but the coordinates are written as (-6*cos(...), -6*sin(...), 0). Wait, the original code is:\\n\\ndraw(rpic,(-6*cos(atan(-1/5)+3.14159),-6*sin(atan(-1/5)+3.14159),0)..(6,0,0));\\n\\nSo, the x-coordinate is -6*cos(...), y-coordinate is -6*sin(...), z-coordinate is 0. So, if θ is atan(-1/5), then θ + π is the angle, so cos(θ + π) is -cos(θ) = -2*sqrt(6)/5, and sin(θ + π) is 1/5. Therefore, the x-coordinate is -6*cos(θ + π) = -6*(-2*sqrt(6)/5) = 12*sqrt(6)/5, y-coordinate is -6*sin(θ + π) = -6*(1/5) = -6/5. Therefore, the point is (12\"}]\n",
      "[{'role': 'assistant', 'content': \"<think>\\n\\n</think>\\n\\n<reasoning>Since only Malvina could determine her function after knowing the values, the value on her card must be such that it is unique among the three values. The other two values must be ambiguous for the other two students. Since Joel selected an acute angle, all values are positive and less than 1. The tan x value is the largest among the three if x is greater than 45 degrees. If x is less than 45 degrees, then sin x and cos x are both greater than √2/2, but tan x is less than 1. However, if x is 45 degrees, tan x = 1, which would make two values equal. But since x is strictly between 0 and 90 degrees, it cannot be exactly 45 degrees. Therefore, the value on Malvina's card must be tan x, which is unique. The other two values are sin x and cos x, which are equal when x is 45 degrees, but since x is strictly between 0 and 90 degrees, they are distinct. Thus, the value on Malvina's card must be tan x, and the sum of all possible values is tan x. However, since only Malvina could determine her function, the value on her card must be unique. The other two values must be such that they cannot be determined by the other two students. Therefore, the value on Malvina's card must be tan x, and the sum of all possible values is tan x. But since the problem asks for the sum of all possible values that Joel wrote on Malvina's card, and there is only one possible value, the answer is tan x. However, the problem states that only Malvina could determine her function, so the value on her card must be unique. The other two values must be such that they cannot be determined by the other two students. Therefore, the value on Malvina's card must be tan x, and the sum of all possible values is tan x. But since the problem asks for the sum of all possible values that Joel wrote on Malvina's card, and there is only one possible value, the answer is tan x. However, the problem states that only Malvina could determine her function, so the value on her card must be unique. The other two values must be such that they cannot be determined by the other two students. Therefore, the value on Malvina's card must be tan x, and the sum of all possible values is tan x. But since the problem asks for the sum of all possible values that Joel wrote on Malvina's card, and there is only one possible value, the answer is tan x. However, the problem states that only Malvina could determine her function, so the value on her card must be unique. The other two values must be such that they cannot be determined by the other two students. Therefore, the value on Malvina's card must be tan x, and the sum of all possible values is tan x. But since the problem asks for the sum of all possible values that Joel wrote on Malvina's card, and there is only one possible value, the answer is tan x. However, the problem states that only Malvina could determine her function, so the value on her card must be unique. The other two values must be such that they cannot be determined by the other two students. Therefore, the value on Malvina's card must be tan x, and the sum of all possible values is tan x. But since the problem asks for the sum of all possible values that Joel wrote on Malvina's card, and there is only one possible value, the answer is tan x. However, the problem states that only Malvina could determine her function, so the value on her card must be unique. The other two values must be such that they cannot be determined by the other two students. Therefore, the value on Malvina's card must be tan x, and the sum of all possible values is tan x. But since the problem asks for the sum of all possible values that Joel wrote on Malvina's card, and there is only one possible value, the answer is tan x. However, the problem states that only Malvina could determine her function, so the value on her card must be unique. The other two values must be such that they cannot be determined by the other two students. Therefore, the value on Malvina's card must be tan x, and the sum of all possible values is tan x. But since the problem asks for the sum of all possible values that Joel wrote on Malvina's card, and there is only one possible value, the answer is tan x. However, the problem states that only Malvina could determine her function, so the value on her card must be unique. The other two values must be such that they cannot be determined by\"}]\n",
      "[{'role': 'assistant', 'content': '<think>\\n\\n</think>\\n\\n<reasoning>To find the maximum value of the function $ f(x) = \\\\sqrt{x(50 - x)} + \\\\sqrt{x(2 - x)} $ on the interval $ [0, 2] $, we need to evaluate the function at the critical points and the endpoints. The function is defined only where the expressions under the square roots are non-negative. The term $ \\\\sqrt{x(50 - x)} $ is defined for $ 0 \\\\leq x \\\\leq 50 $, but since the domain is restricted to $ [0, 2] $, we only consider this part. The term $ \\\\sqrt{x(2 - x)} $ is defined for $ 0 \\\\leq x \\\\leq 2 $. The maximum value may occur either at a critical point inside the interval or at the endpoints. To find critical points, we take the derivative of $ f(x) $ and set it equal to zero. However, since the function is composed of square roots, the derivative may be complex, but we can analyze the behavior of the function and its derivative to determine where the maximum occurs.</reasoning>\\n<answer>(2, f(2))</answer>'}]\n",
      "[{'role': 'assistant', 'content': '<think>\\n\\n</think>\\n\\n<reasoning>To determine how many $a_k$ are divisible by 9, we need to find the sum of the digits of $a_k$ and check if it is divisible by 9. Since $a_k$ is formed by writing the integers from 1 to $k$ from left to right, the sum of the digits of $a_k$ is the sum of the digits of all the numbers from 1 to $k$. For $k$ such that the sum of the digits of $a_k$ is divisible by 9, $a_k$ is divisible by 9.</reasoning>\\n<answer>10</answer>'}]\n",
      "[{'role': 'assistant', 'content': \"<think>\\n\\n</think>\\n\\n<reasoning>Since the last two digits are 23, the number is divisible by 3. A number is divisible by 3 if the sum of its digits is divisible by 3. The last two digits are 2 and 3, so their sum is 5. For the entire number to be divisible by 3, the sum of all digits must be a multiple of 3. The sum of the last two digits is 5, so the sum of the first two digits must be 2 (since 5 + 2 = 7, which is not divisible by 3, but 5 + 2 + 1 = 8, which is not divisible by 3). Wait, this approach is flawed. Let's correct it: the sum of the last two digits is 2 + 3 = 5. The entire number must have a digit sum divisible by 3. Let the first two digits be 'ab', where a and b are digits. Then the total digit sum is a + b + 5. This sum must be divisible by 3. So a + b + 5 ≡ 0 mod 3 ⇒ a + b ≡ 1 mod 3. Since a and b are digits (0-9), their sum must be 1 mod 3. The possible values for a + b are 1, 4, 7. Now, the first two digits 'ab' must be such that a + b = 1, 4, or 7. However, since the number is a four-digit number, the first digit 'a' cannot be 0. So, for a + b = 1: a can be 1, b = 0; a can be 2, b = -1 (invalid). So only (1, 0) is valid. For a + b = 4: a can be 1, b = 3; a can be 2, b = 2; a can be 3, b = 1; a can be 4, b = 0. For a + b = 7: a can be 1, b = 6; a can be 2, b = 5; a can be 3, b = 4; a can be 4, b = 3; a can be 5, b = 2; a can be 6, b = 1; a can be 7, b = 0. So total possibilities: 1 (for a + b = 1) + 3 (for a + b = 4) + 6 (for a + b = 7) = 10. But wait, the first digit a cannot be 0, so for a + b = 1: a=1, b=0 is valid. For a + b = 4: a=1, b=3; a=2, b=2; a=3, b=1; a=4, b=0. All valid. For a + b = 7: a=1, b=6; a=2, b=5; a=3, b=4; a=4, b=3; a=5, b=2; a=6, b=1; a=7, b=0. All valid. So total of 1 + 3 + 6 = 10 possibilities. But the answer is 10. Wait, but the original reasoning was flawed. Let me recount. The correct count is 10. But the answer might be 10. However, the correct answer is 10. But the original answer was 10. So the answer is 10.</reasoning>\\n<answer>10</answer>\"}]\n",
      "[{'role': 'assistant', 'content': '<think>\\n\\n</think>\\n\\n<reasoning>If 9n-2 and 7n+3 share a common factor greater than 1, then that factor must divide their difference. The difference between 9n-2 and 7n+3 is 2n - 5. Let d be the common factor. Then d divides 2n - 5 and d divides 9n - 2. Since d divides 2n - 5, it must also divide any integer combination of 2n - 5 and 9n - 2. Specifically, d divides 9(2n - 5) - (2n - 5) = 17n - 25. Similarly, d divides 2(2n - 5) - (9n - 2) = 4n - 10 - 9n + 2 = -5n - 8. Continuing this process, we can find that d must divide 5n + 8 and 2n - 5. The greatest common divisor of 2n - 5 and 5n + 8 must be 1 or greater. If d > 1, then it must divide their difference, which is 3n + 3. Thus, d divides 3n + 3 and 2n - 5. This implies d divides their difference, which is n + 3. So, d divides n + 3. Therefore, n + 3 must be a multiple of some prime number greater than 1. To find the smallest n, we test small values of n until we find one where n + 3 is a multiple of a prime number greater than 1. For n = 2, n + 3 = 5, which is prime. So, d = 5 is a common factor. Hence, n = 2 is the smallest such integer.</reasoning>\\n<answer>2</answer>'}]\n",
      "[{'role': 'assistant', 'content': '<think>\\n\\n</think>\\n\\n<reasoning>The equation given is the sum of two square roots, each representing the distance from a point (x,y) to two fixed points. The first term is the distance from (x,y) to (3, -4), and the second term is the distance from (x,y) to (-5, 8). The equation is of the form √((x-3)^2 + (y+4)^2) + √((x+5)^2 + (y-8)^2) = 20, which is the definition of an ellipse with foci at (3, -4) and (-5, 8). The distance between the foci is the distance between these two points.</reasoning>\\n<answer>10</answer>'}]\n",
      "[{'role': 'assistant', 'content': \"<think>\\n\\n</think>\\n\\n<reasoning>Since the sector is 300 degrees, which is 5/6 of a full circle, the radius of the original circle is 18. The circumference of the original circle is π*18, and the sector's arc length is (300/360)*π*18 = 15π. When the sector is formed into a cone, the arc length becomes the circumference of the base of the cone. Let the radius of the base of the cone be r. Then 2πr = 15π ⇒ r = 7.5. The height of the cone can be found using the Pythagorean theorem: h = √(18² - 7.5²) = √(324 - 56.25) = √267.5. The volume of the cone is (1/3)πr²h = (1/3)π(56.25)(√267.5). Dividing this by π gives (1/3)(56.25)(√267.5) ≈ 18.75√267.5. However, the problem asks for the result when the volume of the cone is divided by π, so the answer is (1/3)(56.25)(√267.5). But since the problem is likely expecting a simpler answer, perhaps there's a mistake in the reasoning.</reasoning>\\n<answer>18.75</answer>\"}]\n",
      "[{'role': 'assistant', 'content': \"<think>\\n\\n</think>\\n\\n<reasoning>Let's denote the angles A and B. We are given two equations: 3 sin A + 4 cos B = 6 and 4 sin B + 3 cos A = 1. Since sine and cosine functions have a maximum value of 1, the maximum value of 3 sin A is 3 and the maximum value of 4 cos B is 4. However, the sum 3 sin A + 4 cos B = 6 implies that both terms must be at their maximum values. This would require sin A = 1 and cos B = 1, but this would make angle A = 90° and angle B = 0°, which is impossible in a triangle. Therefore, the equations cannot be satisfied with both terms reaching their maximum. Let's consider the possibility that one of the terms is greater than 1 and the other is less. However, the sum of 3 sin A + 4 cos B = 6 suggests that 3 sin A must be very large, implying sin A is close to 1, and 4 cos B must be close to 6, implying cos B is close to 1.5, which is impossible. Thus, there is a contradiction. However, if we consider the possibility that one of the equations is not both terms reaching their maximum, we can try solving the equations numerically.</reasoning>\\n<answer>150</answer>\"}]\n",
      "[{'role': 'assistant', 'content': \"<think>\\n\\n</think>\\n\\n<reasoning>Since the hexagon is inscribed in a circle, all its vertices lie on the circle. The hexagon has three consecutive sides of length 3 and three consecutive sides of length 5. Let's consider the hexagon as consisting of two sets of three consecutive sides: one set of sides of length 3 and another set of sides of length 5. The chord that divides the hexagon into two trapezoids must be a chord that connects the endpoints of one of the sides of length 3 to the endpoints of one of the sides of length 5. This chord would form a trapezoid with three sides of length 3 and three sides of length 5. The length of this chord can be found using the properties of the circle and the chord lengths.</reasoning>\\n<answer>2</answer>\"}]\n",
      "[{'role': 'assistant', 'content': \"<think>\\n\\n</think>\\n\\n<reasoning>Since BC is parallel to AD, trapezoid ABCD is defined with BC = 1000 and AD = 2008. The angles at A and D are 37° and 53°, respectively. The midpoints M and N of BC and AD, respectively, lie halfway along their respective sides. To find MN, we can consider the coordinates of M and N. Let's place the trapezoid in the coordinate plane with AD along the x-axis. Let A be at (0, 0). Since angle A is 37°, the side AB makes an angle of 37° with AD. The length of AB can be found using trigonometry. Similarly, the length of DC can be found using the angle at D. Then, the coordinates of B and D can be determined. The coordinates of M and N can be found by averaging the coordinates of B and C, and A and D, respectively. The distance between M and N can then be calculated using the distance formula.</reasoning>\\n<answer>2004</answer>\"}]\n",
      "[{'role': 'assistant', 'content': \"<think>\\n\\n</think>\\n\\n<reasoning>Since a and b are integers with a > b, the denominator a - b must be a positive integer. Let's let a - b = 1, which gives the smallest possible value for the denominator. Then a = b + 1. Substituting into the expression, we get (b + 1 + b)/(1) + (1)/(b + 1 - b) = (2b + 1) + 1/(1) = 2b + 1 + 1 = 2b + 2. To minimize the value of the expression, we need to minimize b. The smallest integer b can be is 0, which gives a = 1. Substituting back, the expression becomes (1 + 0)/(1 - 0) + (1 - 0)/(1 + 0) = 1 + 1 = 2. However, if b = 0, then a = 1, and the denominator a - b = 1, which is allowed. But wait, the problem states a > b, which is true here (1 > 0). However, if b = 0, then the second term is (a - b)/(a + b) = 1/1 = 1, and the first term is (a + b)/(a - b) = 1/1 = 1, so the total is 1 + 1 = 2. But let's check if there's a smaller value. If b = -1, then a = 0, but a must be greater than b, which is -1, so a = 0 is allowed. Then the denominator a - b = 0 - (-1) = 1, and the numerator a + b = 0 + (-1) = -1. So the first term is -1/1 = -1, and the second term is 1/1 = 1, so the total is -1 + 1 = 0. But this gives a smaller value than 2. However, the problem states that a and b are integers with a > b. If a = 0 and b = -1, then a > b is true. So this is a valid case. The value is 0, which is smaller than 2. So the smallest possible positive value is 0. But wait, the question asks for the smallest possible positive value. So 0 is not positive. The next possible value is 1. Let's check if there's a case where the expression equals 1. If the expression equals 1, then (a + b)/(a - b) + (a - b)/(a + b) = 1. Let's try a = 2, b = 1. Then the first term is 3/1 = 3, the second term is 1/3, total is 3 + 1/3 = 3.333... Not 1. If a = 1, b = 0, then the first term is 1/1 = 1, the second term is 1/1 = 1, total is 2. If a = 2, b = 1, as before, total is 3 + 1/3. If a = 3, b = 1, then the first term is 4/2 = 2, the second term is 2/4 = 0.5, total is 2.5. If a = 2, b = 1, total is 3 + 1/3. If a = 3, b = 2, then the first term is 5/1 = 5, the second term is 1/5, total is 5.2. If a = 2, b = 0, then the first term is 2/2 = 1, the second term is 2/2 = 1, total is 2. If a = 3, b = 1, total is 2.5. If a = 4, b = 1, first term is 5/3 ≈ 1.666, second term is 3/5 = 0.6, total ≈ 2.266. If a = 3, b = 2, total is 5/1 = 5 and 1/5 = 0.2, total 5.2. If a = 4, b = 1, total is 5/3 + 3/5 = 25/15 + 9/15 = 34/15 ≈ 2.266. If a = 5, b = 2, first term is 7/3 ≈ 2.333, second\"}]\n",
      "[{'role': 'assistant', 'content': '<think>\\n\\n</think>\\n\\n<reasoning>The equation given is $x = 2y^2 - 3y + 7$. For a parabola in the form $x = ay^2 + by + c$, the graph opens to the right if $a > 0$ and to the left if $a < 0$. The number of $y$-intercepts is determined by the number of real solutions to the equation $y = 0$. However, the question asks about $y$-intercepts, which are points where the graph intersects the $y$-axis. The $y$-intercept occurs when $x = 0$, so we need to find the values of $y$ that satisfy $0 = 2y^2 - 3y + 7$. This is a quadratic equation, but since the discriminant ($b^2 - 4ac$) is $9 - 28 = -19 < 0$, there are no real solutions. Therefore, the graph does not intersect the $y$-axis, and there are no $y$-intercepts.</reasoning>\\n<answer>0</answer>'}]\n",
      "[{'role': 'assistant', 'content': '<think>\\n\\n</think>\\n\\n<reasoning>Since exactly one of the chosen marbles must be red, green, or blue, we need to choose 1 marble from the three colors (red, green, blue) and then choose 3 marbles from the remaining 11 marbles. However, we must ensure that only one of the chosen marbles is from the color group (red, green, blue). So, we first choose 1 marble from the red, green, or blue marbles, and then choose 3 marbles from the remaining 11 marbles, making sure that none of those 3 marbles are of the same color as the chosen one. But since the problem states that exactly one of the chosen marbles is red, green, or blue, it implies that only one of the four marbles chosen is from the color group, and the other three are from the remaining colors. However, the problem is ambiguous about whether the other three marbles must be of different colors or just other colors. Assuming that the other three marbles must be of different colors, we need to consider the possible choices. But the problem states \"exactly one of the chosen marbles is red, green, or blue,\" which means only one of the four marbles is from the color group, and the other three are not. So, we choose 1 marble from the red, green, or blue marbles, and then choose 3 marbles from the remaining 11, which are not of the same color as the chosen one. However, this interpretation is unclear. The problem is ambiguous, but the most straightforward interpretation is that exactly one of the four marbles is from the color group (red, green, blue), and the other three are not. So, we choose 1 marble from the three colors (red, green, blue), and then choose 3 marbles from the remaining 11 marbles, which are not of the same color as the chosen one. But since the problem doesn\\'t specify that the other three marbles must be of different colors, just that they are not red, green, or blue, the answer is simply C(3,1) * C(11,3).</reasoning>\\n<answer>3*110</answer>'}]\n",
      "[{'role': 'assistant', 'content': \"<think>\\n\\n</think>\\n\\n<reasoning>The given sum is $\\\\sum_{n=1}^{\\\\infty}\\\\frac{n}{n^4+4}$. We can factor the denominator as $n^4 + 4 = (n^2)^2 + 2^2$, which suggests using the sum of squares identity. However, it's more effective to factor the denominator as $n^4 + 4 = (n^2 + 2)^2 - (2n)^2 = (n^2 + 2 - 2n)(n^2 + 2 + 2n)$. This factorization allows us to rewrite the denominator as $(n - 1)^2(n + 1)^2 + 2^2$? Wait, let me correct that. The correct factorization is $n^4 + 4 = (n^2 + 2n + 2)(n^2 - 2n + 2)$. This is because $(n^2 + 2n + 2)(n^2 - 2n + 2) = n^4 - 2n^3 + 2n^2 + 2n^3 - 4n^2 + 4n + 2n^2 - 4n + 4 = n^4 + 0n^3 + 0n^2 + 0n + 4 = n^4 + 4$. So the denominator factors as $(n^2 + 2n + 2)(n^2 - 2n + 2)$. Then, the sum becomes $\\\\sum_{n=1}^{\\\\infty}\\\\frac{n}{(n^2 + 2n + 2)(n^2 - 2n + 2)}$. We can use partial fractions. Let's set $\\\\frac{n}{(n^2 + 2n + 2)(n^2 - 2n + 2)} = \\\\frac{A}{n - 1} + \\\\frac{B}{n + 1} + \\\\frac{C}{n^2 + 2n + 2} + \\\\frac{D}{n^2 - 2n + 2}$. Solving for A, B, C, D would be tedious, but perhaps we can find a telescoping series. Alternatively, notice that the denominator can be written as $(n^2 + 2n + 2)(n^2 - 2n + 2) = (n^2 + 2n + 2)(n^2 - 2n + 2)$. Let's consider the difference between terms. Let $a_n = \\\\frac{1}{n^2 + 2n + 2}$ and $b_n = \\\\frac{1}{n^2 - 2n + 2}$. Then, the sum becomes $\\\\sum_{n=1}^{\\\\infty} \\\\frac{n}{(n^2 + 2n + 2)(n^2 - 2n + 2)} = \\\\sum_{n=1}^{\\\\infty} \\\\frac{n}{(n^2 + 2n + 2)(n^2 - 2n + 2)}$. Let's write the denominator as $(n^2 + 2n + 2)(n^2 - 2n + 2) = (n^2 + 2n + 2)(n^2 - 2n + 2)$. Let's consider the difference between $\\\\frac{1}{n - 1}$ and $\\\\frac{1}{n + 1}$, but I need to think differently. Alternatively, since the denominator factors as $(n^2 + 2n + 2)(n^2 - 2n + 2)$, we can write the term as $\\\\frac{n}{(n^2 + 2n + 2)(n^2 - 2n + 2)} = \\\\frac{n}{(n^2 + 2n + 2)(n^2 - 2n + 2)}$. Let's consider the partial fractions. Let me try to find constants A and B such that $\\\\frac{n}{(n^2 + 2n + 2)(n^2 - 2n + 2)} = \\\\frac{A}{n - 1} + \\\\frac{B}{n + 1} + \\\\frac{C}{n^2 + 2n + 2} + \\\\frac{D}{n^2 - 2n + 2}$. Solving this would be complex, but perhaps we can use the fact that the sum telescopes. Alternatively, since the denominator is a product of quadratics, we can write the term as a difference of fractions. However, this might not be straightforward. Let\"}]\n",
      "[{'role': 'assistant', 'content': \"<think>\\n\\n</think>\\n\\n<reasoning>The sum S can be viewed as the sum of binomial coefficients with even indices multiplied by (-1)^k, where k ranges from 0 to 49. This is equivalent to summing the binomial coefficients of the form $\\\\binom{99}{2k}$ with alternating signs. Notice that the binomial theorem can be used here. If we consider the expansion of $(1 - 1)^{99}$, it equals $\\\\sum_{k=0}^{99} \\\\binom{99}{k} (-1)^k = 0$. However, this sum includes all the binomial coefficients with even and odd indices. To isolate the even-indexed terms, we can use the fact that $\\\\sum_{k=0}^{n} \\\\binom{n}{2k} (-1)^k = \\\\frac{1}{2} \\\\left( \\\\sum_{k=0}^{n} \\\\binom{n}{k} (-1)^k + \\\\sum_{k=0}^{n} \\\\binom{n}{k} (-1)^k \\\\right)$. But this approach is not straightforward. Instead, consider the sum $S$ as the sum of $\\\\binom{99}{2k} (-1)^k$ for $k = 0$ to $49$. This is equivalent to evaluating the sum of $\\\\binom{99}{2k} (-1)^k$ which can be found by considering the expansion of $(1 + 1)^{99}$ and $(1 - 1)^{99}$. The difference between these two expansions gives the sum of the binomial coefficients with odd indices. However, the sum $S$ is the sum of the even-indexed terms with alternating signs. By using the fact that $\\\\sum_{k=0}^{n} \\\\binom{n}{2k} (-1)^k = \\\\frac{1}{2} \\\\left( \\\\sum_{k=0}^{n} \\\\binom{n}{k} (-1)^k + \\\\sum_{k=0}^{n} \\\\binom{n}{k} (-1)^k \\\\right)$, we can find the value of $S$. However, this reasoning is complex and may not be necessary. A simpler approach is to recognize that the sum $S$ is the same as the sum of $\\\\binom{99}{2k} (-1)^k$ for $k = 0$ to $49$, which is equivalent to $\\\\sum_{k=0}^{49} \\\\binom{99}{2k} (-1)^k$. This can be evaluated by considering the binomial expansion of $(1 + 1)^{99}$ and $(1 - 1)^{99}$, but it's more straightforward to use the fact that the sum of the even-indexed binomial coefficients with alternating signs is $2^{98}$. However, this is not directly applicable. Given the complexity, the answer is likely $-2^{49}$.</reasoning>\\n<answer>B</answer>\"}]\n"
     ]
    },
    {
     "name": "stderr",
     "output_type": "stream",
     "text": [
      "ERROR:math_verify.grader:Timeout during comparison\n"
     ]
    },
    {
     "name": "stdout",
     "output_type": "stream",
     "text": [
      "[{'role': 'assistant', 'content': '<think>\\n\\n</think>\\n\\n<reasoning>Since 3^2 = 9, 3^{2n} is congruent to 0 modulo 9. Therefore, 3^{2n} + 4 is congruent to 4 modulo 9. The inverse of 4 modulo 9 is a number x such that 4x ≡ 1 mod 9. Testing x=7: 4*7=28≡1 mod 9. So the inverse is 7. Thus, a ≡ 7 mod 9.</reasoning>\\n<answer>7</answer>'}]\n",
      "[{'role': 'assistant', 'content': \"<think>\\n\\n</think>\\n\\n<reasoning>Since the equation involves $(2+i)$ raised to various powers, we can factor out $(2+i)^2$ from the terms involving $(2+i)^4$ and $(2+i)^3$. Let's rewrite the equation as $a(2+i)^4 + b(2+i)^3 + c(2+i)^2 + b(2+i) + a = 0$. Factoring out $(2+i)^2$, we get $(2+i)^2 [a(2+i)^2 + b(2+i) + c + \\\\frac{b}{(2+i)} + \\\\frac{a}{(2+i)}] = 0$. However, this approach may not be straightforward. Instead, let's substitute $x = 2 + i$ and rewrite the equation as $a x^4 + b x^3 + c x^2 + b x + a = 0$. Since $x = 2 + i$, we can compute $x^2 = (2 + i)^2 = 4 + 4i + i^2 = 3 + 4i$, $x^3 = x^2 \\\\cdot x = (3 + 4i)(2 + i) = 6 + 3i + 4i + 4i^2 = 6 + 7i - 4 = 2 + 7i$, and $x^4 = x^3 \\\\cdot x = (2 + 7i)(2 + i) = 4 + 2i + 7i + 7i^2 = 4 + 9i - 7 = -3 + 9i$. Substituting these into the equation gives $a(-3 + 9i) + b(2 + 7i) + c(3 + 4i) + b(2 + 7i) + a = 0$. Combining like terms, we get $[a + a] + [b + b] + [c(3 + 4i) + 7i(2 + b)] = 0$. This simplifies to $2a + 2b + c(3 + 4i) + 7i(2 + b) = 0$. Equating the real and imaginary parts, we get $2a + 2b + 3c = 0$ and $7b + 2c = 0$. Solving these equations, we find $7b + 2c = 0 \\\\implies c = -\\\\frac{7}{2}b$. Substituting into the first equation: $2a + 2b + 3(-\\\\frac{7}{2}b) = 0 \\\\implies 2a + 2b - \\\\frac{21}{2}b = 0 \\\\implies 2a - \\\\frac{19}{2}b = 0 \\\\implies a = \\\\frac{19}{4}b$. Since $a$ and $b$ are integers, $b$ must be a multiple of 4. Let $b = 4k$, then $c = -\\\\frac{7}{2}(4k) = -14k$ and $a = \\\\frac{19}{4}(4k) = 19k$. The integers $a, b, c$ are $19k, 4k, -14k$. The greatest common divisor of $19k, 4k, -14k$ is $k$ (since 19, 4, and 14 are coprime). For the GCD to be 1, $k = 1$. Thus, $a = 19$, $b = 4$, $c = -14$. Therefore, $|c| = 14$.</reasoning>\\n<answer>14</answer>\"}]\n",
      "[{'role': 'assistant', 'content': '<think>\\n\\n</think>\\n\\n<reasoning>The given expression is the product of two series. The first series is $1 + \\\\frac{1}{2} + \\\\frac{1}{4} + \\\\frac{1}{8} + \\\\cdots$, which is a geometric series with first term 1 and common ratio $\\\\frac{1}{2}$. The second series is $1 - \\\\frac{1}{2} + \\\\frac{1}{4} - \\\\frac{1}{8} + \\\\cdots$, which is also a geometric series with first term 1 and common ratio $-\\\\frac{1}{2}$. The product of these two series can be found by multiplying their terms. The third series is $1 + \\\\frac{1}{x} + \\\\frac{1}{x^2} + \\\\frac{1}{x^3} + \\\\cdots$, which is a geometric series with first term 1 and common ratio $\\\\frac{1}{x}$. Since the product of the two original series is equal to this third series, we can equate the common ratios and solve for $x$.</reasoning>\\n<answer>2</answer>'}]\n",
      "[{'role': 'assistant', 'content': \"<think>\\n\\n</think>\\n\\n<reasoning>Consider a cube with faces labeled with integers $a, b, c, d, e, f$. The cube has 8 vertices, each labeled with the product of three adjacent face numbers. Each vertex is adjacent to three faces, so the product at each vertex is the product of three of the face numbers. Let's denote the faces as follows: let the faces be labeled such that the front face is $a$, the back face is $b$, the left face is $c$, the right face is $d$, the top face is $e$, and the bottom face is $f$. \\n\\nThe vertices are:\\n- Front-top-left: $a \\\\cdot e \\\\cdot c$\\n- Front-top-right: $a \\\\cdot e \\\\cdot d$\\n- Front-bottom-left: $a \\\\cdot f \\\\cdot c$\\n- Front-bottom-right: $a \\\\cdot f \\\\cdot d$\\n- Back-top-left: $b \\\\cdot e \\\\cdot c$\\n- Back-top-right: $b \\\\cdot e \\\\cdot d$\\n- Back-bottom-left: $b \\\\cdot f \\\\cdot c$\\n- Back-bottom-right: $b \\\\cdot f \\\\cdot d$\\n\\nThe sum of the vertex values is $1001$, so:\\n$$\\n(a \\\\cdot e \\\\cdot c) + (a \\\\cdot e \\\\cdot d) + (a \\\\cdot f \\\\cdot c) + (a \\\\cdot f \\\\cdot d) + (b \\\\cdot e \\\\cdot c) + (b \\\\cdot e \\\\cdot d) + (b \\\\cdot f \\\\cdot c) + (b \\\\cdot f \\\\cdot d) = 1001\\n$$\\n\\nFactor out common terms:\\n$$\\na \\\\cdot e \\\\cdot c + a \\\\cdot e \\\\cdot d + a \\\\cdot f \\\\cdot c + a \\\\cdot f \\\\cdot d + b \\\\cdot e \\\\cdot c + b \\\\cdot e \\\\cdot d + b \\\\cdot f \\\\cdot c + b \\\\cdot f \\\\cdot d\\n$$\\n\\nGroup terms:\\n$$\\na \\\\cdot e \\\\cdot (c + d) + a \\\\cdot f \\\\cdot (c + d) + b \\\\cdot e \\\\cdot (c + d) + b \\\\cdot f \\\\cdot (c + d)\\n$$\\n\\nFactor out $ (c + d) $:\\n$$\\n(c + d)(a \\\\cdot e + a \\\\cdot f + b \\\\cdot e + b \\\\cdot f)\\n$$\\n\\nFactor further:\\n$$\\n(c + d)(a(e + f) + b(e + f)) = (c + d)(e + f)(a + b)\\n$$\\n\\nSo the sum of the vertex values is $ (c + d)(e + f)(a + b) = 1001 $.\\n\\nNow, since $1001 = 7 \\\\times 11 \\\\times 13$, the possible factorizations of 1001 into three integers are $1 \\\\times 1 \\\\times 1001$, $1 \\\\times 7 \\\\times 143$, $1 \\\\times 11 \\\\times 91$, $1 \\\\times 77 \\\\times 13$, $7 \\\\times 11 \\\\times 13$, and others. Since $a, b, c, d, e, f$ are positive integers, $c + d$ and $e + f$ must be positive integers greater than or equal to 1. Also, $a + b$ must be a positive integer.\\n\\nLet’s consider the factorization $7 \\\\times 11 \\\\times 13$. Then $ (c + d)(e + f)(a + b) = 1001 $, so $ (c + d)(e + f) = 7 \\\\times 11 \\\\times 13 $ divided by $a + b$. Let’s try $a + b = 7$, then $ (c + d)(e + f) = 11 \\\\times 13 = 143 $. Then $c + d$ and $e + f$ are positive integers such that their product is 143. Possible pairs are (1, 143), (11, 13), (7, 20.428...), but since $c$ and $d$ are positive integers, $c + d$ must be an integer. So possible pairs are (1, 143), (11, 13). Let's try $c + d = 11$ and $e + f = 13$. Then $a + b = 7$. Let’s assign values such that $a + b = 7$. Let’s say $a = 1$, $b = 6$. Then $c + d = 11$ and $e +\"}]\n",
      "[{'role': 'assistant', 'content': '<think>\\n\\n</think>\\n\\n<reasoning>To solve the problem, we first need to convert the binary numbers to decimal, perform the multiplication and division in decimal, and then convert the result back to binary. Converting each binary number to decimal: $10110_2$ is $18_{10}$, $10100_2$ is $20_{10}$, and $10_2$ is $2_{10}$. Then, we perform the operations: $18 \\\\times 20 = 360$ and $360 \\\\div 2 = 180$. Finally, converting 180 to binary: $180_{10}$ is $10110100_2$.</reasoning>\\n<answer>10110100</answer>'}]\n",
      "[{'role': 'assistant', 'content': \"<think>\\n\\n</think>\\n\\n<reasoning>Since the large equilateral triangle is constructed from four smaller equilateral triangles, each of the same color, and there are six colors available, we need to count the number of distinct large triangles that can be formed by arranging four small triangles of the same color. However, the problem states that two large triangles are distinguishable if they cannot be transformed into each other via translations, rotations, and reflections. Since the large triangle is made by placing four small triangles, the key is to determine how many distinct colorings of the small triangles result in distinct large triangles under the given symmetry operations. However, the Asymptote code draws a large triangle made of four small triangles, but the exact configuration is not clear. Given the problem's complexity and the need for a concise answer, the most straightforward approach is to consider that each small triangle can be colored in 6 ways, but since the large triangle is constructed from four small ones, and the problem states that the large triangle is distinguishable based on colorings, the answer is 6. However, considering the possible symmetries and the need for distinct large triangles, the answer might be 6. But given the problem's complexity and the need for a concise answer, the answer is 6.</reasoning>\\n<answer>6</answer>\"}]\n",
      "[{'role': 'assistant', 'content': '<think>\\n\\n</think>\\n\\n<reasoning>Since a_0 = 1/2, then a_1 = 1 + (a_0 - 1)^2 = 1 + (1/2 - 1)^2 = 1 + (1/2)^2 = 1 + 1/4 = 5/4. Then a_2 = 1 + (a_1 - 1)^2 = 1 + (5/4 - 1)^2 = 1 + (1/4)^2 = 1 + 1/16 = 17/16. Continuing this pattern, each subsequent term is 1 plus the square of the previous term minus 1. This results in a sequence where each term is slightly larger than 1, and the difference between consecutive terms becomes smaller. However, since the sequence is defined recursively and each term is greater than 1, the product a_0 a_1 a_2 ... will approach a finite limit. But since the terms are all greater than 1 and the sequence is increasing, the product may not converge to a finite value. However, the problem asks to compute the product up to the infinite sequence, which suggests that the product might converge to a specific value. But given the recursive definition, the terms are increasing and approaching 1 from above, so the product might converge to a finite value. However, the exact value requires more precise analysis.</reasoning>\\n<answer>1</answer>'}]\n",
      "[{'role': 'assistant', 'content': \"<think>\\n\\n</think>\\n\\n<reasoning>Since X and Y are midpoints of BC and DA respectively, we can use coordinate geometry to find their coordinates and then compute the distance between them. Let's place the quadrilateral in the coordinate plane. Let D be at the origin (0, 0). Since angle D is 60 degrees and DA = 24, point A can be at (24, 0). Then, since angle D is 60 degrees, point C can be found by rotating point A around D by 60 degrees. The coordinates of C are (24*cos(60°), 24*sin(60°)) = (12, 12√3). Now, since BC = 13 and AB = 13, we can find the coordinates of B. Let's denote B as (x, y). The distance from B to C is 13, so (x - 12)^2 + (y - 12√3)^2 = 13^2 = 169. The distance from B to A is 13, so (x - 24)^2 + y^2 = 169. Solving these equations will give the coordinates of B. Once we have B, we can find the coordinates of X and Y, then compute the distance between them.</reasoning>\\n<answer>13</answer>\"}]\n",
      "[{'role': 'assistant', 'content': '<think>\\n\\n</think>\\n\\n<reasoning>Points that are 5 units from the line y=13 must lie on the horizontal lines y=12 and y=14. The points 5 units away from the line y=13 are (x, 12) and (x, 14) for any x. Now, we need to find the points that are 13 units away from the point (7,13). These points lie on the circle with center (7,13) and radius 13. The circle intersects the horizontal lines y=12 and y=14 at two points each. For y=12, the points are (x, 12) where (x-7)^2 + (12-13)^2 = 13^2 → (x-7)^2 + 1 = 169 → (x-7)^2 = 168 → x = 7 ± 2√42. Similarly, for y=14, the points are (x, 14) where (x-7)^2 + (14-13)^2 = 13^2 → (x-7)^2 + 1 = 169 → (x-7)^2 = 168 → x = 7 ± 2√42. Thus, the four points are (7 + 2√42, 12), (7 - 2√42, 12), (7 + 2√42, 14), and (7 - 2√42, 14). The sum of the x-coordinates is 2*(7 + 2√42) + 2*(7 - 2√42) = 2*7 + 2*7 = 14. The sum of the y-coordinates is 12 + 14 = 26. Total sum is 14 + 26 = 40.</reasoning>\\n<answer>40</answer>'}]\n",
      "[{'role': 'assistant', 'content': '<think>\\n\\n</think>\\n\\n<reasoning>To find $\\\\sin \\\\angle HAC$, we need to determine the angle between vectors $\\\\vec{HA}$ and $\\\\vec{AC}$, and then use the cross product to find the sine of that angle. First, we identify the coordinates of the points. Point A is at (0,0,0), point H is at (0,1,1), and point C is at (1,1,0). The vector $\\\\vec{HA}$ is from H to A, which is $\\\\vec{HA} = A - H = (0,0,0) - (0,1,1) = (0, -1, -1)$. The vector $\\\\vec{AC}$ is from A to C, which is $\\\\vec{AC} = C - A = (1,1,0) - (0,0,0) = (1,1,0)$. The sine of the angle between two vectors can be found using the cross product: $\\\\sin \\\\theta = \\\\frac{|\\\\vec{HA} \\\\times \\\\vec{AC}|}{|\\\\vec{HA}| |\\\\vec{AC}|}$.</reasoning>\\n<answer>$$\\\\frac{\\\\sqrt{2}}{2}$$</answer>'}]\n",
      "[{'role': 'assistant', 'content': '<think>\\n\\n</think>\\n\\n<reasoning>To solve for $ z $, we can rearrange the equation to group the terms involving $ z $ on one side. Starting with $ 2 - iz = -1 + 3iz $, we add $ iz $ to both sides to get $ 2 = -1 + 4iz $. Then, we add 1 to both sides to get $ 3 = 4iz $. Finally, we divide both sides by 4 to solve for $ z $: $ z = \\\\frac{3}{4i} $. To express this in standard form $ a + bi $, we multiply the numerator and denominator by $ i $ to get $ \\\\frac{3i}{4i^2} $. Since $ i^2 = -1 $, this becomes $ \\\\frac{3i}{-4} = -\\\\frac{3}{4}i $.</reasoning>\\n<answer>-3/4i</answer>'}]\n"
     ]
    },
    {
     "data": {
      "text/plain": [
       "TrainOutput(global_step=50, training_loss=0.013173042598996858, metrics={'train_runtime': 4226.4256, 'train_samples_per_second': 0.095, 'train_steps_per_second': 0.012, 'total_flos': 0.0, 'train_loss': 0.013173042598996858})"
      ]
     },
     "metadata": {},
     "output_type": "display_data"
    }
   ],
   "source": [
    "# Start the training process\n",
    "trainer.train()"
   ]
  },
  {
   "cell_type": "markdown",
   "id": "b79944d3",
   "metadata": {},
   "source": [
    "!!!!!!**Normal GRPO Training Behavior: Loss Starting at Zero Then Increasing**!!!!!\n",
    "This is completely normal. Initially, your model policy (πθ) equals your reference policy (πref), so their KL divergence is zero, meaning your loss starts at zero.\n",
    "During training, as πθ optimizes toward higher rewards, it naturally diverges from πref, causing the KL penalty term (βDKL[πθ∥πref]) to increase - which increases your loss.\n",
    "The simplified math shows this clearly:\n",
    "\n",
    "When πθold = πθ (single exploration step)\n",
    "After simplification and considering normalized advantages (∑A^i = 0)\n",
    "The loss becomes: JGRPO(θ) = -β·DKL[πθ∥πref]\n",
    "\n",
    "Your increasing loss actually indicates successful training - your policy is moving away from the reference to maximize rewards, constrained by the KL penalty."
   ]
  },
  {
   "cell_type": "markdown",
   "id": "6b246fa7",
   "metadata": {},
   "source": [
    "### 3.6 Saving the Model to float16 for VLLM\n",
    "We can save the model to float16 directly. Select merged_16bit for float16 or merged_4bit for int4. We also allow lora adapters as a fallback. Use push_to_hub_merged to upload to your Hugging Face account!"
   ]
  },
  {
   "cell_type": "code",
   "execution_count": null,
   "id": "8942d8de",
   "metadata": {},
   "outputs": [
    {
     "name": "stderr",
     "output_type": "stream",
     "text": [
      "Unsloth: You have 1 CPUs. Using `safe_serialization` is 10x slower.\n",
      "We shall switch to Pytorch saving, which might take 3 minutes and not 30 minutes.\n",
      "To force `safe_serialization`, set it to `None` instead.\n",
      "Unsloth: Kaggle/Colab has limited disk space. We need to delete the downloaded\n",
      "model which will save 4-16GB of disk space, allowing you to save on Kaggle/Colab.\n",
      "Unsloth: Will remove a cached repo with size 1.4G\n"
     ]
    },
    {
     "name": "stdout",
     "output_type": "stream",
     "text": [
      "Unsloth: Merging 4bit and LoRA weights to 16bit...\n",
      "Unsloth: Will use up to 2.01 out of 12.67 RAM for saving.\n",
      "Unsloth: Saving model... This might take 5 minutes ...\n"
     ]
    },
    {
     "name": "stderr",
     "output_type": "stream",
     "text": [
      "100%|██████████| 28/28 [00:02<00:00, 13.07it/s]\n"
     ]
    },
    {
     "name": "stdout",
     "output_type": "stream",
     "text": [
      "Unsloth: Saving tokenizer... Done.\n",
      "Unsloth: Saving Qwen3_1.7B-GRPO-math-reasoning/pytorch_model.bin...\n",
      "Done.\n"
     ]
    },
    {
     "name": "stderr",
     "output_type": "stream",
     "text": [
      "Unsloth: You are pushing to hub, but you passed your HF username = Afaf.\n",
      "We shall truncate Afaf/Qwen3_1.7B-GRPO-math-reasoning to Qwen3_1.7B-GRPO-math-reasoning\n"
     ]
    },
    {
     "name": "stdout",
     "output_type": "stream",
     "text": [
      "Unsloth: Merging 4bit and LoRA weights to 16bit...\n",
      "Unsloth: Will use up to 1.53 out of 12.67 RAM for saving.\n",
      "Unsloth: Saving model... This might take 5 minutes ...\n"
     ]
    },
    {
     "name": "stderr",
     "output_type": "stream",
     "text": [
      "100%|██████████| 28/28 [00:00<00:00, 52.74it/s]\n"
     ]
    },
    {
     "name": "stdout",
     "output_type": "stream",
     "text": [
      "Unsloth: Saving tokenizer..."
     ]
    },
    {
     "data": {
      "application/vnd.jupyter.widget-view+json": {
       "model_id": "ba04f32697af490a8f7b80684942549a",
       "version_major": 2,
       "version_minor": 0
      },
      "text/plain": [
       "  0%|          | 0/1 [00:00<?, ?it/s]"
      ]
     },
     "metadata": {},
     "output_type": "display_data"
    },
    {
     "data": {
      "application/vnd.jupyter.widget-view+json": {
       "model_id": "15f94ba92e5a48929fe466661f36debe",
       "version_major": 2,
       "version_minor": 0
      },
      "text/plain": [
       "tokenizer.json:   0%|          | 0.00/11.4M [00:00<?, ?B/s]"
      ]
     },
     "metadata": {},
     "output_type": "display_data"
    },
    {
     "name": "stdout",
     "output_type": "stream",
     "text": [
      " Done.\n",
      "Unsloth: Saving Qwen3_1.7B-GRPO-math-reasoning/pytorch_model.bin...\n"
     ]
    },
    {
     "data": {
      "application/vnd.jupyter.widget-view+json": {
       "model_id": "6a16b6fdcdfb47ea87aba16b4a7c3774",
       "version_major": 2,
       "version_minor": 0
      },
      "text/plain": [
       "README.md:   0%|          | 0.00/587 [00:00<?, ?B/s]"
      ]
     },
     "metadata": {},
     "output_type": "display_data"
    },
    {
     "data": {
      "application/vnd.jupyter.widget-view+json": {
       "model_id": "0286e625752e44d8ab69cad15aff0235",
       "version_major": 2,
       "version_minor": 0
      },
      "text/plain": [
       "  0%|          | 0/1 [00:00<?, ?it/s]"
      ]
     },
     "metadata": {},
     "output_type": "display_data"
    },
    {
     "data": {
      "application/vnd.jupyter.widget-view+json": {
       "model_id": "46c51b33de314db083cdc5c1de0ac8f9",
       "version_major": 2,
       "version_minor": 0
      },
      "text/plain": [
       "pytorch_model.bin:   0%|          | 0.00/3.44G [00:00<?, ?B/s]"
      ]
     },
     "metadata": {},
     "output_type": "display_data"
    },
    {
     "name": "stdout",
     "output_type": "stream",
     "text": [
      "Done.\n",
      "Saved merged model to https://huggingface.co/Afaf/Qwen3_1.7B-GRPO-math-reasoning\n"
     ]
    }
   ],
   "source": [
    "user_name = \"YOUR_USEER_NAME\"\n",
    "model.save_pretrained_merged(NEW_MODEL, tokenizer, save_method = \"merged_16bit\",)\n",
    "model.push_to_hub_merged(f\"{user_name}/{NEW_MODEL}\", tokenizer, save_method=\"merged_16bit\")\n",
    "\n",
    "NEW_MODEL"
   ]
  },
  {
   "cell_type": "markdown",
   "id": "ce72b5ba",
   "metadata": {},
   "source": [
    "We observe that the model demonstrates some reasoning capabilities, although these are limited. This can be attributed to several factors: the use of a small model, a limited subset of the dataset, and a short training duration to keep the process simple and practical for a notebook environment.\n",
    "\n",
    "Despite these constraints, this technique shows great promise. The release of DeepSeek-R1 and the adoption of this training approach could lead to significant breakthroughs in the coming months!"
   ]
  },
  {
   "cell_type": "markdown",
   "id": "8fc02583",
   "metadata": {},
   "source": [
    "## 4. Test the model\n",
    "\n",
    "In case you didn't manage to finish the training, feel free to call and load the model from the hub running it on test dataset\n",
    "\n"
   ]
  },
  {
   "cell_type": "code",
   "execution_count": null,
   "id": "547b3c86",
   "metadata": {},
   "outputs": [],
   "source": [
    "# Load the language model with optional 4-bit quantization and LoRA\n",
    "model_inf, tokenizer_inf = FastLanguageModel.from_pretrained(\n",
    "    model_name=f\"HackAI-2025/{NEW_MODEL}\",              # Name or path of the pretrained model\n",
    "    max_seq_length=max_seq_length,  # Sets maximum input size handled by the model\n",
    "    max_lora_rank=lora_rank,        # Sets the rank for the LoRA adaptation\n",
    "    full_finetuning=False,          # If True, fine-tunes all weights; if False, only fine-tunes LoRA layers\n",
    "    fast_inference=True)"
   ]
  },
  {
   "cell_type": "markdown",
   "id": "b0e461d9",
   "metadata": {},
   "source": [
    "Let us test it on Math&Maroc competition exercise:"
   ]
  },
  {
   "cell_type": "code",
   "execution_count": null,
   "id": "fc13964f",
   "metadata": {},
   "outputs": [],
   "source": [
    "# Extract text\n",
    "reader = PdfReader(\"Assets/MMC_2024_day1.pdf\")\n",
    "all_text = '\\n'.join([page.extract_text() for page in reader.pages[:1]]) # only eng page\n",
    "\n",
    "# Find all problems (Problem 1:, Problem 2:, etc.)\n",
    "pattern = r\"Problem\\s*(\\d+)\\s*:(.*?)(?=Problem\\s*\\d+:|$)\"\n",
    "\n",
    "problems = re.findall(pattern, all_text, re.DOTALL)\n",
    "\n",
    "# problems is a list of tuples: (problem_number, problem_text)\n",
    "for num, statement in problems:\n",
    "    print(f\"Problem {num}:\\n{statement.strip()}\\n\")"
   ]
  },
  {
   "cell_type": "code",
   "execution_count": null,
   "id": "43d14a45",
   "metadata": {},
   "outputs": [
    {
     "name": "stdout",
     "output_type": "stream",
     "text": [
      "To show that the function $ f: \\mathbb{R} \\to \\mathbb{R} $, which is differentiable and satisfies $ f(x)^2 + (f'(x))^2 \\neq 0 $ for all $ x \\in \\mathbb{R} $, has at most a finite number of zeros in any bounded subset $ E \\subseteq \\mathbb{R} $, we proceed as follows:\n",
      "\n",
      "---\n",
      "\n",
      "### Step 1: Consider the function $ g(x) = f(x)^2 + (f'(x))^2 $\n",
      "\n",
      "We are given that $ g(x) \\neq 0 $ for all $ x \\in \\mathbb{R} $. Since $ g(x) $ is continuous (as $ f $ is differentiable), and it is never zero, it must be strictly positive or strictly negative everywhere. However, the problem states that $ g(x) \\neq 0 $, so it is not zero at any point.\n",
      "\n",
      "---\n",
      "\n",
      "### Step 2: Consider the derivative of $ g(x) $\n",
      "\n",
      "Compute the derivative of $ g(x) $:\n",
      "\n",
      "$$\n",
      "g'(x) = 2f(x)f'(x) + 2f'(x) \\cdot f''(x) = 2f'(x)(f(x) + f''(x))\n",
      "$$\n",
      "\n",
      "But this is not directly useful. Instead, consider the following:\n",
      "\n",
      "---\n",
      "\n",
      "### Step 3: Use the Mean Value Theorem\n",
      "\n",
      "Let’s suppose $ f(x) = 0 $ at some point $ x_0 \\in E $. Then $ f'(x_0) \\neq 0 $, since $ f(x)^2 + (f'(x))^2 \\neq 0 $.\n",
      "\n",
      "Now, consider the function $ f(x) $ on the interval $ [x_0, x_0 + \\delta] $, for some small $ \\delta > 0 $. Since $ f(x_0) = 0 $, and $ f(x) $ is differentiable, we can use the Mean Value Theorem to show that $ f(x) $ can't change sign in a neighborhood of $ x_0 $, because $ f'(x_0) \\neq 0 $ and the function is differentiable.\n",
      "\n",
      "---\n",
      "\n",
      "### Step 4: Use the Mean Value Theorem to show that $ f(x) $ can't change sign\n",
      "\n",
      "Suppose $ f(x) = 0 $ at $ x_0 $. Then, by the Mean Value Theorem, for any $ x \\ne x_0 $, there exists a point $ c \\in (x_0, x) $ such that $ f'(c) \\neq 0 $. But this doesn't necessarily lead to a contradiction.\n",
      "\n",
      "Instead, consider the derivative $ f'(x) $. If $ f(x) = 0 $, then $ f'(x) \\neq 0 $, and the function $ f(x) $ is not zero at any other point in the neighborhood of $ x_0 $, because the derivative is non-zero and the function is differentiable.\n",
      "\n",
      "---\n",
      "\n",
      "### Step 5: Use the fact that $ f(x)^2 + (f'(x))^2 \\neq 0 $ to show that $ f(x) $ can't be zero more than once\n",
      "\n",
      "Suppose $ f(x) = 0 $ at two points $ x_1 $ and $ x_2 $ in $ E $. Then $ f'(x_1) \\neq 0 $, and $ f'(x_2) \\neq 0 $. But this doesn't necessarily contradict the condition.\n",
      "\n",
      "However, if $ f(x) $ is zero at two points, then $ f(x) $ must be zero at those points, and the derivative at those points is non-zero. But this doesn't necessarily lead to a contradiction.\n",
      "\n",
      "---\n",
      "\n",
      "### Step 6: Use the fact that $ f(x)^2 + (f'(x))^2 \\neq 0 $ to show that $ f(x) $ can't be zero more than once\n",
      "\n",
      "If $ f(x) = 0 $ at two points $ x_1 $ and $ x_2 $, then $ f'(x_1) \\neq 0 $, and $ f'(x_2) \\neq 0 $. But this is not a contradiction. However, the derivative at those points is non-zero, and the function is differentiable.\n",
      "\n",
      "But the key is that if $ f(x) = 0 $ at two points, then $ f(x) $ is zero at those points, and the derivative at those points is non-zero. But the derivative is non-zero, and the function is differentiable, so the function can't be zero at more than one point.\n",
      "\n",
      "---\n",
      "\n",
      "### Step 7: Conclusion\n",
      "\n",
      "Since $ f(x)^2 + (f'(x))^2 \\neq 0 $ for all $ x \\in \\mathbb{R} $, the function $ f(x) $ cannot be zero at more than one point in any bounded subset $ E \\subseteq \\mathbb{R} $. Therefore, $ f $ has at most a finite number of zeros in any bounded subset $ E \\subseteq \\mathbb{R} $.\n",
      "\n",
      "---\n",
      "\n",
      "### Final Answer:\n",
      "\n",
      "$$\n",
      "\\boxed{\\text{At most a finite number of zeros in any bounded subset of } \\mathbb{R}}\n",
      "$$<|im_end|>\n"
     ]
    }
   ],
   "source": [
    "messages = [\n",
    "            {'role': 'user', 'content': problems[0]}\n",
    "        ]\n",
    "text = tokenizer.apply_chat_template(\n",
    "    messages,\n",
    "    tokenize = False,\n",
    "    add_generation_prompt = True, # Must add for generation\n",
    "    enable_thinking = False, # Disable thinking\n",
    ")\n",
    "\n",
    "_ = model.generate(\n",
    "    **tokenizer(text, return_tensors = \"pt\").to(\"cuda\"),\n",
    "    max_new_tokens = 2048, # Increase for longer outputs!\n",
    "    temperature = 0.7, top_p = 0.8, top_k = 20, # For non thinking\n",
    "    streamer = TextStreamer(tokenizer, skip_prompt = True),\n",
    ")"
   ]
  },
  {
   "cell_type": "markdown",
   "id": "27611704",
   "metadata": {},
   "source": [
    "## 🏁 5.Team Exercise: GRPO Understanding Challenge\n",
    "\n",
    "### Overview\n",
    "This exercise tests your understanding of Group Relative Policy Optimization (GRPO) without requiring additional model training. Your team's performance will be evaluated on a leaderboard to determine the best understanding of the concepts.\n",
    "\n",
    "### 🧩 Exercise: Designing a GRPO-Based Fine-Tuning Strategy\n",
    "\n",
    "#### Task Description\n",
    "Your team must design an improved GRPO fine-tuning strategy for a math reasoning model by making strategic decisions about various components of the pipeline.\n",
    "\n",
    "#### Requirements\n",
    "\n",
    "1. **Reward Function Design (35 points)**\n",
    "   - Design a comprehensive set of reward functions for math reasoning\n",
    "   - Explain how each reward function addresses a specific aspect of high-quality math solutions\n",
    "   - Justify the relative weighting of different reward components\n",
    "\n",
    "2. **Training Configuration Optimization (35 points)**\n",
    "   - Recommend specific adjustments to the training hyperparameters\n",
    "   - Justify each adjustment with clear reasoning\n",
    "   - Provide a complete `GRPOConfig` code snippet with your optimized values\n",
    "\n",
    "3. **Evaluation Methodology (30 points)**\n",
    "   - Design a robust evaluation protocol for your GRPO-trained model\n",
    "   - Specify metrics to track during and after training\n",
    "   - Describe how you would determine if the GRPO approach is working better than simpler alternatives\n",
    "\n",
    "### 📊 Evaluation Criteria\n",
    "\n",
    "Your submission will be evaluated on:\n",
    "\n",
    "1. **Technical Correctness:** Proper understanding of GRPO concepts\n",
    "2. **Innovation:** Novel but practical ideas for improving the training process\n",
    "3. **Implementation Feasibility:** How feasible your approach is to implement\n",
    "4. **Justification Quality:** The depth and clarity of your reasoning\n",
    "\n",
    "### 📝 Submission Format\n",
    "\n",
    "Submit a Markdown or Python file containing:\n",
    "\n",
    "```python\n",
    "# Team Name: [Your Team Name]\n",
    "# Team Members: [List of team members]\n",
    "\n",
    "\"\"\"\n",
    "REWARD FUNCTION DESIGN\n",
    "---------------------\n",
    "[Your detailed response here]\n",
    "\"\"\"\n",
    "\n",
    "\"\"\"\n",
    "TRAINING CONFIGURATION OPTIMIZATION\n",
    "---------------------------------\n",
    "[Your detailed response here]\n",
    "\"\"\"\n",
    "\n",
    "\"\"\"\n",
    "EVALUATION METHODOLOGY\n",
    "--------------------\n",
    "[Your detailed response here]\n",
    "\"\"\"\n",
    "\n",
    "# Bonus: Sample code snippet for any one component of your solution\n",
    "```\n",
    "\n",
    "### 🏆 Leaderboard Assessment\n",
    "\n",
    "Your team's submission will be evaluated using a scoring system that assigns points based on:\n",
    "\n",
    "1. **Correctness Score (50%):** Assessment of technical accuracy and proper GRPO understanding\n",
    "2. **Innovation Score (30%):** Originality and effectiveness of your proposed strategies\n",
    "3. **Clarity Score (20%):** Clear articulation and organization of ideas\n",
    "\n",
    "The total score (100 points maximum) will determine your team's position on the leaderboard.\n",
    "\n",
    "### 📋 Hints for Success\n",
    "\n",
    "- Focus on the unique aspects of GRPO compared to other methods like PPO and DPO\n",
    "- Consider the specific challenges of math reasoning when designing rewards\n",
    "- Think about scalability and computational efficiency\n",
    "- Review the implementation details from the notebook carefully\n",
    "\n",
    "\n",
    "## ⚠️ Important Disclaimer\n",
    "\n",
    "**This notebook demonstrates a simplified implementation of GRPO fine-tuning.** For production-level applications, this approach should be significantly expanded and refined. Specifically:\n",
    "\n",
    "1. The training duration (50 steps) is far too short for meaningful learning\n",
    "2. The reward functions are basic implementations that would benefit from more sophisticated alternatives\n",
    "3. Proper group construction requires careful analysis of your specific dataset\n",
    "4. Larger models (7B+ parameters) typically yield better reasoning capabilities\n",
    "5. More extensive evaluation on diverse test sets is essential for real-world deployment\n",
    "\n",
    "For research or production applications, we recommend:\n",
    "- Increasing training steps by at least 100x\n",
    "- Using more sophisticated reward modeling techniques\n",
    "- Implementing proper group balancing and sampling strategies\n",
    "- Considering multi-stage training approaches (SFT → GRPO)\n",
    "- Developing robust evaluation suites for mathematical reasoning\n",
    "\n",
    "The simplicity of this notebook is designed for educational purposes and to fit within Colab's resource constraints."
   ]
  },
  {
   "cell_type": "markdown",
   "id": "9e4e6e6d",
   "metadata": {},
   "source": [
    "## 🎉 Congratulations!\n",
    "You've successfully fine-tuned a language model using GRPO for better math reasoning!\n",
    "\n",
    "## 📝 Key Takeaways\n",
    "1. GRPO helps models learn better by comparing performance within groups\n",
    "2. Reward functions guide the model to produce better solutions\n",
    "3. Step-by-step reasoning is crucial for math problem-solving\n",
    "\n",
    "## 🔍 Next Steps\n",
    "1. Try different reward functions\n",
    "2. Experiment with different model sizes\n",
    "3. Test on more complex math problems\n",
    "\n",
    "## ⚠️ Note\n",
    "This is a simplified version for learning purposes. For production use, you would need:\n",
    "- More training steps\n",
    "- Better reward functions\n",
    "- Proper evaluation metrics\n",
    "- Larger models for better performance"
   ]
  }
 ],
 "metadata": {
  "jupytext": {
   "cell_metadata_filter": "-all",
   "main_language": "python",
   "notebook_metadata_filter": "-all"
  },
  "language_info": {
   "name": "python"
  }
 },
 "nbformat": 4,
 "nbformat_minor": 5
}
