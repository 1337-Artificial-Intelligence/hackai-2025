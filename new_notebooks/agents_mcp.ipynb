{
 "cells": [
  {
   "cell_type": "markdown",
   "id": "9b4ed574",
   "metadata": {},
   "source": [
    "# [![Open In Colab](https://colab.research.google.com/assets/colab-badge.svg)](https://colab.research.google.com/github/NouamaneTazi/hackai-challenges/blob/main/new_notebooks/agents_mcp.ipynb)"
   ]
  },
  {
   "cell_type": "markdown",
   "id": "adc42e50",
   "metadata": {},
   "source": [
    "# Building AI Agents with Model Context Protocol (MCP)\n",
    "\n",
    "In this notebook, we'll learn how to build AI agents that can interact with external tools and data sources using MCP. This is a crucial skill for building powerful AI applications!\n",
    "\n",
    "## What is MCP?\n",
    "\n",
    "Model Context Protocol (MCP) is like a universal translator for AI applications. Just like how REST APIs help web applications talk to servers, MCP helps AI applications talk to external tools and data sources.\n",
    "\n",
    "### Why do we need MCP?\n",
    "- AI models need context (information) to work well\n",
    "- Without MCP, connecting AI to tools is complicated and messy\n",
    "- With MCP, it's like having a standard plug-and-play system for AI tools\n",
    "\n",
    "TODO: Add image showing comparison between with/without MCP\n",
    "\n",
    "## MCP Architecture\n",
    "\n",
    "MCP works like a client-server system:\n",
    "\n",
    "1. **Host**: Your AI application (like a chatbot or assistant)\n",
    "2. **MCP Server**: Programs that provide specific capabilities\n",
    "\n",
    "TODO: Add architecture diagram\n",
    "\n",
    "### Types of Capabilities:\n",
    "\n",
    "| Capability | What it does | Example |\n",
    "|------------|-------------|---------|\n",
    "| **Tools** | Functions that AI can use to do things | Weather checker, calculator |\n",
    "| **Resources** | Read-only data sources | Database of scientific papers |\n",
    "| **Prompts** | Pre-made templates for AI interactions | Summarization templates |\n",
    "\n",
    "## Let's Build Our First MCP Server!\n",
    "\n",
    "We'll create a simple calculator server that AI can use. We'll use `FastMCP` to make it easy."
   ]
  },
  {
   "cell_type": "code",
   "execution_count": null,
   "id": "62dbf841",
   "metadata": {},
   "outputs": [],
   "source": [
    "# Install required packages\n",
    "!pip install fastmcp"
   ]
  },
  {
   "cell_type": "code",
   "execution_count": null,
   "id": "d7beac0f",
   "metadata": {},
   "outputs": [],
   "source": [
    "# Create our MCP server\n",
    "from fastmcp import FastMCP\n",
    "\n",
    "# Initialize our server\n",
    "mcp = FastMCP(\"HackAI Calculator\")\n",
    "\n",
    "# Create a simple calculator tool\n",
    "@mcp.tool()\n",
    "def calculator(equation: str) -> str:\n",
    "    \"\"\"\n",
    "    A simple calculator that solves math problems.\n",
    "    Args:\n",
    "        equation: A math problem as text (like \"2 + 2\")\n",
    "    Returns:\n",
    "        The answer as text\n",
    "    \"\"\"\n",
    "    try:\n",
    "        result = eval(equation)\n",
    "        return str(result)\n",
    "    except Exception as e:\n",
    "        return f\"Error: {str(e)}\"\n",
    "\n",
    "# Run the server\n",
    "if __name__ == \"__main__\":\n",
    "    mcp.run()"
   ]
  },
  {
   "cell_type": "markdown",
   "id": "7cadeb31",
   "metadata": {},
   "source": [
    "## Using MCP with AI Agents\n",
    "\n",
    "Now let's create an AI agent that can use our calculator and other tools!"
   ]
  },
  {
   "cell_type": "code",
   "execution_count": null,
   "id": "67e81bb0",
   "metadata": {},
   "outputs": [],
   "source": [
    "# Install smolagents\n",
    "!pip install smolagents 'smolagents[mcp]'"
   ]
  },
  {
   "cell_type": "code",
   "execution_count": null,
   "id": "24733efd",
   "metadata": {},
   "outputs": [],
   "source": [
    "from mcp import StdioServerParameters\n",
    "from smolagents import MCPClient, CodeAgent, OpenAIServerModel\n",
    "\n",
    "# Set up our tools\n",
    "parameters = [\n",
    "    StdioServerParameters(\n",
    "        command=\"python\",\n",
    "        args=[\"calculator_server.py\"]\n",
    "    ),\n",
    "    # Add more tools here if needed\n",
    "]\n",
    "\n",
    "# Create our AI agent\n",
    "model = OpenAIServerModel(\n",
    "    model_id=\"gemini-2.0-flash\",\n",
    "    api_base=\"https://generativelanguage.googleapis.com/v1beta\",\n",
    "    api_key=\"YOUR_API_KEY\"  # Replace with your API key\n",
    ")\n",
    "\n",
    "# Connect everything together\n",
    "with MCPClient(parameters) as tools:\n",
    "    agent = CodeAgent(\n",
    "        model=model,\n",
    "        tools=tools\n",
    "    )\n",
    "    \n",
    "    # Try it out!\n",
    "    while True:\n",
    "        prompt = input(\"Ask me anything (type 'exit' to quit): \")\n",
    "        if prompt.lower() == \"exit\":\n",
    "            break\n",
    "        result = agent.run(prompt)\n",
    "        print(result)"
   ]
  },
  {
   "cell_type": "markdown",
   "id": "5f1038ba",
   "metadata": {},
   "source": [
    "## What's Next?\n",
    "\n",
    "You've learned how to:\n",
    "1. Create an MCP server with tools\n",
    "2. Connect AI agents to MCP tools\n",
    "3. Build a simple calculator agent\n",
    "\n",
    "Try these challenges:\n",
    "- Add more tools to your server\n",
    "- Create an agent that can use multiple tools\n",
    "- Build a tool that interacts with a website or database\n",
    "\n",
    "## Resources\n",
    "- [MCP Documentation](https://github.com/modelcontextprotocol/python-sdk)\n",
    "- [FastMCP Examples](https://github.com/modelcontextprotocol/fastmcp)\n",
    "- [SmolAgents Guide](https://huggingface.co/docs/smolagents)"
   ]
  }
 ],
 "metadata": {
  "kernelspec": {
   "display_name": ".venv",
   "language": "python",
   "name": "python3"
  }
 },
 "nbformat": 4,
 "nbformat_minor": 5
}
