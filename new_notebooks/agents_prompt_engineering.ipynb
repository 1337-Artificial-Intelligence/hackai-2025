{
 "cells": [
  {
   "cell_type": "markdown",
   "id": "ba825fd9",
   "metadata": {},
   "source": [
    "# Prompt Engineering for Beginners 🚀\n",
    "\n",
    "[![Open In Colab](https://colab.research.google.com/assets/colab-badge.svg)](https://colab.research.google.com/github/1337-Artificial-Intelligence/hackai-2025/blob/main/new_notebooks/agents_prompt_engineering.ipynb)\n",
    "\n",
    "> In this notebook, you'll learn how to effectively communicate with AI models through prompts. Think of prompts as instructions you give to AI - the better your instructions, the better the results!"
   ]
  },
  {
   "cell_type": "markdown",
   "id": "f87bf295",
   "metadata": {},
   "source": [
    "> An essential part of working with text-generative LLMs is **prompt engineering**. By carefully designing our prompts we can guide the LLM to generate **desired** responses.\n",
    "Whether the prompts are questions, statements, or instructions, the main goal of prompt engineering is to elicit a **useful response** from the model.\n",
    "* Prompt engineering is more than designing effective prompts.\n",
    "<center>\n",
    "    \n",
    "![image](https://i.postimg.cc/NjSKsg9h/pe1.png\n",
    ")\n",
    "\n",
    "A basic example of a prompt. No instruction is given so the LLM will simply try to complete the sentence\n",
    "    \n",
    "![image](https://i.postimg.cc/fbdJk6mV/pe2.png\n",
    ")\n",
    "\n",
    "Two components of a basic instruction prompt: the instruction itself and the data it refers to.\n",
    "\n",
    "![image](https://i.postimg.cc/Sspj9DfD/pe3.png\n",
    ")\n",
    "    \n",
    "Extending the prompt with an output indicator that allows for a specific\n",
    "output.\n",
    "</center>\n",
    "\n",
    ">We can continue adding or updating the elements of a prompt until we elicit the response we are looking for. We could add additional examples, describe the use case in more detail, provide additional context, etc.\n",
    "\n",
    "## Use cases for instruction-based prompting:\n",
    "* the instruction-based prompting can used in number of task for example (function calling, classification as in above images,...).\n",
    "\n",
    "<center>\n",
    "\n",
    "![image](https://i.postimg.cc/j5Q24P8K/pe4.png)\n",
    "</center>\n",
    "\n",
    "* Each of these tasks requires different prompting format as in image bellow.\n",
    "\n",
    "<center>\n",
    "\n",
    "![image](https://i.postimg.cc/fyzL2yFd/pe5.png)\n",
    "</center>\n",
    "\n",
    "## How to write an accurate prompt:\n",
    "> It's sample, ask a specific question, be accurate, add some examples, and you are done!\n",
    "> The right prompt will contain several components, and dome common ones are:\n",
    "> * **Persona:** Describe what role the LLM should take on. For example, use “You are an expert in math” if you want to ask a question about math.\n",
    "> * **Instruction:** The task itself. Make sure this is as specific as possible. We do not want to leave much room for interpretation.\n",
    "> * **Context:** Additional information describing the context of the problem or task. It answers questions like “What is the reason for the instruction?”\n",
    "> * **Format:** The format the LLM should use to output the generated text. Without it, the LLM will come up with a format itself, which is troublesome in automated\n",
    "systems.\n",
    "> * **Audience:** The target of the generated text. This also describes the level of the generated\n",
    "output. For education purposes, it is often helpful to use ELI5 (“Explain it like I’m 5”).\n",
    "> * **Tone**: The tone of voice the LLM should use in the generated text. If you are writing a formal email to your boss, you might not want to use an informal tone of voice.\n",
    "> * **Data:** The main data related to the task itself.\n",
    "<center>\n",
    "\n",
    "![image](https://i.postimg.cc/C5cKWYTQ/pe6.png)\n",
    "</center>\n",
    "\n",
    "## Zero/One/Few shot prompt:\n",
    "One of the most accurate methode to get the wright answer from your LLM is by providing the LLM with examples of exactly the thing that we want to achieve instead of describing the task only.\n",
    "this comes in a number of forms depending on how many examples you show the LLM.\n",
    "* **Zero-shot** prompting does not leverage examples,\n",
    "* **One-shot** prompts use a single example.\n",
    "* **Few-shot** prompts use two or more examples.\n",
    "![image](https://i.postimg.cc/9Xbz4PRY/pe7.png)\n",
    "\n",
    "# Prompt: System, User, Assistant role:\n",
    "When interacting with a large language model (LLM), we should always define the roles to differentiate between the system's context and guidelines (system), our input (user), and the model's responses (assistant).\n",
    "\n",
    "![image](https://i.postimg.cc/vHmT515F/pe8.png)\n",
    "\n",
    "```\n",
    "\n",
    "[\n",
    "  {\n",
    "    \"role\": \"system\",\n",
    "    \"content\": \"You are a helpful assistant that answers questions about machine learning in a clear and concise manner.\"\n",
    "  },\n",
    "  {\n",
    "    \"role\": \"user\",\n",
    "    \"content\": \"Can you explain the difference between supervised and unsupervised learning?\"\n",
    "  },\n",
    "  {\n",
    "    \"role\": \"assistant\",\n",
    "    \"content\": \"Sure! In supervised learning, the model is trained on labeled data, meaning each training example includes an input and a known output. In contrast, unsupervised learning uses data without labeled responses, and the goal is often to find hidden patterns or structures in the data.\"\n",
    "  },\n",
    "  {\n",
    "    \"role\": \"user\",\n",
    "    \"content\": \"Can you give me an example of each type?\"\n",
    "  }\n",
    "]\n",
    "```"
   ]
  },
  {
   "cell_type": "markdown",
   "id": "7287898b",
   "metadata": {},
   "source": [
    "> Discover more prompt used by big providers (OpenAI, Anthropic, XAI,...) in this [repository](https://github.com/asgeirtj/system_prompts_leaks)."
   ]
  },
  {
   "cell_type": "markdown",
   "id": "9c90bb09",
   "metadata": {},
   "source": [
    "# Tool Calling"
   ]
  },
  {
   "cell_type": "markdown",
   "id": "49075367",
   "metadata": {},
   "source": [
    "To enable tool use in any model, we start with the system prompt. In this special tool use system prompt, wet tell the LLM:\n",
    "\n",
    "* The basic premise of tool use and what it entails\n",
    "* How LLM can call and use the tools it's been given\n",
    "* A detailed list of tools it has access to in this specific scenario"
   ]
  },
  {
   "cell_type": "markdown",
   "id": "b737d566",
   "metadata": {},
   "source": [
    "## Setup LLM Model"
   ]
  },
  {
   "cell_type": "code",
   "execution_count": null,
   "id": "d1727080",
   "metadata": {},
   "outputs": [],
   "source": [
    "from openai import OpenAI\n",
    "from google.colab import userdata"
   ]
  },
  {
   "cell_type": "markdown",
   "id": "d1d7d206",
   "metadata": {},
   "source": [
    "We will use free tier apis from **Groq**, you can get your api [here](https://console.groq.com/keys)."
   ]
  },
  {
   "cell_type": "code",
   "execution_count": null,
   "id": "3872497b",
   "metadata": {},
   "outputs": [],
   "source": [
    "base_url=\"https://api.groq.com/openai/v1\"\n",
    "api_key=userdata.get(\"groq\")\n",
    "client=OpenAI(\n",
    "    base_url=base_url,\n",
    "  api_key=api_key,\n",
    ")"
   ]
  },
  {
   "cell_type": "code",
   "execution_count": null,
   "id": "6376a202",
   "metadata": {},
   "outputs": [],
   "source": [
    "def get_response(system_prompt,user_prompt):\n",
    "  model_id=\"llama-3.3-70b-versatile\"\n",
    "  messages=[\n",
    "      {\"role\":\"system\",\"content\":system_prompt},\n",
    "      {\"role\":\"user\",\"content\":user_prompt}\n",
    "  ]\n",
    "  response=client.chat.completions.create(\n",
    "    model=model_id,\n",
    "    messages=messages,\n",
    "    temperature=0.0\n",
    "  ).choices[0].message.content\n",
    "  return response"
   ]
  },
  {
   "cell_type": "code",
   "execution_count": null,
   "id": "5b513f88",
   "metadata": {},
   "outputs": [
    {
     "data": {
      "application/vnd.google.colaboratory.intrinsic+json": {
       "type": "string"
      },
      "text/plain": [
       "'Hello. How can I assist you today?'"
      ]
     },
     "metadata": {},
     "output_type": "display_data"
    }
   ],
   "source": [
    "# test\n",
    "get_response(\"\",\"hello\")"
   ]
  },
  {
   "cell_type": "markdown",
   "id": "04e9b66b",
   "metadata": {},
   "source": [
    "## Build Basic Tools"
   ]
  },
  {
   "cell_type": "code",
   "execution_count": null,
   "id": "8f9d1baf",
   "metadata": {},
   "outputs": [],
   "source": [
    "def calculator(num1:int, num2:int, operation:str):\n",
    "       if operation == '+':\n",
    "           return num1 + num2\n",
    "       elif operation == '-':\n",
    "           return num1 - num2\n",
    "       elif operation == '*':\n",
    "           return num1 * num2\n",
    "       elif operation == '/':\n",
    "           if num2 != 0:\n",
    "               return num1 / num2\n",
    "           else:\n",
    "               return \"Cannot divide by zero\"\n",
    "       else:\n",
    "           return \"Invalid operation\""
   ]
  },
  {
   "cell_type": "code",
   "execution_count": null,
   "id": "86930b7b",
   "metadata": {},
   "outputs": [],
   "source": [
    "def weather(city:str):\n",
    "  return f\"the weather in {city} is cloudy\""
   ]
  },
  {
   "cell_type": "code",
   "execution_count": null,
   "id": "1e77be60",
   "metadata": {},
   "outputs": [
    {
     "name": "stdout",
     "output_type": "stream",
     "text": [
      "4\n",
      "the weather in Agadir is cloudy\n"
     ]
    }
   ],
   "source": [
    "# test the tools\n",
    "print(calculator(2,2,'+'))\n",
    "print(weather(\"Agadir\"))"
   ]
  },
  {
   "cell_type": "markdown",
   "id": "08d1fab5",
   "metadata": {},
   "source": [
    "## Prepare System Prompt"
   ]
  },
  {
   "cell_type": "markdown",
   "id": "ef368344",
   "metadata": {},
   "source": [
    "To enable tool use in any model, we start with the system prompt. In this special tool use system prompt, wet tell the LLM:\n",
    "\n",
    "* The basic premise of tool use and what it entails\n",
    "* How LLM can call and use the tools it's been given\n",
    "* A detailed list of tools it has access to in this specific scenario"
   ]
  },
  {
   "cell_type": "code",
   "execution_count": null,
   "id": "fbed48c4",
   "metadata": {},
   "outputs": [],
   "source": [
    "system_prompt_tc= \"\"\"\n",
    "Answer the following questions as best you can. You have access to the following tools:\n",
    "\n",
    "get_weather: Get the current weather in a given location.\n",
    "calculator: Calculator function for doing basic arithmetic. Supports addition, subtraction, multiplication\n",
    "\n",
    "The way you use the tools is by specifying a json blob.\n",
    "Specifically, this json should have an `action` key (with the name of the tool to use) and an `action_input` key (with the input to the tool going here).\n",
    "\n",
    "The only values that should be in the \"action\" field are:\n",
    "get_weather: Get the current weather in a given location, args: {\"location\": {\"type\": \"string\"}}\n",
    "calculator: Calculator function for doing basic arithmetic. args {\"num1\":{\"type\":\"int\"},\"num2\":{\"type\":\"int\"},\"operation\":{\"type\":\"str\"}}\n",
    "\n",
    "example use :\n",
    "\n",
    "{{\n",
    "  \"action\": \"get_weather\",\n",
    "  \"action_input\": {\"location\": \"New York\"}\n",
    "}}\n",
    "\n",
    "{{\n",
    "  \"action\": \"calculator\",\n",
    "  \"action_input\": {\"num1\":12,\"num2\":22,\"operation\":\"+\"}\n",
    "}}\n",
    "\n",
    "ALWAYS use the following format:\n",
    "\n",
    "Action:\n",
    "{\n",
    "  \"action\": \"tool_name\",\n",
    "  \"action_input\": {action_input}\n",
    "}\n",
    "\"\"\""
   ]
  },
  {
   "cell_type": "code",
   "execution_count": null,
   "id": "ef821c9d",
   "metadata": {},
   "outputs": [
    {
     "name": "stdout",
     "output_type": "stream",
     "text": [
      "Action:\n",
      "{\n",
      "  \"action\": \"calculator\",\n",
      "  \"action_input\": {\"num1\":1984135,\"num2\":9343116,\"operation\":\"*\"}\n",
      "}\n",
      "Action:\n",
      "{\n",
      "  \"action\": \"get_weather\",\n",
      "  \"action_input\": {\"location\": \"Agadir\"}\n",
      "}\n"
     ]
    }
   ],
   "source": [
    "result_1=get_response(system_prompt=system_prompt_tc,user_prompt=\"Multiply 1,984,135 by 9,343,116\")\n",
    "result_2=get_response(system_prompt=system_prompt_tc,user_prompt=\"what is the weather in agadir?\")\n",
    "print(result_1)\n",
    "print(result_2)"
   ]
  },
  {
   "cell_type": "code",
   "execution_count": null,
   "id": "04fcdd83",
   "metadata": {},
   "outputs": [
    {
     "name": "stdout",
     "output_type": "stream",
     "text": [
      "{'action': 'calculator', 'action_input': {'num1': 1984135, 'num2': 9343116, 'operation': '*'}}\n",
      "{'action': 'get_weather', 'action_input': {'location': 'Agadir'}}\n"
     ]
    }
   ],
   "source": [
    "import json\n",
    "function1_json_call=json.loads(result_1[result_1.index(\"Action:\")+len(\"Action:\"):].strip())\n",
    "function2_json_call=json.loads(result_2[result_2.index(\"Action:\")+len(\"Action:\"):].strip())\n",
    "print(function1_json_call)\n",
    "print(function2_json_call)"
   ]
  },
  {
   "cell_type": "code",
   "execution_count": null,
   "id": "9fe18701",
   "metadata": {},
   "outputs": [
    {
     "data": {
      "text/plain": [
       "18538003464660"
      ]
     },
     "metadata": {},
     "output_type": "display_data"
    }
   ],
   "source": [
    "# function calling\n",
    "num1,num2,operation=function1_json_call[\"action_input\"].values()\n",
    "calculator(num1,num2,operation)"
   ]
  },
  {
   "cell_type": "code",
   "execution_count": null,
   "id": "95fd4904",
   "metadata": {},
   "outputs": [
    {
     "data": {
      "application/vnd.google.colaboratory.intrinsic+json": {
       "type": "string"
      },
      "text/plain": [
       "'operation'"
      ]
     },
     "metadata": {},
     "output_type": "display_data"
    }
   ],
   "source": [
    "operation"
   ]
  },
  {
   "cell_type": "markdown",
   "id": "b63e68d9",
   "metadata": {},
   "source": [
    "# Exercice"
   ]
  },
  {
   "cell_type": "markdown",
   "id": "0432879a",
   "metadata": {},
   "source": [
    "In this exercise, you'll be writing a tool use prompt for querying and writing to the world's smallest \"database\". Here's the initialized database, which is really just a dictionary."
   ]
  },
  {
   "cell_type": "code",
   "execution_count": null,
   "id": "a8d4f2e8",
   "metadata": {},
   "outputs": [],
   "source": [
    "db = {\n",
    "    \"users\": [\n",
    "        {\"id\": 1, \"name\": \"Alice\", \"email\": \"alice@example.com\"},\n",
    "        {\"id\": 2, \"name\": \"Bob\", \"email\": \"bob@example.com\"},\n",
    "        {\"id\": 3, \"name\": \"Charlie\", \"email\": \"charlie@example.com\"}\n",
    "    ],\n",
    "    \"products\": [\n",
    "        {\"id\": 1, \"name\": \"Widget\", \"price\": 9.99},\n",
    "        {\"id\": 2, \"name\": \"Gadget\", \"price\": 14.99},\n",
    "        {\"id\": 3, \"name\": \"Doohickey\", \"price\": 19.99}\n",
    "    ]\n",
    "}"
   ]
  },
  {
   "cell_type": "markdown",
   "id": "203bfd73",
   "metadata": {},
   "source": [
    "And here is the code for the functions that write to and from the database."
   ]
  },
  {
   "cell_type": "code",
   "execution_count": null,
   "id": "2ab67787",
   "metadata": {},
   "outputs": [],
   "source": [
    "def get_user(user_id):\n",
    "    for user in db[\"users\"]:\n",
    "        if user[\"id\"] == user_id:\n",
    "            return user\n",
    "    return None\n",
    "\n",
    "def get_product(product_id):\n",
    "    for product in db[\"products\"]:\n",
    "        if product[\"id\"] == product_id:\n",
    "            return product\n",
    "    return None\n",
    "\n",
    "def add_user(name, email):\n",
    "    user_id = len(db[\"users\"]) + 1\n",
    "    user = {\"id\": user_id, \"name\": name, \"email\": email}\n",
    "    db[\"users\"].append(user)\n",
    "    return user\n",
    "\n",
    "def add_product(name, price):\n",
    "    product_id = len(db[\"products\"]) + 1\n",
    "    product = {\"id\": product_id, \"name\": name, \"price\": price}\n",
    "    db[\"products\"].append(product)\n",
    "    return product"
   ]
  },
  {
   "cell_type": "markdown",
   "id": "ce51a852",
   "metadata": {},
   "source": [
    "To solve the exercise, start by defining a system prompt like `system_prompt` above. Make sure to include the name and description of each tool, along with the name and type and description of each parameter for each function. We've given you some starting scaffolding below."
   ]
  },
  {
   "cell_type": "code",
   "execution_count": null,
   "id": "6c22288a",
   "metadata": {},
   "outputs": [],
   "source": [
    "system_prompt_tc= \"\"\"\n",
    "Answer the following questions as best you can. You have access to the following tools:\n",
    "\n",
    "get_user: Get user from database using user id.\n",
    "get_product: Get produt from database using product id.\n",
    "add_user: Add user to database using name and email.\n",
    "add_product: Add product to database using name and price.\n",
    "\n",
    "The way you use the tools is by specifying a json blob.\n",
    "Specifically, this json should have an `action` key (with the name of the tool to use) and an `action_input` key (with the input to the tool going here).\n",
    "\n",
    "The only values that should be in the \"action\" field are:\n",
    "get_user: Get user from database using user id, args: {\"user_id\": {\"type\": \"int\"}}\n",
    "get_product: Get produt from database using product id, args: {\"product_id\":{\"type\":\"int\"}}\n",
    "add_user: Add user to database using name and email, args: {\"name\":{\"type\":\"str\"},\"email\":{\"type\":\"str\"}}\n",
    "add_product: Add product to database using name and price. args:{\"name\":{\"type\":\"str\"},\"price\":{\"type\":\"float\"}}\n",
    "\n",
    "example use :\n",
    "\n",
    "{{\n",
    "  \"action\": \"get_user\",\n",
    "  \"action_input\": {\"user_id\": 1}\n",
    "}}\n",
    "\n",
    "ALWAYS use the following format:\n",
    "\n",
    "Action:\n",
    "{\n",
    "  \"action\": \"tool_name\",\n",
    "  \"action_input\": {action_input}\n",
    "}\n",
    "\"\"\""
   ]
  },
  {
   "cell_type": "markdown",
   "id": "f3f3ae6f",
   "metadata": {},
   "source": [
    "When you're ready, you can try out your tool definition system prompt on the examples below. Just run the below cell!\n"
   ]
  },
  {
   "cell_type": "code",
   "execution_count": null,
   "id": "30f1dbf0",
   "metadata": {},
   "outputs": [
    {
     "name": "stdout",
     "output_type": "stream",
     "text": [
      "Add a user to the database named Deborah. \n",
      "----------\n",
      "\n",
      " Action:\n",
      "{\n",
      "  \"action\": \"add_user\",\n",
      "  \"action_input\": {\"name\": \"Deborah\", \"email\": \"deborah@example.com\"}\n",
      "} \n",
      "*********\n",
      "*********\n",
      "*********\n",
      "\n",
      "\n",
      "Add a product to the database named Thingo \n",
      "----------\n",
      "\n",
      " Action:\n",
      "{\n",
      "  \"action\": \"add_product\",\n",
      "  \"action_input\": {\"name\": \"Thingo\", \"price\": 0.0}\n",
      "} \n",
      "*********\n",
      "*********\n",
      "*********\n",
      "\n",
      "\n",
      "Tell me the name of User 2 \n",
      "----------\n",
      "\n",
      " Action:\n",
      "{\n",
      "  \"action\": \"get_user\",\n",
      "  \"action_input\": {\"user_id\": 2}\n",
      "} \n",
      "*********\n",
      "*********\n",
      "*********\n",
      "\n",
      "\n",
      "Tell me the name of Product 3 \n",
      "----------\n",
      "\n",
      " Action:\n",
      "{\n",
      "  \"action\": \"get_product\",\n",
      "  \"action_input\": {\"product_id\": 3}\n",
      "} \n",
      "*********\n",
      "*********\n",
      "*********\n",
      "\n",
      "\n"
     ]
    }
   ],
   "source": [
    "examples = [\n",
    "    \"Add a user to the database named Deborah.\",\n",
    "    \"Add a product to the database named Thingo\",\n",
    "    \"Tell me the name of User 2\",\n",
    "    \"Tell me the name of Product 3\"\n",
    "]\n",
    "\n",
    "for example in examples:\n",
    "    function_calling_response = get_response(system_prompt=system_prompt_tc,user_prompt=example)\n",
    "    print(example, \"\\n----------\\n\\n\", function_calling_response, \"\\n*********\\n*********\\n*********\\n\\n\")\n"
   ]
  },
  {
   "cell_type": "markdown",
   "id": "f478c57f",
   "metadata": {
    "lines_to_next_cell": 2
   },
   "source": [
    "## Your Turn! 🎯\n",
    "\n",
    "Try these challenges:\n",
    "1. Ask the AI to multiply two numbers\n",
    "2. Ask about the weather in your city\n",
    "3. Try combining both tools in one question!\n",
    "\n",
    "## What We Learned 📚\n",
    "* How to write clear prompts\n",
    "* Different ways to give examples\n",
    "* How to use tools with AI\n",
    "* The importance of being specific\n",
    "\n",
    "## Next Steps 🚀\n",
    "* Try creating your own tools\n",
    "* Experiment with different prompt styles\n",
    "* Check out more examples in the [system prompts repository](https://github.com/asgeirtj/system_prompts_leaks)"
   ]
  }
 ],
 "metadata": {
  "jupytext": {
   "main_language": "python"
  },
  "kernelspec": {
   "display_name": "Python 3",
   "name": "python3"
  }
 },
 "nbformat": 4,
 "nbformat_minor": 5
}
