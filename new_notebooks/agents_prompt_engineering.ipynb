{
 "cells": [
  {
   "cell_type": "markdown",
   "id": "d56a9f9d",
   "metadata": {},
   "source": [
    "# [![Open In Colab](https://colab.research.google.com/assets/colab-badge.svg)](https://colab.research.google.com/github/NouamaneTazi/hackai-challenges/blob/main/new_notebooks/agents_prompt_engineering.ipynb)"
   ]
  },
  {
   "cell_type": "markdown",
   "id": "2a4e45db",
   "metadata": {},
   "source": [
    "# Prompt Engineering for Beginners 🚀\n",
    "\n",
    "> In this notebook, you'll learn how to effectively communicate with AI models through prompts. Think of prompts as instructions you give to AI - the better your instructions, the better the results!\n",
    "\n",
    "## What is Prompt Engineering? 🤔\n",
    "\n",
    "Prompt engineering is the art of writing clear instructions (prompts) that help AI models understand exactly what you want them to do. It's like giving directions to a friend - the clearer your directions, the easier it is for them to help you!\n",
    "\n",
    "<center>\n",
    "    \n",
    "![image](https://i.postimg.cc/NjSKsg9h/pe1.png)\n",
    "\n",
    "A simple prompt without instructions - the AI just tries to complete the sentence\n",
    "    \n",
    "![image](https://i.postimg.cc/fbdJk6mV/pe2.png)\n",
    "\n",
    "A better prompt with clear instructions and data\n",
    "\n",
    "![image](https://i.postimg.cc/Sspj9DfD/pe3.png)\n",
    "    \n",
    "An even better prompt that specifies exactly what we want in the output\n",
    "</center>\n",
    "\n",
    "## The Building Blocks of a Good Prompt 🏗️\n",
    "\n",
    "A good prompt usually includes these key parts:\n",
    "\n",
    "* **Role**: Tell the AI what role to play (e.g., \"You are a friendly math tutor\")\n",
    "* **Task**: What exactly do you want the AI to do?\n",
    "* **Context**: Any important background information\n",
    "* **Format**: How should the AI structure its response?\n",
    "* **Examples**: Show the AI what you want (optional but helpful!)\n",
    "\n",
    "<center>\n",
    "![image](https://i.postimg.cc/C5cKWYTQ/pe6.png)\n",
    "</center>\n",
    "\n",
    "## Different Ways to Give Examples 📝\n",
    "\n",
    "There are three main ways to show the AI what you want:\n",
    "\n",
    "* **Zero-shot**: No examples, just instructions\n",
    "* **One-shot**: One example to show what you want\n",
    "* **Few-shot**: Multiple examples to make it crystal clear\n",
    "\n",
    "![image](https://i.postimg.cc/9Xbz4PRY/pe7.png)\n",
    "\n",
    "## Understanding AI Chat Roles 👥\n",
    "\n",
    "When chatting with AI, there are three main roles:\n",
    "\n",
    "* **System**: Sets up the AI's personality and rules\n",
    "* **User**: That's you! Your questions and instructions\n",
    "* **Assistant**: The AI's responses\n",
    "\n",
    "![image](https://i.postimg.cc/vHmT515F/pe8.png)\n",
    "\n",
    "Here's a simple example:\n",
    "```python\n",
    "[\n",
    "  {\n",
    "    \"role\": \"system\",\n",
    "    \"content\": \"You are a friendly math tutor who explains things simply.\"\n",
    "  },\n",
    "  {\n",
    "    \"role\": \"user\",\n",
    "    \"content\": \"What is 2+2?\"\n",
    "  },\n",
    "  {\n",
    "    \"role\": \"assistant\",\n",
    "    \"content\": \"2+2 equals 4! Think of it like having 2 apples and getting 2 more - now you have 4 apples!\"\n",
    "  }\n",
    "]\n",
    "```\n",
    "\n",
    "## Let's Try It Out! 🎯\n",
    "\n",
    "We'll use Groq's free API to practice prompt engineering. First, let's set up our tools:"
   ]
  },
  {
   "cell_type": "markdown",
   "id": "738cf6ad",
   "metadata": {},
   "source": [
    "### Setup\n",
    "\n",
    "We'll use Groq's free API. Get your API key from [here](https://console.groq.com/keys)."
   ]
  },
  {
   "cell_type": "code",
   "execution_count": null,
   "id": "ce62ec4a",
   "metadata": {},
   "outputs": [],
   "source": [
    "from openai import OpenAI\n",
    "from google.colab import userdata"
   ]
  },
  {
   "cell_type": "code",
   "execution_count": null,
   "id": "15d525c5",
   "metadata": {
    "lines_to_next_cell": 1
   },
   "outputs": [],
   "source": [
    "base_url = \"https://api.groq.com/openai/v1\"\n",
    "api_key = userdata.get(\"groq\")\n",
    "client = OpenAI(\n",
    "    base_url=base_url,\n",
    "    api_key=api_key,\n",
    ")"
   ]
  },
  {
   "cell_type": "code",
   "execution_count": null,
   "id": "ec6e09ad",
   "metadata": {
    "lines_to_next_cell": 1
   },
   "outputs": [],
   "source": [
    "def get_response(system_prompt, user_prompt):\n",
    "    model_id = \"llama-3.3-70b-versatile\"\n",
    "    messages = [\n",
    "        {\"role\": \"system\", \"content\": system_prompt},\n",
    "        {\"role\": \"user\", \"content\": user_prompt}\n",
    "    ]\n",
    "    response = client.chat.completions.create(\n",
    "        model=model_id,\n",
    "        messages=messages,\n",
    "        temperature=0.0\n",
    "    ).choices[0].message.content\n",
    "    return response"
   ]
  },
  {
   "cell_type": "markdown",
   "id": "74da1f98",
   "metadata": {},
   "source": [
    "### Let's Build Some Simple Tools\n",
    "\n",
    "We'll create two simple tools to practice with:\n",
    "1. A calculator\n",
    "2. A weather reporter"
   ]
  },
  {
   "cell_type": "code",
   "execution_count": null,
   "id": "e7b184a8",
   "metadata": {
    "lines_to_next_cell": 1
   },
   "outputs": [],
   "source": [
    "def calculator(num1: int, num2: int, operation: str):\n",
    "    if operation == '+':\n",
    "        return num1 + num2\n",
    "    elif operation == '-':\n",
    "        return num1 - num2\n",
    "    elif operation == '*':\n",
    "        return num1 * num2\n",
    "    elif operation == '/':\n",
    "        if num2 != 0:\n",
    "            return num1 / num2\n",
    "        else:\n",
    "            return \"Cannot divide by zero\"\n",
    "    else:\n",
    "        return \"Invalid operation\"\n",
    "\n",
    "def weather(city: str):\n",
    "    return f\"The weather in {city} is sunny and 25°C\""
   ]
  },
  {
   "cell_type": "markdown",
   "id": "05b6fe55",
   "metadata": {},
   "source": [
    "### Practice Time! 🎮\n",
    "\n",
    "Let's try using our tools with different prompts. We'll create a system prompt that tells the AI how to use our tools:"
   ]
  },
  {
   "cell_type": "code",
   "execution_count": null,
   "id": "29cf96d4",
   "metadata": {},
   "outputs": [],
   "source": [
    "system_prompt = \"\"\"\n",
    "You are a helpful assistant that can use tools to answer questions. You have access to these tools:\n",
    "\n",
    "1. calculator: Does basic math (addition, subtraction, multiplication, division)\n",
    "2. weather: Tells you the weather in any city\n",
    "\n",
    "To use a tool, respond in this format:\n",
    "Action:\n",
    "{\n",
    "  \"action\": \"tool_name\",\n",
    "  \"action_input\": {\"param1\": value1, \"param2\": value2}\n",
    "}\n",
    "\n",
    "For example:\n",
    "Action:\n",
    "{\n",
    "  \"action\": \"calculator\",\n",
    "  \"action_input\": {\"num1\": 5, \"num2\": 3, \"operation\": \"+\"}\n",
    "}\n",
    "\"\"\""
   ]
  },
  {
   "cell_type": "markdown",
   "id": "303dd6b9",
   "metadata": {},
   "source": [
    "### Let's Try Some Examples! 🚀"
   ]
  },
  {
   "cell_type": "code",
   "execution_count": null,
   "id": "12d30727",
   "metadata": {},
   "outputs": [],
   "source": [
    "# Example 1: Simple calculation\n",
    "result = get_response(system_prompt, \"What is 5 plus 3?\")\n",
    "print(\"AI's response:\", result)"
   ]
  },
  {
   "cell_type": "code",
   "execution_count": null,
   "id": "ce7940a1",
   "metadata": {},
   "outputs": [],
   "source": [
    "# Example 2: Weather check\n",
    "result = get_response(system_prompt, \"What's the weather like in Casablanca?\")\n",
    "print(\"AI's response:\", result)"
   ]
  },
  {
   "cell_type": "markdown",
   "id": "ee08a27f",
   "metadata": {
    "lines_to_next_cell": 2
   },
   "source": [
    "## Your Turn! 🎯\n",
    "\n",
    "Try these challenges:\n",
    "1. Ask the AI to multiply two numbers\n",
    "2. Ask about the weather in your city\n",
    "3. Try combining both tools in one question!\n",
    "\n",
    "## What We Learned 📚\n",
    "* How to write clear prompts\n",
    "* Different ways to give examples\n",
    "* How to use tools with AI\n",
    "* The importance of being specific\n",
    "\n",
    "## Next Steps 🚀\n",
    "* Try creating your own tools\n",
    "* Experiment with different prompt styles\n",
    "* Check out more examples in the [system prompts repository](https://github.com/asgeirtj/system_prompts_leaks)"
   ]
  }
 ],
 "metadata": {
  "jupytext": {
   "main_language": "python"
  },
  "kernelspec": {
   "display_name": "Python 3",
   "name": "python3"
  }
 },
 "nbformat": 4,
 "nbformat_minor": 5
}
