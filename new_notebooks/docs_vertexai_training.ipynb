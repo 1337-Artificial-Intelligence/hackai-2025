{
 "cells": [
  {
   "cell_type": "markdown",
   "id": "d19d9a88",
   "metadata": {
    "id": "QonfOON8PuED"
   },
   "source": [
    "### 🏆 VertexAI Training\n",
    "📌 Description\n",
    "\n",
    "This notebook outlines the steps to run a custom training job on Google Cloud Vertex AI Training."
   ]
  },
  {
   "cell_type": "markdown",
   "id": "7e41bfe4",
   "metadata": {
    "id": "cyyGi5lxPvG-"
   },
   "source": [
    "### ✅ Step 1: Authenticate & Set Up Your Google Cloud Environment\n"
   ]
  },
  {
   "cell_type": "code",
   "execution_count": null,
   "id": "f7eadc22",
   "metadata": {
    "colab": {
     "base_uri": "https://localhost:8080/"
    },
    "id": "PsI9ROLPPeST",
    "outputId": "08aa2506-ad0a-45ee-8692-3eb8684c5d3a"
   },
   "outputs": [],
   "source": [
    "# 1. Log in to your Google Cloud account\n",
    "!gcloud auth login"
   ]
  },
  {
   "cell_type": "code",
   "execution_count": null,
   "id": "e94f1878",
   "metadata": {
    "colab": {
     "base_uri": "https://localhost:8080/"
    },
    "id": "RtAXN8SzP_kO",
    "outputId": "3312d955-b7e1-43c8-bb9b-213bc44cb489"
   },
   "outputs": [],
   "source": [
    "# Create a project if you haven't already done so\n",
    "PROJECT_ID = \"hackai-1337-2025-test\"\n",
    "PROJECT_NAME = \"My Test Project\"\n",
    "\n",
    "!gcloud projects create \"$PROJECT_ID\" --name=\"$PROJECT_NAME\"\n",
    "\n",
    "# Set it as your active project\n",
    "!gcloud config set project \"$PROJECT_ID\""
   ]
  },
  {
   "cell_type": "code",
   "execution_count": null,
   "id": "90ebd44d",
   "metadata": {
    "id": "CGrVhiV8TP6m"
   },
   "outputs": [],
   "source": [
    "# Link Billing Account\n",
    "\n",
    "# Output Example:\n",
    "# ACCOUNT_ID            NAME                OPEN  MASTER_ACCOUNT_ID\n",
    "# 01A2B3-XXXXXX-YYYYYY  My Billing Account  True\n",
    "# Your BILLING_ACCOUNT_ID is the value in the ACCOUNT_ID column (01A2B3-XXXXXX-YYYYYY)\n",
    "\n",
    "!gcloud billing accounts list"
   ]
  },
  {
   "cell_type": "code",
   "execution_count": null,
   "id": "af71e1d7",
   "metadata": {
    "colab": {
     "base_uri": "https://localhost:8080/"
    },
    "id": "vUpFizuzTBol",
    "outputId": "a5d9e78c-93d2-4515-e33e-c6c91d7ec1cf"
   },
   "outputs": [],
   "source": [
    "BILLING_ACCOUNT_ID = \"BILLING_ACCOUNT_ID_HERE\"\n",
    "\n",
    "!gcloud billing projects link \"$PROJECT_ID\" --billing-account=\"$BILLING_ACCOUNT_ID\""
   ]
  },
  {
   "cell_type": "markdown",
   "id": "d7ce7384",
   "metadata": {
    "id": "mhPB7RCvSnw3"
   },
   "source": [
    "### ✅ Step 2: Enable required APIs\n"
   ]
  },
  {
   "cell_type": "code",
   "execution_count": null,
   "id": "e37ccac2",
   "metadata": {
    "id": "WEDru2-5SWoc"
   },
   "outputs": [],
   "source": [
    "!gcloud services enable compute.googleapis.com # For Compute Engine API\n",
    "!gcloud services enable artifactregistry.googleapis.com # For Artifact Registry API\n",
    "!gcloud services enable aiplatform.googleapis.com # For Vertex AI API\n",
    "!gcloud services enable cloudbuild.googleapis.com # For Cloud Build API"
   ]
  },
  {
   "cell_type": "code",
   "execution_count": null,
   "id": "67b0e133",
   "metadata": {
    "colab": {
     "base_uri": "https://localhost:8080/"
    },
    "id": "YI7TpNBbo6Vp",
    "outputId": "5141e246-f1f4-4ac1-d208-a09164d76d61"
   },
   "outputs": [],
   "source": [
    "USER_EMAIL = \"YOUR_GCP_EMAIL\"\n",
    "\n",
    "!gcloud projects add-iam-policy-binding $PROJECT_ID \\\n",
    "    --member=\"user:$USER_EMAIL\" \\\n",
    "    --role=\"roles/cloudbuild.builds.editor\""
   ]
  },
  {
   "cell_type": "markdown",
   "id": "78bb7e0f",
   "metadata": {
    "id": "uWHy5UrZY-8X"
   },
   "source": [
    "### ✅ Step 3: Convert Your Training Notebook to Python Script\n",
    "This step assumes that you already have a notebook containing the code for your model's training step. We will generate a .py file from your notebook.\n",
    "Upload your notebook and run the following command."
   ]
  },
  {
   "cell_type": "code",
   "execution_count": null,
   "id": "658133ab",
   "metadata": {
    "colab": {
     "base_uri": "https://localhost:8080/"
    },
    "id": "JlOphN25YrMa",
    "outputId": "d3071fc9-7472-49f3-b5c8-6024832f3212"
   },
   "outputs": [],
   "source": [
    "!jupyter nbconvert notebook_name.ipynb --to python"
   ]
  },
  {
   "cell_type": "code",
   "execution_count": null,
   "id": "312dc150",
   "metadata": {
    "id": "nq-gEVcYS-eI"
   },
   "outputs": [],
   "source": [
    "# Create a trainer directory and move the .py code to it\n",
    "!mkdir trainer\n",
    "# !mv notebook_name.py trainer/task.py\n",
    "!mv notebook_name.py trainer/task.py"
   ]
  },
  {
   "cell_type": "code",
   "execution_count": null,
   "id": "1c49d0ca",
   "metadata": {
    "id": "ro3sHMfqbpmm"
   },
   "outputs": [],
   "source": [
    "# Create your requirements.txt with your needed libraries needed for fintenuning\n",
    "\n",
    "packages = \"\"\"\n",
    "transformers\n",
    "datasets\n",
    "\"\"\"\n",
    "\n",
    "!echo \"$packages\" > requirements.txt"
   ]
  },
  {
   "cell_type": "markdown",
   "id": "10970f42",
   "metadata": {
    "id": "NkCpF06_cOXT"
   },
   "source": [
    "### ✅ Step 4: Create a Dockerfile"
   ]
  },
  {
   "cell_type": "code",
   "execution_count": null,
   "id": "0933ba40",
   "metadata": {
    "id": "axDCUPzNcA-T"
   },
   "outputs": [],
   "source": [
    "dockerfile_content = \"\"\"\n",
    "FROM us-docker.pkg.dev/vertex-ai/training/pytorch-gpu.2-4.py310:latest\n",
    "\n",
    "WORKDIR /\n",
    "\n",
    "COPY trainer /trainer\n",
    "COPY requirements.txt .\n",
    "\n",
    "RUN pip install --upgrade pip && pip install -r requirements.txt\n",
    "\n",
    "ENTRYPOINT [\"python\", \"-m\", \"trainer.task\"]\n",
    "\"\"\"\n",
    "\n",
    "with open(\"Dockerfile\", \"w\") as f:\n",
    "    f.write(dockerfile_content)"
   ]
  },
  {
   "cell_type": "markdown",
   "id": "52df527e",
   "metadata": {
    "id": "6kD8DpV3dZFr"
   },
   "source": [
    "### ✅ Step 5: Build and Push Container"
   ]
  },
  {
   "cell_type": "code",
   "execution_count": null,
   "id": "e209c1af",
   "metadata": {
    "colab": {
     "base_uri": "https://localhost:8080/",
     "height": 313
    },
    "id": "izKbGNqkii0U",
    "outputId": "b911a5d7-7bab-4ae1-f66d-25d84494285a"
   },
   "outputs": [],
   "source": [
    "REPO_NAME = \"hackai-docker-repo\"\n",
    "\n",
    "!gcloud artifacts repositories create \"$REPO_NAME\" --repository-format=docker \\\n",
    "--location=us-central1 --description=\"Docker repository\"\n",
    "\n",
    "!gcloud auth configure-docker us-central1-docker.pkg.dev\n",
    "\n",
    "IMAGE_URI=f\"us-central1-docker.pkg.dev/{PROJECT_ID}/{REPO_NAME}/my_image:latest\"\n",
    "IMAGE_URI"
   ]
  },
  {
   "cell_type": "code",
   "execution_count": null,
   "id": "985b2714",
   "metadata": {
    "id": "VDeGrLjLfHCX"
   },
   "outputs": [],
   "source": [
    "!mkdir -p build_context/trainer\n",
    "!cp Dockerfile requirements.txt build_context/\n",
    "!cp -r trainer/task.py build_context/trainer/"
   ]
  },
  {
   "cell_type": "code",
   "execution_count": null,
   "id": "792b60f7",
   "metadata": {
    "colab": {
     "base_uri": "https://localhost:8080/"
    },
    "id": "daqBmGrXiBdp",
    "outputId": "8586f353-7f2b-442d-ccfd-5856f9070982"
   },
   "outputs": [],
   "source": [
    "!cd build_context\n",
    "!gcloud builds submit --tag=\"$IMAGE_URI\" --project=\"$PROJECT_ID\""
   ]
  },
  {
   "cell_type": "markdown",
   "id": "aff1b73f",
   "metadata": {
    "id": "-NMcVVQopXgY"
   },
   "source": [
    "### ✅ Step 6: Run the Training Job"
   ]
  },
  {
   "cell_type": "code",
   "execution_count": null,
   "id": "4d3c40bb",
   "metadata": {
    "colab": {
     "base_uri": "https://localhost:8080/"
    },
    "id": "ySXDf4KBpnNg",
    "outputId": "93e5997b-bdf0-4cc0-c4c2-1d97cadd429f"
   },
   "outputs": [],
   "source": [
    "# Create a bcuket name (mandatory for the job to run)\n",
    "BUCKET_NAME=\"gs://hackai-training-bucket\"\n",
    "REGION = \"us-central1\"\n",
    "!gcloud storage buckets create $BUCKET_NAME --location=$REGION"
   ]
  },
  {
   "cell_type": "code",
   "execution_count": null,
   "id": "c46da2f8",
   "metadata": {
    "id": "4hRs18DQnWeh",
    "lines_to_next_cell": 2
   },
   "outputs": [],
   "source": [
    "from google.cloud import aiplatform\n",
    "\n",
    "aiplatform.init(project=PROJECT_ID, location=\"us-central1\")\n",
    "\n",
    "job = aiplatform.CustomContainerTrainingJob(\n",
    "    display_name='my-training-job',\n",
    "    container_uri=IMAGE_URI,\n",
    "    staging_bucket=BUCKET_NAME\n",
    ")\n",
    "\n",
    "job.run(\n",
    "    replica_count=1,\n",
    "    machine_type='n1-standard-8', # To be customized\n",
    "    accelerator_type='NVIDIA_TESLA_V100', # # To be customized\n",
    "    accelerator_count=1\n",
    ")"
   ]
  },
  {
   "cell_type": "markdown",
   "id": "03c118d0",
   "metadata": {
    "id": "Yat288ewqLW6"
   },
   "source": [
    "#### Waiting for the job to finish\n"
   ]
  },
  {
   "cell_type": "code",
   "execution_count": null,
   "id": "7a4003b5",
   "metadata": {
    "id": "CauJGU0-qkCF"
   },
   "outputs": [],
   "source": []
  }
 ],
 "metadata": {
  "jupytext": {
   "main_language": "python"
  },
  "kernelspec": {
   "display_name": "Python 3",
   "name": "python3"
  }
 },
 "nbformat": 4,
 "nbformat_minor": 5
}
