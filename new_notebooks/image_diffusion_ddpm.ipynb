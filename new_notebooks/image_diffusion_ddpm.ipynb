{
 "cells": [
  {
   "cell_type": "markdown",
   "id": "c5bed547",
   "metadata": {},
   "source": [
    "# [![Open In Colab](https://colab.research.google.com/assets/colab-badge.svg)](https://colab.research.google.com/github/1337-Artificial-Intelligence/hackai-2025/blob/main/new_notebooks/image_diffusion_ddpm.ipynb)\n",
    "\n",
    "# Image Generation with Diffusion Models\n",
    "\n",
    "In this notebook, you'll learn about diffusion models and how they can generate images! We'll use a simple implementation to generate fashion items like clothes and shoes.\n",
    "\n",
    "**What you'll learn:**\n",
    "- What are diffusion models and how they work\n",
    "- How to generate images from noise\n",
    "- How to visualize the image generation process\n",
    "\n",
    "**Time to complete:** ~1 hour\n",
    "\n",
    "**Prerequisites:** Basic Python knowledge\n",
    "\n",
    "**Note:** This notebook uses a pre-trained model to save time. You can find the training code in the comments if you want to train your own model later!"
   ]
  },
  {
   "cell_type": "markdown",
   "id": "7f55caa5",
   "metadata": {},
   "source": [
    "# Part 1: Understanding Diffusion Models\n",
    "\n",
    "Diffusion models are a type of AI that can create images by learning to remove noise from pictures. Think of it like this:\n",
    "\n",
    "1. **Adding Noise (Forward Process):**\n",
    "   - Start with a clear image\n",
    "   - Gradually add random noise until the image becomes completely random\n",
    "\n",
    "2. **Removing Noise (Reverse Process):**\n",
    "   - Start with random noise\n",
    "   - Learn to remove the noise step by step\n",
    "   - End up with a clear image\n",
    "\n",
    "The cool thing is that once the model learns to remove noise, it can create new images by starting with random noise and cleaning it up!\n",
    "\n",
    "TODO: Add image showing the forward and reverse process"
   ]
  },
  {
   "cell_type": "markdown",
   "id": "9e3ea257",
   "metadata": {},
   "source": [
    "# Part 2: Let's Generate Some Images!\n",
    "\n",
    "We'll use a pre-trained model to generate fashion items. First, let's set up our environment and load the model."
   ]
  },
  {
   "cell_type": "markdown",
   "id": "996941d7",
   "metadata": {
    "id": "51UOj5pi6-Nd"
   },
   "source": [
    "<h1>! Work in progress!</h1>\n",
    "\n",
    "**To Do:**\n",
    "\n",
    "- Theoretical part explaining :\n",
    "  - Image Generation task and various family of models.\n",
    "  - Denoising Diffusion Probabilistic Models (DDPMs) (Forward and reverse processes).\n",
    "- Add description of tasks to do.\n",
    "- Hide cells that won't be used (model definition, training loop, util functions...).\n",
    "- Setup Evaluation metric."
   ]
  },
  {
   "cell_type": "markdown",
   "id": "419ec4bf",
   "metadata": {
    "id": "8IWhk_8y3c_-"
   },
   "source": [
    "# ---------------------------------------------------\n",
    "# Part 1: Understanding Diffusion Models\n",
    "# ---------------------------------------------------\n",
    "\n",
    "# Theory Section: Diffusion Models\n",
    "\n",
    "1. What are diffusion models?\n",
    "\n",
    "Diffusion models are generative models that learn to generate data by reversing a gradual noising process.\n",
    "They work by slowly adding random noise to data in a forward process, and then learning to reverse this\n",
    "process to recover the original data distribution. Unlike GANs or VAEs, diffusion models use a sequence\n",
    "of denoising steps, making them more stable to train but potentially slower to sample from.\n",
    "\n",
    "2. Forward diffusion process:\n",
    "\n",
    "The forward diffusion process gradually adds Gaussian noise to an image over T timesteps according to a\n",
    "predefined noise schedule. At each step t, some portion of the original signal is preserved while new noise\n",
    "is added. As t increases, the image becomes more noisy until at t=T, it approaches a pure Gaussian noise\n",
    "distribution. Mathematically, this is defined as q(x_t|x_{t-1}) where each step adds a small amount of\n",
    "Gaussian noise according to variance β_t.\n",
    "\n",
    "3. Reverse diffusion process (sampling):\n",
    "\n",
    "The reverse diffusion process (sampling) starts with a pure noise sample x_T ~ N(0,1) and gradually denoises\n",
    "it over T steps to generate a sample from the data distribution. At each step, the model predicts the noise\n",
    "component in the current noisy image, then uses this prediction to compute a slightly less noisy image for\n",
    "the next step. This process continues until we reach x_0, which should resemble a sample from the original\n",
    "data distribution. In our case, we'll get fashion items like clothing and shoes.\n",
    "\n",
    "4. What does the neural network in DDPM actually learn to predict?\n",
    "\n",
    "The neural network in DDPM learns to predict the noise ε that was added to the image at a particular timestep t"
   ]
  },
  {
   "cell_type": "markdown",
   "id": "32fc6575",
   "metadata": {
    "id": "lAcpQgsTPZTI"
   },
   "source": [
    "# ---------------------------------------------------\n",
    "# Part 2: Implementing DDPMs\n",
    "# ---------------------------------------------------\n"
   ]
  },
  {
   "cell_type": "code",
   "execution_count": null,
   "id": "c3c4e41f",
   "metadata": {
    "colab": {
     "base_uri": "https://localhost:8080/"
    },
    "executionInfo": {
     "elapsed": 21105,
     "status": "ok",
     "timestamp": 1746713916598,
     "user": {
      "displayName": "Yassir",
      "userId": "14539807087988167223"
     },
     "user_tz": -120
    },
    "id": "pGZ998FM69lV",
    "outputId": "8a76282c-cc5b-4459-9564-e136c3849271"
   },
   "outputs": [],
   "source": [
    "# DDPM Challenge: Generate Your Own Fashion Items\n",
    "\n",
    "import torch\n",
    "import torch.nn as nn\n",
    "from torch.utils.data import DataLoader\n",
    "import matplotlib.pyplot as plt\n",
    "from tqdm.notebook import tqdm\n",
    "import gdown  # For downloading pre-trained model\n",
    "\n",
    "from torchvision.datasets import FashionMNIST\n",
    "from torchvision import transforms\n",
    "from torchvision.utils import make_grid\n",
    "\n",
    "# Set random seed for reproducibility\n",
    "torch.manual_seed(42)\n",
    "device = torch.device('cuda' if torch.cuda.is_available() else 'cpu')\n",
    "print(f\"Using device: {device}\")"
   ]
  },
  {
   "cell_type": "markdown",
   "id": "3a287d3d",
   "metadata": {},
   "source": [
    "Let's load a pre-trained model that can generate fashion items. This model was trained on the Fashion MNIST dataset, which contains images of clothes and accessories."
   ]
  },
  {
   "cell_type": "code",
   "execution_count": null,
   "id": "e181f386",
   "metadata": {
    "lines_to_next_cell": 1
   },
   "outputs": [],
   "source": [
    "# Download pre-trained model\n",
    "model_url = \"https://drive.google.com/uc?id=YOUR_MODEL_ID\"  # TODO: Add actual model URL\n",
    "model_path = \"ddpm_model.pth\"\n",
    "gdown.download(model_url, model_path, quiet=False)\n",
    "\n",
    "# Load the model\n",
    "model = UNet().to(device)\n",
    "model.load_state_dict(torch.load(model_path))\n",
    "model.eval()\n",
    "print(\"Model loaded successfully!\")"
   ]
  },
  {
   "cell_type": "markdown",
   "id": "0233b36e",
   "metadata": {},
   "source": [
    "Now let's generate some fashion items! We'll create 16 new images and display them."
   ]
  },
  {
   "cell_type": "code",
   "execution_count": null,
   "id": "d9231cee",
   "metadata": {},
   "outputs": [],
   "source": [
    "def generate_samples(model, n_samples=16):\n",
    "    \"\"\"Generate new samples from the trained model.\"\"\"\n",
    "    model.eval()\n",
    "    with torch.no_grad():\n",
    "        samples, intermediate_steps = model.sample(n_samples, (1, 28, 28), device, return_intermediate_steps=True)\n",
    "    return samples, intermediate_steps\n",
    "\n",
    "# Generate and display samples\n",
    "samples, intermediate_steps = generate_samples(model)\n",
    "show_images(samples, \"Generated Fashion Items\")"
   ]
  },
  {
   "cell_type": "markdown",
   "id": "eb5c42fd",
   "metadata": {},
   "source": [
    "Let's see how the model generates these images step by step. Use the slider below to watch the image generation process!"
   ]
  },
  {
   "cell_type": "code",
   "execution_count": null,
   "id": "82b54844",
   "metadata": {},
   "outputs": [],
   "source": [
    "create_batch_slider(intermediate_steps)"
   ]
  },
  {
   "cell_type": "markdown",
   "id": "f1c71bd6",
   "metadata": {},
   "source": [
    "# Part 3: How Does It Work?\n",
    "\n",
    "Let's break down what's happening:\n",
    "\n",
    "1. The model starts with random noise (like TV static)\n",
    "2. It looks at the noise and tries to guess what kind of fashion item it could be\n",
    "3. It gradually removes noise and adds details until we get a clear image\n",
    "\n",
    "The slider above shows this process - you can see how the image becomes clearer as we remove more noise!\n",
    "\n",
    "TODO: Add visualization of the noise removal process"
   ]
  },
  {
   "cell_type": "markdown",
   "id": "ef134388",
   "metadata": {},
   "source": [
    "# Part 4: Try It Yourself!\n",
    "\n",
    "Want to generate more images? Just run the cell below with a different number of samples!"
   ]
  },
  {
   "cell_type": "code",
   "execution_count": null,
   "id": "6ebbce95",
   "metadata": {
    "lines_to_next_cell": 1
   },
   "outputs": [],
   "source": [
    "# Generate more samples\n",
    "more_samples, _ = generate_samples(model, n_samples=32)\n",
    "show_images(more_samples, \"More Generated Fashion Items\")"
   ]
  },
  {
   "cell_type": "markdown",
   "id": "03a62e3c",
   "metadata": {},
   "source": [
    "# Part 5: Quiz\n",
    "\n",
    "Test your understanding of diffusion models:\n",
    "\n",
    "1. What happens to an image during the forward process?\n",
    "   - A) It becomes clearer\n",
    "   - B) It becomes noisier\n",
    "   - C) It stays the same\n",
    "\n",
    "2. How does the model generate new images?\n",
    "   - A) By copying existing images\n",
    "   - B) By removing noise from random patterns\n",
    "   - C) By drawing them from scratch\n",
    "\n",
    "3. What's the main advantage of diffusion models?\n",
    "   - A) They're very fast\n",
    "   - B) They're stable to train\n",
    "   - C) They use less memory\n",
    "\n",
    "Answers: 1-B, 2-B, 3-B"
   ]
  },
  {
   "cell_type": "markdown",
   "id": "3c8ea826",
   "metadata": {},
   "source": [
    "# Congratulations! 🎉\n",
    "\n",
    "You've learned about diffusion models and generated your own fashion items! Here's what you accomplished:\n",
    "\n",
    "- Learned how diffusion models work\n",
    "- Generated new fashion items from noise\n",
    "- Visualized the image generation process\n",
    "\n",
    "Want to learn more? Check out these resources:\n",
    "- [Denoising Diffusion Probabilistic Models Paper](https://arxiv.org/abs/2006.11239)\n",
    "- [Hugging Face Diffusion Models Course](https://huggingface.co/course/chapter1/1)"
   ]
  },
  {
   "cell_type": "markdown",
   "id": "01757103",
   "metadata": {
    "id": "YxEArOTA69lb"
   },
   "source": [
    "def create_batch_slider(intermediate_steps, labels_list=None):\n",
    "    \"\"\"\n",
    "    Create an interactive slider widget to browse through batches of images\n",
    "    using the existing show_images function.\n",
    "\n",
    "    Parameters:\n",
    "    -----------\n",
    "    intermediate_steps : list\n",
    "        List of tensors, where each tensor contains a batch of images\n",
    "    labels_list : list, optional\n",
    "        List of label tensors corresponding to each batch of images\n",
    "\n",
    "    Returns:\n",
    "    --------\n",
    "    None (displays the widget in the notebook)\n",
    "    \"\"\"\n",
    "    import ipywidgets as widgets\n",
    "    from IPython.display import display\n",
    "    from IPython.display import clear_output\n",
    "\n",
    "    # Create output area for displaying images\n",
    "    output = widgets.Output()\n",
    "\n",
    "    # Create slider widget for batch selection\n",
    "    batch_slider = widgets.IntSlider(\n",
    "        min=0,\n",
    "        max=len(intermediate_steps)-1,\n",
    "        step=1,\n",
    "        value=len(intermediate_steps)-1,\n",
    "        description='Denoising step:',\n",
    "        continuous_update=False,\n",
    "        style={'description_width': 'initial'},\n",
    "        layout=widgets.Layout(width='500px')\n",
    "    )\n",
    "\n",
    "    # Function to display a batch using the existing show_images function\n",
    "    def display_batch(step):\n",
    "        with output:\n",
    "            clear_output(wait=True)\n",
    "\n",
    "            # Get current batch of images\n",
    "            images = intermediate_steps[step]\n",
    "\n",
    "            # Get corresponding labels if available\n",
    "            labels = None\n",
    "            if labels_list is not None and step < len(labels_list):\n",
    "                labels = labels_list[step]\n",
    "\n",
    "            # Call the existing show_images function\n",
    "            show_images(images, title=f\"Denoising Step {step + 1}/{len(intermediate_steps)}\", labels=labels)\n",
    "\n",
    "    # Update display when slider value changes\n",
    "    def on_batch_change(change):\n",
    "        display_batch(change['new'])\n",
    "\n",
    "    batch_slider.observe(on_batch_change, names='value')\n",
    "\n",
    "    # Show initial batch\n",
    "    display_batch(batch_slider.value)\n",
    "\n",
    "    # Add play button for slideshow\n",
    "    play = widgets.Play(\n",
    "        min=0,\n",
    "        max=len(intermediate_steps)-1,\n",
    "        step=10,\n",
    "        value=len(intermediate_steps)-1,\n",
    "        interval=1000,  # milliseconds between each frame\n",
    "        description=\"Play\",\n",
    "        disabled=False\n",
    "    )\n",
    "\n",
    "    # Link play button with slider\n",
    "    widgets.jslink((play, 'value'), (batch_slider, 'value'))\n",
    "\n",
    "    # Create horizontal box with play button and slider\n",
    "    controls = widgets.HBox([play, batch_slider])\n",
    "\n",
    "    # Display controls and output\n",
    "    display(widgets.VBox([controls, output]))\n",
    "\n"
   ]
  },
  {
   "cell_type": "code",
   "execution_count": null,
   "id": "f9f6a903",
   "metadata": {
    "colab": {
     "base_uri": "https://localhost:8080/",
     "height": 861,
     "referenced_widgets": [
      "3f29a1c448b94910834597307a91b58f",
      "025704f10bee4422b24c47fd51f2d862",
      "720bbb356588407a82a9a350d1f6dc1d",
      "f44a4dab778b4c3c8420bac45c0062fe",
      "a5b08d7f8e6f4d58b343fd021f1efcdf",
      "1b1ec0dfc0e940f58c1ae7feaccd4a82",
      "69695b6c9d1d43a69b127c66b87dd53f",
      "366814b1e94b42738a9b999d5c11a356",
      "c3b6abc1533a42cfbf9ba627f10d16a8",
      "709e4d49c8e64ffd8b9b5d2eadaacf75",
      "1805474e8f7a4830986b2ce3e69776f4",
      "308106f1c5bb4b45a3d66a34e593cc3a"
     ]
    },
    "executionInfo": {
     "elapsed": 201,
     "status": "ok",
     "timestamp": 1746716988057,
     "user": {
      "displayName": "Yassir",
      "userId": "14539807087988167223"
     },
     "user_tz": -120
    },
    "id": "cDYHC40569lb",
    "lines_to_next_cell": 1,
    "outputId": "2620c1c4-ae09-4644-ef3a-f6828e4502f1"
   },
   "outputs": [],
   "source": [
    "create_batch_slider(intermediate_steps)"
   ]
  },
  {
   "cell_type": "markdown",
   "id": "606355f2",
   "metadata": {
    "id": "OFxCd0Bz0IFp"
   },
   "source": [
    "# ---------------------------------------------------\n",
    "# Part 9: Quiz\n",
    "# ---------------------------------------------------\n",
    "\n",
    "1. What is the primary difference between GANs and Diffusion Models?\n",
    "\n",
    "SOLUTION: GANs use a generator and discriminator that are trained adversarially, where the generator tries to produce realistic samples to fool the discriminator. Diffusion models instead gradually add noise to data and then learn to reverse this process through denoising steps. GANs are often faster for sampling but can suffer from mode collapse and training instability, while diffusion models are more stable to train but typically require many steps for sampling.\n",
    "\n",
    "2. In the forward diffusion process, what happens to the image as t increases?\n",
    "\n",
    "SOLUTION: As t increases during the forward diffusion process, the image becomes progressively noisier. The original content of the image gradually disappears and is replaced by random Gaussian noise. At t=T (the final step), the image is effectively pure noise with almost no trace of the original image information.\n",
    "\n",
    "3. What does the UNet model learn to predict in a DDPM?\n",
    "\n",
    "SOLUTION: The UNet model in a DDPM learns to predict the noise (ε) that was added to the image at a particular timestep. By learning to predict this noise component, the model can then remove it during the reverse diffusion process to gradually recover the clean image. This \"noise prediction\" approach has been shown to be more stable than directly predicting the clean image.\n",
    "\n",
    "4. Why do we use a schedule for beta values rather than a constant value?\n",
    "\n",
    "SOLUTION: We use a schedule for beta values (typically linearly or quadratically increasing) to control the noise addition process more precisely. A gradual schedule allows the model to learn denoising at different noise levels - starting with small noise perturbations and gradually handling larger noise. This makes training more stable and allows the model to effectively learn the entire denoising process from almost-clean to very noisy images.\n",
    "\n",
    "5. How does the sampling (reverse diffusion) process generate a new image?\n",
    "\n",
    "SOLUTION: The sampling process starts with pure Gaussian noise (x_T) and iteratively applies the trained denoising model to remove noise step by step. At each step t, the model predicts the noise component in the current noisy image, then uses this prediction to compute a slightly less noisy image for step t-1. The process continues for T steps until we reach x_0, which should be a clean image sample from the learned data distribution.\n",
    "\n",
    "6. What's the significance of the parameter T (number of timesteps) in diffusion models?\n",
    "\n",
    "SOLUTION: The parameter T determines the number of diffusion steps in both the forward and reverse processes. A larger T means smaller noise additions at each step, making the diffusion process more gradual and potentially easier for the model to learn. However, larger T values also increase the computational cost and time required for sampling. There's a trade-off between quality (larger T) and sampling speed (smaller T).\n"
   ]
  },
  {
   "cell_type": "markdown",
   "id": "a5294be7",
   "metadata": {
    "id": "_LSEuDgR0A2O"
   },
   "source": [
    "<h1>Congratulations! You've completed the DDPM Challenge!</h1>"
   ]
  },
  {
   "cell_type": "markdown",
   "id": "88826218",
   "metadata": {},
   "source": [
    "# Model Definition\n",
    "\n",
    "Below is the model architecture we'll use. Don't worry about understanding all the details - this is just to show you what's happening behind the scenes!"
   ]
  },
  {
   "cell_type": "code",
   "execution_count": null,
   "id": "9a3c5395",
   "metadata": {
    "lines_to_next_cell": 1
   },
   "outputs": [],
   "source": [
    "class UNet(nn.Module):\n",
    "    \"\"\"A simple UNet model for denoising diffusion.\"\"\"\n",
    "    def __init__(self, in_channels=1, time_dim=256):\n",
    "        super().__init__()\n",
    "        \n",
    "        # Time embedding\n",
    "        self.time_mlp = nn.Sequential(\n",
    "            nn.Linear(1, time_dim),\n",
    "            nn.SiLU(),\n",
    "            nn.Linear(time_dim, time_dim)\n",
    "        )\n",
    "        \n",
    "        # Initial convolution\n",
    "        self.conv0 = nn.Conv2d(in_channels, 64, 3, padding=1)\n",
    "        \n",
    "        # Downsampling\n",
    "        self.conv1 = nn.Conv2d(64, 128, 4, stride=2, padding=1)\n",
    "        self.conv2 = nn.Conv2d(128, 256, 4, stride=2, padding=1)\n",
    "        \n",
    "        # Middle\n",
    "        self.conv3 = nn.Conv2d(256, 512, 3, padding=1)\n",
    "        \n",
    "        # Upsampling\n",
    "        self.up1 = nn.ConvTranspose2d(512, 256, 4, stride=2, padding=1)\n",
    "        self.up2 = nn.ConvTranspose2d(256, 128, 4, stride=2, padding=1)\n",
    "        \n",
    "        # Output\n",
    "        self.output = nn.Conv2d(128, in_channels, 3, padding=1)\n",
    "        \n",
    "    def forward(self, x, t):\n",
    "        # Time embedding\n",
    "        t = self.time_mlp(t.unsqueeze(-1))\n",
    "        \n",
    "        # Initial\n",
    "        x = self.conv0(x)\n",
    "        \n",
    "        # Down\n",
    "        x1 = self.conv1(x)\n",
    "        x2 = self.conv2(x1)\n",
    "        \n",
    "        # Middle\n",
    "        x = self.conv3(x2)\n",
    "        \n",
    "        # Up\n",
    "        x = self.up1(x)\n",
    "        x = self.up2(x)\n",
    "        \n",
    "        # Output\n",
    "        return self.output(x)\n",
    "    \n",
    "    def sample(self, n_samples, shape, device, return_intermediate_steps=False):\n",
    "        \"\"\"Generate samples from the model.\"\"\"\n",
    "        model.eval()\n",
    "        with torch.no_grad():\n",
    "            x = torch.randn(n_samples, *shape).to(device)\n",
    "            intermediate_steps = [x.cpu()]\n",
    "            \n",
    "            for t in reversed(range(1000)):\n",
    "                t_batch = torch.ones(n_samples, device=device) * t\n",
    "                predicted_noise = self(x, t_batch)\n",
    "                alpha = 1 - 0.02  # Simplified noise schedule\n",
    "                x = (1 / torch.sqrt(alpha)) * (x - ((1 - alpha) / torch.sqrt(1 - alpha)) * predicted_noise)\n",
    "                if t % 100 == 0:\n",
    "                    intermediate_steps.append(x.cpu())\n",
    "            \n",
    "            if return_intermediate_steps:\n",
    "                return x, intermediate_steps\n",
    "            return x"
   ]
  },
  {
   "cell_type": "markdown",
   "id": "fd31778d",
   "metadata": {},
   "source": [
    "# Utility Functions\n",
    "\n",
    "These functions help us display and visualize our generated images."
   ]
  },
  {
   "cell_type": "code",
   "execution_count": null,
   "id": "6078eb39",
   "metadata": {},
   "outputs": [],
   "source": [
    "def show_images(images, title=\"\"):\n",
    "    \"\"\"Display a grid of images.\"\"\"\n",
    "    if isinstance(images, torch.Tensor):\n",
    "        images = images.cpu()\n",
    "    \n",
    "    # Make sure images are in the range [0, 1]\n",
    "    images = (images + 1) / 2\n",
    "    images = torch.clamp(images, 0, 1)\n",
    "    \n",
    "    # Create grid\n",
    "    grid = make_grid(images, nrow=4, padding=2)\n",
    "    \n",
    "    # Display\n",
    "    plt.figure(figsize=(10, 10))\n",
    "    plt.imshow(grid.permute(1, 2, 0).numpy())\n",
    "    plt.title(title)\n",
    "    plt.axis('off')\n",
    "    plt.show()"
   ]
  }
 ],
 "metadata": {
  "jupytext": {
   "main_language": "python"
  },
  "kernelspec": {
   "display_name": "Python 3",
   "name": "python3"
  }
 },
 "nbformat": 4,
 "nbformat_minor": 5
}
