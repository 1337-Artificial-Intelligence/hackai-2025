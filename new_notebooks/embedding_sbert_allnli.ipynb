{
 "cells": [
  {
   "cell_type": "code",
   "execution_count": null,
   "id": "78374d05",
   "metadata": {},
   "outputs": [],
   "source": [
    "# [![Open In Colab](https://colab.research.google.com/assets/colab-badge.svg)](https://colab.research.google.com/github/NouamaneTazi/hackai-challenges/blob/main/new_notebooks/embedding_sbert_allnli.ipynb)"
   ]
  },
  {
   "cell_type": "markdown",
   "id": "1d89803b",
   "metadata": {},
   "source": [
    "# Text Embeddings with Sentence-BERT\n",
    "\n",
    "In this notebook, we'll learn how to create and use text embeddings - a fundamental concept in AI that helps computers understand text. We'll use Sentence-BERT, a powerful model that can convert sentences into numbers (vectors) that capture their meaning."
   ]
  },
  {
   "cell_type": "markdown",
   "id": "6ad849e0",
   "metadata": {},
   "source": [
    "## What are Text Embeddings?\n",
    "\n",
    "Text embeddings are like a special language that computers use to understand text:\n",
    "- They convert words and sentences into numbers (vectors)\n",
    "- Similar words/sentences get similar numbers\n",
    "- These numbers help computers understand meaning and relationships between text\n",
    "\n",
    "TODO: Add image showing how words are converted to vectors in a 2D space"
   ]
  },
  {
   "cell_type": "markdown",
   "id": "fef6054e",
   "metadata": {},
   "source": [
    "## Why Sentence-BERT?\n",
    "\n",
    "Sentence-BERT is special because:\n",
    "- It understands the full context of sentences (not just individual words)\n",
    "- It's fast and efficient\n",
    "- It's great for tasks like finding similar sentences or comparing text"
   ]
  },
  {
   "cell_type": "markdown",
   "id": "2a681440",
   "metadata": {},
   "source": [
    "## Let's Get Started!"
   ]
  },
  {
   "cell_type": "markdown",
   "id": "a0e02a9a",
   "metadata": {},
   "source": [
    "First, let's install the required packages:"
   ]
  },
  {
   "cell_type": "code",
   "execution_count": null,
   "id": "14d15136",
   "metadata": {},
   "outputs": [],
   "source": [
    "!pip install -U sentence-transformers datasets"
   ]
  },
  {
   "cell_type": "markdown",
   "id": "03af323e",
   "metadata": {},
   "source": [
    "## 1. Load a Pre-trained Model\n",
    "\n",
    "We'll use a model that's already trained to understand text. This saves us time and computing power."
   ]
  },
  {
   "cell_type": "code",
   "execution_count": null,
   "id": "b17b9bdb",
   "metadata": {},
   "outputs": [],
   "source": [
    "from sentence_transformers import SentenceTransformer\n",
    "\n",
    "# Load a pre-trained model\n",
    "model = SentenceTransformer('all-MiniLM-L6-v2')  # This is a smaller, faster model perfect for learning"
   ]
  },
  {
   "cell_type": "markdown",
   "id": "614d3c59",
   "metadata": {},
   "source": [
    "## 2. Try it Out!\n",
    "\n",
    "Let's see how the model converts sentences into numbers:"
   ]
  },
  {
   "cell_type": "code",
   "execution_count": null,
   "id": "9f2a1445",
   "metadata": {},
   "outputs": [],
   "source": [
    "# Example sentences\n",
    "sentences = [\n",
    "    \"I love learning about AI\",\n",
    "    \"Artificial Intelligence is fascinating\",\n",
    "    \"The weather is nice today\"\n",
    "]\n",
    "\n",
    "# Get embeddings (convert to numbers)\n",
    "embeddings = model.encode(sentences)\n",
    "\n",
    "# Print the shape of our embeddings\n",
    "print(f\"Each sentence is converted into a vector of size: {embeddings.shape[1]}\")"
   ]
  },
  {
   "cell_type": "markdown",
   "id": "25b3d9a0",
   "metadata": {},
   "source": [
    "## 3. Find Similar Sentences\n",
    "\n",
    "Let's see how well our model can find similar sentences:"
   ]
  },
  {
   "cell_type": "code",
   "execution_count": null,
   "id": "498d35d4",
   "metadata": {},
   "outputs": [],
   "source": [
    "from sentence_transformers import util\n",
    "\n",
    "# Calculate similarity between sentences\n",
    "similarity = util.pytorch_cos_sim(embeddings[0], embeddings[1])\n",
    "print(f\"Similarity between first two sentences: {similarity.item():.2f}\")"
   ]
  },
  {
   "cell_type": "markdown",
   "id": "b053090b",
   "metadata": {},
   "source": [
    "## 4. Real-world Example: Finding Similar Questions\n",
    "\n",
    "Let's use our model to find similar questions from a small dataset:"
   ]
  },
  {
   "cell_type": "code",
   "execution_count": null,
   "id": "73ca3734",
   "metadata": {},
   "outputs": [],
   "source": [
    "questions = [\n",
    "    \"What is machine learning?\",\n",
    "    \"How does AI work?\",\n",
    "    \"What's the weather like?\",\n",
    "    \"Can you explain deep learning?\",\n",
    "    \"Is it going to rain today?\"\n",
    "]\n",
    "\n",
    "# Get embeddings for all questions\n",
    "question_embeddings = model.encode(questions)\n",
    "\n",
    "# Find most similar question to \"What is machine learning?\"\n",
    "query = \"What is machine learning?\"\n",
    "query_embedding = model.encode(query)\n",
    "\n",
    "# Calculate similarities\n",
    "similarities = util.pytorch_cos_sim(query_embedding, question_embeddings)[0]\n",
    "\n",
    "# Print results\n",
    "print(\"Most similar questions to 'What is machine learning?':\")\n",
    "for idx, score in sorted(enumerate(similarities), key=lambda x: x[1], reverse=True)[:3]:\n",
    "    print(f\"- {questions[idx]} (Score: {score:.2f})\")"
   ]
  },
  {
   "cell_type": "markdown",
   "id": "501e76cd",
   "metadata": {},
   "source": [
    "## 5. Try Your Own Examples!\n",
    "\n",
    "Now it's your turn! Try these exercises:\n",
    "1. Create your own list of sentences\n",
    "2. Find the most similar pairs\n",
    "3. Try sentences in different languages (the model works with many languages!)"
   ]
  },
  {
   "cell_type": "code",
   "execution_count": null,
   "id": "eb9e7ce5",
   "metadata": {},
   "outputs": [],
   "source": [
    "# Your code here!"
   ]
  },
  {
   "cell_type": "markdown",
   "id": "f60c2b03",
   "metadata": {},
   "source": [
    "## What's Next?\n",
    "\n",
    "You've learned the basics of text embeddings! Here's what you can explore next:\n",
    "- Fine-tuning the model for specific tasks\n",
    "- Using embeddings for search engines\n",
    "- Building recommendation systems\n",
    "- Creating chatbots that understand context"
   ]
  },
  {
   "cell_type": "markdown",
   "id": "f0b4e2ee",
   "metadata": {},
   "source": [
    "## Additional Resources\n",
    "- [Sentence-BERT Documentation](https://www.sbert.net/)\n",
    "- [Hugging Face Models](https://huggingface.co/models)\n",
    "- [Text Embedding Guide](https://www.sbert.net/examples/applications/computing-embeddings/README.html)"
   ]
  }
 ],
 "metadata": {
  "jupytext": {
   "main_language": "python"
  },
  "kernelspec": {
   "display_name": "Python 3",
   "name": "python3"
  }
 },
 "nbformat": 4,
 "nbformat_minor": 5
}
