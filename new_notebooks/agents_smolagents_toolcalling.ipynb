{
 "cells": [
  {
   "cell_type": "markdown",
   "id": "c938eecb",
   "metadata": {},
   "source": [
    "# [![Open In Colab](https://colab.research.google.com/assets/colab-badge.svg)](https://colab.research.google.com/github/NouamaneTazi/hackai-challenges/blob/main/new_notebooks/agents_smolagents_toolcalling.ipynb)"
   ]
  },
  {
   "cell_type": "markdown",
   "id": "5b67c1a1",
   "metadata": {
    "id": "5wpEov0iftUj"
   },
   "source": [
    "# Building Your First AI Agent 🤖\n",
    "\n",
    "In this notebook, you'll learn how to create an AI agent that can:\n",
    "- Search the internet\n",
    "- Do math calculations\n",
    "- Check weather\n",
    "- Get information about research papers\n",
    "\n",
    "Time to complete: ~45 minutes"
   ]
  },
  {
   "cell_type": "markdown",
   "id": "9e3b7929",
   "metadata": {
    "id": "uTj-FCUdgtyv"
   },
   "source": [
    "## What is an AI Agent?\n",
    "\n",
    "An AI agent is like a smart assistant that can:\n",
    "1. **Think**: Understand what you want\n",
    "2. **Act**: Use tools to help you\n",
    "3. **Learn**: Remember what it did before\n",
    "\n",
    "Think of it as a robot that can use different tools to help you solve problems!"
   ]
  },
  {
   "cell_type": "markdown",
   "id": "5fbd4e68",
   "metadata": {
    "id": "MPVdf3mPftUl"
   },
   "source": [
    "## Why Do We Need AI Agents?\n",
    "\n",
    "Regular AI models have some limitations:\n",
    "1. **They can make mistakes** (hallucination)\n",
    "2. **They only know what they were trained on** (knowledge cutoff)\n",
    "3. **They can't access private information** (data privacy)\n",
    "\n",
    "AI agents help solve these problems by:\n",
    "- Using tools to check information\n",
    "- Accessing current data\n",
    "- Remembering past conversations"
   ]
  },
  {
   "cell_type": "markdown",
   "id": "cfa4847d",
   "metadata": {
    "id": "rik1E2nLftUn"
   },
   "source": [
    "## Let's Build Our Agent! 🚀\n",
    "\n",
    "First, let's install the tools we need:"
   ]
  },
  {
   "cell_type": "code",
   "execution_count": null,
   "id": "d8dbd03d",
   "metadata": {
    "id": "Hr-QK749ftUn"
   },
   "outputs": [],
   "source": [
    "! pip install -U smolagents"
   ]
  },
  {
   "cell_type": "markdown",
   "id": "b957b47d",
   "metadata": {
    "id": "owKtqwFXftUo"
   },
   "source": [
    "## Setting Up Our AI Model\n",
    "\n",
    "We'll use Google's Gemini model. To get started:\n",
    "1. Go to [Google AI Studio](https://aistudio.google.com/apikey)\n",
    "2. Create an account\n",
    "3. Get your API key\n",
    "4. Replace the API key below with yours"
   ]
  },
  {
   "cell_type": "code",
   "execution_count": null,
   "id": "293a9ab7",
   "metadata": {
    "id": "JjEBXbG8ftUp"
   },
   "outputs": [],
   "source": [
    "from smolagents import OpenAIServerModel\n",
    "\n",
    "# Load the model\n",
    "model = OpenAIServerModel(\n",
    "    model_id=\"gemini-2.0-flash\",\n",
    "    api_base=\"https://generativelanguage.googleapis.com/v1beta\",\n",
    "    api_key=\"YOUR_API_KEY_HERE\",  # Replace with your API key\n",
    ")"
   ]
  },
  {
   "cell_type": "markdown",
   "id": "2e750262",
   "metadata": {
    "id": "4UDZytYpftUq"
   },
   "source": [
    "## Creating Our Tools 🛠️\n",
    "\n",
    "Let's create some tools our agent can use:"
   ]
  },
  {
   "cell_type": "code",
   "execution_count": null,
   "id": "2f8432a8",
   "metadata": {
    "id": "LcX-PePqftUq",
    "lines_to_next_cell": 1
   },
   "outputs": [],
   "source": [
    "from smolagents import Tool\n",
    "\n",
    "class CalculatorTool(Tool):\n",
    "    name = \"calculator\"\n",
    "    description = \"A calculator that can do math (+, -, *, /)\"\n",
    "    inputs = {\n",
    "        \"expression\": {\n",
    "            \"type\": \"string\",\n",
    "            \"description\": \"The math problem to solve\",\n",
    "        }\n",
    "    }\n",
    "    output_type = \"string\"\n",
    "    \n",
    "    def forward(self, expression: str) -> str:\n",
    "        try:\n",
    "            result = eval(expression)\n",
    "            return str(result)\n",
    "        except Exception as e:\n",
    "            return f\"Error: {str(e)}\""
   ]
  },
  {
   "cell_type": "code",
   "execution_count": null,
   "id": "1ef19701",
   "metadata": {
    "id": "mqa_PC-7ftUq",
    "lines_to_next_cell": 1
   },
   "outputs": [],
   "source": [
    "from smolagents import tool\n",
    "\n",
    "@tool\n",
    "def city_weather(city: str) -> str:\n",
    "    \"\"\"\n",
    "    Get the weather for a city.\n",
    "    Args:\n",
    "        city: The name of the city\n",
    "    \"\"\"\n",
    "    # TODO: Add real weather API integration\n",
    "    return f\"The weather in {city} is sunny with a high of 25°C.\""
   ]
  },
  {
   "cell_type": "code",
   "execution_count": null,
   "id": "2652d451",
   "metadata": {
    "id": "dGZMTTltftUr"
   },
   "outputs": [],
   "source": [
    "from smolagents import DuckDuckGoSearchTool\n",
    "\n",
    "# Create a search tool\n",
    "search_tool = DuckDuckGoSearchTool()"
   ]
  },
  {
   "cell_type": "code",
   "execution_count": null,
   "id": "88b2cbb9",
   "metadata": {
    "id": "0W1GGpcNftUr"
   },
   "outputs": [],
   "source": [
    "from langchain.agents import load_tools\n",
    "from smolagents import Tool\n",
    "\n",
    "# Create a tool to get information about research papers\n",
    "arxiv_tool = Tool.from_langchain(load_tools([\"arxiv\"])[0])"
   ]
  },
  {
   "cell_type": "markdown",
   "id": "5a88b1d5",
   "metadata": {
    "id": "zOy5MOGkftUs"
   },
   "source": [
    "## Putting It All Together! 🎯\n",
    "\n",
    "Now let's create our agent with all these tools:"
   ]
  },
  {
   "cell_type": "code",
   "execution_count": null,
   "id": "62e4a6f4",
   "metadata": {
    "id": "a4T4q43LftUs"
   },
   "outputs": [],
   "source": [
    "from smolagents import CodeAgent\n",
    "\n",
    "# Create our agent with all tools\n",
    "tools = [city_weather, search_tool, calculator_tool, arxiv_tool]\n",
    "agent = CodeAgent(\n",
    "    model=model,\n",
    "    tools=tools\n",
    ")"
   ]
  },
  {
   "cell_type": "markdown",
   "id": "aa10e3ae",
   "metadata": {
    "id": "DDk4n1qhftUs"
   },
   "source": [
    "## Let's Test Our Agent! 🚀\n",
    "\n",
    "Try asking it different questions:"
   ]
  },
  {
   "cell_type": "code",
   "execution_count": null,
   "id": "04c69bf7",
   "metadata": {
    "id": "68dpjxkAftUs"
   },
   "outputs": [],
   "source": [
    "query = \"\"\"What's the paper 1706.03762 about,\n",
    "and who is Noam Shazeer?\n",
    "Also, what is the weather in Benguerir?\n",
    "And what is 2 + 2 * 3?\"\"\"\n",
    "response = agent.run(query)"
   ]
  },
  {
   "cell_type": "code",
   "execution_count": null,
   "id": "ac19697f",
   "metadata": {
    "id": "KVP2Bt7cftUt"
   },
   "outputs": [],
   "source": [
    "from pprint import pprint\n",
    "pprint(response)"
   ]
  },
  {
   "cell_type": "markdown",
   "id": "4c018540",
   "metadata": {
    "id": "jDwRzdL2lHrV"
   },
   "source": [
    "## Your Turn! 🎯\n",
    "\n",
    "Try these challenges:\n",
    "1. Ask the agent about a different research paper\n",
    "2. Get the weather for another city\n",
    "3. Try a more complex math problem\n",
    "4. Ask it to search for something interesting\n",
    "\n",
    "Remember: The more specific your questions, the better the answers!"
   ]
  },
  {
   "cell_type": "markdown",
   "id": "fa021454",
   "metadata": {
    "id": "7IAXinMslKfm"
   },
   "source": [
    "## What's Next? 🚀\n",
    "\n",
    "You've built your first AI agent! Here's what you can explore next:\n",
    "- Add more tools to your agent\n",
    "- Try different AI models\n",
    "- Build agents for specific tasks\n",
    "- Learn about prompt engineering\n",
    "\n",
    "Keep experimenting and have fun! 🎉"
   ]
  }
 ],
 "metadata": {
  "kernelspec": {
   "display_name": ".env",
   "language": "python",
   "name": "python3"
  }
 },
 "nbformat": 4,
 "nbformat_minor": 5
}
