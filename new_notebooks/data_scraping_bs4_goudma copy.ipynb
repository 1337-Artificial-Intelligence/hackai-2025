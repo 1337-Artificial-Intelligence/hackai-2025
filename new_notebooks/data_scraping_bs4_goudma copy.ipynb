{
  "cells": [
    {
      "cell_type": "markdown",
      "id": "74b2de12",
      "metadata": {
        "id": "74b2de12"
      },
      "source": [
        "# Web Scraping with BeautifulSoup4 🕷️\n",
        "\n",
        "[![Open In Colab](https://colab.research.google.com/assets/colab-badge.svg)](https://colab.research.google.com/github/NouamaneTazi/hackai-challenges/blob/main/new_notebooks/data_scraping_bs4_goudma.ipynb)\n",
        "\n",
        "In this notebook, you'll learn how to:\n",
        "- Extract data from websites using BeautifulSoup4\n",
        "- Parse HTML content\n",
        "- Save the scraped data to a structured format\n",
        "- Share your dataset on HuggingFace 🤗\n",
        "\n",
        "Time to complete: ~45 minutes"
      ]
    },
    {
      "cell_type": "markdown",
      "id": "44163e2a",
      "metadata": {
        "id": "44163e2a"
      },
      "source": [
        "## What is Web Scraping? 🌐\n",
        "\n",
        "Web scraping is like having a robot that can read websites and collect information for you. It's useful for:\n",
        "- Gathering data for analysis\n",
        "- Creating datasets for AI training\n",
        "- Monitoring website changes\n",
        "- Automating data collection"
      ]
    },
    {
      "cell_type": "markdown",
      "id": "578058f2",
      "metadata": {
        "id": "578058f2"
      },
      "source": [
        "## Setup 🛠️\n",
        "\n",
        "First, let's install the required packages:\n",
        "- `beautifulsoup4`: Helps us parse and navigate HTML\n",
        "- `requests`: Lets us download web pages\n",
        "- `pandas`: For organizing our data\n",
        "- `datasets`: For sharing on HuggingFace"
      ]
    },
    {
      "cell_type": "code",
      "execution_count": 1,
      "id": "ad59bd8b",
      "metadata": {
        "id": "ad59bd8b"
      },
      "outputs": [],
      "source": [
        "# install required packages\n",
        "!pip install beautifulsoup4 requests pandas datasets -q"
      ]
    },
    {
      "cell_type": "markdown",
      "id": "44e41b7a",
      "metadata": {
        "id": "44e41b7a"
      },
      "source": [
        "## Import Libraries 📚\n",
        "\n",
        "Let's import the tools we need:"
      ]
    },
    {
      "cell_type": "code",
      "execution_count": 2,
      "id": "84725c3f",
      "metadata": {
        "id": "84725c3f"
      },
      "outputs": [],
      "source": [
        "from bs4 import BeautifulSoup  # For parsing HTML\n",
        "import requests  # For downloading web pages\n",
        "import pandas as pd  # For data organization\n",
        "from tqdm import tqdm  # For progress bars"
      ]
    },
    {
      "cell_type": "markdown",
      "id": "f940a0b0",
      "metadata": {
        "id": "f940a0b0"
      },
      "source": [
        "## Our Target 🎯\n",
        "\n",
        "We'll scrape news articles from [Goud.ma](https://www.goud.ma), a Moroccan news website. We'll collect:\n",
        "- Article titles\n",
        "- Article content\n",
        "- Article images\n",
        "\n",
        "Before beginning our scraping, we need to analyze the HTML of our target website to understand its structure.\n",
        "As shown in the image below, we'll target:\n",
        "1. The `article` elements with class `card`\n",
        "2. Inside each article, we'll find the `a` tag with class `stretched-link` to get the article URL\n",
        "3. Then we'll extract the content from each article page\n",
        "\n",
        "![image](https://i.postimg.cc/FHbRdM5D/image.png)\n"
      ]
    },
    {
      "cell_type": "code",
      "execution_count": 3,
      "id": "624629c8",
      "metadata": {
        "id": "624629c8",
        "outputId": "e3fb7413-4582-4095-a747-5344387abec1",
        "colab": {
          "base_uri": "https://localhost:8080/"
        }
      },
      "outputs": [
        {
          "output_type": "stream",
          "name": "stdout",
          "text": [
            "✅ Successfully connected to the website!\n"
          ]
        }
      ],
      "source": [
        "# The URL we want to scrape\n",
        "target_url = \"https://www.goud.ma/topics/%d8%a7%d9%84%d8%b1%d8%a6%d9%8a%d8%b3%d9%8a%d8%a9/\"\n",
        "\n",
        "# Send a request to the website\n",
        "# The User-Agent header helps identify our request\n",
        "response = requests.get(target_url, headers={\"User-Agent\": \"Mozilla/5.0\"})\n",
        "\n",
        "# Check if the request was successful\n",
        "if response.status_code == 200:\n",
        "    print(\"✅ Successfully connected to the website!\")\n",
        "else:\n",
        "    print(\"❌ Failed to connect to the website\")"
      ]
    },
    {
      "cell_type": "markdown",
      "id": "bb9d08b0",
      "metadata": {
        "id": "bb9d08b0"
      },
      "source": [
        "## Parsing the HTML 🧩\n",
        "\n",
        "Now that we have the webpage, let's parse it with BeautifulSoup. We'll find all article elements with class \"card\":\n",
        "\n",
        "![image](https://i.postimg.cc/tghMHz61/image.png)"
      ]
    },
    {
      "cell_type": "code",
      "execution_count": 4,
      "id": "ff25e655",
      "metadata": {
        "id": "ff25e655",
        "outputId": "4ee1927d-dec2-4d40-a06c-5be493b462d7",
        "colab": {
          "base_uri": "https://localhost:8080/"
        }
      },
      "outputs": [
        {
          "output_type": "stream",
          "name": "stdout",
          "text": [
            "Found 6 articles!\n"
          ]
        }
      ],
      "source": [
        "# Create a BeautifulSoup object to parse the HTML\n",
        "soup = BeautifulSoup(response.text, \"html.parser\")\n",
        "\n",
        "# Find all article elements with class \"card\"\n",
        "# We'll get the first 6 articles\n",
        "articles = soup.find_all(\"article\", class_=\"card\")[:6]\n",
        "print(f\"Found {len(articles)} articles!\")"
      ]
    },
    {
      "cell_type": "markdown",
      "id": "02e3bb48",
      "metadata": {
        "id": "02e3bb48"
      },
      "source": [
        "## Extracting Article Links 🔗\n",
        "\n",
        "As shown in the image, we need to:\n",
        "1. Find the `a` tag with class `stretched-link` inside each article\n",
        "2. Extract the `href` attribute to get the article URL\n",
        "\n",
        "![image](https://i.postimg.cc/MGCf1y3Y/image.png)"
      ]
    },
    {
      "cell_type": "code",
      "execution_count": 5,
      "id": "7730d812",
      "metadata": {
        "id": "7730d812",
        "outputId": "7ceee58b-b7ba-4248-84c7-1703c5c4a7be",
        "colab": {
          "base_uri": "https://localhost:8080/"
        }
      },
      "outputs": [
        {
          "output_type": "stream",
          "name": "stdout",
          "text": [
            "Article links:\n",
            "1. https://www.goud.ma/%d8%aa%d8%a8%d9%88%d9%86-%d8%a7%d8%b3%d8%aa%d9%82%d8%a8%d9%84-%d9%85%d9%85%d8%ab%d9%84-%d8%a7%d9%84%d8%a8%d9%88%d9%84%d9%8a%d8%b3%d8%a7%d8%b1%d9%8a%d9%88-%d9%81%d8%a7%d9%84%d8%ac%d8%b2%d8%a7%d9%8a-952005/\n",
            "2. https://www.goud.ma/%d8%ae%d8%a7%d8%b1%d8%ac%d9%8a%d8%a9-%d8%a7%d9%84%d8%ac%d8%b2%d8%a7%d8%a6%d8%b1-%d9%84%d9%81%d8%b1%d9%86%d8%b3%d8%a7-%d9%88%d8%b2%d8%a7%d8%b1%d8%a9-%d8%af%d8%a7%d8%ae%d9%84%d9%8a%d8%aa%d9%83%d9%85-952066/\n",
            "3. https://www.goud.ma/%d8%a7%d9%84%d9%88%d8%af%d8%a7%d8%af-%d8%b3%d9%86%d8%a7%d9%88-%d8%b5%d9%81%d9%82%d8%a9-%d8%ac%d8%af%d9%8a%d8%af-%d9%82%d8%a8%d9%84-%d9%85%d9%88%d9%86%d8%af%d9%8a%d8%a7%d9%84-%d8%a7%d9%84%d8%a7%d9%86-952039/\n",
            "4. https://www.goud.ma/%d8%a3%d8%ae%d9%86%d9%88%d8%b4-%d8%b9%d9%84%d9%89-%d9%81%d8%b6%d9%8a%d8%ad%d8%a9-%d9%85%d8%a7%d9%81%d9%8a%d8%a7-%d8%a8%d9%8a%d8%b9-%d8%af%d8%a8%d9%84%d9%88%d9%85%d8%a7%d8%aa-%d8%ac%d8%a7%d9%85-952060/\n",
            "5. https://www.goud.ma/%d8%a8%d9%84%d9%82%d8%b4%d9%88%d8%b1-%d9%85%d8%a7-%d8%a8%d9%82%d9%8a%d8%aa%d8%b4-%d8%ba%d8%a7%d9%86%d8%aa%d8%b1%d8%b4%d8%ad-%d9%84%d8%b1%d8%a6%d8%a7%d8%b3%d8%a9-%d8%a7%d9%84%d8%b1%d8%ac%d8%a7-%d8%ad-952055/\n",
            "6. https://www.goud.ma/%d8%ad%d9%88%d8%a7%d9%84%d9%8a-300-%d8%a3%d9%84%d9%81-%d8%ad%d8%a7%d9%84%d8%a9-%d8%a7%d9%86%d9%82%d8%b7%d8%a7%d8%b9-%d8%b9%d9%86-%d8%a7%d9%84%d8%af%d8%b1%d8%a7%d8%b3%d8%a9-%d9%85%d9%86%d8%b0-2016-952047/\n"
          ]
        }
      ],
      "source": [
        "# Extract links from articles\n",
        "article_links = [\n",
        "    article.find(\"a\", class_=\"stretched-link\").get(\"href\")\n",
        "    for article in articles\n",
        "]\n",
        "\n",
        "print(\"Article links:\")\n",
        "for i, link in enumerate(article_links, 1):\n",
        "    print(f\"{i}. {link}\")"
      ]
    },
    {
      "cell_type": "markdown",
      "id": "dae34b19",
      "metadata": {
        "id": "dae34b19"
      },
      "source": [
        "## Scraping Article Content 📝\n",
        "\n",
        "Now let's scrape the content from each article. As shown in the image, we'll:\n",
        "1. Visit each article page\n",
        "2. Find the title in the `h1` tag with class `entry-title`\n",
        "3. Find the content in the `div` with class `post-content`\n",
        "4. Find the image in the `img` tag with class `img-fluid wp-post-image`\n"
      ]
    },
    {
      "cell_type": "code",
      "execution_count": 6,
      "id": "780c1376",
      "metadata": {
        "id": "780c1376",
        "outputId": "9da03b22-54f7-44f3-d4c9-d39b1320ab1d",
        "colab": {
          "base_uri": "https://localhost:8080/"
        }
      },
      "outputs": [
        {
          "output_type": "stream",
          "name": "stderr",
          "text": [
            "Scraping articles: 100%|██████████| 6/6 [00:00<00:00,  6.97it/s]\n"
          ]
        }
      ],
      "source": [
        "# Create a dictionary to store our data\n",
        "data = {\n",
        "    \"titles\": [],\n",
        "    \"content\": [],\n",
        "    \"images\": []\n",
        "}\n",
        "\n",
        "# Scrape each article\n",
        "for link in tqdm(article_links, desc=\"Scraping articles\"):\n",
        "    # Get the article page\n",
        "    article_response = requests.get(link, headers={\"User-Agent\": \"Mozilla/5.0\"})\n",
        "    article_soup = BeautifulSoup(article_response.text, \"html.parser\")\n",
        "\n",
        "    # Extract data\n",
        "    title = article_soup.find(\"h1\", class_=\"entry-title\").text\n",
        "    content = article_soup.find(\"div\", class_=\"post-content\").text.strip()\n",
        "    image = article_soup.find(\"img\", class_=\"img-fluid wp-post-image\").get(\"src\")\n",
        "\n",
        "    # Save data\n",
        "    data[\"titles\"].append(title)\n",
        "    data[\"content\"].append(content)\n",
        "    data[\"images\"].append(image)"
      ]
    },
    {
      "cell_type": "markdown",
      "id": "b5efa19f",
      "metadata": {
        "id": "b5efa19f"
      },
      "source": [
        "## Organizing the Data 📊\n",
        "\n",
        "Let's put our data in a pandas DataFrame for better organization:\n",
        "\n",
        "TODO: Add image showing:\n",
        "- Example of raw scraped data\n",
        "- The resulting pandas DataFrame\n",
        "- Highlighted columns and rows"
      ]
    },
    {
      "cell_type": "code",
      "execution_count": 7,
      "id": "1aee4c94",
      "metadata": {
        "id": "1aee4c94",
        "outputId": "591abad5-da04-40ca-b239-b0fc7ec4f656",
        "colab": {
          "base_uri": "https://localhost:8080/",
          "height": 342
        }
      },
      "outputs": [
        {
          "output_type": "execute_result",
          "data": {
            "text/plain": [
              "                                              titles  \\\n",
              "0              تبون استقبل ممثل البوليساريو فالجزاير   \n",
              "1  خارجية الجزائر لفرنسا: وزارة داخليتكم كتروج لح...   \n",
              "2          الوداد سناو صفقة جديد قبل مونديال الاندية   \n",
              "3  أخنوش على فضيحة “مافيا” بيع دبلومات جامعة ابن ...   \n",
              "4  بلقشور: ما بقيتش غانترشح لرئاسة الرجا حيث بيرو...   \n",
              "5  حوالي 300 ألف حالة انقطاع عن الدراسة منذ 2016....   \n",
              "\n",
              "                                             content  \\\n",
              "0  الوالي الزاز -كود- العيون///\\n[email protected...   \n",
              "1  الوالي الزاز -كود- العيون////\\n[email protecte...   \n",
              "2  كود سبور//\\nسناو الوداد الرياضي مع لاعب جديد ل...   \n",
              "3  كود الرباط//\\nرفض عزيز أخنوش، رئيس الحكومة، ال...   \n",
              "4  كود سبور//\\nقرر عبد السلام بلقشور رئيس العصبة ...   \n",
              "5  كود الرباط//\\nأكد رئيس الحكومة، عزيز أخنوش، أن...   \n",
              "\n",
              "                                              images  \n",
              "0  https://sf.goud.ma/wp-content/uploads/2025/05/...  \n",
              "1  https://sf.goud.ma/wp-content/uploads/2025/05/...  \n",
              "2  https://sf.goud.ma/wp-content/uploads/2025/05/...  \n",
              "3  https://sf.goud.ma/wp-content/uploads/2025/05/...  \n",
              "4  https://sf.goud.ma/wp-content/uploads/2025/01/...  \n",
              "5  https://sf.goud.ma/wp-content/uploads/2025/05/...  "
            ],
            "text/html": [
              "\n",
              "  <div id=\"df-b5087453-a6ba-4102-a86c-4a7de684da59\" class=\"colab-df-container\">\n",
              "    <div>\n",
              "<style scoped>\n",
              "    .dataframe tbody tr th:only-of-type {\n",
              "        vertical-align: middle;\n",
              "    }\n",
              "\n",
              "    .dataframe tbody tr th {\n",
              "        vertical-align: top;\n",
              "    }\n",
              "\n",
              "    .dataframe thead th {\n",
              "        text-align: right;\n",
              "    }\n",
              "</style>\n",
              "<table border=\"1\" class=\"dataframe\">\n",
              "  <thead>\n",
              "    <tr style=\"text-align: right;\">\n",
              "      <th></th>\n",
              "      <th>titles</th>\n",
              "      <th>content</th>\n",
              "      <th>images</th>\n",
              "    </tr>\n",
              "  </thead>\n",
              "  <tbody>\n",
              "    <tr>\n",
              "      <th>0</th>\n",
              "      <td>تبون استقبل ممثل البوليساريو فالجزاير</td>\n",
              "      <td>الوالي الزاز -كود- العيون///\\n[email protected...</td>\n",
              "      <td>https://sf.goud.ma/wp-content/uploads/2025/05/...</td>\n",
              "    </tr>\n",
              "    <tr>\n",
              "      <th>1</th>\n",
              "      <td>خارجية الجزائر لفرنسا: وزارة داخليتكم كتروج لح...</td>\n",
              "      <td>الوالي الزاز -كود- العيون////\\n[email protecte...</td>\n",
              "      <td>https://sf.goud.ma/wp-content/uploads/2025/05/...</td>\n",
              "    </tr>\n",
              "    <tr>\n",
              "      <th>2</th>\n",
              "      <td>الوداد سناو صفقة جديد قبل مونديال الاندية</td>\n",
              "      <td>كود سبور//\\nسناو الوداد الرياضي مع لاعب جديد ل...</td>\n",
              "      <td>https://sf.goud.ma/wp-content/uploads/2025/05/...</td>\n",
              "    </tr>\n",
              "    <tr>\n",
              "      <th>3</th>\n",
              "      <td>أخنوش على فضيحة “مافيا” بيع دبلومات جامعة ابن ...</td>\n",
              "      <td>كود الرباط//\\nرفض عزيز أخنوش، رئيس الحكومة، ال...</td>\n",
              "      <td>https://sf.goud.ma/wp-content/uploads/2025/05/...</td>\n",
              "    </tr>\n",
              "    <tr>\n",
              "      <th>4</th>\n",
              "      <td>بلقشور: ما بقيتش غانترشح لرئاسة الرجا حيث بيرو...</td>\n",
              "      <td>كود سبور//\\nقرر عبد السلام بلقشور رئيس العصبة ...</td>\n",
              "      <td>https://sf.goud.ma/wp-content/uploads/2025/01/...</td>\n",
              "    </tr>\n",
              "    <tr>\n",
              "      <th>5</th>\n",
              "      <td>حوالي 300 ألف حالة انقطاع عن الدراسة منذ 2016....</td>\n",
              "      <td>كود الرباط//\\nأكد رئيس الحكومة، عزيز أخنوش، أن...</td>\n",
              "      <td>https://sf.goud.ma/wp-content/uploads/2025/05/...</td>\n",
              "    </tr>\n",
              "  </tbody>\n",
              "</table>\n",
              "</div>\n",
              "    <div class=\"colab-df-buttons\">\n",
              "\n",
              "  <div class=\"colab-df-container\">\n",
              "    <button class=\"colab-df-convert\" onclick=\"convertToInteractive('df-b5087453-a6ba-4102-a86c-4a7de684da59')\"\n",
              "            title=\"Convert this dataframe to an interactive table.\"\n",
              "            style=\"display:none;\">\n",
              "\n",
              "  <svg xmlns=\"http://www.w3.org/2000/svg\" height=\"24px\" viewBox=\"0 -960 960 960\">\n",
              "    <path d=\"M120-120v-720h720v720H120Zm60-500h600v-160H180v160Zm220 220h160v-160H400v160Zm0 220h160v-160H400v160ZM180-400h160v-160H180v160Zm440 0h160v-160H620v160ZM180-180h160v-160H180v160Zm440 0h160v-160H620v160Z\"/>\n",
              "  </svg>\n",
              "    </button>\n",
              "\n",
              "  <style>\n",
              "    .colab-df-container {\n",
              "      display:flex;\n",
              "      gap: 12px;\n",
              "    }\n",
              "\n",
              "    .colab-df-convert {\n",
              "      background-color: #E8F0FE;\n",
              "      border: none;\n",
              "      border-radius: 50%;\n",
              "      cursor: pointer;\n",
              "      display: none;\n",
              "      fill: #1967D2;\n",
              "      height: 32px;\n",
              "      padding: 0 0 0 0;\n",
              "      width: 32px;\n",
              "    }\n",
              "\n",
              "    .colab-df-convert:hover {\n",
              "      background-color: #E2EBFA;\n",
              "      box-shadow: 0px 1px 2px rgba(60, 64, 67, 0.3), 0px 1px 3px 1px rgba(60, 64, 67, 0.15);\n",
              "      fill: #174EA6;\n",
              "    }\n",
              "\n",
              "    .colab-df-buttons div {\n",
              "      margin-bottom: 4px;\n",
              "    }\n",
              "\n",
              "    [theme=dark] .colab-df-convert {\n",
              "      background-color: #3B4455;\n",
              "      fill: #D2E3FC;\n",
              "    }\n",
              "\n",
              "    [theme=dark] .colab-df-convert:hover {\n",
              "      background-color: #434B5C;\n",
              "      box-shadow: 0px 1px 3px 1px rgba(0, 0, 0, 0.15);\n",
              "      filter: drop-shadow(0px 1px 2px rgba(0, 0, 0, 0.3));\n",
              "      fill: #FFFFFF;\n",
              "    }\n",
              "  </style>\n",
              "\n",
              "    <script>\n",
              "      const buttonEl =\n",
              "        document.querySelector('#df-b5087453-a6ba-4102-a86c-4a7de684da59 button.colab-df-convert');\n",
              "      buttonEl.style.display =\n",
              "        google.colab.kernel.accessAllowed ? 'block' : 'none';\n",
              "\n",
              "      async function convertToInteractive(key) {\n",
              "        const element = document.querySelector('#df-b5087453-a6ba-4102-a86c-4a7de684da59');\n",
              "        const dataTable =\n",
              "          await google.colab.kernel.invokeFunction('convertToInteractive',\n",
              "                                                    [key], {});\n",
              "        if (!dataTable) return;\n",
              "\n",
              "        const docLinkHtml = 'Like what you see? Visit the ' +\n",
              "          '<a target=\"_blank\" href=https://colab.research.google.com/notebooks/data_table.ipynb>data table notebook</a>'\n",
              "          + ' to learn more about interactive tables.';\n",
              "        element.innerHTML = '';\n",
              "        dataTable['output_type'] = 'display_data';\n",
              "        await google.colab.output.renderOutput(dataTable, element);\n",
              "        const docLink = document.createElement('div');\n",
              "        docLink.innerHTML = docLinkHtml;\n",
              "        element.appendChild(docLink);\n",
              "      }\n",
              "    </script>\n",
              "  </div>\n",
              "\n",
              "\n",
              "    <div id=\"df-b6a0349d-799b-4880-98c3-54079a9cd6e3\">\n",
              "      <button class=\"colab-df-quickchart\" onclick=\"quickchart('df-b6a0349d-799b-4880-98c3-54079a9cd6e3')\"\n",
              "                title=\"Suggest charts\"\n",
              "                style=\"display:none;\">\n",
              "\n",
              "<svg xmlns=\"http://www.w3.org/2000/svg\" height=\"24px\"viewBox=\"0 0 24 24\"\n",
              "     width=\"24px\">\n",
              "    <g>\n",
              "        <path d=\"M19 3H5c-1.1 0-2 .9-2 2v14c0 1.1.9 2 2 2h14c1.1 0 2-.9 2-2V5c0-1.1-.9-2-2-2zM9 17H7v-7h2v7zm4 0h-2V7h2v10zm4 0h-2v-4h2v4z\"/>\n",
              "    </g>\n",
              "</svg>\n",
              "      </button>\n",
              "\n",
              "<style>\n",
              "  .colab-df-quickchart {\n",
              "      --bg-color: #E8F0FE;\n",
              "      --fill-color: #1967D2;\n",
              "      --hover-bg-color: #E2EBFA;\n",
              "      --hover-fill-color: #174EA6;\n",
              "      --disabled-fill-color: #AAA;\n",
              "      --disabled-bg-color: #DDD;\n",
              "  }\n",
              "\n",
              "  [theme=dark] .colab-df-quickchart {\n",
              "      --bg-color: #3B4455;\n",
              "      --fill-color: #D2E3FC;\n",
              "      --hover-bg-color: #434B5C;\n",
              "      --hover-fill-color: #FFFFFF;\n",
              "      --disabled-bg-color: #3B4455;\n",
              "      --disabled-fill-color: #666;\n",
              "  }\n",
              "\n",
              "  .colab-df-quickchart {\n",
              "    background-color: var(--bg-color);\n",
              "    border: none;\n",
              "    border-radius: 50%;\n",
              "    cursor: pointer;\n",
              "    display: none;\n",
              "    fill: var(--fill-color);\n",
              "    height: 32px;\n",
              "    padding: 0;\n",
              "    width: 32px;\n",
              "  }\n",
              "\n",
              "  .colab-df-quickchart:hover {\n",
              "    background-color: var(--hover-bg-color);\n",
              "    box-shadow: 0 1px 2px rgba(60, 64, 67, 0.3), 0 1px 3px 1px rgba(60, 64, 67, 0.15);\n",
              "    fill: var(--button-hover-fill-color);\n",
              "  }\n",
              "\n",
              "  .colab-df-quickchart-complete:disabled,\n",
              "  .colab-df-quickchart-complete:disabled:hover {\n",
              "    background-color: var(--disabled-bg-color);\n",
              "    fill: var(--disabled-fill-color);\n",
              "    box-shadow: none;\n",
              "  }\n",
              "\n",
              "  .colab-df-spinner {\n",
              "    border: 2px solid var(--fill-color);\n",
              "    border-color: transparent;\n",
              "    border-bottom-color: var(--fill-color);\n",
              "    animation:\n",
              "      spin 1s steps(1) infinite;\n",
              "  }\n",
              "\n",
              "  @keyframes spin {\n",
              "    0% {\n",
              "      border-color: transparent;\n",
              "      border-bottom-color: var(--fill-color);\n",
              "      border-left-color: var(--fill-color);\n",
              "    }\n",
              "    20% {\n",
              "      border-color: transparent;\n",
              "      border-left-color: var(--fill-color);\n",
              "      border-top-color: var(--fill-color);\n",
              "    }\n",
              "    30% {\n",
              "      border-color: transparent;\n",
              "      border-left-color: var(--fill-color);\n",
              "      border-top-color: var(--fill-color);\n",
              "      border-right-color: var(--fill-color);\n",
              "    }\n",
              "    40% {\n",
              "      border-color: transparent;\n",
              "      border-right-color: var(--fill-color);\n",
              "      border-top-color: var(--fill-color);\n",
              "    }\n",
              "    60% {\n",
              "      border-color: transparent;\n",
              "      border-right-color: var(--fill-color);\n",
              "    }\n",
              "    80% {\n",
              "      border-color: transparent;\n",
              "      border-right-color: var(--fill-color);\n",
              "      border-bottom-color: var(--fill-color);\n",
              "    }\n",
              "    90% {\n",
              "      border-color: transparent;\n",
              "      border-bottom-color: var(--fill-color);\n",
              "    }\n",
              "  }\n",
              "</style>\n",
              "\n",
              "      <script>\n",
              "        async function quickchart(key) {\n",
              "          const quickchartButtonEl =\n",
              "            document.querySelector('#' + key + ' button');\n",
              "          quickchartButtonEl.disabled = true;  // To prevent multiple clicks.\n",
              "          quickchartButtonEl.classList.add('colab-df-spinner');\n",
              "          try {\n",
              "            const charts = await google.colab.kernel.invokeFunction(\n",
              "                'suggestCharts', [key], {});\n",
              "          } catch (error) {\n",
              "            console.error('Error during call to suggestCharts:', error);\n",
              "          }\n",
              "          quickchartButtonEl.classList.remove('colab-df-spinner');\n",
              "          quickchartButtonEl.classList.add('colab-df-quickchart-complete');\n",
              "        }\n",
              "        (() => {\n",
              "          let quickchartButtonEl =\n",
              "            document.querySelector('#df-b6a0349d-799b-4880-98c3-54079a9cd6e3 button');\n",
              "          quickchartButtonEl.style.display =\n",
              "            google.colab.kernel.accessAllowed ? 'block' : 'none';\n",
              "        })();\n",
              "      </script>\n",
              "    </div>\n",
              "\n",
              "  <div id=\"id_cada75c0-8142-467d-8819-f275d697f632\">\n",
              "    <style>\n",
              "      .colab-df-generate {\n",
              "        background-color: #E8F0FE;\n",
              "        border: none;\n",
              "        border-radius: 50%;\n",
              "        cursor: pointer;\n",
              "        display: none;\n",
              "        fill: #1967D2;\n",
              "        height: 32px;\n",
              "        padding: 0 0 0 0;\n",
              "        width: 32px;\n",
              "      }\n",
              "\n",
              "      .colab-df-generate:hover {\n",
              "        background-color: #E2EBFA;\n",
              "        box-shadow: 0px 1px 2px rgba(60, 64, 67, 0.3), 0px 1px 3px 1px rgba(60, 64, 67, 0.15);\n",
              "        fill: #174EA6;\n",
              "      }\n",
              "\n",
              "      [theme=dark] .colab-df-generate {\n",
              "        background-color: #3B4455;\n",
              "        fill: #D2E3FC;\n",
              "      }\n",
              "\n",
              "      [theme=dark] .colab-df-generate:hover {\n",
              "        background-color: #434B5C;\n",
              "        box-shadow: 0px 1px 3px 1px rgba(0, 0, 0, 0.15);\n",
              "        filter: drop-shadow(0px 1px 2px rgba(0, 0, 0, 0.3));\n",
              "        fill: #FFFFFF;\n",
              "      }\n",
              "    </style>\n",
              "    <button class=\"colab-df-generate\" onclick=\"generateWithVariable('df')\"\n",
              "            title=\"Generate code using this dataframe.\"\n",
              "            style=\"display:none;\">\n",
              "\n",
              "  <svg xmlns=\"http://www.w3.org/2000/svg\" height=\"24px\"viewBox=\"0 0 24 24\"\n",
              "       width=\"24px\">\n",
              "    <path d=\"M7,19H8.4L18.45,9,17,7.55,7,17.6ZM5,21V16.75L18.45,3.32a2,2,0,0,1,2.83,0l1.4,1.43a1.91,1.91,0,0,1,.58,1.4,1.91,1.91,0,0,1-.58,1.4L9.25,21ZM18.45,9,17,7.55Zm-12,3A5.31,5.31,0,0,0,4.9,8.1,5.31,5.31,0,0,0,1,6.5,5.31,5.31,0,0,0,4.9,4.9,5.31,5.31,0,0,0,6.5,1,5.31,5.31,0,0,0,8.1,4.9,5.31,5.31,0,0,0,12,6.5,5.46,5.46,0,0,0,6.5,12Z\"/>\n",
              "  </svg>\n",
              "    </button>\n",
              "    <script>\n",
              "      (() => {\n",
              "      const buttonEl =\n",
              "        document.querySelector('#id_cada75c0-8142-467d-8819-f275d697f632 button.colab-df-generate');\n",
              "      buttonEl.style.display =\n",
              "        google.colab.kernel.accessAllowed ? 'block' : 'none';\n",
              "\n",
              "      buttonEl.onclick = () => {\n",
              "        google.colab.notebook.generateWithVariable('df');\n",
              "      }\n",
              "      })();\n",
              "    </script>\n",
              "  </div>\n",
              "\n",
              "    </div>\n",
              "  </div>\n"
            ],
            "application/vnd.google.colaboratory.intrinsic+json": {
              "type": "dataframe",
              "variable_name": "df",
              "summary": "{\n  \"name\": \"df\",\n  \"rows\": 6,\n  \"fields\": [\n    {\n      \"column\": \"titles\",\n      \"properties\": {\n        \"dtype\": \"string\",\n        \"num_unique_values\": 6,\n        \"samples\": [\n          \"\\u062a\\u0628\\u0648\\u0646 \\u0627\\u0633\\u062a\\u0642\\u0628\\u0644 \\u0645\\u0645\\u062b\\u0644 \\u0627\\u0644\\u0628\\u0648\\u0644\\u064a\\u0633\\u0627\\u0631\\u064a\\u0648 \\u0641\\u0627\\u0644\\u062c\\u0632\\u0627\\u064a\\u0631\",\n          \"\\u062e\\u0627\\u0631\\u062c\\u064a\\u0629 \\u0627\\u0644\\u062c\\u0632\\u0627\\u0626\\u0631 \\u0644\\u0641\\u0631\\u0646\\u0633\\u0627: \\u0648\\u0632\\u0627\\u0631\\u0629 \\u062f\\u0627\\u062e\\u0644\\u064a\\u062a\\u0643\\u0645 \\u0643\\u062a\\u0631\\u0648\\u062c \\u0644\\u062d\\u0648\\u0627\\u064a\\u062c \\u063a\\u0631\\u064a\\u0628\\u0629 \\u0641\\u0645\\u0644\\u0641 \\u0627\\u0644\\u0641\\u064a\\u0632\\u0627\\u062a \\u0627\\u0644\\u062f\\u0628\\u0644\\u0648\\u0645\\u0627\\u0633\\u064a\\u0629 \\u0648\\u0627\\u0644\\u0642\\u0627\\u0626\\u0645 \\u0628\\u0627\\u0644\\u0623\\u0639\\u0645\\u0627\\u0644 \\u062f\\u064a\\u0627\\u0644\\u0643\\u0645 \\u0639\\u0646\\u062f\\u0646\\u0627 \\u0642\\u0627\\u0644 \\u0628\\u0644\\u064a \\u0645\\u0627 \\u0639\\u0646\\u062f\\u0648\\u0634 \\u0639\\u0644\\u0645 \\u0628\\u0623\\u064a \\u0625\\u062c\\u0631\\u0627\\u0621\\u0627\\u062a \\u0648\\u0645\\u0627\\u0632\\u0627\\u0644 \\u0645\\u0627 \\u0639\\u0637\\u0627\\u0646\\u0627\\u0634 \\u0631\\u062f\",\n          \"\\u062d\\u0648\\u0627\\u0644\\u064a 300 \\u0623\\u0644\\u0641 \\u062d\\u0627\\u0644\\u0629 \\u0627\\u0646\\u0642\\u0637\\u0627\\u0639 \\u0639\\u0646 \\u0627\\u0644\\u062f\\u0631\\u0627\\u0633\\u0629 \\u0645\\u0646\\u0630 2016..\\u0631\\u0626\\u064a\\u0633 \\u0627\\u0644\\u062d\\u0643\\u0648\\u0645\\u0629: \\u0647\\u0627\\u062f \\u0627\\u0644\\u0627\\u0632\\u0645\\u0629 \\u062e\\u0635\\u0647\\u0627 \\u0642\\u0637\\u064a\\u0639\\u0629 \\u0645\\u0639 \\u0627\\u0644\\u0627\\u0633\\u0627\\u0644\\u064a\\u0628 \\u0627\\u0644\\u0633\\u0627\\u0628\\u0642\\u0629\"\n        ],\n        \"semantic_type\": \"\",\n        \"description\": \"\"\n      }\n    },\n    {\n      \"column\": \"content\",\n      \"properties\": {\n        \"dtype\": \"string\",\n        \"num_unique_values\": 6,\n        \"samples\": [\n          \"\\u0627\\u0644\\u0648\\u0627\\u0644\\u064a \\u0627\\u0644\\u0632\\u0627\\u0632 -\\u0643\\u0648\\u062f- \\u0627\\u0644\\u0639\\u064a\\u0648\\u0646///\\n[email\\u00a0protected]\\n\\u0627\\u0633\\u062a\\u0642\\u0628\\u0644 \\u0627\\u0644\\u0631\\u0626\\u064a\\u0633 \\u0627\\u0644\\u062c\\u0632\\u0627\\u0626\\u0631\\u064a\\u060c \\u0639\\u0628\\u062f \\u0627\\u0644\\u0645\\u062c\\u064a\\u062f \\u062a\\u0628\\u0648\\u0646\\u060c \\u0627\\u0644\\u064a\\u0648\\u0645 \\u0627\\u0644\\u0625\\u062b\\u0646\\u064a\\u0646 \\u0627\\u0644\\u0645\\u0648\\u0627\\u0641\\u0642 \\u0644\\u062a\\u0627\\u0631\\u064a\\u062e 19 \\u0645\\u0627\\u064a 2025\\u060c \\u0645\\u0645\\u062b\\u0644 \\u062c\\u0628\\u0647\\u0629 \\u0627\\u0644\\u0628\\u0648\\u0644\\u064a\\u0633\\u0627\\u0631\\u064a\\u0648 \\u0641\\u064a \\u0627\\u0644\\u062c\\u0632\\u0627\\u0626\\u0631 \\u0648\\u0627\\u0644\\u0630\\u064a \\u062a\\u0645\\u0646\\u062d\\u0647 \\u0635\\u0641\\u0629 \\u201c\\u0633\\u0641\\u064a\\u0631\\u201d\\u060c \\u0639\\u0628\\u062f \\u0627\\u0644\\u0642\\u0627\\u062f\\u0631 \\u0637\\u0627\\u0644\\u0628 \\u0639\\u0645\\u0631.\\n\\u0648\\u0623\\u062c\\u0631\\u0649 \\u0627\\u0644\\u062c\\u0627\\u0646\\u0628\\u0627\\u0646 \\u0645\\u062d\\u0627\\u062f\\u062b\\u0627\\u062a \\u062a\\u0637\\u0631\\u0642\\u0627 \\u0641\\u064a\\u0647\\u0627 \\u0644\\u0646\\u0632\\u0627\\u0639 \\u0627\\u0644\\u0635\\u062d\\u0631\\u0627\\u0621 \\u0648\\u062a\\u0637\\u0648\\u0631\\u0627\\u062a\\u0647 \\u0625\\u0646\\u0637\\u0644\\u0627\\u0642\\u0627 \\u0645\\u0646 \\u0631\\u0624\\u064a\\u0629 \\u0627\\u0644\\u062c\\u0632\\u0627\\u0626\\u0631 \\u0644\\u0647\\u060c \\u0628\\u0627\\u0644\\u062a\\u0636\\u0627\\u0641\\u0629 \\u0644\\u062a\\u0628\\u0627\\u062f\\u0644\\u0647\\u0645\\u0627 \\u0648\\u062c\\u0647\\u0627\\u062a \\u0627\\u0644\\u0646\\u0638\\u0631 \\u062d\\u0648\\u0644 \\u0627\\u0644\\u062c\\u0647\\u0648\\u062f \\u0627\\u0644\\u0623\\u0645\\u0645\\u064a\\u0629 \\u0627\\u0644\\u0645\\u0628\\u0630\\u0648\\u0644\\u0629 \\u0644\\u062a\\u0633\\u0648\\u064a\\u0629 \\u0627\\u0644\\u0646\\u0632\\u0627\\u0639 \\u0648\\u0627\\u0644\\u0645\\u0633\\u0627\\u0639\\u064a \\u0627\\u0644\\u062a\\u064a \\u064a\\u0642\\u0648\\u062f\\u0647\\u0627 \\u0627\\u0644\\u0645\\u0628\\u0639\\u0648\\u062b \\u0627\\u0644\\u0634\\u062e\\u0635\\u064a \\u0644\\u0644\\u0623\\u0645\\u064a\\u0646 \\u0627\\u0644\\u0639\\u0627\\u0645 \\u0644\\u0644\\u0623\\u0645\\u0645 \\u0627\\u0644\\u0645\\u062a\\u062d\\u062f\\u0629 \\u0644\\u0646\\u0632\\u0627\\u0639 \\u0627\\u0644\\u0635\\u062d\\u0631\\u0627\\u0621\\u060c \\u0633\\u062a\\u0627\\u0641\\u0627\\u0646 \\u062f\\u064a \\u0645\\u064a\\u0633\\u062a\\u0648\\u0631\\u0627.\\n\\u0648\\u064a\\u0623\\u062a\\u064a \\u0625\\u0633\\u062a\\u0642\\u0628\\u0627\\u0644 \\u0627\\u0644\\u0631\\u0626\\u064a\\u0633 \\u0627\\u0644\\u062c\\u0632\\u0627\\u0626\\u0631\\u064a\\u060c \\u0639\\u0628\\u062f \\u0627\\u0644\\u0645\\u062c\\u064a\\u062f \\u062a\\u0628\\u0648\\u0646 \\u0644\\u0645\\u0645\\u062b\\u0644 \\u062c\\u0628\\u0647\\u0629 \\u0627\\u0644\\u0628\\u0648\\u0644\\u064a\\u0633\\u0627\\u0631\\u064a\\u0648 \\u0641\\u064a \\u0627\\u0644\\u062c\\u0632\\u0627\\u0626\\u0631 \\u0641\\u064a \\u0633\\u064a\\u0627\\u0642 \\u0633\\u064a\\u0627\\u0642 \\u0648\\u062f\\u0627\\u0639\\u064a\\u0629 \\u0639\\u0642\\u0628 \\u0625\\u0646\\u062a\\u0647\\u0627\\u0621 \\u0645\\u0647\\u0627\\u0645\\u0647 \\u0628\\u0627\\u0644\\u062c\\u0632\\u0627\\u0626\\u0631\\u060c \\u0628\\u0646\\u0627\\u0621 \\u0639\\u0644\\u0649 \\u0627\\u0644\\u062a\\u063a\\u064a\\u064a\\u0631\\u0627\\u062a \\u0627\\u0644\\u062a\\u064a \\u0642\\u0627\\u0645\\u062a \\u0628\\u0647\\u0627 \\u0627\\u0644\\u0628\\u0648\\u0644\\u064a\\u0633\\u0627\\u0631\\u064a\\u0648\\u060c \\u0628\\u062d\\u064a\\u062b \\u062a\\u0645 \\u062a\\u0639\\u064a\\u064a\\u0646\\u0647 \\u201d \\u0648\\u0632\\u064a\\u0631\\u0627 \\u0644\\u0644\\u062a\\u0631\\u0628\\u064a\\u0629 \\u0648\\u0627\\u0644\\u062a\\u0639\\u0644\\u064a\\u0645 \\u0648\\u0627\\u0644\\u062a\\u0643\\u0648\\u064a\\u0646 \\u0627\\u0644\\u0645\\u0647\\u0646\\u064a\\u201d \\u0641\\u064a \\u0645\\u062e\\u064a\\u0645\\u0627\\u062a \\u062a\\u0646\\u062f\\u0648\\u0641.\",\n          \"\\u0627\\u0644\\u0648\\u0627\\u0644\\u064a \\u0627\\u0644\\u0632\\u0627\\u0632 -\\u0643\\u0648\\u062f- \\u0627\\u0644\\u0639\\u064a\\u0648\\u0646////\\n[email\\u00a0protected]\\n\\u0639\\u0644\\u0642\\u062a \\u0627\\u0644\\u062c\\u0632\\u0627\\u0626\\u0631 \\u0641\\u064a \\u0628\\u064a\\u0627\\u0646 \\u0644\\u0648\\u0632\\u0627\\u0631\\u0629 \\u062e\\u0627\\u0631\\u062c\\u064a\\u062a\\u0647\\u0627\\u060c \\u0627\\u0644\\u064a\\u0648\\u0645 \\u0627\\u0644\\u0625\\u062b\\u0646\\u064a\\u0646 \\u0627\\u0644\\u0645\\u0648\\u0627\\u0641\\u0642 \\u0644\\u062a\\u0627\\u0631\\u064a\\u062e 19 \\u0645\\u0627\\u064a 2025 \\u0639\\u0644\\u0649 \\u0627\\u0644\\u0625\\u062c\\u0631\\u0627\\u0621\\u0627\\u062a \\u0627\\u0644\\u062a\\u064a \\u0625\\u062a\\u062e\\u0630\\u062a\\u0647\\u0627 \\u0627\\u0644\\u0633\\u0644\\u0637\\u0627\\u062a \\u0627\\u0644\\u0641\\u0631\\u0646\\u0633\\u064a\\u0629 \\u0641\\u064a\\u0645\\u0627 \\u064a\\u062e\\u0635 \\u0645\\u0644\\u0641 \\u062c\\u0648\\u0627\\u0632\\u0627\\u062a \\u0627\\u0644\\u0633\\u0641\\u0631 \\u0627\\u0644\\u062f\\u0628\\u0644\\u0648\\u0645\\u0627\\u0633\\u064a\\u0629.\\n\\u0648\\u0642\\u0627\\u0644\\u062a \\u0627\\u0644\\u062e\\u0627\\u0631\\u062c\\u064a\\u0629 \\u0627\\u0644\\u062c\\u0632\\u0627\\u0626\\u0631\\u064a\\u0629 \\u0623\\u0646 \\u0627\\u0644\\u062d\\u0643\\u0648\\u0645\\u0629 \\u062a\\u062a\\u0627\\u0628\\u0639 \\u0628\\u0640 \\u201d\\n\\u0628\\u0627\\u0644\\u063a \\u0627\\u0644\\u0627\\u0633\\u062a\\u063a\\u0631\\u0627\\u0628 \\u0627\\u0644\\u062a\\u0637\\u0648\\u0631\\u0627\\u062a \\u0627\\u0644\\u0623\\u062e\\u064a\\u0631\\u0629 \\u0627\\u0644\\u062a\\u064a \\u0634\\u0647\\u062f\\u0647\\u0627 \\u062a\\u0639\\u0627\\u0645\\u0644 \\u0627\\u0644\\u0633\\u0644\\u0637\\u0627\\u062a \\u0627\\u0644\\u0641\\u0631\\u0646\\u0633\\u064a\\u0629 \\u0648\\u062e\\u0637\\u0627\\u0628\\u0647\\u0627 \\u0628\\u0634\\u0623\\u0646 \\u0645\\u0633\\u0623\\u0644\\u0629 \\u0627\\u0644\\u062a\\u0623\\u0634\\u064a\\u0631\\u0627\\u062a \\u0639\\u0645\\u0648\\u0645\\u064b\\u0627\\u060c \\u0648\\u0628\\u0634\\u0623\\u0646 \\u0625\\u0639\\u0641\\u0627\\u0621 \\u062d\\u0627\\u0645\\u0644\\u064a \\u062c\\u0648\\u0627\\u0632\\u0627\\u062a \\u0627\\u0644\\u0633\\u0641\\u0631 \\u0627\\u0644\\u062f\\u0628\\u0644\\u0648\\u0645\\u0627\\u0633\\u064a\\u0629 \\u0648\\u062c\\u0648\\u0627\\u0632\\u0627\\u062a \\u0627\\u0644\\u0633\\u0641\\u0631 \\u0644\\u0645\\u0647\\u0645\\u0629 \\u0645\\u0646 \\u0645\\u062b\\u0644 \\u0647\\u0630\\u0627 \\u0627\\u0644\\u0625\\u062c\\u0631\\u0627\\u0621 \\u062e\\u0635\\u0648\\u0635\\u0627\\u064b\\u201d.\\n\\u0648\\u0625\\u0639\\u062a\\u0628\\u0631\\u062a \\u0627\\u0644\\u0633\\u0644\\u0637\\u0627\\u062a \\u0627\\u0644\\u062c\\u0632\\u0627\\u0626\\u0631\\u064a\\u0629 \\u0623\\u0646 \\u0627\\u0644\\u062e\\u0637\\u0627\\u0628 \\u0627\\u0644\\u0641\\u0631\\u0646\\u0633\\u064a \\u0628\\u062e\\u0635\\u0648\\u0635 \\u0627\\u0644\\u0645\\u0644\\u0641 \\u201c\\u0623\\u0635\\u0628\\u062d \\u0639\\u0644\\u0649 \\u0645\\u0627 \\u064a\\u0628\\u062f\\u0648\\u060c \\u064a\\u0646\\u062d\\u0648 \\u0645\\u0646\\u062d\\u0649 \\u063a\\u0631\\u064a\\u0628\\u0627\\u064b \\u0648\\u0645\\u062b\\u064a\\u0631\\u0627 \\u0644\\u0644\\u0631\\u064a\\u0628\\u0629\\u060c \\u0648\\u0647\\u0648 \\u0627\\u0644\\u0645\\u0646\\u062d\\u0649 \\u0627\\u0644\\u0630\\u064a \\u064a\\u062a\\u0645\\u062b\\u0644 \\u0641\\u064a \\u062a\\u062f\\u0628\\u064a\\u0631 \\u062a\\u0633\\u0631\\u064a\\u0628\\u0627\\u062a \\u0625\\u0639\\u0644\\u0627\\u0645\\u064a\\u0629 \\u0628\\u0634\\u0643\\u0644 \\u0641\\u0627\\u0636\\u062d \\u0625\\u0644\\u0649 \\u0648\\u0633\\u0627\\u0626\\u0644 \\u0625\\u0639\\u0644\\u0627\\u0645 \\u0645\\u062e\\u062a\\u0627\\u0631\\u0629 \\u0628\\u0639\\u0646\\u0627\\u064a\\u0629 \\u0645\\u0646 \\u0642\\u0628\\u0644 \\u0645\\u0635\\u0627\\u0644\\u062d \\u0648\\u0632\\u0627\\u0631\\u0629 \\u0627\\u0644\\u062f\\u0627\\u062e\\u0644\\u064a\\u0629 \\u0627\\u0644\\u0641\\u0631\\u0646\\u0633\\u064a\\u0629 \\u0648\\u0627\\u0644\\u0645\\u062f\\u064a\\u0631\\u064a\\u0629 \\u0627\\u0644\\u0639\\u0627\\u0645\\u0629 \\u0644\\u0644\\u0634\\u0631\\u0637\\u0629 \\u0627\\u0644\\u0648\\u0637\\u0646\\u064a\\u0629 \\u0627\\u0644\\u0641\\u0631\\u0646\\u0633\\u064a\\u0629\\u201d.\\n\\u0648\\u0623\\u0648\\u0636\\u062d\\u062a \\u0627\\u0644\\u062c\\u0632\\u0627\\u0626\\u0631\\u064a\\u0629\\u060c \\u0623\\u0646 \\u0627\\u0644\\u0642\\u0631\\u0627\\u0631\\u0627\\u062a \\u0627\\u0644\\u0641\\u0631\\u0646\\u0633\\u064a\\u0629 \\u201d \\u0628\\u0627\\u062a\\u062a \\u062a\\u0639\\u0644\\u0646 \\u0639\\u0628\\u0631 \\u0647\\u0630\\u0647 \\u0627\\u0644\\u0642\\u0646\\u0648\\u0627\\u062a \\u063a\\u064a\\u0631 \\u0627\\u0644\\u0631\\u0633\\u0645\\u064a\\u0629\\u060c \\u0641\\u064a \\u062a\\u062c\\u0627\\u0648\\u0632 \\u0635\\u0627\\u0631\\u062e \\u0644\\u0644\\u0623\\u0639\\u0631\\u0627\\u0641 \\u0627\\u0644\\u062f\\u0628\\u0644\\u0648\\u0645\\u0627\\u0633\\u064a\\u0629 \\u0627\\u0644\\u0645\\u062a\\u0639\\u0627\\u0631\\u0641 \\u0639\\u0644\\u064a\\u0647\\u0627\\u060c \\u0648\\u0641\\u064a \\u0627\\u0646\\u062a\\u0647\\u0627\\u0643 \\u0648\\u0627\\u0636\\u062d \\u0643\\u0630\\u0644\\u0643 \\u0644\\u0623\\u062d\\u0643\\u0627\\u0645 \\u0627\\u0644\\u0627\\u062a\\u0641\\u0627\\u0642 \\u0627\\u0644\\u062c\\u0632\\u0627\\u0626\\u0631\\u064a \\u2013 \\u0627\\u0644\\u0641\\u0631\\u0646\\u0633\\u064a \\u0627\\u0644\\u0645\\u0628\\u0631\\u0645 \\u0633\\u0646\\u0629 2013\\u060c \\u0648\\u0627\\u0644\\u0645\\u062a\\u0639\\u0644\\u0642 \\u0628\\u0625\\u0639\\u0641\\u0627\\u0621 \\u062d\\u0627\\u0645\\u0644\\u064a \\u062c\\u0648\\u0627\\u0632\\u0627\\u062a \\u0627\\u0644\\u0633\\u0641\\u0631 \\u0627\\u0644\\u062f\\u0628\\u0644\\u0648\\u0645\\u0627\\u0633\\u064a\\u0629 \\u0648\\u062c\\u0648\\u0627\\u0632\\u0627\\u062a \\u0627\\u0644\\u0633\\u0641\\u0631 \\u0644\\u0645\\u0647\\u0645\\u0629 \\u0645\\u0646 \\u0627\\u0644\\u062a\\u0623\\u0634\\u064a\\u0631\\u0629. \\u0641\\u064a \\u0647\\u0630\\u0627 \\u0627\\u0644\\u0635\\u062f\\u062f\\u060c \\u0648\\u0639\\u0644\\u0649 \\u0646\\u0642\\u064a\\u0636 \\u0645\\u0627 \\u062a\\u0646\\u0635 \\u0639\\u0644\\u064a\\u0647 \\u0627\\u0644\\u0645\\u0627\\u062f\\u0629 8 \\u0645\\u0646 \\u0627\\u0644\\u0627\\u062a\\u0641\\u0627\\u0642 \\u0630\\u0627\\u062a\\u0647\\u060c \\u0644\\u0645 \\u062a\\u062a\\u0644\\u0642 \\u0627\\u0644\\u062c\\u0632\\u0627\\u0626\\u0631\\u060c \\u0625\\u0644\\u0649 \\u063a\\u0627\\u064a\\u0629 \\u0627\\u0644\\u064a\\u0648\\u0645 \\u0623\\u064a \\u0625\\u0634\\u0639\\u0627\\u0631 \\u0631\\u0633\\u0645\\u064a \\u0645\\u0646 \\u0627\\u0644\\u0633\\u0644\\u0637\\u0627\\u062a \\u0627\\u0644\\u0641\\u0631\\u0646\\u0633\\u064a\\u0629 \\u0639\\u0628\\u0631 \\u0627\\u0644\\u0642\\u0646\\u0627\\u0629 \\u0627\\u0644\\u0648\\u062d\\u064a\\u062f\\u0629 \\u0627\\u0644\\u062a\\u064a \\u064a\\u0639\\u062a\\u062f \\u0628\\u0647\\u0627 \\u0641\\u064a \\u0627\\u0644\\u0639\\u0644\\u0627\\u0642\\u0627\\u062a \\u0628\\u064a\\u0646 \\u0627\\u0644\\u062f\\u0648\\u0644\\u060c \\u0623\\u0644\\u0627 \\u0648\\u0647\\u064a \\u0627\\u0644\\u0642\\u0646\\u0627\\u0629 \\u0627\\u0644\\u062f\\u0628\\u0644\\u0648\\u0645\\u0627\\u0633\\u064a\\u0629\\u201d.\\n\\u0648\\u0623\\u0648\\u0636\\u062d\\u062a \\u0623\\u0646 \\u0627\\u0644\\u0642\\u0627\\u0626\\u0645 \\u0628\\u0627\\u0644\\u0623\\u0639\\u0645\\u0627\\u0644 \\u0628\\u0633\\u0641\\u0627\\u0631\\u0629 \\u0641\\u0631\\u0646\\u0633\\u0627 \\u0628\\u0627\\u0644\\u062c\\u0632\\u0627\\u0626\\u0631\\u060c \\u0627\\u0644\\u0630\\u064a \\u062a\\u0645 \\u0627\\u0633\\u062a\\u062f\\u0639\\u0627\\u0624\\u0647 \\u0623\\u0631\\u0628\\u0639 \\u0645\\u0631\\u0627\\u062a \\u0645\\u0646 \\u0642\\u0628\\u0644 \\u0648\\u0632\\u0627\\u0631\\u0629 \\u0627\\u0644\\u0634\\u0624\\u0648\\u0646 \\u0627\\u0644\\u062e\\u0627\\u0631\\u062c\\u064a\\u0629 \\u0641\\u064a \\u0647\\u0630\\u0627 \\u0627\\u0644\\u0634\\u0623\\u0646\\u060c \\u0623\\u0643\\u062f \\u0623\\u0646\\u0647: \\u201c\\u0644\\u0627 \\u064a\\u062d\\u0648\\u0632 \\u0639\\u0644\\u0649 \\u0623\\u064a \\u062a\\u0639\\u0644\\u064a\\u0645\\u0627\\u062a \\u0645\\u0646 \\u0648\\u0632\\u0627\\u0631\\u0629 \\u0627\\u0644\\u0634\\u0624\\u0648\\u0646 \\u0627\\u0644\\u062e\\u0627\\u0631\\u062c\\u064a\\u0629 \\u0627\\u0644\\u0641\\u0631\\u0646\\u0633\\u064a\\u0629. \\u0648\\u0628\\u0646\\u0641\\u0633 \\u0627\\u0644\\u0637\\u0631\\u064a\\u0642\\u0629\\u060c \\u0644\\u0645 \\u064a\\u062a\\u0645\\u0643\\u0646 \\u0647\\u0630\\u0627 \\u0627\\u0644\\u0623\\u062e\\u064a\\u0631\\u060c \\u0648\\u0625\\u0644\\u0649 \\u063a\\u0627\\u064a\\u0629 \\u0627\\u0644\\u064a\\u0648\\u0645 \\u0645\\u0646 \\u062a\\u0642\\u062f\\u064a\\u0645 \\u0623\\u064a \\u0631\\u062f \\u0639\\u0644\\u0649 \\u0627\\u0644\\u0637\\u0644\\u0628\\u0627\\u062a \\u0627\\u0644\\u062c\\u0632\\u0627\\u0626\\u0631\\u064a\\u0629 \\u0627\\u0644\\u0631\\u0633\\u0645\\u064a\\u0629 \\u0627\\u0644\\u0645\\u062a\\u0643\\u0631\\u0631\\u0629 \\u0644\\u062a\\u0648\\u0636\\u064a\\u062d \\u0627\\u0644\\u0645\\u0648\\u0642\\u0641 \\u0627\\u0644\\u0641\\u0631\\u0646\\u0633\\u064a \\u0628\\u062e\\u0635\\u0648\\u0635 \\u0647\\u0630\\u0627 \\u0627\\u0644\\u0645\\u0648\\u0636\\u0648\\u0639\\u201d.\\n\\u0648\\u062d\\u0645\\u0644\\u062a \\u0627\\u0644\\u062c\\u0632\\u0627\\u0626\\u0631 \\u0627\\u0644\\u062d\\u0643\\u0648\\u0645\\u0629 \\u0627\\u0644\\u0641\\u0631\\u0646\\u0633\\u064a\\u0629 \\u0645\\u0633\\u0624\\u0648\\u0644\\u064a\\u0629 \\u201c\\u0627\\u0644\\u0627\\u0646\\u062a\\u0647\\u0627\\u0643\\u0627\\u062a \\u0627\\u0644\\u0623\\u0648\\u0644\\u0649 \\u0644\\u0627\\u062a\\u0641\\u0627\\u0642 \\u0639\\u0627\\u0645 2013 \\u0627\\u0644\\u0645\\u062a\\u0639\\u0644\\u0642 \\u0628\\u0625\\u0639\\u0641\\u0627\\u0621 \\u062d\\u0627\\u0645\\u0644\\u064a \\u062c\\u0648\\u0627\\u0632\\u0627\\u062a \\u0627\\u0644\\u0633\\u0641\\u0631 \\u0627\\u0644\\u062f\\u0628\\u0644\\u0648\\u0645\\u0627\\u0633\\u064a\\u0629 \\u0648\\u062c\\u0648\\u0627\\u0632\\u0627\\u062a \\u0627\\u0644\\u0633\\u0641\\u0631 \\u0644\\u0645\\u0647\\u0645\\u0629 \\u0645\\u0646 \\u0627\\u0644\\u062a\\u0623\\u0634\\u064a\\u0631\\u0629. \\u0648\\u0647\\u064a \\u0627\\u0644\\u0627\\u0646\\u062a\\u0647\\u0627\\u0643\\u0627\\u062a \\u0627\\u0644\\u062a\\u064a \\u0623\\u0635\\u062f\\u0631\\u062a \\u0627\\u0644\\u0633\\u0644\\u0637\\u0627\\u062a \\u0627\\u0644\\u062c\\u0632\\u0627\\u0626\\u0631\\u064a\\u0629 \\u0628\\u0634\\u0623\\u0646\\u0647\\u0627\\u060c \\u0648\\u0641\\u064a \\u062d\\u064a\\u0646\\u0647\\u060c \\u0628\\u064a\\u0627\\u0646\\u0627\\u064b \\u0631\\u0633\\u0645\\u064a\\u0627\\u064b \\u064a\\u0639\\u0631\\u0628 \\u0639\\u0646 \\u0623\\u0633\\u0641\\u0647\\u0627\\u060c \\u0648\\u064a\\u062d\\u0645\\u0644 \\u0627\\u0644\\u0637\\u0631\\u0641 \\u0627\\u0644\\u0641\\u0631\\u0646\\u0633\\u064a \\u0627\\u0644\\u0645\\u0633\\u0624\\u0648\\u0644\\u064a\\u0629 \\u0627\\u0644\\u0643\\u0627\\u0645\\u0644\\u0629 \\u0628\\u062e\\u0635\\u0648\\u0635\\u0647\\u0627\\u201d.\\n\\u0648\\u0623\\u0639\\u0631\\u0628\\u062a \\u0627\\u0644\\u062c\\u0632\\u0627\\u0626\\u0631 \\u0639\\u0646 \\u0631\\u0641\\u0636\\u0647\\u0627 \\u0644\\u0640 \\u201c\\u0625\\u062f\\u0639\\u0627\\u0621 \\u0627\\u0644\\u0633\\u0644\\u0637\\u0627\\u062a \\u0627\\u0644\\u0641\\u0631\\u0646\\u0633\\u064a\\u0629 \\u0648\\u0645\\u0632\\u0627\\u0639\\u0645\\u0647\\u0627 \\u0628\\u0623\\u0646 \\u0627\\u0644\\u062c\\u0632\\u0627\\u0626\\u0631 \\u0643\\u0627\\u0646\\u062a \\u0627\\u0644\\u0637\\u0631\\u0641 \\u0627\\u0644\\u0623\\u0648\\u0644 \\u0627\\u0644\\u0630\\u064a \\u0623\\u062e\\u0644 \\u0628\\u0627\\u0644\\u062a\\u0632\\u0627\\u0645\\u0627\\u062a\\u0647 \\u0628\\u0645\\u0648\\u062c\\u0628 \\u0627\\u062a\\u0641\\u0627\\u0642 2013\\u060c \\u0648\\u062a\\u0639\\u062a\\u0628\\u0631\\u0647 \\u0627\\u062f\\u0639\\u0627\\u0621 \\u0644\\u0627 \\u064a\\u0633\\u062a\\u0646\\u062f \\u0625\\u0644\\u0649 \\u0623\\u064a \\u062d\\u0642\\u064a\\u0642\\u0629 \\u062a\\u062f\\u0639\\u0645\\u0647 \\u0648\\u0644\\u0627 \\u064a\\u0633\\u062a\\u0646\\u062f \\u0625\\u0644\\u0649 \\u0623\\u064a \\u0648\\u0627\\u0642\\u0639 \\u064a\\u0642\\u0631\\u0647\\u201d.\\n\\u0648\\u0623\\u0643\\u062f\\u062a \\u0641\\u064a\\u0645\\u0627 \\u064a\\u062a\\u0639\\u0644\\u0642\\u00a0 \\u0645\\u0633\\u0623\\u0644\\u0629 \\u0625\\u0639\\u0641\\u0627\\u0621 \\u062d\\u0627\\u0645\\u0644\\u064a \\u062c\\u0648\\u0627\\u0632\\u0627\\u062a \\u0627\\u0644\\u0633\\u0641\\u0631 \\u0627\\u0644\\u062f\\u0628\\u0644\\u0648\\u0645\\u0627\\u0633\\u064a\\u0629 \\u0648\\u062c\\u0648\\u0627\\u0632\\u0627\\u062a \\u0627\\u0644\\u0633\\u0641\\u0631 \\u0644\\u0645\\u0647\\u0645\\u0629 \\u0645\\u0646 \\u0627\\u0644\\u062a\\u0623\\u0634\\u064a\\u0631\\u0629 \\u0623\\u0646: \\u201c\\u0627\\u0644\\u062c\\u0632\\u0627\\u0626\\u0631 \\u0644\\u0645 \\u062a\\u0643\\u0646 \\u064a\\u0648\\u0645\\u0627 \\u0627\\u0644\\u0637\\u0631\\u0641 \\u0627\\u0644\\u0645\\u0637\\u0627\\u0644\\u0628 \\u0623\\u0648 \\u0627\\u0644\\u0645\\u0628\\u0627\\u062f\\u0631 \\u0628\\u0647\\u0627. \\u0641\\u0641\\u064a \\u0623\\u0639\\u0642\\u0627\\u0628 \\u0641\\u0631\\u0636 \\u0646\\u0638\\u0627\\u0645 \\u0627\\u0644\\u062a\\u0623\\u0634\\u064a\\u0631\\u0629 \\u0633\\u0646\\u0629 1986 \\u0639\\u0644\\u0649 \\u0631\\u0639\\u0627\\u064a\\u0627 \\u0627\\u0644\\u0628\\u0644\\u062f\\u064a\\u0646\\u060c \\u0628\\u0627\\u062f\\u0631\\u062a \\u0641\\u0631\\u0646\\u0633\\u0627 \\u0648\\u0644\\u0648\\u062d\\u062f\\u0647\\u0627 \\u0628\\u0627\\u0642\\u062a\\u0631\\u0627\\u062d \\u0625\\u0639\\u0641\\u0627\\u0621 \\u062d\\u0627\\u0645\\u0644\\u064a \\u062c\\u0648\\u0627\\u0632\\u0627\\u062a \\u0627\\u0644\\u0633\\u0641\\u0631 \\u0627\\u0644\\u062f\\u0628\\u0644\\u0648\\u0645\\u0627\\u0633\\u064a\\u0629 \\u0645\\u0646 \\u0647\\u0630\\u0627 \\u0627\\u0644\\u0625\\u062c\\u0631\\u0627\\u0621\\u060c \\u0648\\u0642\\u062f \\u0642\\u0648\\u0628\\u0644 \\u0647\\u0630\\u0627 \\u0627\\u0644\\u0645\\u0642\\u062a\\u0631\\u062d \\u0627\\u0644\\u0641\\u0631\\u0646\\u0633\\u064a \\u0623\\u0646\\u0630\\u0627\\u0643 \\u0628\\u0631\\u0641\\u0636 \\u0635\\u0631\\u064a\\u062d \\u0644\\u0627 \\u0644\\u0628\\u0633 \\u0641\\u064a\\u0647. \\u0648\\u0641\\u064a \\u0648\\u0642\\u062a \\u0644\\u0627\\u062d\\u0642\\u060c \\u0648\\u062e\\u0644\\u0627\\u0644 \\u062a\\u0633\\u0639\\u064a\\u0646\\u064a\\u0627\\u062a \\u0627\\u0644\\u0642\\u0631\\u0646 \\u0627\\u0644\\u0645\\u0627\\u0636\\u064a\\u060c \\u062c\\u062f\\u062f \\u0627\\u0644\\u0637\\u0631\\u0641 \\u0627\\u0644\\u0641\\u0631\\u0646\\u0633\\u064a \\u0647\\u0630\\u0627 \\u0627\\u0644\\u0627\\u0642\\u062a\\u0631\\u0627\\u062d \\u062b\\u0644\\u0627\\u062b \\u0645\\u0631\\u0627\\u062a \\u0648\\u0648\\u0627\\u062c\\u0647 \\u0641\\u064a \\u0643\\u0644 \\u0645\\u0631\\u0629 \\u0646\\u0641\\u0633 \\u0627\\u0644\\u0631\\u0641\\u0636 \\u0627\\u0644\\u0642\\u0627\\u0637\\u0639 \\u0645\\u0646 \\u0642\\u0628\\u0644 \\u0627\\u0644\\u062c\\u0627\\u0646\\u0628 \\u0627\\u0644\\u062c\\u0632\\u0627\\u0626\\u0631\\u064a\\u201d.\\n\\u0648\\u0642\\u0627\\u0644\\u062a \\u0627\\u0644\\u062c\\u0632\\u0627\\u0626\\u0631 \\u0623\\u0646\\u0647\\u0627 \\u201c\\u0644\\u0645 \\u062a\\u0648\\u0627\\u0641\\u0642 \\u0627\\u0644\\u062c\\u0632\\u0627\\u0626\\u0631 \\u0639\\u0644\\u0649 \\u0625\\u0628\\u0631\\u0627\\u0645 \\u0627\\u062a\\u0641\\u0627\\u0642 \\u062b\\u0646\\u0627\\u0626\\u0649 \\u064a\\u0642\\u0636\\u0649 \\u0628\\u0625\\u0639\\u0641\\u0627\\u0621 \\u062d\\u0627\\u0645\\u0644\\u064a \\u0627\\u0644\\u062c\\u0648\\u0627\\u0632\\u0627\\u062a \\u0627\\u0644\\u062f\\u0628\\u0644\\u0648\\u0645\\u0627\\u0633\\u064a\\u0629 \\u0645\\u0646 \\u0627\\u0644\\u062a\\u0623\\u0634\\u064a\\u0631\\u0629 \\u0625\\u0644\\u0627 \\u0633\\u0646\\u0629 2007\\u060c \\u0639\\u0646\\u062f\\u0645\\u0627 \\u0623\\u0639\\u0627\\u062f\\u062a \\u0641\\u0631\\u0646\\u0633\\u0627 \\u0637\\u0631\\u062d \\u0627\\u0644\\u0645\\u0648\\u0636\\u0648\\u0639 \\u0645\\u062c\\u062f\\u062f\\u064b\\u0627. \\u0648\\u0628\\u0639\\u062f \\u0630\\u0644\\u0643\\u060c \\u0648\\u0628\\u0645\\u0628\\u0627\\u062f\\u0631\\u0629 \\u0641\\u0631\\u0646\\u0633\\u064a\\u0629 \\u0643\\u0630\\u0644\\u0643\\u060c \\u062a\\u0645 \\u0627\\u0644\\u062a\\u0648\\u0635\\u0644 \\u0633\\u0646\\u0629 2013 \\u0625\\u0644\\u0649 \\u0627\\u062a\\u0641\\u0627\\u0642 \\u062c\\u062f\\u064a\\u062f \\u0648\\u0633\\u0639 \\u0627\\u0644\\u0625\\u0639\\u0641\\u0627\\u0621 \\u0644\\u064a\\u0634\\u0645\\u0644 \\u062d\\u0627\\u0645\\u0644\\u064a \\u062c\\u0648\\u0627\\u0632\\u0627\\u062a \\u0627\\u0644\\u0645\\u0647\\u0645\\u0629 \\u0648\\u0623\\u0644\\u063a\\u0649 \\u0627\\u0644\\u0627\\u062a\\u0641\\u0627\\u0642 \\u0627\\u0644\\u0645\\u062d\\u062f\\u0648\\u062f \\u0627\\u0644\\u0645\\u0628\\u0631\\u0645 \\u0633\\u0646\\u0629 2007\\u201d.\\n\\u0648\\u0625\\u0639\\u062a\\u0628\\u0631\\u062a \\u0627\\u0644\\u062c\\u0632\\u0627\\u0626\\u0631 \\u0623\\u0646 \\u201c\\u0627\\u0644\\u062d\\u0643\\u0648\\u0645\\u0629 \\u0627\\u0644\\u0641\\u0631\\u0646\\u0633\\u064a\\u0629 \\u062a\\u062a\\u062c\\u0647 \\u0646\\u062d\\u0648 \\u062a\\u062c\\u0645\\u064a\\u062f \\u0623\\u0648 \\u062a\\u0639\\u0644\\u064a\\u0642 \\u0627\\u0644\\u0639\\u0645\\u0644 \\u0628\\u0627\\u062a\\u0641\\u0627\\u0642 2013 \\u060c \\u0645\\u0639 \\u062d\\u0631\\u0635\\u0647\\u0627 \\u0639\\u0644\\u0649 \\u0627\\u0644\\u062a\\u0647\\u0631\\u0628 \\u0645\\u0646 \\u0645\\u0633\\u0624\\u0648\\u0644\\u064a\\u0627\\u062a\\u0647\\u0627 \\u0648\\u0645\\u0646 \\u0627\\u0644\\u0646\\u062a\\u0627\\u0626\\u062c \\u0627\\u0644\\u0645\\u062a\\u0631\\u062a\\u0628\\u0629 \\u0639\\u0646 \\u0647\\u0630\\u0627 \\u0627\\u0644\\u0625\\u062c\\u0631\\u0627\\u0621\\u060c \\u0641\\u064a \\u062e\\u0631\\u0642 \\u0635\\u0627\\u0631\\u062e \\u0644\\u0623\\u062d\\u0643\\u0627\\u0645 \\u0627\\u0644\\u0627\\u062a\\u0641\\u0627\\u0642 \\u0630\\u0627\\u062a\\u0647\\u201d.\\n\\u0648\\u0623\\u0634\\u0627\\u0631\\u062a \\u0623\\u0646\\u0647\\u0627 \\u0644\\u0627 \\u062a\\u0631\\u0649 \\u0641\\u064a \\u0647\\u0630\\u0627 \\u0627\\u0644\\u0627\\u062a\\u0641\\u0627\\u0642 \\u0623\\u064a \\u201c\\u0645\\u0635\\u0644\\u062d\\u0629 \\u062e\\u0627\\u0635\\u0629 \\u0648\\u0644\\u0627 \\u062a\\u0628\\u062f\\u064a \\u0623\\u064a \\u062a\\u0639\\u0644\\u0642 \\u0645\\u062d\\u062f\\u062f \\u0628\\u0634\\u0623\\u0646\\u0647. \\u0648\\u062a\\u0633\\u062c\\u0644 \\u0627\\u0644\\u062c\\u0632\\u0627\\u0626\\u0631 \\u0639\\u0644\\u0649 \\u0627\\u0644\\u0648\\u062c\\u0647 \\u0627\\u0644\\u0648\\u0627\\u062c\\u0628\\u060c \\u0645\\u0627 \\u064a\\u064f\\u0639\\u062f \\u0628\\u0645\\u062b\\u0627\\u0628\\u0629 \\u062a\\u0639\\u0644\\u064a\\u0642 \\u0641\\u0639\\u0644\\u064a \\u0644\\u0627\\u062a\\u0641\\u0627\\u0642 \\u0633\\u0646\\u0629 2013 \\u0645\\u0646 \\u0642\\u0628\\u0644 \\u0627\\u0644\\u0637\\u0631\\u0641 \\u0627\\u0644\\u0641\\u0631\\u0646\\u0633\\u064a\\u060c \\u062f\\u0648\\u0646 \\u0627\\u062d\\u062a\\u0631\\u0627\\u0645 \\u0647\\u0630\\u0627 \\u0627\\u0644\\u0623\\u062e\\u064a\\u0631 \\u0644\\u0644\\u0625\\u062c\\u0631\\u0627\\u0621\\u0627\\u062a \\u0627\\u0644\\u0642\\u0627\\u0646\\u0648\\u0646\\u064a\\u0629 \\u0627\\u0644\\u0645\\u062a\\u0648\\u062e\\u0627\\u0629. \\u0643\\u0645\\u0627 \\u0623\\u0646\\u0647\\u0627 \\u062a\\u0633\\u062a\\u062e\\u0644\\u0635 \\u0645\\u0627 \\u064a\\u062a\\u0631\\u062a\\u0628 \\u0639\\u0646 \\u0647\\u0630\\u0627 \\u0627\\u0644\\u062a\\u0648\\u062c\\u0647 \\u0645\\u0646 \\u062a\\u0628\\u0639\\u0627\\u062a\\u060c \\u0648\\u0633\\u062a\\u0631\\u062f \\u0639\\u0644\\u064a\\u0647 \\u0645\\u0646 \\u062e\\u0644\\u0627\\u0644 \\u062a\\u0637\\u0628\\u064a\\u0642 \\u062f\\u0642\\u064a\\u0642 \\u0648\\u0635\\u0627\\u0631\\u0645 \\u0644\\u0645\\u0628\\u062f\\u0623 \\u0627\\u0644\\u0645\\u0639\\u0627\\u0645\\u0644\\u0629 \\u0628\\u0627\\u0644\\u0645\\u062b\\u0644\\u060c \\u0628\\u0645\\u0627 \\u064a\\u0639\\u0627\\u062f\\u0644 \\u0645\\u0642\\u062f\\u0627\\u0631 \\u0625\\u062e\\u0644\\u0627\\u0644 \\u0627\\u0644\\u0637\\u0631\\u0641 \\u0627\\u0644\\u0641\\u0631\\u0646\\u0633\\u064a \\u0628\\u0627\\u0644\\u062a\\u0632\\u0627\\u0645\\u0627\\u062a\\u0647 \\u0648\\u062a\\u0639\\u0647\\u062f\\u0627\\u062a\\u0647\\u201d.\",\n          \"\\u0643\\u0648\\u062f \\u0627\\u0644\\u0631\\u0628\\u0627\\u0637//\\n\\u0623\\u0643\\u062f \\u0631\\u0626\\u064a\\u0633 \\u0627\\u0644\\u062d\\u0643\\u0648\\u0645\\u0629\\u060c \\u0639\\u0632\\u064a\\u0632 \\u0623\\u062e\\u0646\\u0648\\u0634\\u060c \\u0623\\u0646 \\u0627\\u0633\\u062a\\u0639\\u0627\\u062f\\u0629 \\u062b\\u0642\\u0629 \\u0627\\u0644\\u0623\\u0633\\u0631 \\u0627\\u0644\\u0645\\u063a\\u0631\\u0628\\u064a\\u0629 \\u0641\\u064a \\u0627\\u0644\\u0645\\u062f\\u0631\\u0633\\u0629 \\u0627\\u0644\\u0639\\u0645\\u0648\\u0645\\u064a\\u0629 \\u064a\\u062a\\u0637\\u0644\\u0628 \\u0642\\u0637\\u064a\\u0639\\u0629 \\u062d\\u0642\\u064a\\u0642\\u064a\\u0629 \\u0645\\u0639 \\u0627\\u0644\\u0623\\u0633\\u0627\\u0644\\u064a\\u0628 \\u0627\\u0644\\u0633\\u0627\\u0628\\u0642\\u0629 \\u0641\\u064a \\u0625\\u0635\\u0644\\u0627\\u062d \\u0627\\u0644\\u062a\\u0639\\u0644\\u064a\\u0645\\u060c \\u0648\\u0627\\u0644\\u062a\\u064a \\u0643\\u0627\\u0646\\u062a \\u0639\\u0627\\u062c\\u0632\\u0629 \\u0639\\u0646 \\u0636\\u0645\\u0627\\u0646 \\u0627\\u0644\\u062a\\u0639\\u0644\\u0645\\u0627\\u062a \\u0627\\u0644\\u0623\\u0633\\u0627\\u0633 \\u0644\\u0644\\u062a\\u0644\\u0627\\u0645\\u064a\\u0630 \\u0648\\u0627\\u0644\\u062d\\u062f \\u0645\\u0646 \\u0638\\u0627\\u0647\\u0631\\u0629 \\u0627\\u0644\\u0647\\u062f\\u0631 \\u0627\\u0644\\u0645\\u062f\\u0631\\u0633\\u064a.\\n\\u0648\\u0641\\u064a \\u0645\\u062f\\u0627\\u062e\\u0644\\u062a\\u0647 \\u062e\\u0644\\u0627\\u0644 \\u062c\\u0644\\u0633\\u0629 \\u0627\\u0644\\u0645\\u0633\\u0627\\u0621\\u0644\\u0629 \\u0627\\u0644\\u0634\\u0647\\u0631\\u064a\\u0629\\u060c \\u0627\\u0644\\u064a\\u0648\\u0645 \\u0628\\u0645\\u062c\\u0644\\u0633 \\u0627\\u0644\\u0646\\u0648\\u0627\\u0628\\u060c \\u0634\\u062f\\u062f \\u0623\\u062e\\u0646\\u0648\\u0634 \\u0639\\u0644\\u0649 \\u0623\\u0646 \\u0627\\u0644\\u0647\\u0627\\u062c\\u0633 \\u0627\\u0644\\u0645\\u0634\\u062a\\u0631\\u0643 \\u0628\\u064a\\u0646 \\u0627\\u0644\\u062d\\u0643\\u0648\\u0645\\u0629 \\u0648\\u0627\\u0644\\u0628\\u0631\\u0644\\u0645\\u0627\\u0646 \\u0647\\u0648 \\u0625\\u0639\\u0627\\u062f\\u0629 \\u0628\\u0646\\u0627\\u0621 \\u0647\\u0630\\u0647 \\u0627\\u0644\\u062b\\u0642\\u0629\\u060c \\u0645\\u0634\\u064a\\u0631\\u0627\\u064b \\u0625\\u0644\\u0649 \\u0623\\u0646 \\u0627\\u0644\\u0648\\u0627\\u0642\\u0639 \\u0627\\u0644\\u062d\\u0627\\u0644\\u064a \\u0644\\u0644\\u0645\\u062f\\u0631\\u0633\\u0629 \\u0627\\u0644\\u0645\\u063a\\u0631\\u0628\\u064a\\u0629 \\u064a\\u0643\\u0634\\u0641 \\u0639\\u0646 \\u0623\\u0632\\u0645\\u0629 \\u062a\\u0639\\u0644\\u064a\\u0645\\u064a\\u0629 \\u0639\\u0645\\u064a\\u0642\\u0629\\u060c \\u0648\\u062b\\u0651\\u0642\\u062a\\u0647\\u0627 \\u062a\\u0642\\u064a\\u064a\\u0645\\u0627\\u062a \\u0648\\u0637\\u0646\\u064a\\u0629 \\u0648\\u062f\\u0648\\u0644\\u064a\\u0629.\\n\\u0648\\u0623\\u0634\\u0627\\u0631 \\u0625\\u0644\\u0649 \\u0623\\u0646 \\u0646\\u062a\\u0627\\u0626\\u062c \\u0627\\u0644\\u0628\\u0631\\u0646\\u0627\\u0645\\u062c \\u0627\\u0644\\u0648\\u0637\\u0646\\u064a \\u0644\\u062a\\u0642\\u064a\\u064a\\u0645 \\u0627\\u0644\\u0645\\u0643\\u062a\\u0633\\u0628\\u0627\\u062a (PNEA 2019) \\u0648\\u0627\\u062e\\u062a\\u0628\\u0627\\u0631\\u0627\\u062a \\u0627\\u0644\\u062a\\u0642\\u064a\\u064a\\u0645 \\u0627\\u0644\\u062f\\u0648\\u0644\\u064a\\u0629 (PISA 2018) \\u0623\\u0638\\u0647\\u0631\\u062a \\u0623\\u0646 \\u0641\\u0642\\u0637 30% \\u0645\\u0646 \\u062a\\u0644\\u0627\\u0645\\u064a\\u0630 \\u0627\\u0644\\u062a\\u0639\\u0644\\u064a\\u0645 \\u0627\\u0644\\u0639\\u0645\\u0648\\u0645\\u064a \\u064a\\u062a\\u062d\\u0643\\u0645\\u0648\\u0646 \\u0641\\u064a \\u0627\\u0644\\u0645\\u0642\\u0631\\u0631 \\u0627\\u0644\\u062f\\u0631\\u0627\\u0633\\u064a \\u0639\\u0646\\u062f \\u0627\\u0633\\u062a\\u0643\\u0645\\u0627\\u0644 \\u0627\\u0644\\u0645\\u0631\\u062d\\u0644\\u0629 \\u0627\\u0644\\u0627\\u0628\\u062a\\u062f\\u0627\\u0626\\u064a\\u0629\\u060c \\u0641\\u064a\\u0645\\u0627 \\u0627\\u062d\\u062a\\u0644 \\u0627\\u0644\\u0645\\u063a\\u0631\\u0628 \\u0627\\u0644\\u0645\\u0631\\u062a\\u0628\\u0629 75 \\u0645\\u0646 \\u0623\\u0635\\u0644 79 \\u062f\\u0648\\u0644\\u0629 \\u0645\\u0646 \\u062d\\u064a\\u062b \\u0627\\u0644\\u062d\\u062f \\u0627\\u0644\\u0623\\u062f\\u0646\\u0649 \\u0644\\u0644\\u0643\\u0641\\u0627\\u064a\\u0627\\u062a \\u0627\\u0644\\u0623\\u0633\\u0627\\u0633.\\n\\u0648\\u0641\\u064a \\u0645\\u0627 \\u064a\\u062e\\u0635 \\u0627\\u0644\\u0647\\u062f\\u0631 \\u0627\\u0644\\u0645\\u062f\\u0631\\u0633\\u064a\\u060c \\u0643\\u0634\\u0641 \\u0623\\u062e\\u0646\\u0648\\u0634 \\u0623\\u0646 \\u0627\\u0644\\u0645\\u063a\\u0631\\u0628 \\u064a\\u0633\\u062c\\u0644 \\u0633\\u0646\\u0648\\u064a\\u064b\\u0627 \\u062d\\u0648\\u0627\\u0644\\u064a 300 \\u0623\\u0644\\u0641 \\u062d\\u0627\\u0644\\u0629 \\u0627\\u0646\\u0642\\u0637\\u0627\\u0639 \\u0639\\u0646 \\u0627\\u0644\\u062f\\u0631\\u0627\\u0633\\u0629 \\u0645\\u0646\\u0630 \\u0633\\u0646\\u0629 2016\\u060c \\u0633\\u0648\\u0627\\u0621 \\u0641\\u064a \\u0627\\u0644\\u0645\\u062f\\u0646 \\u0623\\u0648 \\u0627\\u0644\\u0642\\u0631\\u0649\\u060c \\u0648\\u0647\\u0648 \\u0645\\u0627 \\u0648\\u0635\\u0641\\u0647 \\u0628\\u0640\\u201d\\u0627\\u0644\\u0648\\u0636\\u0639 \\u0627\\u0644\\u0645\\u0642\\u0644\\u0642\\u201d.\\n\\u0623\\u0645\\u0627\\u0645 \\u0647\\u0630\\u0627 \\u0627\\u0644\\u0648\\u0627\\u0642\\u0639\\u060c \\u0623\\u0643\\u062f \\u0631\\u0626\\u064a\\u0633 \\u0627\\u0644\\u062d\\u0643\\u0648\\u0645\\u0629 \\u0623\\u0646 \\u0627\\u0644\\u0625\\u0635\\u0644\\u0627\\u062d \\u0627\\u0644\\u062a\\u0631\\u0628\\u0648\\u064a \\u064a\\u0645\\u0631 \\u0639\\u0628\\u0631 \\u062a\\u062c\\u062f\\u064a\\u062f \\u062c\\u0630\\u0631\\u064a \\u0644\\u0644\\u0627\\u062e\\u062a\\u064a\\u0627\\u0631\\u0627\\u062a \\u0627\\u0644\\u062a\\u0631\\u0628\\u0648\\u064a\\u0629\\u060c \\u0645\\u0648\\u0636\\u062d\\u0627\\u064b \\u0623\\u0646 \\u0648\\u0632\\u0627\\u0631\\u0629 \\u0627\\u0644\\u062a\\u0631\\u0628\\u064a\\u0629 \\u0627\\u0644\\u0648\\u0637\\u0646\\u064a\\u0629\\u060c \\u0628\\u0639\\u062f \\u0633\\u0644\\u0633\\u0644\\u0629 \\u0645\\u0634\\u0627\\u0648\\u0631\\u0627\\u062a \\u0648\\u0627\\u0633\\u0639\\u0629\\u060c \\u0628\\u0644\\u0648\\u0631\\u062a \\u062e\\u0627\\u0631\\u0637\\u0629 \\u0637\\u0631\\u064a\\u0642 \\u0644\\u0625\\u0635\\u0644\\u0627\\u062d \\u0627\\u0644\\u062a\\u0639\\u0644\\u064a\\u0645 2022-2026. \\u0648\\u062a\\u0633\\u062a\\u0646\\u062f \\u0647\\u0630\\u0647 \\u0627\\u0644\\u062e\\u0627\\u0631\\u0637\\u0629 \\u0625\\u0644\\u0649 \\u0627\\u0644\\u0642\\u0627\\u0646\\u0648\\u0646 \\u0627\\u0644\\u0625\\u0637\\u0627\\u0631 \\u0648\\u062a\\u0642\\u0627\\u0637\\u0639\\u0627\\u062a\\u0647 \\u0645\\u0639 \\u0627\\u0644\\u0628\\u0631\\u0646\\u0627\\u0645\\u062c \\u0627\\u0644\\u062d\\u0643\\u0648\\u0645\\u064a\\u060c \\u0648\\u062a\\u0631\\u062a\\u0643\\u0632 \\u0639\\u0644\\u0649 \\u062b\\u0644\\u0627\\u062b \\u062f\\u0639\\u0627\\u0645\\u0627\\u062a \\u0631\\u0626\\u064a\\u0633\\u064a\\u0629: \\u0627\\u0644\\u062a\\u0644\\u0645\\u064a\\u0630\\u060c \\u0627\\u0644\\u0623\\u0633\\u062a\\u0627\\u0630\\u060c \\u0648\\u0627\\u0644\\u0645\\u062f\\u0631\\u0633\\u0629.\"\n        ],\n        \"semantic_type\": \"\",\n        \"description\": \"\"\n      }\n    },\n    {\n      \"column\": \"images\",\n      \"properties\": {\n        \"dtype\": \"string\",\n        \"num_unique_values\": 6,\n        \"samples\": [\n          \"https://sf.goud.ma/wp-content/uploads/2025/05/IMG_6831-876x506.jpeg\",\n          \"https://sf.goud.ma/wp-content/uploads/2025/05/IMG_5935-802x506.jpeg\",\n          \"https://sf.goud.ma/wp-content/uploads/2025/05/IMG_6843-758x506.jpeg\"\n        ],\n        \"semantic_type\": \"\",\n        \"description\": \"\"\n      }\n    }\n  ]\n}"
            }
          },
          "metadata": {},
          "execution_count": 7
        }
      ],
      "source": [
        "# Create a DataFrame\n",
        "df = pd.DataFrame(data)\n",
        "df"
      ]
    },
    {
      "cell_type": "markdown",
      "id": "c7d7c779",
      "metadata": {
        "id": "c7d7c779"
      },
      "source": [
        "## Saving to HuggingFace 🤗\n",
        "\n",
        "Finally, let's share our dataset on HuggingFace. This makes it easy to:\n",
        "- Share your data with others\n",
        "- Use it in other AI projects\n",
        "- Track changes to your dataset\n",
        "\n",
        "To use this part, you'll need to:\n",
        "1. Create a HuggingFace account\n",
        "2. Get your write token from https://huggingface.co/settings/tokens\n",
        "3. Replace `HF_WRITE_TOKEN` with your token\n",
        "4. Change `HF_DATASET_REPO` to your username/dataset name\n",
        "\n"
      ]
    },
    {
      "cell_type": "code",
      "execution_count": 8,
      "id": "bffcf41d",
      "metadata": {
        "id": "bffcf41d"
      },
      "outputs": [],
      "source": [
        "from datasets import Dataset\n",
        "\n",
        "# Convert pandas DataFrame to HuggingFace Dataset\n",
        "dataset = Dataset.from_pandas(df)\n",
        "\n",
        "# Uncomment and fill these to push to HuggingFace\n",
        "# HF_WRITE_TOKEN = \"your_token_here\"  # Get from https://huggingface.co/settings/tokens\n",
        "# HF_DATASET_REPO = \"your_username/dataset_name\"\n",
        "# dataset.push_to_hub(HF_DATASET_REPO, token=HF_WRITE_TOKEN)"
      ]
    },
    {
      "cell_type": "markdown",
      "id": "617b1a33",
      "metadata": {
        "id": "617b1a33"
      },
      "source": [
        "## Congratulations! 🎉\n",
        "\n",
        "You've successfully:\n",
        "- Scraped a website using BeautifulSoup4\n",
        "- Extracted structured data\n",
        "- Organized it in a pandas DataFrame\n",
        "- Prepared it for sharing on HuggingFace\n",
        "\n",
        "## Next Steps 🚀\n",
        "- Try scraping a different website\n",
        "- Add more data fields (like dates, authors, etc.)\n",
        "- Clean the text data (remove extra spaces, special characters)\n",
        "- Create visualizations of your data"
      ]
    }
  ],
  "metadata": {
    "kernelspec": {
      "display_name": "Python 3 (ipykernel)",
      "language": "python",
      "name": "python3"
    },
    "colab": {
      "provenance": []
    }
  },
  "nbformat": 4,
  "nbformat_minor": 5
}